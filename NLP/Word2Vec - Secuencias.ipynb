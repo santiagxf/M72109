{
 "cells": [
  {
   "cell_type": "markdown",
   "source": [
    "```\n",
    "ME72: Maestría en Métodos Cuantitativos para la Gestión y Análisis de Datos\n",
    "M72109: Analisis de Datos no Estructurados\n",
    "Universidad de Buenos Aires - Facultad de Ciencias Economicas (UBA-FCE)\n",
    "Año: 2020\n",
    "Profesor: Facundo Santiago, Javier Ignacio Garcia Fronti\n",
    "```"
   ],
   "metadata": {
    "colab_type": "text",
    "id": "YwgO1F_Edis2"
   }
  },
  {
   "cell_type": "markdown",
   "source": [
    "# Word2Vec - Modelos basados en secuencias"
   ],
   "metadata": {
    "colab_type": "text",
    "id": "nQGxT74Sdis4"
   }
  },
  {
   "cell_type": "markdown",
   "source": [
    "Los modelos basados en secuencias tienen la fortaleza que toman una secuencia de token (en un determinado orden) y generan una salida dependiendo del tipo de problema que se trate.\n",
    " - Seq2Class: Toman una secuencia de tokens y generan una clase\n",
    " - Seq2Seq: Toman una secuencia de token y generan otra secuencia de tokens. \n",
    " \n",
    "En este notebook exploraremos este tipo de modelos utilizandolos de la mano de word2vec:"
   ],
   "metadata": {
    "colab_type": "text",
    "id": "vjuHJnQOdis6"
   }
  },
  {
   "cell_type": "markdown",
   "source": [
    "## Prepración del ambiente"
   ],
   "metadata": {
    "colab_type": "text",
    "id": "Dcyc_TQ6dis7"
   }
  },
  {
   "cell_type": "code",
   "execution_count": 13,
   "source": [
    "import warnings\n",
    "warnings.filterwarnings('ignore')"
   ],
   "outputs": [],
   "metadata": {
    "colab": {},
    "colab_type": "code",
    "id": "Ntcs1AlpfckX"
   }
  },
  {
   "cell_type": "markdown",
   "source": [
    "Descarguemos algunos fragmentos de código para simplificar el trabajo"
   ],
   "metadata": {
    "colab_type": "text",
    "id": "GLBYh0gcdis7"
   }
  },
  {
   "cell_type": "code",
   "execution_count": null,
   "source": [
    "!wget -N https://raw.githubusercontent.com/santiagxf/M72109/master/NLP/Utils/TextNormalizer.py --directory-prefix ./Utils/\n",
    "!wget -N https://raw.githubusercontent.com/santiagxf/M72109/master/NLP/Utils/PadSequenceTransformer.py --directory-prefix ./Utils/\n",
    "!wget -N https://raw.githubusercontent.com/santiagxf/M72109/master/NLP/Utils/Word2VecVectorizer.py --directory-prefix ./Utils/"
   ],
   "outputs": [],
   "metadata": {
    "colab": {
     "base_uri": "https://localhost:8080/",
     "height": 0
    },
    "colab_type": "code",
    "id": "W2Tgi0_Bdis8",
    "outputId": "e1926bbd-9bbb-485e-f74f-1f21ac159e03"
   }
  },
  {
   "cell_type": "markdown",
   "source": [
    "Descargamos el set de datos"
   ],
   "metadata": {
    "colab_type": "text",
    "id": "xT0pDh4mditF"
   }
  },
  {
   "cell_type": "code",
   "execution_count": null,
   "source": [
    "!wget https://raw.githubusercontent.com/santiagxf/M72109/master/NLP/Datasets/mascorpus/tweets_marketing.csv --directory-prefix ./Datasets/mascorpus/"
   ],
   "outputs": [],
   "metadata": {
    "colab": {
     "base_uri": "https://localhost:8080/",
     "height": 0
    },
    "colab_type": "code",
    "id": "7yWadu1pditF",
    "outputId": "d274c0dc-2a39-4bff-b918-b47406c70630"
   }
  },
  {
   "cell_type": "markdown",
   "source": [
    "Descargamos nuestros vectores de word2vec en español"
   ],
   "metadata": {
    "colab_type": "text",
    "id": "Gl18LLmkeqjx"
   }
  },
  {
   "cell_type": "code",
   "execution_count": null,
   "source": [
    "!mkdir -p ./Models/Word2Vec\n",
    "!wget https://santiagxf.blob.core.windows.net/public/Word2Vec/model.bin --directory-prefix ./Models/Word2Vec"
   ],
   "outputs": [],
   "metadata": {
    "colab": {
     "base_uri": "https://localhost:8080/",
     "height": 0
    },
    "colab_type": "code",
    "id": "LJVkiH2lesN1",
    "outputId": "601bd944-7669-47dc-b0ca-7aa67938c492"
   }
  },
  {
   "cell_type": "markdown",
   "source": [
    "Instalamos las librerias necesarias"
   ],
   "metadata": {
    "colab_type": "text",
    "id": "0rRpBRahditI"
   }
  },
  {
   "cell_type": "code",
   "execution_count": null,
   "source": [
    "!pip install unidecode\n",
    "!python -m spacy download es_core_news_sm"
   ],
   "outputs": [],
   "metadata": {
    "colab": {
     "base_uri": "https://localhost:8080/",
     "height": 0
    },
    "colab_type": "code",
    "id": "UgVf9-V7ditI",
    "outputId": "4a451c22-3615-471e-dd17-22b4c56b589f"
   }
  },
  {
   "cell_type": "markdown",
   "source": [
    "Cargamos el set de datos"
   ],
   "metadata": {
    "colab_type": "text",
    "id": "CC7vGpjqditL"
   }
  },
  {
   "cell_type": "code",
   "execution_count": 4,
   "source": [
    "import pandas as pd\n",
    "\n",
    "tweets = pd.read_csv('Datasets/mascorpus/tweets_marketing.csv')"
   ],
   "outputs": [],
   "metadata": {
    "colab": {},
    "colab_type": "code",
    "id": "pmJpenUkditM"
   }
  },
  {
   "cell_type": "code",
   "execution_count": 5,
   "source": [
    "from sklearn.model_selection import train_test_split\n",
    "\n",
    "X_train, X_test, y_train, y_test = train_test_split(tweets['TEXTO'], tweets['SECTOR'], \n",
    "                                                    test_size=0.33, \n",
    "                                                    stratify=tweets['SECTOR'])"
   ],
   "outputs": [],
   "metadata": {
    "colab": {},
    "colab_type": "code",
    "id": "RKrEadrGditO"
   }
  },
  {
   "cell_type": "markdown",
   "source": [
    "## Preprocesamiento de texto"
   ],
   "metadata": {
    "colab_type": "text",
    "id": "kwRwMqoSditT"
   }
  },
  {
   "cell_type": "markdown",
   "source": [
    "Al igual que con Topic Modeling, nuestro primer paso es preprocesar el texto. Para focalizarnos en Word2Vec en este modulo, les preparé un modulo TweetTextNormalizer que hará todo el preprocesamiento por nosotros. Pueden explorar los parametros que recibe el constructor de esta clase para ver que opciones podemos configurar como Stemmer, Lemmatization, etc.\n",
    "\n",
    "En lo particular, estamos creando un TweetTextNormalizer que:\n",
    " - Aplicará un tokenizer especifico para Twitter\n",
    " - Eliminará stop words\n",
    " - Aplicará lemmatization\n",
    " - Eliminará URLs\n",
    " - Eliminará acentos\n",
    " - Eliminará las mayusculas\n",
    " \n",
    "Adicionalmente, el parametro text_to_sequence=True indica que la salida de este proceso no serán oraciones sino que tokens."
   ],
   "metadata": {
    "colab_type": "text",
    "id": "_qrYYZ0FditT"
   }
  },
  {
   "cell_type": "code",
   "execution_count": 6,
   "source": [
    "from Utils.TextNormalizer import TweetTextNormalizer"
   ],
   "outputs": [],
   "metadata": {
    "colab": {},
    "colab_type": "code",
    "id": "Jnuzl8qbditU"
   }
  },
  {
   "cell_type": "code",
   "execution_count": 7,
   "source": [
    "normalizer = TweetTextNormalizer(preserve_case=False,text_to_sequence=True)"
   ],
   "outputs": [],
   "metadata": {
    "colab": {},
    "colab_type": "code",
    "id": "kFYzMdiCditX"
   }
  },
  {
   "cell_type": "markdown",
   "source": [
    "Podemos probar como funciona:"
   ],
   "metadata": {
    "colab_type": "text",
    "id": "6sD5jK6ndita"
   }
  },
  {
   "cell_type": "code",
   "execution_count": null,
   "source": [],
   "outputs": [],
   "metadata": {
    "colab": {},
    "colab_type": "code",
    "id": "ldKc0udIditb"
   }
  },
  {
   "cell_type": "markdown",
   "source": [
    "## Vectorización de las palabras"
   ],
   "metadata": {
    "colab_type": "text",
    "id": "QdoLyHg9ditd"
   }
  },
  {
   "cell_type": "markdown",
   "source": [
    "En las actividades anteriores utilizamos siempre un TF-IDF vectorizer para generar los vectores. En esta oportunidad utilizaremos Word2Vec utilizando un modelo pre-entrenado para el idioma español. Adicionalmente, vemos que este vectorizer tiene el parametro sequence_to_idx en Verdadero. Esto significa que no queremos que como salida obtengamos los vectores de Word2Vec, sino que queremos \"el indice\" que se corresponde a la palabra en una matriz de indice-palabra/vectores. "
   ],
   "metadata": {
    "colab_type": "text",
    "id": "a9iuTrwXditd"
   }
  },
  {
   "cell_type": "code",
   "execution_count": 11,
   "source": [
    "from Utils.Word2VecVectorizer import Word2VecVectorizer"
   ],
   "outputs": [],
   "metadata": {
    "colab": {},
    "colab_type": "code",
    "id": "jE-SlBWddite"
   }
  },
  {
   "cell_type": "code",
   "execution_count": 12,
   "source": [
    "w2v = Word2VecVectorizer(model_path='Models/Word2Vec/model.bin', sequence_to_idx=True)\n",
    "embedding_weights = w2v.get_weights()"
   ],
   "outputs": [
    {
     "output_type": "stream",
     "name": "stderr",
     "text": [
      "/usr/local/lib/python3.6/dist-packages/smart_open/smart_open_lib.py:254: UserWarning: This function is deprecated, use smart_open.open instead. See the migration notes for details: https://github.com/RaRe-Technologies/smart_open/blob/master/README.rst#migrating-to-the-new-open-function\n",
      "  'See the migration notes for details: %s' % _MIGRATION_NOTES_URL\n"
     ]
    }
   ],
   "metadata": {
    "colab": {
     "base_uri": "https://localhost:8080/",
     "height": 71
    },
    "colab_type": "code",
    "id": "vkWxVLPYditg",
    "outputId": "50655397-0e29-455d-b6db-3d3454968785"
   }
  },
  {
   "cell_type": "markdown",
   "source": [
    "El método get_weights() construye la matríz de indice-palabra/vector que luego será utilizado para encontrar los vectores correspondientes de cada palabra. Esta matriz tiene dimensiones m x n, donde m es la cantidad de palabras del vocabulario y n la dimensión de los vectores de word2vec. En este caso trabajamos con vectores de dimensionalidad 100."
   ],
   "metadata": {
    "colab_type": "text",
    "id": "UtL8BkQPditk"
   }
  },
  {
   "cell_type": "markdown",
   "source": [
    "## Modelos basados en sequencias"
   ],
   "metadata": {
    "colab_type": "text",
    "id": "uBNY37iIditm"
   }
  },
  {
   "cell_type": "markdown",
   "source": [
    "Vimos que cuando aplicamos técnicas de Topic Modeling, intentamos reducir la cantidad de dimensiones de nuestras representaciones de palabras para luego utilizar un clasificador para resolver la tarea en cuestión. Sin embargo, la suponsición básica de ese tipo de modelos es que un texto no es mas que una distribución de palabras (bag of words). Sin embargo, nosotros sabemos que un texto es una secuencia de palabras donde importa el orden. Para capturar este tipo de propiedades podemos utilizar modelos basados en secuencias."
   ],
   "metadata": {
    "colab_type": "text",
    "id": "CQ48nni-ditm"
   }
  },
  {
   "cell_type": "markdown",
   "source": [
    "### Construirmos un modelo basado en secuencias"
   ],
   "metadata": {
    "colab_type": "text",
    "id": "b5xcthcLditn"
   }
  },
  {
   "cell_type": "markdown",
   "source": [
    "Para construir nuestro modelo, utilizaremos TensorFlow. En particular utilizaremos la API de Keras que nos permite componer modelos de redes neuronales como una secuencia de pasos o capas que se conectan en una dirección. \n",
    "\n",
    "Utilizemos los siguientes tipos de capas:\n",
    " *  **Embedding:** Esta capa transforma vectores que representan indices dentro de una matriz en representaciones vectoriales densas. Básicamente en este caso nos resolverá la busqueda de las representaciones vectoriales para nuestras palabras.\n",
    " * **SpatialDropout1D:** Este tipo de capas ayudan a promover la independencia entre filtros (feature maps). Funciona en forma analoga a Dropout pero en lugar de desconectar elementos individuales, desconecta el filtro completo.\n",
    " * **LSTM:** Long Short-Term Memory layer - Hochreiter 1997\n",
    " * **Dense:** Una típica capa de una red neuronal completamente conectada (fully connected)"
   ],
   "metadata": {
    "colab_type": "text",
    "id": "EfDgmTOCdito"
   }
  },
  {
   "cell_type": "markdown",
   "source": [
    "Algunos detalles para notar:\n",
    " * *loss='sparse_categorical_crossentropy'*, este problema de clasificación (crossentropy) de más de una clase (categorical). Sin embargo, nuestro output produce probabilidades de cada una de las clases posibles (7) en forma one-hot encoding. \n",
    " * *metrics=['accuracy']*: Si bien nuestra metrica es accuracy, Keras hará un promedio ponderado del accuracy de cada clase. Este es el comportamiento por defecto."
   ],
   "metadata": {
    "colab_type": "text",
    "id": "lnhHx7Pddito"
   }
  },
  {
   "cell_type": "code",
   "execution_count": 14,
   "source": [
    "import tensorflow as tf\n",
    "import tensorflow.keras as keras\n",
    "from tensorflow.keras.models import Sequential, Model\n",
    "from tensorflow.keras.layers import Embedding, LSTM, Dense, Input, SpatialDropout1D"
   ],
   "outputs": [],
   "metadata": {
    "colab": {},
    "colab_type": "code",
    "id": "LQ2C980jditp"
   }
  },
  {
   "cell_type": "code",
   "execution_count": 15,
   "source": [
    "def build_model(sequence_len, vocab_size, emdedding_size, embedding_weights):\n",
    "    model = Sequential([\n",
    "        Embedding(vocab_size, emdedding_size,\n",
    "                  weights=[embedding_weights],\n",
    "                  trainable=False,\n",
    "                  mask_zero=True),\n",
    "        SpatialDropout1D(0.2),\n",
    "        LSTM(emdedding_size),\n",
    "        Dense(2, activation='softmax')\n",
    "    ])\n",
    "    \n",
    "    model.compile(loss='sparse_categorical_crossentropy', optimizer='adam', metrics=['accuracy'])\n",
    "    return model"
   ],
   "outputs": [],
   "metadata": {
    "colab": {},
    "colab_type": "code",
    "id": "nNrawZnAditr"
   }
  },
  {
   "cell_type": "markdown",
   "source": [
    "Podemos inspeccionar el modelo:"
   ],
   "metadata": {
    "colab_type": "text",
    "id": "XWc2N0O-ditw"
   }
  },
  {
   "cell_type": "code",
   "execution_count": null,
   "source": [],
   "outputs": [],
   "metadata": {
    "colab": {},
    "colab_type": "code",
    "id": "vmk-mnMzditw"
   }
  },
  {
   "cell_type": "markdown",
   "source": [
    "Para continuar utilizando la misma metodología que veniamos utilizando antes, embeberemos este clasificador diseñado en TensorFlow dentro de un pipeline en Scikit-Learn. Esto lo podemos lograr utilizando KerasClassifier. Este tipo de elementos se los conoce como Wrappers. Este paso no es necesario siempre, en nuestro caso solo porque estamos trabajando con Scikit-Learn como nuestro orquestador:"
   ],
   "metadata": {
    "colab_type": "text",
    "id": "b95s56PPdity"
   }
  },
  {
   "cell_type": "code",
   "execution_count": 20,
   "source": [
    "estimator = keras.wrappers.scikit_learn.KerasClassifier(\n",
    "    build_fn=build_model, \n",
    "    epochs=50,\n",
    "    sequence_len=max_seq_len,\n",
    "    vocab_size=w2v.vocab_size,\n",
    "    emdedding_size=w2v.emdedding_size,\n",
    "    embedding_weights=embedding_weights)"
   ],
   "outputs": [],
   "metadata": {
    "colab": {},
    "colab_type": "code",
    "id": "v8hTWi3tdit0"
   }
  },
  {
   "cell_type": "markdown",
   "source": [
    "### Ajustando la longitud de las secuencias"
   ],
   "metadata": {
    "colab_type": "text",
    "id": "vhfhArdbdit5"
   }
  },
  {
   "cell_type": "markdown",
   "source": [
    "Los modelos basados en secuencias pueden adaptarse a cualquier longitud de secuencia, sin embargo, los parametros de nuestras redes neuronales deberan ser fijos. Para esto definiermos una longitud máxima de la secuencia que vamos analizar. Para esto podemos utilizar un valor especifico o utilizar el valor máximo de tokens que hay en nuestro corpus."
   ],
   "metadata": {
    "colab_type": "text",
    "id": "_WpivJzsdit6"
   }
  },
  {
   "cell_type": "markdown",
   "source": [
    "La siguiente clase PadSequenceTransformer es un modulo que les preparé para simplificar este procesamiento. El mismo se encarga de ajustar cualquier secuencia para que tenga exactamente max_seq_len. Cuando la lingitud es mejor, se completan con ceros."
   ],
   "metadata": {
    "colab_type": "text",
    "id": "5Q2zBOXUdit6"
   }
  },
  {
   "cell_type": "code",
   "execution_count": 17,
   "source": [
    "from Utils.PadSequenceTransformer import PadSequenceTransformer"
   ],
   "outputs": [],
   "metadata": {
    "colab": {},
    "colab_type": "code",
    "id": "NeVilfLMdit7"
   }
  },
  {
   "cell_type": "code",
   "execution_count": 18,
   "source": [
    "max_seq_len = 100"
   ],
   "outputs": [],
   "metadata": {
    "colab": {},
    "colab_type": "code",
    "id": "u-2T5o8Rdit9"
   }
  },
  {
   "cell_type": "code",
   "execution_count": 19,
   "source": [
    "seq2seq = PadSequenceTransformer(max_len=max_seq_len)"
   ],
   "outputs": [],
   "metadata": {
    "colab": {},
    "colab_type": "code",
    "id": "BpfZiKM_dit_"
   }
  },
  {
   "cell_type": "markdown",
   "source": [
    "## Creando nuestro pipeline"
   ],
   "metadata": {
    "colab_type": "text",
    "id": "VpwiD4GGdiuB"
   }
  },
  {
   "cell_type": "markdown",
   "source": [
    "Construimos nuestro pipeline como siempre combinando los diferentes pasos:"
   ],
   "metadata": {
    "colab_type": "text",
    "id": "9U4cxKW_diuB"
   }
  },
  {
   "cell_type": "code",
   "execution_count": 21,
   "source": [
    "from sklearn.pipeline import Pipeline\n",
    "\n",
    "pipeline = Pipeline(steps=[('normalizer', normalizer), \n",
    "                           ('vectorizer', w2v),\n",
    "                           ('padder', seq2seq),\n",
    "                           ('estimator', estimator)])"
   ],
   "outputs": [],
   "metadata": {
    "colab": {},
    "colab_type": "code",
    "id": "Y0V5zF-wdiuB"
   }
  },
  {
   "cell_type": "markdown",
   "source": [
    "Entrenamos nuestro modelo"
   ],
   "metadata": {
    "colab_type": "text",
    "id": "webM_rFCdiuD"
   }
  },
  {
   "cell_type": "code",
   "execution_count": 22,
   "source": [
    "model = pipeline.fit(X=X_train, y=y_train)"
   ],
   "outputs": [
    {
     "output_type": "stream",
     "name": "stdout",
     "text": [
      "Epoch 1/50\n",
      "79/79 [==============================] - 8s 99ms/step - loss: 1.3594 - accuracy: 0.5514\n",
      "Epoch 2/50\n",
      "79/79 [==============================] - 8s 101ms/step - loss: 0.7594 - accuracy: 0.7687\n",
      "Epoch 3/50\n",
      "79/79 [==============================] - 8s 102ms/step - loss: 0.6256 - accuracy: 0.7969\n",
      "Epoch 4/50\n",
      "79/79 [==============================] - 8s 101ms/step - loss: 0.5636 - accuracy: 0.8167\n",
      "Epoch 5/50\n",
      "79/79 [==============================] - 8s 96ms/step - loss: 0.5219 - accuracy: 0.8263\n",
      "Epoch 6/50\n",
      "79/79 [==============================] - 7s 89ms/step - loss: 0.4777 - accuracy: 0.8342\n",
      "Epoch 7/50\n",
      "79/79 [==============================] - 7s 92ms/step - loss: 0.4566 - accuracy: 0.8433\n",
      "Epoch 8/50\n",
      "79/79 [==============================] - 8s 99ms/step - loss: 0.4350 - accuracy: 0.8560\n",
      "Epoch 9/50\n",
      "79/79 [==============================] - 8s 98ms/step - loss: 0.4142 - accuracy: 0.8516\n",
      "Epoch 10/50\n",
      "79/79 [==============================] - 8s 98ms/step - loss: 0.4002 - accuracy: 0.8639\n",
      "Epoch 11/50\n",
      "79/79 [==============================] - 8s 100ms/step - loss: 0.3714 - accuracy: 0.8707\n",
      "Epoch 12/50\n",
      "79/79 [==============================] - 8s 99ms/step - loss: 0.3610 - accuracy: 0.8758\n",
      "Epoch 13/50\n",
      "79/79 [==============================] - 8s 105ms/step - loss: 0.3485 - accuracy: 0.8858\n",
      "Epoch 14/50\n",
      "79/79 [==============================] - 8s 102ms/step - loss: 0.3416 - accuracy: 0.8814\n",
      "Epoch 15/50\n",
      "79/79 [==============================] - 10s 126ms/step - loss: 0.3166 - accuracy: 0.8862\n",
      "Epoch 16/50\n",
      "79/79 [==============================] - 8s 103ms/step - loss: 0.3048 - accuracy: 0.8921\n",
      "Epoch 17/50\n",
      "79/79 [==============================] - 8s 102ms/step - loss: 0.2929 - accuracy: 0.8981\n",
      "Epoch 18/50\n",
      "79/79 [==============================] - 8s 100ms/step - loss: 0.2778 - accuracy: 0.8996\n",
      "Epoch 19/50\n",
      "79/79 [==============================] - 8s 103ms/step - loss: 0.2792 - accuracy: 0.9024\n",
      "Epoch 20/50\n",
      "79/79 [==============================] - 8s 103ms/step - loss: 0.2552 - accuracy: 0.9131\n",
      "Epoch 21/50\n",
      "79/79 [==============================] - 8s 102ms/step - loss: 0.2464 - accuracy: 0.9207\n",
      "Epoch 22/50\n",
      "79/79 [==============================] - 8s 100ms/step - loss: 0.2356 - accuracy: 0.9230\n",
      "Epoch 23/50\n",
      "79/79 [==============================] - 8s 102ms/step - loss: 0.2261 - accuracy: 0.9223\n",
      "Epoch 24/50\n",
      "79/79 [==============================] - 8s 100ms/step - loss: 0.2007 - accuracy: 0.9334\n",
      "Epoch 25/50\n",
      "79/79 [==============================] - 8s 103ms/step - loss: 0.2092 - accuracy: 0.9290\n",
      "Epoch 26/50\n",
      "79/79 [==============================] - 8s 102ms/step - loss: 0.2046 - accuracy: 0.9290\n",
      "Epoch 27/50\n",
      "79/79 [==============================] - 8s 102ms/step - loss: 0.1839 - accuracy: 0.9369\n",
      "Epoch 28/50\n",
      "79/79 [==============================] - 7s 94ms/step - loss: 0.1835 - accuracy: 0.9397\n",
      "Epoch 29/50\n",
      "79/79 [==============================] - 7s 94ms/step - loss: 0.1642 - accuracy: 0.9492\n",
      "Epoch 30/50\n",
      "79/79 [==============================] - 8s 96ms/step - loss: 0.1712 - accuracy: 0.9401\n",
      "Epoch 31/50\n",
      "79/79 [==============================] - 8s 103ms/step - loss: 0.1633 - accuracy: 0.9457\n",
      "Epoch 32/50\n",
      "79/79 [==============================] - 8s 103ms/step - loss: 0.1483 - accuracy: 0.9536\n",
      "Epoch 33/50\n",
      "79/79 [==============================] - 8s 102ms/step - loss: 0.1548 - accuracy: 0.9496\n",
      "Epoch 34/50\n",
      "79/79 [==============================] - 8s 102ms/step - loss: 0.1486 - accuracy: 0.9560\n",
      "Epoch 35/50\n",
      "79/79 [==============================] - 7s 94ms/step - loss: 0.1355 - accuracy: 0.9591\n",
      "Epoch 36/50\n",
      "79/79 [==============================] - 7s 94ms/step - loss: 0.1240 - accuracy: 0.9615\n",
      "Epoch 37/50\n",
      "79/79 [==============================] - 8s 97ms/step - loss: 0.1257 - accuracy: 0.9623\n",
      "Epoch 38/50\n",
      "79/79 [==============================] - 8s 95ms/step - loss: 0.1215 - accuracy: 0.9603\n",
      "Epoch 39/50\n",
      "79/79 [==============================] - 7s 90ms/step - loss: 0.1245 - accuracy: 0.9639\n",
      "Epoch 40/50\n",
      "79/79 [==============================] - 8s 96ms/step - loss: 0.1202 - accuracy: 0.9627\n",
      "Epoch 41/50\n",
      "79/79 [==============================] - 8s 99ms/step - loss: 0.1084 - accuracy: 0.9671\n",
      "Epoch 42/50\n",
      "79/79 [==============================] - 8s 95ms/step - loss: 0.1095 - accuracy: 0.9663\n",
      "Epoch 43/50\n",
      "79/79 [==============================] - 8s 102ms/step - loss: 0.1012 - accuracy: 0.9695\n",
      "Epoch 44/50\n",
      "79/79 [==============================] - 8s 96ms/step - loss: 0.0968 - accuracy: 0.9710\n",
      "Epoch 45/50\n",
      "79/79 [==============================] - 8s 97ms/step - loss: 0.0958 - accuracy: 0.9702\n",
      "Epoch 46/50\n",
      "79/79 [==============================] - 7s 94ms/step - loss: 0.0819 - accuracy: 0.9778\n",
      "Epoch 47/50\n",
      "79/79 [==============================] - 8s 96ms/step - loss: 0.0811 - accuracy: 0.9758\n",
      "Epoch 48/50\n",
      "79/79 [==============================] - 7s 93ms/step - loss: 0.0806 - accuracy: 0.9746\n",
      "Epoch 49/50\n",
      "79/79 [==============================] - 8s 98ms/step - loss: 0.0863 - accuracy: 0.9742\n",
      "Epoch 50/50\n",
      "79/79 [==============================] - 8s 99ms/step - loss: 0.0823 - accuracy: 0.9758\n"
     ]
    }
   ],
   "metadata": {
    "colab": {
     "base_uri": "https://localhost:8080/",
     "height": 1000
    },
    "colab_type": "code",
    "id": "sJYPslBwdiuE",
    "outputId": "3c5e3f32-ec0c-4432-d03a-fe9b45fc66dc"
   }
  },
  {
   "cell_type": "markdown",
   "source": [
    "## Evalución de los resultados"
   ],
   "metadata": {
    "colab_type": "text",
    "id": "D3DtoSNTdiuJ"
   }
  },
  {
   "cell_type": "markdown",
   "source": [
    "Probamos su performance utilizando el test set"
   ],
   "metadata": {
    "colab_type": "text",
    "id": "aFmZCv5KdiuK"
   }
  },
  {
   "cell_type": "code",
   "execution_count": 23,
   "source": [
    "predictions = model.predict(X_test)"
   ],
   "outputs": [
    {
     "output_type": "stream",
     "name": "stdout",
     "text": [
      "WARNING:tensorflow:From /usr/local/lib/python3.6/dist-packages/tensorflow/python/keras/wrappers/scikit_learn.py:241: Sequential.predict_classes (from tensorflow.python.keras.engine.sequential) is deprecated and will be removed after 2021-01-01.\n",
      "Instructions for updating:\n",
      "Please use instead:* `np.argmax(model.predict(x), axis=-1)`,   if your model does multi-class classification   (e.g. if it uses a `softmax` last-layer activation).* `(model.predict(x) > 0.5).astype(\"int32\")`,   if your model does binary classification   (e.g. if it uses a `sigmoid` last-layer activation).\n"
     ]
    }
   ],
   "metadata": {
    "colab": {
     "base_uri": "https://localhost:8080/",
     "height": 88
    },
    "colab_type": "code",
    "id": "kqM4G2BVdiuL",
    "outputId": "6882201a-67a9-4f31-b33b-4aa1bf816380"
   }
  },
  {
   "cell_type": "code",
   "execution_count": 24,
   "source": [
    "from sklearn.metrics import classification_report\n",
    "\n",
    "print(classification_report(y_test, predictions))"
   ],
   "outputs": [
    {
     "output_type": "stream",
     "name": "stdout",
     "text": [
      "              precision    recall  f1-score   support\n",
      "\n",
      "ALIMENTACION       0.96      0.85      0.90       110\n",
      "  AUTOMOCION       0.87      0.78      0.82       148\n",
      "       BANCA       0.84      0.82      0.83       198\n",
      "     BEBIDAS       0.88      0.89      0.88       223\n",
      "    DEPORTES       0.76      0.85      0.80       216\n",
      "      RETAIL       0.79      0.80      0.80       268\n",
      "       TELCO       0.95      0.94      0.94        79\n",
      "\n",
      "    accuracy                           0.84      1242\n",
      "   macro avg       0.86      0.85      0.85      1242\n",
      "weighted avg       0.84      0.84      0.84      1242\n",
      "\n"
     ]
    }
   ],
   "metadata": {
    "colab": {
     "base_uri": "https://localhost:8080/",
     "height": 255
    },
    "colab_type": "code",
    "id": "XSIlnu1zdiuN",
    "outputId": "1a80c583-9afc-434c-eedf-33f36c0846cf"
   }
  },
  {
   "cell_type": "code",
   "execution_count": null,
   "source": [],
   "outputs": [],
   "metadata": {
    "colab": {},
    "colab_type": "code",
    "id": "nh0g7U79diuP"
   }
  }
 ],
 "metadata": {
  "colab": {
   "name": "Word2Vec - Secuencias.ipynb",
   "provenance": [],
   "toc_visible": true
  },
  "kernelspec": {
   "display_name": "NLP (Python 3.8)",
   "language": "python",
   "name": "nlp-py38"
  },
  "language_info": {
   "codemirror_mode": {
    "name": "ipython",
    "version": 3
   },
   "file_extension": ".py",
   "mimetype": "text/x-python",
   "name": "python",
   "nbconvert_exporter": "python",
   "pygments_lexer": "ipython3",
   "version": "3.8.5"
  }
 },
 "nbformat": 4,
 "nbformat_minor": 4
}