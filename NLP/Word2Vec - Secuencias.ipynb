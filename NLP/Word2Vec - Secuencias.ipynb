{
  "nbformat": 4,
  "nbformat_minor": 0,
  "metadata": {
    "kernelspec": {
      "display_name": "NLP (nlp-py37)",
      "language": "python",
      "name": "nlp-py37"
    },
    "language_info": {
      "codemirror_mode": {
        "name": "ipython",
        "version": 3
      },
      "file_extension": ".py",
      "mimetype": "text/x-python",
      "name": "python",
      "nbconvert_exporter": "python",
      "pygments_lexer": "ipython3",
      "version": "3.6.10"
    },
    "colab": {
      "name": "Word2Vec - Secuencias.ipynb",
      "provenance": [],
      "toc_visible": true
    }
  },
  "cells": [
    {
      "cell_type": "markdown",
      "metadata": {
        "id": "YwgO1F_Edis2",
        "colab_type": "text"
      },
      "source": [
        "```\n",
        "ME72: Maestría en Métodos Cuantitativos para la Gestión y Análisis de Datos\n",
        "M72109: Analisis de Datos no Estructurados\n",
        "Universidad de Buenos Aires - Facultad de Ciencias Economicas (UBA-FCE)\n",
        "Año: 2020\n",
        "Profesor: Facundo Santiago\n",
        "```"
      ]
    },
    {
      "cell_type": "markdown",
      "metadata": {
        "id": "nQGxT74Sdis4",
        "colab_type": "text"
      },
      "source": [
        "# Word2Vec - Modelos basados en secuencias"
      ]
    },
    {
      "cell_type": "markdown",
      "metadata": {
        "id": "vjuHJnQOdis6",
        "colab_type": "text"
      },
      "source": [
        "Los modelos basados en secuencias tienen la fortaleza que toman una secuencia de token (en un determinado orden) y generan una salida dependiendo del tipo de problema que se trate.\n",
        " - Seq2Class: Toman una secuencia de tokens y generan una clase\n",
        " - Seq2Seq: Toman una secuencia de token y generan otra secuencia de tokens. \n",
        " \n",
        "En este notebook exploraremos este tipo de modelos utilizandolos de la mano de word2vec:"
      ]
    },
    {
      "cell_type": "markdown",
      "metadata": {
        "id": "Dcyc_TQ6dis7",
        "colab_type": "text"
      },
      "source": [
        "## Prepración del ambiente"
      ]
    },
    {
      "cell_type": "code",
      "metadata": {
        "id": "Ntcs1AlpfckX",
        "colab_type": "code",
        "colab": {}
      },
      "source": [
        "import warnings\n",
        "warnings.filterwarnings('ignore')"
      ],
      "execution_count": 13,
      "outputs": []
    },
    {
      "cell_type": "markdown",
      "metadata": {
        "id": "GLBYh0gcdis7",
        "colab_type": "text"
      },
      "source": [
        "Descarguemos algunos fragmentos de código para simplificar el trabajo"
      ]
    },
    {
      "cell_type": "code",
      "metadata": {
        "id": "W2Tgi0_Bdis8",
        "colab_type": "code",
        "colab": {
          "base_uri": "https://localhost:8080/",
          "height": 0
        },
        "outputId": "e1926bbd-9bbb-485e-f74f-1f21ac159e03"
      },
      "source": [
        "!wget https://raw.githubusercontent.com/santiagxf/M72109/master/NLP/Utils/TextNormalizer.py --directory-prefix ./Utils/\n",
        "!wget https://raw.githubusercontent.com/santiagxf/M72109/master/NLP/Utils/PadSequenceTransformer.py --directory-prefix ./Utils/\n",
        "!wget https://raw.githubusercontent.com/santiagxf/M72109/master/NLP/Utils/Word2VecVectorizer.py --directory-prefix ./Utils/"
      ],
      "execution_count": 1,
      "outputs": [
        {
          "output_type": "stream",
          "text": [
            "--2020-09-03 19:34:32--  https://raw.githubusercontent.com/santiagxf/M72109/master/NLP/Utils/TextNormalizer.py\n",
            "Resolving raw.githubusercontent.com (raw.githubusercontent.com)... 151.101.0.133, 151.101.64.133, 151.101.128.133, ...\n",
            "Connecting to raw.githubusercontent.com (raw.githubusercontent.com)|151.101.0.133|:443... connected.\n",
            "HTTP request sent, awaiting response... 200 OK\n",
            "Length: 2832 (2.8K) [text/plain]\n",
            "Saving to: ‘./Utils/TextNormalizer.py’\n",
            "\n",
            "TextNormalizer.py   100%[===================>]   2.77K  --.-KB/s    in 0s      \n",
            "\n",
            "2020-09-03 19:34:32 (22.6 MB/s) - ‘./Utils/TextNormalizer.py’ saved [2832/2832]\n",
            "\n",
            "--2020-09-03 19:34:32--  https://raw.githubusercontent.com/santiagxf/M72109/master/NLP/Utils/PadSequenceTransformer.py\n",
            "Resolving raw.githubusercontent.com (raw.githubusercontent.com)... 151.101.0.133, 151.101.64.133, 151.101.128.133, ...\n",
            "Connecting to raw.githubusercontent.com (raw.githubusercontent.com)|151.101.0.133|:443... connected.\n",
            "HTTP request sent, awaiting response... 200 OK\n",
            "Length: 961 [text/plain]\n",
            "Saving to: ‘./Utils/PadSequenceTransformer.py’\n",
            "\n",
            "PadSequenceTransfor 100%[===================>]     961  --.-KB/s    in 0s      \n",
            "\n",
            "2020-09-03 19:34:33 (59.3 MB/s) - ‘./Utils/PadSequenceTransformer.py’ saved [961/961]\n",
            "\n",
            "--2020-09-03 19:34:33--  https://raw.githubusercontent.com/santiagxf/M72109/master/NLP/Utils/Word2VecVectorizer.py\n",
            "Resolving raw.githubusercontent.com (raw.githubusercontent.com)... 151.101.0.133, 151.101.64.133, 151.101.128.133, ...\n",
            "Connecting to raw.githubusercontent.com (raw.githubusercontent.com)|151.101.0.133|:443... connected.\n",
            "HTTP request sent, awaiting response... 200 OK\n",
            "Length: 2474 (2.4K) [text/plain]\n",
            "Saving to: ‘./Utils/Word2VecVectorizer.py’\n",
            "\n",
            "Word2VecVectorizer. 100%[===================>]   2.42K  --.-KB/s    in 0.001s  \n",
            "\n",
            "2020-09-03 19:34:33 (4.65 MB/s) - ‘./Utils/Word2VecVectorizer.py’ saved [2474/2474]\n",
            "\n"
          ],
          "name": "stdout"
        }
      ]
    },
    {
      "cell_type": "markdown",
      "metadata": {
        "id": "xT0pDh4mditF",
        "colab_type": "text"
      },
      "source": [
        "Descargamos el set de datos"
      ]
    },
    {
      "cell_type": "code",
      "metadata": {
        "id": "7yWadu1pditF",
        "colab_type": "code",
        "colab": {
          "base_uri": "https://localhost:8080/",
          "height": 0
        },
        "outputId": "d274c0dc-2a39-4bff-b918-b47406c70630"
      },
      "source": [
        "!wget https://raw.githubusercontent.com/santiagxf/M72109/master/NLP/Datasets/mascorpus/tweets_marketing.csv --directory-prefix ./Datasets/mascorpus/"
      ],
      "execution_count": 2,
      "outputs": [
        {
          "output_type": "stream",
          "text": [
            "--2020-09-03 19:34:43--  https://raw.githubusercontent.com/santiagxf/M72109/master/NLP/Datasets/mascorpus/tweets_marketing.csv\n",
            "Resolving raw.githubusercontent.com (raw.githubusercontent.com)... 151.101.0.133, 151.101.64.133, 151.101.128.133, ...\n",
            "Connecting to raw.githubusercontent.com (raw.githubusercontent.com)|151.101.0.133|:443... connected.\n",
            "HTTP request sent, awaiting response... 200 OK\n",
            "Length: 512573 (501K) [text/plain]\n",
            "Saving to: ‘./Datasets/mascorpus/tweets_marketing.csv’\n",
            "\n",
            "tweets_marketing.cs 100%[===================>] 500.56K  --.-KB/s    in 0.05s   \n",
            "\n",
            "2020-09-03 19:34:43 (10.1 MB/s) - ‘./Datasets/mascorpus/tweets_marketing.csv’ saved [512573/512573]\n",
            "\n"
          ],
          "name": "stdout"
        }
      ]
    },
    {
      "cell_type": "markdown",
      "metadata": {
        "id": "Gl18LLmkeqjx",
        "colab_type": "text"
      },
      "source": [
        "Descargamos nuestros vectores de word2vec en español"
      ]
    },
    {
      "cell_type": "code",
      "metadata": {
        "id": "LJVkiH2lesN1",
        "colab_type": "code",
        "colab": {
          "base_uri": "https://localhost:8080/",
          "height": 0
        },
        "outputId": "601bd944-7669-47dc-b0ca-7aa67938c492"
      },
      "source": [
        "!mkdir -p ./Models/Word2Vec\n",
        "!wget https://santiagxf.blob.core.windows.net/public/Word2Vec/model.bin --directory-prefix ./Models/Word2Vec"
      ],
      "execution_count": 10,
      "outputs": [
        {
          "output_type": "stream",
          "text": [
            "--2020-09-03 19:39:42--  https://santiagxf.blob.core.windows.net/public/Word2Vec/model.bin\n",
            "Resolving santiagxf.blob.core.windows.net (santiagxf.blob.core.windows.net)... 52.239.220.32\n",
            "Connecting to santiagxf.blob.core.windows.net (santiagxf.blob.core.windows.net)|52.239.220.32|:443... connected.\n",
            "HTTP request sent, awaiting response... 200 OK\n",
            "Length: 1089974081 (1.0G) [application/octet-stream]\n",
            "Saving to: ‘./Models/Word2Vec/model.bin’\n",
            "\n",
            "model.bin           100%[===================>]   1.01G  18.1MB/s    in 64s     \n",
            "\n",
            "2020-09-03 19:40:47 (16.2 MB/s) - ‘./Models/Word2Vec/model.bin’ saved [1089974081/1089974081]\n",
            "\n"
          ],
          "name": "stdout"
        }
      ]
    },
    {
      "cell_type": "markdown",
      "metadata": {
        "id": "0rRpBRahditI",
        "colab_type": "text"
      },
      "source": [
        "Instalamos las librerias necesarias"
      ]
    },
    {
      "cell_type": "code",
      "metadata": {
        "id": "UgVf9-V7ditI",
        "colab_type": "code",
        "colab": {
          "base_uri": "https://localhost:8080/",
          "height": 0
        },
        "outputId": "4a451c22-3615-471e-dd17-22b4c56b589f"
      },
      "source": [
        "!pip install unidecode\n",
        "!python -m spacy download es_core_news_sm"
      ],
      "execution_count": 3,
      "outputs": [
        {
          "output_type": "stream",
          "text": [
            "Collecting unidecode\n",
            "\u001b[?25l  Downloading https://files.pythonhosted.org/packages/d0/42/d9edfed04228bacea2d824904cae367ee9efd05e6cce7ceaaedd0b0ad964/Unidecode-1.1.1-py2.py3-none-any.whl (238kB)\n",
            "\r\u001b[K     |█▍                              | 10kB 17.1MB/s eta 0:00:01\r\u001b[K     |██▊                             | 20kB 3.1MB/s eta 0:00:01\r\u001b[K     |████▏                           | 30kB 4.0MB/s eta 0:00:01\r\u001b[K     |█████▌                          | 40kB 4.4MB/s eta 0:00:01\r\u001b[K     |██████▉                         | 51kB 3.6MB/s eta 0:00:01\r\u001b[K     |████████▎                       | 61kB 3.9MB/s eta 0:00:01\r\u001b[K     |█████████▋                      | 71kB 4.3MB/s eta 0:00:01\r\u001b[K     |███████████                     | 81kB 4.6MB/s eta 0:00:01\r\u001b[K     |████████████▍                   | 92kB 4.8MB/s eta 0:00:01\r\u001b[K     |█████████████▊                  | 102kB 4.8MB/s eta 0:00:01\r\u001b[K     |███████████████▏                | 112kB 4.8MB/s eta 0:00:01\r\u001b[K     |████████████████▌               | 122kB 4.8MB/s eta 0:00:01\r\u001b[K     |█████████████████▉              | 133kB 4.8MB/s eta 0:00:01\r\u001b[K     |███████████████████▎            | 143kB 4.8MB/s eta 0:00:01\r\u001b[K     |████████████████████▋           | 153kB 4.8MB/s eta 0:00:01\r\u001b[K     |██████████████████████          | 163kB 4.8MB/s eta 0:00:01\r\u001b[K     |███████████████████████▍        | 174kB 4.8MB/s eta 0:00:01\r\u001b[K     |████████████████████████▊       | 184kB 4.8MB/s eta 0:00:01\r\u001b[K     |██████████████████████████▏     | 194kB 4.8MB/s eta 0:00:01\r\u001b[K     |███████████████████████████▌    | 204kB 4.8MB/s eta 0:00:01\r\u001b[K     |████████████████████████████▉   | 215kB 4.8MB/s eta 0:00:01\r\u001b[K     |██████████████████████████████▎ | 225kB 4.8MB/s eta 0:00:01\r\u001b[K     |███████████████████████████████▋| 235kB 4.8MB/s eta 0:00:01\r\u001b[K     |████████████████████████████████| 245kB 4.8MB/s \n",
            "\u001b[?25hInstalling collected packages: unidecode\n",
            "Successfully installed unidecode-1.1.1\n",
            "Collecting es_core_news_sm==2.2.5\n",
            "\u001b[?25l  Downloading https://github.com/explosion/spacy-models/releases/download/es_core_news_sm-2.2.5/es_core_news_sm-2.2.5.tar.gz (16.2MB)\n",
            "\u001b[K     |████████████████████████████████| 16.2MB 1.3MB/s \n",
            "\u001b[?25hRequirement already satisfied: spacy>=2.2.2 in /usr/local/lib/python3.6/dist-packages (from es_core_news_sm==2.2.5) (2.2.4)\n",
            "Requirement already satisfied: wasabi<1.1.0,>=0.4.0 in /usr/local/lib/python3.6/dist-packages (from spacy>=2.2.2->es_core_news_sm==2.2.5) (0.7.1)\n",
            "Requirement already satisfied: requests<3.0.0,>=2.13.0 in /usr/local/lib/python3.6/dist-packages (from spacy>=2.2.2->es_core_news_sm==2.2.5) (2.23.0)\n",
            "Requirement already satisfied: cymem<2.1.0,>=2.0.2 in /usr/local/lib/python3.6/dist-packages (from spacy>=2.2.2->es_core_news_sm==2.2.5) (2.0.3)\n",
            "Requirement already satisfied: murmurhash<1.1.0,>=0.28.0 in /usr/local/lib/python3.6/dist-packages (from spacy>=2.2.2->es_core_news_sm==2.2.5) (1.0.2)\n",
            "Requirement already satisfied: preshed<3.1.0,>=3.0.2 in /usr/local/lib/python3.6/dist-packages (from spacy>=2.2.2->es_core_news_sm==2.2.5) (3.0.2)\n",
            "Requirement already satisfied: blis<0.5.0,>=0.4.0 in /usr/local/lib/python3.6/dist-packages (from spacy>=2.2.2->es_core_news_sm==2.2.5) (0.4.1)\n",
            "Requirement already satisfied: tqdm<5.0.0,>=4.38.0 in /usr/local/lib/python3.6/dist-packages (from spacy>=2.2.2->es_core_news_sm==2.2.5) (4.41.1)\n",
            "Requirement already satisfied: thinc==7.4.0 in /usr/local/lib/python3.6/dist-packages (from spacy>=2.2.2->es_core_news_sm==2.2.5) (7.4.0)\n",
            "Requirement already satisfied: numpy>=1.15.0 in /usr/local/lib/python3.6/dist-packages (from spacy>=2.2.2->es_core_news_sm==2.2.5) (1.18.5)\n",
            "Requirement already satisfied: plac<1.2.0,>=0.9.6 in /usr/local/lib/python3.6/dist-packages (from spacy>=2.2.2->es_core_news_sm==2.2.5) (1.1.3)\n",
            "Requirement already satisfied: catalogue<1.1.0,>=0.0.7 in /usr/local/lib/python3.6/dist-packages (from spacy>=2.2.2->es_core_news_sm==2.2.5) (1.0.0)\n",
            "Requirement already satisfied: setuptools in /usr/local/lib/python3.6/dist-packages (from spacy>=2.2.2->es_core_news_sm==2.2.5) (49.6.0)\n",
            "Requirement already satisfied: srsly<1.1.0,>=1.0.2 in /usr/local/lib/python3.6/dist-packages (from spacy>=2.2.2->es_core_news_sm==2.2.5) (1.0.2)\n",
            "Requirement already satisfied: certifi>=2017.4.17 in /usr/local/lib/python3.6/dist-packages (from requests<3.0.0,>=2.13.0->spacy>=2.2.2->es_core_news_sm==2.2.5) (2020.6.20)\n",
            "Requirement already satisfied: idna<3,>=2.5 in /usr/local/lib/python3.6/dist-packages (from requests<3.0.0,>=2.13.0->spacy>=2.2.2->es_core_news_sm==2.2.5) (2.10)\n",
            "Requirement already satisfied: chardet<4,>=3.0.2 in /usr/local/lib/python3.6/dist-packages (from requests<3.0.0,>=2.13.0->spacy>=2.2.2->es_core_news_sm==2.2.5) (3.0.4)\n",
            "Requirement already satisfied: urllib3!=1.25.0,!=1.25.1,<1.26,>=1.21.1 in /usr/local/lib/python3.6/dist-packages (from requests<3.0.0,>=2.13.0->spacy>=2.2.2->es_core_news_sm==2.2.5) (1.24.3)\n",
            "Requirement already satisfied: importlib-metadata>=0.20; python_version < \"3.8\" in /usr/local/lib/python3.6/dist-packages (from catalogue<1.1.0,>=0.0.7->spacy>=2.2.2->es_core_news_sm==2.2.5) (1.7.0)\n",
            "Requirement already satisfied: zipp>=0.5 in /usr/local/lib/python3.6/dist-packages (from importlib-metadata>=0.20; python_version < \"3.8\"->catalogue<1.1.0,>=0.0.7->spacy>=2.2.2->es_core_news_sm==2.2.5) (3.1.0)\n",
            "Building wheels for collected packages: es-core-news-sm\n",
            "  Building wheel for es-core-news-sm (setup.py) ... \u001b[?25l\u001b[?25hdone\n",
            "  Created wheel for es-core-news-sm: filename=es_core_news_sm-2.2.5-cp36-none-any.whl size=16172934 sha256=489215548f6a2a42cf51ea4db684cda1184ea5a1c314b83afa28f3aeefaa4f58\n",
            "  Stored in directory: /tmp/pip-ephem-wheel-cache-h231rce_/wheels/05/4f/66/9d0c806f86de08e8645d67996798c49e1512f9c3a250d74242\n",
            "Successfully built es-core-news-sm\n",
            "Installing collected packages: es-core-news-sm\n",
            "Successfully installed es-core-news-sm-2.2.5\n",
            "\u001b[38;5;2m✔ Download and installation successful\u001b[0m\n",
            "You can now load the model via spacy.load('es_core_news_sm')\n"
          ],
          "name": "stdout"
        }
      ]
    },
    {
      "cell_type": "markdown",
      "metadata": {
        "id": "CC7vGpjqditL",
        "colab_type": "text"
      },
      "source": [
        "Cargamos el set de datos"
      ]
    },
    {
      "cell_type": "code",
      "metadata": {
        "id": "pmJpenUkditM",
        "colab_type": "code",
        "colab": {}
      },
      "source": [
        "import pandas as pd\n",
        "\n",
        "tweets = pd.read_csv('Datasets/mascorpus/tweets_marketing.csv')"
      ],
      "execution_count": 4,
      "outputs": []
    },
    {
      "cell_type": "code",
      "metadata": {
        "id": "RKrEadrGditO",
        "colab_type": "code",
        "colab": {}
      },
      "source": [
        "from sklearn.model_selection import train_test_split\n",
        "\n",
        "X_train, X_test, y_train, y_test = train_test_split(tweets['TEXTO'], tweets['SECTOR'], \n",
        "                                                    test_size=0.33, \n",
        "                                                    stratify=tweets['SECTOR'])"
      ],
      "execution_count": 5,
      "outputs": []
    },
    {
      "cell_type": "markdown",
      "metadata": {
        "id": "kwRwMqoSditT",
        "colab_type": "text"
      },
      "source": [
        "## Preprocesamiento de texto"
      ]
    },
    {
      "cell_type": "markdown",
      "metadata": {
        "id": "_qrYYZ0FditT",
        "colab_type": "text"
      },
      "source": [
        "Al igual que con Topic Modeling, nuestro primer paso es preprocesar el texto. Para focalizarnos en Word2Vec en este modulo, les preparé un modulo TweetTextNormalizer que hará todo el preprocesamiento por nosotros. Pueden explorar los parametros que recibe el constructor de esta clase para ver que opciones podemos configurar como Stemmer, Lemmatization, etc.\n",
        "\n",
        "En lo particular, estamos creando un TweetTextNormalizer que:\n",
        " - Aplicará un tokenizer especifico para Twitter\n",
        " - Eliminará stop words\n",
        " - Aplicará lemmatization\n",
        " - Eliminará URLs\n",
        " - Eliminará acentos\n",
        " - Eliminará las mayusculas\n",
        " \n",
        "Adicionalmente, el parametro text_to_sequence=True indica que la salida de este proceso no serán oraciones sino que tokens."
      ]
    },
    {
      "cell_type": "code",
      "metadata": {
        "id": "Jnuzl8qbditU",
        "colab_type": "code",
        "colab": {}
      },
      "source": [
        "from Utils.TextNormalizer import TweetTextNormalizer"
      ],
      "execution_count": 6,
      "outputs": []
    },
    {
      "cell_type": "code",
      "metadata": {
        "id": "kFYzMdiCditX",
        "colab_type": "code",
        "colab": {}
      },
      "source": [
        "normalizer = TweetTextNormalizer(preserve_case=False,text_to_sequence=True)"
      ],
      "execution_count": 7,
      "outputs": []
    },
    {
      "cell_type": "markdown",
      "metadata": {
        "id": "6sD5jK6ndita",
        "colab_type": "text"
      },
      "source": [
        "Podemos probar como funciona:"
      ]
    },
    {
      "cell_type": "code",
      "metadata": {
        "id": "ldKc0udIditb",
        "colab_type": "code",
        "colab": {}
      },
      "source": [
        ""
      ],
      "execution_count": null,
      "outputs": []
    },
    {
      "cell_type": "markdown",
      "metadata": {
        "id": "QdoLyHg9ditd",
        "colab_type": "text"
      },
      "source": [
        "## Vectorización de las palabras"
      ]
    },
    {
      "cell_type": "markdown",
      "metadata": {
        "id": "a9iuTrwXditd",
        "colab_type": "text"
      },
      "source": [
        "En las actividades anteriores utilizamos siempre un TF-IDF vectorizer para generar los vectores. En esta oportunidad utilizaremos Word2Vec utilizando un modelo pre-entrenado para el idioma español. Adicionalmente, vemos que este vectorizer tiene el parametro sequence_to_idx en Verdadero. Esto significa que no queremos que como salida obtengamos los vectores de Word2Vec, sino que queremos \"el indice\" que se corresponde a la palabra en una matriz de indice-palabra/vectores. "
      ]
    },
    {
      "cell_type": "code",
      "metadata": {
        "id": "jE-SlBWddite",
        "colab_type": "code",
        "colab": {}
      },
      "source": [
        "from Utils.Word2VecVectorizer import Word2VecVectorizer"
      ],
      "execution_count": 11,
      "outputs": []
    },
    {
      "cell_type": "code",
      "metadata": {
        "id": "vkWxVLPYditg",
        "colab_type": "code",
        "colab": {
          "base_uri": "https://localhost:8080/",
          "height": 71
        },
        "outputId": "50655397-0e29-455d-b6db-3d3454968785"
      },
      "source": [
        "w2v = Word2VecVectorizer(model_path='Models/Word2Vec/model.bin', sequence_to_idx=True)\n",
        "embedding_weights = w2v.get_weights()"
      ],
      "execution_count": 12,
      "outputs": [
        {
          "output_type": "stream",
          "text": [
            "/usr/local/lib/python3.6/dist-packages/smart_open/smart_open_lib.py:254: UserWarning: This function is deprecated, use smart_open.open instead. See the migration notes for details: https://github.com/RaRe-Technologies/smart_open/blob/master/README.rst#migrating-to-the-new-open-function\n",
            "  'See the migration notes for details: %s' % _MIGRATION_NOTES_URL\n"
          ],
          "name": "stderr"
        }
      ]
    },
    {
      "cell_type": "markdown",
      "metadata": {
        "id": "UtL8BkQPditk",
        "colab_type": "text"
      },
      "source": [
        "El método get_weights() construye la matríz de indice-palabra/vector que luego será utilizado para encontrar los vectores correspondientes de cada palabra. Esta matriz tiene dimensiones m x n, donde m es la cantidad de palabras del vocabulario y n la dimensión de los vectores de word2vec. En este caso trabajamos con vectores de dimensionalidad 100."
      ]
    },
    {
      "cell_type": "markdown",
      "metadata": {
        "id": "uBNY37iIditm",
        "colab_type": "text"
      },
      "source": [
        "## Modelos basados en sequencias"
      ]
    },
    {
      "cell_type": "markdown",
      "metadata": {
        "id": "CQ48nni-ditm",
        "colab_type": "text"
      },
      "source": [
        "Vimos que cuando aplicamos técnicas de Topic Modeling, intentamos reducir la cantidad de dimensiones de nuestras representaciones de palabras para luego utilizar un clasificador para resolver la tarea en cuestión. Sin embargo, la suponsición básica de ese tipo de modelos es que un texto no es mas que una distribución de palabras (bag of words). Sin embargo, nosotros sabemos que un texto es una secuencia de palabras donde importa el orden. Para capturar este tipo de propiedades podemos utilizar modelos basados en secuencias."
      ]
    },
    {
      "cell_type": "markdown",
      "metadata": {
        "id": "b5xcthcLditn",
        "colab_type": "text"
      },
      "source": [
        "### Construirmos un modelo basado en secuencias"
      ]
    },
    {
      "cell_type": "markdown",
      "metadata": {
        "id": "EfDgmTOCdito",
        "colab_type": "text"
      },
      "source": [
        "Para construir nuestro modelo, utilizaremos TensorFlow. En particular utilizaremos la API de Keras que nos permite componer modelos de redes neuronales como una secuencia de pasos o capas que se conectan en una dirección. \n",
        "\n",
        "Utilizemos los siguientes tipos de capas:\n",
        " *  **Embedding:** Esta capa transforma vectores que representan indices dentro de una matriz en representaciones vectoriales densas. Básicamente en este caso nos resolverá la busqueda de las representaciones vectoriales para nuestras palabras.\n",
        " * **SpatialDropout1D:** Este tipo de capas ayudan a promover la independencia entre filtros (feature maps). Funciona en forma analoga a Dropout pero en lugar de desconectar elementos individuales, desconecta el filtro completo.\n",
        " * **LSTM:** Long Short-Term Memory layer - Hochreiter 1997\n",
        " * **Dense:** Una típica capa de una red neuronal completamente conectada (fully connected)"
      ]
    },
    {
      "cell_type": "markdown",
      "metadata": {
        "id": "lnhHx7Pddito",
        "colab_type": "text"
      },
      "source": [
        "Algunos detalles para notar:\n",
        " * *loss='sparse_categorical_crossentropy'*, este problema de clasificación (crossentropy) de más de una clase (categorical). Sin embargo, nuestro output produce probabilidades de cada una de las clases posibles (7) en forma one-hot encoding. \n",
        " * *metrics=['accuracy']*: Si bien nuestra metrica es accuracy, Keras hará un promedio ponderado del accuracy de cada clase. Este es el comportamiento por defecto."
      ]
    },
    {
      "cell_type": "code",
      "metadata": {
        "id": "LQ2C980jditp",
        "colab_type": "code",
        "colab": {}
      },
      "source": [
        "import tensorflow as tf\n",
        "import tensorflow.keras as keras\n",
        "from tensorflow.keras.models import Sequential, Model\n",
        "from tensorflow.keras.layers import Embedding, LSTM, Dense, Input, SpatialDropout1D"
      ],
      "execution_count": 14,
      "outputs": []
    },
    {
      "cell_type": "code",
      "metadata": {
        "id": "nNrawZnAditr",
        "colab_type": "code",
        "colab": {}
      },
      "source": [
        "def build_model(sequence_len, vocab_size, emdedding_size, embedding_weights):\n",
        "    model = Sequential([\n",
        "        Embedding(vocab_size, emdedding_size,\n",
        "                  weights=[embedding_weights],\n",
        "                  trainable=False,\n",
        "                  mask_zero=True),\n",
        "        SpatialDropout1D(0.2),\n",
        "        LSTM(emdedding_size),\n",
        "        Dense(7, activation='softmax')\n",
        "    ])\n",
        "    \n",
        "    model.compile(loss='sparse_categorical_crossentropy', optimizer='adam', metrics=['accuracy'])\n",
        "    return model"
      ],
      "execution_count": 15,
      "outputs": []
    },
    {
      "cell_type": "markdown",
      "metadata": {
        "id": "XWc2N0O-ditw",
        "colab_type": "text"
      },
      "source": [
        "Podemos inspeccionar el modelo:"
      ]
    },
    {
      "cell_type": "code",
      "metadata": {
        "id": "vmk-mnMzditw",
        "colab_type": "code",
        "colab": {}
      },
      "source": [
        ""
      ],
      "execution_count": null,
      "outputs": []
    },
    {
      "cell_type": "markdown",
      "metadata": {
        "id": "b95s56PPdity",
        "colab_type": "text"
      },
      "source": [
        "Para continuar utilizando la misma metodología que veniamos utilizando antes, embeberemos este clasificador diseñado en TensorFlow dentro de un pipeline en Scikit-Learn. Esto lo podemos lograr utilizando KerasClassifier. Este tipo de elementos se los conoce como Wrappers. Este paso no es necesario siempre, en nuestro caso solo porque estamos trabajando con Scikit-Learn como nuestro orquestador:"
      ]
    },
    {
      "cell_type": "code",
      "metadata": {
        "id": "v8hTWi3tdit0",
        "colab_type": "code",
        "colab": {}
      },
      "source": [
        "estimator = keras.wrappers.scikit_learn.KerasClassifier(\n",
        "    build_fn=build_model, \n",
        "    epochs=50,\n",
        "    sequence_len=max_seq_len,\n",
        "    vocab_size=w2v.vocab_size,\n",
        "    emdedding_size=w2v.emdedding_size,\n",
        "    embedding_weights=embedding_weights)"
      ],
      "execution_count": 20,
      "outputs": []
    },
    {
      "cell_type": "markdown",
      "metadata": {
        "id": "vhfhArdbdit5",
        "colab_type": "text"
      },
      "source": [
        "### Ajustando la longitud de las secuencias"
      ]
    },
    {
      "cell_type": "markdown",
      "metadata": {
        "id": "_WpivJzsdit6",
        "colab_type": "text"
      },
      "source": [
        "Los modelos basados en secuencias pueden adaptarse a cualquier longitud de secuencia, sin embargo, los parametros de nuestras redes neuronales deberan ser fijos. Para esto definiermos una longitud máxima de la secuencia que vamos analizar. Para esto podemos utilizar un valor especifico o utilizar el valor máximo de tokens que hay en nuestro corpus."
      ]
    },
    {
      "cell_type": "markdown",
      "metadata": {
        "id": "5Q2zBOXUdit6",
        "colab_type": "text"
      },
      "source": [
        "La siguiente clase PadSequenceTransformer es un modulo que les preparé para simplificar este procesamiento. El mismo se encarga de ajustar cualquier secuencia para que tenga exactamente max_seq_len. Cuando la lingitud es mejor, se completan con ceros."
      ]
    },
    {
      "cell_type": "code",
      "metadata": {
        "id": "NeVilfLMdit7",
        "colab_type": "code",
        "colab": {}
      },
      "source": [
        "from Utils.PadSequenceTransformer import PadSequenceTransformer"
      ],
      "execution_count": 17,
      "outputs": []
    },
    {
      "cell_type": "code",
      "metadata": {
        "id": "u-2T5o8Rdit9",
        "colab_type": "code",
        "colab": {}
      },
      "source": [
        "max_seq_len = 100"
      ],
      "execution_count": 18,
      "outputs": []
    },
    {
      "cell_type": "code",
      "metadata": {
        "id": "BpfZiKM_dit_",
        "colab_type": "code",
        "colab": {}
      },
      "source": [
        "seq2seq = PadSequenceTransformer(max_len=max_seq_len)"
      ],
      "execution_count": 19,
      "outputs": []
    },
    {
      "cell_type": "markdown",
      "metadata": {
        "id": "VpwiD4GGdiuB",
        "colab_type": "text"
      },
      "source": [
        "## Creando nuestro pipeline"
      ]
    },
    {
      "cell_type": "markdown",
      "metadata": {
        "id": "9U4cxKW_diuB",
        "colab_type": "text"
      },
      "source": [
        "Construimos nuestro pipeline como siempre combinando los diferentes pasos:"
      ]
    },
    {
      "cell_type": "code",
      "metadata": {
        "id": "Y0V5zF-wdiuB",
        "colab_type": "code",
        "colab": {}
      },
      "source": [
        "from sklearn.pipeline import Pipeline\n",
        "\n",
        "pipeline = Pipeline(steps=[('normalizer', normalizer), \n",
        "                           ('vectorizer', w2v),\n",
        "                           ('padder', seq2seq),\n",
        "                           ('estimator', estimator)])"
      ],
      "execution_count": 21,
      "outputs": []
    },
    {
      "cell_type": "markdown",
      "metadata": {
        "id": "webM_rFCdiuD",
        "colab_type": "text"
      },
      "source": [
        "Entrenamos nuestro modelo"
      ]
    },
    {
      "cell_type": "code",
      "metadata": {
        "id": "sJYPslBwdiuE",
        "colab_type": "code",
        "colab": {
          "base_uri": "https://localhost:8080/",
          "height": 1000
        },
        "outputId": "3c5e3f32-ec0c-4432-d03a-fe9b45fc66dc"
      },
      "source": [
        "model = pipeline.fit(X=X_train, y=y_train)"
      ],
      "execution_count": 22,
      "outputs": [
        {
          "output_type": "stream",
          "text": [
            "Epoch 1/50\n",
            "79/79 [==============================] - 8s 99ms/step - loss: 1.3594 - accuracy: 0.5514\n",
            "Epoch 2/50\n",
            "79/79 [==============================] - 8s 101ms/step - loss: 0.7594 - accuracy: 0.7687\n",
            "Epoch 3/50\n",
            "79/79 [==============================] - 8s 102ms/step - loss: 0.6256 - accuracy: 0.7969\n",
            "Epoch 4/50\n",
            "79/79 [==============================] - 8s 101ms/step - loss: 0.5636 - accuracy: 0.8167\n",
            "Epoch 5/50\n",
            "79/79 [==============================] - 8s 96ms/step - loss: 0.5219 - accuracy: 0.8263\n",
            "Epoch 6/50\n",
            "79/79 [==============================] - 7s 89ms/step - loss: 0.4777 - accuracy: 0.8342\n",
            "Epoch 7/50\n",
            "79/79 [==============================] - 7s 92ms/step - loss: 0.4566 - accuracy: 0.8433\n",
            "Epoch 8/50\n",
            "79/79 [==============================] - 8s 99ms/step - loss: 0.4350 - accuracy: 0.8560\n",
            "Epoch 9/50\n",
            "79/79 [==============================] - 8s 98ms/step - loss: 0.4142 - accuracy: 0.8516\n",
            "Epoch 10/50\n",
            "79/79 [==============================] - 8s 98ms/step - loss: 0.4002 - accuracy: 0.8639\n",
            "Epoch 11/50\n",
            "79/79 [==============================] - 8s 100ms/step - loss: 0.3714 - accuracy: 0.8707\n",
            "Epoch 12/50\n",
            "79/79 [==============================] - 8s 99ms/step - loss: 0.3610 - accuracy: 0.8758\n",
            "Epoch 13/50\n",
            "79/79 [==============================] - 8s 105ms/step - loss: 0.3485 - accuracy: 0.8858\n",
            "Epoch 14/50\n",
            "79/79 [==============================] - 8s 102ms/step - loss: 0.3416 - accuracy: 0.8814\n",
            "Epoch 15/50\n",
            "79/79 [==============================] - 10s 126ms/step - loss: 0.3166 - accuracy: 0.8862\n",
            "Epoch 16/50\n",
            "79/79 [==============================] - 8s 103ms/step - loss: 0.3048 - accuracy: 0.8921\n",
            "Epoch 17/50\n",
            "79/79 [==============================] - 8s 102ms/step - loss: 0.2929 - accuracy: 0.8981\n",
            "Epoch 18/50\n",
            "79/79 [==============================] - 8s 100ms/step - loss: 0.2778 - accuracy: 0.8996\n",
            "Epoch 19/50\n",
            "79/79 [==============================] - 8s 103ms/step - loss: 0.2792 - accuracy: 0.9024\n",
            "Epoch 20/50\n",
            "79/79 [==============================] - 8s 103ms/step - loss: 0.2552 - accuracy: 0.9131\n",
            "Epoch 21/50\n",
            "79/79 [==============================] - 8s 102ms/step - loss: 0.2464 - accuracy: 0.9207\n",
            "Epoch 22/50\n",
            "79/79 [==============================] - 8s 100ms/step - loss: 0.2356 - accuracy: 0.9230\n",
            "Epoch 23/50\n",
            "79/79 [==============================] - 8s 102ms/step - loss: 0.2261 - accuracy: 0.9223\n",
            "Epoch 24/50\n",
            "79/79 [==============================] - 8s 100ms/step - loss: 0.2007 - accuracy: 0.9334\n",
            "Epoch 25/50\n",
            "79/79 [==============================] - 8s 103ms/step - loss: 0.2092 - accuracy: 0.9290\n",
            "Epoch 26/50\n",
            "79/79 [==============================] - 8s 102ms/step - loss: 0.2046 - accuracy: 0.9290\n",
            "Epoch 27/50\n",
            "79/79 [==============================] - 8s 102ms/step - loss: 0.1839 - accuracy: 0.9369\n",
            "Epoch 28/50\n",
            "79/79 [==============================] - 7s 94ms/step - loss: 0.1835 - accuracy: 0.9397\n",
            "Epoch 29/50\n",
            "79/79 [==============================] - 7s 94ms/step - loss: 0.1642 - accuracy: 0.9492\n",
            "Epoch 30/50\n",
            "79/79 [==============================] - 8s 96ms/step - loss: 0.1712 - accuracy: 0.9401\n",
            "Epoch 31/50\n",
            "79/79 [==============================] - 8s 103ms/step - loss: 0.1633 - accuracy: 0.9457\n",
            "Epoch 32/50\n",
            "79/79 [==============================] - 8s 103ms/step - loss: 0.1483 - accuracy: 0.9536\n",
            "Epoch 33/50\n",
            "79/79 [==============================] - 8s 102ms/step - loss: 0.1548 - accuracy: 0.9496\n",
            "Epoch 34/50\n",
            "79/79 [==============================] - 8s 102ms/step - loss: 0.1486 - accuracy: 0.9560\n",
            "Epoch 35/50\n",
            "79/79 [==============================] - 7s 94ms/step - loss: 0.1355 - accuracy: 0.9591\n",
            "Epoch 36/50\n",
            "79/79 [==============================] - 7s 94ms/step - loss: 0.1240 - accuracy: 0.9615\n",
            "Epoch 37/50\n",
            "79/79 [==============================] - 8s 97ms/step - loss: 0.1257 - accuracy: 0.9623\n",
            "Epoch 38/50\n",
            "79/79 [==============================] - 8s 95ms/step - loss: 0.1215 - accuracy: 0.9603\n",
            "Epoch 39/50\n",
            "79/79 [==============================] - 7s 90ms/step - loss: 0.1245 - accuracy: 0.9639\n",
            "Epoch 40/50\n",
            "79/79 [==============================] - 8s 96ms/step - loss: 0.1202 - accuracy: 0.9627\n",
            "Epoch 41/50\n",
            "79/79 [==============================] - 8s 99ms/step - loss: 0.1084 - accuracy: 0.9671\n",
            "Epoch 42/50\n",
            "79/79 [==============================] - 8s 95ms/step - loss: 0.1095 - accuracy: 0.9663\n",
            "Epoch 43/50\n",
            "79/79 [==============================] - 8s 102ms/step - loss: 0.1012 - accuracy: 0.9695\n",
            "Epoch 44/50\n",
            "79/79 [==============================] - 8s 96ms/step - loss: 0.0968 - accuracy: 0.9710\n",
            "Epoch 45/50\n",
            "79/79 [==============================] - 8s 97ms/step - loss: 0.0958 - accuracy: 0.9702\n",
            "Epoch 46/50\n",
            "79/79 [==============================] - 7s 94ms/step - loss: 0.0819 - accuracy: 0.9778\n",
            "Epoch 47/50\n",
            "79/79 [==============================] - 8s 96ms/step - loss: 0.0811 - accuracy: 0.9758\n",
            "Epoch 48/50\n",
            "79/79 [==============================] - 7s 93ms/step - loss: 0.0806 - accuracy: 0.9746\n",
            "Epoch 49/50\n",
            "79/79 [==============================] - 8s 98ms/step - loss: 0.0863 - accuracy: 0.9742\n",
            "Epoch 50/50\n",
            "79/79 [==============================] - 8s 99ms/step - loss: 0.0823 - accuracy: 0.9758\n"
          ],
          "name": "stdout"
        }
      ]
    },
    {
      "cell_type": "markdown",
      "metadata": {
        "id": "D3DtoSNTdiuJ",
        "colab_type": "text"
      },
      "source": [
        "## Evalución de los resultados"
      ]
    },
    {
      "cell_type": "markdown",
      "metadata": {
        "id": "aFmZCv5KdiuK",
        "colab_type": "text"
      },
      "source": [
        "Probamos su performance utilizando el test set"
      ]
    },
    {
      "cell_type": "code",
      "metadata": {
        "id": "kqM4G2BVdiuL",
        "colab_type": "code",
        "colab": {
          "base_uri": "https://localhost:8080/",
          "height": 88
        },
        "outputId": "6882201a-67a9-4f31-b33b-4aa1bf816380"
      },
      "source": [
        "predictions = model.predict(X_test)"
      ],
      "execution_count": 23,
      "outputs": [
        {
          "output_type": "stream",
          "text": [
            "WARNING:tensorflow:From /usr/local/lib/python3.6/dist-packages/tensorflow/python/keras/wrappers/scikit_learn.py:241: Sequential.predict_classes (from tensorflow.python.keras.engine.sequential) is deprecated and will be removed after 2021-01-01.\n",
            "Instructions for updating:\n",
            "Please use instead:* `np.argmax(model.predict(x), axis=-1)`,   if your model does multi-class classification   (e.g. if it uses a `softmax` last-layer activation).* `(model.predict(x) > 0.5).astype(\"int32\")`,   if your model does binary classification   (e.g. if it uses a `sigmoid` last-layer activation).\n"
          ],
          "name": "stdout"
        }
      ]
    },
    {
      "cell_type": "code",
      "metadata": {
        "id": "XSIlnu1zdiuN",
        "colab_type": "code",
        "colab": {
          "base_uri": "https://localhost:8080/",
          "height": 255
        },
        "outputId": "1a80c583-9afc-434c-eedf-33f36c0846cf"
      },
      "source": [
        "from sklearn.metrics import classification_report\n",
        "\n",
        "print(classification_report(y_test, predictions))"
      ],
      "execution_count": 24,
      "outputs": [
        {
          "output_type": "stream",
          "text": [
            "              precision    recall  f1-score   support\n",
            "\n",
            "ALIMENTACION       0.96      0.85      0.90       110\n",
            "  AUTOMOCION       0.87      0.78      0.82       148\n",
            "       BANCA       0.84      0.82      0.83       198\n",
            "     BEBIDAS       0.88      0.89      0.88       223\n",
            "    DEPORTES       0.76      0.85      0.80       216\n",
            "      RETAIL       0.79      0.80      0.80       268\n",
            "       TELCO       0.95      0.94      0.94        79\n",
            "\n",
            "    accuracy                           0.84      1242\n",
            "   macro avg       0.86      0.85      0.85      1242\n",
            "weighted avg       0.84      0.84      0.84      1242\n",
            "\n"
          ],
          "name": "stdout"
        }
      ]
    },
    {
      "cell_type": "code",
      "metadata": {
        "id": "nh0g7U79diuP",
        "colab_type": "code",
        "colab": {}
      },
      "source": [
        ""
      ],
      "execution_count": null,
      "outputs": []
    }
  ]
}