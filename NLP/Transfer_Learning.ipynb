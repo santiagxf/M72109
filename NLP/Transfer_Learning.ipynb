{
 "cells": [
  {
   "cell_type": "markdown",
   "metadata": {},
   "source": [
    "# Training a Recurrent Neural Network with transfer learning and a language model"
   ]
  },
  {
   "cell_type": "markdown",
   "metadata": {},
   "source": [
    "### Motivation\n",
    "\n",
    "Word embeddings algorithms like word2vec and GloVe provide a mapping of words to a high-dimensional continuous vector space where different words with a similar meaning have a similar vector representation. These word embeddings, pre-trained on large amounts of unlabeled data, are used to initialize the first layer of a neural network called embedding layer, the rest of the model is then trained on data of a particular task. This kind of transfer learning in NLP problems is shallow as learning is transferred to only the first layer of the model, the rest of the network still needs to be trained from scratch. A model initialized with word embeddings needs to learn from scratch not only to disambiguate words, but also to derive meaning from a sequence of words. \n",
    "\n",
    "<img width='700' src='https://cdn-images-1.medium.com/max/800/0*Q7o7qvuJf7W6JNeY.png' />\n",
    "\n",
    "A language model attempts to learn the structure of natural language through hierarchical representations, and thus contains both low-level features (word representations) and high-level features (semantic meaning). A key feature of language modelling is that it is generative, meaning that it aims to predict the next word given a previous sequence of words. It is able to do this because language models are typically trained on very large datasets in an unsupervised manner, and hence the model can “learn” the syntactic features of language in a much deeper way than word embeddings "
   ]
  },
  {
   "cell_type": "markdown",
   "metadata": {},
   "source": [
    "<img width='800' src='https://cdn-images-1.medium.com/max/2100/1*9J_7_aT_D7b-AcKtv5NPOQ.png' />"
   ]
  },
  {
   "cell_type": "markdown",
   "metadata": {},
   "source": [
    "## About fast.ai\n",
    "\n",
    "fast.ai is a Python library which works on top of PyTorch and it allows you to build complex Machine Learning models with few lines of code. It is intended to be use in teaching scenarios and it usually reduces the complexity of coding to focus on the Machine Learning concepts.\n",
    "\n",
    "You can install fast.ai in Python using both Conda or Pip:\n",
    "\n",
    "- **If using PIP**:\n",
    " pip install pytorch fastai\n",
    "\n",
    "- **If using Conda**\n",
    " conda install -c pytorch -c fastai fastai pytorch"
   ]
  },
  {
   "cell_type": "code",
   "execution_count": 1,
   "metadata": {},
   "outputs": [],
   "source": [
    "import fastai\n",
    "from fastai import *\n",
    "from fastai.text import *"
   ]
  },
  {
   "cell_type": "markdown",
   "metadata": {},
   "source": [
    "## About the IMDB dataset\n",
    "\n",
    "It contains 100k reviews on IMDB. 25k of them are labelled as positive and negative, another 25k are labeled for testing. The remaining 50k is an addional unlabelled data (we will find a use for it nonetheless). Since the dataset is big, let's start loading a sample. fast.ai already has a way to get a sample of this dataset, which is specified by URLs.IMDB_SAMPLE. Since the content is compressed (in tar format) we need to use the method untar_data to extract the content:"
   ]
  },
  {
   "cell_type": "code",
   "execution_count": 2,
   "metadata": {},
   "outputs": [
    {
     "data": {
      "text/plain": [
       "[PosixPath('/home/azureuser/.fastai/data/imdb_sample/texts.csv')]"
      ]
     },
     "execution_count": 2,
     "metadata": {},
     "output_type": "execute_result"
    }
   ],
   "source": [
    "# Language model data\n",
    "imdb_path = untar_data(URLs.IMDB_SAMPLE)\n",
    "imdb_path.ls()"
   ]
  },
  {
   "cell_type": "markdown",
   "metadata": {},
   "source": [
    "We see that the sample is specified in a csv file. We can load a csv file easily using the following method specifying the path where the data is and the name of the file."
   ]
  },
  {
   "cell_type": "code",
   "execution_count": 3,
   "metadata": {},
   "outputs": [],
   "source": [
    "data_lm = TextLMDataBunch.from_csv(imdb_path, 'texts.csv')"
   ]
  },
  {
   "cell_type": "markdown",
   "metadata": {},
   "source": [
    "We can inspect the data loaded using the show_batch method which will pull the top 5 rows"
   ]
  },
  {
   "cell_type": "code",
   "execution_count": 4,
   "metadata": {},
   "outputs": [
    {
     "data": {
      "text/html": [
       "<table border=\"1\" class=\"dataframe\">\n",
       "  <thead>\n",
       "    <tr style=\"text-align: right;\">\n",
       "      <th>idx</th>\n",
       "      <th>text</th>\n",
       "    </tr>\n",
       "  </thead>\n",
       "  <tbody>\n",
       "    <tr>\n",
       "      <td>0</td>\n",
       "      <td>to have a more caring nature instead of the vindictiveness to everyone at the hospital . xxmaj also , there seems to be many questionable legal aspects to what xxmaj tritter is actually doing . xxmaj he alone can not freeze accounts and have the authority to stop doctors from writing xxunk for patients . a lot of the vindictiveness he is showing also is hurting the very sick patients</td>\n",
       "    </tr>\n",
       "    <tr>\n",
       "      <td>1</td>\n",
       "      <td>screenplay should have been improved and provided more suspense as these theatrical moves telegraphed the plot far too early to the audience . xxbos xxmaj dear dear dear dear dear ... me ! i had the strength to see it through ... xxmaj but why ? ! \\n \\n  xxmaj the first two films where fun and actually somewhat good . xxmaj but this is so bad we had</td>\n",
       "    </tr>\n",
       "    <tr>\n",
       "      <td>2</td>\n",
       "      <td>a xxmaj mão do xxmaj diabo ' ( xxmaj the xxmaj devil 's xxmaj hand ' ) . xxmaj if at least it were ' xxmaj the xxmaj god 's xxmaj hand ' , it might be acceptable . xxmaj but calling this movie as ' the devil 's hand ' is indeed ridiculous . xxmaj brent xxmaj xxunk , the screenwriter , did not deserve such a lack of</td>\n",
       "    </tr>\n",
       "    <tr>\n",
       "      <td>3</td>\n",
       "      <td>talented individual . i first saw xxmaj mr. xxmaj oates back in the 1960 's television series called xxmaj xxunk xxmaj burke . xxmaj from then on , i followed his career closely and felt he was destined for great roles . xxmaj that happened in 1974 , when xxmaj sam xxmaj peckinpah gave him top billing in a film called ' xxmaj bring xxmaj me the xxmaj head of</td>\n",
       "    </tr>\n",
       "    <tr>\n",
       "      <td>4</td>\n",
       "      <td>xxmaj bruce . xxmaj very good ! xxbos i was subjected to this atrocity by my wife , tried to turn it off after 10 minutes , but was forced through the whole thing . xxmaj this must be , hands down , the most gruesome pretense of a movie ever ... \\n \\n  xxmaj there were great script moments , such as : \\n \\n  xxmaj sammy</td>\n",
       "    </tr>\n",
       "  </tbody>\n",
       "</table>"
      ],
      "text/plain": [
       "<IPython.core.display.HTML object>"
      ]
     },
     "metadata": {},
     "output_type": "display_data"
    }
   ],
   "source": [
    "data_lm.show_batch()"
   ]
  },
  {
   "cell_type": "markdown",
   "metadata": {},
   "source": [
    "### What's happening behind the scenes?\n",
    "\n",
    "The method is specific for text loading and **it does a bit more than loading the data.** The first step of processing text consists on spliting the raw sentences into words, or more exactly into tokens. The easiest way to do that would be to split the string on spaces, but...:\n",
    " - we need to take care of punctuation\n",
    " - some wors are contactions of two different words, like isn't or don't\n",
    " \n",
    "The loading method is also doing the preprocessing for us:\n",
    "- The s are grouped together in one token\n",
    "- The contractions are separated\n",
    "- Content has been lower cased\n",
    "- there are several special tokens (all the ones that begins with xx) to replace unknown tokens or to introduce different text fields"
   ]
  },
  {
   "cell_type": "markdown",
   "metadata": {},
   "source": [
    "### How the dictionary looks like?\n",
    "\n",
    "The mapping from ids tokens is stored in the vocab attribute of our datasets, in a dictionary called itos (for int to string)"
   ]
  },
  {
   "cell_type": "code",
   "execution_count": 5,
   "metadata": {},
   "outputs": [
    {
     "data": {
      "text/plain": [
       "['xxunk',\n",
       " 'xxpad',\n",
       " 'xxbos',\n",
       " 'xxeos',\n",
       " 'xxfld',\n",
       " 'xxmaj',\n",
       " 'xxup',\n",
       " 'xxrep',\n",
       " 'xxwrep',\n",
       " 'the',\n",
       " '.',\n",
       " ',',\n",
       " 'and',\n",
       " 'a',\n",
       " 'of']"
      ]
     },
     "execution_count": 5,
     "metadata": {},
     "output_type": "execute_result"
    }
   ],
   "source": [
    "data_lm.train_ds.vocab.itos[:15]"
   ]
  },
  {
   "cell_type": "markdown",
   "metadata": {},
   "source": [
    "Let's see how the underlying data is actually stored"
   ]
  },
  {
   "cell_type": "code",
   "execution_count": 6,
   "metadata": {},
   "outputs": [
    {
     "data": {
      "text/plain": [
       "array([   2,   19,  314, 1466,   15,  292,   52,  129, 1467,  877])"
      ]
     },
     "execution_count": 6,
     "metadata": {},
     "output_type": "execute_result"
    }
   ],
   "source": [
    "data_lm.train_ds[0][0].data[:10]"
   ]
  },
  {
   "cell_type": "code",
   "execution_count": 2,
   "metadata": {},
   "outputs": [],
   "source": [
    "working_dir = '/home/azureuser/.fastai/data/imdb/models/'"
   ]
  },
  {
   "cell_type": "markdown",
   "metadata": {},
   "source": [
    "# Time for some action\n",
    "Let's see how to create our classification model now. We are going to the the following:\n",
    "\n",
    "- Load the dataset\n",
    "- Create a language model that will encode the text into vectors with the help of transfer learning\n",
    "- Create a classification model that will predict the sentiment of a review. The vector encoding of the inputs will be the one of the model we did before\n",
    "\n",
    "\n",
    "## Loading the dataset\n",
    "\n",
    "Now we are going to use the entire dataset for creating our model in a similar way we did before"
   ]
  },
  {
   "cell_type": "code",
   "execution_count": 3,
   "metadata": {},
   "outputs": [
    {
     "data": {
      "text/plain": [
       "[PosixPath('/home/azureuser/.fastai/data/imdb/imdb.vocab'),\n",
       " PosixPath('/home/azureuser/.fastai/data/imdb/train'),\n",
       " PosixPath('/home/azureuser/.fastai/data/imdb/models'),\n",
       " PosixPath('/home/azureuser/.fastai/data/imdb/lm_dictionary'),\n",
       " PosixPath('/home/azureuser/.fastai/data/imdb/tmp_lm'),\n",
       " PosixPath('/home/azureuser/.fastai/data/imdb/tmp_clas'),\n",
       " PosixPath('/home/azureuser/.fastai/data/imdb/clas_dictionary.pkl'),\n",
       " PosixPath('/home/azureuser/.fastai/data/imdb/README'),\n",
       " PosixPath('/home/azureuser/.fastai/data/imdb/lm_dictionary.pkl'),\n",
       " PosixPath('/home/azureuser/.fastai/data/imdb/test'),\n",
       " PosixPath('/home/azureuser/.fastai/data/imdb/unsup')]"
      ]
     },
     "execution_count": 3,
     "metadata": {},
     "output_type": "execute_result"
    }
   ],
   "source": [
    "imdb_path = untar_data(URLs.IMDB)\n",
    "imdb_path.ls()"
   ]
  },
  {
   "cell_type": "markdown",
   "metadata": {},
   "source": [
    "In this case we can't use the load csv method because we are going to load both the train and test folders. **Can you guess why?**"
   ]
  },
  {
   "cell_type": "code",
   "execution_count": 29,
   "metadata": {},
   "outputs": [],
   "source": [
    "data_lm = (TextList.from_folder(imdb_path)\n",
    "          .filter_by_folder(include=['train', 'test'])\n",
    "          .split_by_rand_pct(0.1)\n",
    "          .label_for_lm()\n",
    "          .databunch())\n",
    "\n",
    "data_lm.save('lm_dictionary.pkl')\n",
    "\n",
    "#if training is taking to much time for you, you may need to get a GPU to speed up the process. Uncomment the following two lines to use a smaller dataset you can train in minutes.\n",
    "# imdb_path = untar_data(URLs.IMDB_SAMPLE)\n",
    "#data_lm = TextLMDataBunch.from_csv(imdb_path, 'texts.csv')"
   ]
  },
  {
   "cell_type": "code",
   "execution_count": 30,
   "metadata": {},
   "outputs": [
    {
     "name": "stdout",
     "output_type": "stream",
     "text": [
      "imdb.vocab     lm_dictionary.pkl  test\t    tmp_lm  unsup\n",
      "lm_dictionary  README\t\t  tmp_clas  train\n"
     ]
    }
   ],
   "source": [
    "!ls '/home/azureuser/.fastai/data/imdb/'"
   ]
  },
  {
   "cell_type": "markdown",
   "metadata": {},
   "source": [
    "The labels of each review is the review itself, because what we are modeling at this point is the language. So we don't need to make a distinction between test and training. It's all data and remember that the more data we have the better our model will be. After than we are setting aside 10% of the data as validation for our language model.\n",
    "\n",
    "Remember that the loading method will do all the text processing for us. No need to do any extra step here."
   ]
  },
  {
   "cell_type": "code",
   "execution_count": 4,
   "metadata": {},
   "outputs": [],
   "source": [
    "data_lm = load_data(imdb_path, 'lm_dictionary.pkl')"
   ]
  },
  {
   "cell_type": "markdown",
   "metadata": {},
   "source": [
    "## Training a language model with transfer learning\n",
    "\n",
    "We are not going to train a classification model from scratch. Like in computer vision, we'll use a model pretrained on a bigger dataset (WIKI103). That model has been trained to guess the next word after a sentence. The models uses a recurrent neural network (a recurrent structure) that get's updated each time it sees a new word so it can model sequences. We want to use this model to understand the structure of the English language which in turn can help us in our sentiment analysis.\n",
    "\n",
    "We have to use a special kind of learner for the language model (because the labels are the text itself!). The learner will be a recurrent neural network. The method needs the data for training, the pretrained model we want to use (in this case WT103) and the amount of dropout we want to use. Dropout is a technique in Neural Networks that allows us to introduce regularization and avoid overfitting. We won't get into the details about how they work now but you are welcome to review the concept."
   ]
  },
  {
   "cell_type": "code",
   "execution_count": 6,
   "metadata": {},
   "outputs": [],
   "source": [
    "learn = language_model_learner(data_lm, arch=AWD_LSTM, drop_mult=0.3)"
   ]
  },
  {
   "cell_type": "markdown",
   "metadata": {},
   "source": [
    "#### Have you heard about hyperparameters?\n",
    "It is a common problem in Machine Learning and it usually requires a lot of experience to know what to use. fast.ai have a method to find this parameters and that method is lr_find(). The theory behind it is a bit extense, but basically the idea is to start with a low learning rate and start to increase it step by step until the loss of the model starts to explote. This method will do that for us"
   ]
  },
  {
   "cell_type": "code",
   "execution_count": 40,
   "metadata": {},
   "outputs": [
    {
     "data": {
      "text/html": [],
      "text/plain": [
       "<IPython.core.display.HTML object>"
      ]
     },
     "metadata": {},
     "output_type": "display_data"
    },
    {
     "name": "stdout",
     "output_type": "stream",
     "text": [
      "LR Finder is complete, type {learner_name}.recorder.plot() to see the graph.\n"
     ]
    }
   ],
   "source": [
    "learn.lr_find()"
   ]
  },
  {
   "cell_type": "code",
   "execution_count": 41,
   "metadata": {},
   "outputs": [
    {
     "data": {
      "image/png": "[encoded data removed]",
      "text/plain": [
       "<Figure size 432x288 with 1 Axes>"
      ]
     },
     "metadata": {
      "needs_background": "light"
     },
     "output_type": "display_data"
    }
   ],
   "source": [
    "learn.recorder.plot()"
   ]
  },
  {
   "cell_type": "markdown",
   "metadata": {},
   "source": [
    "Once we now the learning rate, it's time to start the training. In fast.ai, the trainig is usually done using a method called fit_one_cycle by specifying the number of epochs, the learning rate and the momentum. If you are not familiar with this concepts, don't worry. Those are specific terms when training neural networks using a well know method called stochastic gradient descent (SGD)."
   ]
  },
  {
   "cell_type": "code",
   "execution_count": 42,
   "metadata": {},
   "outputs": [
    {
     "data": {
      "text/html": [
       "<table border=\"1\" class=\"dataframe\">\n",
       "  <thead>\n",
       "    <tr style=\"text-align: left;\">\n",
       "      <th>epoch</th>\n",
       "      <th>train_loss</th>\n",
       "      <th>valid_loss</th>\n",
       "      <th>accuracy</th>\n",
       "      <th>time</th>\n",
       "    </tr>\n",
       "  </thead>\n",
       "  <tbody>\n",
       "    <tr>\n",
       "      <td>0</td>\n",
       "      <td>4.113792</td>\n",
       "      <td>3.959602</td>\n",
       "      <td>0.297836</td>\n",
       "      <td>06:10</td>\n",
       "    </tr>\n",
       "  </tbody>\n",
       "</table>"
      ],
      "text/plain": [
       "<IPython.core.display.HTML object>"
      ]
     },
     "metadata": {},
     "output_type": "display_data"
    }
   ],
   "source": [
    "learn.fit_one_cycle(1, 1e-2, moms=(0.8,0.7))"
   ]
  },
  {
   "cell_type": "markdown",
   "metadata": {},
   "source": [
    "To finalize the training, we typically unfreeze the last layer and then fine-tune the model. This is a practice in Transfer Learning where the idea here is that the firsts layers will contain the structure and knowledge of the english language in general, but the last layer will have knowledge specific of our data set. In this way we retain the generalization learned from the english language all combined with the specific aspects of our dataset. "
   ]
  },
  {
   "cell_type": "code",
   "execution_count": 43,
   "metadata": {},
   "outputs": [
    {
     "data": {
      "text/html": [
       "<table border=\"1\" class=\"dataframe\">\n",
       "  <thead>\n",
       "    <tr style=\"text-align: left;\">\n",
       "      <th>epoch</th>\n",
       "      <th>train_loss</th>\n",
       "      <th>valid_loss</th>\n",
       "      <th>accuracy</th>\n",
       "      <th>time</th>\n",
       "    </tr>\n",
       "  </thead>\n",
       "  <tbody>\n",
       "    <tr>\n",
       "      <td>0</td>\n",
       "      <td>3.753235</td>\n",
       "      <td>3.745613</td>\n",
       "      <td>0.322843</td>\n",
       "      <td>07:03</td>\n",
       "    </tr>\n",
       "  </tbody>\n",
       "</table>"
      ],
      "text/plain": [
       "<IPython.core.display.HTML object>"
      ]
     },
     "metadata": {},
     "output_type": "display_data"
    }
   ],
   "source": [
    "learn.unfreeze()\n",
    "learn.fit_one_cycle(1, 1e-3, moms=(0.8,0.7))"
   ]
  },
  {
   "cell_type": "markdown",
   "metadata": {},
   "source": [
    "What do you think? Is it a good model? what does the 0.3 means?"
   ]
  },
  {
   "cell_type": "markdown",
   "metadata": {},
   "source": [
    "Since training maybe time consuming... it's always a good idea to save the trained model to use it later."
   ]
  },
  {
   "cell_type": "code",
   "execution_count": 44,
   "metadata": {},
   "outputs": [],
   "source": [
    "learn.save_encoder('lm_encoder')"
   ]
  },
  {
   "cell_type": "markdown",
   "metadata": {},
   "source": [
    "#### How good is our language model?\n",
    "We can check that trying to predicts the next words after a sentence. We are fist loading the encoder just in case we don't want to do all the training again. we just want to test it"
   ]
  },
  {
   "cell_type": "code",
   "execution_count": 7,
   "metadata": {},
   "outputs": [
    {
     "data": {
      "text/plain": [
       "LanguageLearner(data=TextLMDataBunch;\n",
       "\n",
       "Train: LabelList (45000 items)\n",
       "x: LMTextList\n",
       "xxbos i found it a real task to sit through this film . xxmaj the sound track was not the best and some of the accents made it difficult to understand what was being said . xxmaj there was little to move the plot along and often the action simply stopped and there was a prolonged period of conversations which seemed extraneous to the movie . xxmaj these conversations switched between family groups and the observer was left to try and piece together what the common thread was that tied them together . xxmaj it is rare that i rate a film this low and do so in this case as the entire viewing experience left me thinking \" so what \" and \" why did i waste my time watching this . \",xxbos i just saw the movie in theater . xxmaj the movie has very few good points to talk about . xxmaj kareena 's beauty and a couple of songs may be . xxmaj that s it . xxmaj the movie is a complete disappointment in all areas . xxmaj anyone associated with the movie will be disappointed , even xxmaj mumbai xxmaj indians too ( just now xxmaj chennai has made it to semi - final ) . \n",
       " \n",
       "  xxmaj but the worst i feel about the movie is the action scenes . xxmaj now days xxmaj bollywood is trying to copy action scenes from xxmaj hollywood . xxmaj but they forget that xxmaj hollywood directors takes a lot effect to make it look like real . xxmaj but unfortunately xxmaj bollywood directors do not have that much of time . xxmaj they spend their time on songs and publicity of the movie . xxmaj now such too stupid action scenes may work in xxmaj south as the audience just pay to watch their favorite actor killing bunch of people . xxmaj but in xxmaj bollywood this is certainly not going to work . xxmaj all the action scenes i wish i could have forwarded . xxmaj at the end even some xxmaj chinese people appear from nowhere to beat xxmaj akshay xxmaj kumar . xxmaj this is height of stupidity . xxmaj audience is not paying to watch such stupidity . i think xxmaj bollywood now should forget about the action movies . xxmaj they ca nt make it . xxmaj the last good action i have seen was from \" xxmaj xxunk \" and \" xxmaj xxunk ka xxmaj xxunk \" . xxmaj the current scene in xxmaj bollywood is really sad for action movie fans like me . xxmaj does these people see their movie after completion ? xxmaj ca n't they figure out that the slow motion action ( which is done using ropes ) is too unrealistic and childish ? xxmaj better not to have action scenes if you ca nt handle it . i just want to go back to xxmaj amitabh 's era where movie like xxmaj xxunk and xxmaj xxunk were having thrilling action scenes . xxmaj the sound effect was not very effective in those days , but visually it is much better than current era scenes . \n",
       " \n",
       "  xxmaj this movie now should open the eyes of the xxmaj bollywood movie directors . xxmaj please do n't make any more action movies , until you acquire the art of making it realistic .,xxbos xxmaj follows the same path as most sequels . xxmaj first one was great . xxmaj second was average and this one , full of bad acting and some stupid dialog and well as a lot of suspension of disbelief , this movie was weak . \n",
       " \n",
       "  xxmaj too predictable and i just could n't stand that xxmaj henry xxmaj wrinkler - like boss with that stupid eye , there was so much more they could have done with this . i liked the first one a lot . i wish they would have went more down those lines , rather than what they did here . \n",
       " \n",
       "  xxmaj there was too much unexplained that needed to be explained , what time period this was in and why why why is there an old fashioned phone in that room ? \n",
       " \n",
       "  i understand there is another one in the works . \n",
       " \n",
       "  xxmaj blah !,xxbos xxmaj revolt of the xxmaj zombies has no redeeming features . i 'm tired of people arguing that it 's not that bad , and that the effects must have packed more of a punch in 1936 . i suspect this is n't true : it 's not like xxup iq 's have risen sharply in the last 7 decades . xxmaj the average viewer in 1936 was probably just as bored by this rubbish as the average viewer today . xxmaj why ? xxmaj just try watching the first scenes , and count the pauses between things happening , the awful choice of when to cut to close - up , the slapdash editing that seems to include an extra two seconds on every shot to pad out the running time . xxmaj pay attention to the utterly redundant dialogue : \" i 'm going to make some tea / go outside / read my book now . \" \" xxmaj are you ? \" \" xxmaj yes , i am . \" xxmaj that sort of exchange happens several times . xxmaj normally i would love that , being a xxup huge fan of bad movies , but watch the listless actors mumbling their trite and tedious lines , and all desire to laugh at the movie slowly fades away . xxmaj this sort of disinterested , pot - boiling time - waster is far worse than energetic , imaginative mind - xxunk like xxmaj plan xxmaj nine xxmaj from xxmaj outer xxmaj space or xxmaj santa xxmaj claus xxmaj conquers xxmaj the xxmaj martians . xxmaj those who claim that this is \" better \" than those more interesting movies have a backwards idea of entertainment . xxmaj this movie is not bad in the sense that your jaw hangs open in astonishment : it 's bad in the sense that your eyes slowly close in boredom . xxmaj which is far worse .,xxbos xxmaj when it comes to horror movies , i am more than willing to suspend disbelief , ignore sub - par production values , and overlook plot holes in the interest of a good scare . xxmaj this movies simply has no good scares to offer . xxmaj it ca n't even be enjoyed as camp . xxmaj bad dialogue , bad acting , bad direction , the kills were predictable and poorly staged , the music was annoying , the camera work was wretched , even the costumes were bad . i felt really bad for the actors , who were obviously trying , but who had to deal with terrible , contrived dialogue and an obvious lack of direction . i doubt they got any rehearsal , either . xxmaj it 's embarrassing to watch , and so boring than making it through to the contrived \" surprise \" ending requires tremendous endurance . xxmaj it 's quite easily one of the worst movies i 've ever seen . \n",
       " \n",
       "  i do n't normally write reviews , but this one was so bad that i felt compelled to warn others . xxmaj this movie is a complete waste of time . xxmaj if you must watch this movie , do n't miss the \" xxmaj making of \"- featurette . xxmaj the writer / director seems to be under the impression that making the killer a woman was kind of bold , daring move . ( xxmaj seen it . ) xxmaj he and the cast spend half an hour deconstructing this film as if it 's a new - age \" xxmaj citizen xxmaj kane . \" xxmaj it 's like listening to a group of third - graders take you behind the scenes of their xxmaj christmas pageant . xxmaj they truly think they 've created something of substance . xxmaj it 's sad , really \n",
       "  xxmaj the only reason i gave this movie a \" 2 \" is because i think \" 1 \" should be reserved for true atrocities , like \" xxmaj manos : xxmaj hands of xxmaj fate \" and \" xxmaj space xxmaj mutiny . \" xxmaj so \" xxmaj american xxmaj nightmare \" is n't the xxup worst movie i 've ever seen , but i 'd have to say that it 's somewhere in the bottom fifty .\n",
       "y: LMLabelList\n",
       ",,,,\n",
       "Path: /home/azureuser/.fastai/data/imdb;\n",
       "\n",
       "Valid: LabelList (5000 items)\n",
       "x: LMTextList\n",
       "xxbos xxmaj heh ... xxmaj i'm surprised this movie still exists in any form , let alone it being available for rent ! \n",
       " \n",
       "  xxmaj this flick is one of the many bad slasher flicks that exist only for the xxup t&a and the cheap laughs . xxmaj the story line crosses a bit of \" xxmaj texas xxmaj chainsaw massacre \" with a screwy mamma - centred back story reminiscent of \" xxmaj psycho \" , and a bit of the good old women - in - chains , tough - as - nail - ex - con broads tossed in for good measure - in other words , complete unoriginality wrapped up in half naked women spiced with a dash of utter idiocy ! xxmaj looking on as the director attempts to make the marsh land of xxmaj quebec pass off as xxmaj southern xxup u.s. bayou land is sad , i tell ya ! \n",
       " \n",
       "  xxmaj funny thing for me is , i was actually at the premier of this flick as , at the time , i was pals with xxmaj xxunk , the film 's \" star \" . xxmaj it was painful to watch on as xxmaj jeremy sank into his seat whilst the flick unfolded its mangled wings . \n",
       " \n",
       "  i 'm happy to see that xxmaj xxunk , after this sham of a first flick , has grown into one hell of an actor . xxmaj he can be seen regularly on the xxmaj canadian cop drama \" xxmaj blue xxmaj murder \" , has appeared on \" xxup csi \" , not to mention his role in the classic xxmaj clint xxmaj eastwood film \" xxmaj unforgiven \" - we forgive ya , xxmaj jeremy ! xxmaj it was a rocky start , but you done good , man ! \n",
       " \n",
       "  xxunk,xxbos xxmaj this xxmaj british documentary was recently shown on xxmaj comedy xxmaj central during their \" xxmaj best of \n",
       " \" week and can also be seen on xxmaj south xxmaj park 's second season xxup dvd . i remember seeing many commercials for the xxup dvd showing clips of this documentary , most of which occurs with xxmaj matt xxmaj stone , xxmaj trey xxmaj parker , and some other guy in a hot tub . xxmaj it was funny when i saw it in the commercials , but i was used to seeing it by the time i saw the actual documentary . \n",
       " \n",
       "  xxmaj overall , \" xxmaj goin' xxmaj down to xxmaj south xxmaj park \" is a fairly funny and interesting look at how xxmaj south xxmaj park episodes are made and of the series ' history going back to when xxmaj matt and xxmaj trey came up with the idea in college . xxmaj however , there was something about the tone of this documentary that actually felt sort of depressing . xxmaj it 's not as fast - paced , rapid - fire , and as lively as the actual xxmaj south xxmaj park episodes . xxmaj instead , it kind of has a slow , dry - wit style , which at times can be funny , but most of the time you 're just waiting for something to happen . xxmaj if you get the chance to watch it , by all means go for it , but i do n't think you 're really missing much if you never see it . \n",
       " \n",
       "  xxmaj my imdb xxmaj rating : 7 / 10,xxbos xxmaj how many xxmaj english 101 student 's versions of 1984 must xxmaj america endure ? \" xxmaj gosh , this is a great book , but kind of a downer . i know , i 'll write one just like it where everything works out okay . i 'll also replace xxmaj orwell 's old , used up political insights from the thirties with my own insightful , informed opinions form the 1970s . xxmaj think , think , political insight ... xxmaj evil xxmaj politicians , i 'm a genius ! xxmaj and there will be clones that they make of themselves for some diabolical reason ... i 'll work on that . xxmaj it 'll work . \" xxmaj no it wo n't , xxmaj bob xxmaj sullivan , writer of this story . xxmaj this really is all you 're fault . xxmaj you could have stopped them early and said , \" xxmaj guys , with our budget and acting abilities , i was thinking more \n",
       "  romantic comedy , or we could move away form taking ourselves so seriously and make a campy spoof this tired , familiar genre of movies . \" xxmaj did you do that though bob ? xxmaj no you did n't , and you 've had 28 years to think about it . \n",
       " \n",
       "  i do n't mean to be so spiteful . i 'm sorry i yelled at you xxmaj bob . xxmaj you 've obviously had to live with this mistake a lot longer then i have . xxmaj some blame really should go to xxmaj ron xxmaj smith , who helped you adapt the screenplay . xxmaj he could have stopped you at any time . xxmaj you were young and naive , and he took advantage of you . xxmaj now he xxunk the plots for video games and you , bob , well who knows what you do . i 'm sorry if that sounds harsh xxmaj bob , but that 's the way it is . xxmaj you were sold upriver by the xxmaj hollywood xxunk . xxmaj as if xxmaj ron was n't enough , xxmaj michael bay also saw your movie , and without even asking for rights or anything , added some explosions to your concept and turned it into \" xxmaj the xxmaj island . \" xxmaj that i think is the most disgusting part of all , that with a little eye candy , your script could of easily been good enough for a major xxmaj hollywood production , which i 'd of hated just as much as this movie and not felt sorry for you at all . \n",
       " \n",
       "  i 'm sorry things worked this way for you bob . xxmaj ron and xxmaj michael walked all over you , leaving you a withered shell of a man , who 's height of movie writing greatness will be a joke on xxmaj mystery xxmaj science xxmaj theater 3000 . xxmaj do n't focus on that though xxmaj bob , because xxmaj karma works in mysterious ways , and one day , they 'll pay for what they did to poor little xxmaj bob xxmaj sullivan .,xxbos ... but watch xxmaj mary mcdonnell 's performance closely . xxmaj her body language . xxmaj her fine body movements . xxmaj her subtle , but powerfully effective , reactions . xxmaj this is an accomplished artist at the top of her craft . xxmaj and the rest of the cast were pretty damned good , too ! ; o ) \n",
       " \n",
       "  xxmaj this is perhaps the 3rd or 4th viewing for me , and i see more in it each time . xxmaj what / xxup is / this world coming to , anyway ? xxup xxunk,xxbos i watched xxmaj cheats a few years ago with my friend . xxmaj he hyped it up as a great funny film that is one of the best comedies ever . i think he was on crack or something . i just recently learned that this film was not released into theatres , i can understand why perfectly . \n",
       " \n",
       "  the basic plot involves a group of guys who cheat on pretty much all of their assignments in school to get good grades . xxmaj that is the main problem of this film is that the morals are all bad . xxmaj there are other teen comedy films where students do bad things but it is most often stuff that does not take place at school . xxmaj so i think that the concept of having a whole movie that basically has kids cheating on everything is pretty bad . \n",
       " \n",
       "  i did not like the characters in this film either . xxmaj the main character guy is a completely smug arrogant idiot who is not a good protagonist . xxmaj actually i am not sure if you could say that there is a protagonist due to the fact that they all are cheating at school which is wrong . the other supporting characters were not funny at all and basically the cast blows in this film . \n",
       " \n",
       "  xxmaj this film has a bad message and even worse acting and characters . xxmaj there are other teen films that are way better than this film . xxmaj so you do not have to see this one and that is a good thing because i do not recommend this film at all .\n",
       "y: LMLabelList\n",
       ",,,,\n",
       "Path: /home/azureuser/.fastai/data/imdb;\n",
       "\n",
       "Test: None, model=SequentialRNN(\n",
       "  (0): AWD_LSTM(\n",
       "    (encoder): Embedding(49808, 400, padding_idx=1)\n",
       "    (encoder_dp): EmbeddingDropout(\n",
       "      (emb): Embedding(49808, 400, padding_idx=1)\n",
       "    )\n",
       "    (rnns): ModuleList(\n",
       "      (0): WeightDropout(\n",
       "        (module): LSTM(400, 1152, batch_first=True)\n",
       "      )\n",
       "      (1): WeightDropout(\n",
       "        (module): LSTM(1152, 1152, batch_first=True)\n",
       "      )\n",
       "      (2): WeightDropout(\n",
       "        (module): LSTM(1152, 400, batch_first=True)\n",
       "      )\n",
       "    )\n",
       "    (input_dp): RNNDropout()\n",
       "    (hidden_dps): ModuleList(\n",
       "      (0): RNNDropout()\n",
       "      (1): RNNDropout()\n",
       "      (2): RNNDropout()\n",
       "    )\n",
       "  )\n",
       "  (1): LinearDecoder(\n",
       "    (decoder): Linear(in_features=400, out_features=49808, bias=True)\n",
       "    (output_dp): RNNDropout()\n",
       "  )\n",
       "), opt_func=functools.partial(<class 'torch.optim.adam.Adam'>, betas=(0.9, 0.99)), loss_func=FlattenedLoss of CrossEntropyLoss(), metrics=[<function accuracy at 0x7f36e04b7158>], true_wd=True, bn_wd=True, wd=0.01, train_bn=True, path=PosixPath('/home/azureuser/.fastai/data/imdb'), model_dir='models', callback_fns=[functools.partial(<class 'fastai.basic_train.Recorder'>, add_time=True, silent=False)], callbacks=[RNNTrainer\n",
       "learn: LanguageLearner(data=TextLMDataBunch;\n",
       "\n",
       "Train: LabelList (45000 items)\n",
       "x: LMTextList\n",
       "xxbos i found it a real task to sit through this film . xxmaj the sound track was not the best and some of the accents made it difficult to understand what was being said . xxmaj there was little to move the plot along and often the action simply stopped and there was a prolonged period of conversations which seemed extraneous to the movie . xxmaj these conversations switched between family groups and the observer was left to try and piece together what the common thread was that tied them together . xxmaj it is rare that i rate a film this low and do so in this case as the entire viewing experience left me thinking \" so what \" and \" why did i waste my time watching this . \",xxbos i just saw the movie in theater . xxmaj the movie has very few good points to talk about . xxmaj kareena 's beauty and a couple of songs may be . xxmaj that s it . xxmaj the movie is a complete disappointment in all areas . xxmaj anyone associated with the movie will be disappointed , even xxmaj mumbai xxmaj indians too ( just now xxmaj chennai has made it to semi - final ) . \n",
       " \n",
       "  xxmaj but the worst i feel about the movie is the action scenes . xxmaj now days xxmaj bollywood is trying to copy action scenes from xxmaj hollywood . xxmaj but they forget that xxmaj hollywood directors takes a lot effect to make it look like real . xxmaj but unfortunately xxmaj bollywood directors do not have that much of time . xxmaj they spend their time on songs and publicity of the movie . xxmaj now such too stupid action scenes may work in xxmaj south as the audience just pay to watch their favorite actor killing bunch of people . xxmaj but in xxmaj bollywood this is certainly not going to work . xxmaj all the action scenes i wish i could have forwarded . xxmaj at the end even some xxmaj chinese people appear from nowhere to beat xxmaj akshay xxmaj kumar . xxmaj this is height of stupidity . xxmaj audience is not paying to watch such stupidity . i think xxmaj bollywood now should forget about the action movies . xxmaj they ca nt make it . xxmaj the last good action i have seen was from \" xxmaj xxunk \" and \" xxmaj xxunk ka xxmaj xxunk \" . xxmaj the current scene in xxmaj bollywood is really sad for action movie fans like me . xxmaj does these people see their movie after completion ? xxmaj ca n't they figure out that the slow motion action ( which is done using ropes ) is too unrealistic and childish ? xxmaj better not to have action scenes if you ca nt handle it . i just want to go back to xxmaj amitabh 's era where movie like xxmaj xxunk and xxmaj xxunk were having thrilling action scenes . xxmaj the sound effect was not very effective in those days , but visually it is much better than current era scenes . \n",
       " \n",
       "  xxmaj this movie now should open the eyes of the xxmaj bollywood movie directors . xxmaj please do n't make any more action movies , until you acquire the art of making it realistic .,xxbos xxmaj follows the same path as most sequels . xxmaj first one was great . xxmaj second was average and this one , full of bad acting and some stupid dialog and well as a lot of suspension of disbelief , this movie was weak . \n",
       " \n",
       "  xxmaj too predictable and i just could n't stand that xxmaj henry xxmaj wrinkler - like boss with that stupid eye , there was so much more they could have done with this . i liked the first one a lot . i wish they would have went more down those lines , rather than what they did here . \n",
       " \n",
       "  xxmaj there was too much unexplained that needed to be explained , what time period this was in and why why why is there an old fashioned phone in that room ? \n",
       " \n",
       "  i understand there is another one in the works . \n",
       " \n",
       "  xxmaj blah !,xxbos xxmaj revolt of the xxmaj zombies has no redeeming features . i 'm tired of people arguing that it 's not that bad , and that the effects must have packed more of a punch in 1936 . i suspect this is n't true : it 's not like xxup iq 's have risen sharply in the last 7 decades . xxmaj the average viewer in 1936 was probably just as bored by this rubbish as the average viewer today . xxmaj why ? xxmaj just try watching the first scenes , and count the pauses between things happening , the awful choice of when to cut to close - up , the slapdash editing that seems to include an extra two seconds on every shot to pad out the running time . xxmaj pay attention to the utterly redundant dialogue : \" i 'm going to make some tea / go outside / read my book now . \" \" xxmaj are you ? \" \" xxmaj yes , i am . \" xxmaj that sort of exchange happens several times . xxmaj normally i would love that , being a xxup huge fan of bad movies , but watch the listless actors mumbling their trite and tedious lines , and all desire to laugh at the movie slowly fades away . xxmaj this sort of disinterested , pot - boiling time - waster is far worse than energetic , imaginative mind - xxunk like xxmaj plan xxmaj nine xxmaj from xxmaj outer xxmaj space or xxmaj santa xxmaj claus xxmaj conquers xxmaj the xxmaj martians . xxmaj those who claim that this is \" better \" than those more interesting movies have a backwards idea of entertainment . xxmaj this movie is not bad in the sense that your jaw hangs open in astonishment : it 's bad in the sense that your eyes slowly close in boredom . xxmaj which is far worse .,xxbos xxmaj when it comes to horror movies , i am more than willing to suspend disbelief , ignore sub - par production values , and overlook plot holes in the interest of a good scare . xxmaj this movies simply has no good scares to offer . xxmaj it ca n't even be enjoyed as camp . xxmaj bad dialogue , bad acting , bad direction , the kills were predictable and poorly staged , the music was annoying , the camera work was wretched , even the costumes were bad . i felt really bad for the actors , who were obviously trying , but who had to deal with terrible , contrived dialogue and an obvious lack of direction . i doubt they got any rehearsal , either . xxmaj it 's embarrassing to watch , and so boring than making it through to the contrived \" surprise \" ending requires tremendous endurance . xxmaj it 's quite easily one of the worst movies i 've ever seen . \n",
       " \n",
       "  i do n't normally write reviews , but this one was so bad that i felt compelled to warn others . xxmaj this movie is a complete waste of time . xxmaj if you must watch this movie , do n't miss the \" xxmaj making of \"- featurette . xxmaj the writer / director seems to be under the impression that making the killer a woman was kind of bold , daring move . ( xxmaj seen it . ) xxmaj he and the cast spend half an hour deconstructing this film as if it 's a new - age \" xxmaj citizen xxmaj kane . \" xxmaj it 's like listening to a group of third - graders take you behind the scenes of their xxmaj christmas pageant . xxmaj they truly think they 've created something of substance . xxmaj it 's sad , really \n",
       "  xxmaj the only reason i gave this movie a \" 2 \" is because i think \" 1 \" should be reserved for true atrocities , like \" xxmaj manos : xxmaj hands of xxmaj fate \" and \" xxmaj space xxmaj mutiny . \" xxmaj so \" xxmaj american xxmaj nightmare \" is n't the xxup worst movie i 've ever seen , but i 'd have to say that it 's somewhere in the bottom fifty .\n",
       "y: LMLabelList\n",
       ",,,,\n",
       "Path: /home/azureuser/.fastai/data/imdb;\n",
       "\n",
       "Valid: LabelList (5000 items)\n",
       "x: LMTextList\n",
       "xxbos xxmaj heh ... xxmaj i'm surprised this movie still exists in any form , let alone it being available for rent ! \n",
       " \n",
       "  xxmaj this flick is one of the many bad slasher flicks that exist only for the xxup t&a and the cheap laughs . xxmaj the story line crosses a bit of \" xxmaj texas xxmaj chainsaw massacre \" with a screwy mamma - centred back story reminiscent of \" xxmaj psycho \" , and a bit of the good old women - in - chains , tough - as - nail - ex - con broads tossed in for good measure - in other words , complete unoriginality wrapped up in half naked women spiced with a dash of utter idiocy ! xxmaj looking on as the director attempts to make the marsh land of xxmaj quebec pass off as xxmaj southern xxup u.s. bayou land is sad , i tell ya ! \n",
       " \n",
       "  xxmaj funny thing for me is , i was actually at the premier of this flick as , at the time , i was pals with xxmaj xxunk , the film 's \" star \" . xxmaj it was painful to watch on as xxmaj jeremy sank into his seat whilst the flick unfolded its mangled wings . \n",
       " \n",
       "  i 'm happy to see that xxmaj xxunk , after this sham of a first flick , has grown into one hell of an actor . xxmaj he can be seen regularly on the xxmaj canadian cop drama \" xxmaj blue xxmaj murder \" , has appeared on \" xxup csi \" , not to mention his role in the classic xxmaj clint xxmaj eastwood film \" xxmaj unforgiven \" - we forgive ya , xxmaj jeremy ! xxmaj it was a rocky start , but you done good , man ! \n",
       " \n",
       "  xxunk,xxbos xxmaj this xxmaj british documentary was recently shown on xxmaj comedy xxmaj central during their \" xxmaj best of \n",
       " \" week and can also be seen on xxmaj south xxmaj park 's second season xxup dvd . i remember seeing many commercials for the xxup dvd showing clips of this documentary , most of which occurs with xxmaj matt xxmaj stone , xxmaj trey xxmaj parker , and some other guy in a hot tub . xxmaj it was funny when i saw it in the commercials , but i was used to seeing it by the time i saw the actual documentary . \n",
       " \n",
       "  xxmaj overall , \" xxmaj goin' xxmaj down to xxmaj south xxmaj park \" is a fairly funny and interesting look at how xxmaj south xxmaj park episodes are made and of the series ' history going back to when xxmaj matt and xxmaj trey came up with the idea in college . xxmaj however , there was something about the tone of this documentary that actually felt sort of depressing . xxmaj it 's not as fast - paced , rapid - fire , and as lively as the actual xxmaj south xxmaj park episodes . xxmaj instead , it kind of has a slow , dry - wit style , which at times can be funny , but most of the time you 're just waiting for something to happen . xxmaj if you get the chance to watch it , by all means go for it , but i do n't think you 're really missing much if you never see it . \n",
       " \n",
       "  xxmaj my imdb xxmaj rating : 7 / 10,xxbos xxmaj how many xxmaj english 101 student 's versions of 1984 must xxmaj america endure ? \" xxmaj gosh , this is a great book , but kind of a downer . i know , i 'll write one just like it where everything works out okay . i 'll also replace xxmaj orwell 's old , used up political insights from the thirties with my own insightful , informed opinions form the 1970s . xxmaj think , think , political insight ... xxmaj evil xxmaj politicians , i 'm a genius ! xxmaj and there will be clones that they make of themselves for some diabolical reason ... i 'll work on that . xxmaj it 'll work . \" xxmaj no it wo n't , xxmaj bob xxmaj sullivan , writer of this story . xxmaj this really is all you 're fault . xxmaj you could have stopped them early and said , \" xxmaj guys , with our budget and acting abilities , i was thinking more \n",
       "  romantic comedy , or we could move away form taking ourselves so seriously and make a campy spoof this tired , familiar genre of movies . \" xxmaj did you do that though bob ? xxmaj no you did n't , and you 've had 28 years to think about it . \n",
       " \n",
       "  i do n't mean to be so spiteful . i 'm sorry i yelled at you xxmaj bob . xxmaj you 've obviously had to live with this mistake a lot longer then i have . xxmaj some blame really should go to xxmaj ron xxmaj smith , who helped you adapt the screenplay . xxmaj he could have stopped you at any time . xxmaj you were young and naive , and he took advantage of you . xxmaj now he xxunk the plots for video games and you , bob , well who knows what you do . i 'm sorry if that sounds harsh xxmaj bob , but that 's the way it is . xxmaj you were sold upriver by the xxmaj hollywood xxunk . xxmaj as if xxmaj ron was n't enough , xxmaj michael bay also saw your movie , and without even asking for rights or anything , added some explosions to your concept and turned it into \" xxmaj the xxmaj island . \" xxmaj that i think is the most disgusting part of all , that with a little eye candy , your script could of easily been good enough for a major xxmaj hollywood production , which i 'd of hated just as much as this movie and not felt sorry for you at all . \n",
       " \n",
       "  i 'm sorry things worked this way for you bob . xxmaj ron and xxmaj michael walked all over you , leaving you a withered shell of a man , who 's height of movie writing greatness will be a joke on xxmaj mystery xxmaj science xxmaj theater 3000 . xxmaj do n't focus on that though xxmaj bob , because xxmaj karma works in mysterious ways , and one day , they 'll pay for what they did to poor little xxmaj bob xxmaj sullivan .,xxbos ... but watch xxmaj mary mcdonnell 's performance closely . xxmaj her body language . xxmaj her fine body movements . xxmaj her subtle , but powerfully effective , reactions . xxmaj this is an accomplished artist at the top of her craft . xxmaj and the rest of the cast were pretty damned good , too ! ; o ) \n",
       " \n",
       "  xxmaj this is perhaps the 3rd or 4th viewing for me , and i see more in it each time . xxmaj what / xxup is / this world coming to , anyway ? xxup xxunk,xxbos i watched xxmaj cheats a few years ago with my friend . xxmaj he hyped it up as a great funny film that is one of the best comedies ever . i think he was on crack or something . i just recently learned that this film was not released into theatres , i can understand why perfectly . \n",
       " \n",
       "  the basic plot involves a group of guys who cheat on pretty much all of their assignments in school to get good grades . xxmaj that is the main problem of this film is that the morals are all bad . xxmaj there are other teen comedy films where students do bad things but it is most often stuff that does not take place at school . xxmaj so i think that the concept of having a whole movie that basically has kids cheating on everything is pretty bad . \n",
       " \n",
       "  i did not like the characters in this film either . xxmaj the main character guy is a completely smug arrogant idiot who is not a good protagonist . xxmaj actually i am not sure if you could say that there is a protagonist due to the fact that they all are cheating at school which is wrong . the other supporting characters were not funny at all and basically the cast blows in this film . \n",
       " \n",
       "  xxmaj this film has a bad message and even worse acting and characters . xxmaj there are other teen films that are way better than this film . xxmaj so you do not have to see this one and that is a good thing because i do not recommend this film at all .\n",
       "y: LMLabelList\n",
       ",,,,\n",
       "Path: /home/azureuser/.fastai/data/imdb;\n",
       "\n",
       "Test: None, model=SequentialRNN(\n",
       "  (0): AWD_LSTM(\n",
       "    (encoder): Embedding(49808, 400, padding_idx=1)\n",
       "    (encoder_dp): EmbeddingDropout(\n",
       "      (emb): Embedding(49808, 400, padding_idx=1)\n",
       "    )\n",
       "    (rnns): ModuleList(\n",
       "      (0): WeightDropout(\n",
       "        (module): LSTM(400, 1152, batch_first=True)\n",
       "      )\n",
       "      (1): WeightDropout(\n",
       "        (module): LSTM(1152, 1152, batch_first=True)\n",
       "      )\n",
       "      (2): WeightDropout(\n",
       "        (module): LSTM(1152, 400, batch_first=True)\n",
       "      )\n",
       "    )\n",
       "    (input_dp): RNNDropout()\n",
       "    (hidden_dps): ModuleList(\n",
       "      (0): RNNDropout()\n",
       "      (1): RNNDropout()\n",
       "      (2): RNNDropout()\n",
       "    )\n",
       "  )\n",
       "  (1): LinearDecoder(\n",
       "    (decoder): Linear(in_features=400, out_features=49808, bias=True)\n",
       "    (output_dp): RNNDropout()\n",
       "  )\n",
       "), opt_func=functools.partial(<class 'torch.optim.adam.Adam'>, betas=(0.9, 0.99)), loss_func=FlattenedLoss of CrossEntropyLoss(), metrics=[<function accuracy at 0x7f36e04b7158>], true_wd=True, bn_wd=True, wd=0.01, train_bn=True, path=PosixPath('/home/azureuser/.fastai/data/imdb'), model_dir='models', callback_fns=[functools.partial(<class 'fastai.basic_train.Recorder'>, add_time=True, silent=False)], callbacks=[...], layer_groups=[Sequential(\n",
       "  (0): WeightDropout(\n",
       "    (module): LSTM(400, 1152, batch_first=True)\n",
       "  )\n",
       "  (1): RNNDropout()\n",
       "), Sequential(\n",
       "  (0): WeightDropout(\n",
       "    (module): LSTM(1152, 1152, batch_first=True)\n",
       "  )\n",
       "  (1): RNNDropout()\n",
       "), Sequential(\n",
       "  (0): WeightDropout(\n",
       "    (module): LSTM(1152, 400, batch_first=True)\n",
       "  )\n",
       "  (1): RNNDropout()\n",
       "), Sequential(\n",
       "  (0): Embedding(49808, 400, padding_idx=1)\n",
       "  (1): EmbeddingDropout(\n",
       "    (emb): Embedding(49808, 400, padding_idx=1)\n",
       "  )\n",
       "  (2): LinearDecoder(\n",
       "    (decoder): Linear(in_features=400, out_features=49808, bias=True)\n",
       "    (output_dp): RNNDropout()\n",
       "  )\n",
       ")], add_time=True, silent=False, cb_fns_registered=False)\n",
       "alpha: 2.0\n",
       "beta: 1.0], layer_groups=[Sequential(\n",
       "  (0): WeightDropout(\n",
       "    (module): LSTM(400, 1152, batch_first=True)\n",
       "  )\n",
       "  (1): RNNDropout()\n",
       "), Sequential(\n",
       "  (0): WeightDropout(\n",
       "    (module): LSTM(1152, 1152, batch_first=True)\n",
       "  )\n",
       "  (1): RNNDropout()\n",
       "), Sequential(\n",
       "  (0): WeightDropout(\n",
       "    (module): LSTM(1152, 400, batch_first=True)\n",
       "  )\n",
       "  (1): RNNDropout()\n",
       "), Sequential(\n",
       "  (0): Embedding(49808, 400, padding_idx=1)\n",
       "  (1): EmbeddingDropout(\n",
       "    (emb): Embedding(49808, 400, padding_idx=1)\n",
       "  )\n",
       "  (2): LinearDecoder(\n",
       "    (decoder): Linear(in_features=400, out_features=49808, bias=True)\n",
       "    (output_dp): RNNDropout()\n",
       "  )\n",
       ")], add_time=True, silent=False, cb_fns_registered=False)"
      ]
     },
     "execution_count": 7,
     "metadata": {},
     "output_type": "execute_result"
    }
   ],
   "source": [
    "learn.load_encoder(working_dir + 'lm_encoder')"
   ]
  },
  {
   "cell_type": "code",
   "execution_count": 10,
   "metadata": {},
   "outputs": [
    {
     "data": {
      "text/plain": [
       "'The plot of the movie was very , very science fiction let me handle . i believe'"
      ]
     },
     "execution_count": 10,
     "metadata": {},
     "output_type": "execute_result"
    }
   ],
   "source": [
    "learn.predict(\"The plot of the movie was very\", n_words=10)"
   ]
  },
  {
   "cell_type": "markdown",
   "metadata": {},
   "source": [
    "**Note**: This is shown just for the sake of this demostration. There are better ways to create a system that predicts the next word from a sentence"
   ]
  },
  {
   "cell_type": "markdown",
   "metadata": {},
   "source": [
    "## Training a classifier\n",
    "\n",
    "Now it's time to create our classifier wich will use our language model to classify the sentiment of the review. To do that, we need to load the dataset again but in a different way. The reason for that is that now the label of our dataset is not the text itself, but the Sentiment of the review. However, it is important to pay attention that when loading the data we are specifying a parameter called vocab which value is assigned to data_lm.vocab. The reason for that is that we want to ensure that both datasets will use the same encoding for the same words. For that to happen the vocabulary has to remain the same. In this way, if the word \"bank\" is mapped to [1,0,0], it will remain mapped to that number in this dataset. Pay also attention that now we are splitting the dataset in 2, for training and testing"
   ]
  },
  {
   "cell_type": "code",
   "execution_count": 52,
   "metadata": {},
   "outputs": [],
   "source": [
    "data_clas = (TextList.from_folder(imdb_path, vocab=data_lm.vocab)\n",
    "             .split_by_folder(valid='test')\n",
    "             .label_from_folder(classes=['neg','pos'])\n",
    "             .databunch(bs=42))\n",
    "\n",
    "# we save the dictionary to load it later.\n",
    "data_clas.save('clas_dictionary.pkl')\n",
    "             \n",
    "# if training is taking to much time for you, you may need to get a GPU to speed up the process. Uncomment the following line to use a smaller dataset you can train in minutes.\n",
    "#data_clas = (TextList.from_csv(imdb_path, 'texts.csv', cols='text', vocab=data_lm.vocab)\n",
    "#                  .split_from_df(col='is_valid')\n",
    "#                  .label_from_df(cols='label')\n",
    "#                  .databunch())"
   ]
  },
  {
   "cell_type": "markdown",
   "metadata": {},
   "source": [
    "If we don't want to preprocess all the data again, we can load the dictionary we are working with from the one we just saved"
   ]
  },
  {
   "cell_type": "code",
   "execution_count": 54,
   "metadata": {},
   "outputs": [],
   "source": [
    "data_clas = load_data(imdb_path, 'clas_dictionary.pkl')"
   ]
  },
  {
   "cell_type": "code",
   "execution_count": 55,
   "metadata": {},
   "outputs": [
    {
     "data": {
      "text/html": [
       "<table border=\"1\" class=\"dataframe\">\n",
       "  <thead>\n",
       "    <tr style=\"text-align: right;\">\n",
       "      <th>text</th>\n",
       "      <th>target</th>\n",
       "    </tr>\n",
       "  </thead>\n",
       "  <tbody>\n",
       "    <tr>\n",
       "      <td>xxbos xxmaj match 1 : xxmaj tag xxmaj team xxmaj table xxmaj match xxmaj bubba xxmaj ray and xxmaj spike xxmaj dudley vs xxmaj eddie xxmaj guerrero and xxmaj chris xxmaj benoit xxmaj bubba xxmaj ray and xxmaj spike xxmaj dudley started things off with a xxmaj tag xxmaj team xxmaj table xxmaj match against xxmaj eddie xxmaj guerrero and xxmaj chris xxmaj benoit . xxmaj according to the rules</td>\n",
       "      <td>pos</td>\n",
       "    </tr>\n",
       "    <tr>\n",
       "      <td>xxbos * * xxmaj attention xxmaj spoilers * * \\n \\n  xxmaj first of all , let me say that xxmaj rob xxmaj roy is one of the best films of the 90 's . xxmaj it was an amazing achievement for all those involved , especially the acting of xxmaj liam xxmaj neeson , xxmaj jessica xxmaj lange , xxmaj john xxmaj hurt , xxmaj brian xxmaj cox</td>\n",
       "      <td>pos</td>\n",
       "    </tr>\n",
       "    <tr>\n",
       "      <td>xxbos xxmaj some have praised xxunk xxunk xxmaj the xxmaj lost xxmaj xxunk as a xxmaj disney adventure for adults . i do n't think so -- at least not for thinking adults . \\n \\n  xxmaj this script suggests a beginning as a live - action movie , that struck someone as the type of crap you can not sell to adults anymore . xxmaj the \" crack</td>\n",
       "      <td>neg</td>\n",
       "    </tr>\n",
       "    <tr>\n",
       "      <td>xxbos xxmaj this movie was recently released on xxup dvd in the xxup us and i finally got the chance to see this hard - to - find gem . xxmaj it even came with original theatrical previews of other xxmaj italian horror classics like \" xxup xxunk \" and \" xxup beyond xxup the xxup darkness \" . xxmaj unfortunately , the previews were the best thing about this</td>\n",
       "      <td>neg</td>\n",
       "    </tr>\n",
       "    <tr>\n",
       "      <td>xxbos xxup the xxup shop xxup around xxup the xxup corner is one of the sweetest and most feel - good romantic comedies ever made . xxmaj there 's just no getting around that , and it 's hard to actually put one 's feeling for this film into words . xxmaj it 's not one of those films that tries too hard , nor does it come up with</td>\n",
       "      <td>pos</td>\n",
       "    </tr>\n",
       "  </tbody>\n",
       "</table>"
      ],
      "text/plain": [
       "<IPython.core.display.HTML object>"
      ]
     },
     "metadata": {},
     "output_type": "display_data"
    }
   ],
   "source": [
    "data_clas.show_batch()"
   ]
  },
  {
   "cell_type": "markdown",
   "metadata": {},
   "source": [
    "### The model architecture\n",
    "\n",
    "As we did before, we need to train our classifier. fast.ai has this implementation of text_classifier_learner which uses a recurrent neural network for classification. The basic architecture of a RNN looks like the following.\n",
    "\n",
    "<img width='600px' src='https://cdn-images-1.medium.com/max/1200/1*LhnaHTLBa_R53MpuZza23A.png' />"
   ]
  },
  {
   "cell_type": "code",
   "execution_count": 58,
   "metadata": {},
   "outputs": [],
   "source": [
    "learn_clas = text_classifier_learner(data_clas, arch=AWD_LSTM, drop_mult=0.5)"
   ]
  },
  {
   "cell_type": "markdown",
   "metadata": {},
   "source": [
    "Do you remember that we saved our encoder some lines above? So it's time to use it! The encoder will be used to map the word to specific cordinated in the feature space"
   ]
  },
  {
   "cell_type": "code",
   "execution_count": 59,
   "metadata": {},
   "outputs": [
    {
     "data": {
      "text/plain": [
       "RNNLearner(data=TextClasDataBunch;\n",
       "\n",
       "Train: LabelList (25000 items)\n",
       "x: TextList\n",
       "xxbos i found it a real task to sit through this film . xxmaj the sound track was not the best and some of the accents made it difficult to understand what was being said . xxmaj there was little to move the plot along and often the action simply stopped and there was a prolonged period of conversations which seemed extraneous to the movie . xxmaj these conversations switched between family groups and the observer was left to try and piece together what the common thread was that tied them together . xxmaj it is rare that i rate a film this low and do so in this case as the entire viewing experience left me thinking \" so what \" and \" why did i waste my time watching this . \",xxbos i just saw the movie in theater . xxmaj the movie has very few good points to talk about . xxmaj kareena 's beauty and a couple of songs may be . xxmaj that s it . xxmaj the movie is a complete disappointment in all areas . xxmaj anyone associated with the movie will be disappointed , even xxmaj mumbai xxmaj indians too ( just now xxmaj chennai has made it to semi - final ) . \n",
       " \n",
       "  xxmaj but the worst i feel about the movie is the action scenes . xxmaj now days xxmaj bollywood is trying to copy action scenes from xxmaj hollywood . xxmaj but they forget that xxmaj hollywood directors takes a lot effect to make it look like real . xxmaj but unfortunately xxmaj bollywood directors do not have that much of time . xxmaj they spend their time on songs and publicity of the movie . xxmaj now such too stupid action scenes may work in xxmaj south as the audience just pay to watch their favorite actor killing bunch of people . xxmaj but in xxmaj bollywood this is certainly not going to work . xxmaj all the action scenes i wish i could have forwarded . xxmaj at the end even some xxmaj chinese people appear from nowhere to beat xxmaj akshay xxmaj kumar . xxmaj this is height of stupidity . xxmaj audience is not paying to watch such stupidity . i think xxmaj bollywood now should forget about the action movies . xxmaj they ca nt make it . xxmaj the last good action i have seen was from \" xxmaj xxunk \" and \" xxmaj xxunk ka xxmaj xxunk \" . xxmaj the current scene in xxmaj bollywood is really sad for action movie fans like me . xxmaj does these people see their movie after completion ? xxmaj ca n't they figure out that the slow motion action ( which is done using ropes ) is too unrealistic and childish ? xxmaj better not to have action scenes if you ca nt handle it . i just want to go back to xxmaj amitabh 's era where movie like xxmaj xxunk and xxmaj xxunk were having thrilling action scenes . xxmaj the sound effect was not very effective in those days , but visually it is much better than current era scenes . \n",
       " \n",
       "  xxmaj this movie now should open the eyes of the xxmaj bollywood movie directors . xxmaj please do n't make any more action movies , until you acquire the art of making it realistic .,xxbos xxmaj follows the same path as most sequels . xxmaj first one was great . xxmaj second was average and this one , full of bad acting and some stupid dialog and well as a lot of suspension of disbelief , this movie was weak . \n",
       " \n",
       "  xxmaj too predictable and i just could n't stand that xxmaj henry xxmaj wrinkler - like boss with that stupid eye , there was so much more they could have done with this . i liked the first one a lot . i wish they would have went more down those lines , rather than what they did here . \n",
       " \n",
       "  xxmaj there was too much unexplained that needed to be explained , what time period this was in and why why why is there an old fashioned phone in that room ? \n",
       " \n",
       "  i understand there is another one in the works . \n",
       " \n",
       "  xxmaj blah !,xxbos xxmaj revolt of the xxmaj zombies has no redeeming features . i 'm tired of people arguing that it 's not that bad , and that the effects must have packed more of a punch in 1936 . i suspect this is n't true : it 's not like xxup iq 's have risen sharply in the last 7 decades . xxmaj the average viewer in 1936 was probably just as bored by this rubbish as the average viewer today . xxmaj why ? xxmaj just try watching the first scenes , and count the pauses between things happening , the awful choice of when to cut to close - up , the slapdash editing that seems to include an extra two seconds on every shot to pad out the running time . xxmaj pay attention to the utterly redundant dialogue : \" i 'm going to make some tea / go outside / read my book now . \" \" xxmaj are you ? \" \" xxmaj yes , i am . \" xxmaj that sort of exchange happens several times . xxmaj normally i would love that , being a xxup huge fan of bad movies , but watch the listless actors mumbling their trite and tedious lines , and all desire to laugh at the movie slowly fades away . xxmaj this sort of disinterested , pot - boiling time - waster is far worse than energetic , imaginative mind - xxunk like xxmaj plan xxmaj nine xxmaj from xxmaj outer xxmaj space or xxmaj santa xxmaj claus xxmaj conquers xxmaj the xxmaj martians . xxmaj those who claim that this is \" better \" than those more interesting movies have a backwards idea of entertainment . xxmaj this movie is not bad in the sense that your jaw hangs open in astonishment : it 's bad in the sense that your eyes slowly close in boredom . xxmaj which is far worse .,xxbos xxmaj when it comes to horror movies , i am more than willing to suspend disbelief , ignore sub - par production values , and overlook plot holes in the interest of a good scare . xxmaj this movies simply has no good scares to offer . xxmaj it ca n't even be enjoyed as camp . xxmaj bad dialogue , bad acting , bad direction , the kills were predictable and poorly staged , the music was annoying , the camera work was wretched , even the costumes were bad . i felt really bad for the actors , who were obviously trying , but who had to deal with terrible , contrived dialogue and an obvious lack of direction . i doubt they got any rehearsal , either . xxmaj it 's embarrassing to watch , and so boring than making it through to the contrived \" surprise \" ending requires tremendous endurance . xxmaj it 's quite easily one of the worst movies i 've ever seen . \n",
       " \n",
       "  i do n't normally write reviews , but this one was so bad that i felt compelled to warn others . xxmaj this movie is a complete waste of time . xxmaj if you must watch this movie , do n't miss the \" xxmaj making of \"- featurette . xxmaj the writer / director seems to be under the impression that making the killer a woman was kind of bold , daring move . ( xxmaj seen it . ) xxmaj he and the cast spend half an hour deconstructing this film as if it 's a new - age \" xxmaj citizen xxmaj kane . \" xxmaj it 's like listening to a group of third - graders take you behind the scenes of their xxmaj christmas pageant . xxmaj they truly think they 've created something of substance . xxmaj it 's sad , really \n",
       "  xxmaj the only reason i gave this movie a \" 2 \" is because i think \" 1 \" should be reserved for true atrocities , like \" xxmaj manos : xxmaj hands of xxmaj fate \" and \" xxmaj space xxmaj mutiny . \" xxmaj so \" xxmaj american xxmaj nightmare \" is n't the xxup worst movie i 've ever seen , but i 'd have to say that it 's somewhere in the bottom fifty .\n",
       "y: CategoryList\n",
       "neg,neg,neg,neg,neg\n",
       "Path: /home/azureuser/.fastai/data/imdb;\n",
       "\n",
       "Valid: LabelList (25000 items)\n",
       "x: TextList\n",
       "xxbos xxmaj all the criticisms of this movie are quite valid ! xxmaj it is pretty boring , and filled with all kinds of pointless ridiculous stuff . a couple exchanging nods over their \" good xxunk . \" a medium shot of a desk as a phone rings until someone finally comes , sits down , and answers it at a pretty leisurely pace . xxmaj quadruple - takes or more when people look at things . xxmaj solitary banjo - tuning and playing , taking a break for a beer . xxmaj telling a joke to a fawn , about a big - mouthed frog trying to learn what to feed its babies , complete with many big - mouthed expressions ( which are needed for the weak punchline ) . xxmaj the sharing of cucumber and cream cheese sandwiches on oatmeal bread , which to the squeamish become unpalatable when there 's talk of people burned in a fire . xxmaj lots of seemingly stock - footage close - up shots of animals , birds , insects , and spiders in the woods . \n",
       " \n",
       "  xxmaj the movie starts with a forest fire , then at least a couple decades later some people in those same woods get killed by an axe . xxmaj the killer evidently was n't too satisfied by the axe he stole , and kills other people with other weapons of opportunity or his bare hands . \n",
       " \n",
       "  xxmaj if it 's true that the movie in the version available on the out - of - print videotape is cut , perhaps if there 's a lot of footage that was cut , it deserves another look on xxup dvd . xxmaj otherwise , it 's simply not very interesting , and would probably try the patience of even the most hardcore outdoors - slasher fan .,xxbos xxmaj so this ugly guy with long , nasty hair and his girlfriend end up in this house and they argue and argue about his old girlfriend . xxmaj there was suppose to be something scary in it but i did n't see anything scary at all . xxmaj there is some mention of a demon from the sea but that does n't go anywhere at all . i wish it did because then it would 've taken the tension away from the jealous love triangle . xxmaj the title of the movie makes it look like it would be a scary and exciting movie but it is so far from it that i could n't believe it . i waited and waited for it to end and was so happy when it did . xxmaj it did not live up to the title like it should have so boo hoo hoo . xxmaj the cover had a cool picture but i should n't judge a cheesy movie by its cover .,xxbos xxmaj wave after wave of directionless nausea - this film wants and at first promises to be quirky and original but is in fact obvious , xxunk and mired in cliché - driven dialogue which builds to a xxunk of awfulness and cheese by the end . xxmaj throughout the film we meet supposedly off the wall characters , who are actually very dull , and just do n't quite work and who clunk through the horrific screenplay like men in armour suits , driving jeeps through mansion houses and spouting preppy existential obviousness accompanied by the xxunk of xxmaj xxunk . xxmaj the film has occasional funny episodes , often no funnier than a dog playing with its genitals , which happened twice ( an index of the slapstick , rudimentary humour of the film in general ) but by the end , the film falls into an ' infinite abyss ' of complete detritus and the director 's egocentric ramblings which made me want to gouge my eyes out . xxmaj watch this film at your peril .,xxbos ' a xxmaj new xxmaj generation ' is the third xxmaj amityville entry to base its plot around writer xxmaj john xxup g. xxmaj jones 's premise of an item taken from the xxmaj long xxmaj island house that causes spectral misery and death for its new owners . xxmaj first a lamp , then a clock , and now a mirror . xxmaj however , this is also the first xxmaj amityville since ' xxmaj the xxmaj possession ' to directly tie in to the real- life events that started the whole series . xxmaj this time around , xxmaj keyes xxmaj terry ( xxmaj robert xxmaj partridge ) , an artist , is given a macabre - looking mirror by a homeless man one day . xxmaj soon enough , people around him start to die , eventually leading to his discovery that the mirror once hung in the xxmaj amityville house - indeed on the very night a man named xxmaj franklin xxmaj xxunk ( xxmaj sonny xxmaj xxunk in ' xxmaj amityville xxup ii ' ) murdered his entire family . xxmaj unfortunately for xxmaj terry , his discovery of the mirror is n't entirely coincidental , and he soon learns the truth about his past a truth he 's kept buried since childhood . \n",
       " \n",
       "  xxmaj this 7th installment in the often worn - out franchise is something of a disappointment for me . xxmaj things were starting to pick up with the silly and uneven , yet entertaining ' xxmaj it 's xxmaj about xxmaj time ' , and given how much this film tries to draw upon its roots - not the first episode , but the source material itself - it should have been better than it was . \n",
       " \n",
       "  xxmaj however , three trips to the same well with yet another evil artifact from the xxmaj amityville house with yet another explanation for the malign paranormal visitations is wearing on me , to say the least . xxmaj one of the biggest weaknesses of the xxmaj amityville franchise is the steadfast determination by each set of producers to completely ignore every other episode in the series . xxmaj on the one hand , it 's perfectly reasonable that they do n't want to be tied to someone else 's continuity , but at the very least , they could maybe acknowledge story lines that have already been done and just possibly * not repeat them over and over xxunk \n",
       " \n",
       "  xxmaj there 's also something rather plodding about the way in which the story unfolds , doubtless due to the inevitability this repetition - fest brings . xxmaj since you already know what 's going to happen , the carefully - paced build - up is simply slow and tedious . xxmaj or maybe it 's just tedious anyway . xxmaj director xxmaj john xxmaj xxunk probably could have done more to heighten the tense atmosphere associated with the mirror rather than simply having it flash red and emit chattering ' evil ' voices , which lacks any kind of subtlety . xxmaj there were times when characters seemed fairly unfazed by its otherworldly qualities . xxmaj if they do n't take it too seriously , why should we ? \n",
       " \n",
       "  xxmaj which is a shame , because ' a xxmaj new xxmaj generation ' has a more - than - capable cast . i was going to hold off on watching this until i saw the name ' xxmaj julia xxmaj nickson ' in the credits . xxmaj she captivated my attention just as she always does , and if anything , i was annoyed her part was n't more extensive . xxmaj terry o'quinn was equally charismatic and again , underused . xxmaj partridge himself in the lead role clearly fits the early 90s over - coiffed lumberjack - shirted square - jawed hero type , and while i 'm not sure he really gave it the gravitas needed , it 's not as if anyone here is performing xxmaj ibsen . \n",
       " \n",
       "  xxmaj the sets are also worthy of note , from the dramatic artwork filling xxmaj suki 's room , to the claustrophobic corridors featured in flashback / supernatural sequences . xxmaj getting the look of these right is especially important given how certain sequences are repeated throughout the film to simulated fragmented memories . xxmaj clearly , xxmaj xxunk is more of a visual director rather than either an actor 's director or one of horror . xxmaj unfortunately , it is meant to be a horror film , after all . \n",
       " \n",
       "  ' a xxmaj new xxmaj generation ' sees the same race being run for the third time in 4 years . xxmaj add to this the lack of direction where it was really needed and the whole effort fails to stand as tall as it should . xxmaj however , it should be acknowledged for its strong ties with the source material and some good actors in not necessarily their finest hours . xxmaj honestly , the ideal person for this is someone who has n't seen any of the sequels past ' xxmaj the xxmaj possession ' , for whom the story wo n't be such a massive deja - vu trip .,xxbos xxmaj bad , bad , and did i mention bad ? xxmaj aside from the comical monster terrorizing the workers the funniest part of the movie was when xxunk are in the desert and one comments that they have an hour of daylight left , but you can clearly see by their shadows , and the bright sky , that it 's probably only 2 or 2:30 in the afternoon . xxmaj talk about consistency . xxup read xxup the xxup script director ! \n",
       " \n",
       "  xxmaj the only cool part of this movie , besides the rack on xxmaj clara xxmaj bryant of course ( as another reviewer mentioned ) , is the phantom skeleton horse that the xxmaj bone xxmaj eater rides on . xxmaj that thing was pretty cool as it chased the xxunk on their motorcycles .\n",
       "y: CategoryList\n",
       "neg,neg,neg,neg,neg\n",
       "Path: /home/azureuser/.fastai/data/imdb;\n",
       "\n",
       "Test: None, model=SequentialRNN(\n",
       "  (0): MultiBatchEncoder(\n",
       "    (module): AWD_LSTM(\n",
       "      (encoder): Embedding(49808, 400, padding_idx=1)\n",
       "      (encoder_dp): EmbeddingDropout(\n",
       "        (emb): Embedding(49808, 400, padding_idx=1)\n",
       "      )\n",
       "      (rnns): ModuleList(\n",
       "        (0): WeightDropout(\n",
       "          (module): LSTM(400, 1152, batch_first=True)\n",
       "        )\n",
       "        (1): WeightDropout(\n",
       "          (module): LSTM(1152, 1152, batch_first=True)\n",
       "        )\n",
       "        (2): WeightDropout(\n",
       "          (module): LSTM(1152, 400, batch_first=True)\n",
       "        )\n",
       "      )\n",
       "      (input_dp): RNNDropout()\n",
       "      (hidden_dps): ModuleList(\n",
       "        (0): RNNDropout()\n",
       "        (1): RNNDropout()\n",
       "        (2): RNNDropout()\n",
       "      )\n",
       "    )\n",
       "  )\n",
       "  (1): PoolingLinearClassifier(\n",
       "    (layers): Sequential(\n",
       "      (0): BatchNorm1d(1200, eps=1e-05, momentum=0.1, affine=True, track_running_stats=True)\n",
       "      (1): Dropout(p=0.2)\n",
       "      (2): Linear(in_features=1200, out_features=50, bias=True)\n",
       "      (3): ReLU(inplace)\n",
       "      (4): BatchNorm1d(50, eps=1e-05, momentum=0.1, affine=True, track_running_stats=True)\n",
       "      (5): Dropout(p=0.1)\n",
       "      (6): Linear(in_features=50, out_features=2, bias=True)\n",
       "    )\n",
       "  )\n",
       "), opt_func=functools.partial(<class 'torch.optim.adam.Adam'>, betas=(0.9, 0.99)), loss_func=FlattenedLoss of CrossEntropyLoss(), metrics=[<function accuracy at 0x7f30e6cfb158>], true_wd=True, bn_wd=True, wd=0.01, train_bn=True, path=PosixPath('/home/azureuser/.fastai/data/imdb'), model_dir='models', callback_fns=[functools.partial(<class 'fastai.basic_train.Recorder'>, add_time=True, silent=False)], callbacks=[RNNTrainer\n",
       "learn: RNNLearner(data=TextClasDataBunch;\n",
       "\n",
       "Train: LabelList (25000 items)\n",
       "x: TextList\n",
       "xxbos i found it a real task to sit through this film . xxmaj the sound track was not the best and some of the accents made it difficult to understand what was being said . xxmaj there was little to move the plot along and often the action simply stopped and there was a prolonged period of conversations which seemed extraneous to the movie . xxmaj these conversations switched between family groups and the observer was left to try and piece together what the common thread was that tied them together . xxmaj it is rare that i rate a film this low and do so in this case as the entire viewing experience left me thinking \" so what \" and \" why did i waste my time watching this . \",xxbos i just saw the movie in theater . xxmaj the movie has very few good points to talk about . xxmaj kareena 's beauty and a couple of songs may be . xxmaj that s it . xxmaj the movie is a complete disappointment in all areas . xxmaj anyone associated with the movie will be disappointed , even xxmaj mumbai xxmaj indians too ( just now xxmaj chennai has made it to semi - final ) . \n",
       " \n",
       "  xxmaj but the worst i feel about the movie is the action scenes . xxmaj now days xxmaj bollywood is trying to copy action scenes from xxmaj hollywood . xxmaj but they forget that xxmaj hollywood directors takes a lot effect to make it look like real . xxmaj but unfortunately xxmaj bollywood directors do not have that much of time . xxmaj they spend their time on songs and publicity of the movie . xxmaj now such too stupid action scenes may work in xxmaj south as the audience just pay to watch their favorite actor killing bunch of people . xxmaj but in xxmaj bollywood this is certainly not going to work . xxmaj all the action scenes i wish i could have forwarded . xxmaj at the end even some xxmaj chinese people appear from nowhere to beat xxmaj akshay xxmaj kumar . xxmaj this is height of stupidity . xxmaj audience is not paying to watch such stupidity . i think xxmaj bollywood now should forget about the action movies . xxmaj they ca nt make it . xxmaj the last good action i have seen was from \" xxmaj xxunk \" and \" xxmaj xxunk ka xxmaj xxunk \" . xxmaj the current scene in xxmaj bollywood is really sad for action movie fans like me . xxmaj does these people see their movie after completion ? xxmaj ca n't they figure out that the slow motion action ( which is done using ropes ) is too unrealistic and childish ? xxmaj better not to have action scenes if you ca nt handle it . i just want to go back to xxmaj amitabh 's era where movie like xxmaj xxunk and xxmaj xxunk were having thrilling action scenes . xxmaj the sound effect was not very effective in those days , but visually it is much better than current era scenes . \n",
       " \n",
       "  xxmaj this movie now should open the eyes of the xxmaj bollywood movie directors . xxmaj please do n't make any more action movies , until you acquire the art of making it realistic .,xxbos xxmaj follows the same path as most sequels . xxmaj first one was great . xxmaj second was average and this one , full of bad acting and some stupid dialog and well as a lot of suspension of disbelief , this movie was weak . \n",
       " \n",
       "  xxmaj too predictable and i just could n't stand that xxmaj henry xxmaj wrinkler - like boss with that stupid eye , there was so much more they could have done with this . i liked the first one a lot . i wish they would have went more down those lines , rather than what they did here . \n",
       " \n",
       "  xxmaj there was too much unexplained that needed to be explained , what time period this was in and why why why is there an old fashioned phone in that room ? \n",
       " \n",
       "  i understand there is another one in the works . \n",
       " \n",
       "  xxmaj blah !,xxbos xxmaj revolt of the xxmaj zombies has no redeeming features . i 'm tired of people arguing that it 's not that bad , and that the effects must have packed more of a punch in 1936 . i suspect this is n't true : it 's not like xxup iq 's have risen sharply in the last 7 decades . xxmaj the average viewer in 1936 was probably just as bored by this rubbish as the average viewer today . xxmaj why ? xxmaj just try watching the first scenes , and count the pauses between things happening , the awful choice of when to cut to close - up , the slapdash editing that seems to include an extra two seconds on every shot to pad out the running time . xxmaj pay attention to the utterly redundant dialogue : \" i 'm going to make some tea / go outside / read my book now . \" \" xxmaj are you ? \" \" xxmaj yes , i am . \" xxmaj that sort of exchange happens several times . xxmaj normally i would love that , being a xxup huge fan of bad movies , but watch the listless actors mumbling their trite and tedious lines , and all desire to laugh at the movie slowly fades away . xxmaj this sort of disinterested , pot - boiling time - waster is far worse than energetic , imaginative mind - xxunk like xxmaj plan xxmaj nine xxmaj from xxmaj outer xxmaj space or xxmaj santa xxmaj claus xxmaj conquers xxmaj the xxmaj martians . xxmaj those who claim that this is \" better \" than those more interesting movies have a backwards idea of entertainment . xxmaj this movie is not bad in the sense that your jaw hangs open in astonishment : it 's bad in the sense that your eyes slowly close in boredom . xxmaj which is far worse .,xxbos xxmaj when it comes to horror movies , i am more than willing to suspend disbelief , ignore sub - par production values , and overlook plot holes in the interest of a good scare . xxmaj this movies simply has no good scares to offer . xxmaj it ca n't even be enjoyed as camp . xxmaj bad dialogue , bad acting , bad direction , the kills were predictable and poorly staged , the music was annoying , the camera work was wretched , even the costumes were bad . i felt really bad for the actors , who were obviously trying , but who had to deal with terrible , contrived dialogue and an obvious lack of direction . i doubt they got any rehearsal , either . xxmaj it 's embarrassing to watch , and so boring than making it through to the contrived \" surprise \" ending requires tremendous endurance . xxmaj it 's quite easily one of the worst movies i 've ever seen . \n",
       " \n",
       "  i do n't normally write reviews , but this one was so bad that i felt compelled to warn others . xxmaj this movie is a complete waste of time . xxmaj if you must watch this movie , do n't miss the \" xxmaj making of \"- featurette . xxmaj the writer / director seems to be under the impression that making the killer a woman was kind of bold , daring move . ( xxmaj seen it . ) xxmaj he and the cast spend half an hour deconstructing this film as if it 's a new - age \" xxmaj citizen xxmaj kane . \" xxmaj it 's like listening to a group of third - graders take you behind the scenes of their xxmaj christmas pageant . xxmaj they truly think they 've created something of substance . xxmaj it 's sad , really \n",
       "  xxmaj the only reason i gave this movie a \" 2 \" is because i think \" 1 \" should be reserved for true atrocities , like \" xxmaj manos : xxmaj hands of xxmaj fate \" and \" xxmaj space xxmaj mutiny . \" xxmaj so \" xxmaj american xxmaj nightmare \" is n't the xxup worst movie i 've ever seen , but i 'd have to say that it 's somewhere in the bottom fifty .\n",
       "y: CategoryList\n",
       "neg,neg,neg,neg,neg\n",
       "Path: /home/azureuser/.fastai/data/imdb;\n",
       "\n",
       "Valid: LabelList (25000 items)\n",
       "x: TextList\n",
       "xxbos xxmaj all the criticisms of this movie are quite valid ! xxmaj it is pretty boring , and filled with all kinds of pointless ridiculous stuff . a couple exchanging nods over their \" good xxunk . \" a medium shot of a desk as a phone rings until someone finally comes , sits down , and answers it at a pretty leisurely pace . xxmaj quadruple - takes or more when people look at things . xxmaj solitary banjo - tuning and playing , taking a break for a beer . xxmaj telling a joke to a fawn , about a big - mouthed frog trying to learn what to feed its babies , complete with many big - mouthed expressions ( which are needed for the weak punchline ) . xxmaj the sharing of cucumber and cream cheese sandwiches on oatmeal bread , which to the squeamish become unpalatable when there 's talk of people burned in a fire . xxmaj lots of seemingly stock - footage close - up shots of animals , birds , insects , and spiders in the woods . \n",
       " \n",
       "  xxmaj the movie starts with a forest fire , then at least a couple decades later some people in those same woods get killed by an axe . xxmaj the killer evidently was n't too satisfied by the axe he stole , and kills other people with other weapons of opportunity or his bare hands . \n",
       " \n",
       "  xxmaj if it 's true that the movie in the version available on the out - of - print videotape is cut , perhaps if there 's a lot of footage that was cut , it deserves another look on xxup dvd . xxmaj otherwise , it 's simply not very interesting , and would probably try the patience of even the most hardcore outdoors - slasher fan .,xxbos xxmaj so this ugly guy with long , nasty hair and his girlfriend end up in this house and they argue and argue about his old girlfriend . xxmaj there was suppose to be something scary in it but i did n't see anything scary at all . xxmaj there is some mention of a demon from the sea but that does n't go anywhere at all . i wish it did because then it would 've taken the tension away from the jealous love triangle . xxmaj the title of the movie makes it look like it would be a scary and exciting movie but it is so far from it that i could n't believe it . i waited and waited for it to end and was so happy when it did . xxmaj it did not live up to the title like it should have so boo hoo hoo . xxmaj the cover had a cool picture but i should n't judge a cheesy movie by its cover .,xxbos xxmaj wave after wave of directionless nausea - this film wants and at first promises to be quirky and original but is in fact obvious , xxunk and mired in cliché - driven dialogue which builds to a xxunk of awfulness and cheese by the end . xxmaj throughout the film we meet supposedly off the wall characters , who are actually very dull , and just do n't quite work and who clunk through the horrific screenplay like men in armour suits , driving jeeps through mansion houses and spouting preppy existential obviousness accompanied by the xxunk of xxmaj xxunk . xxmaj the film has occasional funny episodes , often no funnier than a dog playing with its genitals , which happened twice ( an index of the slapstick , rudimentary humour of the film in general ) but by the end , the film falls into an ' infinite abyss ' of complete detritus and the director 's egocentric ramblings which made me want to gouge my eyes out . xxmaj watch this film at your peril .,xxbos ' a xxmaj new xxmaj generation ' is the third xxmaj amityville entry to base its plot around writer xxmaj john xxup g. xxmaj jones 's premise of an item taken from the xxmaj long xxmaj island house that causes spectral misery and death for its new owners . xxmaj first a lamp , then a clock , and now a mirror . xxmaj however , this is also the first xxmaj amityville since ' xxmaj the xxmaj possession ' to directly tie in to the real- life events that started the whole series . xxmaj this time around , xxmaj keyes xxmaj terry ( xxmaj robert xxmaj partridge ) , an artist , is given a macabre - looking mirror by a homeless man one day . xxmaj soon enough , people around him start to die , eventually leading to his discovery that the mirror once hung in the xxmaj amityville house - indeed on the very night a man named xxmaj franklin xxmaj xxunk ( xxmaj sonny xxmaj xxunk in ' xxmaj amityville xxup ii ' ) murdered his entire family . xxmaj unfortunately for xxmaj terry , his discovery of the mirror is n't entirely coincidental , and he soon learns the truth about his past a truth he 's kept buried since childhood . \n",
       " \n",
       "  xxmaj this 7th installment in the often worn - out franchise is something of a disappointment for me . xxmaj things were starting to pick up with the silly and uneven , yet entertaining ' xxmaj it 's xxmaj about xxmaj time ' , and given how much this film tries to draw upon its roots - not the first episode , but the source material itself - it should have been better than it was . \n",
       " \n",
       "  xxmaj however , three trips to the same well with yet another evil artifact from the xxmaj amityville house with yet another explanation for the malign paranormal visitations is wearing on me , to say the least . xxmaj one of the biggest weaknesses of the xxmaj amityville franchise is the steadfast determination by each set of producers to completely ignore every other episode in the series . xxmaj on the one hand , it 's perfectly reasonable that they do n't want to be tied to someone else 's continuity , but at the very least , they could maybe acknowledge story lines that have already been done and just possibly * not repeat them over and over xxunk \n",
       " \n",
       "  xxmaj there 's also something rather plodding about the way in which the story unfolds , doubtless due to the inevitability this repetition - fest brings . xxmaj since you already know what 's going to happen , the carefully - paced build - up is simply slow and tedious . xxmaj or maybe it 's just tedious anyway . xxmaj director xxmaj john xxmaj xxunk probably could have done more to heighten the tense atmosphere associated with the mirror rather than simply having it flash red and emit chattering ' evil ' voices , which lacks any kind of subtlety . xxmaj there were times when characters seemed fairly unfazed by its otherworldly qualities . xxmaj if they do n't take it too seriously , why should we ? \n",
       " \n",
       "  xxmaj which is a shame , because ' a xxmaj new xxmaj generation ' has a more - than - capable cast . i was going to hold off on watching this until i saw the name ' xxmaj julia xxmaj nickson ' in the credits . xxmaj she captivated my attention just as she always does , and if anything , i was annoyed her part was n't more extensive . xxmaj terry o'quinn was equally charismatic and again , underused . xxmaj partridge himself in the lead role clearly fits the early 90s over - coiffed lumberjack - shirted square - jawed hero type , and while i 'm not sure he really gave it the gravitas needed , it 's not as if anyone here is performing xxmaj ibsen . \n",
       " \n",
       "  xxmaj the sets are also worthy of note , from the dramatic artwork filling xxmaj suki 's room , to the claustrophobic corridors featured in flashback / supernatural sequences . xxmaj getting the look of these right is especially important given how certain sequences are repeated throughout the film to simulated fragmented memories . xxmaj clearly , xxmaj xxunk is more of a visual director rather than either an actor 's director or one of horror . xxmaj unfortunately , it is meant to be a horror film , after all . \n",
       " \n",
       "  ' a xxmaj new xxmaj generation ' sees the same race being run for the third time in 4 years . xxmaj add to this the lack of direction where it was really needed and the whole effort fails to stand as tall as it should . xxmaj however , it should be acknowledged for its strong ties with the source material and some good actors in not necessarily their finest hours . xxmaj honestly , the ideal person for this is someone who has n't seen any of the sequels past ' xxmaj the xxmaj possession ' , for whom the story wo n't be such a massive deja - vu trip .,xxbos xxmaj bad , bad , and did i mention bad ? xxmaj aside from the comical monster terrorizing the workers the funniest part of the movie was when xxunk are in the desert and one comments that they have an hour of daylight left , but you can clearly see by their shadows , and the bright sky , that it 's probably only 2 or 2:30 in the afternoon . xxmaj talk about consistency . xxup read xxup the xxup script director ! \n",
       " \n",
       "  xxmaj the only cool part of this movie , besides the rack on xxmaj clara xxmaj bryant of course ( as another reviewer mentioned ) , is the phantom skeleton horse that the xxmaj bone xxmaj eater rides on . xxmaj that thing was pretty cool as it chased the xxunk on their motorcycles .\n",
       "y: CategoryList\n",
       "neg,neg,neg,neg,neg\n",
       "Path: /home/azureuser/.fastai/data/imdb;\n",
       "\n",
       "Test: None, model=SequentialRNN(\n",
       "  (0): MultiBatchEncoder(\n",
       "    (module): AWD_LSTM(\n",
       "      (encoder): Embedding(49808, 400, padding_idx=1)\n",
       "      (encoder_dp): EmbeddingDropout(\n",
       "        (emb): Embedding(49808, 400, padding_idx=1)\n",
       "      )\n",
       "      (rnns): ModuleList(\n",
       "        (0): WeightDropout(\n",
       "          (module): LSTM(400, 1152, batch_first=True)\n",
       "        )\n",
       "        (1): WeightDropout(\n",
       "          (module): LSTM(1152, 1152, batch_first=True)\n",
       "        )\n",
       "        (2): WeightDropout(\n",
       "          (module): LSTM(1152, 400, batch_first=True)\n",
       "        )\n",
       "      )\n",
       "      (input_dp): RNNDropout()\n",
       "      (hidden_dps): ModuleList(\n",
       "        (0): RNNDropout()\n",
       "        (1): RNNDropout()\n",
       "        (2): RNNDropout()\n",
       "      )\n",
       "    )\n",
       "  )\n",
       "  (1): PoolingLinearClassifier(\n",
       "    (layers): Sequential(\n",
       "      (0): BatchNorm1d(1200, eps=1e-05, momentum=0.1, affine=True, track_running_stats=True)\n",
       "      (1): Dropout(p=0.2)\n",
       "      (2): Linear(in_features=1200, out_features=50, bias=True)\n",
       "      (3): ReLU(inplace)\n",
       "      (4): BatchNorm1d(50, eps=1e-05, momentum=0.1, affine=True, track_running_stats=True)\n",
       "      (5): Dropout(p=0.1)\n",
       "      (6): Linear(in_features=50, out_features=2, bias=True)\n",
       "    )\n",
       "  )\n",
       "), opt_func=functools.partial(<class 'torch.optim.adam.Adam'>, betas=(0.9, 0.99)), loss_func=FlattenedLoss of CrossEntropyLoss(), metrics=[<function accuracy at 0x7f30e6cfb158>], true_wd=True, bn_wd=True, wd=0.01, train_bn=True, path=PosixPath('/home/azureuser/.fastai/data/imdb'), model_dir='models', callback_fns=[functools.partial(<class 'fastai.basic_train.Recorder'>, add_time=True, silent=False)], callbacks=[...], layer_groups=[Sequential(\n",
       "  (0): Embedding(49808, 400, padding_idx=1)\n",
       "  (1): EmbeddingDropout(\n",
       "    (emb): Embedding(49808, 400, padding_idx=1)\n",
       "  )\n",
       "), Sequential(\n",
       "  (0): WeightDropout(\n",
       "    (module): LSTM(400, 1152, batch_first=True)\n",
       "  )\n",
       "  (1): RNNDropout()\n",
       "), Sequential(\n",
       "  (0): WeightDropout(\n",
       "    (module): LSTM(1152, 1152, batch_first=True)\n",
       "  )\n",
       "  (1): RNNDropout()\n",
       "), Sequential(\n",
       "  (0): WeightDropout(\n",
       "    (module): LSTM(1152, 400, batch_first=True)\n",
       "  )\n",
       "  (1): RNNDropout()\n",
       "), Sequential(\n",
       "  (0): PoolingLinearClassifier(\n",
       "    (layers): Sequential(\n",
       "      (0): BatchNorm1d(1200, eps=1e-05, momentum=0.1, affine=True, track_running_stats=True)\n",
       "      (1): Dropout(p=0.2)\n",
       "      (2): Linear(in_features=1200, out_features=50, bias=True)\n",
       "      (3): ReLU(inplace)\n",
       "      (4): BatchNorm1d(50, eps=1e-05, momentum=0.1, affine=True, track_running_stats=True)\n",
       "      (5): Dropout(p=0.1)\n",
       "      (6): Linear(in_features=50, out_features=2, bias=True)\n",
       "    )\n",
       "  )\n",
       ")], add_time=True, silent=False, cb_fns_registered=False)\n",
       "alpha: 2.0\n",
       "beta: 1.0], layer_groups=[Sequential(\n",
       "  (0): Embedding(49808, 400, padding_idx=1)\n",
       "  (1): EmbeddingDropout(\n",
       "    (emb): Embedding(49808, 400, padding_idx=1)\n",
       "  )\n",
       "), Sequential(\n",
       "  (0): WeightDropout(\n",
       "    (module): LSTM(400, 1152, batch_first=True)\n",
       "  )\n",
       "  (1): RNNDropout()\n",
       "), Sequential(\n",
       "  (0): WeightDropout(\n",
       "    (module): LSTM(1152, 1152, batch_first=True)\n",
       "  )\n",
       "  (1): RNNDropout()\n",
       "), Sequential(\n",
       "  (0): WeightDropout(\n",
       "    (module): LSTM(1152, 400, batch_first=True)\n",
       "  )\n",
       "  (1): RNNDropout()\n",
       "), Sequential(\n",
       "  (0): PoolingLinearClassifier(\n",
       "    (layers): Sequential(\n",
       "      (0): BatchNorm1d(1200, eps=1e-05, momentum=0.1, affine=True, track_running_stats=True)\n",
       "      (1): Dropout(p=0.2)\n",
       "      (2): Linear(in_features=1200, out_features=50, bias=True)\n",
       "      (3): ReLU(inplace)\n",
       "      (4): BatchNorm1d(50, eps=1e-05, momentum=0.1, affine=True, track_running_stats=True)\n",
       "      (5): Dropout(p=0.1)\n",
       "      (6): Linear(in_features=50, out_features=2, bias=True)\n",
       "    )\n",
       "  )\n",
       ")], add_time=True, silent=False, cb_fns_registered=False)"
      ]
     },
     "execution_count": 59,
     "metadata": {},
     "output_type": "execute_result"
    }
   ],
   "source": [
    "learn_clas.load_encoder(working_dir + 'lm_encoder')"
   ]
  },
  {
   "cell_type": "markdown",
   "metadata": {},
   "source": [
    "Let's find the learning rate we have to use"
   ]
  },
  {
   "cell_type": "code",
   "execution_count": 60,
   "metadata": {},
   "outputs": [
    {
     "data": {
      "text/html": [],
      "text/plain": [
       "<IPython.core.display.HTML object>"
      ]
     },
     "metadata": {},
     "output_type": "display_data"
    },
    {
     "name": "stdout",
     "output_type": "stream",
     "text": [
      "LR Finder is complete, type {learner_name}.recorder.plot() to see the graph.\n"
     ]
    },
    {
     "data": {
      "image/png": "[encoded data removed]",
      "text/plain": [
       "<Figure size 432x288 with 1 Axes>"
      ]
     },
     "metadata": {
      "needs_background": "light"
     },
     "output_type": "display_data"
    }
   ],
   "source": [
    "learn_clas.freeze()\n",
    "learn_clas.lr_find()\n",
    "learn_clas.recorder.plot()"
   ]
  },
  {
   "cell_type": "markdown",
   "metadata": {},
   "source": [
    "Time for training, as usual"
   ]
  },
  {
   "cell_type": "code",
   "execution_count": 61,
   "metadata": {},
   "outputs": [
    {
     "data": {
      "text/html": [
       "<table border=\"1\" class=\"dataframe\">\n",
       "  <thead>\n",
       "    <tr style=\"text-align: left;\">\n",
       "      <th>epoch</th>\n",
       "      <th>train_loss</th>\n",
       "      <th>valid_loss</th>\n",
       "      <th>accuracy</th>\n",
       "      <th>time</th>\n",
       "    </tr>\n",
       "  </thead>\n",
       "  <tbody>\n",
       "    <tr>\n",
       "      <td>0</td>\n",
       "      <td>0.313291</td>\n",
       "      <td>0.243367</td>\n",
       "      <td>0.902240</td>\n",
       "      <td>01:32</td>\n",
       "    </tr>\n",
       "  </tbody>\n",
       "</table>"
      ],
      "text/plain": [
       "<IPython.core.display.HTML object>"
      ]
     },
     "metadata": {},
     "output_type": "display_data"
    }
   ],
   "source": [
    "learn_clas.fit_one_cycle(1, 1e-2, moms=(0.8,0.7))"
   ]
  },
  {
   "cell_type": "markdown",
   "metadata": {},
   "source": [
    "We save our classifier to use it later so we can test it without training"
   ]
  },
  {
   "cell_type": "code",
   "execution_count": 64,
   "metadata": {},
   "outputs": [],
   "source": [
    "learn_clas.save('lm_classifier')"
   ]
  },
  {
   "cell_type": "markdown",
   "metadata": {},
   "source": [
    "#### Let's try it:"
   ]
  },
  {
   "cell_type": "markdown",
   "metadata": {},
   "source": [
    "We first load the model we previously saved"
   ]
  },
  {
   "cell_type": "code",
   "execution_count": 65,
   "metadata": {},
   "outputs": [],
   "source": [
    "learn_clas = learn_clas.load(working_dir + 'lm_classifier')"
   ]
  },
  {
   "cell_type": "markdown",
   "metadata": {},
   "source": [
    "We can use the predict method to get the scoring of the sentiment"
   ]
  },
  {
   "cell_type": "code",
   "execution_count": 78,
   "metadata": {},
   "outputs": [],
   "source": [
    "test_text = \"Zombiegeddon was perhaps the GREATEST movie i have ever seen!\""
   ]
  },
  {
   "cell_type": "code",
   "execution_count": 79,
   "metadata": {},
   "outputs": [
    {
     "data": {
      "text/plain": [
       "(Category pos, tensor(1), tensor([0.0839, 0.9161]))"
      ]
     },
     "execution_count": 79,
     "metadata": {},
     "output_type": "execute_result"
    }
   ],
   "source": [
    "learn_clas.predict(test_text)"
   ]
  },
  {
   "cell_type": "code",
   "execution_count": null,
   "metadata": {},
   "outputs": [],
   "source": [
    "import matplotlib.cm as cm\n",
    "\n",
    "txt_ci = TextClassificationInterpretation.from_learner(learn_clas)"
   ]
  },
  {
   "cell_type": "code",
   "execution_count": 80,
   "metadata": {},
   "outputs": [
    {
     "data": {
      "text/html": [
       "<span style=\"font-family: monospace;\"><span title=\"0.451\" style=\"background-color: rgba(169, 167, 207, 0.5);\">xxbos</span> <span title=\"0.213\" style=\"background-color: rgba(224, 223, 238, 0.5);\">xxmaj</span> <span title=\"0.960\" style=\"background-color: rgba(69, 12, 130, 0.5);\">xxunk</span> <span title=\"0.370\" style=\"background-color: rgba(189, 190, 220, 0.5);\">was</span> <span title=\"0.777\" style=\"background-color: rgba(100, 70, 158, 0.5);\">perhaps</span> <span title=\"0.237\" style=\"background-color: rgba(220, 220, 236, 0.5);\">the</span> <span title=\"0.247\" style=\"background-color: rgba(218, 218, 235, 0.5);\">xxup</span> <span title=\"1.000\" style=\"background-color: rgba(63, 0, 125, 0.5);\">greatest</span> <span title=\"0.351\" style=\"background-color: rgba(194, 195, 223, 0.5);\">movie</span> <span title=\"0.256\" style=\"background-color: rgba(216, 216, 234, 0.5);\">i</span> <span title=\"0.169\" style=\"background-color: rgba(231, 230, 241, 0.5);\">have</span> <span title=\"0.232\" style=\"background-color: rgba(221, 220, 236, 0.5);\">ever</span> <span title=\"0.177\" style=\"background-color: rgba(230, 229, 240, 0.5);\">seen</span> <span title=\"0.314\" style=\"background-color: rgba(202, 203, 227, 0.5);\">!</span></span>"
      ],
      "text/plain": [
       "<IPython.core.display.HTML object>"
      ]
     },
     "metadata": {},
     "output_type": "display_data"
    }
   ],
   "source": [
    "txt_ci.show_intrinsic_attention(test_text,cmap=cm.Purples)"
   ]
  },
  {
   "cell_type": "code",
   "execution_count": null,
   "metadata": {},
   "outputs": [],
   "source": []
  }
 ],
 "metadata": {
  "kernelspec": {
   "display_name": "Python (fastai-pytorch-py37)",
   "language": "python",
   "name": "fastai-pytorch-py37"
  },
  "language_info": {
   "codemirror_mode": {
    "name": "ipython",
    "version": 3
   },
   "file_extension": ".py",
   "mimetype": "text/x-python",
   "name": "python",
   "nbconvert_exporter": "python",
   "pygments_lexer": "ipython3",
   "version": "3.6.9"
  }
 },
 "nbformat": 4,
 "nbformat_minor": 2
}
