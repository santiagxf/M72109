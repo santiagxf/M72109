{
 "cells": [
  {
   "cell_type": "markdown",
   "id": "2b5d19c9",
   "metadata": {},
   "source": [
    "Preprocesamiento de texto\n",
    "======================"
   ]
  },
  {
   "cell_type": "markdown",
   "id": "f12b6312",
   "metadata": {},
   "source": [
    "## Introducción"
   ]
  },
  {
   "cell_type": "markdown",
   "id": "9c550d0a",
   "metadata": {},
   "source": [
    "Cuando hablamos de entrenar un modelo de aprendizaje automático, en general ocupamos una porción de nuestro tiempo en preprocesar los datos para generar representaciones útiles y deshacernos de problemas especificos que podría exhibir nuestro conjunto de datos. En particular, para el procesamiento del lenguaje natural, sabemos que debemos representar nuestras palabras de forma vectorial utilizando un vocabulario. También sabemos que el tamaño del vocabulario es algo que deseamos manejar.\n",
    "\n",
    "Tipicamente, las siguientes técnicas se aplican para procesar el texto:\n",
    " - [Normalización](#Normalización)\n",
    " - [Stemming o Lemmatization](#StemmingOLemmatization)\n",
    " - [Eliminación de stopwords](#Eliminacióndestopwords)\n",
    " - [Tokenización](#Tokenización)"
   ]
  },
  {
   "cell_type": "markdown",
   "id": "b527add1",
   "metadata": {},
   "source": [
    "## Para ejecutar este notebook"
   ]
  },
  {
   "cell_type": "markdown",
   "id": "9a9599b2",
   "metadata": {},
   "source": [
    "Para ejecutar este notebook, instale las siguientes librerias:"
   ]
  },
  {
   "cell_type": "code",
   "execution_count": null,
   "id": "7e32ba06",
   "metadata": {},
   "outputs": [],
   "source": [
    "!wget -N https://raw.githubusercontent.com/santiagxf/M72109/master/NLP/Preprocesamiento.txt --quiet --no-clobber\n",
    "!pip install -r Preprocesamiento.txt"
   ]
  },
  {
   "cell_type": "markdown",
   "id": "fd250846",
   "metadata": {},
   "source": [
    "## Normalización"
   ]
  },
  {
   "cell_type": "markdown",
   "id": "2013b190",
   "metadata": {},
   "source": [
    "La normalización de texto hace referencia al proceso por el cual transformamos el texto en una única forma canónica común. Normalizar el texto antes de almacenarlo o procesarlo permite liberarnos de preocupaciones posteriores, ya que se garantiza que la entrada sea consistente antes de que se realicen operaciones sobre el mismo. La normalización del texto, sin embargo, requiere saber qué tipo de texto se está normalizando y cómo se procesará posteriormente. Por lo tanto, no existe un procedimiento de normalización universal.\n",
    "\n",
    "A pesar de no existir un proceso univeral, algunas técnicas si son comunes, como por ejemplo eliminar caracteres no alfanuméricos o marcas diacríticas (acentos, dieresis) y sustitución de mayusculas por minúsculas. Otras tareas podrían ser más específicas como ser el tratamiento de direcciones URL o incluso algunas combinaciones de caracteres como ser los emojis, los hashtags, etc."
   ]
  },
  {
   "cell_type": "markdown",
   "id": "7265d2e2",
   "metadata": {},
   "source": [
    "### Implementación"
   ]
  },
  {
   "cell_type": "markdown",
   "id": "ebaa7a77",
   "metadata": {},
   "source": [
    "Para aquellas tareas sencillas, podemos utilizar algunas funciones pre-existentes. Para tareas más especificas, la utilización de expresiones regulares pueden ser de gran utilidad. Las expresiones regulares nos permiten buscar patrones específicos dentro de los textos. Veamos algunas trasnformaciones de texto.\n",
    "\n",
    "> Los siguientes ejemplos utilizan tweets reales extraidos del conjunto de datos [Spanish Corpus of Tweets for Marketing](http://ceur-ws.org/Vol-2111/paper1.pdf)"
   ]
  },
  {
   "cell_type": "code",
   "execution_count": 60,
   "id": "06658dd9",
   "metadata": {},
   "outputs": [
    {
     "name": "stdout",
     "output_type": "stream",
     "text": [
      "Ecologistas en Acción valora positivamente la decisión de Carrefour España de dejar de vender panga… https://t.co/16RuHAeNhY\n"
     ]
    }
   ],
   "source": [
    "sample = \"Ecologistas en Acción valora positivamente la decisión de Carrefour España de dejar de vender panga… https://t.co/16RuHAeNhY\"\n",
    "print(sample)"
   ]
  },
  {
   "cell_type": "markdown",
   "id": "54e1928e",
   "metadata": {},
   "source": [
    "Convertir el texto en minusculas"
   ]
  },
  {
   "cell_type": "code",
   "execution_count": 27,
   "id": "640b77f8",
   "metadata": {},
   "outputs": [
    {
     "name": "stdout",
     "output_type": "stream",
     "text": [
      "ecologistas en acción valora positivamente la decisión de carrefour españa de dejar de vender panga… https://t.co/16ruhaenhy\n"
     ]
    }
   ],
   "source": [
    "sample = sample.lower()\n",
    "print(sample)"
   ]
  },
  {
   "cell_type": "markdown",
   "id": "ebd58b47",
   "metadata": {},
   "source": [
    "Marcas diacríticas"
   ]
  },
  {
   "cell_type": "code",
   "execution_count": 29,
   "id": "431d9bde",
   "metadata": {},
   "outputs": [
    {
     "name": "stdout",
     "output_type": "stream",
     "text": [
      "ecologistas en accion valora positivamente la decision de carrefour espana de dejar de vender panga... https://t.co/16ruhaenhy\n"
     ]
    }
   ],
   "source": [
    "import unidecode\n",
    "\n",
    "sample = unidecode.unidecode(sample)\n",
    "print(sample)"
   ]
  },
  {
   "cell_type": "markdown",
   "id": "ac531672",
   "metadata": {},
   "source": [
    "Eliminación de caracteres especiales"
   ]
  },
  {
   "cell_type": "code",
   "execution_count": 32,
   "id": "f9706ab0",
   "metadata": {},
   "outputs": [
    {
     "name": "stdout",
     "output_type": "stream",
     "text": [
      "ecologistas en accion valora positivamente la decision de carrefour espana de dejar de vender panga httpstco16ruhaenhy\n"
     ]
    }
   ],
   "source": [
    "import re\n",
    "\n",
    "charsToKepp = r'[^a-zA-Z0-9\\s]'\n",
    "sample = re.sub(charsToKepp, '', sample)\n",
    "print(sample)"
   ]
  },
  {
   "cell_type": "markdown",
   "id": "e4b74e3d",
   "metadata": {},
   "source": [
    "Es interesante revisar el ejemplo anterior, dado que el efecto que obtuvo eliminar los caracteres especiales no fué el más indicado. En este caso, quisieramos eliminar las URLs por completo en lugar de solamente los caracteres especiales que están dentro de ellas.\n",
    "\n",
    "> En general, deberiamos invertir el orden de la celda anterior con la celda siguiente (primero eliminar las URLs y luego los caracteres especiales."
   ]
  },
  {
   "cell_type": "code",
   "execution_count": 34,
   "id": "543d2809",
   "metadata": {},
   "outputs": [
    {
     "name": "stdout",
     "output_type": "stream",
     "text": [
      "ecologistas en accion valora positivamente la decision de carrefour espana de dejar de vender panga\n"
     ]
    }
   ],
   "source": [
    "import re\n",
    "\n",
    "urls_regex = re.compile('http\\S+')\n",
    "sample = [token for token in sample.split(' ') if not re.match(urls_regex, token)]\n",
    "print(' '.join(sample))"
   ]
  },
  {
   "cell_type": "markdown",
   "id": "91550042",
   "metadata": {},
   "source": [
    "Como se puede ver, el procesamiento del texto a realizar dependerá mucho del contexto."
   ]
  },
  {
   "cell_type": "markdown",
   "id": "3eaac393",
   "metadata": {},
   "source": [
    "## Stemming y lematization"
   ]
  },
  {
   "cell_type": "markdown",
   "id": "6f359739",
   "metadata": {},
   "source": [
    "Existen palabras cuyo significado no cambia ya que estan atados a una palabra raiz que les da el significado:\n",
    "\n",
    "> Organizan, organiza, organizando, organizaron\n",
    "\n",
    "**Stemming y Lemmatization** son dos técnicas que generan la palabra raiz dada una palabra. La diferencia que hay entre estas técnicas es que **Lemmatization** utiliza reglas del lenguaje para extraer las palabras raiz y por lo tanto, el resultado son palabras que existen en el vocabulario. Por el contrario, **Stemming** utiliza heuristicas que truncan la palabra hasta su raiz invariable. El resultado son \"psudopalabras\" o mejor conocidos como tokens que no forman una palabra del lenguaje propiamente dicho. Esta técnica, como se puede intuir, es más rápida computacionalmente. "
   ]
  },
  {
   "cell_type": "markdown",
   "id": "e844cbd1",
   "metadata": {},
   "source": [
    "### Stemming "
   ]
  },
  {
   "cell_type": "markdown",
   "id": "9f6b97be",
   "metadata": {},
   "source": [
    "Stemming (o en español `derivación`) es el proceso en el que estandarizamos las formas de las palabras a su raíz base independientemente de las inflexiones o cojugación en la que se encuentre."
   ]
  },
  {
   "cell_type": "markdown",
   "id": "ccd3ef8f",
   "metadata": {},
   "source": [
    "Para demostrar esta técnica utilizaremos la popular libreria de NLP `nltk`:"
   ]
  },
  {
   "cell_type": "code",
   "execution_count": 40,
   "id": "b25197bc",
   "metadata": {},
   "outputs": [],
   "source": [
    "from nltk import stem\n",
    "\n",
    "stemmer = stem.SnowballStemmer(language='spanish')"
   ]
  },
  {
   "cell_type": "code",
   "execution_count": 41,
   "id": "769defad",
   "metadata": {},
   "outputs": [],
   "source": [
    "words = ['amigos', 'amigo', 'amiga', 'amistad' ]"
   ]
  },
  {
   "cell_type": "code",
   "execution_count": 42,
   "id": "2ec2c087",
   "metadata": {},
   "outputs": [
    {
     "data": {
      "text/plain": [
       "['amig', 'amig', 'amig', 'amist']"
      ]
     },
     "execution_count": 42,
     "metadata": {},
     "output_type": "execute_result"
    }
   ],
   "source": [
    "[stemmer.stem(word) for word in words]"
   ]
  },
  {
   "cell_type": "markdown",
   "id": "3bbeabc1",
   "metadata": {},
   "source": [
    "### Lemmatization"
   ]
  },
  {
   "cell_type": "markdown",
   "id": "18f7554d",
   "metadata": {},
   "source": [
    "El proceso de `lemmatization` es similar al de `stemming` salvo que al no utilizar reglas del lenguaje para extraer las palabras raiz. Como consecuencia, el resultado es el vocablo raiz propiamente dicho."
   ]
  },
  {
   "cell_type": "markdown",
   "id": "15eb5e61",
   "metadata": {},
   "source": [
    "Para aplicar esta técnica utilizaremos la librería `spaCy`.\n",
    "\n",
    ">**Sobre la libreria spaCy:** Spacy es una libreria para NLP muy polupar actualmente ya que, al contrario de nltk, ofrece formas muy eficientes de hacer solo algunos tipos de operaciones. NLTK es una herramienta más general. Para instalar spaCy en español necesitaran ejecutar:\n",
    "\n",
    "```\n",
    "conda install -c spacy spacy\n",
    "python -m spacy download es_core_news_sm\n",
    "```\n",
    "\n",
    ">Si bien `ntlk` ofrece la opción de hacer Lemmatization, su soporte mayoritariamente es para ingles. La versión en español no es demasiado buena. Si les interesa probarla puede hacerlo a traves del metodo.\n",
    "\n",
    "```\n",
    "nltk.wordnet.lemas(\"palabra\", lang='spa')\n",
    "```"
   ]
  },
  {
   "cell_type": "markdown",
   "id": "88f24355",
   "metadata": {},
   "source": [
    "Cargamos el modelo en español e instanciamos el parser:"
   ]
  },
  {
   "cell_type": "code",
   "execution_count": null,
   "id": "ac978d20",
   "metadata": {},
   "outputs": [],
   "source": [
    "!python -m spacy download es_core_news_sm"
   ]
  },
  {
   "cell_type": "code",
   "execution_count": 38,
   "id": "50f70709",
   "metadata": {},
   "outputs": [],
   "source": [
    "import es_core_news_sm as spa\n",
    "parser = spa.load()"
   ]
  },
  {
   "cell_type": "markdown",
   "id": "2f52225c",
   "metadata": {},
   "source": [
    "Creamos una funcion que nos ayuden a simplificar el uso de este método:"
   ]
  },
  {
   "cell_type": "code",
   "execution_count": 43,
   "id": "17f2ac8d",
   "metadata": {},
   "outputs": [],
   "source": [
    "lemmatizer = lambda word : \" \".join([token.lemma_ for token in parser(word)])"
   ]
  },
  {
   "cell_type": "code",
   "execution_count": 44,
   "id": "e4dc68f5",
   "metadata": {},
   "outputs": [],
   "source": [
    "words = ['amigos', 'amigo', 'amiga', 'amistad' ]"
   ]
  },
  {
   "cell_type": "code",
   "execution_count": 45,
   "id": "1d65ccad",
   "metadata": {},
   "outputs": [
    {
     "data": {
      "text/plain": [
       "['amigo', 'amigar', 'amigo', 'amistar']"
      ]
     },
     "execution_count": 45,
     "metadata": {},
     "output_type": "execute_result"
    }
   ],
   "source": [
    "[lemmatizer(word) for word in words]"
   ]
  },
  {
   "cell_type": "markdown",
   "id": "d839b583",
   "metadata": {},
   "source": [
    "> **Nota:** La precisión de Lemmatization depende de la implementación. La de español no es demasiado buena. Notar también lo que sucede con la palabra \"amigo\": ¿Es el verbo amigar o el sustantivo amigo?"
   ]
  },
  {
   "cell_type": "markdown",
   "id": "9182092e",
   "metadata": {},
   "source": [
    "Adicionalmente, `spaCy` procesa el texto [tokenizándolo](#tokenización) en `tokens` y enriqueciendolos con anotaciones."
   ]
  },
  {
   "cell_type": "code",
   "execution_count": 55,
   "id": "e4d8b14b",
   "metadata": {},
   "outputs": [],
   "source": [
    "words_tagged = parser(' '.join(words))"
   ]
  },
  {
   "cell_type": "code",
   "execution_count": 57,
   "id": "e15772cb",
   "metadata": {},
   "outputs": [
    {
     "name": "stdout",
     "output_type": "stream",
     "text": [
      "amigos/amigo/NOUN\n",
      "amigo/amigar/NOUN\n",
      "amiga/amigo/VERB\n",
      "amistad/amistar/NOUN\n"
     ]
    }
   ],
   "source": [
    "for t in words_tagged:\n",
    "    print(t.text+'/'+t.lemma_ + '/'+ t.pos_)"
   ]
  },
  {
   "cell_type": "markdown",
   "id": "70d9e4d6",
   "metadata": {},
   "source": [
    "## Eliminación de stopwords"
   ]
  },
  {
   "cell_type": "markdown",
   "id": "f2223776",
   "metadata": {},
   "source": [
    "Algunas palabras que son extremadamente frecuentes, \"a-priori\" (revisaremos este concepto luego) no son de mucha utilidad para resolver una tarea de clasificación de texto específica. Estas palabras se las conoce como Stop words y, dado que son de poca utilidad, son eliminadas del texto.\n",
    "\n",
    "> **Spoiler Alert:** Mencionamos 'a priori', porque la tendencia general en los ultimos tiempos ha sido ir desde grandes listas de stop words en el order de 200-300 a listas muy pequeñas (10-15 - si es que las hay). Los buscadores, por ejemplo, hoy en día no eliminan estas palabras. Cuando veamos modelos de lenguaje, en realidad las vamos a necesitar."
   ]
  },
  {
   "cell_type": "markdown",
   "id": "c9c2bd11",
   "metadata": {},
   "source": [
    "Una de las formas más sencillas de eliminar estas palabras es utilizando la libreria `nltk` de la siguiente forma:"
   ]
  },
  {
   "cell_type": "code",
   "execution_count": 46,
   "id": "8af6dbe4",
   "metadata": {},
   "outputs": [],
   "source": [
    "import nltk\n",
    "from nltk.corpus import stopwords"
   ]
  },
  {
   "cell_type": "code",
   "execution_count": 47,
   "id": "21dc0085",
   "metadata": {},
   "outputs": [
    {
     "data": {
      "text/plain": [
       "True"
      ]
     },
     "execution_count": 47,
     "metadata": {},
     "output_type": "execute_result"
    }
   ],
   "source": [
    "nltk.download('stopwords', quiet=True)"
   ]
  },
  {
   "cell_type": "code",
   "execution_count": 48,
   "id": "0577e709",
   "metadata": {},
   "outputs": [],
   "source": [
    "spa_stopwords = stopwords.words('spanish')"
   ]
  },
  {
   "cell_type": "markdown",
   "id": "de9087ad",
   "metadata": {},
   "source": [
    "Revisemos como lucen estas palabras:"
   ]
  },
  {
   "cell_type": "code",
   "execution_count": 49,
   "id": "1e274e24",
   "metadata": {},
   "outputs": [
    {
     "data": {
      "text/plain": [
       "['de', 'la', 'que', 'el', 'en', 'y', 'a', 'los', 'del', 'se']"
      ]
     },
     "execution_count": 49,
     "metadata": {},
     "output_type": "execute_result"
    }
   ],
   "source": [
    "spa_stopwords[:10]"
   ]
  },
  {
   "cell_type": "markdown",
   "id": "5cd43cbd",
   "metadata": {},
   "source": [
    "### Implementación"
   ]
  },
  {
   "cell_type": "markdown",
   "id": "f542801a",
   "metadata": {},
   "source": [
    "Podemos implementar facilmente una rútina que elimine estas palabras de un texto de la siguiente forma:"
   ]
  },
  {
   "cell_type": "code",
   "execution_count": 54,
   "id": "44a7f724",
   "metadata": {},
   "outputs": [
    {
     "name": "stdout",
     "output_type": "stream",
     "text": [
      "Antes: ecologistas en accion valora positivamente la decision de carrefour espana de dejar de vender panga\n",
      "Despues: ecologistas accion valora positivamente decision carrefour espana dejar vender panga\n"
     ]
    }
   ],
   "source": [
    "sample = \"ecologistas en accion valora positivamente la decision de carrefour espana de dejar de vender panga\"\n",
    "print('Antes:', sample)\n",
    "\n",
    "sample = ' '.join([token for token in sample.split(' ') if token not in spa_stopwords])\n",
    "print('Despues:', sample)"
   ]
  },
  {
   "cell_type": "markdown",
   "id": "953ac483",
   "metadata": {},
   "source": [
    "## Tokenización"
   ]
  },
  {
   "cell_type": "markdown",
   "id": "8fafbf43",
   "metadata": {},
   "source": [
    "Se refiere al proceso de generación de tokens basado en un texto. A alto nivel, se podría ver como la tarea de dividir oraciones en palabras. Un token se diferencia de una palabra en el hecho de que una palabra es una instancia de un token. Existen varias técnicas para separar una oración o texto en general en tokens:\n",
    "\n",
    "> Lectura recomendada: [Diferentes `tokenizers` disponibles en `nltk`](http://www.nltk.org/api/nltk.tokenize.html)"
   ]
  },
  {
   "cell_type": "markdown",
   "id": "ad610e1d",
   "metadata": {},
   "source": [
    "Tomemos un tweet de ejemplo:"
   ]
  },
  {
   "cell_type": "code",
   "execution_count": 64,
   "id": "8cba7a9d",
   "metadata": {},
   "outputs": [
    {
     "name": "stdout",
     "output_type": "stream",
     "text": [
      ". @PoliciadeBurgos @PCivilBurgos @Aytoburgos Mismo peligro c/ Rio Viejo junto Mercadona Villimar\n"
     ]
    }
   ],
   "source": [
    "sample = \". @PoliciadeBurgos @PCivilBurgos @Aytoburgos Mismo peligro c/ Rio Viejo junto Mercadona Villimar\"\n",
    "print(sample)"
   ]
  },
  {
   "cell_type": "markdown",
   "id": "6e71b614",
   "metadata": {},
   "source": [
    "Instanciaremos un `tokenizer` del tipo `TreebankWordTokenizer`, uno de los más genéricos:"
   ]
  },
  {
   "cell_type": "code",
   "execution_count": 65,
   "id": "4d604f18",
   "metadata": {},
   "outputs": [],
   "source": [
    "from nltk.tokenize.treebank import TreebankWordTokenizer\n",
    "\n",
    "tokenizer = TreebankWordTokenizer()"
   ]
  },
  {
   "cell_type": "code",
   "execution_count": 66,
   "id": "f91204b1",
   "metadata": {},
   "outputs": [
    {
     "data": {
      "text/plain": [
       "['.',\n",
       " '@',\n",
       " 'PoliciadeBurgos',\n",
       " '@',\n",
       " 'PCivilBurgos',\n",
       " '@',\n",
       " 'Aytoburgos',\n",
       " 'Mismo',\n",
       " 'peligro',\n",
       " 'c/',\n",
       " 'Rio',\n",
       " 'Viejo',\n",
       " 'junto',\n",
       " 'Mercadona',\n",
       " 'Villimar']"
      ]
     },
     "execution_count": 66,
     "metadata": {},
     "output_type": "execute_result"
    }
   ],
   "source": [
    "tokenizer.tokenize(sample)"
   ]
  },
  {
   "cell_type": "markdown",
   "id": "0c289140",
   "metadata": {},
   "source": [
    "Intentemos ahora con un `tokenizer` un poco más específico para procesar tweets:"
   ]
  },
  {
   "cell_type": "code",
   "execution_count": 70,
   "id": "8422f77d",
   "metadata": {},
   "outputs": [],
   "source": [
    "from nltk.tokenize.casual import TweetTokenizer\n",
    "\n",
    "tokenizer = TweetTokenizer()"
   ]
  },
  {
   "cell_type": "code",
   "execution_count": 71,
   "id": "b13ca4db",
   "metadata": {},
   "outputs": [
    {
     "data": {
      "text/plain": [
       "['.',\n",
       " '@PoliciadeBurgos',\n",
       " '@PCivilBurgos',\n",
       " '@Aytoburgos',\n",
       " 'Mismo',\n",
       " 'peligro',\n",
       " 'c',\n",
       " '/',\n",
       " 'Rio',\n",
       " 'Viejo',\n",
       " 'junto',\n",
       " 'Mercadona',\n",
       " 'Villimar']"
      ]
     },
     "execution_count": 71,
     "metadata": {},
     "output_type": "execute_result"
    }
   ],
   "source": [
    "tokenizer.tokenize(sample)"
   ]
  },
  {
   "cell_type": "markdown",
   "id": "4b7f2675",
   "metadata": {},
   "source": [
    "> Notar como el tratamiento del arroba resulta distinto dependiendo del `tokenizer` que estamos utilizando."
   ]
  },
  {
   "cell_type": "markdown",
   "id": "5ed866e9",
   "metadata": {},
   "source": [
    "## Creando una rutina de preparación del texto"
   ]
  },
  {
   "cell_type": "markdown",
   "id": "a0e83eba",
   "metadata": {},
   "source": [
    "Idealmente, podemos empaquetar todos los pasos relevantes del preprocesamiento de texto en una rutina coherente y consolidada. Esto es importante no solo por cuestiones de practicidad, sino que también es relevante dado que en todos estos pasos **el orden en el que se ejecutan importa**. Una ejecución en un orden distinto al que se pensó o diseño podría lugar a perdida de información. Por ejemplo, ¿que pasaría si quisieramos procesar los *hashtags* de tweets de alguna manera si eliminaramos los caracteres especiales al principio?"
   ]
  },
  {
   "cell_type": "markdown",
   "id": "5837922f",
   "metadata": {},
   "source": [
    "Una rutina podría ser la siguiente:"
   ]
  },
  {
   "cell_type": "code",
   "execution_count": 78,
   "id": "35b57e63",
   "metadata": {},
   "outputs": [],
   "source": [
    "import unidecode\n",
    "import spacy\n",
    "import es_core_news_sm as spa\n",
    "import re\n",
    "from nltk import stem\n",
    "from nltk.corpus import stopwords\n",
    "from nltk.tokenize.casual import TweetTokenizer\n",
    "\n",
    "parser = spa.load() # Cargamos el parser en español\n",
    "tokenizer = TweetTokenizer(strip_handles=True, reduce_len=True) # Creamos un tokenizer\n",
    "stemmer = stem.SnowballStemmer(language='spanish') # Creamos un steammer\n",
    "lemmatizer = lambda word : \" \".join([token.lemma_ for token in parser(word)]) # Creamos un lemmatizer\n",
    "stopwords = set(stopwords.words('spanish')) # Instanciamos las stopwords en español\n",
    "urls_regex = re.compile('http\\S+') # Usamos una expresion regular para encontrar las URLs\n",
    "\n",
    "def normalize(text):\n",
    "    tokens = tokenizer.tokenize(text.lower()) # Tokenizamos el texto\n",
    "    tokens = [token for token in tokens if not re.match(urls_regex, token)] # Eliminamos URLs\n",
    "    tokens = [token for token in tokens if len(token) > 4] # Eliminamos palabras con menos de 4 letras\n",
    "    tokens = [token for token in tokens if token not in stopwords] # Eliminamos stopwords\n",
    "    tokens = [unidecode.unidecode(token) for token in tokens] # Quitamos acentos\n",
    "    tokens = [lemmatizer(token) for token in tokens] # Aplicamos lematization\n",
    "    return tokens"
   ]
  },
  {
   "cell_type": "markdown",
   "id": "a77d1ec2",
   "metadata": {},
   "source": [
    "Luego podemos aplicar esta rutina facilmente a nuevo texto:"
   ]
  },
  {
   "cell_type": "code",
   "execution_count": 75,
   "id": "110bc777",
   "metadata": {},
   "outputs": [],
   "source": [
    "sample = \"Vaya estafa de Mercadona. Voy y compro salsa de soja, curry, comino y sal sería buena idea. #Kiev https://t.co/Wej37UxCAs\""
   ]
  },
  {
   "cell_type": "code",
   "execution_count": 79,
   "id": "a14dd000",
   "metadata": {},
   "outputs": [
    {
     "data": {
      "text/plain": [
       "['estafar',\n",
       " 'mercadona',\n",
       " 'comprar',\n",
       " 'salsa',\n",
       " 'curry',\n",
       " 'comino',\n",
       " 'bueno',\n",
       " '# kiev']"
      ]
     },
     "execution_count": 79,
     "metadata": {},
     "output_type": "execute_result"
    }
   ],
   "source": [
    "normalize(sample)"
   ]
  },
  {
   "cell_type": "code",
   "execution_count": null,
   "id": "3dbee1a7",
   "metadata": {},
   "outputs": [],
   "source": []
  }
 ],
 "metadata": {
  "kernelspec": {
   "display_name": "Python 3 (ipykernel)",
   "language": "python",
   "name": "python3"
  },
  "language_info": {
   "codemirror_mode": {
    "name": "ipython",
    "version": 3
   },
   "file_extension": ".py",
   "mimetype": "text/x-python",
   "name": "python",
   "nbconvert_exporter": "python",
   "pygments_lexer": "ipython3",
   "version": "3.8.11"
  }
 },
 "nbformat": 4,
 "nbformat_minor": 5
}
