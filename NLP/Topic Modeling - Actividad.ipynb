{
 "cells": [
  {
   "cell_type": "markdown",
   "source": [
    "# Topic Modeling - Actividad"
   ],
   "metadata": {
    "colab_type": "text",
    "id": "it108cAwxRJt"
   }
  },
  {
   "cell_type": "markdown",
   "source": [
    "Topic modeling es una técnica de aprendizaje automático no supervisado donde intentados descubrir tópicos que son abstractos al texto pero que pueden describir una colección de documentos. Es importante marcar que estos \"tópicos\" no son necesariamente equivalentes a la interpretación coloquial de tópicos, sino que responden a un patrón que emerge de las palabras que están en los documentos.\n",
    "\n",
    "La suposición básica para Topic Modeling es que cada documento está representado por una mescla de tópicos, y cada tópico consite en una conlección de palabras."
   ],
   "metadata": {
    "colab_type": "text",
    "id": "7VYPdzDTxRJw"
   }
  },
  {
   "cell_type": "markdown",
   "source": [
    "## Direcciones\n",
    "Intentaremos construir un pipeline de machine learning donde como entrada recibamos texto, ejecutemos todos los pasos que vimos en este notebook incluyendo:\n",
    " - Eliminación de stopwords\n",
    " - Tokenización\n",
    " - Stemming y Lemmatization\n",
    " - Procesamiento especico del tema\n",
    " - Creación de features utilizando algun metodo de reducción de dimensionalidad, SVD, LSI, LDA\n",
    "\n",
    ", para luego utilizar estas features para entrenar un modelo que nos permita predecir alguna propiedad interesante del set de datos. En este caso en particular, donde estamos viendo tweets, algunos casos interesantes podrían ser:\n",
    " - Predecir el sector al que pertenece el tweet: Alimentación, Bebidas, etc.\n",
    " - Predecir el paso en el Marketing Funel al que pertece\n",
    " \n",
    "En esta actividad les propongo realizar cambios en alguna de las etapas del procesamiento para modificar la performance del modelo resultante"
   ],
   "metadata": {
    "colab_type": "text",
    "id": "VomDdG0PxRJx"
   }
  },
  {
   "cell_type": "markdown",
   "source": [
    "<img src='https://github.com/santiagxf/M72109/blob/master/NLP/Docs/atap_0406.png?raw=1' />"
   ],
   "metadata": {
    "colab_type": "text",
    "id": "YrD82rvfxRJy"
   }
  },
  {
   "cell_type": "markdown",
   "source": [
    "## Preparación"
   ],
   "metadata": {}
  },
  {
   "cell_type": "markdown",
   "source": [
    "### Instalamos las librerias necesarias"
   ],
   "metadata": {
    "colab_type": "text",
    "id": "R9R7yFZZxRJ7"
   }
  },
  {
   "cell_type": "code",
   "execution_count": null,
   "source": [
    "!pip install unidecode\n",
    "!python -m spacy download es_core_news_sm"
   ],
   "outputs": [],
   "metadata": {
    "colab": {
     "base_uri": "https://localhost:8080/",
     "height": 646
    },
    "colab_type": "code",
    "id": "21Xgn3NqxRJ7",
    "outputId": "38f981ef-a740-4d81-ac3c-fc7a1c8bdf83"
   }
  },
  {
   "cell_type": "markdown",
   "source": [
    "### Set de datos"
   ],
   "metadata": {
    "colab_type": "text",
    "id": "wPrEbIYHxRJz"
   }
  },
  {
   "cell_type": "markdown",
   "source": [
    "Descargamos el set de datos y lo cargmamos en un DataFrame"
   ],
   "metadata": {
    "colab_type": "text",
    "id": "K8wE_TWuxRJ0"
   }
  },
  {
   "cell_type": "code",
   "execution_count": null,
   "source": [
    "!wget https://raw.githubusercontent.com/santiagxf/M72109/master/NLP/Datasets/mascorpus/tweets_marketing.csv --directory-prefix ./Datasets/mascorpus/"
   ],
   "outputs": [],
   "metadata": {
    "colab": {
     "base_uri": "https://localhost:8080/",
     "height": 204
    },
    "colab_type": "code",
    "id": "HZfVvtGfxRJ0",
    "outputId": "667fc09a-4a48-4c2e-f84e-d6dab2d1aa48"
   }
  },
  {
   "cell_type": "code",
   "execution_count": 8,
   "source": [
    "import pandas as pd\n",
    "\n",
    "tweets = pd.read_csv('Datasets/mascorpus/tweets_marketing.csv')"
   ],
   "outputs": [],
   "metadata": {
    "colab": {},
    "colab_type": "code",
    "id": "mnFmjMFkxRJ4"
   }
  },
  {
   "cell_type": "code",
   "execution_count": 9,
   "source": [
    "from sklearn.model_selection import train_test_split\n",
    "\n",
    "X_train, X_test, y_train, y_test = train_test_split(tweets['TEXTO'], tweets['SECTOR'], \n",
    "                                                    test_size=0.33, \n",
    "                                                    stratify=tweets['SECTOR'])"
   ],
   "outputs": [],
   "metadata": {
    "colab": {},
    "colab_type": "code",
    "id": "fZ6wpf2wxRKT"
   }
  },
  {
   "cell_type": "markdown",
   "source": [
    "## Construcción del modelo"
   ],
   "metadata": {}
  },
  {
   "cell_type": "markdown",
   "source": [
    "### Pasos"
   ],
   "metadata": {
    "colab_type": "text",
    "id": "1n_LptW1xRJ-"
   }
  },
  {
   "cell_type": "markdown",
   "source": [
    "**Paso 1:** Instanciamos nuestro preprocesamiento de texto"
   ],
   "metadata": {
    "colab_type": "text",
    "id": "fm4omFKExRJ_"
   }
  },
  {
   "cell_type": "code",
   "execution_count": 1,
   "source": [
    "import unidecode\n",
    "import spacy\n",
    "import es_core_news_sm as spa\n",
    "import re\n",
    "import sklearn\n",
    "import nltk\n",
    "from nltk import stem\n",
    "from nltk.corpus import stopwords\n",
    "from nltk.tokenize.casual import TweetTokenizer\n",
    "\n",
    "class TextNormalizer(sklearn.base.BaseEstimator, sklearn.base.TransformerMixin):\n",
    "    def __init__(self):\n",
    "        nltk.download('stopwords', quiet=True)\n",
    "\n",
    "        self.parser = spa.load() # Cargamos el parser en español\n",
    "        self.tokenizer = TweetTokenizer(strip_handles=True, reduce_len=True) # Creamos un tokenizer\n",
    "        self.stemmer = stem.SnowballStemmer(language='spanish') # Creamos un steammer\n",
    "        self.lemmatizer = lambda word : \" \".join([token.lemma_ for token in self.parser(word)]) # Creamos un lemmatizer\n",
    "        self.stopwords = set(stopwords.words('spanish')) # Instanciamos las stopwords en español\n",
    "        self.urls_regex = re.compile('http\\S+') # Usamos una expresion regular para encontrar las URLs\n",
    "    \n",
    "    def process_text(self, text):\n",
    "        tokens = self.tokenizer.tokenize(text)\n",
    "        tokens = [token for token in tokens if not re.match(self.urls_regex, token)]\n",
    "        tokens = [token for token in tokens if len(token) > 4]\n",
    "        tokens = [token for token in tokens if token not in self.stopwords]\n",
    "        tokens = [unidecode.unidecode(token) for token in tokens] # Quitamos acentos\n",
    "        tokens = [self.lemmatizer(token) for token in tokens]\n",
    "        return tokens\n",
    "    \n",
    "    def fit(self, X, y=None):\n",
    "        return self\n",
    "\n",
    "    def transform(self, X):\n",
    "        for doc in X:\n",
    "            yield ' '.join(self.process_text(text=doc))"
   ],
   "outputs": [],
   "metadata": {
    "colab": {},
    "colab_type": "code",
    "id": "uSJelhRfxRKA"
   }
  },
  {
   "cell_type": "code",
   "execution_count": 2,
   "source": [
    "normalizer = TextNormalizer()"
   ],
   "outputs": [],
   "metadata": {
    "colab": {
     "base_uri": "https://localhost:8080/",
     "height": 51
    },
    "colab_type": "code",
    "id": "rbt-OdJFxRKC",
    "outputId": "bed3f8f9-2e4a-4148-d58f-f6ae08c6fb5a"
   }
  },
  {
   "cell_type": "markdown",
   "source": [
    "**Paso 2:** Instanciamos nuestro vectorizador, en este caso usando el método TF-IDF"
   ],
   "metadata": {
    "colab_type": "text",
    "id": "XFY6eUe4xRKF"
   }
  },
  {
   "cell_type": "code",
   "execution_count": 3,
   "source": [
    "from sklearn.feature_extraction.text import TfidfVectorizer\n",
    "\n",
    "vectorizer = TfidfVectorizer(use_idf=True, sublinear_tf=True, norm='l2')"
   ],
   "outputs": [],
   "metadata": {
    "colab": {},
    "colab_type": "code",
    "id": "5oMARrKNxRKG"
   }
  },
  {
   "cell_type": "markdown",
   "source": [
    "**Paso 3:** Instanciamos nuestro generador de features"
   ],
   "metadata": {
    "colab_type": "text",
    "id": "atOW2STAxRKI"
   }
  },
  {
   "cell_type": "code",
   "execution_count": 4,
   "source": [
    "from sklearn.decomposition import LatentDirichletAllocation\n",
    "from sklearn.decomposition import TruncatedSVD\n",
    "from sklearn.decomposition import NMF\n",
    "\n",
    "featurizer = LatentDirichletAllocation(n_components=7)"
   ],
   "outputs": [],
   "metadata": {
    "colab": {},
    "colab_type": "code",
    "id": "FUvY-6AjxRKJ"
   }
  },
  {
   "cell_type": "markdown",
   "source": [
    "**Paso 4:** Instanciamos nuestro clasificador que utilizará las features generadas hasta este momento"
   ],
   "metadata": {
    "colab_type": "text",
    "id": "gdi6dwy_xRKL"
   }
  },
  {
   "cell_type": "code",
   "execution_count": 5,
   "source": [
    "from sklearn.linear_model import LogisticRegression\n",
    "from sklearn.ensemble import GradientBoostingClassifier\n",
    "\n",
    "estimator=GradientBoostingClassifier(learning_rate=0.01, \n",
    "                                     n_estimators=1500,\n",
    "                                     max_depth=4, \n",
    "                                     min_samples_split=40, \n",
    "                                     min_samples_leaf=7, \n",
    "                                     subsample=1, \n",
    "                                     random_state=1234)"
   ],
   "outputs": [],
   "metadata": {
    "colab": {},
    "colab_type": "code",
    "id": "wspdz2OZxRKL"
   }
  },
  {
   "cell_type": "markdown",
   "source": [
    "### Pipeline"
   ],
   "metadata": {}
  },
  {
   "cell_type": "markdown",
   "source": [
    "Ensamblamos el pipeline"
   ],
   "metadata": {
    "colab_type": "text",
    "id": "uk5oDgUpxRKN"
   }
  },
  {
   "cell_type": "code",
   "execution_count": 6,
   "source": [
    "from sklearn.pipeline import Pipeline\n",
    "\n",
    "pipeline = Pipeline(steps=[('normalizer', normalizer), \n",
    "                           ('vectorizer', vectorizer),\n",
    "                           ('featurizer', featurizer),\n",
    "                           ('estimator', estimator)])"
   ],
   "outputs": [],
   "metadata": {
    "colab": {},
    "colab_type": "code",
    "id": "eVA3dR60xRKO"
   }
  },
  {
   "cell_type": "markdown",
   "source": [
    "### Evaluación"
   ],
   "metadata": {
    "colab_type": "text",
    "id": "NCHelkwGxRKS"
   }
  },
  {
   "cell_type": "markdown",
   "source": [
    "**Evaluación:** Entrenamos el modelo y testeamos su performance"
   ],
   "metadata": {
    "colab_type": "text",
    "id": "CXQsgKLaxRKT"
   }
  },
  {
   "cell_type": "code",
   "execution_count": 10,
   "source": [
    "model = pipeline.fit(X=X_train, y=y_train)"
   ],
   "outputs": [],
   "metadata": {
    "colab": {},
    "colab_type": "code",
    "id": "OeSBrVY3xRKW"
   }
  },
  {
   "cell_type": "code",
   "execution_count": 28,
   "source": [
    "predictions = model.predict(X_test)"
   ],
   "outputs": [],
   "metadata": {
    "colab": {},
    "colab_type": "code",
    "id": "zbZSy77rxRKY"
   }
  },
  {
   "cell_type": "code",
   "execution_count": 30,
   "source": [
    "from sklearn.metrics import classification_report\n",
    "\n",
    "print(classification_report(y_test, predictions))"
   ],
   "outputs": [
    {
     "output_type": "stream",
     "name": "stdout",
     "text": [
      "              precision    recall  f1-score   support\n",
      "\n",
      "ALIMENTACION       0.00      0.00      0.00       110\n",
      "  AUTOMOCION       0.00      0.00      0.00       148\n",
      "       BANCA       0.00      0.00      0.00       198\n",
      "     BEBIDAS       0.28      0.27      0.27       223\n",
      "    DEPORTES       0.30      0.53      0.39       216\n",
      "      RETAIL       0.24      0.58      0.34       268\n",
      "       TELCO       0.00      0.00      0.00        79\n",
      "\n",
      "    accuracy                           0.27      1242\n",
      "   macro avg       0.12      0.20      0.14      1242\n",
      "weighted avg       0.15      0.27      0.19      1242\n",
      "\n"
     ]
    },
    {
     "output_type": "stream",
     "name": "stderr",
     "text": [
      "/usr/local/lib/python3.6/dist-packages/sklearn/metrics/_classification.py:1272: UndefinedMetricWarning: Precision and F-score are ill-defined and being set to 0.0 in labels with no predicted samples. Use `zero_division` parameter to control this behavior.\n",
      "  _warn_prf(average, modifier, msg_start, len(result))\n"
     ]
    }
   ],
   "metadata": {
    "colab": {
     "base_uri": "https://localhost:8080/",
     "height": 289
    },
    "colab_type": "code",
    "id": "uJ94y_xpxRKa",
    "outputId": "da21b552-4e7a-43a2-dbd1-7bd11bf8de09"
   }
  },
  {
   "cell_type": "markdown",
   "source": [
    "Estos resultados son bastante probres como podemos ver. Intentemos buscar un poco de intuición en cuales son valores interesantes para un modelo de clasificación de este tipo utilizando Hyper-parameter tunning."
   ],
   "metadata": {}
  },
  {
   "cell_type": "markdown",
   "source": [
    "## Hyper-parameter tunning"
   ],
   "metadata": {
    "colab": {},
    "colab_type": "code",
    "id": "ZgIB7iwJx-uP"
   }
  },
  {
   "cell_type": "markdown",
   "source": [
    "Una forma más práctica de ver como nuestro modelo se comporta ante diferentes valores de los parametros es utilizando Hyper-parameter tunning. Este proceso busca configuraciones de parametros de los diferentes de nuestro modelo con el objetivo de mejorar una métrica que debemos especificar a optimizar en el proceso. Existen varias técnicas para optimización de parametros, desde técnicas sencillas como una busqueda exhaustiva donde se prueban todas las combinaciones, hasta búsquedas más avanzadas como Bayesian Optimization donde cada combinación de parametros que se prueba informa al proceso de generación sobre cuales son las direcciones a explorar en el espacio que son mas probables de tener buenos resultados."
   ],
   "metadata": {}
  },
  {
   "cell_type": "markdown",
   "source": [
    "### Random Search"
   ],
   "metadata": {}
  },
  {
   "cell_type": "markdown",
   "source": [
    "En nuestro caso, utilizaremos una técnica relativamente sencilla llamada Random Search, o busqueda aleatoria. Consiste básicamente en muestrear diferentes valores de una distribución de parametros para así generar la siguiente configuración de parametros. A continuación definimos los espacios de busqueda para los paramteros:\n",
    " - n_components en LDA\n",
    " - n_estimators en nuestro GBT\n",
    " - learning_rate en nuestro GBT\n",
    " - max_depth en nuestro GBT\n",
    " \n",
    "Noten como se especifican los parametros a optimizar y los rangos a incluir:"
   ],
   "metadata": {}
  },
  {
   "cell_type": "code",
   "execution_count": 11,
   "source": [
    "from sklearn.utils.fixes import loguniform\n",
    "\n",
    "param_grid = {\n",
    "    'featurizer__n_components': [10, 20, 30, 50, 100],\n",
    "    'estimator__n_estimators' : [128, 512, 1024, 2048],\n",
    "    'estimator__learning_rate':loguniform(1e-4, 1e-1),\n",
    "    'estimator__max_depth':[2,4,8]\n",
    "}"
   ],
   "outputs": [],
   "metadata": {}
  },
  {
   "cell_type": "markdown",
   "source": [
    "Luego, definimos cual es la métrica que queremos optimizar. En nuestro caso, al ser un problema de clasificación de multiples clases, una métrica interesante es el Average Precision (Weithed) lo cual es un promedio ponderado de las diferentes precisiones de cada clase. Podríamos estár tentados a utilizar accuracy, pero en esta configuración del problema no nos sería muy util."
   ],
   "metadata": {}
  },
  {
   "cell_type": "code",
   "execution_count": 12,
   "source": [
    "from sklearn.model_selection import GridSearchCV, RandomizedSearchCV\n",
    "\n",
    "scorer = sklearn.metrics.make_scorer(sklearn.metrics.precision_score, average = 'weighted')\n",
    "tuning = RandomizedSearchCV(estimator = pipeline,\n",
    "                            param_distributions = param_grid, \n",
    "                            scoring=scorer,\n",
    "                            n_iter=10,\n",
    "                            n_jobs=4,\n",
    "                            cv=5)"
   ],
   "outputs": [],
   "metadata": {}
  },
  {
   "cell_type": "markdown",
   "source": [
    "En la configuración anterior generaremos 10 sets de parametros que se generaran a partir de muestras del espacio de búsqueda que indicamos. Para generar las métricas estamos especificando Cross Validation."
   ],
   "metadata": {}
  },
  {
   "cell_type": "markdown",
   "source": [
    "*Nota: La siguiente celda puede tardar bastante tiempo en ejecutarse. Colab podría abortar la sesión antes que termine*"
   ],
   "metadata": {}
  },
  {
   "cell_type": "code",
   "execution_count": 13,
   "source": [
    "tuning.fit(X=X_train, y=y_train)"
   ],
   "outputs": [
    {
     "output_type": "execute_result",
     "data": {
      "text/plain": [
       "RandomizedSearchCV(cv=5,\n",
       "                   estimator=Pipeline(steps=[('normalizer', TextNormalizer()),\n",
       "                                             ('vectorizer',\n",
       "                                              TfidfVectorizer(sublinear_tf=True)),\n",
       "                                             ('featurizer',\n",
       "                                              LatentDirichletAllocation(n_components=7)),\n",
       "                                             ('estimator',\n",
       "                                              GradientBoostingClassifier(learning_rate=0.01,\n",
       "                                                                         max_depth=4,\n",
       "                                                                         min_samples_leaf=7,\n",
       "                                                                         min_samples_split=40,\n",
       "                                                                         n_estimators=1500,\n",
       "                                                                         random_state=1234,\n",
       "                                                                         subsample=1))]),\n",
       "                   n_jobs=4,\n",
       "                   param_distributions={'estimator__learning_rate': <scipy.stats._distn_infrastructure.rv_frozen object at 0x7f4106c8dba8>,\n",
       "                                        'estimator__max_depth': [2, 4, 8],\n",
       "                                        'estimator__n_estimators': [128, 512,\n",
       "                                                                    1024,\n",
       "                                                                    2048],\n",
       "                                        'featurizer__n_components': [10, 20, 30,\n",
       "                                                                     50, 100]},\n",
       "                   scoring=make_scorer(precision_score, average=weighted))"
      ]
     },
     "metadata": {},
     "execution_count": 13
    }
   ],
   "metadata": {}
  },
  {
   "cell_type": "markdown",
   "source": [
    "### Evaluación de los resultados"
   ],
   "metadata": {}
  },
  {
   "cell_type": "markdown",
   "source": [
    "Podemos revisar los resultados de la búsqueda construyendo un DataFrame con los resultados de la siguiente forma:"
   ],
   "metadata": {}
  },
  {
   "cell_type": "code",
   "execution_count": 29,
   "source": [
    "data = pd.DataFrame(data=tuning.cv_results_['params'])\n",
    "data['mean_test_score'] = tuning.cv_results_['mean_test_score']"
   ],
   "outputs": [],
   "metadata": {}
  },
  {
   "cell_type": "markdown",
   "source": [
    "Agrupamos y ordenamos los resultados para una visualización más sencilla:"
   ],
   "metadata": {}
  },
  {
   "cell_type": "code",
   "execution_count": 58,
   "source": [
    "grouped = data.groupby('featurizer__n_components').apply(lambda x:x.sort_values(by='mean_test_score'))"
   ],
   "outputs": [],
   "metadata": {}
  },
  {
   "cell_type": "code",
   "execution_count": 59,
   "source": [
    "grouped.head(10)"
   ],
   "outputs": [
    {
     "output_type": "execute_result",
     "data": {
      "text/html": [
       "<div>\n",
       "<style scoped>\n",
       "    .dataframe tbody tr th:only-of-type {\n",
       "        vertical-align: middle;\n",
       "    }\n",
       "\n",
       "    .dataframe tbody tr th {\n",
       "        vertical-align: top;\n",
       "    }\n",
       "\n",
       "    .dataframe thead th {\n",
       "        text-align: right;\n",
       "    }\n",
       "</style>\n",
       "<table border=\"1\" class=\"dataframe\">\n",
       "  <thead>\n",
       "    <tr style=\"text-align: right;\">\n",
       "      <th></th>\n",
       "      <th></th>\n",
       "      <th>estimator__learning_rate</th>\n",
       "      <th>estimator__max_depth</th>\n",
       "      <th>estimator__n_estimators</th>\n",
       "      <th>featurizer__n_components</th>\n",
       "      <th>mean_test_score</th>\n",
       "    </tr>\n",
       "    <tr>\n",
       "      <th>featurizer__n_components</th>\n",
       "      <th></th>\n",
       "      <th></th>\n",
       "      <th></th>\n",
       "      <th></th>\n",
       "      <th></th>\n",
       "      <th></th>\n",
       "    </tr>\n",
       "  </thead>\n",
       "  <tbody>\n",
       "    <tr>\n",
       "      <th rowspan=\"3\" valign=\"top\">10</th>\n",
       "      <th>8</th>\n",
       "      <td>0.000165</td>\n",
       "      <td>2</td>\n",
       "      <td>512</td>\n",
       "      <td>10</td>\n",
       "      <td>0.172604</td>\n",
       "    </tr>\n",
       "    <tr>\n",
       "      <th>6</th>\n",
       "      <td>0.003880</td>\n",
       "      <td>8</td>\n",
       "      <td>1024</td>\n",
       "      <td>10</td>\n",
       "      <td>0.333639</td>\n",
       "    </tr>\n",
       "    <tr>\n",
       "      <th>5</th>\n",
       "      <td>0.000112</td>\n",
       "      <td>8</td>\n",
       "      <td>2048</td>\n",
       "      <td>10</td>\n",
       "      <td>0.341656</td>\n",
       "    </tr>\n",
       "    <tr>\n",
       "      <th rowspan=\"6\" valign=\"top\">30</th>\n",
       "      <th>4</th>\n",
       "      <td>0.000301</td>\n",
       "      <td>2</td>\n",
       "      <td>1024</td>\n",
       "      <td>30</td>\n",
       "      <td>0.358786</td>\n",
       "    </tr>\n",
       "    <tr>\n",
       "      <th>7</th>\n",
       "      <td>0.010742</td>\n",
       "      <td>4</td>\n",
       "      <td>128</td>\n",
       "      <td>30</td>\n",
       "      <td>0.371221</td>\n",
       "    </tr>\n",
       "    <tr>\n",
       "      <th>9</th>\n",
       "      <td>0.003124</td>\n",
       "      <td>4</td>\n",
       "      <td>512</td>\n",
       "      <td>30</td>\n",
       "      <td>0.375723</td>\n",
       "    </tr>\n",
       "    <tr>\n",
       "      <th>1</th>\n",
       "      <td>0.034349</td>\n",
       "      <td>2</td>\n",
       "      <td>1024</td>\n",
       "      <td>30</td>\n",
       "      <td>0.381000</td>\n",
       "    </tr>\n",
       "    <tr>\n",
       "      <th>0</th>\n",
       "      <td>0.000571</td>\n",
       "      <td>8</td>\n",
       "      <td>2048</td>\n",
       "      <td>30</td>\n",
       "      <td>0.385264</td>\n",
       "    </tr>\n",
       "    <tr>\n",
       "      <th>3</th>\n",
       "      <td>0.003226</td>\n",
       "      <td>4</td>\n",
       "      <td>2048</td>\n",
       "      <td>30</td>\n",
       "      <td>0.389510</td>\n",
       "    </tr>\n",
       "    <tr>\n",
       "      <th>100</th>\n",
       "      <th>2</th>\n",
       "      <td>0.023705</td>\n",
       "      <td>4</td>\n",
       "      <td>128</td>\n",
       "      <td>100</td>\n",
       "      <td>0.548903</td>\n",
       "    </tr>\n",
       "  </tbody>\n",
       "</table>\n",
       "</div>"
      ],
      "text/plain": [
       "                            estimator__learning_rate  estimator__max_depth  \\\n",
       "featurizer__n_components                                                     \n",
       "10                       8                  0.000165                     2   \n",
       "                         6                  0.003880                     8   \n",
       "                         5                  0.000112                     8   \n",
       "30                       4                  0.000301                     2   \n",
       "                         7                  0.010742                     4   \n",
       "                         9                  0.003124                     4   \n",
       "                         1                  0.034349                     2   \n",
       "                         0                  0.000571                     8   \n",
       "                         3                  0.003226                     4   \n",
       "100                      2                  0.023705                     4   \n",
       "\n",
       "                            estimator__n_estimators  featurizer__n_components  \\\n",
       "featurizer__n_components                                                        \n",
       "10                       8                      512                        10   \n",
       "                         6                     1024                        10   \n",
       "                         5                     2048                        10   \n",
       "30                       4                     1024                        30   \n",
       "                         7                      128                        30   \n",
       "                         9                      512                        30   \n",
       "                         1                     1024                        30   \n",
       "                         0                     2048                        30   \n",
       "                         3                     2048                        30   \n",
       "100                      2                      128                       100   \n",
       "\n",
       "                            mean_test_score  \n",
       "featurizer__n_components                     \n",
       "10                       8         0.172604  \n",
       "                         6         0.333639  \n",
       "                         5         0.341656  \n",
       "30                       4         0.358786  \n",
       "                         7         0.371221  \n",
       "                         9         0.375723  \n",
       "                         1         0.381000  \n",
       "                         0         0.385264  \n",
       "                         3         0.389510  \n",
       "100                      2         0.548903  "
      ]
     },
     "metadata": {},
     "execution_count": 59
    }
   ],
   "metadata": {}
  },
  {
   "cell_type": "markdown",
   "source": [
    "### Mejor clasificador"
   ],
   "metadata": {}
  },
  {
   "cell_type": "markdown",
   "source": [
    "Obteniendo el mejor clasificador de la búsqueda que hicimos. El mismo corresponde a un GBT con:\n",
    " - learning_rate = 0.023705\n",
    " - max_depth = 4\n",
    " - n_estimators = 128\n",
    "\n",
    "Nuestro generador de topicos es LDA con k = 100"
   ],
   "metadata": {}
  },
  {
   "cell_type": "code",
   "execution_count": 60,
   "source": [
    "best_pipeline = tuning.best_estimator_"
   ],
   "outputs": [],
   "metadata": {}
  },
  {
   "cell_type": "markdown",
   "source": [
    "Probamos el mismo con datos que nunca fueron vistos por el proceso de parameter tunning:"
   ],
   "metadata": {}
  },
  {
   "cell_type": "code",
   "execution_count": 62,
   "source": [
    "predictions = best_pipeline.predict(X_test)"
   ],
   "outputs": [],
   "metadata": {}
  },
  {
   "cell_type": "code",
   "execution_count": 63,
   "source": [
    "from sklearn.metrics import classification_report\n",
    "\n",
    "print(classification_report(y_test, predictions))"
   ],
   "outputs": [
    {
     "output_type": "stream",
     "name": "stdout",
     "text": [
      "              precision    recall  f1-score   support\n",
      "\n",
      "ALIMENTACION       0.50      0.51      0.51       110\n",
      "  AUTOMOCION       0.60      0.44      0.51       148\n",
      "       BANCA       0.60      0.34      0.43       198\n",
      "     BEBIDAS       0.55      0.74      0.63       223\n",
      "    DEPORTES       0.59      0.53      0.56       216\n",
      "      RETAIL       0.40      0.61      0.48       268\n",
      "       TELCO       0.83      0.13      0.22        79\n",
      "\n",
      "    accuracy                           0.52      1242\n",
      "   macro avg       0.58      0.47      0.48      1242\n",
      "weighted avg       0.55      0.52      0.50      1242\n",
      "\n"
     ]
    }
   ],
   "metadata": {}
  },
  {
   "cell_type": "code",
   "execution_count": null,
   "source": [],
   "outputs": [],
   "metadata": {}
  }
 ],
 "metadata": {
  "colab": {
   "name": "Topic Modeling - Actividad.ipynb",
   "provenance": []
  },
  "kernelspec": {
   "display_name": "NLP (nlp-py37)",
   "language": "python",
   "name": "nlp-py37"
  },
  "language_info": {
   "codemirror_mode": {
    "name": "ipython",
    "version": 3
   },
   "file_extension": ".py",
   "mimetype": "text/x-python",
   "name": "python",
   "nbconvert_exporter": "python",
   "pygments_lexer": "ipython3",
   "version": "3.6.10"
  }
 },
 "nbformat": 4,
 "nbformat_minor": 4
}