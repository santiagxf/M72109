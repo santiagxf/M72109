{
  "nbformat": 4,
  "nbformat_minor": 0,
  "metadata": {
    "colab": {
      "name": "BERT.ipynb",
      "provenance": [],
      "toc_visible": true
    },
    "kernelspec": {
      "display_name": "NLP (Python 3.8)",
      "language": "python",
      "name": "nlp-py38"
    },
    "language_info": {
      "codemirror_mode": {
        "name": "ipython",
        "version": 3
      },
      "file_extension": ".py",
      "mimetype": "text/x-python",
      "name": "python",
      "nbconvert_exporter": "python",
      "pygments_lexer": "ipython3",
      "version": "3.8.5"
    }
  },
  "cells": [
    {
      "cell_type": "markdown",
      "metadata": {
        "id": "z_vGE40bsItw"
      },
      "source": [
        "```\n",
        "ME72: Maestría en Métodos Cuantitativos para la Gestión y Análisis de Datos\n",
        "M72109: Analisis de datos no estructurados\n",
        "Universidad de Buenos Aires - Facultad de Ciencias Economicas (UBA-FCE)\n",
        "Año: 2020\n",
        "Profesor: Facundo Santiago, Javier Ignacio Garcia Fronti\n",
        "```"
      ]
    },
    {
      "cell_type": "markdown",
      "metadata": {
        "id": "HpgOtduwsIty"
      },
      "source": [
        "\n",
        "# BERT: Bidirectional Encoder Representations from Transformers"
      ]
    },
    {
      "cell_type": "code",
      "metadata": {
        "id": "IRUGZTNKsIt0"
      },
      "source": [
        "import warnings\n",
        "warnings.filterwarnings('ignore')"
      ],
      "execution_count": null,
      "outputs": []
    },
    {
      "cell_type": "markdown",
      "metadata": {
        "id": "UZdQNM1tsIt5"
      },
      "source": [
        "## Preparación del ambiente"
      ]
    },
    {
      "cell_type": "markdown",
      "metadata": {
        "id": "lO9em7Y2sIt-"
      },
      "source": [
        "Descargamos el set de datos"
      ]
    },
    {
      "cell_type": "code",
      "metadata": {
        "id": "wHCPscbAsIt_"
      },
      "source": [
        "!wget -N https://raw.githubusercontent.com/santiagxf/M72109/master/NLP/Datasets/mascorpus/tweets_marketing.csv --directory-prefix ./Datasets/mascorpus/"
      ],
      "execution_count": null,
      "outputs": []
    },
    {
      "cell_type": "markdown",
      "metadata": {
        "id": "kfQ4npiDsIuB"
      },
      "source": [
        "Instalamos las librerias necesarias"
      ]
    },
    {
      "cell_type": "code",
      "metadata": {
        "id": "5QUa0ShXsIuC"
      },
      "source": [
        "!pip install transformers"
      ],
      "execution_count": null,
      "outputs": []
    },
    {
      "cell_type": "markdown",
      "metadata": {
        "id": "2_MyPnWnsIuE"
      },
      "source": [
        "Cargamos el set de datos"
      ]
    },
    {
      "cell_type": "code",
      "metadata": {
        "id": "Ea7nrbRfsIuF"
      },
      "source": [
        "import pandas as pd\n",
        "\n",
        "tweets = pd.read_csv('Datasets/mascorpus/tweets_marketing.csv')"
      ],
      "execution_count": null,
      "outputs": []
    },
    {
      "cell_type": "markdown",
      "metadata": {
        "id": "2NiLe-b1sIuL"
      },
      "source": [
        "## Introducción a BERT"
      ]
    },
    {
      "cell_type": "markdown",
      "metadata": {
        "id": "grRab5KjsIuN"
      },
      "source": [
        "word2vec es un modelo de tipo \"context-free\", lo que significa que cada palabra recibe un único vector que la representa. Esto implica que por ejemplo la palabra \"banco\" recibirá la misma representación en las oraciones *Los domingos no abre el banco* y *Estabamos tan cansados que nos sentamos en un banco*.\n",
        "\n",
        "BERT, sin embargo, es un modelo contextual, lo que significa que la representación que se genera de una palabra depende del contexto en el que aparece."
      ]
    },
    {
      "cell_type": "markdown",
      "metadata": {
        "id": "pwKjjVLXsIuO"
      },
      "source": [
        "### Como funciona"
      ]
    },
    {
      "cell_type": "markdown",
      "metadata": {
        "id": "Z3zWLYU0sIuP"
      },
      "source": [
        "Si recordamos de cuando introducimos word2vec, vimos que las representaciones de las palabras se obtenian al entrenar una red neuronal en una tarea \"falsa\" que era predecir una palabra dado el contexto en el que aparece. Este contexto lo especificabamos como una ventana de palabras. Los modelos basados en lenguaje, llevan esta tarea un paso más adelante y tratan de predecir la siguiente palabra dada una secuencia de tokens.\n",
        "\n",
        "En el caso de BERT, está pre-entrenado utilizando 2 tareas distintas:\n",
        " - **Masked LM:** BERT está basado en una técnica llamada Masked LM (MLM) la cual, en lugar de intentar predecir la siguiente palabra dada una secuencia de palabras, aleatoriamente enmascara palabras en la oración para luego intentar predecirlas desde el contexto. Para hacerlo utiliza el contexto completo de la oración, tanto hacia adelante como hacía atras (por esto se llama bidireccional). En practica, BERT enmascara aproximadamente el 15% de los tokens en una secuencia.\n",
        " - **NSP (Next Sentence Prediction):** Muchas tareas en NLP requieren el entendimiento de las relaciones entre varias oraciones o secuencias. BERT captura estas relaciones al estar entrenado para predecir la siguiente oración en el cuerpo. En realidad BERT utiliza 50% del tiempo efectivamente la siguiente oración para la tarea de NSP y la taguea con el token IsNext, mientras que el otro 50% utiliza una oración aleatoria del texto y la taguea con el token NoNext."
      ]
    },
    {
      "cell_type": "markdown",
      "metadata": {
        "id": "ailv1y8usIuQ"
      },
      "source": [
        "## Explorando un modelo pre-entrenado con BERT"
      ]
    },
    {
      "cell_type": "markdown",
      "metadata": {
        "id": "mAWVIpOasIuR"
      },
      "source": [
        "Una de las formas más sencillas de trabajar con el modelo BERT es utilizando la libreria transformers de Hugging Face [https://huggingface.co/] la cual ofrece una forma muy conveniente de acceder a modelos de NLP en diferentes lenguajes e incluso entrenados para tareas especificas."
      ]
    },
    {
      "cell_type": "markdown",
      "metadata": {
        "id": "-G9VhuAosIuS"
      },
      "source": [
        "Podemos instalar esta libreria desde pip de la siguiente forma. Este paso ya lo realizamos en la sección de instalación de este notebook\n",
        "\n",
        "```\n",
        "pip install transformers\n",
        "```"
      ]
    },
    {
      "cell_type": "markdown",
      "metadata": {
        "id": "XxeO0eUSsIuT"
      },
      "source": [
        "### BETO: BERT en español"
      ]
    },
    {
      "cell_type": "markdown",
      "metadata": {
        "id": "DdLkgbBPsIuU"
      },
      "source": [
        "Al igual que con word2vec, entrenar un modelo de lenguaje requiere de una gran cantidad de datos sumado a un poder de computo interesante (cuando BERT fué publicado en 2018, tomó 4 días entrenar el modelo usando 16 TPUs. Si se hubiera entrenado en 8 GPUs hubiera tomado entre 40–70 días).Por este motivo, utilizaremos un modelo pre-entrenado para un cuerpo de texto en español. Este modelo, BETO, fué entrenado sobre un gran corpora de texto. Pueden encontrar más información sobre el autor de este modelo en: https://github.com/dccuchile/beto "
      ]
    },
    {
      "cell_type": "markdown",
      "metadata": {
        "id": "hTDeAPaysIuV"
      },
      "source": [
        "### Tokenizers "
      ]
    },
    {
      "cell_type": "markdown",
      "metadata": {
        "id": "fTn2Z7gssIuW"
      },
      "source": [
        "BERT utiliza su propio tokenizer que está basado en WordPiece. Este tokenizer tiene un vocabulario de 30.000 tokens donde cada secuencia comienza con un token especial [CLS]. Exploremos como funciona este tokenizer"
      ]
    },
    {
      "cell_type": "code",
      "metadata": {
        "id": "yxWFx0HosIuY",
        "outputId": "89f7cedc-5180-4149-f5a3-d9c47ce4c137"
      },
      "source": [
        "import transformers\n",
        "\n",
        "tokenizer = transformers.BertTokenizerFast.from_pretrained('dccuchile/bert-base-spanish-wwm-uncased', do_lower_case=True)"
      ],
      "execution_count": null,
      "outputs": [
        {
          "output_type": "display_data",
          "data": {
            "application/vnd.jupyter.widget-view+json": {
              "model_id": "25788ee67c514f6cb39a37b7ee7c6fb4",
              "version_major": 2,
              "version_minor": 0
            },
            "text/plain": [
              "HBox(children=(HTML(value='Downloading'), FloatProgress(value=0.0, max=248047.0), HTML(value='')))"
            ]
          },
          "metadata": {
            "tags": []
          }
        },
        {
          "output_type": "stream",
          "text": [
            "\n"
          ],
          "name": "stdout"
        },
        {
          "output_type": "display_data",
          "data": {
            "application/vnd.jupyter.widget-view+json": {
              "model_id": "7ea7142052d945e19197bb75ee52f898",
              "version_major": 2,
              "version_minor": 0
            },
            "text/plain": [
              "HBox(children=(HTML(value='Downloading'), FloatProgress(value=0.0, max=2.0), HTML(value='')))"
            ]
          },
          "metadata": {
            "tags": []
          }
        },
        {
          "output_type": "stream",
          "text": [
            "\n"
          ],
          "name": "stdout"
        },
        {
          "output_type": "display_data",
          "data": {
            "application/vnd.jupyter.widget-view+json": {
              "model_id": "7610416b66894a3b949a410b056b235c",
              "version_major": 2,
              "version_minor": 0
            },
            "text/plain": [
              "HBox(children=(HTML(value='Downloading'), FloatProgress(value=0.0, max=112.0), HTML(value='')))"
            ]
          },
          "metadata": {
            "tags": []
          }
        },
        {
          "output_type": "stream",
          "text": [
            "\n"
          ],
          "name": "stdout"
        },
        {
          "output_type": "display_data",
          "data": {
            "application/vnd.jupyter.widget-view+json": {
              "model_id": "1bec2e62256f402e9e6e124ee5c54a6f",
              "version_major": 2,
              "version_minor": 0
            },
            "text/plain": [
              "HBox(children=(HTML(value='Downloading'), FloatProgress(value=0.0, max=42.0), HTML(value='')))"
            ]
          },
          "metadata": {
            "tags": []
          }
        },
        {
          "output_type": "stream",
          "text": [
            "\n"
          ],
          "name": "stdout"
        }
      ]
    },
    {
      "cell_type": "markdown",
      "metadata": {
        "id": "GIscXqOpsIue"
      },
      "source": [
        "*Noten que el tokenizer depende del modelo que estamos utilizando*"
      ]
    },
    {
      "cell_type": "markdown",
      "metadata": {
        "id": "afpvu4chsIuf"
      },
      "source": [
        "Exploremos los tokens que genera:"
      ]
    },
    {
      "cell_type": "code",
      "metadata": {
        "id": "F9iDb340sIug"
      },
      "source": [
        "text = tweets['TEXTO'][5]"
      ],
      "execution_count": null,
      "outputs": []
    },
    {
      "cell_type": "code",
      "metadata": {
        "id": "HmN6b_tJsIun"
      },
      "source": [
        ""
      ],
      "execution_count": null,
      "outputs": []
    },
    {
      "cell_type": "code",
      "metadata": {
        "id": "NLG_OhQDsIup"
      },
      "source": [
        "tokens = tokenizer.encode(text)"
      ],
      "execution_count": null,
      "outputs": []
    },
    {
      "cell_type": "code",
      "metadata": {
        "id": "WGPYvhKAsIut"
      },
      "source": [
        ""
      ],
      "execution_count": null,
      "outputs": []
    },
    {
      "cell_type": "markdown",
      "metadata": {
        "id": "wH2F4qrHsIuz"
      },
      "source": [
        "¿Notan algo raro en los tokens generados?"
      ]
    },
    {
      "cell_type": "code",
      "metadata": {
        "id": "OuQwdQk5sIu1"
      },
      "source": [
        "tokenizer.decode(tokens)"
      ],
      "execution_count": null,
      "outputs": []
    },
    {
      "cell_type": "markdown",
      "metadata": {
        "id": "QQwFFhsXsIu3"
      },
      "source": [
        "¿Siguen notando algo raro?"
      ]
    },
    {
      "cell_type": "code",
      "metadata": {
        "id": "-TruYQtvsIu3"
      },
      "source": [
        "[tokenizer.convert_ids_to_tokens(idx) for idx in tokens]"
      ],
      "execution_count": null,
      "outputs": []
    },
    {
      "cell_type": "markdown",
      "metadata": {
        "id": "i8W01ColsIu6"
      },
      "source": [
        "### Cargando nuestro modelo de BERT para español"
      ]
    },
    {
      "cell_type": "markdown",
      "metadata": {
        "id": "xifxnZc5sIu6"
      },
      "source": [
        "Para cargar nuestro modelo, utilizaremos la libreria transformers nuevamente, utilizando el método from_pretrained. Este método descargará automaticamente el modelo desde el directorio de modelos de HuggingFace. Pueden ver el listado de modelos que están disponibles en este directorio en [https://huggingface.co/models]"
      ]
    },
    {
      "cell_type": "code",
      "metadata": {
        "id": "QUKFFSmAsIu7"
      },
      "source": [
        "model = transformers.BertForMaskedLM.from_pretrained('dccuchile/bert-base-spanish-wwm-uncased', return_dict=True)"
      ],
      "execution_count": null,
      "outputs": []
    },
    {
      "cell_type": "markdown",
      "metadata": {
        "id": "B89_STF8L4KW"
      },
      "source": [
        "<i>El parámetro return_dict=True hará que el modelo retorne un diccionario con los resultados en lugar de un tupla. Esto solo hará que sea más sencillo interpretar los resultados.</i>"
      ]
    },
    {
      "cell_type": "markdown",
      "metadata": {
        "id": "B-gb7c9KsIu-"
      },
      "source": [
        "Veamos como se comporta nuestro modelo en la tarea de predecir una palabra de un texto:"
      ]
    },
    {
      "cell_type": "code",
      "metadata": {
        "id": "P8Vgq8GesIvB"
      },
      "source": [
        "text = \"[CLS] Cuando [MASK] contaron lo que sucedia nos quedamos helados. [SEP]\"\n",
        "tokens = tokenizer.tokenize(text)"
      ],
      "execution_count": null,
      "outputs": []
    },
    {
      "cell_type": "markdown",
      "metadata": {
        "id": "4MOk8vhpsIvD"
      },
      "source": [
        "Noten que el token [MASK] es la palabra que estamos intentando predecir"
      ]
    },
    {
      "cell_type": "markdown",
      "metadata": {
        "id": "ZuxmDIWbsIvD"
      },
      "source": [
        "Necesitamos saber cual de todos los tokens que generamos es exactamente el que enmascaramos:"
      ]
    },
    {
      "cell_type": "code",
      "metadata": {
        "id": "4vXP0940sIvE"
      },
      "source": [
        "masked_indxs = [idx for idx in range(0, len(tokens)) if tokens[idx] == '[MASK]']"
      ],
      "execution_count": null,
      "outputs": []
    },
    {
      "cell_type": "markdown",
      "metadata": {
        "id": "jW9CXBpssIvG"
      },
      "source": [
        "Corremos nuestro modelo:"
      ]
    },
    {
      "cell_type": "code",
      "metadata": {
        "id": "xlBcKmvgsIvG"
      },
      "source": [
        "import torch\n",
        "\n",
        "indexed_tokens = tokenizer.convert_tokens_to_ids(tokens)\n",
        "tokens_tensor = torch.tensor([indexed_tokens])\n",
        "\n",
        "predictions = model(tokens_tensor).logits"
      ],
      "execution_count": null,
      "outputs": []
    },
    {
      "cell_type": "markdown",
      "metadata": {
        "id": "pFsrPE0nL4KY"
      },
      "source": [
        "<i>**Nota:** Ejecutar el modelo sobre nuestro texto devolverá diferente cantidad de objetos dependiendo de como se configuró la carga del modelo en el método `from_pretrained`. En nuestro caso, hemos especificado `return_dic=True` y por lo tanto la salida del médoto es un diccionario con los resultados (si no lo hubieramos especificado hubiera retornado una tupla). Dentro de lo que nos interesa a nosotros está:</i>\n",
        " - <i>**logits:** Retorna la secuencia de hidden-states en la última capa del modelo. Esto tiene tamaño (batch_size, sequence_length, hidden_size).</i>\n",
        " - <i>**hidden_states:** Retorna los hidden-states de todas las capas del modelo. 12 en el caso de BERT. Esta información solo se retorna cuando se indica `output_hidden_states=True`</i>\n",
        "\n",
        "<i>Para más información sobre que objetos se retornan de la ejecución del modelo pueden ver la documentación del modelo BERT: https://huggingface.co/transformers/model_doc/bert.html#bertmodel</i>"
      ]
    },
    {
      "cell_type": "markdown",
      "metadata": {
        "id": "RaHu-uY5sIvI"
      },
      "source": [
        "Verificamos cuales son las palabras más probables:"
      ]
    },
    {
      "cell_type": "code",
      "metadata": {
        "id": "P2q1fyi2sIvI",
        "outputId": "19ad0e60-0e35-46f1-f7e5-ca5d5813b206"
      },
      "source": [
        "for i,midx in enumerate(masked_indxs):\n",
        "    idxs = torch.argsort(predictions[0,midx], descending=True)\n",
        "    predicted_token = tokenizer.convert_ids_to_tokens(idxs[:5])\n",
        "    print('Las 5 palabras más probables para la mascara',i,'son:',predicted_token)"
      ],
      "execution_count": null,
      "outputs": [
        {
          "output_type": "stream",
          "text": [
            "Las 5 palabras más probables para la mascara 0 son: ['nos', 'me', 'les', 'le', 'supi']\n"
          ],
          "name": "stdout"
        }
      ]
    },
    {
      "cell_type": "code",
      "metadata": {
        "id": "9LKh3A6_sIvL"
      },
      "source": [
        "### Explorando las representaciones de BERT"
      ],
      "execution_count": null,
      "outputs": []
    },
    {
      "cell_type": "markdown",
      "metadata": {
        "id": "kRjPU0JFL4Ka"
      },
      "source": [
        "En esta sección exploraremos las representaciones que genera BERT. Como se mencionó, BERT generá representaciones que son dependientes del contexto, algo que lo diferencia de Word2Vec. Esto implica que por ejemplo la palabra \"banco\" recibirá la misma representación en las oraciones *Los domingos no abre el banco y salimos a caminar. Estabamos tan cansados que nos sentamos en un banco a ver gente pasar*. Veamos si esto es así como mencionamos explorando estas representaciones"
      ]
    },
    {
      "cell_type": "markdown",
      "metadata": {
        "id": "NRYOBTduL4Ka"
      },
      "source": [
        "Para hacer esto, volveremos a cargar el modelo, ahora especificando el parametro `output_hidden_states=True`. Esto hará que el modelo retorne las representaciones de todos los estados intermedios como parte de la salida:"
      ]
    },
    {
      "cell_type": "code",
      "metadata": {
        "id": "2-HshGh9L4Ka"
      },
      "source": [
        "model = transformers.BertForMaskedLM.from_pretrained('dccuchile/bert-base-spanish-wwm-uncased', return_dict=True, output_hidden_states=True)"
      ],
      "execution_count": null,
      "outputs": []
    },
    {
      "cell_type": "code",
      "metadata": {
        "id": "qU4mdM48L4Kb"
      },
      "source": [
        "text = \"Queriamos retirar dinero del banco. Sin embargo, los domingos el banco no está abierto. Estabamos tan cansados que nos sentamos en un banco a ver gente pasar\""
      ],
      "execution_count": null,
      "outputs": []
    },
    {
      "cell_type": "code",
      "metadata": {
        "id": "NgPjhe4mL4Kb"
      },
      "source": [
        "indexed_tokens = tokenizer.encode(text)"
      ],
      "execution_count": null,
      "outputs": []
    },
    {
      "cell_type": "code",
      "metadata": {
        "id": "HIzSsJPSL4Kb"
      },
      "source": [
        "tokens_tensor = torch.tensor([indexed_tokens]) #Al igual que antes, siempre convertimos primero el input en un tensor\n",
        "\n",
        "hidden_states = model(tokens_tensor).hidden_states\n",
        "token_embeddings = torch.stack(hidden_states, dim=0) #hidden_states retorna una lista, transformemos esto en un tensor :)"
      ],
      "execution_count": null,
      "outputs": []
    },
    {
      "cell_type": "markdown",
      "metadata": {
        "id": "T5t2RVKYL4Kc"
      },
      "source": [
        "Veamos las dimensiones de este objeto:"
      ]
    },
    {
      "cell_type": "code",
      "metadata": {
        "id": "G0buxrmEL4Kc",
        "outputId": "fcfa1e34-b4e5-4cce-9376-4594d4fbde12"
      },
      "source": [
        "token_embeddings.shape"
      ],
      "execution_count": null,
      "outputs": [
        {
          "output_type": "execute_result",
          "data": {
            "text/plain": [
              "torch.Size([13, 1, 33, 768])"
            ]
          },
          "metadata": {
            "tags": []
          },
          "execution_count": 80
        }
      ]
    },
    {
      "cell_type": "markdown",
      "metadata": {
        "id": "GOXrKoXeL4Kc"
      },
      "source": [
        "¿Que significan?\n",
        " - 13 es la cantidad de capas dentro del modelo. Si bien BERT posee 12 capas, la capa numero 0 corresponde a los inputs (entradas) del modelo y por eso vemos 13 capas finalmente\n",
        " - 1 es la cantidad de muestra en el lote (ie. batch size)\n",
        " - 33 es la cantidad de tokens que se inputaron al model\n",
        " - 768 es la cantidad de unidades de la red neuronal (units) en cada capa"
      ]
    },
    {
      "cell_type": "markdown",
      "metadata": {
        "id": "o-iaA_rRL4Kc"
      },
      "source": [
        "Como nuestro lote/batch solo contiene una oración, podemos deshacernos de la segunda dimensión de este tensor:"
      ]
    },
    {
      "cell_type": "code",
      "metadata": {
        "id": "I7ALsNs8L4Ke",
        "outputId": "721899bb-f0ab-4c9d-a661-8746e4451a8f"
      },
      "source": [
        "token_embeddings = torch.squeeze(token_embeddings, dim=1)\n",
        "token_embeddings.size()"
      ],
      "execution_count": null,
      "outputs": [
        {
          "output_type": "execute_result",
          "data": {
            "text/plain": [
              "torch.Size([13, 33, 768])"
            ]
          },
          "metadata": {
            "tags": []
          },
          "execution_count": 81
        }
      ]
    },
    {
      "cell_type": "markdown",
      "metadata": {
        "id": "VnR6Ua9RL4Ke"
      },
      "source": [
        "Finalmente, para facilitar el entendimiento de la salida, vamos a cambiar el orden de los valores de este tensor. Recordaran que actualmente tenemos un tensor del tamaño (numero_de_capas, numero_de_tokens, features). Para el análisis que queremos realizar, sería mucho más interesante tener algo del tipo (numero_de_tokens, numero_de_capas, features). De esta forma podriamos revisar todas las representaciones de cada token más facilmente:"
      ]
    },
    {
      "cell_type": "code",
      "metadata": {
        "id": "V0-MINxDL4Kf",
        "outputId": "ddc14387-e8d0-4290-8857-c12fc5d6f8b7"
      },
      "source": [
        "# Cambiamos las dimensiones 0 y 1\n",
        "token_embeddings = token_embeddings.permute(1,0,2)\n",
        "token_embeddings.size()"
      ],
      "execution_count": null,
      "outputs": [
        {
          "output_type": "execute_result",
          "data": {
            "text/plain": [
              "torch.Size([33, 13, 768])"
            ]
          },
          "metadata": {
            "tags": []
          },
          "execution_count": 82
        }
      ]
    },
    {
      "cell_type": "markdown",
      "metadata": {
        "id": "cdwgUHGhL4Kf"
      },
      "source": [
        "#### ¿Entonces cuales son las representaciones?"
      ]
    },
    {
      "cell_type": "markdown",
      "metadata": {
        "id": "sWX7bBkfL4Kf"
      },
      "source": [
        "Las representaciones son tensores del tamaño (12,768). Claramente esto es un gran progreso desde las 100 dimensiones en Word2Vec! Veamos si efectivamente las representaciones de banco son diferentes:"
      ]
    },
    {
      "cell_type": "code",
      "metadata": {
        "id": "w9H77RtRL4Kg"
      },
      "source": [
        "for i, token_str in enumerate(indexed_tokens):\n",
        "  print (i, tokenizer.convert_ids_to_tokens(token_str))"
      ],
      "execution_count": null,
      "outputs": []
    },
    {
      "cell_type": "markdown",
      "metadata": {
        "id": "M_QHvNDDL4Kg"
      },
      "source": [
        "En este ejemplo tenemos la palabra **banco** en las posiciones 6, 14 y 27. De estas posiciones, la palabra **banco** en las posiciones 6 y 14 debería de tener un significado similar, mientra que su versión en la posición 27 debería ser distinta. Para medir esto necesitariamos comparar la similaridad de estas representaciones. Para esto podríamos utilizar una métrica como la Similaridad de coseno (cosine similarity), sin embargo necesitamos contar con un vector unidimensional. Si bien no hay una única forma de resolver este problema, una forma podría ser tomar el promedio de los valores a lo largo de las 13 capas para generar un vector unidimensional por cada token:"
      ]
    },
    {
      "cell_type": "code",
      "metadata": {
        "id": "JbIsstdDL4Kg"
      },
      "source": [
        "sentence_embedding = torch.mean(token_embeddings, dim=1)"
      ],
      "execution_count": null,
      "outputs": []
    },
    {
      "cell_type": "code",
      "metadata": {
        "id": "zyDIGkp7L4Kg",
        "outputId": "a5df6cb9-e1b6-41dc-8e59-42ef2c5ff4a9"
      },
      "source": [
        "sentence_embedding.shape"
      ],
      "execution_count": null,
      "outputs": [
        {
          "output_type": "execute_result",
          "data": {
            "text/plain": [
              "torch.Size([33, 768])"
            ]
          },
          "metadata": {
            "tags": []
          },
          "execution_count": 99
        }
      ]
    },
    {
      "cell_type": "markdown",
      "metadata": {
        "id": "18a8TMEaL4Kh"
      },
      "source": [
        "Computemos ahora las similaridad de las palabras:"
      ]
    },
    {
      "cell_type": "code",
      "metadata": {
        "id": "TdEsjO4NL4Kh"
      },
      "source": [
        "from scipy.spatial.distance import cosine"
      ],
      "execution_count": null,
      "outputs": []
    },
    {
      "cell_type": "markdown",
      "metadata": {
        "id": "C3OScrnPL4Kh"
      },
      "source": [
        "*(...) retirar dinero del **banco**. Sin embargo, los domingos el **banco** no está abierto (...)*"
      ]
    },
    {
      "cell_type": "code",
      "metadata": {
        "id": "gsATQe2bL4Ki",
        "outputId": "46562f58-e75e-43b8-a899-4b89a1813545"
      },
      "source": [
        "1 - cosine(sentence_embedding[6].detach().numpy(), sentence_embedding[14].detach().numpy())"
      ],
      "execution_count": null,
      "outputs": [
        {
          "output_type": "execute_result",
          "data": {
            "text/plain": [
              "0.9034030437469482"
            ]
          },
          "metadata": {
            "tags": []
          },
          "execution_count": 105
        }
      ]
    },
    {
      "cell_type": "markdown",
      "metadata": {
        "id": "xSSjhoH-L4Ki"
      },
      "source": [
        "*(...) retirar dinero del **banco** (...) nos sentamos en un **banco** a (...)*"
      ]
    },
    {
      "cell_type": "code",
      "metadata": {
        "id": "N1RjQ3dGL4Ki",
        "outputId": "a0d02a96-adbf-4a6c-da49-e7d6308b3a05"
      },
      "source": [
        "1 - cosine(sentence_embedding[6].detach().numpy(), sentence_embedding[27].detach().numpy())"
      ],
      "execution_count": null,
      "outputs": [
        {
          "output_type": "execute_result",
          "data": {
            "text/plain": [
              "0.7559054493904114"
            ]
          },
          "metadata": {
            "tags": []
          },
          "execution_count": 96
        }
      ]
    },
    {
      "cell_type": "markdown",
      "metadata": {
        "id": "HJtVHTb_L4Ki"
      },
      "source": [
        "Podemos ver que la similaridad entre cada una de las representaciones es distinta. Tengan en cuenta que este método no es exacto, pero de alguna forma nos da una idea y una intuición de que tan cercanas pueden ser estas representaciones. BERT es un modelo donde las representaciones dependen del contexto y por lo tanto el concepto de \"similaridad\" aquí es distinto e incluso podría carecer un poco de sentido."
      ]
    },
    {
      "cell_type": "markdown",
      "metadata": {
        "id": "r-mvgPCYL4Kj"
      },
      "source": [
        "#### De los autores de BERT"
      ]
    },
    {
      "cell_type": "markdown",
      "metadata": {
        "id": "6aVYMEo4L4Kj"
      },
      "source": [
        "Los autores de BERT proponen una solución un poco distinta, en base a diferentes experimentos que realizaron. Una de las formas que generaron las representaciones con los mejores resultados resultó de concatenar los valores de las últimas 4 capas."
      ]
    },
    {
      "cell_type": "markdown",
      "metadata": {
        "id": "u_DjCRRAL4Kj"
      },
      "source": [
        "<img width=\"600\" src='http://jalammar.github.io/images/bert-feature-extraction-contextualized-embeddings.png' />"
      ]
    },
    {
      "cell_type": "markdown",
      "metadata": {
        "id": "u7ioVIFPL4Kj"
      },
      "source": [
        "Algo interesante que decanta de este ultimo experimento es que claramente cada uno de las diferentes capas dentro de BERT codifican diferentes aspectos de las palabras y que por lo tanto, la estrategia que mejor se adapta para generar estas representaciones más compactas depende mucho de la tarea que se esté realizando. A continuación intentaremos aplicarlo (noten que en las lineas subsiguientes habrá bastante manipulación de las formas de los vectores)"
      ]
    },
    {
      "cell_type": "markdown",
      "metadata": {
        "id": "c1psRWOnL4Kk"
      },
      "source": [
        "Nos quedamos con las ultimas capas de cada token:"
      ]
    },
    {
      "cell_type": "code",
      "metadata": {
        "id": "xAY9qzODL4Kk"
      },
      "source": [
        "slice_ = token_embeddings.narrow(1, 9, 4)"
      ],
      "execution_count": null,
      "outputs": []
    },
    {
      "cell_type": "code",
      "metadata": {
        "id": "WZOyEMAVL4Kk",
        "outputId": "08b76671-1c03-47bb-f494-e3d6899758cf"
      },
      "source": [
        "slice_.shape"
      ],
      "execution_count": null,
      "outputs": [
        {
          "output_type": "execute_result",
          "data": {
            "text/plain": [
              "torch.Size([33, 4, 768])"
            ]
          },
          "metadata": {
            "tags": []
          },
          "execution_count": 114
        }
      ]
    },
    {
      "cell_type": "markdown",
      "metadata": {
        "id": "1w4QnAbtL4Kl"
      },
      "source": [
        "Concatenamos los valores de las últimas 4 capas:"
      ]
    },
    {
      "cell_type": "code",
      "metadata": {
        "id": "LuwGAMRaL4Kl"
      },
      "source": [
        "concatenated_tensor = slice_.reshape(33, 4*768)"
      ],
      "execution_count": null,
      "outputs": []
    },
    {
      "cell_type": "code",
      "metadata": {
        "id": "ORJ0ADfNL4Kl",
        "outputId": "1266aa95-55ad-4964-9c53-089e4f7f7907"
      },
      "source": [
        "concatenated_tensor.shape"
      ],
      "execution_count": null,
      "outputs": [
        {
          "output_type": "execute_result",
          "data": {
            "text/plain": [
              "torch.Size([33, 3072])"
            ]
          },
          "metadata": {
            "tags": []
          },
          "execution_count": 152
        }
      ]
    },
    {
      "cell_type": "markdown",
      "metadata": {
        "id": "SmLW_uEWL4Km"
      },
      "source": [
        "Calculamos la similaridad:"
      ]
    },
    {
      "cell_type": "code",
      "metadata": {
        "id": "RRFN6HXDL4Km",
        "outputId": "f681b7dc-5dfb-45f5-da08-3e4545a634ec"
      },
      "source": [
        "1 - cosine(concatenated_tensor[6].detach().numpy(), concatenated_tensor[14].detach().numpy())"
      ],
      "execution_count": null,
      "outputs": [
        {
          "output_type": "execute_result",
          "data": {
            "text/plain": [
              "0.848562479019165"
            ]
          },
          "metadata": {
            "tags": []
          },
          "execution_count": 153
        }
      ]
    },
    {
      "cell_type": "code",
      "metadata": {
        "id": "tILqG0ktL4Km",
        "outputId": "e6556051-79e2-4fc9-d360-9616d6be15de"
      },
      "source": [
        "1 - cosine(concatenated_tensor[6].detach().numpy(), concatenated_tensor[27].detach().numpy())"
      ],
      "execution_count": null,
      "outputs": [
        {
          "output_type": "execute_result",
          "data": {
            "text/plain": [
              "0.6665388941764832"
            ]
          },
          "metadata": {
            "tags": []
          },
          "execution_count": 154
        }
      ]
    },
    {
      "cell_type": "code",
      "metadata": {
        "id": "a6DI6LBFL4Kn"
      },
      "source": [
        ""
      ],
      "execution_count": null,
      "outputs": []
    }
  ]
}