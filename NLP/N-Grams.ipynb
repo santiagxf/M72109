{
 "cells": [
  {
   "attachments": {},
   "cell_type": "markdown",
   "metadata": {},
   "source": [
    "# Métodos basados en frecuencias\n",
    "\n",
    "También llamados estadísticos, estos métodos explotan estadísticas numéricas con la intención de reflejar que tan importante es una palabra dentro de un documento. \n",
    "Estos modelos fueron populares durante los 80s y 90s.\n",
    "En general, tratan de capturar la occurencia de palabras dentro de todo un corpus.\n",
    "\n",
    "En este notebook veremos algunos análisis básicos que podemos hacer utilizando este concepto:"
   ]
  },
  {
   "cell_type": "code",
   "execution_count": null,
   "metadata": {},
   "outputs": [],
   "source": [
    "import nltk\n",
    "from nltk import bigrams, ngrams\n",
    "from nltk.tokenize.destructive import NLTKWordTokenizer\n",
    "import pandas as pd"
   ]
  },
  {
   "cell_type": "markdown",
   "metadata": {},
   "source": [
    "Definimos un corpus simple, extraido de Wikipedia para la definición de hielo"
   ]
  },
  {
   "cell_type": "code",
   "execution_count": null,
   "metadata": {},
   "outputs": [],
   "source": [
    "corpus = [\"El hielo es agua en estado sólido\",\n",
    "          \"El hielo es uno de los cuatro estados naturales del agua\",\n",
    "          \"El agua pura se congela a 0 grados\",\n",
    "          \"El hielo es el nombre común del agua en estado sólido\"]\n",
    "\n",
    "tokenizer = NLTKWordTokenizer()\n",
    "tokenized = [ tokenizer.tokenize(sentense) for sentense in corpus]"
   ]
  },
  {
   "cell_type": "code",
   "execution_count": null,
   "metadata": {},
   "outputs": [],
   "source": [
    "vocab = set(' '.join(corpus).split())"
   ]
  },
  {
   "cell_type": "markdown",
   "metadata": {},
   "source": [
    "## Co-ocurrencias"
   ]
  },
  {
   "cell_type": "markdown",
   "metadata": {},
   "source": [
    "Construimos la matrix de co-ocurrencia de palabras, donde basicamente tenemos una matriz de n x n, siendo n el tamaño del vocabulario, y asignando como valor a la cantidad de veces que aparece una palabra en el contexto de la otra. En este caso, **el contexto son todas las palabras del documento**"
   ]
  },
  {
   "cell_type": "code",
   "execution_count": null,
   "metadata": {},
   "outputs": [],
   "source": [
    "co_matrix = pd.DataFrame(0, index=vocab, columns=vocab)\n",
    "for doc in tokenized:\n",
    "    for word in doc:\n",
    "        co_matrix.loc[doc, word] += 1"
   ]
  },
  {
   "cell_type": "markdown",
   "metadata": {},
   "source": [
    "Exploramos los resultados"
   ]
  },
  {
   "cell_type": "code",
   "execution_count": null,
   "metadata": {},
   "outputs": [],
   "source": [
    "co_matrix"
   ]
  },
  {
   "cell_type": "markdown",
   "metadata": {},
   "source": [
    "## N-Grams"
   ]
  },
  {
   "cell_type": "markdown",
   "metadata": {},
   "source": [
    "Otra alternativa, es armar la matriz de co-ocurrencia utilizando n-grams, definiendo una ventana de relevancia. En este caso, también tenemos una matriz de n x n, donde n es el tamaño del vocabulario, y donde el valor de cada elemento es la cantidad de veces que aparece cada palabra en cada contexto. **En este caso, el contexto es una ventana de tamaño k, con k <= len(doc)**. En el siguiente caso por ejemplo, utilizamos bigrams, que es un caso de n-grams con k=2"
   ]
  },
  {
   "cell_type": "code",
   "execution_count": null,
   "metadata": {},
   "outputs": [],
   "source": [
    "bi_grams = list(bigrams(' '.join(corpus).split()))\n",
    "bigram_freq = nltk.FreqDist(bi_grams)"
   ]
  },
  {
   "cell_type": "markdown",
   "metadata": {},
   "source": [
    "Construimos la matriz iterando sobre todas las frecuencias de n-grams"
   ]
  },
  {
   "cell_type": "code",
   "execution_count": null,
   "metadata": {},
   "outputs": [],
   "source": [
    "co_matrix = pd.DataFrame()\n",
    "for word_pair, freq in bigram_freq.items():\n",
    "    co_matrix.loc[word_pair[0], word_pair[1]] = freq\n",
    "\n",
    "co_matrix.fillna(0, inplace=True)"
   ]
  },
  {
   "cell_type": "code",
   "execution_count": null,
   "metadata": {},
   "outputs": [],
   "source": [
    "co_matrix"
   ]
  },
  {
   "cell_type": "markdown",
   "metadata": {},
   "source": [
    "### Visualización de la conexión de las palabras\n",
    "Podemos visualizar estos bigrams con la ayuda de un grafo, donde los nodos son las palabras y los vertices indican capabras que aparecen en conjunto:"
   ]
  },
  {
   "cell_type": "code",
   "execution_count": null,
   "metadata": {},
   "outputs": [],
   "source": [
    "import networkx as nx"
   ]
  },
  {
   "cell_type": "code",
   "execution_count": null,
   "metadata": {},
   "outputs": [],
   "source": [
    "G = nx.Graph()\n",
    "for k, v in bigram_freq.items():\n",
    "    G.add_edge(k[0], k[1], weight=(v * 10))"
   ]
  },
  {
   "cell_type": "markdown",
   "metadata": {},
   "source": [
    "Podemos graficar ahora nuesto grafo con una rutina como la siguiente:"
   ]
  },
  {
   "cell_type": "code",
   "execution_count": null,
   "metadata": {},
   "outputs": [],
   "source": [
    "import matplotlib.pyplot as plt\n",
    "\n",
    "fig, ax = plt.subplots(figsize=(10, 8))\n",
    "pos = nx.spring_layout(G, k=2)\n",
    "\n",
    "# Plot networks\n",
    "nx.draw_networkx(G, pos,\n",
    "                 font_size=16,\n",
    "                 width=3,\n",
    "                 edge_color='grey',\n",
    "                 node_color='purple',\n",
    "                 with_labels = False,\n",
    "                 ax=ax)\n",
    "\n",
    "# Create offset labels\n",
    "for key, value in pos.items():\n",
    "    x, y = value[0]+.135, value[1]+.045\n",
    "    ax.text(x, y,\n",
    "            s=key,\n",
    "            bbox=dict(facecolor='red', alpha=0.25),\n",
    "            horizontalalignment='center', fontsize=13)\n",
    "    \n",
    "plt.show()"
   ]
  },
  {
   "cell_type": "code",
   "execution_count": null,
   "metadata": {},
   "outputs": [],
   "source": []
  }
 ],
 "metadata": {
  "kernelspec": {
   "display_name": "NLP (nlp-py37)",
   "language": "python",
   "name": "nlp-py37"
  },
  "language_info": {
   "codemirror_mode": {
    "name": "ipython",
    "version": 3
   },
   "file_extension": ".py",
   "mimetype": "text/x-python",
   "name": "python",
   "nbconvert_exporter": "python",
   "pygments_lexer": "ipython3",
   "version": "3.6.10"
  }
 },
 "nbformat": 4,
 "nbformat_minor": 4
}
