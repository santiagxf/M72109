{
  "nbformat": 4,
  "nbformat_minor": 0,
  "metadata": {
    "kernelspec": {
      "display_name": "NLP (nlp-py37)",
      "language": "python",
      "name": "nlp-py37"
    },
    "language_info": {
      "codemirror_mode": {
        "name": "ipython",
        "version": 3
      },
      "file_extension": ".py",
      "mimetype": "text/x-python",
      "name": "python",
      "nbconvert_exporter": "python",
      "pygments_lexer": "ipython3",
      "version": "3.6.10"
    },
    "colab": {
      "name": "BERT.ipynb",
      "provenance": [],
      "toc_visible": true
    }
  },
  "cells": [
    {
      "cell_type": "markdown",
      "metadata": {
        "id": "z_vGE40bsItw",
        "colab_type": "text"
      },
      "source": [
        "```\n",
        "ME72: Maestría en Métodos Cuantitativos para la Gestión y Análisis de Datos\n",
        "M72109: Analisis de datos no estructurados\n",
        "Universidad de Buenos Aires - Facultad de Ciencias Economicas (UBA-FCE)\n",
        "Año: 2020\n",
        "Profesor: Facundo Santiago\n",
        "```"
      ]
    },
    {
      "cell_type": "markdown",
      "metadata": {
        "id": "HpgOtduwsIty",
        "colab_type": "text"
      },
      "source": [
        "\n",
        "# BERT: Bidirectional Encoder Representations from Transformers"
      ]
    },
    {
      "cell_type": "code",
      "metadata": {
        "id": "IRUGZTNKsIt0",
        "colab_type": "code",
        "colab": {}
      },
      "source": [
        "import warnings\n",
        "warnings.filterwarnings('ignore')"
      ],
      "execution_count": null,
      "outputs": []
    },
    {
      "cell_type": "markdown",
      "metadata": {
        "id": "UZdQNM1tsIt5",
        "colab_type": "text"
      },
      "source": [
        "## Preparación del ambiente"
      ]
    },
    {
      "cell_type": "markdown",
      "metadata": {
        "id": "JbTgXFemsIt6",
        "colab_type": "text"
      },
      "source": [
        "Descarguemos algunos fragmentos de código para simplificar el trabajo"
      ]
    },
    {
      "cell_type": "code",
      "metadata": {
        "id": "R6H2nepHsIt6",
        "colab_type": "code",
        "colab": {}
      },
      "source": [
        "!wget https://raw.githubusercontent.com/santiagxf/M72109/master/NLP/Utils/ClassificationDataset.py --directory-prefix ./Utils/"
      ],
      "execution_count": null,
      "outputs": []
    },
    {
      "cell_type": "markdown",
      "metadata": {
        "id": "lO9em7Y2sIt-",
        "colab_type": "text"
      },
      "source": [
        "Descargamos el set de datos"
      ]
    },
    {
      "cell_type": "code",
      "metadata": {
        "id": "wHCPscbAsIt_",
        "colab_type": "code",
        "colab": {}
      },
      "source": [
        "!wget https://raw.githubusercontent.com/santiagxf/M72109/master/NLP/Datasets/mascorpus/tweets_marketing.csv --directory-prefix ./Datasets/mascorpus/"
      ],
      "execution_count": null,
      "outputs": []
    },
    {
      "cell_type": "markdown",
      "metadata": {
        "id": "kfQ4npiDsIuB",
        "colab_type": "text"
      },
      "source": [
        "Instalamos las librerias necesarias"
      ]
    },
    {
      "cell_type": "code",
      "metadata": {
        "id": "5QUa0ShXsIuC",
        "colab_type": "code",
        "colab": {}
      },
      "source": [
        "!pip install transformers"
      ],
      "execution_count": null,
      "outputs": []
    },
    {
      "cell_type": "markdown",
      "metadata": {
        "id": "2_MyPnWnsIuE",
        "colab_type": "text"
      },
      "source": [
        "Cargamos el set de datos"
      ]
    },
    {
      "cell_type": "code",
      "metadata": {
        "id": "Ea7nrbRfsIuF",
        "colab_type": "code",
        "colab": {}
      },
      "source": [
        "import pandas as pd\n",
        "\n",
        "tweets = pd.read_csv('Datasets/mascorpus/tweets_marketing.csv')"
      ],
      "execution_count": 4,
      "outputs": []
    },
    {
      "cell_type": "code",
      "metadata": {
        "id": "_OcCUN9VsIuH",
        "colab_type": "code",
        "colab": {}
      },
      "source": [
        "from sklearn.model_selection import train_test_split\n",
        "\n",
        "X_train, X_test, y_train, y_test = train_test_split(tweets['TEXTO'], tweets['SECTOR'], \n",
        "                                                    test_size=0.33, \n",
        "                                                    stratify=tweets['SECTOR'])"
      ],
      "execution_count": 5,
      "outputs": []
    },
    {
      "cell_type": "markdown",
      "metadata": {
        "id": "2NiLe-b1sIuL",
        "colab_type": "text"
      },
      "source": [
        "## Introducción a BERT"
      ]
    },
    {
      "cell_type": "markdown",
      "metadata": {
        "id": "grRab5KjsIuN",
        "colab_type": "text"
      },
      "source": [
        "word2vec es un modelo de tipo \"context-free\", lo que significa que cada palabra recibe un único vector que la representa. Esto implica que por ejemplo la palabra \"banco\" recibirá la misma representación en las oraciones *Los domingos no abre el banco* y *Estabamos tan cansados que nos sentamos en un banco*.\n",
        "\n",
        "BERT, sin embargo, es un modelo contextual, lo que significa que la representación que se genera de una palabra depende del contexto en el que aparece."
      ]
    },
    {
      "cell_type": "markdown",
      "metadata": {
        "id": "pwKjjVLXsIuO",
        "colab_type": "text"
      },
      "source": [
        "### Como funciona"
      ]
    },
    {
      "cell_type": "markdown",
      "metadata": {
        "id": "Z3zWLYU0sIuP",
        "colab_type": "text"
      },
      "source": [
        "Si recordamos de cuando introducimos word2vec, vimos que las representaciones de las palabras se obtenian al entrenar una red neuronal en una tarea \"falsa\" que era predecir una palabra dado el contexto en el que aparece. Este contexto lo especificabamos como una ventana de palabras. Los modelos basados en lenguaje, llevan esta tarea un paso más adelante y tratan de predecir la siguiente palabra dada una secuencia de tokens.\n",
        "\n",
        "En el caso de BERT, está pre-entrenado utilizando 2 tareas distintas:\n",
        " - **Masked LM:** BERT está basado en una técnica llamada Masked LM (MLM) la cual, en lugar de intentar predecir la siguiente palabra dada una secuencia de palabras, aleatoriamente enmascara palabras en la oración para luego intentar predecirlas desde el contexto. Para hacerlo utiliza el contexto completo de la oración, tanto hacia adelante como hacía atras (por esto se llama bidireccional). En practica, BERT enmascara aproximadamente el 15% de los tokens en una secuencia.\n",
        " - **NSP (Next Sentence Prediction):** Muchas tareas en NLP requieren el entendimiento de las relaciones entre varias oraciones o secuencias. BERT captura estas relaciones al estar entrenado para predecir la siguiente oración en el cuerpo. En realidad BERT utiliza 50% del tiempo efectivamente la siguiente oración para la tarea de NSP y la taguea con el token IsNext, mientras que el otro 50% utiliza una oración aleatoria del texto y la taguea con el token NoNext."
      ]
    },
    {
      "cell_type": "markdown",
      "metadata": {
        "id": "ailv1y8usIuQ",
        "colab_type": "text"
      },
      "source": [
        "## Explorando un modelo pre-entrenado con BERT"
      ]
    },
    {
      "cell_type": "markdown",
      "metadata": {
        "id": "mAWVIpOasIuR",
        "colab_type": "text"
      },
      "source": [
        "Una de las formas más sencillas de trabajar con el modelo BERT es utilizando la libreria transformers de Hugging Face [https://huggingface.co/] la cual ofrece una forma muy conveniente de acceder a modelos de NLP en diferentes lenguajes e incluso entrenados para tareas especificas."
      ]
    },
    {
      "cell_type": "markdown",
      "metadata": {
        "id": "-G9VhuAosIuS",
        "colab_type": "text"
      },
      "source": [
        "Podemos instalar esta libreria desde pip de la siguiente forma. Este paso ya lo realizamos en la sección de instalación de este notebook\n",
        "\n",
        "```\n",
        "pip install transformers\n",
        "```"
      ]
    },
    {
      "cell_type": "markdown",
      "metadata": {
        "id": "XxeO0eUSsIuT",
        "colab_type": "text"
      },
      "source": [
        "### BETO: BERT en español"
      ]
    },
    {
      "cell_type": "markdown",
      "metadata": {
        "id": "DdLkgbBPsIuU",
        "colab_type": "text"
      },
      "source": [
        "Al igual que con word2vec, entrenar un modelo de lenguaje requiere de una gran cantidad de datos sumado a un poder de computo interesante (cuando BERT fué publicado en 2018, tomó 4 días entrenar el modelo usando 16 TPUs. Si se hubiera entrenado en 8 GPUs hubiera tomado entre 40–70 días).Por este motivo, utilizaremos un modelo pre-entrenado para un cuerpo de texto en español. Este modelo, BETO, fué entrenado sobre un gran corpora de texto. Pueden encontrar más información sobre el autor de este modelo en: https://github.com/dccuchile/beto "
      ]
    },
    {
      "cell_type": "markdown",
      "metadata": {
        "id": "hTDeAPaysIuV",
        "colab_type": "text"
      },
      "source": [
        "### Tokenizers "
      ]
    },
    {
      "cell_type": "markdown",
      "metadata": {
        "id": "fTn2Z7gssIuW",
        "colab_type": "text"
      },
      "source": [
        "BERT utiliza su propio tokenizer que está basado en WordPiece. Este tokenizer tiene un vocabulario de 30.000 tokens donde cada secuencia comienza con un token especial [CLS]. Exploremos como funciona este tokenizer"
      ]
    },
    {
      "cell_type": "code",
      "metadata": {
        "id": "yxWFx0HosIuY",
        "colab_type": "code",
        "colab": {}
      },
      "source": [
        "import transformers\n",
        "\n",
        "tokenizer = transformers.BertTokenizerFast.from_pretrained('dccuchile/bert-base-spanish-wwm-uncased', do_lower_case=True)"
      ],
      "execution_count": null,
      "outputs": []
    },
    {
      "cell_type": "markdown",
      "metadata": {
        "id": "GIscXqOpsIue",
        "colab_type": "text"
      },
      "source": [
        "*Noten que el tokenizer depende del modelo que estamos utilizando*"
      ]
    },
    {
      "cell_type": "markdown",
      "metadata": {
        "id": "afpvu4chsIuf",
        "colab_type": "text"
      },
      "source": [
        "Exploremos los tokens que genera:"
      ]
    },
    {
      "cell_type": "code",
      "metadata": {
        "id": "F9iDb340sIug",
        "colab_type": "code",
        "colab": {}
      },
      "source": [
        "text = tweets['TEXTO'][5]"
      ],
      "execution_count": 7,
      "outputs": []
    },
    {
      "cell_type": "code",
      "metadata": {
        "id": "HmN6b_tJsIun",
        "colab_type": "code",
        "colab": {}
      },
      "source": [
        ""
      ],
      "execution_count": null,
      "outputs": []
    },
    {
      "cell_type": "code",
      "metadata": {
        "id": "NLG_OhQDsIup",
        "colab_type": "code",
        "colab": {}
      },
      "source": [
        "tokens = tokenizer.encode(text)"
      ],
      "execution_count": 8,
      "outputs": []
    },
    {
      "cell_type": "code",
      "metadata": {
        "id": "WGPYvhKAsIut",
        "colab_type": "code",
        "colab": {}
      },
      "source": [
        ""
      ],
      "execution_count": null,
      "outputs": []
    },
    {
      "cell_type": "markdown",
      "metadata": {
        "id": "wH2F4qrHsIuz",
        "colab_type": "text"
      },
      "source": [
        "¿Notan algo raro en los tokens generados?"
      ]
    },
    {
      "cell_type": "code",
      "metadata": {
        "id": "OuQwdQk5sIu1",
        "colab_type": "code",
        "colab": {}
      },
      "source": [
        "tokenizer.decode(tokens)"
      ],
      "execution_count": null,
      "outputs": []
    },
    {
      "cell_type": "markdown",
      "metadata": {
        "id": "QQwFFhsXsIu3",
        "colab_type": "text"
      },
      "source": [
        "¿Siguen notando algo raro?"
      ]
    },
    {
      "cell_type": "code",
      "metadata": {
        "id": "-TruYQtvsIu3",
        "colab_type": "code",
        "colab": {}
      },
      "source": [
        "[tokenizer.convert_ids_to_tokens(idx) for idx in tokens]"
      ],
      "execution_count": null,
      "outputs": []
    },
    {
      "cell_type": "markdown",
      "metadata": {
        "id": "i8W01ColsIu6",
        "colab_type": "text"
      },
      "source": [
        "### Cargando nuestro modelo de BERT para español"
      ]
    },
    {
      "cell_type": "markdown",
      "metadata": {
        "id": "xifxnZc5sIu6",
        "colab_type": "text"
      },
      "source": [
        "Para cargar nuestro modelo, utilizaremos la libreria transformers nuevamente, utilizando el método from_pretrained. Este método descargará automaticamente el modelo desde el directorio de modelos de HuggingFace. Pueden ver el listado de modelos que están disponibles en este directorio en [https://huggingface.co/models]"
      ]
    },
    {
      "cell_type": "code",
      "metadata": {
        "id": "QUKFFSmAsIu7",
        "colab_type": "code",
        "colab": {}
      },
      "source": [
        "model = transformers.BertForMaskedLM.from_pretrained('dccuchile/bert-base-spanish-wwm-uncased')"
      ],
      "execution_count": null,
      "outputs": []
    },
    {
      "cell_type": "markdown",
      "metadata": {
        "id": "B-gb7c9KsIu-",
        "colab_type": "text"
      },
      "source": [
        "Veamos como se comporta nuestro modelo en la tarea de predecir una palabra de un texto:"
      ]
    },
    {
      "cell_type": "code",
      "metadata": {
        "id": "P8Vgq8GesIvB",
        "colab_type": "code",
        "colab": {}
      },
      "source": [
        "text = \"[CLS] Cuando [MASK] contaron lo que sucedia nos quedamos helados. [SEP]\"\n",
        "tokens = tokenizer.tokenize(text)"
      ],
      "execution_count": 13,
      "outputs": []
    },
    {
      "cell_type": "markdown",
      "metadata": {
        "id": "4MOk8vhpsIvD",
        "colab_type": "text"
      },
      "source": [
        "Noten que el token [MASK] es la palabra que estamos intentando predecir"
      ]
    },
    {
      "cell_type": "markdown",
      "metadata": {
        "id": "ZuxmDIWbsIvD",
        "colab_type": "text"
      },
      "source": [
        "Necesitamos saber cual de todos los tokens que generamos es exactamente el que enmascaramos:"
      ]
    },
    {
      "cell_type": "code",
      "metadata": {
        "id": "4vXP0940sIvE",
        "colab_type": "code",
        "colab": {}
      },
      "source": [
        "masked_indxs = [idx for idx in range(0, len(tokens)) if tokens[idx] == '[MASK]']"
      ],
      "execution_count": 14,
      "outputs": []
    },
    {
      "cell_type": "markdown",
      "metadata": {
        "id": "jW9CXBpssIvG",
        "colab_type": "text"
      },
      "source": [
        "Corremos nuestro modelo:"
      ]
    },
    {
      "cell_type": "code",
      "metadata": {
        "id": "xlBcKmvgsIvG",
        "colab_type": "code",
        "colab": {}
      },
      "source": [
        "import torch\n",
        "\n",
        "indexed_tokens = tokenizer.convert_tokens_to_ids(tokens)\n",
        "tokens_tensor = torch.tensor([indexed_tokens])\n",
        "\n",
        "predictions = model(tokens_tensor)[0]"
      ],
      "execution_count": 16,
      "outputs": []
    },
    {
      "cell_type": "markdown",
      "metadata": {
        "id": "RaHu-uY5sIvI",
        "colab_type": "text"
      },
      "source": [
        "Verificamos cuales son las palabras más probables:"
      ]
    },
    {
      "cell_type": "code",
      "metadata": {
        "id": "P2q1fyi2sIvI",
        "colab_type": "code",
        "colab": {}
      },
      "source": [
        "for i,midx in enumerate(masked_indxs):\n",
        "    idxs = torch.argsort(predictions[0,midx], descending=True)\n",
        "    predicted_token = tokenizer.convert_ids_to_tokens(idxs[:5])\n",
        "    print('Las 5 palabras más probables para la mascara',i,'son:',predicted_token)"
      ],
      "execution_count": null,
      "outputs": []
    },
    {
      "cell_type": "code",
      "metadata": {
        "id": "9LKh3A6_sIvL",
        "colab_type": "code",
        "colab": {}
      },
      "source": [
        ""
      ],
      "execution_count": null,
      "outputs": []
    }
  ]
}