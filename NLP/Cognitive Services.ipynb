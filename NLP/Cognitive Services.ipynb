{
  "nbformat": 4,
  "nbformat_minor": 0,
  "metadata": {
    "colab": {
      "name": "Cognitive Services.ipynb",
      "provenance": [],
      "toc_visible": true
    },
    "kernelspec": {
      "display_name": "Cognitive Services (cognitive-py37)",
      "language": "python",
      "name": "cognitive-py37"
    },
    "language_info": {
      "codemirror_mode": {
        "name": "ipython",
        "version": 3
      },
      "file_extension": ".py",
      "mimetype": "text/x-python",
      "name": "python",
      "nbconvert_exporter": "python",
      "pygments_lexer": "ipython3",
      "version": "3.7.9"
    }
  },
  "cells": [
    {
      "cell_type": "markdown",
      "metadata": {
        "id": "zB90naET_nXL"
      },
      "source": [
        "```\n",
        "ME72: Maestría en Métodos Cuantitativos para la Gestión y Análisis de Datos\n",
        "M72109: Analisis de datos no estructurados\n",
        "Universidad de Buenos Aires - Facultad de Ciencias Economicas (UBA-FCE)\n",
        "Año: 2020\n",
        "Profesor: Facundo Santiago\n",
        "```"
      ]
    },
    {
      "cell_type": "markdown",
      "metadata": {
        "id": "uHRhBRiL_nXM"
      },
      "source": [
        "# Servicios cognitivos de NLP"
      ]
    },
    {
      "cell_type": "markdown",
      "metadata": {
        "id": "XGUSNsyp_nXN"
      },
      "source": [
        "## ¿Que son los servicios cognitivos?"
      ]
    },
    {
      "cell_type": "markdown",
      "metadata": {
        "id": "jOCRhnVl_nXO"
      },
      "source": [
        "Crear modelos de Computer Vision que tengan gran precisión y funcionen en una variedad de contextos importante no es una tarea sencilla. Requiren grandes cantidades de datos y experencia en la creación de modelos básados en Deep Learning. A medida que el procesamiento de imagenes se vuelve mas robusto, muchas organizaciones de tecnología han optado por empaquetar estos modelos de alta performance y ofrecerlos como servicios que las organizaciones pueden consumir directamente como un servicio web. \n",
        "\n",
        "Azure Cognitive Services es uno de estos servicios, el cual cuenta con una API y librerias que se pueden utilizar en multiples lenguajes para ayudarnos a construir aplicaciones inteligentes sin necesidad de tener habilidades de ciencia de datos ni grandes volumenes de información."
      ]
    },
    {
      "cell_type": "markdown",
      "metadata": {
        "id": "yj6gkkZL_nXO"
      },
      "source": [
        "En nuestro caso, exploraremos los servicios conitivos de Computer Vision entre los cuales se encuentran:\n",
        "\n",
        "<table class=\"table\">\n",
        "<thead>\n",
        "<tr>\n",
        "<th style=\"text-align: left;\">Nombre del servicio</th>\n",
        "<th style=\"text-align: left;\">Descripción</th>\n",
        "</tr>\n",
        "</thead>\n",
        "<tbody>\n",
        "<tr>\n",
        "<td style=\"text-align: left;\"><a href=\"/en-us/azure/cognitive-services/computer-vision/\" title=\"Computer Vision\" data-linktype=\"absolute-path\">Computer Vision</a></td>\n",
        "<td style=\"text-align: left;\">El servicio de Computer Vision permite analizar imagenes y extraer atributos relevantes de la misma, como descripciones de la escena, propiedades de la imagen, elementos que se continenen en la misma, etc.</td>\n",
        "</tr>\n",
        "<tr>\n",
        "<td style=\"text-align: left;\"><a href=\"/en-us/azure/cognitive-services/Custom-Vision-Service/home\" title=\"Custom Vision Service\" data-linktype=\"absolute-path\">Custom Vision Service</a></td>\n",
        "<td style=\"text-align: left;\">El servicio de Custom Vision permite construir clasificadores de imagenes utilizando técnicas de Transfer Learning.</td>\n",
        "</tr>\n",
        "<tr>\n",
        "<td style=\"text-align: left;\"><a href=\"/en-us/azure/cognitive-services/face/\" title=\"Face\" data-linktype=\"absolute-path\">Face</a></td>\n",
        "<td style=\"text-align: left;\">El servicio de Face Recognition provee acceso a algoritmos avanzados de detección de rostros, permitiendo su detección e incluso extracción de atributos interesantes.</td>\n",
        "</tr>\n",
        "<tr>\n",
        "<td style=\"text-align: left;\"><a href=\"/en-us/azure/cognitive-services/form-recognizer/\" title=\"Form Recognizer\" data-linktype=\"absolute-path\">Form Recognizer</a> (Preview)</td>\n",
        "<td style=\"text-align: left;\">Form Recognizer permite la extracción de valores e información contenida en formularios que tienen información semi-estructurada. Esta información es extraida del documento junto con la estructura que la representa.</td>\n",
        "</tr>\n",
        "<tr>\n",
        "<td style=\"text-align: left;\"><a href=\"/en-us/azure/cognitive-services/ink-recognizer/\" title=\"Ink Recognizer\" data-linktype=\"absolute-path\">Ink Recognizer</a> (Retiring)</td>\n",
        "<td style=\"text-align: left;\">Ink Recognizer permite el reconocimiento de textos escritos en manuscrita, formas y contenido en general escrito a mano.</td>\n",
        "</tr>\n",
        "<tr>\n",
        "<td style=\"text-align: left;\"><a href=\"/en-us/azure/cognitive-services/video-indexer/video-indexer-overview\" title=\"Video Indexer\" data-linktype=\"absolute-path\">Video Indexer</a></td>\n",
        "<td style=\"text-align: left;\">Video Indexer permite la extracción de información desde videos.</td>\n",
        "</tr>\n",
        "</tbody>\n",
        "</table>"
      ]
    },
    {
      "cell_type": "markdown",
      "metadata": {
        "id": "h9eiiK7h_nXP"
      },
      "source": [
        "## Creación de una cuenta de servicios cognitivos en Azure"
      ]
    },
    {
      "cell_type": "markdown",
      "metadata": {
        "id": "BQ-o2x6a_nXQ"
      },
      "source": [
        "### Creación de una cuenta en Azure"
      ]
    },
    {
      "cell_type": "markdown",
      "metadata": {
        "id": "09ToTRvq_nXR"
      },
      "source": [
        "Hay varias alternativas para utilizar los servicios cognitivos de Azure, pero en nuestro caso crearemos una cuenta de pruebas que tendrá una duracción de 7 días para probar los servicios cognitivos. Esta metodología no requiere de una tarjeta de crédito. Si necesitaran disponer de una cuenta por mayor cantidad de tiempo, es posible crear una cuenta gratuita de Azure que dispone de acceso a los servicios en un Tier Free por 12 meses, sin embargo, este procedimiento requiere la validación del usuario por medio de una tarjeta de crédito."
      ]
    },
    {
      "cell_type": "markdown",
      "metadata": {
        "id": "K3t6G1Rc_nXS"
      },
      "source": [
        "Para crear una cuenta, utilicen el siguiente link: https://azure.microsoft.com/es-es/try/cognitive-services/"
      ]
    },
    {
      "cell_type": "markdown",
      "metadata": {
        "id": "IxYD_I-s_nXS"
      },
      "source": [
        "Luego, seleccionaremos la opción para obtener una clave del servicio de Computer Vision:\n",
        "\n",
        "<img src=\"https://github.com/santiagxf/M72109/blob/master/Vision/Docs/get-api.png?raw=1\" width=\"800\" align=\"center\" />\n",
        "\n",
        "\n",
        "Luego debemos indicar que tipo de cuenta utilizaremos. en nuestro caso, especificaremos una cuente de tipo Trial que durará por 7 dias desde el momento de creación:\n",
        "\n",
        "\n",
        "<img src=\"https://github.com/santiagxf/M72109/blob/master/Vision/Docs/free-trial.png?raw=1\" width=\"800\" />"
      ]
    },
    {
      "cell_type": "markdown",
      "metadata": {
        "id": "Z4_tzm4s_nXT"
      },
      "source": [
        "Luego deberemos aceptar los terminos y condiciones para utilizar el servicio y finalmente iniciar sesión utilizando alguna de las opciones que están disponibles. Si no disponen de una cuenta Microsoft, pueden crearse una desde https://signup.microsoft.com y eligiendo la opción Crear una Cuenta Microsoft."
      ]
    },
    {
      "cell_type": "markdown",
      "metadata": {
        "id": "5FmSoHp0_nXT"
      },
      "source": [
        "### Obtener las claves de acceso a los servicios"
      ]
    },
    {
      "cell_type": "markdown",
      "metadata": {
        "id": "Z9lFZsn__nXU"
      },
      "source": [
        "Una vez que activamos nuestra cuenta trial, obtendremos 2 puntos de información importante:\n",
        " - Puntos de conexión: Es la URL que deberemos de indicar para acceder al servicio\n",
        " - Claves: Estas claves son el mecanismo de autenticación que utilizaremos.\n",
        " \n",
        "Necesitaremos ambas piezas de información para continuar. Si no pueden encontrar sus claves, pueden acceder a https://azure.microsoft.com/es-es/try/cognitive-services/my-apis y debería llevarlos a una pagina similar a la siguiente donde están especificados ambos valores:\n",
        "\n",
        "<img src=\"https://github.com/santiagxf/M72109/blob/master/Vision/Docs/get-keys.png?raw=1\" width=\"1000\" align=\"center\" />"
      ]
    },
    {
      "cell_type": "markdown",
      "metadata": {
        "id": "GBkZ406p_nXU"
      },
      "source": [
        "## Creación de un cliente para la utilización de la API de NLP"
      ]
    },
    {
      "cell_type": "markdown",
      "metadata": {
        "id": "xT7hp2v1_nXV"
      },
      "source": [
        "### Instalación del SDK"
      ]
    },
    {
      "cell_type": "markdown",
      "metadata": {
        "id": "zwg-HLyY_nXV"
      },
      "source": [
        "Instalamos las librerias del SDK junto con algunas otras que necesitaremos"
      ]
    },
    {
      "cell_type": "code",
      "metadata": {
        "id": "GgcC8gK0_nXW"
      },
      "source": [
        "!pip install azure-cognitiveservices-language-textanalytics"
      ],
      "execution_count": null,
      "outputs": []
    },
    {
      "cell_type": "markdown",
      "metadata": {
        "id": "xntRVQn6_nXc"
      },
      "source": [
        "Importamos las clases con las que vamos a trabajar"
      ]
    },
    {
      "cell_type": "code",
      "metadata": {
        "id": "isS42pZF_nXd"
      },
      "source": [
        "from azure.cognitiveservices.language.textanalytics import TextAnalyticsClient\n",
        "from msrest.authentication import CognitiveServicesCredentials"
      ],
      "execution_count": 4,
      "outputs": []
    },
    {
      "cell_type": "markdown",
      "metadata": {
        "id": "RN1s0LGX_nXf"
      },
      "source": [
        "Especificación de las credenciales para operar el servicio. Aquí deberemos utilizar las credenciales que generaron desde la página del portal de Microsoft Azure"
      ]
    },
    {
      "cell_type": "code",
      "metadata": {
        "id": "1Rtc5RfK_nXf"
      },
      "source": [
        "subscription_key = \"\"\n",
        "endpoint = \"https://westcentralus.api.cognitive.microsoft.com\""
      ],
      "execution_count": null,
      "outputs": []
    },
    {
      "cell_type": "markdown",
      "metadata": {
        "id": "bLZMZrUc_nXi"
      },
      "source": [
        "*Noten que endpoint es la URL que obtienen desde el portal, pero sin la parte \"/vision\""
      ]
    },
    {
      "cell_type": "code",
      "metadata": {
        "id": "38HwDliy_nXj"
      },
      "source": [
        "credentials = CognitiveServicesCredentials(ACCOUNT_KEY)\n",
        "client = TextAnalyticsClient(endpoint=endpoint, credentials=credentials)"
      ],
      "execution_count": null,
      "outputs": []
    },
    {
      "cell_type": "markdown",
      "metadata": {
        "id": "s29inXs1_nXn"
      },
      "source": [
        "### Analisis de sentimiento"
      ]
    },
    {
      "cell_type": "markdown",
      "metadata": {
        "id": "-bILUjfx_nXo"
      },
      "source": [
        "El análisis de sentimiento permite averiguar el sentimiento de un texxto analizando su contenido. Esta API devuelve una puntuación entre 0 y 1 para cada documento. Las puntuaciones cercanas a 1 indican un sentimiento positivo, mientras que las puntuaciones cercanas a 0 indican un sentimiento negativo."
      ]
    },
    {
      "cell_type": "code",
      "metadata": {
        "id": "ngRlpVM4_nXo"
      },
      "source": [
        "documents = [{\n",
        "    'language': 'en',\n",
        "    'id': 0,\n",
        "    'text': \"I had the best day of my life.\"\n",
        "}, {\n",
        "    'language': 'en',\n",
        "    'id': 1,\n",
        "    'text': \"This was a waste of my time. The speaker put me to sleep.\"\n",
        "}, {\n",
        "    'language': 'es',\n",
        "    'id': 2,\n",
        "    'text': \"No tengo dinero ni nada que dar...\"\n",
        "}, {\n",
        "    'language': 'fr',\n",
        "    'id': 3,\n",
        "    'text': \"Comme ce n'est pas cher, je n'ai pas confiance\"\n",
        "}]\n",
        "\n",
        "for document in documents:\n",
        "    print(\"Asking sentiment on '{}' (id: {})\".format(document['text'], document['id']))"
      ],
      "execution_count": null,
      "outputs": []
    },
    {
      "cell_type": "code",
      "metadata": {
        "id": "X0px-9QE_nXr"
      },
      "source": [
        "response = client.sentiment(\n",
        "    documents=documents\n",
        ")"
      ],
      "execution_count": null,
      "outputs": []
    },
    {
      "cell_type": "code",
      "metadata": {
        "id": "u5i1Kz4z_nXt"
      },
      "source": [
        "for document in response.documents:\n",
        "    print(\"Sentimiento en el documento {}, puntuación es: {}:\".format(document.id, document.score))"
      ],
      "execution_count": null,
      "outputs": []
    },
    {
      "cell_type": "markdown",
      "metadata": {
        "id": "i4b25y5G_nXw"
      },
      "source": [
        "### Extracción de frases importantes"
      ]
    },
    {
      "cell_type": "markdown",
      "metadata": {
        "id": "jcXJ8YfO_nXw"
      },
      "source": [
        "Extrae automáticamente frases clave para identificar rápidamente los puntos principales. Por ejemplo, para el texto de entrada \"La comida era deliciosa y el personal era maravilloso\", la API devuelve los puntos principales de conversación: \"comida\" y \"personal maravilloso\"."
      ]
    },
    {
      "cell_type": "code",
      "metadata": {
        "id": "6ehgiluj_nXx"
      },
      "source": [
        "documents = [\n",
        "    {\n",
        "        \"id\": \"1\", \n",
        "        \"language\": \"en\",\n",
        "        \"text\": \"My cat might need to see a veterinarian.\"\n",
        "    },\n",
        "    {\n",
        "        \"id\": \"2\", \n",
        "        \"language\": \"es\", \n",
        "        \"text\": \"A mi me encanta el fútbol!\"\n",
        "    }\n",
        "]"
      ],
      "execution_count": 5,
      "outputs": []
    },
    {
      "cell_type": "code",
      "metadata": {
        "id": "9nksUblU_nXz"
      },
      "source": [
        "response = client.key_phrases(documents=documents)"
      ],
      "execution_count": null,
      "outputs": []
    },
    {
      "cell_type": "code",
      "metadata": {
        "id": "LpRV30pLPqet"
      },
      "source": [
        "for document in response.documents:\n",
        "    print(\"ID del documento: \", document.id)\n",
        "    print(\"\\tFrases clave:\")\n",
        "    for phrase in document.key_phrases:\n",
        "        print(\"\\t\\t\",phrase)"
      ],
      "execution_count": null,
      "outputs": []
    }
  ]
}