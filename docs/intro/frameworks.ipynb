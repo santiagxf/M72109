{
  "cells": [
    {
      "cell_type": "markdown",
      "metadata": {
        "id": "4eD4BHragtH3"
      },
      "source": [
        "Frameworks para Deep Learning\n",
        "============================="
      ]
    },
    {
      "cell_type": "markdown",
      "metadata": {
        "id": "kYqQz_bFgtH9"
      },
      "source": [
        "Introducción\n",
        "------------"
      ]
    },
    {
      "cell_type": "markdown",
      "metadata": {
        "id": "F9mmrGtBgtH9"
      },
      "source": [
        "`PyTorch` y `TensorFlow` son probablemente los framewors de deep learning más populares. Tanto `PyTorch` como `Tensorflow` son muy populares tanto en marcos de academia como de industria. De hecho, los científicos de datos las consideran a menudo las bibliotecas de referencia cuando se trata del desarrollo de aplicaciones innovadoras de aprendizaje profundo o incluso la investigación."
      ]
    },
    {
      "cell_type": "markdown",
      "metadata": {
        "id": "Hcq5zeulgtH-"
      },
      "source": [
        "### DAGs\n",
        "\n",
        "Algo importante para tener en cuenta es que estos frameworks utilizan **grafos** para describir cálculos. Usualmente una red se ve como un DAG (Grafo Acíclico Dirigido) el cual se opera con tensores. Un grafo es una estructura de datos que consta de nodos y arcos. Durante el proceso de entrenamiento de las redes neuronales profundas, los grafos de cálculo almacenan las activaciones de la red neuronal durante una pasada \"hacia adelante\". Luego, una pasada hacia atrás (backpropagation) utiliza los grafos de cálculo para calcular las actualizaciones de cada uno de los pesos de la red, entrenando así la red.\n",
        "\n",
        "<img src=\"https://github.com/santiagxf/M72109/blob/master/docs/_images/framworks_dag.png?raw=1\" width=\"500\" />"
      ]
    },
    {
      "cell_type": "markdown",
      "metadata": {
        "id": "we8AIFEagtH-"
      },
      "source": [
        "TensorFlow\n",
        "----------"
      ]
    },
    {
      "cell_type": "markdown",
      "metadata": {
        "id": "NN2QOU99gtH_"
      },
      "source": [
        "`TensorFlow` es una biblioteca de aprendizaje automático de código abierto creada por el equipo de Google Brain. Su lanzamiento inicial fue en 2015 y está escrito en `Python`, `C++` y `CUDA`.\n",
        "\n",
        "De manera similar a `PyTorch`, `TensorFlow` también tiene un gran enfoque en las redes neuronales y deep learning y permite al usuario crear y combinar diferentes tipos de modelos de aprendizaje profundo y generar gráficos del rendimiento del modelo durante el entrenamiento. Aunque es una biblioteca de `Python`, en 2017 `TensorFlow` introdujo además una interfaz en `R` para `RStudio`."
      ]
    },
    {
      "cell_type": "markdown",
      "source": [
        "### APIs\n",
        "\n",
        "`TensorFlow` posee diferentes APIs (interfaces de programación) y diferentes modos de ejecución. Esta fuera del alcance ver las diferencias entre estos métodos."
      ],
      "metadata": {
        "id": "siWfRQxzg_9T"
      }
    },
    {
      "cell_type": "markdown",
      "metadata": {
        "id": "KSEMVsYxgtH_"
      },
      "source": [
        "#### API secuencial\n",
        "\n",
        "Un modelo secuencial es apropiado para crear una red profunda simple de capas donde cada capa tiene exactamente un tensor de entrada y un tensor de salida.\n",
        "\n",
        "Por ejemplo:"
      ]
    },
    {
      "cell_type": "code",
      "execution_count": null,
      "metadata": {
        "id": "DnJDpBmBgtIA"
      },
      "outputs": [],
      "source": [
        "import tensorflow as tf\n",
        "import tensorflow.keras as keras\n",
        "import tensorflow.keras.layers as layers\n",
        "\n",
        "model = keras.Sequential(\n",
        "    [\n",
        "        layers.Dense(2, activation=\"relu\", name=\"layer1\"),\n",
        "        layers.Dense(3, activation=\"relu\", name=\"layer2\"),\n",
        "        layers.Dense(4, name=\"layer3\"),\n",
        "    ]\n",
        ")\n",
        "\n",
        "x = tf.ones((3, 3))\n",
        "y = model(x)"
      ]
    },
    {
      "cell_type": "code",
      "execution_count": null,
      "metadata": {
        "id": "s2k14-0egtIC",
        "outputId": "2be5d000-3942-4527-c426-e0ebe0ac4ead"
      },
      "outputs": [
        {
          "name": "stdout",
          "output_type": "stream",
          "text": [
            "Model: \"sequential_1\"\n",
            "_________________________________________________________________\n",
            "Layer (type)                 Output Shape              Param #   \n",
            "=================================================================\n",
            "layer1 (Dense)               multiple                  8         \n",
            "_________________________________________________________________\n",
            "layer2 (Dense)               multiple                  9         \n",
            "_________________________________________________________________\n",
            "layer3 (Dense)               multiple                  16        \n",
            "=================================================================\n",
            "Total params: 33\n",
            "Trainable params: 33\n",
            "Non-trainable params: 0\n",
            "_________________________________________________________________\n"
          ]
        }
      ],
      "source": [
        "model.summary()"
      ]
    },
    {
      "cell_type": "markdown",
      "metadata": {
        "id": "7J0_oE3xgtID"
      },
      "source": [
        "Noten que no hemos indicado como luce la entrada de nuestra red en el modelo secuencias en ninguna de las capas. Esto se debe a que el modelo secuencial interpreta que la salida de una capa es la entrada de la siguiente, por lo tanto las dimensiones deben de coincidir forzadamente. \n",
        "\n",
        "Sin embargo, tampoco indicamos las dimensiones de los vectores de entrada. `TensorFlow` interpreta la entrada de forma dinámica y es por eso que cuando llamamos a `model(x)` con un tensor de dimensiones `(3,3)` en este momento `TensorFlow` sabe que la entrada es un tensor de dimensiones `(3)`.\n",
        "\n",
        "Podemos de todas formas explicitar esto:"
      ]
    },
    {
      "cell_type": "code",
      "execution_count": null,
      "metadata": {
        "id": "_mxn_nd3gtID"
      },
      "outputs": [],
      "source": [
        "model = keras.Sequential(\n",
        "    [\n",
        "        layers.Input((3,)),\n",
        "        layers.Dense(2, activation=\"relu\", name=\"layer1\"),\n",
        "        layers.Dense(3, activation=\"relu\", name=\"layer2\"),\n",
        "        layers.Dense(4, name=\"layer3\"),\n",
        "    ]\n",
        ")"
      ]
    },
    {
      "cell_type": "code",
      "execution_count": null,
      "metadata": {
        "id": "RlwZl_K_gtIE",
        "outputId": "24252177-9916-41c6-895f-3bd7a3f91582"
      },
      "outputs": [
        {
          "name": "stdout",
          "output_type": "stream",
          "text": [
            "Model: \"sequential_2\"\n",
            "_________________________________________________________________\n",
            "Layer (type)                 Output Shape              Param #   \n",
            "=================================================================\n",
            "layer1 (Dense)               (None, 2)                 8         \n",
            "_________________________________________________________________\n",
            "layer2 (Dense)               (None, 3)                 9         \n",
            "_________________________________________________________________\n",
            "layer3 (Dense)               (None, 4)                 16        \n",
            "=================================================================\n",
            "Total params: 33\n",
            "Trainable params: 33\n",
            "Non-trainable params: 0\n",
            "_________________________________________________________________\n"
          ]
        }
      ],
      "source": [
        "model.summary()"
      ]
    },
    {
      "cell_type": "code",
      "execution_count": null,
      "metadata": {
        "id": "MIe_NSgegtIE",
        "outputId": "b5df55c4-f581-4f2a-c70c-6ceda5751afc"
      },
      "outputs": [
        {
          "data": {
            "image/png": "[encoded data removed]",
            "text/plain": [
              "<IPython.core.display.Image object>"
            ]
          },
          "execution_count": 10,
          "metadata": {},
          "output_type": "execute_result"
        }
      ],
      "source": [
        "keras.utils.plot_model(model, show_shapes=True)"
      ]
    },
    {
      "cell_type": "markdown",
      "metadata": {
        "id": "SBJhZGY8gtIF"
      },
      "source": [
        "Noten que las dimensiones de entrada que indicamos fueron `(3,)` en lugar de `(3,3)`. **¿Puede identificar porque?**"
      ]
    },
    {
      "cell_type": "markdown",
      "metadata": {
        "id": "xRym9NU9gtIF"
      },
      "source": [
        "Un modelo secuencial no es apropiado cuando:\n",
        "\n",
        "- El modelo tiene múltiples entradas o múltiples salidas\n",
        "- Cualquiera de las capas tiene múltiples entradas o múltiples salidas\n",
        "- Necesitamos compartir capas\n",
        "- Necesitamos una topología no lineal (por ejemplo, una conexión residual, un modelo de varias ramas)\n",
        "\n",
        "Para mas información recomendamos la lectura de: https://keras.io/guides/sequential_model/"
      ]
    },
    {
      "cell_type": "markdown",
      "metadata": {
        "id": "Et-Zaa2mgtIF"
      },
      "source": [
        "#### API funcional"
      ]
    },
    {
      "cell_type": "markdown",
      "source": [
        "<div class=\"admonition warning\">PRECAUCIÓN 😱: El tema presentado en esta sección está clasificado como avanzado. El entendimiento de este contenido es totalmente opcional.</div>"
      ],
      "metadata": {
        "id": "uk-f_JoDgyWq"
      }
    },
    {
      "cell_type": "markdown",
      "metadata": {
        "id": "uM0p1OU1gtIG"
      },
      "source": [
        "La API funcional de `Keras` es una forma de crear modelos que son más flexibles que la API `tf.keras.Sequential`. La API funcional puede manejar modelos con topología no lineal, capas compartidas e incluso múltiples entradas o salidas.\n",
        "\n",
        "La idea principal es que un modelo de aprendizaje profundo suele ser un grafo acíclico dirigido (DAG) de capas. Entonces, la API funcional es una forma de crear grafos de capas. \n",
        "\n",
        "El siguiente código genera un modelo identico al anterior:"
      ]
    },
    {
      "cell_type": "code",
      "execution_count": null,
      "metadata": {
        "id": "d2VgYB0lgtIG"
      },
      "outputs": [],
      "source": [
        "inputs = keras.Input(shape=(3,))\n",
        "layer1_output = layers.Dense(2, activation=\"relu\", name=\"layer1\")(inputs)\n",
        "layer2_output = layers.Dense(3, activation=\"relu\", name=\"layer2\")(layer1_output)\n",
        "outputs = layers.Dense(4, name=\"layer3\")(layer2_output)\n",
        "\n",
        "model = keras.Model(inputs=inputs, outputs=outputs, name=\"functional_api\")"
      ]
    },
    {
      "cell_type": "code",
      "execution_count": null,
      "metadata": {
        "id": "hdUnehsFgtIG",
        "outputId": "3e66e5a2-d722-485c-acca-a31645e35e3c"
      },
      "outputs": [
        {
          "data": {
            "image/png": "[encoded data removed]",
            "text/plain": [
              "<IPython.core.display.Image object>"
            ]
          },
          "execution_count": 13,
          "metadata": {},
          "output_type": "execute_result"
        }
      ],
      "source": [
        "keras.utils.plot_model(model, show_shapes=True)"
      ]
    },
    {
      "cell_type": "markdown",
      "metadata": {
        "id": "JIGZkXgHgtIG"
      },
      "source": [
        "Lo interesante de esta API es que no solo nos permite conectar cualquier entrada con cualquier salida, sino que ademas poder inspeccionar los tensor intermediarios:"
      ]
    },
    {
      "cell_type": "code",
      "execution_count": null,
      "metadata": {
        "id": "VuhKW3b1gtIH",
        "outputId": "2bed0743-b760-4c68-a6e1-51ef9681a9f3"
      },
      "outputs": [
        {
          "data": {
            "text/plain": [
              "TensorShape([None, 3])"
            ]
          },
          "execution_count": 14,
          "metadata": {},
          "output_type": "execute_result"
        }
      ],
      "source": [
        "layer2_output.shape"
      ]
    },
    {
      "cell_type": "markdown",
      "metadata": {
        "id": "QeNYUybsgtIH"
      },
      "source": [
        "PyTorch\n",
        "-------"
      ]
    },
    {
      "cell_type": "markdown",
      "metadata": {
        "id": "ArcYMsvNgtIH"
      },
      "source": [
        "`PyTorch` es una biblioteca de aprendizaje automático desarrollada por Facebook AI Research Lab. Se introdujo por primera vez en 2016 y se distribuye con la licencia BSD como software gratuito de código abierto.\n",
        "\n",
        "`PyTorch` tiene está disponible para `Python` y sus funcionalidades están construidas como clases de `Python`, por lo que forman parte del ecosistema de paquetes. Al ser una biblioteca basada en `Python`, es más fácil ampliar sus funcionalidades con otras bibliotecas de Python, como `SciPy` y `NumPy`. Sin embargo, los usuarios de `PyTorch` también pueden programar en `C/C++` ya que la biblioteca comparte algo de backend de `C++` con Torch, que es el núcleo del procesamiento de deep learning."
      ]
    },
    {
      "cell_type": "markdown",
      "metadata": {
        "id": "WgGO4lDkgtIH"
      },
      "source": [
        "> En este curso no trabajaremos con `PyTorch` especificamente pero el lector puede revisar la guia https://pytorch.org/tutorials/beginner/pytorch_with_examples.html para familiarizarse con este framework"
      ]
    },
    {
      "cell_type": "markdown",
      "metadata": {
        "id": "yVAcb7JrgtII"
      },
      "source": [
        "Eligiendo un framework\n",
        "----------------------"
      ]
    },
    {
      "cell_type": "markdown",
      "metadata": {
        "id": "u61N1DTAgtII"
      },
      "source": [
        "Tanto `PyTorch` como `TensorFlow` son herramientas increíbles; de lo contrario, no serían tan populares. De hecho, han realizado tantas mejoras a lo largo de los años que elegir entre ambos nunca ha sido más desafiante. Esto quiere decir que cualquier elección que hagamos en general estará bien.\n",
        "\n",
        "<img src=\"https://github.com/santiagxf/M72109/blob/master/docs/_images/framworks_vs.png?raw=1\" width=\"500\" />\n",
        "\n",
        "Un enfoque útil y muy simple para elegir entre ambas herramientas es que si el usuario está acostumbrado a usar `Python` como lenguaje de programación, entonces `PyTorch` es una buena opción ya que es muy amigable con este lenguaje. `PyTorch` ha ganado mucha popularidad entre los desarrolladores orientados a la investigación, apoyando el entrenamiento dinámico (es decir que los computos se realizan a medida que se define el grafo). Esta ultima caracteristica le da versatilidad a la hora de corregir errores de codigo (funcionalidad que `TensorFlow` agerga a partir de la version 2.2).\n",
        "\n",
        "`TensorFlow` ofrece varias opciones para el desarrollo de modelos de alto nivel y, por lo general, se considera una biblioteca más madura que `PyTorch`. Además, este marco ofrece soporte para plataformas móviles. Una de las ventajas más amplias es la alta integración (ya que ahora es parte de este framework) de `Keras` el cual nos permite definir una red neuronal de una forma más amigable y a alto nivel."
      ]
    }
  ],
  "metadata": {
    "kernelspec": {
      "display_name": "Python 3 (ipykernel)",
      "language": "python",
      "name": "python3"
    },
    "language_info": {
      "codemirror_mode": {
        "name": "ipython",
        "version": 3
      },
      "file_extension": ".py",
      "mimetype": "text/x-python",
      "name": "python",
      "nbconvert_exporter": "python",
      "pygments_lexer": "ipython3",
      "version": "3.8.2"
    },
    "colab": {
      "provenance": []
    }
  },
  "nbformat": 4,
  "nbformat_minor": 0
}