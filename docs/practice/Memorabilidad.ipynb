{
  "nbformat": 4,
  "nbformat_minor": 0,
  "metadata": {
    "colab": {
      "name": "Memorabilidad.ipynb",
      "provenance": [],
      "toc_visible": true
    },
    "kernelspec": {
      "display_name": "Python 3.6 - AzureML",
      "language": "python",
      "name": "python3-azureml"
    },
    "language_info": {
      "codemirror_mode": {
        "name": "ipython",
        "version": 3
      },
      "file_extension": ".py",
      "mimetype": "text/x-python",
      "name": "python",
      "nbconvert_exporter": "python",
      "pygments_lexer": "ipython3",
      "version": "3.6.9"
    }
  },
  "cells": [
    {
      "cell_type": "markdown",
      "metadata": {
        "id": "mPWRnEx2oTvM"
      },
      "source": [
        "```\n",
        "ME72: Maestría en Métodos Cuantitativos para la Gestión y Análisis de Datos\n",
        "M72109: Analisis de datos no estructurados\n",
        "Universidad de Buenos Aires - Facultad de Ciencias Economicas (UBA-FCE)\n",
        "Año: 2021\n",
        "Profesor: Facundo Santiago, Javier Ignacio Garcia Fronti\n",
        "```"
      ]
    },
    {
      "cell_type": "markdown",
      "metadata": {
        "id": "iWBLdBSioTvO"
      },
      "source": [
        "# Desafio: ¿Qué tan memorable es un video?"
      ]
    },
    {
      "cell_type": "markdown",
      "metadata": {
        "id": "Fbe7972dpDfx"
      },
      "source": [
        "Como trabajo final para la materia, les proponemos resolver un desafio de memorabilidad de un video, el cual requerirá de utilizar todos los conceptos que revisamos en la materia **al mismo tiempo**: imagenes, audio y texto."
      ]
    },
    {
      "cell_type": "markdown",
      "metadata": {
        "id": "sT_t9OxYwKIc"
      },
      "source": [
        "## ¿De que se trata el desafío?"
      ]
    },
    {
      "cell_type": "markdown",
      "metadata": {
        "id": "D1_-eKx3oTvT"
      },
      "source": [
        "Esta tarea se centra en el problema de predecir qué tan memorable es un video para un espectador. Definiremos a un video como memorable como la probabilidad de que se recuerde tal video luego de un lapso de tiempo determinado. \n",
        "\n",
        "Recibirán un extenso conjunto de datos de videos que van acompañados de anotaciones memorables, así como predictores (features) extraídos previamente que reflejan distintos preprocesamientos de los videos para que la tarea le resulte más sencilla. Las etiquetas (labels) se ha recopilado a través de pruebas de reconocimiento y, por lo tanto, es el resultado de una medición objetiva del rendimiento de la memoria.\n",
        "\n",
        "<img src='https://raw.githubusercontent.com/santiagxf/M72109/master/Desafio/Docs/memorability.PNG' width=600 />\n",
        "\n",
        "*Creditos del desafio original:*\n",
        "\n",
        "http://www.multimediaeval.org/mediaeval2019/memorability/\n",
        "\n",
        "Mihai Gabriel Constantin, University Politehnica of Bucharest, Romania\n",
        "Bogdan Ionescu, University Politehnica of Bucharest, Romania\n",
        "Claire-Hélène Demarty, Technicolor, France\n",
        "Quang-Khanh-Ngoc Duong, Technicolor, France\n",
        "Xavier Alameda-Pineda, INRIA, France\n",
        "Mats Sjöberg, CSC, Finland"
      ]
    },
    {
      "cell_type": "markdown",
      "metadata": {
        "id": "_K6p37ncoTvU"
      },
      "source": [
        "## Direcciones"
      ]
    },
    {
      "cell_type": "markdown",
      "metadata": {
        "id": "Kr_jJ5wAoTvV"
      },
      "source": [
        "Deberán entrenar modelos de aprendizaje automático capaces de inferir la memorabilidad de video a partir del contenido audiovisual. Para hacerlo, podrán optar por utilizar los videos directamente o utilizar características (features) que fueron extraídas desde los mismos utilizando algunas de las técnicas que vimos en este curso. \n",
        "Utilizando estos datos, deberán evaluar la performance del modelo utilizando un set de datos de evaluación. Los modelos se evaluarán a través de métricas de evaluación estándar utilizadas en las tareas de clasificación y regresión (dependiendo del tipo de desafío que elijan)."
      ]
    },
    {
      "cell_type": "markdown",
      "metadata": {
        "id": "QlJ1JocvGMrn"
      },
      "source": [
        "### Entrega"
      ]
    },
    {
      "cell_type": "markdown",
      "metadata": {
        "id": "eKfBU99VFrFP"
      },
      "source": [
        "Para entregar la solución, podrán utilizar la plataforma que más les resulta conveniente. En caso de optar por entregar un notebook de Google Colaboratory, pueden utilizar la siguiente plantilla de entrega donde contarán con todas las herramientas que vimos en el curso ya instaladas y listas para utilizar. Todos los fragmentos de código, librerias y sets de datos se descargarán automaticamente cuando ejecuten las celdas \"preparación del ambiente\""
      ]
    },
    {
      "cell_type": "markdown",
      "metadata": {
        "id": "HtKSuPT1GH0S"
      },
      "source": [
        "[Solución base - ¿Qué tan memorable es un video?](https://colab.research.google.com/github/santiagxf/M72109/blob/master/Desafio/Solucion_base.ipynb)"
      ]
    },
    {
      "cell_type": "markdown",
      "metadata": {
        "id": "NdX8oMEkoTvp"
      },
      "source": [
        "## Anotaciones para el problema de memorabilidad"
      ]
    },
    {
      "cell_type": "markdown",
      "metadata": {
        "id": "hBDymaXtoTvp"
      },
      "source": [
        "Cuentan con 2 tipos de anotaciones para cada uno de los fragmentos de video disponibles:\n",
        " - **memorability_score:** Representa el puntaje de memorabilidad de la secuencia en particular, desde 0 a 1. Valores más grandes son mejores.\n",
        " - **memorable:** Variable categórica que representa si un video es memorable o no. Un video con `memorability_score` superior a `0.5` es marcado como memorable (`1`), sino es marcado como no memorable (`0`)"
      ]
    },
    {
      "cell_type": "code",
      "metadata": {
        "colab": {
          "base_uri": "https://localhost:8080/"
        },
        "id": "UMtIaR4PFkRu",
        "outputId": "ba6e8a2e-b5b1-43cc-f1d7-eb59fbeba96c"
      },
      "source": [
        "!wget https://raw.githubusercontent.com/santiagxf/M72109/master/Desafio/Data/ground_truth.csv \\\n",
        "  --directory-prefix ./Data/ --no-clobber --quiet"
      ],
      "execution_count": null,
      "outputs": [
        {
          "name": "stdout",
          "output_type": "stream",
          "text": [
            "--2020-11-12 19:26:13--  https://raw.githubusercontent.com/santiagxf/M72109/master/Desafio/Data/ground_truth.csv\n",
            "Resolving raw.githubusercontent.com (raw.githubusercontent.com)... 151.101.0.133, 151.101.64.133, 151.101.128.133, ...\n",
            "Connecting to raw.githubusercontent.com (raw.githubusercontent.com)|151.101.0.133|:443... connected.\n",
            "HTTP request sent, awaiting response... 200 OK\n",
            "Length: 49148 (48K) [text/plain]\n",
            "Saving to: ‘./Data/ground_truth.csv’\n",
            "\n",
            "ground_truth.csv    100%[===================>]  48.00K  --.-KB/s    in 0.01s   \n",
            "\n",
            "Last-modified header missing -- time-stamps turned off.\n",
            "2020-11-12 19:26:14 (3.89 MB/s) - ‘./Data/ground_truth.csv’ saved [49148/49148]\n",
            "\n"
          ]
        }
      ]
    },
    {
      "cell_type": "code",
      "metadata": {
        "id": "69lG6CJyoTvq"
      },
      "source": [
        "import pandas as pd\n",
        "\n",
        "labels = pd.read_csv('Data/ground_truth.csv')"
      ],
      "execution_count": null,
      "outputs": []
    },
    {
      "cell_type": "code",
      "metadata": {
        "id": "kXS_1KRBoTvt",
        "outputId": "570584c2-f3a5-464e-dd8d-7392a5981d46"
      },
      "source": [
        "labels.head(2)"
      ],
      "execution_count": null,
      "outputs": [
        {
          "data": {
            "text/html": [
              "<div>\n",
              "<style scoped>\n",
              "    .dataframe tbody tr th:only-of-type {\n",
              "        vertical-align: middle;\n",
              "    }\n",
              "\n",
              "    .dataframe tbody tr th {\n",
              "        vertical-align: top;\n",
              "    }\n",
              "\n",
              "    .dataframe thead th {\n",
              "        text-align: right;\n",
              "    }\n",
              "</style>\n",
              "<table border=\"1\" class=\"dataframe\">\n",
              "  <thead>\n",
              "    <tr style=\"text-align: right;\">\n",
              "      <th></th>\n",
              "      <th>movie_name</th>\n",
              "      <th>start(sec)</th>\n",
              "      <th>end(sec)</th>\n",
              "      <th>sequence_name</th>\n",
              "      <th>Neutral (1)_Typical (0)</th>\n",
              "      <th>nb_annotations</th>\n",
              "      <th>memorability_score</th>\n",
              "      <th>memorabable</th>\n",
              "    </tr>\n",
              "  </thead>\n",
              "  <tbody>\n",
              "    <tr>\n",
              "      <th>0</th>\n",
              "      <td>127 hours</td>\n",
              "      <td>2000</td>\n",
              "      <td>2010</td>\n",
              "      <td>127_hours_2000_2010_1</td>\n",
              "      <td>0</td>\n",
              "      <td>5</td>\n",
              "      <td>1.0</td>\n",
              "      <td>1</td>\n",
              "    </tr>\n",
              "    <tr>\n",
              "      <th>1</th>\n",
              "      <td>127 hours</td>\n",
              "      <td>2182</td>\n",
              "      <td>2192</td>\n",
              "      <td>127_hours_2182_2192_5</td>\n",
              "      <td>1</td>\n",
              "      <td>8</td>\n",
              "      <td>0.0</td>\n",
              "      <td>0</td>\n",
              "    </tr>\n",
              "  </tbody>\n",
              "</table>\n",
              "</div>"
            ],
            "text/plain": [
              "  movie_name  start(sec)  end(sec)          sequence_name  \\\n",
              "0  127 hours        2000      2010  127_hours_2000_2010_1   \n",
              "1  127 hours        2182      2192  127_hours_2182_2192_5   \n",
              "\n",
              "   Neutral (1)_Typical (0)  nb_annotations  memorability_score  memorabable  \n",
              "0                        0               5                 1.0            1  \n",
              "1                        1               8                 0.0            0  "
            ]
          },
          "execution_count": 15,
          "metadata": {
            "tags": []
          },
          "output_type": "execute_result"
        }
      ]
    },
    {
      "cell_type": "markdown",
      "metadata": {
        "id": "54ih544DoTvw"
      },
      "source": [
        "## Elije tu propia aventura"
      ]
    },
    {
      "cell_type": "markdown",
      "metadata": {
        "id": "Wlw8T_TJoTvx"
      },
      "source": [
        "En este desafío, les propongo elegir la dificultad con la que quieren trabajar para solucionar el problema en cuestión. Dependiendo de la elección, son las herramientas que tendrán a su disosición para resolver el problema. Pueden utilizar algunas de las sugerencias, todas las sugerencias, o probar alguna técnica que conozcan y que les parezca interesante de probar."
      ]
    },
    {
      "cell_type": "markdown",
      "metadata": {
        "id": "OhIQ8dJ3oTvx"
      },
      "source": [
        "### Resolver el desafío utilizando los datos de origen"
      ]
    },
    {
      "cell_type": "markdown",
      "metadata": {
        "id": "V_vGLIxToTv0"
      },
      "source": [
        "Esta configuración del desafío es la más similar a la vida real, y solo contaran con un conjunto de videos en formato MP4 como datos de entrada junto con sus anotaciones de memorabilidad en formato CSV. Cualquier procesamiento de datos deberá realizarse utilizando esta información únicamente. Dado que algunos procesamientos de datos sobre videos pueden ser complejos, adicionalmente contarán además con:\n",
        " - Imágenes extraidas cada 2 segundos por cada secuencia a analizar\n",
        " - Tracks de audio disponibles en formato WAV listos para utilizar\n",
        "\n",
        "A pesar de que el video a sido separado en imagenes y audio, resolver el desafío en utilizando estos datos será una tarea compleja. Sin embargo, en el contexto de sus organizaciones, normalmente se encontrarán con esta dificultad."
      ]
    },
    {
      "cell_type": "markdown",
      "metadata": {
        "id": "69zwNbFnoTv1"
      },
      "source": [
        "#### Videos"
      ]
    },
    {
      "cell_type": "markdown",
      "metadata": {
        "id": "_meGx1_xoTv2"
      },
      "source": [
        "En el directorio *Data/Raw/sources* encontraran todas las secuencias utilizadas en este desafío. El archivo *'Data/ground_truth.csv'* contine los nombres de las peliculas a las que corresponde cada fragmento en caso que quieran revisarlos."
      ]
    },
    {
      "cell_type": "markdown",
      "metadata": {
        "id": "L6A9oK-uoTv2"
      },
      "source": [
        "#### Audios"
      ]
    },
    {
      "cell_type": "markdown",
      "metadata": {
        "id": "LACmI1EUoTv3"
      },
      "source": [
        "En el directorio *Data/Raw/audios* encontraran todos los audios correspondientes a cada una de las secuencias de los videos. Los audios están en formato wav, que si bien ocupan mayor espacio, son más sencillos de procesar. \n",
        "\n",
        "Algunas ideas:\n",
        " - Aplicar técnicas de speech-to-text.\n",
        " - Aplicar técnicas de embeddings de audio.\n",
        " - Clasificar primero el audio (en por ejemplo 'instrumento musical', 'personas charlando', 'exterior', 'aire libre') y luego utilizarlos para resolver el problema."
      ]
    },
    {
      "cell_type": "markdown",
      "metadata": {
        "id": "slqhMQfooTv3"
      },
      "source": [
        "#### Frames"
      ]
    },
    {
      "cell_type": "markdown",
      "metadata": {
        "id": "nB67LMgioTv4"
      },
      "source": [
        "En el directorio *Data/Raw/frames* encontraran todos los frames extraidos de cada una de las secuencias. Los frames están disponibles cada 2 segundos por lo cual disponen de 5 frames por cada secuencia.\n",
        "\n",
        "Algunas ideas:\n",
        " - Aplicar modelos de convolución directamente sobre las imagenes.\n",
        " - Aplicar técnicas de descripción de imagenes utilizando Servicios Cognitivos\n",
        " - Reconocimiento de lugares claves.\n",
        " - Los fragmentos tienen personas famosas, ya que son actores de cine y televisión. ¿Será importante?\n",
        " - Colores de la escena."
      ]
    },
    {
      "cell_type": "markdown",
      "metadata": {
        "id": "KtSQSwfloTv4"
      },
      "source": [
        "### Resolver el desafío utilizando predictores preprocesados"
      ]
    },
    {
      "cell_type": "markdown",
      "metadata": {
        "id": "nU7gx-HOoTv5"
      },
      "source": [
        "En esta configuración del desafio, ya hay bastante trabajo realizado. Los videos han sido preprocesados para generar un conjunto de predictores que pueden ayudar a resolver el problema. Estos predictores se entregan como un conjunto de archivos en formato CSV. \n",
        "\n",
        "A pesar de que esta opción pueda parecer sencilla, ofrece sus propios desafíos ya que tienen a disposición muchos predictores pero en dominios distintos: audio, texto, embeddings, etc. Deberán desarrollar una técnica que pueda hacer sentido de esto en su conjunto.\n",
        "\n",
        "A continuación detallamos los predictores con los que contarán:"
      ]
    },
    {
      "cell_type": "code",
      "metadata": {
        "colab": {
          "base_uri": "https://localhost:8080/"
        },
        "id": "E7-GGn7yFkSH",
        "outputId": "5c0bd92e-0391-4b18-88c2-18691fcc9a75"
      },
      "source": [
        "!wget -N https://raw.githubusercontent.com/santiagxf/M72109/master/Desafio/Data/Features/audio_vectors.csv --directory-prefix ./Data/Features/\n",
        "!wget -N https://raw.githubusercontent.com/santiagxf/M72109/master/Desafio/Data/Features/c3d_vectors.csv --directory-prefix ./Data/Features/\n",
        "!wget -N https://raw.githubusercontent.com/santiagxf/M72109/master/Desafio/Data/Features/caption_features.csv --directory-prefix ./Data/Features/\n",
        "!wget -N https://raw.githubusercontent.com/santiagxf/M72109/master/Desafio/Data/Features/colors_features.csv --directory-prefix ./Data/Features/"
      ],
      "execution_count": null,
      "outputs": [
        {
          "name": "stdout",
          "output_type": "stream",
          "text": [
            "--2020-11-12 23:25:50--  https://raw.githubusercontent.com/santiagxf/M72109/master/Desafio/Data/Features/audio_vectors.csv\n",
            "Resolving raw.githubusercontent.com (raw.githubusercontent.com)... 151.101.0.133, 151.101.64.133, 151.101.128.133, ...\n",
            "Connecting to raw.githubusercontent.com (raw.githubusercontent.com)|151.101.0.133|:443... connected.\n",
            "HTTP request sent, awaiting response... 200 OK\n",
            "Length: 72430486 (69M) [text/plain]\n",
            "Saving to: ‘./Data/Features/audio_vectors.csv’\n",
            "\n",
            "audio_vectors.csv   100%[===================>]  69.07M  88.0MB/s    in 0.8s    \n",
            "\n",
            "Last-modified header missing -- time-stamps turned off.\n",
            "2020-11-12 23:25:57 (88.0 MB/s) - ‘./Data/Features/audio_vectors.csv’ saved [72430486/72430486]\n",
            "\n",
            "--2020-11-12 23:25:57--  https://raw.githubusercontent.com/santiagxf/M72109/master/Desafio/Data/Features/c3d_vectors.csv\n",
            "Resolving raw.githubusercontent.com (raw.githubusercontent.com)... 151.101.0.133, 151.101.64.133, 151.101.128.133, ...\n",
            "Connecting to raw.githubusercontent.com (raw.githubusercontent.com)|151.101.0.133|:443... connected.\n",
            "HTTP request sent, awaiting response... 200 OK\n",
            "Length: 17545952 (17M) [text/plain]\n",
            "Saving to: ‘./Data/Features/c3d_vectors.csv’\n",
            "\n",
            "c3d_vectors.csv     100%[===================>]  16.73M  40.1MB/s    in 0.4s    \n",
            "\n",
            "Last-modified header missing -- time-stamps turned off.\n",
            "2020-11-12 23:25:59 (40.1 MB/s) - ‘./Data/Features/c3d_vectors.csv’ saved [17545952/17545952]\n",
            "\n",
            "--2020-11-12 23:25:59--  https://raw.githubusercontent.com/santiagxf/M72109/master/Desafio/Data/Features/caption_features.csv\n",
            "Resolving raw.githubusercontent.com (raw.githubusercontent.com)... 151.101.0.133, 151.101.64.133, 151.101.128.133, ...\n",
            "Connecting to raw.githubusercontent.com (raw.githubusercontent.com)|151.101.0.133|:443... connected.\n",
            "HTTP request sent, awaiting response... 200 OK\n",
            "Length: 2930984 (2.8M) [text/plain]\n",
            "Saving to: ‘./Data/Features/caption_features.csv’\n",
            "\n",
            "caption_features.cs 100%[===================>]   2.79M  --.-KB/s    in 0.1s    \n",
            "\n",
            "Last-modified header missing -- time-stamps turned off.\n",
            "2020-11-12 23:26:01 (20.2 MB/s) - ‘./Data/Features/caption_features.csv’ saved [2930984/2930984]\n",
            "\n",
            "--2020-11-12 23:26:01--  https://raw.githubusercontent.com/santiagxf/M72109/master/Desafio/Data/Features/colors_features.csv\n",
            "Resolving raw.githubusercontent.com (raw.githubusercontent.com)... 151.101.0.133, 151.101.64.133, 151.101.128.133, ...\n",
            "Connecting to raw.githubusercontent.com (raw.githubusercontent.com)|151.101.0.133|:443... connected.\n",
            "HTTP request sent, awaiting response... 200 OK\n",
            "Length: 139723 (136K) [text/plain]\n",
            "Saving to: ‘./Data/Features/colors_features.csv’\n",
            "\n",
            "colors_features.csv 100%[===================>] 136.45K  --.-KB/s    in 0.03s   \n",
            "\n",
            "Last-modified header missing -- time-stamps turned off.\n",
            "2020-11-12 23:26:02 (4.77 MB/s) - ‘./Data/Features/colors_features.csv’ saved [139723/139723]\n",
            "\n"
          ]
        }
      ]
    },
    {
      "cell_type": "markdown",
      "metadata": {
        "id": "RqqS8evHoTv5"
      },
      "source": [
        "#### Descripciónes de las imagenes"
      ]
    },
    {
      "cell_type": "markdown",
      "metadata": {
        "id": "uU6rU8EkoTv6"
      },
      "source": [
        "Cuentan con las descripciones de cuadros (frames) de cada una de las secuencias. Estos frames están extraidos cada 1 segundo y las descripciones se generaron utilizando la API de Computer Vision de Azure Cognitive Services. Cada una de las descripciones forma una oración, y por lo tanto, por cada secuencia tendrán disponible un parrafo con 10 oraciones describiendo cada una de las escenas:"
      ]
    },
    {
      "cell_type": "code",
      "metadata": {
        "id": "i_8cKMFxoTv7"
      },
      "source": [
        "import pandas as pd\n",
        "captions = pd.read_csv('Data/Features/caption_features.csv')"
      ],
      "execution_count": null,
      "outputs": []
    },
    {
      "cell_type": "code",
      "metadata": {
        "colab": {
          "base_uri": "https://localhost:8080/",
          "height": 111
        },
        "id": "CfXroshYoTv-",
        "outputId": "0d92982a-c65c-4179-c8aa-000dfaa928bb"
      },
      "source": [
        "captions.head(2)"
      ],
      "execution_count": null,
      "outputs": [
        {
          "data": {
            "text/html": [
              "<div>\n",
              "<style scoped>\n",
              "    .dataframe tbody tr th:only-of-type {\n",
              "        vertical-align: middle;\n",
              "    }\n",
              "\n",
              "    .dataframe tbody tr th {\n",
              "        vertical-align: top;\n",
              "    }\n",
              "\n",
              "    .dataframe thead th {\n",
              "        text-align: right;\n",
              "    }\n",
              "</style>\n",
              "<table border=\"1\" class=\"dataframe\">\n",
              "  <thead>\n",
              "    <tr style=\"text-align: right;\">\n",
              "      <th></th>\n",
              "      <th>sequence_name</th>\n",
              "      <th>cc</th>\n",
              "    </tr>\n",
              "  </thead>\n",
              "  <tbody>\n",
              "    <tr>\n",
              "      <th>0</th>\n",
              "      <td>127_hours_2000_2010_1</td>\n",
              "      <td>a man in a suit and tie standing in front of a...</td>\n",
              "    </tr>\n",
              "    <tr>\n",
              "      <th>1</th>\n",
              "      <td>127_hours_2182_2192_5</td>\n",
              "      <td>a man holding a toothbrush in his mouth. a wom...</td>\n",
              "    </tr>\n",
              "  </tbody>\n",
              "</table>\n",
              "</div>"
            ],
            "text/plain": [
              "           sequence_name                                                 cc\n",
              "0  127_hours_2000_2010_1  a man in a suit and tie standing in front of a...\n",
              "1  127_hours_2182_2192_5  a man holding a toothbrush in his mouth. a wom..."
            ]
          },
          "execution_count": 7,
          "metadata": {
            "tags": []
          },
          "output_type": "execute_result"
        }
      ]
    },
    {
      "cell_type": "code",
      "metadata": {
        "colab": {
          "base_uri": "https://localhost:8080/"
        },
        "id": "GG5cfz538iqC",
        "outputId": "b7c5d746-740b-4a01-eb96-542935f040a6"
      },
      "source": [
        "captions.shape"
      ],
      "execution_count": null,
      "outputs": [
        {
          "data": {
            "text/plain": [
              "(660, 2)"
            ]
          },
          "execution_count": 13,
          "metadata": {
            "tags": []
          },
          "output_type": "execute_result"
        }
      ]
    },
    {
      "cell_type": "markdown",
      "metadata": {
        "id": "oNcrFKGYFkSQ"
      },
      "source": [
        "#### Colores de las imágenes"
      ]
    },
    {
      "cell_type": "markdown",
      "metadata": {
        "id": "8u7KCGjZFkSQ"
      },
      "source": [
        "Los colores en una imágen pueden ser representativos de lo que uno está viendo. Por ejemplo, en una secuencia de terror, las imagenes con fondos oscuros quizás prevalezcan que con colores claros. Para capturar esto, cuentan con anotaciones para cada secuencia, para cada cuadro (frame de la secuencia) con los valores correspondientes al color más dominante en el fondo y el color más dominante en primer plano. Noten que en este caso, disponen de esta información por cada uno de los cuadros (es decir, 5 anotaciones por cada secuencia y por lo tanto deberán elejir una estrategia para quedarse con 1 solo valor por secuencia. Por ejemplo: el color más frecuente, o el color más raro. También pueden optar por utilizar variables categoricas en el sentido \"contine_fondo_oscuro\" significando una secuencia en que el fondo en algún cuadro es oscuro/negro."
      ]
    },
    {
      "cell_type": "code",
      "metadata": {
        "id": "KYYO91tlFkSR"
      },
      "source": [
        "import pandas as pd\n",
        "colors = pd.read_csv('Data/Features/colors_features.csv')"
      ],
      "execution_count": null,
      "outputs": []
    },
    {
      "cell_type": "code",
      "metadata": {
        "colab": {
          "base_uri": "https://localhost:8080/",
          "height": 359
        },
        "id": "Gbzux4GoFkST",
        "outputId": "fff1a267-96e0-4763-9865-380081c2bb41"
      },
      "source": [
        "colors.head(10)"
      ],
      "execution_count": null,
      "outputs": [
        {
          "data": {
            "text/html": [
              "<div>\n",
              "<style scoped>\n",
              "    .dataframe tbody tr th:only-of-type {\n",
              "        vertical-align: middle;\n",
              "    }\n",
              "\n",
              "    .dataframe tbody tr th {\n",
              "        vertical-align: top;\n",
              "    }\n",
              "\n",
              "    .dataframe thead th {\n",
              "        text-align: right;\n",
              "    }\n",
              "</style>\n",
              "<table border=\"1\" class=\"dataframe\">\n",
              "  <thead>\n",
              "    <tr style=\"text-align: right;\">\n",
              "      <th></th>\n",
              "      <th>sequence_name</th>\n",
              "      <th>dominant_background</th>\n",
              "      <th>dominant_foreground</th>\n",
              "    </tr>\n",
              "  </thead>\n",
              "  <tbody>\n",
              "    <tr>\n",
              "      <th>0</th>\n",
              "      <td>127_hours_2000_2010_1</td>\n",
              "      <td>Black</td>\n",
              "      <td>Black</td>\n",
              "    </tr>\n",
              "    <tr>\n",
              "      <th>1</th>\n",
              "      <td>127_hours_2000_2010_1</td>\n",
              "      <td>Grey</td>\n",
              "      <td>Black</td>\n",
              "    </tr>\n",
              "    <tr>\n",
              "      <th>2</th>\n",
              "      <td>127_hours_2000_2010_1</td>\n",
              "      <td>Black</td>\n",
              "      <td>Black</td>\n",
              "    </tr>\n",
              "    <tr>\n",
              "      <th>3</th>\n",
              "      <td>127_hours_2000_2010_1</td>\n",
              "      <td>Black</td>\n",
              "      <td>Black</td>\n",
              "    </tr>\n",
              "    <tr>\n",
              "      <th>4</th>\n",
              "      <td>127_hours_2000_2010_1</td>\n",
              "      <td>Black</td>\n",
              "      <td>Black</td>\n",
              "    </tr>\n",
              "    <tr>\n",
              "      <th>5</th>\n",
              "      <td>127_hours_2182_2192_5</td>\n",
              "      <td>Black</td>\n",
              "      <td>Black</td>\n",
              "    </tr>\n",
              "    <tr>\n",
              "      <th>6</th>\n",
              "      <td>127_hours_2182_2192_5</td>\n",
              "      <td>Black</td>\n",
              "      <td>Yellow</td>\n",
              "    </tr>\n",
              "    <tr>\n",
              "      <th>7</th>\n",
              "      <td>127_hours_2182_2192_5</td>\n",
              "      <td>Black</td>\n",
              "      <td>Yellow</td>\n",
              "    </tr>\n",
              "    <tr>\n",
              "      <th>8</th>\n",
              "      <td>127_hours_2182_2192_5</td>\n",
              "      <td>Brown</td>\n",
              "      <td>Yellow</td>\n",
              "    </tr>\n",
              "    <tr>\n",
              "      <th>9</th>\n",
              "      <td>127_hours_2182_2192_5</td>\n",
              "      <td>Brown</td>\n",
              "      <td>Yellow</td>\n",
              "    </tr>\n",
              "  </tbody>\n",
              "</table>\n",
              "</div>"
            ],
            "text/plain": [
              "           sequence_name dominant_background dominant_foreground\n",
              "0  127_hours_2000_2010_1               Black               Black\n",
              "1  127_hours_2000_2010_1                Grey               Black\n",
              "2  127_hours_2000_2010_1               Black               Black\n",
              "3  127_hours_2000_2010_1               Black               Black\n",
              "4  127_hours_2000_2010_1               Black               Black\n",
              "5  127_hours_2182_2192_5               Black               Black\n",
              "6  127_hours_2182_2192_5               Black              Yellow\n",
              "7  127_hours_2182_2192_5               Black              Yellow\n",
              "8  127_hours_2182_2192_5               Brown              Yellow\n",
              "9  127_hours_2182_2192_5               Brown              Yellow"
            ]
          },
          "execution_count": 4,
          "metadata": {
            "tags": []
          },
          "output_type": "execute_result"
        }
      ]
    },
    {
      "cell_type": "code",
      "metadata": {
        "colab": {
          "base_uri": "https://localhost:8080/"
        },
        "id": "6R47xkne7ILU",
        "outputId": "8d50be93-ab20-44e3-d93c-44122b47b71a"
      },
      "source": [
        "colors.shape"
      ],
      "execution_count": null,
      "outputs": [
        {
          "data": {
            "text/plain": [
              "(3300, 3)"
            ]
          },
          "execution_count": 5,
          "metadata": {
            "tags": []
          },
          "output_type": "execute_result"
        }
      ]
    },
    {
      "cell_type": "code",
      "metadata": {
        "id": "bdCgKr-u7Sor"
      },
      "source": [
        "grouped_colors = colors.groupby('sequence_name')"
      ],
      "execution_count": null,
      "outputs": []
    },
    {
      "cell_type": "code",
      "metadata": {
        "colab": {
          "base_uri": "https://localhost:8080/"
        },
        "id": "3K9Pj9Sk7b1n",
        "outputId": "fe73b9c1-2bf7-4d13-8900-b5beef27be17"
      },
      "source": [
        "mode = lambda x: x.mode() if len(x) > 2 else np.array(x)\n",
        "grouped_colors['dominant_background'].agg(mode)"
      ],
      "execution_count": null,
      "outputs": [
        {
          "data": {
            "text/plain": [
              "sequence_name\n",
              "127_hours_2000_2010_1     Black\n",
              "127_hours_2182_2192_5     Black\n",
              "127_hours_271_281_1       Brown\n",
              "127_hours_285_295_2       Brown\n",
              "127_hours_328_338_3      Yellow\n",
              "                          ...  \n",
              "Youth_1996_2006_26        Brown\n",
              "Youth_2023_2033_23        Black\n",
              "Youth_2155_2165_28        Black\n",
              "Youth_2400_2410_24        Black\n",
              "Youth_2483_2493_25        Brown\n",
              "Name: dominant_background, Length: 660, dtype: object"
            ]
          },
          "execution_count": 12,
          "metadata": {
            "tags": []
          },
          "output_type": "execute_result"
        }
      ]
    },
    {
      "cell_type": "markdown",
      "metadata": {
        "id": "lPylGpWaoTwA"
      },
      "source": [
        "#### Vectores de audio"
      ]
    },
    {
      "cell_type": "markdown",
      "metadata": {
        "id": "5GBcZOtjoTwB"
      },
      "source": [
        "Se corresponden a las representaciones (embeddings) utilizados por la red YAMNet que vimos en el curso. YAMNet es un modelo que utiliza la misma ténica que las CNN pero al construir imágenes a partir de audio (llamados parches o patchs). Cada uno de estos patchs es el resultado de calcular espectrogramas de audio, creando así parches de imágenes 2D para utilizar en nuestro modelo.\n",
        "\n",
        "Los vectores generados por YAMNet son vectores en un espacio de 1024-D\n"
      ]
    },
    {
      "cell_type": "code",
      "metadata": {
        "id": "SDAKlAJ1oTwB"
      },
      "source": [
        "import pandas as pd\n",
        "audio_embeddings = pd.read_csv('Data/Features/audio_vectors.csv')"
      ],
      "execution_count": null,
      "outputs": []
    },
    {
      "cell_type": "code",
      "metadata": {
        "colab": {
          "base_uri": "https://localhost:8080/",
          "height": 177
        },
        "id": "VVYDOID8oTwE",
        "outputId": "9dad1db4-41be-4fd2-a48e-1833b2cee7d6"
      },
      "source": [
        "audio_embeddings.head(2)"
      ],
      "execution_count": null,
      "outputs": [
        {
          "data": {
            "text/html": [
              "<div>\n",
              "<style scoped>\n",
              "    .dataframe tbody tr th:only-of-type {\n",
              "        vertical-align: middle;\n",
              "    }\n",
              "\n",
              "    .dataframe tbody tr th {\n",
              "        vertical-align: top;\n",
              "    }\n",
              "\n",
              "    .dataframe thead th {\n",
              "        text-align: right;\n",
              "    }\n",
              "</style>\n",
              "<table border=\"1\" class=\"dataframe\">\n",
              "  <thead>\n",
              "    <tr style=\"text-align: right;\">\n",
              "      <th></th>\n",
              "      <th>Unnamed: 0</th>\n",
              "      <th>sequence_name</th>\n",
              "      <th>1</th>\n",
              "      <th>2</th>\n",
              "      <th>3</th>\n",
              "      <th>4</th>\n",
              "      <th>5</th>\n",
              "      <th>6</th>\n",
              "      <th>7</th>\n",
              "      <th>8</th>\n",
              "      <th>9</th>\n",
              "      <th>10</th>\n",
              "      <th>11</th>\n",
              "      <th>12</th>\n",
              "      <th>13</th>\n",
              "      <th>14</th>\n",
              "      <th>15</th>\n",
              "      <th>16</th>\n",
              "      <th>17</th>\n",
              "      <th>18</th>\n",
              "      <th>19</th>\n",
              "      <th>20</th>\n",
              "      <th>21</th>\n",
              "      <th>22</th>\n",
              "      <th>23</th>\n",
              "      <th>24</th>\n",
              "      <th>25</th>\n",
              "      <th>26</th>\n",
              "      <th>27</th>\n",
              "      <th>28</th>\n",
              "      <th>29</th>\n",
              "      <th>30</th>\n",
              "      <th>31</th>\n",
              "      <th>32</th>\n",
              "      <th>33</th>\n",
              "      <th>34</th>\n",
              "      <th>35</th>\n",
              "      <th>36</th>\n",
              "      <th>37</th>\n",
              "      <th>38</th>\n",
              "      <th>...</th>\n",
              "      <th>985</th>\n",
              "      <th>986</th>\n",
              "      <th>987</th>\n",
              "      <th>988</th>\n",
              "      <th>989</th>\n",
              "      <th>990</th>\n",
              "      <th>991</th>\n",
              "      <th>992</th>\n",
              "      <th>993</th>\n",
              "      <th>994</th>\n",
              "      <th>995</th>\n",
              "      <th>996</th>\n",
              "      <th>997</th>\n",
              "      <th>998</th>\n",
              "      <th>999</th>\n",
              "      <th>1000</th>\n",
              "      <th>1001</th>\n",
              "      <th>1002</th>\n",
              "      <th>1003</th>\n",
              "      <th>1004</th>\n",
              "      <th>1005</th>\n",
              "      <th>1006</th>\n",
              "      <th>1007</th>\n",
              "      <th>1008</th>\n",
              "      <th>1009</th>\n",
              "      <th>1010</th>\n",
              "      <th>1011</th>\n",
              "      <th>1012</th>\n",
              "      <th>1013</th>\n",
              "      <th>1014</th>\n",
              "      <th>1015</th>\n",
              "      <th>1016</th>\n",
              "      <th>1017</th>\n",
              "      <th>1018</th>\n",
              "      <th>1019</th>\n",
              "      <th>1020</th>\n",
              "      <th>1021</th>\n",
              "      <th>1022</th>\n",
              "      <th>1023</th>\n",
              "      <th>1024</th>\n",
              "    </tr>\n",
              "  </thead>\n",
              "  <tbody>\n",
              "    <tr>\n",
              "      <th>0</th>\n",
              "      <td>0</td>\n",
              "      <td>127_hours_2000_2010_1</td>\n",
              "      <td>0.0</td>\n",
              "      <td>0.796399</td>\n",
              "      <td>0.009879</td>\n",
              "      <td>0.000000</td>\n",
              "      <td>0.000000</td>\n",
              "      <td>0.0</td>\n",
              "      <td>0.0</td>\n",
              "      <td>0.0</td>\n",
              "      <td>0.0</td>\n",
              "      <td>0.0</td>\n",
              "      <td>0.0</td>\n",
              "      <td>0.0</td>\n",
              "      <td>0.0</td>\n",
              "      <td>0.006553</td>\n",
              "      <td>0.0</td>\n",
              "      <td>0.046742</td>\n",
              "      <td>0.0</td>\n",
              "      <td>0.000000</td>\n",
              "      <td>0.0</td>\n",
              "      <td>0.0</td>\n",
              "      <td>0.0</td>\n",
              "      <td>0.0</td>\n",
              "      <td>0.0</td>\n",
              "      <td>0.005302</td>\n",
              "      <td>0.032028</td>\n",
              "      <td>0.0</td>\n",
              "      <td>0.0</td>\n",
              "      <td>0.0</td>\n",
              "      <td>0.0</td>\n",
              "      <td>0.000000</td>\n",
              "      <td>0.0</td>\n",
              "      <td>0.0</td>\n",
              "      <td>0.0</td>\n",
              "      <td>1.020504</td>\n",
              "      <td>0.003736</td>\n",
              "      <td>0.0</td>\n",
              "      <td>0.0</td>\n",
              "      <td>0.0</td>\n",
              "      <td>...</td>\n",
              "      <td>0.000000</td>\n",
              "      <td>0.0</td>\n",
              "      <td>0.0</td>\n",
              "      <td>0.0</td>\n",
              "      <td>0.012172</td>\n",
              "      <td>0.0</td>\n",
              "      <td>0.0</td>\n",
              "      <td>0.0</td>\n",
              "      <td>0.0</td>\n",
              "      <td>0.0</td>\n",
              "      <td>0.0</td>\n",
              "      <td>0.0</td>\n",
              "      <td>0.0</td>\n",
              "      <td>0.0</td>\n",
              "      <td>0.036203</td>\n",
              "      <td>0.000274</td>\n",
              "      <td>0.0</td>\n",
              "      <td>0.0</td>\n",
              "      <td>0.058202</td>\n",
              "      <td>0.0</td>\n",
              "      <td>0.0</td>\n",
              "      <td>0.0</td>\n",
              "      <td>0.0</td>\n",
              "      <td>0.0</td>\n",
              "      <td>0.348698</td>\n",
              "      <td>0.0</td>\n",
              "      <td>0.0</td>\n",
              "      <td>0.0</td>\n",
              "      <td>0.0</td>\n",
              "      <td>0.466612</td>\n",
              "      <td>0.0</td>\n",
              "      <td>0.0</td>\n",
              "      <td>0.0</td>\n",
              "      <td>0.492673</td>\n",
              "      <td>0.0</td>\n",
              "      <td>0.0</td>\n",
              "      <td>0.0</td>\n",
              "      <td>0.391332</td>\n",
              "      <td>0.0</td>\n",
              "      <td>0.0</td>\n",
              "    </tr>\n",
              "    <tr>\n",
              "      <th>1</th>\n",
              "      <td>1</td>\n",
              "      <td>127_hours_2000_2010_1</td>\n",
              "      <td>0.0</td>\n",
              "      <td>0.000000</td>\n",
              "      <td>0.000000</td>\n",
              "      <td>0.003163</td>\n",
              "      <td>0.010787</td>\n",
              "      <td>0.0</td>\n",
              "      <td>0.0</td>\n",
              "      <td>0.0</td>\n",
              "      <td>0.0</td>\n",
              "      <td>0.0</td>\n",
              "      <td>0.0</td>\n",
              "      <td>0.0</td>\n",
              "      <td>0.0</td>\n",
              "      <td>0.000000</td>\n",
              "      <td>0.0</td>\n",
              "      <td>0.000000</td>\n",
              "      <td>0.0</td>\n",
              "      <td>0.416292</td>\n",
              "      <td>0.0</td>\n",
              "      <td>0.0</td>\n",
              "      <td>0.0</td>\n",
              "      <td>0.0</td>\n",
              "      <td>0.0</td>\n",
              "      <td>0.000000</td>\n",
              "      <td>0.000000</td>\n",
              "      <td>0.0</td>\n",
              "      <td>0.0</td>\n",
              "      <td>0.0</td>\n",
              "      <td>0.0</td>\n",
              "      <td>0.049882</td>\n",
              "      <td>0.0</td>\n",
              "      <td>0.0</td>\n",
              "      <td>0.0</td>\n",
              "      <td>2.006405</td>\n",
              "      <td>0.536719</td>\n",
              "      <td>0.0</td>\n",
              "      <td>0.0</td>\n",
              "      <td>0.0</td>\n",
              "      <td>...</td>\n",
              "      <td>0.002856</td>\n",
              "      <td>0.0</td>\n",
              "      <td>0.0</td>\n",
              "      <td>0.0</td>\n",
              "      <td>0.000000</td>\n",
              "      <td>0.0</td>\n",
              "      <td>0.0</td>\n",
              "      <td>0.0</td>\n",
              "      <td>0.0</td>\n",
              "      <td>0.0</td>\n",
              "      <td>0.0</td>\n",
              "      <td>0.0</td>\n",
              "      <td>0.0</td>\n",
              "      <td>0.0</td>\n",
              "      <td>0.000000</td>\n",
              "      <td>0.000000</td>\n",
              "      <td>0.0</td>\n",
              "      <td>0.0</td>\n",
              "      <td>0.000000</td>\n",
              "      <td>0.0</td>\n",
              "      <td>0.0</td>\n",
              "      <td>0.0</td>\n",
              "      <td>0.0</td>\n",
              "      <td>0.0</td>\n",
              "      <td>0.000000</td>\n",
              "      <td>0.0</td>\n",
              "      <td>0.0</td>\n",
              "      <td>0.0</td>\n",
              "      <td>0.0</td>\n",
              "      <td>0.237772</td>\n",
              "      <td>0.0</td>\n",
              "      <td>0.0</td>\n",
              "      <td>0.0</td>\n",
              "      <td>0.173500</td>\n",
              "      <td>0.0</td>\n",
              "      <td>0.0</td>\n",
              "      <td>0.0</td>\n",
              "      <td>0.177809</td>\n",
              "      <td>0.0</td>\n",
              "      <td>0.0</td>\n",
              "    </tr>\n",
              "  </tbody>\n",
              "</table>\n",
              "<p>2 rows × 1026 columns</p>\n",
              "</div>"
            ],
            "text/plain": [
              "   Unnamed: 0          sequence_name    1         2  ...  1021      1022  1023  1024\n",
              "0           0  127_hours_2000_2010_1  0.0  0.796399  ...   0.0  0.391332   0.0   0.0\n",
              "1           1  127_hours_2000_2010_1  0.0  0.000000  ...   0.0  0.177809   0.0   0.0\n",
              "\n",
              "[2 rows x 1026 columns]"
            ]
          },
          "execution_count": 16,
          "metadata": {
            "tags": []
          },
          "output_type": "execute_result"
        }
      ]
    },
    {
      "cell_type": "markdown",
      "metadata": {
        "id": "qdkmKSLz-ZKu"
      },
      "source": [
        "En el caso de vectores de audio, debemos ajustar las dimensiones puesto que son vectores 2D de 20x1024:"
      ]
    },
    {
      "cell_type": "code",
      "metadata": {
        "id": "yDZV8z5C-Z_H"
      },
      "source": [
        "audio_embeddings_vectors = audio_embeddings.to_numpy()[:,2:].reshape((-1,20,1024))"
      ],
      "execution_count": null,
      "outputs": []
    },
    {
      "cell_type": "code",
      "metadata": {
        "colab": {
          "base_uri": "https://localhost:8080/"
        },
        "id": "_9NsRxta843X",
        "outputId": "e1173719-ca58-4d78-84a8-053802a0792e"
      },
      "source": [
        "audio_embeddings_vectors.shape"
      ],
      "execution_count": null,
      "outputs": [
        {
          "data": {
            "text/plain": [
              "(609, 20, 1024)"
            ]
          },
          "execution_count": 19,
          "metadata": {
            "tags": []
          },
          "output_type": "execute_result"
        }
      ]
    },
    {
      "cell_type": "markdown",
      "metadata": {
        "id": "2bzVJNVwoTwJ"
      },
      "source": [
        "#### Vectores de la red C3D (convoluciones en 3D)"
      ]
    },
    {
      "cell_type": "markdown",
      "metadata": {
        "id": "hN1eZwsfoTwK"
      },
      "source": [
        "Se corresponden a las representaciones aprendidas al aplicar un modelo de convolución 3D sobre el input del video. Estas convoluciones no solo tienen en cuenta localidad a nivel de pixeles en las imagenes sino que también localidad a nivel espacio-temporal en el transcurso del video.\n",
        "\n",
        "<img src='https://github.com/santiagxf/M72109/blob/master/Desafio/Docs/3D-timedistributed.PNG?raw=1' width=500 />\n",
        "\n",
        "Referencias sobre este modelo: https://arxiv.org/pdf/1711.11248.pdf<br />\n",
        "Implementación por el equipo de Facebook AI: https://github.com/facebookresearch/VMZ"
      ]
    },
    {
      "cell_type": "markdown",
      "metadata": {
        "id": "8pD1_dfOZLGW"
      },
      "source": [
        "En en caso de las representaciones provistas aquí, corresponden al caso B) que se muestra en la imagen superior, donde se aplicaron convoluciones 3D (alto, ancho y tiempo) en las primeras capas para capturar relaciones temporales a alto nivel y luego se continuó con convoluciones 2D de forma similar a lo que vimos en este curso.\n",
        "\n",
        "Los embeddings generados son vectores en un espacio dimensional 4096-D"
      ]
    },
    {
      "cell_type": "code",
      "metadata": {
        "id": "OvTxu-K_oTwK"
      },
      "source": [
        "import pandas as pd\n",
        "video_embeddings = pd.read_csv('Data/Features/c3d_vectors.csv')"
      ],
      "execution_count": null,
      "outputs": []
    },
    {
      "cell_type": "code",
      "metadata": {
        "colab": {
          "base_uri": "https://localhost:8080/",
          "height": 177
        },
        "id": "5TgQww92oTwN",
        "outputId": "0a8fa9bb-781b-4018-8937-45fbe471e05e"
      },
      "source": [
        "video_embeddings.head(2)"
      ],
      "execution_count": null,
      "outputs": [
        {
          "data": {
            "text/html": [
              "<div>\n",
              "<style scoped>\n",
              "    .dataframe tbody tr th:only-of-type {\n",
              "        vertical-align: middle;\n",
              "    }\n",
              "\n",
              "    .dataframe tbody tr th {\n",
              "        vertical-align: top;\n",
              "    }\n",
              "\n",
              "    .dataframe thead th {\n",
              "        text-align: right;\n",
              "    }\n",
              "</style>\n",
              "<table border=\"1\" class=\"dataframe\">\n",
              "  <thead>\n",
              "    <tr style=\"text-align: right;\">\n",
              "      <th></th>\n",
              "      <th>Unnamed: 0</th>\n",
              "      <th>sequence_name</th>\n",
              "      <th>0</th>\n",
              "      <th>1</th>\n",
              "      <th>2</th>\n",
              "      <th>3</th>\n",
              "      <th>4</th>\n",
              "      <th>5</th>\n",
              "      <th>6</th>\n",
              "      <th>7</th>\n",
              "      <th>8</th>\n",
              "      <th>9</th>\n",
              "      <th>10</th>\n",
              "      <th>11</th>\n",
              "      <th>12</th>\n",
              "      <th>13</th>\n",
              "      <th>14</th>\n",
              "      <th>15</th>\n",
              "      <th>16</th>\n",
              "      <th>17</th>\n",
              "      <th>18</th>\n",
              "      <th>19</th>\n",
              "      <th>20</th>\n",
              "      <th>21</th>\n",
              "      <th>22</th>\n",
              "      <th>23</th>\n",
              "      <th>24</th>\n",
              "      <th>25</th>\n",
              "      <th>26</th>\n",
              "      <th>27</th>\n",
              "      <th>28</th>\n",
              "      <th>29</th>\n",
              "      <th>30</th>\n",
              "      <th>31</th>\n",
              "      <th>32</th>\n",
              "      <th>33</th>\n",
              "      <th>34</th>\n",
              "      <th>35</th>\n",
              "      <th>36</th>\n",
              "      <th>37</th>\n",
              "      <th>...</th>\n",
              "      <th>4056</th>\n",
              "      <th>4057</th>\n",
              "      <th>4058</th>\n",
              "      <th>4059</th>\n",
              "      <th>4060</th>\n",
              "      <th>4061</th>\n",
              "      <th>4062</th>\n",
              "      <th>4063</th>\n",
              "      <th>4064</th>\n",
              "      <th>4065</th>\n",
              "      <th>4066</th>\n",
              "      <th>4067</th>\n",
              "      <th>4068</th>\n",
              "      <th>4069</th>\n",
              "      <th>4070</th>\n",
              "      <th>4071</th>\n",
              "      <th>4072</th>\n",
              "      <th>4073</th>\n",
              "      <th>4074</th>\n",
              "      <th>4075</th>\n",
              "      <th>4076</th>\n",
              "      <th>4077</th>\n",
              "      <th>4078</th>\n",
              "      <th>4079</th>\n",
              "      <th>4080</th>\n",
              "      <th>4081</th>\n",
              "      <th>4082</th>\n",
              "      <th>4083</th>\n",
              "      <th>4084</th>\n",
              "      <th>4085</th>\n",
              "      <th>4086</th>\n",
              "      <th>4087</th>\n",
              "      <th>4088</th>\n",
              "      <th>4089</th>\n",
              "      <th>4090</th>\n",
              "      <th>4091</th>\n",
              "      <th>4092</th>\n",
              "      <th>4093</th>\n",
              "      <th>4094</th>\n",
              "      <th>4095</th>\n",
              "    </tr>\n",
              "  </thead>\n",
              "  <tbody>\n",
              "    <tr>\n",
              "      <th>0</th>\n",
              "      <td>0</td>\n",
              "      <td>127_hours_2000_2010_1</td>\n",
              "      <td>0.82588</td>\n",
              "      <td>6.3702</td>\n",
              "      <td>0.0</td>\n",
              "      <td>0.34248</td>\n",
              "      <td>0.75896</td>\n",
              "      <td>1.7976</td>\n",
              "      <td>0.1524</td>\n",
              "      <td>0.0</td>\n",
              "      <td>2.1005</td>\n",
              "      <td>3.0595</td>\n",
              "      <td>5.3209</td>\n",
              "      <td>0.65388</td>\n",
              "      <td>0.00</td>\n",
              "      <td>4.6024</td>\n",
              "      <td>2.1203</td>\n",
              "      <td>0.0</td>\n",
              "      <td>0.96733</td>\n",
              "      <td>1.5948</td>\n",
              "      <td>0.92025</td>\n",
              "      <td>4.0407</td>\n",
              "      <td>2.7748</td>\n",
              "      <td>0.59527</td>\n",
              "      <td>0.095815</td>\n",
              "      <td>1.5334</td>\n",
              "      <td>1.3087</td>\n",
              "      <td>4.48960</td>\n",
              "      <td>3.3343</td>\n",
              "      <td>3.4041</td>\n",
              "      <td>2.1141</td>\n",
              "      <td>0.34874</td>\n",
              "      <td>2.2946</td>\n",
              "      <td>0.0000</td>\n",
              "      <td>5.0640</td>\n",
              "      <td>4.6946</td>\n",
              "      <td>1.43730</td>\n",
              "      <td>4.0352</td>\n",
              "      <td>3.6458</td>\n",
              "      <td>2.0807</td>\n",
              "      <td>...</td>\n",
              "      <td>4.9020</td>\n",
              "      <td>2.4753</td>\n",
              "      <td>2.7693</td>\n",
              "      <td>1.7507</td>\n",
              "      <td>2.1867</td>\n",
              "      <td>0.64449</td>\n",
              "      <td>3.9968</td>\n",
              "      <td>1.3514</td>\n",
              "      <td>3.847200</td>\n",
              "      <td>0.002001</td>\n",
              "      <td>0.000</td>\n",
              "      <td>1.7299</td>\n",
              "      <td>4.2137</td>\n",
              "      <td>0.88381</td>\n",
              "      <td>0.0000</td>\n",
              "      <td>3.0936</td>\n",
              "      <td>4.3608</td>\n",
              "      <td>2.7710</td>\n",
              "      <td>0.0000</td>\n",
              "      <td>4.3512</td>\n",
              "      <td>0.0000</td>\n",
              "      <td>1.4744</td>\n",
              "      <td>5.7679</td>\n",
              "      <td>2.5589</td>\n",
              "      <td>1.6776</td>\n",
              "      <td>0.0</td>\n",
              "      <td>8.5785</td>\n",
              "      <td>1.9166</td>\n",
              "      <td>4.63410</td>\n",
              "      <td>1.6254</td>\n",
              "      <td>3.9249</td>\n",
              "      <td>0.0</td>\n",
              "      <td>5.6224</td>\n",
              "      <td>1.7332</td>\n",
              "      <td>2.4912</td>\n",
              "      <td>3.27780</td>\n",
              "      <td>1.7001</td>\n",
              "      <td>0.0000</td>\n",
              "      <td>1.9559</td>\n",
              "      <td>6.1765</td>\n",
              "    </tr>\n",
              "    <tr>\n",
              "      <th>1</th>\n",
              "      <td>1</td>\n",
              "      <td>127_hours_2182_2192_5</td>\n",
              "      <td>0.00000</td>\n",
              "      <td>2.2294</td>\n",
              "      <td>0.0</td>\n",
              "      <td>0.00000</td>\n",
              "      <td>1.53370</td>\n",
              "      <td>1.2082</td>\n",
              "      <td>2.6512</td>\n",
              "      <td>0.0</td>\n",
              "      <td>4.1553</td>\n",
              "      <td>1.0080</td>\n",
              "      <td>2.6259</td>\n",
              "      <td>1.90540</td>\n",
              "      <td>3.35</td>\n",
              "      <td>4.1203</td>\n",
              "      <td>7.0737</td>\n",
              "      <td>0.0</td>\n",
              "      <td>1.20260</td>\n",
              "      <td>2.7264</td>\n",
              "      <td>1.93070</td>\n",
              "      <td>7.5568</td>\n",
              "      <td>1.3140</td>\n",
              "      <td>4.10760</td>\n",
              "      <td>1.728500</td>\n",
              "      <td>1.7400</td>\n",
              "      <td>1.1253</td>\n",
              "      <td>0.99555</td>\n",
              "      <td>0.0000</td>\n",
              "      <td>3.1128</td>\n",
              "      <td>2.6912</td>\n",
              "      <td>0.00000</td>\n",
              "      <td>2.6914</td>\n",
              "      <td>3.6841</td>\n",
              "      <td>4.4532</td>\n",
              "      <td>4.1870</td>\n",
              "      <td>0.61699</td>\n",
              "      <td>4.0952</td>\n",
              "      <td>0.0000</td>\n",
              "      <td>3.4211</td>\n",
              "      <td>...</td>\n",
              "      <td>3.4554</td>\n",
              "      <td>3.7729</td>\n",
              "      <td>1.4180</td>\n",
              "      <td>2.0475</td>\n",
              "      <td>3.0973</td>\n",
              "      <td>1.40560</td>\n",
              "      <td>4.9125</td>\n",
              "      <td>5.3698</td>\n",
              "      <td>0.024375</td>\n",
              "      <td>0.000000</td>\n",
              "      <td>0.895</td>\n",
              "      <td>2.7384</td>\n",
              "      <td>3.5846</td>\n",
              "      <td>1.93490</td>\n",
              "      <td>1.5782</td>\n",
              "      <td>4.0566</td>\n",
              "      <td>3.0115</td>\n",
              "      <td>2.6461</td>\n",
              "      <td>3.0304</td>\n",
              "      <td>2.1322</td>\n",
              "      <td>2.0873</td>\n",
              "      <td>1.2015</td>\n",
              "      <td>5.5900</td>\n",
              "      <td>0.0000</td>\n",
              "      <td>1.1890</td>\n",
              "      <td>0.0</td>\n",
              "      <td>4.7490</td>\n",
              "      <td>3.1846</td>\n",
              "      <td>0.59693</td>\n",
              "      <td>8.0462</td>\n",
              "      <td>0.3997</td>\n",
              "      <td>0.0</td>\n",
              "      <td>3.8342</td>\n",
              "      <td>1.7536</td>\n",
              "      <td>1.8910</td>\n",
              "      <td>0.91983</td>\n",
              "      <td>0.0000</td>\n",
              "      <td>2.0523</td>\n",
              "      <td>1.0713</td>\n",
              "      <td>1.4447</td>\n",
              "    </tr>\n",
              "  </tbody>\n",
              "</table>\n",
              "<p>2 rows × 4098 columns</p>\n",
              "</div>"
            ],
            "text/plain": [
              "   Unnamed: 0          sequence_name        0  ...    4093    4094    4095\n",
              "0           0  127_hours_2000_2010_1  0.82588  ...  0.0000  1.9559  6.1765\n",
              "1           1  127_hours_2182_2192_5  0.00000  ...  2.0523  1.0713  1.4447\n",
              "\n",
              "[2 rows x 4098 columns]"
            ]
          },
          "execution_count": 21,
          "metadata": {
            "tags": []
          },
          "output_type": "execute_result"
        }
      ]
    },
    {
      "cell_type": "code",
      "metadata": {
        "colab": {
          "base_uri": "https://localhost:8080/"
        },
        "id": "lZR9dmYTFkSk",
        "outputId": "fb91f293-a60b-4808-ed12-efc634e92bce"
      },
      "source": [
        "video_embeddings.shape"
      ],
      "execution_count": null,
      "outputs": [
        {
          "data": {
            "text/plain": [
              "(660, 4098)"
            ]
          },
          "execution_count": 22,
          "metadata": {
            "tags": []
          },
          "output_type": "execute_result"
        }
      ]
    },
    {
      "cell_type": "code",
      "metadata": {
        "id": "9eh8TFEI-1kU"
      },
      "source": [
        ""
      ],
      "execution_count": null,
      "outputs": []
    }
  ]
}