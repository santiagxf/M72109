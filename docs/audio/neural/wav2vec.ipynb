{
  "nbformat": 4,
  "nbformat_minor": 0,
  "metadata": {
    "colab": {
      "provenance": [],
      "gpuType": "T4",
      "authorship_tag": "ABX9TyNLFq6SEF2kWrT3yKE2Cz34"
    },
    "kernelspec": {
      "name": "python3",
      "display_name": "Python 3"
    },
    "language_info": {
      "name": "python"
    },
    "accelerator": "GPU",
    "widgets": {
      "application/vnd.jupyter.widget-state+json": {
        "f18a96d0d2034e4688bffe2be7d47218": {
          "model_module": "@jupyter-widgets/controls",
          "model_name": "HBoxModel",
          "model_module_version": "1.5.0",
          "state": {
            "_dom_classes": [],
            "_model_module": "@jupyter-widgets/controls",
            "_model_module_version": "1.5.0",
            "_model_name": "HBoxModel",
            "_view_count": null,
            "_view_module": "@jupyter-widgets/controls",
            "_view_module_version": "1.5.0",
            "_view_name": "HBoxView",
            "box_style": "",
            "children": [
              "IPY_MODEL_c588b48f7dc747888fbb2dbc199b25ad",
              "IPY_MODEL_f75691bd314d4ca5844dba093d89ca6c",
              "IPY_MODEL_4fdedd66b41f4c71964f554aff01cfff"
            ],
            "layout": "IPY_MODEL_b8b367ddd04f4b4798ad72f5fbdfd8aa"
          }
        },
        "c588b48f7dc747888fbb2dbc199b25ad": {
          "model_module": "@jupyter-widgets/controls",
          "model_name": "HTMLModel",
          "model_module_version": "1.5.0",
          "state": {
            "_dom_classes": [],
            "_model_module": "@jupyter-widgets/controls",
            "_model_module_version": "1.5.0",
            "_model_name": "HTMLModel",
            "_view_count": null,
            "_view_module": "@jupyter-widgets/controls",
            "_view_module_version": "1.5.0",
            "_view_name": "HTMLView",
            "description": "",
            "description_tooltip": null,
            "layout": "IPY_MODEL_bb5e62d09fd44cb7be301ea2fe248ca8",
            "placeholder": "​",
            "style": "IPY_MODEL_06656befe4ab4f1ab10684964d53cfb3",
            "value": "Resolving data files: 100%"
          }
        },
        "f75691bd314d4ca5844dba093d89ca6c": {
          "model_module": "@jupyter-widgets/controls",
          "model_name": "FloatProgressModel",
          "model_module_version": "1.5.0",
          "state": {
            "_dom_classes": [],
            "_model_module": "@jupyter-widgets/controls",
            "_model_module_version": "1.5.0",
            "_model_name": "FloatProgressModel",
            "_view_count": null,
            "_view_module": "@jupyter-widgets/controls",
            "_view_module_version": "1.5.0",
            "_view_name": "ProgressView",
            "bar_style": "success",
            "description": "",
            "description_tooltip": null,
            "layout": "IPY_MODEL_7998c389739348c7bf386edf26b94f65",
            "max": 875,
            "min": 0,
            "orientation": "horizontal",
            "style": "IPY_MODEL_6340d2ceb13c42339e6713ab646d6d54",
            "value": 875
          }
        },
        "4fdedd66b41f4c71964f554aff01cfff": {
          "model_module": "@jupyter-widgets/controls",
          "model_name": "HTMLModel",
          "model_module_version": "1.5.0",
          "state": {
            "_dom_classes": [],
            "_model_module": "@jupyter-widgets/controls",
            "_model_module_version": "1.5.0",
            "_model_name": "HTMLModel",
            "_view_count": null,
            "_view_module": "@jupyter-widgets/controls",
            "_view_module_version": "1.5.0",
            "_view_name": "HTMLView",
            "description": "",
            "description_tooltip": null,
            "layout": "IPY_MODEL_e7f12c56b4264942815b2625deff5386",
            "placeholder": "​",
            "style": "IPY_MODEL_022a02411941426190845651661d1af5",
            "value": " 875/875 [00:00&lt;00:00, 18793.71it/s]"
          }
        },
        "b8b367ddd04f4b4798ad72f5fbdfd8aa": {
          "model_module": "@jupyter-widgets/base",
          "model_name": "LayoutModel",
          "model_module_version": "1.2.0",
          "state": {
            "_model_module": "@jupyter-widgets/base",
            "_model_module_version": "1.2.0",
            "_model_name": "LayoutModel",
            "_view_count": null,
            "_view_module": "@jupyter-widgets/base",
            "_view_module_version": "1.2.0",
            "_view_name": "LayoutView",
            "align_content": null,
            "align_items": null,
            "align_self": null,
            "border": null,
            "bottom": null,
            "display": null,
            "flex": null,
            "flex_flow": null,
            "grid_area": null,
            "grid_auto_columns": null,
            "grid_auto_flow": null,
            "grid_auto_rows": null,
            "grid_column": null,
            "grid_gap": null,
            "grid_row": null,
            "grid_template_areas": null,
            "grid_template_columns": null,
            "grid_template_rows": null,
            "height": null,
            "justify_content": null,
            "justify_items": null,
            "left": null,
            "margin": null,
            "max_height": null,
            "max_width": null,
            "min_height": null,
            "min_width": null,
            "object_fit": null,
            "object_position": null,
            "order": null,
            "overflow": null,
            "overflow_x": null,
            "overflow_y": null,
            "padding": null,
            "right": null,
            "top": null,
            "visibility": null,
            "width": null
          }
        },
        "bb5e62d09fd44cb7be301ea2fe248ca8": {
          "model_module": "@jupyter-widgets/base",
          "model_name": "LayoutModel",
          "model_module_version": "1.2.0",
          "state": {
            "_model_module": "@jupyter-widgets/base",
            "_model_module_version": "1.2.0",
            "_model_name": "LayoutModel",
            "_view_count": null,
            "_view_module": "@jupyter-widgets/base",
            "_view_module_version": "1.2.0",
            "_view_name": "LayoutView",
            "align_content": null,
            "align_items": null,
            "align_self": null,
            "border": null,
            "bottom": null,
            "display": null,
            "flex": null,
            "flex_flow": null,
            "grid_area": null,
            "grid_auto_columns": null,
            "grid_auto_flow": null,
            "grid_auto_rows": null,
            "grid_column": null,
            "grid_gap": null,
            "grid_row": null,
            "grid_template_areas": null,
            "grid_template_columns": null,
            "grid_template_rows": null,
            "height": null,
            "justify_content": null,
            "justify_items": null,
            "left": null,
            "margin": null,
            "max_height": null,
            "max_width": null,
            "min_height": null,
            "min_width": null,
            "object_fit": null,
            "object_position": null,
            "order": null,
            "overflow": null,
            "overflow_x": null,
            "overflow_y": null,
            "padding": null,
            "right": null,
            "top": null,
            "visibility": null,
            "width": null
          }
        },
        "06656befe4ab4f1ab10684964d53cfb3": {
          "model_module": "@jupyter-widgets/controls",
          "model_name": "DescriptionStyleModel",
          "model_module_version": "1.5.0",
          "state": {
            "_model_module": "@jupyter-widgets/controls",
            "_model_module_version": "1.5.0",
            "_model_name": "DescriptionStyleModel",
            "_view_count": null,
            "_view_module": "@jupyter-widgets/base",
            "_view_module_version": "1.2.0",
            "_view_name": "StyleView",
            "description_width": ""
          }
        },
        "7998c389739348c7bf386edf26b94f65": {
          "model_module": "@jupyter-widgets/base",
          "model_name": "LayoutModel",
          "model_module_version": "1.2.0",
          "state": {
            "_model_module": "@jupyter-widgets/base",
            "_model_module_version": "1.2.0",
            "_model_name": "LayoutModel",
            "_view_count": null,
            "_view_module": "@jupyter-widgets/base",
            "_view_module_version": "1.2.0",
            "_view_name": "LayoutView",
            "align_content": null,
            "align_items": null,
            "align_self": null,
            "border": null,
            "bottom": null,
            "display": null,
            "flex": null,
            "flex_flow": null,
            "grid_area": null,
            "grid_auto_columns": null,
            "grid_auto_flow": null,
            "grid_auto_rows": null,
            "grid_column": null,
            "grid_gap": null,
            "grid_row": null,
            "grid_template_areas": null,
            "grid_template_columns": null,
            "grid_template_rows": null,
            "height": null,
            "justify_content": null,
            "justify_items": null,
            "left": null,
            "margin": null,
            "max_height": null,
            "max_width": null,
            "min_height": null,
            "min_width": null,
            "object_fit": null,
            "object_position": null,
            "order": null,
            "overflow": null,
            "overflow_x": null,
            "overflow_y": null,
            "padding": null,
            "right": null,
            "top": null,
            "visibility": null,
            "width": null
          }
        },
        "6340d2ceb13c42339e6713ab646d6d54": {
          "model_module": "@jupyter-widgets/controls",
          "model_name": "ProgressStyleModel",
          "model_module_version": "1.5.0",
          "state": {
            "_model_module": "@jupyter-widgets/controls",
            "_model_module_version": "1.5.0",
            "_model_name": "ProgressStyleModel",
            "_view_count": null,
            "_view_module": "@jupyter-widgets/base",
            "_view_module_version": "1.2.0",
            "_view_name": "StyleView",
            "bar_color": null,
            "description_width": ""
          }
        },
        "e7f12c56b4264942815b2625deff5386": {
          "model_module": "@jupyter-widgets/base",
          "model_name": "LayoutModel",
          "model_module_version": "1.2.0",
          "state": {
            "_model_module": "@jupyter-widgets/base",
            "_model_module_version": "1.2.0",
            "_model_name": "LayoutModel",
            "_view_count": null,
            "_view_module": "@jupyter-widgets/base",
            "_view_module_version": "1.2.0",
            "_view_name": "LayoutView",
            "align_content": null,
            "align_items": null,
            "align_self": null,
            "border": null,
            "bottom": null,
            "display": null,
            "flex": null,
            "flex_flow": null,
            "grid_area": null,
            "grid_auto_columns": null,
            "grid_auto_flow": null,
            "grid_auto_rows": null,
            "grid_column": null,
            "grid_gap": null,
            "grid_row": null,
            "grid_template_areas": null,
            "grid_template_columns": null,
            "grid_template_rows": null,
            "height": null,
            "justify_content": null,
            "justify_items": null,
            "left": null,
            "margin": null,
            "max_height": null,
            "max_width": null,
            "min_height": null,
            "min_width": null,
            "object_fit": null,
            "object_position": null,
            "order": null,
            "overflow": null,
            "overflow_x": null,
            "overflow_y": null,
            "padding": null,
            "right": null,
            "top": null,
            "visibility": null,
            "width": null
          }
        },
        "022a02411941426190845651661d1af5": {
          "model_module": "@jupyter-widgets/controls",
          "model_name": "DescriptionStyleModel",
          "model_module_version": "1.5.0",
          "state": {
            "_model_module": "@jupyter-widgets/controls",
            "_model_module_version": "1.5.0",
            "_model_name": "DescriptionStyleModel",
            "_view_count": null,
            "_view_module": "@jupyter-widgets/base",
            "_view_module_version": "1.2.0",
            "_view_name": "StyleView",
            "description_width": ""
          }
        },
        "950fca438ba740a89b6128c9ab1aa795": {
          "model_module": "@jupyter-widgets/controls",
          "model_name": "HBoxModel",
          "model_module_version": "1.5.0",
          "state": {
            "_dom_classes": [],
            "_model_module": "@jupyter-widgets/controls",
            "_model_module_version": "1.5.0",
            "_model_name": "HBoxModel",
            "_view_count": null,
            "_view_module": "@jupyter-widgets/controls",
            "_view_module_version": "1.5.0",
            "_view_name": "HBoxView",
            "box_style": "",
            "children": [
              "IPY_MODEL_1f1c83c63f7f40409ce373cf71cc4a0b",
              "IPY_MODEL_6826a29b7f994cbd936650bf18b89a39",
              "IPY_MODEL_e8ea3cce812246499b1944868b6d8037"
            ],
            "layout": "IPY_MODEL_a23fad315ff2420a8d3f5f4b787116b0"
          }
        },
        "1f1c83c63f7f40409ce373cf71cc4a0b": {
          "model_module": "@jupyter-widgets/controls",
          "model_name": "HTMLModel",
          "model_module_version": "1.5.0",
          "state": {
            "_dom_classes": [],
            "_model_module": "@jupyter-widgets/controls",
            "_model_module_version": "1.5.0",
            "_model_name": "HTMLModel",
            "_view_count": null,
            "_view_module": "@jupyter-widgets/controls",
            "_view_module_version": "1.5.0",
            "_view_name": "HTMLView",
            "description": "",
            "description_tooltip": null,
            "layout": "IPY_MODEL_f61c19ee69374d5697a1fb6a503ee509",
            "placeholder": "​",
            "style": "IPY_MODEL_d9fc169a34cb4bf1b7c42df9bbc86cd7",
            "value": "Downloading data files: 100%"
          }
        },
        "6826a29b7f994cbd936650bf18b89a39": {
          "model_module": "@jupyter-widgets/controls",
          "model_name": "FloatProgressModel",
          "model_module_version": "1.5.0",
          "state": {
            "_dom_classes": [],
            "_model_module": "@jupyter-widgets/controls",
            "_model_module_version": "1.5.0",
            "_model_name": "FloatProgressModel",
            "_view_count": null,
            "_view_module": "@jupyter-widgets/controls",
            "_view_module_version": "1.5.0",
            "_view_name": "ProgressView",
            "bar_style": "success",
            "description": "",
            "description_tooltip": null,
            "layout": "IPY_MODEL_15df7013247a4bee9f9e80fc97e94e22",
            "max": 875,
            "min": 0,
            "orientation": "horizontal",
            "style": "IPY_MODEL_816af6705ae144738c42d4cfbdcc9d16",
            "value": 875
          }
        },
        "e8ea3cce812246499b1944868b6d8037": {
          "model_module": "@jupyter-widgets/controls",
          "model_name": "HTMLModel",
          "model_module_version": "1.5.0",
          "state": {
            "_dom_classes": [],
            "_model_module": "@jupyter-widgets/controls",
            "_model_module_version": "1.5.0",
            "_model_name": "HTMLModel",
            "_view_count": null,
            "_view_module": "@jupyter-widgets/controls",
            "_view_module_version": "1.5.0",
            "_view_name": "HTMLView",
            "description": "",
            "description_tooltip": null,
            "layout": "IPY_MODEL_2bbb892f18724162a5a3baf04dc9379c",
            "placeholder": "​",
            "style": "IPY_MODEL_bc37d7e958624655a6b866206ef0e2cc",
            "value": " 875/875 [00:00&lt;00:00, 22855.46it/s]"
          }
        },
        "a23fad315ff2420a8d3f5f4b787116b0": {
          "model_module": "@jupyter-widgets/base",
          "model_name": "LayoutModel",
          "model_module_version": "1.2.0",
          "state": {
            "_model_module": "@jupyter-widgets/base",
            "_model_module_version": "1.2.0",
            "_model_name": "LayoutModel",
            "_view_count": null,
            "_view_module": "@jupyter-widgets/base",
            "_view_module_version": "1.2.0",
            "_view_name": "LayoutView",
            "align_content": null,
            "align_items": null,
            "align_self": null,
            "border": null,
            "bottom": null,
            "display": null,
            "flex": null,
            "flex_flow": null,
            "grid_area": null,
            "grid_auto_columns": null,
            "grid_auto_flow": null,
            "grid_auto_rows": null,
            "grid_column": null,
            "grid_gap": null,
            "grid_row": null,
            "grid_template_areas": null,
            "grid_template_columns": null,
            "grid_template_rows": null,
            "height": null,
            "justify_content": null,
            "justify_items": null,
            "left": null,
            "margin": null,
            "max_height": null,
            "max_width": null,
            "min_height": null,
            "min_width": null,
            "object_fit": null,
            "object_position": null,
            "order": null,
            "overflow": null,
            "overflow_x": null,
            "overflow_y": null,
            "padding": null,
            "right": null,
            "top": null,
            "visibility": null,
            "width": null
          }
        },
        "f61c19ee69374d5697a1fb6a503ee509": {
          "model_module": "@jupyter-widgets/base",
          "model_name": "LayoutModel",
          "model_module_version": "1.2.0",
          "state": {
            "_model_module": "@jupyter-widgets/base",
            "_model_module_version": "1.2.0",
            "_model_name": "LayoutModel",
            "_view_count": null,
            "_view_module": "@jupyter-widgets/base",
            "_view_module_version": "1.2.0",
            "_view_name": "LayoutView",
            "align_content": null,
            "align_items": null,
            "align_self": null,
            "border": null,
            "bottom": null,
            "display": null,
            "flex": null,
            "flex_flow": null,
            "grid_area": null,
            "grid_auto_columns": null,
            "grid_auto_flow": null,
            "grid_auto_rows": null,
            "grid_column": null,
            "grid_gap": null,
            "grid_row": null,
            "grid_template_areas": null,
            "grid_template_columns": null,
            "grid_template_rows": null,
            "height": null,
            "justify_content": null,
            "justify_items": null,
            "left": null,
            "margin": null,
            "max_height": null,
            "max_width": null,
            "min_height": null,
            "min_width": null,
            "object_fit": null,
            "object_position": null,
            "order": null,
            "overflow": null,
            "overflow_x": null,
            "overflow_y": null,
            "padding": null,
            "right": null,
            "top": null,
            "visibility": null,
            "width": null
          }
        },
        "d9fc169a34cb4bf1b7c42df9bbc86cd7": {
          "model_module": "@jupyter-widgets/controls",
          "model_name": "DescriptionStyleModel",
          "model_module_version": "1.5.0",
          "state": {
            "_model_module": "@jupyter-widgets/controls",
            "_model_module_version": "1.5.0",
            "_model_name": "DescriptionStyleModel",
            "_view_count": null,
            "_view_module": "@jupyter-widgets/base",
            "_view_module_version": "1.2.0",
            "_view_name": "StyleView",
            "description_width": ""
          }
        },
        "15df7013247a4bee9f9e80fc97e94e22": {
          "model_module": "@jupyter-widgets/base",
          "model_name": "LayoutModel",
          "model_module_version": "1.2.0",
          "state": {
            "_model_module": "@jupyter-widgets/base",
            "_model_module_version": "1.2.0",
            "_model_name": "LayoutModel",
            "_view_count": null,
            "_view_module": "@jupyter-widgets/base",
            "_view_module_version": "1.2.0",
            "_view_name": "LayoutView",
            "align_content": null,
            "align_items": null,
            "align_self": null,
            "border": null,
            "bottom": null,
            "display": null,
            "flex": null,
            "flex_flow": null,
            "grid_area": null,
            "grid_auto_columns": null,
            "grid_auto_flow": null,
            "grid_auto_rows": null,
            "grid_column": null,
            "grid_gap": null,
            "grid_row": null,
            "grid_template_areas": null,
            "grid_template_columns": null,
            "grid_template_rows": null,
            "height": null,
            "justify_content": null,
            "justify_items": null,
            "left": null,
            "margin": null,
            "max_height": null,
            "max_width": null,
            "min_height": null,
            "min_width": null,
            "object_fit": null,
            "object_position": null,
            "order": null,
            "overflow": null,
            "overflow_x": null,
            "overflow_y": null,
            "padding": null,
            "right": null,
            "top": null,
            "visibility": null,
            "width": null
          }
        },
        "816af6705ae144738c42d4cfbdcc9d16": {
          "model_module": "@jupyter-widgets/controls",
          "model_name": "ProgressStyleModel",
          "model_module_version": "1.5.0",
          "state": {
            "_model_module": "@jupyter-widgets/controls",
            "_model_module_version": "1.5.0",
            "_model_name": "ProgressStyleModel",
            "_view_count": null,
            "_view_module": "@jupyter-widgets/base",
            "_view_module_version": "1.2.0",
            "_view_name": "StyleView",
            "bar_color": null,
            "description_width": ""
          }
        },
        "2bbb892f18724162a5a3baf04dc9379c": {
          "model_module": "@jupyter-widgets/base",
          "model_name": "LayoutModel",
          "model_module_version": "1.2.0",
          "state": {
            "_model_module": "@jupyter-widgets/base",
            "_model_module_version": "1.2.0",
            "_model_name": "LayoutModel",
            "_view_count": null,
            "_view_module": "@jupyter-widgets/base",
            "_view_module_version": "1.2.0",
            "_view_name": "LayoutView",
            "align_content": null,
            "align_items": null,
            "align_self": null,
            "border": null,
            "bottom": null,
            "display": null,
            "flex": null,
            "flex_flow": null,
            "grid_area": null,
            "grid_auto_columns": null,
            "grid_auto_flow": null,
            "grid_auto_rows": null,
            "grid_column": null,
            "grid_gap": null,
            "grid_row": null,
            "grid_template_areas": null,
            "grid_template_columns": null,
            "grid_template_rows": null,
            "height": null,
            "justify_content": null,
            "justify_items": null,
            "left": null,
            "margin": null,
            "max_height": null,
            "max_width": null,
            "min_height": null,
            "min_width": null,
            "object_fit": null,
            "object_position": null,
            "order": null,
            "overflow": null,
            "overflow_x": null,
            "overflow_y": null,
            "padding": null,
            "right": null,
            "top": null,
            "visibility": null,
            "width": null
          }
        },
        "bc37d7e958624655a6b866206ef0e2cc": {
          "model_module": "@jupyter-widgets/controls",
          "model_name": "DescriptionStyleModel",
          "model_module_version": "1.5.0",
          "state": {
            "_model_module": "@jupyter-widgets/controls",
            "_model_module_version": "1.5.0",
            "_model_name": "DescriptionStyleModel",
            "_view_count": null,
            "_view_module": "@jupyter-widgets/base",
            "_view_module_version": "1.2.0",
            "_view_name": "StyleView",
            "description_width": ""
          }
        },
        "0b0db8c0ec1d45688c4c408f561529a8": {
          "model_module": "@jupyter-widgets/controls",
          "model_name": "HBoxModel",
          "model_module_version": "1.5.0",
          "state": {
            "_dom_classes": [],
            "_model_module": "@jupyter-widgets/controls",
            "_model_module_version": "1.5.0",
            "_model_name": "HBoxModel",
            "_view_count": null,
            "_view_module": "@jupyter-widgets/controls",
            "_view_module_version": "1.5.0",
            "_view_name": "HBoxView",
            "box_style": "",
            "children": [
              "IPY_MODEL_0b25f3847b29482a96ddd11f6710d0f0",
              "IPY_MODEL_2b2c0fea5c09423dadef3f18d8578bbb",
              "IPY_MODEL_f323711db396455c92489db012fef5b3"
            ],
            "layout": "IPY_MODEL_1f85afb615964379b09755bf1d07fbc1"
          }
        },
        "0b25f3847b29482a96ddd11f6710d0f0": {
          "model_module": "@jupyter-widgets/controls",
          "model_name": "HTMLModel",
          "model_module_version": "1.5.0",
          "state": {
            "_dom_classes": [],
            "_model_module": "@jupyter-widgets/controls",
            "_model_module_version": "1.5.0",
            "_model_name": "HTMLModel",
            "_view_count": null,
            "_view_module": "@jupyter-widgets/controls",
            "_view_module_version": "1.5.0",
            "_view_name": "HTMLView",
            "description": "",
            "description_tooltip": null,
            "layout": "IPY_MODEL_eb00629720584f36a46bd18cf544909e",
            "placeholder": "​",
            "style": "IPY_MODEL_6c8b743ae0fe46feb9643141812dadfd",
            "value": "Downloading data files: "
          }
        },
        "2b2c0fea5c09423dadef3f18d8578bbb": {
          "model_module": "@jupyter-widgets/controls",
          "model_name": "FloatProgressModel",
          "model_module_version": "1.5.0",
          "state": {
            "_dom_classes": [],
            "_model_module": "@jupyter-widgets/controls",
            "_model_module_version": "1.5.0",
            "_model_name": "FloatProgressModel",
            "_view_count": null,
            "_view_module": "@jupyter-widgets/controls",
            "_view_module_version": "1.5.0",
            "_view_name": "ProgressView",
            "bar_style": "success",
            "description": "",
            "description_tooltip": null,
            "layout": "IPY_MODEL_928e3bb363e642a4b4c1dfb83ae27ad2",
            "max": 1,
            "min": 0,
            "orientation": "horizontal",
            "style": "IPY_MODEL_5b89ef13f8bc46268d18ece3841edb5b",
            "value": 0
          }
        },
        "f323711db396455c92489db012fef5b3": {
          "model_module": "@jupyter-widgets/controls",
          "model_name": "HTMLModel",
          "model_module_version": "1.5.0",
          "state": {
            "_dom_classes": [],
            "_model_module": "@jupyter-widgets/controls",
            "_model_module_version": "1.5.0",
            "_model_name": "HTMLModel",
            "_view_count": null,
            "_view_module": "@jupyter-widgets/controls",
            "_view_module_version": "1.5.0",
            "_view_name": "HTMLView",
            "description": "",
            "description_tooltip": null,
            "layout": "IPY_MODEL_1a01f4b88aa446de88f3029e0bdad175",
            "placeholder": "​",
            "style": "IPY_MODEL_e5af2dcb10cc4536908c8bf645201235",
            "value": " 0/0 [00:00&lt;?, ?it/s]"
          }
        },
        "1f85afb615964379b09755bf1d07fbc1": {
          "model_module": "@jupyter-widgets/base",
          "model_name": "LayoutModel",
          "model_module_version": "1.2.0",
          "state": {
            "_model_module": "@jupyter-widgets/base",
            "_model_module_version": "1.2.0",
            "_model_name": "LayoutModel",
            "_view_count": null,
            "_view_module": "@jupyter-widgets/base",
            "_view_module_version": "1.2.0",
            "_view_name": "LayoutView",
            "align_content": null,
            "align_items": null,
            "align_self": null,
            "border": null,
            "bottom": null,
            "display": null,
            "flex": null,
            "flex_flow": null,
            "grid_area": null,
            "grid_auto_columns": null,
            "grid_auto_flow": null,
            "grid_auto_rows": null,
            "grid_column": null,
            "grid_gap": null,
            "grid_row": null,
            "grid_template_areas": null,
            "grid_template_columns": null,
            "grid_template_rows": null,
            "height": null,
            "justify_content": null,
            "justify_items": null,
            "left": null,
            "margin": null,
            "max_height": null,
            "max_width": null,
            "min_height": null,
            "min_width": null,
            "object_fit": null,
            "object_position": null,
            "order": null,
            "overflow": null,
            "overflow_x": null,
            "overflow_y": null,
            "padding": null,
            "right": null,
            "top": null,
            "visibility": null,
            "width": null
          }
        },
        "eb00629720584f36a46bd18cf544909e": {
          "model_module": "@jupyter-widgets/base",
          "model_name": "LayoutModel",
          "model_module_version": "1.2.0",
          "state": {
            "_model_module": "@jupyter-widgets/base",
            "_model_module_version": "1.2.0",
            "_model_name": "LayoutModel",
            "_view_count": null,
            "_view_module": "@jupyter-widgets/base",
            "_view_module_version": "1.2.0",
            "_view_name": "LayoutView",
            "align_content": null,
            "align_items": null,
            "align_self": null,
            "border": null,
            "bottom": null,
            "display": null,
            "flex": null,
            "flex_flow": null,
            "grid_area": null,
            "grid_auto_columns": null,
            "grid_auto_flow": null,
            "grid_auto_rows": null,
            "grid_column": null,
            "grid_gap": null,
            "grid_row": null,
            "grid_template_areas": null,
            "grid_template_columns": null,
            "grid_template_rows": null,
            "height": null,
            "justify_content": null,
            "justify_items": null,
            "left": null,
            "margin": null,
            "max_height": null,
            "max_width": null,
            "min_height": null,
            "min_width": null,
            "object_fit": null,
            "object_position": null,
            "order": null,
            "overflow": null,
            "overflow_x": null,
            "overflow_y": null,
            "padding": null,
            "right": null,
            "top": null,
            "visibility": null,
            "width": null
          }
        },
        "6c8b743ae0fe46feb9643141812dadfd": {
          "model_module": "@jupyter-widgets/controls",
          "model_name": "DescriptionStyleModel",
          "model_module_version": "1.5.0",
          "state": {
            "_model_module": "@jupyter-widgets/controls",
            "_model_module_version": "1.5.0",
            "_model_name": "DescriptionStyleModel",
            "_view_count": null,
            "_view_module": "@jupyter-widgets/base",
            "_view_module_version": "1.2.0",
            "_view_name": "StyleView",
            "description_width": ""
          }
        },
        "928e3bb363e642a4b4c1dfb83ae27ad2": {
          "model_module": "@jupyter-widgets/base",
          "model_name": "LayoutModel",
          "model_module_version": "1.2.0",
          "state": {
            "_model_module": "@jupyter-widgets/base",
            "_model_module_version": "1.2.0",
            "_model_name": "LayoutModel",
            "_view_count": null,
            "_view_module": "@jupyter-widgets/base",
            "_view_module_version": "1.2.0",
            "_view_name": "LayoutView",
            "align_content": null,
            "align_items": null,
            "align_self": null,
            "border": null,
            "bottom": null,
            "display": null,
            "flex": null,
            "flex_flow": null,
            "grid_area": null,
            "grid_auto_columns": null,
            "grid_auto_flow": null,
            "grid_auto_rows": null,
            "grid_column": null,
            "grid_gap": null,
            "grid_row": null,
            "grid_template_areas": null,
            "grid_template_columns": null,
            "grid_template_rows": null,
            "height": null,
            "justify_content": null,
            "justify_items": null,
            "left": null,
            "margin": null,
            "max_height": null,
            "max_width": null,
            "min_height": null,
            "min_width": null,
            "object_fit": null,
            "object_position": null,
            "order": null,
            "overflow": null,
            "overflow_x": null,
            "overflow_y": null,
            "padding": null,
            "right": null,
            "top": null,
            "visibility": null,
            "width": "20px"
          }
        },
        "5b89ef13f8bc46268d18ece3841edb5b": {
          "model_module": "@jupyter-widgets/controls",
          "model_name": "ProgressStyleModel",
          "model_module_version": "1.5.0",
          "state": {
            "_model_module": "@jupyter-widgets/controls",
            "_model_module_version": "1.5.0",
            "_model_name": "ProgressStyleModel",
            "_view_count": null,
            "_view_module": "@jupyter-widgets/base",
            "_view_module_version": "1.2.0",
            "_view_name": "StyleView",
            "bar_color": null,
            "description_width": ""
          }
        },
        "1a01f4b88aa446de88f3029e0bdad175": {
          "model_module": "@jupyter-widgets/base",
          "model_name": "LayoutModel",
          "model_module_version": "1.2.0",
          "state": {
            "_model_module": "@jupyter-widgets/base",
            "_model_module_version": "1.2.0",
            "_model_name": "LayoutModel",
            "_view_count": null,
            "_view_module": "@jupyter-widgets/base",
            "_view_module_version": "1.2.0",
            "_view_name": "LayoutView",
            "align_content": null,
            "align_items": null,
            "align_self": null,
            "border": null,
            "bottom": null,
            "display": null,
            "flex": null,
            "flex_flow": null,
            "grid_area": null,
            "grid_auto_columns": null,
            "grid_auto_flow": null,
            "grid_auto_rows": null,
            "grid_column": null,
            "grid_gap": null,
            "grid_row": null,
            "grid_template_areas": null,
            "grid_template_columns": null,
            "grid_template_rows": null,
            "height": null,
            "justify_content": null,
            "justify_items": null,
            "left": null,
            "margin": null,
            "max_height": null,
            "max_width": null,
            "min_height": null,
            "min_width": null,
            "object_fit": null,
            "object_position": null,
            "order": null,
            "overflow": null,
            "overflow_x": null,
            "overflow_y": null,
            "padding": null,
            "right": null,
            "top": null,
            "visibility": null,
            "width": null
          }
        },
        "e5af2dcb10cc4536908c8bf645201235": {
          "model_module": "@jupyter-widgets/controls",
          "model_name": "DescriptionStyleModel",
          "model_module_version": "1.5.0",
          "state": {
            "_model_module": "@jupyter-widgets/controls",
            "_model_module_version": "1.5.0",
            "_model_name": "DescriptionStyleModel",
            "_view_count": null,
            "_view_module": "@jupyter-widgets/base",
            "_view_module_version": "1.2.0",
            "_view_name": "StyleView",
            "description_width": ""
          }
        },
        "1adf7264688a47e4b8d884ed12dcb027": {
          "model_module": "@jupyter-widgets/controls",
          "model_name": "HBoxModel",
          "model_module_version": "1.5.0",
          "state": {
            "_dom_classes": [],
            "_model_module": "@jupyter-widgets/controls",
            "_model_module_version": "1.5.0",
            "_model_name": "HBoxModel",
            "_view_count": null,
            "_view_module": "@jupyter-widgets/controls",
            "_view_module_version": "1.5.0",
            "_view_name": "HBoxView",
            "box_style": "",
            "children": [
              "IPY_MODEL_01c592b4e69247bebe826e40fda787e8",
              "IPY_MODEL_7a2f0615a2d64cca8353f2bd52a17768",
              "IPY_MODEL_ae9adb6013c3490ab9d6d092a3e34282"
            ],
            "layout": "IPY_MODEL_1b1dc0cd9b0046748ae7f1a0d4b146e1"
          }
        },
        "01c592b4e69247bebe826e40fda787e8": {
          "model_module": "@jupyter-widgets/controls",
          "model_name": "HTMLModel",
          "model_module_version": "1.5.0",
          "state": {
            "_dom_classes": [],
            "_model_module": "@jupyter-widgets/controls",
            "_model_module_version": "1.5.0",
            "_model_name": "HTMLModel",
            "_view_count": null,
            "_view_module": "@jupyter-widgets/controls",
            "_view_module_version": "1.5.0",
            "_view_name": "HTMLView",
            "description": "",
            "description_tooltip": null,
            "layout": "IPY_MODEL_abd98ec8ca324786a667ef325f7500ce",
            "placeholder": "​",
            "style": "IPY_MODEL_3fd5e3118f674ccf82c67e0ec225c9a3",
            "value": "Extracting data files: "
          }
        },
        "7a2f0615a2d64cca8353f2bd52a17768": {
          "model_module": "@jupyter-widgets/controls",
          "model_name": "FloatProgressModel",
          "model_module_version": "1.5.0",
          "state": {
            "_dom_classes": [],
            "_model_module": "@jupyter-widgets/controls",
            "_model_module_version": "1.5.0",
            "_model_name": "FloatProgressModel",
            "_view_count": null,
            "_view_module": "@jupyter-widgets/controls",
            "_view_module_version": "1.5.0",
            "_view_name": "ProgressView",
            "bar_style": "success",
            "description": "",
            "description_tooltip": null,
            "layout": "IPY_MODEL_901b6a9b46ec4c5cb3852cfea1e10de3",
            "max": 1,
            "min": 0,
            "orientation": "horizontal",
            "style": "IPY_MODEL_6ff903ef9e5b4f5db6d8de72019c821b",
            "value": 0
          }
        },
        "ae9adb6013c3490ab9d6d092a3e34282": {
          "model_module": "@jupyter-widgets/controls",
          "model_name": "HTMLModel",
          "model_module_version": "1.5.0",
          "state": {
            "_dom_classes": [],
            "_model_module": "@jupyter-widgets/controls",
            "_model_module_version": "1.5.0",
            "_model_name": "HTMLModel",
            "_view_count": null,
            "_view_module": "@jupyter-widgets/controls",
            "_view_module_version": "1.5.0",
            "_view_name": "HTMLView",
            "description": "",
            "description_tooltip": null,
            "layout": "IPY_MODEL_7f1ec7fea8be481088e8fc95a74ed273",
            "placeholder": "​",
            "style": "IPY_MODEL_ca769cd9a05c4a259c7b0958d2e1cbe2",
            "value": " 0/0 [00:00&lt;?, ?it/s]"
          }
        },
        "1b1dc0cd9b0046748ae7f1a0d4b146e1": {
          "model_module": "@jupyter-widgets/base",
          "model_name": "LayoutModel",
          "model_module_version": "1.2.0",
          "state": {
            "_model_module": "@jupyter-widgets/base",
            "_model_module_version": "1.2.0",
            "_model_name": "LayoutModel",
            "_view_count": null,
            "_view_module": "@jupyter-widgets/base",
            "_view_module_version": "1.2.0",
            "_view_name": "LayoutView",
            "align_content": null,
            "align_items": null,
            "align_self": null,
            "border": null,
            "bottom": null,
            "display": null,
            "flex": null,
            "flex_flow": null,
            "grid_area": null,
            "grid_auto_columns": null,
            "grid_auto_flow": null,
            "grid_auto_rows": null,
            "grid_column": null,
            "grid_gap": null,
            "grid_row": null,
            "grid_template_areas": null,
            "grid_template_columns": null,
            "grid_template_rows": null,
            "height": null,
            "justify_content": null,
            "justify_items": null,
            "left": null,
            "margin": null,
            "max_height": null,
            "max_width": null,
            "min_height": null,
            "min_width": null,
            "object_fit": null,
            "object_position": null,
            "order": null,
            "overflow": null,
            "overflow_x": null,
            "overflow_y": null,
            "padding": null,
            "right": null,
            "top": null,
            "visibility": null,
            "width": null
          }
        },
        "abd98ec8ca324786a667ef325f7500ce": {
          "model_module": "@jupyter-widgets/base",
          "model_name": "LayoutModel",
          "model_module_version": "1.2.0",
          "state": {
            "_model_module": "@jupyter-widgets/base",
            "_model_module_version": "1.2.0",
            "_model_name": "LayoutModel",
            "_view_count": null,
            "_view_module": "@jupyter-widgets/base",
            "_view_module_version": "1.2.0",
            "_view_name": "LayoutView",
            "align_content": null,
            "align_items": null,
            "align_self": null,
            "border": null,
            "bottom": null,
            "display": null,
            "flex": null,
            "flex_flow": null,
            "grid_area": null,
            "grid_auto_columns": null,
            "grid_auto_flow": null,
            "grid_auto_rows": null,
            "grid_column": null,
            "grid_gap": null,
            "grid_row": null,
            "grid_template_areas": null,
            "grid_template_columns": null,
            "grid_template_rows": null,
            "height": null,
            "justify_content": null,
            "justify_items": null,
            "left": null,
            "margin": null,
            "max_height": null,
            "max_width": null,
            "min_height": null,
            "min_width": null,
            "object_fit": null,
            "object_position": null,
            "order": null,
            "overflow": null,
            "overflow_x": null,
            "overflow_y": null,
            "padding": null,
            "right": null,
            "top": null,
            "visibility": null,
            "width": null
          }
        },
        "3fd5e3118f674ccf82c67e0ec225c9a3": {
          "model_module": "@jupyter-widgets/controls",
          "model_name": "DescriptionStyleModel",
          "model_module_version": "1.5.0",
          "state": {
            "_model_module": "@jupyter-widgets/controls",
            "_model_module_version": "1.5.0",
            "_model_name": "DescriptionStyleModel",
            "_view_count": null,
            "_view_module": "@jupyter-widgets/base",
            "_view_module_version": "1.2.0",
            "_view_name": "StyleView",
            "description_width": ""
          }
        },
        "901b6a9b46ec4c5cb3852cfea1e10de3": {
          "model_module": "@jupyter-widgets/base",
          "model_name": "LayoutModel",
          "model_module_version": "1.2.0",
          "state": {
            "_model_module": "@jupyter-widgets/base",
            "_model_module_version": "1.2.0",
            "_model_name": "LayoutModel",
            "_view_count": null,
            "_view_module": "@jupyter-widgets/base",
            "_view_module_version": "1.2.0",
            "_view_name": "LayoutView",
            "align_content": null,
            "align_items": null,
            "align_self": null,
            "border": null,
            "bottom": null,
            "display": null,
            "flex": null,
            "flex_flow": null,
            "grid_area": null,
            "grid_auto_columns": null,
            "grid_auto_flow": null,
            "grid_auto_rows": null,
            "grid_column": null,
            "grid_gap": null,
            "grid_row": null,
            "grid_template_areas": null,
            "grid_template_columns": null,
            "grid_template_rows": null,
            "height": null,
            "justify_content": null,
            "justify_items": null,
            "left": null,
            "margin": null,
            "max_height": null,
            "max_width": null,
            "min_height": null,
            "min_width": null,
            "object_fit": null,
            "object_position": null,
            "order": null,
            "overflow": null,
            "overflow_x": null,
            "overflow_y": null,
            "padding": null,
            "right": null,
            "top": null,
            "visibility": null,
            "width": "20px"
          }
        },
        "6ff903ef9e5b4f5db6d8de72019c821b": {
          "model_module": "@jupyter-widgets/controls",
          "model_name": "ProgressStyleModel",
          "model_module_version": "1.5.0",
          "state": {
            "_model_module": "@jupyter-widgets/controls",
            "_model_module_version": "1.5.0",
            "_model_name": "ProgressStyleModel",
            "_view_count": null,
            "_view_module": "@jupyter-widgets/base",
            "_view_module_version": "1.2.0",
            "_view_name": "StyleView",
            "bar_color": null,
            "description_width": ""
          }
        },
        "7f1ec7fea8be481088e8fc95a74ed273": {
          "model_module": "@jupyter-widgets/base",
          "model_name": "LayoutModel",
          "model_module_version": "1.2.0",
          "state": {
            "_model_module": "@jupyter-widgets/base",
            "_model_module_version": "1.2.0",
            "_model_name": "LayoutModel",
            "_view_count": null,
            "_view_module": "@jupyter-widgets/base",
            "_view_module_version": "1.2.0",
            "_view_name": "LayoutView",
            "align_content": null,
            "align_items": null,
            "align_self": null,
            "border": null,
            "bottom": null,
            "display": null,
            "flex": null,
            "flex_flow": null,
            "grid_area": null,
            "grid_auto_columns": null,
            "grid_auto_flow": null,
            "grid_auto_rows": null,
            "grid_column": null,
            "grid_gap": null,
            "grid_row": null,
            "grid_template_areas": null,
            "grid_template_columns": null,
            "grid_template_rows": null,
            "height": null,
            "justify_content": null,
            "justify_items": null,
            "left": null,
            "margin": null,
            "max_height": null,
            "max_width": null,
            "min_height": null,
            "min_width": null,
            "object_fit": null,
            "object_position": null,
            "order": null,
            "overflow": null,
            "overflow_x": null,
            "overflow_y": null,
            "padding": null,
            "right": null,
            "top": null,
            "visibility": null,
            "width": null
          }
        },
        "ca769cd9a05c4a259c7b0958d2e1cbe2": {
          "model_module": "@jupyter-widgets/controls",
          "model_name": "DescriptionStyleModel",
          "model_module_version": "1.5.0",
          "state": {
            "_model_module": "@jupyter-widgets/controls",
            "_model_module_version": "1.5.0",
            "_model_name": "DescriptionStyleModel",
            "_view_count": null,
            "_view_module": "@jupyter-widgets/base",
            "_view_module_version": "1.2.0",
            "_view_name": "StyleView",
            "description_width": ""
          }
        },
        "5386016b97e247e38b679290e2408ba3": {
          "model_module": "@jupyter-widgets/controls",
          "model_name": "HBoxModel",
          "model_module_version": "1.5.0",
          "state": {
            "_dom_classes": [],
            "_model_module": "@jupyter-widgets/controls",
            "_model_module_version": "1.5.0",
            "_model_name": "HBoxModel",
            "_view_count": null,
            "_view_module": "@jupyter-widgets/controls",
            "_view_module_version": "1.5.0",
            "_view_name": "HBoxView",
            "box_style": "",
            "children": [
              "IPY_MODEL_0003443d859445d9b85d0633416a8d65",
              "IPY_MODEL_1f203afdc0514754b43ce32e48b3cd50",
              "IPY_MODEL_c639257792d24e319ae8b9f6f47892c0"
            ],
            "layout": "IPY_MODEL_bbcaa6e6f7ac46548bfcf5a175bed2fe"
          }
        },
        "0003443d859445d9b85d0633416a8d65": {
          "model_module": "@jupyter-widgets/controls",
          "model_name": "HTMLModel",
          "model_module_version": "1.5.0",
          "state": {
            "_dom_classes": [],
            "_model_module": "@jupyter-widgets/controls",
            "_model_module_version": "1.5.0",
            "_model_name": "HTMLModel",
            "_view_count": null,
            "_view_module": "@jupyter-widgets/controls",
            "_view_module_version": "1.5.0",
            "_view_name": "HTMLView",
            "description": "",
            "description_tooltip": null,
            "layout": "IPY_MODEL_95b0fd882e404e1686aa82b0ca2eefa8",
            "placeholder": "​",
            "style": "IPY_MODEL_2e7b471162344957ad723bfcacdba436",
            "value": "Generating train split: "
          }
        },
        "1f203afdc0514754b43ce32e48b3cd50": {
          "model_module": "@jupyter-widgets/controls",
          "model_name": "FloatProgressModel",
          "model_module_version": "1.5.0",
          "state": {
            "_dom_classes": [],
            "_model_module": "@jupyter-widgets/controls",
            "_model_module_version": "1.5.0",
            "_model_name": "FloatProgressModel",
            "_view_count": null,
            "_view_module": "@jupyter-widgets/controls",
            "_view_module_version": "1.5.0",
            "_view_name": "ProgressView",
            "bar_style": "info",
            "description": "",
            "description_tooltip": null,
            "layout": "IPY_MODEL_51d3b5427a944d1d8cffd37314d10790",
            "max": 1,
            "min": 0,
            "orientation": "horizontal",
            "style": "IPY_MODEL_60d43ea3e0a74f9eabea0cc1935efb4f",
            "value": 1
          }
        },
        "c639257792d24e319ae8b9f6f47892c0": {
          "model_module": "@jupyter-widgets/controls",
          "model_name": "HTMLModel",
          "model_module_version": "1.5.0",
          "state": {
            "_dom_classes": [],
            "_model_module": "@jupyter-widgets/controls",
            "_model_module_version": "1.5.0",
            "_model_name": "HTMLModel",
            "_view_count": null,
            "_view_module": "@jupyter-widgets/controls",
            "_view_module_version": "1.5.0",
            "_view_name": "HTMLView",
            "description": "",
            "description_tooltip": null,
            "layout": "IPY_MODEL_495cdcfcdf284c73b4f23bcf2f06e9f8",
            "placeholder": "​",
            "style": "IPY_MODEL_2fa85f80df3d4b079c25b4ce35b47307",
            "value": " 709/0 [00:00&lt;00:00, 5666.70 examples/s]"
          }
        },
        "bbcaa6e6f7ac46548bfcf5a175bed2fe": {
          "model_module": "@jupyter-widgets/base",
          "model_name": "LayoutModel",
          "model_module_version": "1.2.0",
          "state": {
            "_model_module": "@jupyter-widgets/base",
            "_model_module_version": "1.2.0",
            "_model_name": "LayoutModel",
            "_view_count": null,
            "_view_module": "@jupyter-widgets/base",
            "_view_module_version": "1.2.0",
            "_view_name": "LayoutView",
            "align_content": null,
            "align_items": null,
            "align_self": null,
            "border": null,
            "bottom": null,
            "display": null,
            "flex": null,
            "flex_flow": null,
            "grid_area": null,
            "grid_auto_columns": null,
            "grid_auto_flow": null,
            "grid_auto_rows": null,
            "grid_column": null,
            "grid_gap": null,
            "grid_row": null,
            "grid_template_areas": null,
            "grid_template_columns": null,
            "grid_template_rows": null,
            "height": null,
            "justify_content": null,
            "justify_items": null,
            "left": null,
            "margin": null,
            "max_height": null,
            "max_width": null,
            "min_height": null,
            "min_width": null,
            "object_fit": null,
            "object_position": null,
            "order": null,
            "overflow": null,
            "overflow_x": null,
            "overflow_y": null,
            "padding": null,
            "right": null,
            "top": null,
            "visibility": "hidden",
            "width": null
          }
        },
        "95b0fd882e404e1686aa82b0ca2eefa8": {
          "model_module": "@jupyter-widgets/base",
          "model_name": "LayoutModel",
          "model_module_version": "1.2.0",
          "state": {
            "_model_module": "@jupyter-widgets/base",
            "_model_module_version": "1.2.0",
            "_model_name": "LayoutModel",
            "_view_count": null,
            "_view_module": "@jupyter-widgets/base",
            "_view_module_version": "1.2.0",
            "_view_name": "LayoutView",
            "align_content": null,
            "align_items": null,
            "align_self": null,
            "border": null,
            "bottom": null,
            "display": null,
            "flex": null,
            "flex_flow": null,
            "grid_area": null,
            "grid_auto_columns": null,
            "grid_auto_flow": null,
            "grid_auto_rows": null,
            "grid_column": null,
            "grid_gap": null,
            "grid_row": null,
            "grid_template_areas": null,
            "grid_template_columns": null,
            "grid_template_rows": null,
            "height": null,
            "justify_content": null,
            "justify_items": null,
            "left": null,
            "margin": null,
            "max_height": null,
            "max_width": null,
            "min_height": null,
            "min_width": null,
            "object_fit": null,
            "object_position": null,
            "order": null,
            "overflow": null,
            "overflow_x": null,
            "overflow_y": null,
            "padding": null,
            "right": null,
            "top": null,
            "visibility": null,
            "width": null
          }
        },
        "2e7b471162344957ad723bfcacdba436": {
          "model_module": "@jupyter-widgets/controls",
          "model_name": "DescriptionStyleModel",
          "model_module_version": "1.5.0",
          "state": {
            "_model_module": "@jupyter-widgets/controls",
            "_model_module_version": "1.5.0",
            "_model_name": "DescriptionStyleModel",
            "_view_count": null,
            "_view_module": "@jupyter-widgets/base",
            "_view_module_version": "1.2.0",
            "_view_name": "StyleView",
            "description_width": ""
          }
        },
        "51d3b5427a944d1d8cffd37314d10790": {
          "model_module": "@jupyter-widgets/base",
          "model_name": "LayoutModel",
          "model_module_version": "1.2.0",
          "state": {
            "_model_module": "@jupyter-widgets/base",
            "_model_module_version": "1.2.0",
            "_model_name": "LayoutModel",
            "_view_count": null,
            "_view_module": "@jupyter-widgets/base",
            "_view_module_version": "1.2.0",
            "_view_name": "LayoutView",
            "align_content": null,
            "align_items": null,
            "align_self": null,
            "border": null,
            "bottom": null,
            "display": null,
            "flex": null,
            "flex_flow": null,
            "grid_area": null,
            "grid_auto_columns": null,
            "grid_auto_flow": null,
            "grid_auto_rows": null,
            "grid_column": null,
            "grid_gap": null,
            "grid_row": null,
            "grid_template_areas": null,
            "grid_template_columns": null,
            "grid_template_rows": null,
            "height": null,
            "justify_content": null,
            "justify_items": null,
            "left": null,
            "margin": null,
            "max_height": null,
            "max_width": null,
            "min_height": null,
            "min_width": null,
            "object_fit": null,
            "object_position": null,
            "order": null,
            "overflow": null,
            "overflow_x": null,
            "overflow_y": null,
            "padding": null,
            "right": null,
            "top": null,
            "visibility": null,
            "width": "20px"
          }
        },
        "60d43ea3e0a74f9eabea0cc1935efb4f": {
          "model_module": "@jupyter-widgets/controls",
          "model_name": "ProgressStyleModel",
          "model_module_version": "1.5.0",
          "state": {
            "_model_module": "@jupyter-widgets/controls",
            "_model_module_version": "1.5.0",
            "_model_name": "ProgressStyleModel",
            "_view_count": null,
            "_view_module": "@jupyter-widgets/base",
            "_view_module_version": "1.2.0",
            "_view_name": "StyleView",
            "bar_color": null,
            "description_width": ""
          }
        },
        "495cdcfcdf284c73b4f23bcf2f06e9f8": {
          "model_module": "@jupyter-widgets/base",
          "model_name": "LayoutModel",
          "model_module_version": "1.2.0",
          "state": {
            "_model_module": "@jupyter-widgets/base",
            "_model_module_version": "1.2.0",
            "_model_name": "LayoutModel",
            "_view_count": null,
            "_view_module": "@jupyter-widgets/base",
            "_view_module_version": "1.2.0",
            "_view_name": "LayoutView",
            "align_content": null,
            "align_items": null,
            "align_self": null,
            "border": null,
            "bottom": null,
            "display": null,
            "flex": null,
            "flex_flow": null,
            "grid_area": null,
            "grid_auto_columns": null,
            "grid_auto_flow": null,
            "grid_auto_rows": null,
            "grid_column": null,
            "grid_gap": null,
            "grid_row": null,
            "grid_template_areas": null,
            "grid_template_columns": null,
            "grid_template_rows": null,
            "height": null,
            "justify_content": null,
            "justify_items": null,
            "left": null,
            "margin": null,
            "max_height": null,
            "max_width": null,
            "min_height": null,
            "min_width": null,
            "object_fit": null,
            "object_position": null,
            "order": null,
            "overflow": null,
            "overflow_x": null,
            "overflow_y": null,
            "padding": null,
            "right": null,
            "top": null,
            "visibility": null,
            "width": null
          }
        },
        "2fa85f80df3d4b079c25b4ce35b47307": {
          "model_module": "@jupyter-widgets/controls",
          "model_name": "DescriptionStyleModel",
          "model_module_version": "1.5.0",
          "state": {
            "_model_module": "@jupyter-widgets/controls",
            "_model_module_version": "1.5.0",
            "_model_name": "DescriptionStyleModel",
            "_view_count": null,
            "_view_module": "@jupyter-widgets/base",
            "_view_module_version": "1.2.0",
            "_view_name": "StyleView",
            "description_width": ""
          }
        },
        "8f2f0994fba84058856d4904857574db": {
          "model_module": "@jupyter-widgets/controls",
          "model_name": "HBoxModel",
          "model_module_version": "1.5.0",
          "state": {
            "_dom_classes": [],
            "_model_module": "@jupyter-widgets/controls",
            "_model_module_version": "1.5.0",
            "_model_name": "HBoxModel",
            "_view_count": null,
            "_view_module": "@jupyter-widgets/controls",
            "_view_module_version": "1.5.0",
            "_view_name": "HBoxView",
            "box_style": "",
            "children": [
              "IPY_MODEL_c64fbd96354d428595e13368009da666",
              "IPY_MODEL_22661af46eb746ceb7c4249d0401e766",
              "IPY_MODEL_5c63a8b77b504ab29483baf59a230a51"
            ],
            "layout": "IPY_MODEL_c161dc84cf294b0e913f3ab4184cc9e8"
          }
        },
        "c64fbd96354d428595e13368009da666": {
          "model_module": "@jupyter-widgets/controls",
          "model_name": "HTMLModel",
          "model_module_version": "1.5.0",
          "state": {
            "_dom_classes": [],
            "_model_module": "@jupyter-widgets/controls",
            "_model_module_version": "1.5.0",
            "_model_name": "HTMLModel",
            "_view_count": null,
            "_view_module": "@jupyter-widgets/controls",
            "_view_module_version": "1.5.0",
            "_view_name": "HTMLView",
            "description": "",
            "description_tooltip": null,
            "layout": "IPY_MODEL_7be49c86c6e64d41a88a7ce67279b558",
            "placeholder": "​",
            "style": "IPY_MODEL_5725040b3b444f50b8863094f040146d",
            "value": "Downloading (…)rocessor_config.json: 100%"
          }
        },
        "22661af46eb746ceb7c4249d0401e766": {
          "model_module": "@jupyter-widgets/controls",
          "model_name": "FloatProgressModel",
          "model_module_version": "1.5.0",
          "state": {
            "_dom_classes": [],
            "_model_module": "@jupyter-widgets/controls",
            "_model_module_version": "1.5.0",
            "_model_name": "FloatProgressModel",
            "_view_count": null,
            "_view_module": "@jupyter-widgets/controls",
            "_view_module_version": "1.5.0",
            "_view_name": "ProgressView",
            "bar_style": "success",
            "description": "",
            "description_tooltip": null,
            "layout": "IPY_MODEL_78f448b8c9994d37b22afd9790c38777",
            "max": 159,
            "min": 0,
            "orientation": "horizontal",
            "style": "IPY_MODEL_b45bc6283f234995bb985ab77a68f1f1",
            "value": 159
          }
        },
        "5c63a8b77b504ab29483baf59a230a51": {
          "model_module": "@jupyter-widgets/controls",
          "model_name": "HTMLModel",
          "model_module_version": "1.5.0",
          "state": {
            "_dom_classes": [],
            "_model_module": "@jupyter-widgets/controls",
            "_model_module_version": "1.5.0",
            "_model_name": "HTMLModel",
            "_view_count": null,
            "_view_module": "@jupyter-widgets/controls",
            "_view_module_version": "1.5.0",
            "_view_name": "HTMLView",
            "description": "",
            "description_tooltip": null,
            "layout": "IPY_MODEL_f841ce634bd344fa9c4cf340e8aab300",
            "placeholder": "​",
            "style": "IPY_MODEL_598c5d000f16468d906eb2a317a4861f",
            "value": " 159/159 [00:00&lt;00:00, 10.6kB/s]"
          }
        },
        "c161dc84cf294b0e913f3ab4184cc9e8": {
          "model_module": "@jupyter-widgets/base",
          "model_name": "LayoutModel",
          "model_module_version": "1.2.0",
          "state": {
            "_model_module": "@jupyter-widgets/base",
            "_model_module_version": "1.2.0",
            "_model_name": "LayoutModel",
            "_view_count": null,
            "_view_module": "@jupyter-widgets/base",
            "_view_module_version": "1.2.0",
            "_view_name": "LayoutView",
            "align_content": null,
            "align_items": null,
            "align_self": null,
            "border": null,
            "bottom": null,
            "display": null,
            "flex": null,
            "flex_flow": null,
            "grid_area": null,
            "grid_auto_columns": null,
            "grid_auto_flow": null,
            "grid_auto_rows": null,
            "grid_column": null,
            "grid_gap": null,
            "grid_row": null,
            "grid_template_areas": null,
            "grid_template_columns": null,
            "grid_template_rows": null,
            "height": null,
            "justify_content": null,
            "justify_items": null,
            "left": null,
            "margin": null,
            "max_height": null,
            "max_width": null,
            "min_height": null,
            "min_width": null,
            "object_fit": null,
            "object_position": null,
            "order": null,
            "overflow": null,
            "overflow_x": null,
            "overflow_y": null,
            "padding": null,
            "right": null,
            "top": null,
            "visibility": null,
            "width": null
          }
        },
        "7be49c86c6e64d41a88a7ce67279b558": {
          "model_module": "@jupyter-widgets/base",
          "model_name": "LayoutModel",
          "model_module_version": "1.2.0",
          "state": {
            "_model_module": "@jupyter-widgets/base",
            "_model_module_version": "1.2.0",
            "_model_name": "LayoutModel",
            "_view_count": null,
            "_view_module": "@jupyter-widgets/base",
            "_view_module_version": "1.2.0",
            "_view_name": "LayoutView",
            "align_content": null,
            "align_items": null,
            "align_self": null,
            "border": null,
            "bottom": null,
            "display": null,
            "flex": null,
            "flex_flow": null,
            "grid_area": null,
            "grid_auto_columns": null,
            "grid_auto_flow": null,
            "grid_auto_rows": null,
            "grid_column": null,
            "grid_gap": null,
            "grid_row": null,
            "grid_template_areas": null,
            "grid_template_columns": null,
            "grid_template_rows": null,
            "height": null,
            "justify_content": null,
            "justify_items": null,
            "left": null,
            "margin": null,
            "max_height": null,
            "max_width": null,
            "min_height": null,
            "min_width": null,
            "object_fit": null,
            "object_position": null,
            "order": null,
            "overflow": null,
            "overflow_x": null,
            "overflow_y": null,
            "padding": null,
            "right": null,
            "top": null,
            "visibility": null,
            "width": null
          }
        },
        "5725040b3b444f50b8863094f040146d": {
          "model_module": "@jupyter-widgets/controls",
          "model_name": "DescriptionStyleModel",
          "model_module_version": "1.5.0",
          "state": {
            "_model_module": "@jupyter-widgets/controls",
            "_model_module_version": "1.5.0",
            "_model_name": "DescriptionStyleModel",
            "_view_count": null,
            "_view_module": "@jupyter-widgets/base",
            "_view_module_version": "1.2.0",
            "_view_name": "StyleView",
            "description_width": ""
          }
        },
        "78f448b8c9994d37b22afd9790c38777": {
          "model_module": "@jupyter-widgets/base",
          "model_name": "LayoutModel",
          "model_module_version": "1.2.0",
          "state": {
            "_model_module": "@jupyter-widgets/base",
            "_model_module_version": "1.2.0",
            "_model_name": "LayoutModel",
            "_view_count": null,
            "_view_module": "@jupyter-widgets/base",
            "_view_module_version": "1.2.0",
            "_view_name": "LayoutView",
            "align_content": null,
            "align_items": null,
            "align_self": null,
            "border": null,
            "bottom": null,
            "display": null,
            "flex": null,
            "flex_flow": null,
            "grid_area": null,
            "grid_auto_columns": null,
            "grid_auto_flow": null,
            "grid_auto_rows": null,
            "grid_column": null,
            "grid_gap": null,
            "grid_row": null,
            "grid_template_areas": null,
            "grid_template_columns": null,
            "grid_template_rows": null,
            "height": null,
            "justify_content": null,
            "justify_items": null,
            "left": null,
            "margin": null,
            "max_height": null,
            "max_width": null,
            "min_height": null,
            "min_width": null,
            "object_fit": null,
            "object_position": null,
            "order": null,
            "overflow": null,
            "overflow_x": null,
            "overflow_y": null,
            "padding": null,
            "right": null,
            "top": null,
            "visibility": null,
            "width": null
          }
        },
        "b45bc6283f234995bb985ab77a68f1f1": {
          "model_module": "@jupyter-widgets/controls",
          "model_name": "ProgressStyleModel",
          "model_module_version": "1.5.0",
          "state": {
            "_model_module": "@jupyter-widgets/controls",
            "_model_module_version": "1.5.0",
            "_model_name": "ProgressStyleModel",
            "_view_count": null,
            "_view_module": "@jupyter-widgets/base",
            "_view_module_version": "1.2.0",
            "_view_name": "StyleView",
            "bar_color": null,
            "description_width": ""
          }
        },
        "f841ce634bd344fa9c4cf340e8aab300": {
          "model_module": "@jupyter-widgets/base",
          "model_name": "LayoutModel",
          "model_module_version": "1.2.0",
          "state": {
            "_model_module": "@jupyter-widgets/base",
            "_model_module_version": "1.2.0",
            "_model_name": "LayoutModel",
            "_view_count": null,
            "_view_module": "@jupyter-widgets/base",
            "_view_module_version": "1.2.0",
            "_view_name": "LayoutView",
            "align_content": null,
            "align_items": null,
            "align_self": null,
            "border": null,
            "bottom": null,
            "display": null,
            "flex": null,
            "flex_flow": null,
            "grid_area": null,
            "grid_auto_columns": null,
            "grid_auto_flow": null,
            "grid_auto_rows": null,
            "grid_column": null,
            "grid_gap": null,
            "grid_row": null,
            "grid_template_areas": null,
            "grid_template_columns": null,
            "grid_template_rows": null,
            "height": null,
            "justify_content": null,
            "justify_items": null,
            "left": null,
            "margin": null,
            "max_height": null,
            "max_width": null,
            "min_height": null,
            "min_width": null,
            "object_fit": null,
            "object_position": null,
            "order": null,
            "overflow": null,
            "overflow_x": null,
            "overflow_y": null,
            "padding": null,
            "right": null,
            "top": null,
            "visibility": null,
            "width": null
          }
        },
        "598c5d000f16468d906eb2a317a4861f": {
          "model_module": "@jupyter-widgets/controls",
          "model_name": "DescriptionStyleModel",
          "model_module_version": "1.5.0",
          "state": {
            "_model_module": "@jupyter-widgets/controls",
            "_model_module_version": "1.5.0",
            "_model_name": "DescriptionStyleModel",
            "_view_count": null,
            "_view_module": "@jupyter-widgets/base",
            "_view_module_version": "1.2.0",
            "_view_name": "StyleView",
            "description_width": ""
          }
        },
        "fab14e46fd764227af285eef9bcbc1c3": {
          "model_module": "@jupyter-widgets/controls",
          "model_name": "HBoxModel",
          "model_module_version": "1.5.0",
          "state": {
            "_dom_classes": [],
            "_model_module": "@jupyter-widgets/controls",
            "_model_module_version": "1.5.0",
            "_model_name": "HBoxModel",
            "_view_count": null,
            "_view_module": "@jupyter-widgets/controls",
            "_view_module_version": "1.5.0",
            "_view_name": "HBoxView",
            "box_style": "",
            "children": [
              "IPY_MODEL_2b5432f3277142e1b450bb21449aa331",
              "IPY_MODEL_93bfd0de44c249a88b53edcab622a69f",
              "IPY_MODEL_534fc18d205744e687a8bb2d77f42a8f"
            ],
            "layout": "IPY_MODEL_4e96c6212b6e4067a461c2ad46a0e1b1"
          }
        },
        "2b5432f3277142e1b450bb21449aa331": {
          "model_module": "@jupyter-widgets/controls",
          "model_name": "HTMLModel",
          "model_module_version": "1.5.0",
          "state": {
            "_dom_classes": [],
            "_model_module": "@jupyter-widgets/controls",
            "_model_module_version": "1.5.0",
            "_model_name": "HTMLModel",
            "_view_count": null,
            "_view_module": "@jupyter-widgets/controls",
            "_view_module_version": "1.5.0",
            "_view_name": "HTMLView",
            "description": "",
            "description_tooltip": null,
            "layout": "IPY_MODEL_39c4d8b12b204f9fa524619fe98977ec",
            "placeholder": "​",
            "style": "IPY_MODEL_70ec17bfe8224ba2a099743299f2a90b",
            "value": "Downloading (…)lve/main/config.json: 100%"
          }
        },
        "93bfd0de44c249a88b53edcab622a69f": {
          "model_module": "@jupyter-widgets/controls",
          "model_name": "FloatProgressModel",
          "model_module_version": "1.5.0",
          "state": {
            "_dom_classes": [],
            "_model_module": "@jupyter-widgets/controls",
            "_model_module_version": "1.5.0",
            "_model_name": "FloatProgressModel",
            "_view_count": null,
            "_view_module": "@jupyter-widgets/controls",
            "_view_module_version": "1.5.0",
            "_view_name": "ProgressView",
            "bar_style": "success",
            "description": "",
            "description_tooltip": null,
            "layout": "IPY_MODEL_dae0364885964221a13217595a9dfe95",
            "max": 1842,
            "min": 0,
            "orientation": "horizontal",
            "style": "IPY_MODEL_ac2905e49a5e4ab9b63646914c869981",
            "value": 1842
          }
        },
        "534fc18d205744e687a8bb2d77f42a8f": {
          "model_module": "@jupyter-widgets/controls",
          "model_name": "HTMLModel",
          "model_module_version": "1.5.0",
          "state": {
            "_dom_classes": [],
            "_model_module": "@jupyter-widgets/controls",
            "_model_module_version": "1.5.0",
            "_model_name": "HTMLModel",
            "_view_count": null,
            "_view_module": "@jupyter-widgets/controls",
            "_view_module_version": "1.5.0",
            "_view_name": "HTMLView",
            "description": "",
            "description_tooltip": null,
            "layout": "IPY_MODEL_33d57c66b6ae4df38500c58fddb17b01",
            "placeholder": "​",
            "style": "IPY_MODEL_856c86c86aa643f294009eaae230244c",
            "value": " 1.84k/1.84k [00:00&lt;00:00, 139kB/s]"
          }
        },
        "4e96c6212b6e4067a461c2ad46a0e1b1": {
          "model_module": "@jupyter-widgets/base",
          "model_name": "LayoutModel",
          "model_module_version": "1.2.0",
          "state": {
            "_model_module": "@jupyter-widgets/base",
            "_model_module_version": "1.2.0",
            "_model_name": "LayoutModel",
            "_view_count": null,
            "_view_module": "@jupyter-widgets/base",
            "_view_module_version": "1.2.0",
            "_view_name": "LayoutView",
            "align_content": null,
            "align_items": null,
            "align_self": null,
            "border": null,
            "bottom": null,
            "display": null,
            "flex": null,
            "flex_flow": null,
            "grid_area": null,
            "grid_auto_columns": null,
            "grid_auto_flow": null,
            "grid_auto_rows": null,
            "grid_column": null,
            "grid_gap": null,
            "grid_row": null,
            "grid_template_areas": null,
            "grid_template_columns": null,
            "grid_template_rows": null,
            "height": null,
            "justify_content": null,
            "justify_items": null,
            "left": null,
            "margin": null,
            "max_height": null,
            "max_width": null,
            "min_height": null,
            "min_width": null,
            "object_fit": null,
            "object_position": null,
            "order": null,
            "overflow": null,
            "overflow_x": null,
            "overflow_y": null,
            "padding": null,
            "right": null,
            "top": null,
            "visibility": null,
            "width": null
          }
        },
        "39c4d8b12b204f9fa524619fe98977ec": {
          "model_module": "@jupyter-widgets/base",
          "model_name": "LayoutModel",
          "model_module_version": "1.2.0",
          "state": {
            "_model_module": "@jupyter-widgets/base",
            "_model_module_version": "1.2.0",
            "_model_name": "LayoutModel",
            "_view_count": null,
            "_view_module": "@jupyter-widgets/base",
            "_view_module_version": "1.2.0",
            "_view_name": "LayoutView",
            "align_content": null,
            "align_items": null,
            "align_self": null,
            "border": null,
            "bottom": null,
            "display": null,
            "flex": null,
            "flex_flow": null,
            "grid_area": null,
            "grid_auto_columns": null,
            "grid_auto_flow": null,
            "grid_auto_rows": null,
            "grid_column": null,
            "grid_gap": null,
            "grid_row": null,
            "grid_template_areas": null,
            "grid_template_columns": null,
            "grid_template_rows": null,
            "height": null,
            "justify_content": null,
            "justify_items": null,
            "left": null,
            "margin": null,
            "max_height": null,
            "max_width": null,
            "min_height": null,
            "min_width": null,
            "object_fit": null,
            "object_position": null,
            "order": null,
            "overflow": null,
            "overflow_x": null,
            "overflow_y": null,
            "padding": null,
            "right": null,
            "top": null,
            "visibility": null,
            "width": null
          }
        },
        "70ec17bfe8224ba2a099743299f2a90b": {
          "model_module": "@jupyter-widgets/controls",
          "model_name": "DescriptionStyleModel",
          "model_module_version": "1.5.0",
          "state": {
            "_model_module": "@jupyter-widgets/controls",
            "_model_module_version": "1.5.0",
            "_model_name": "DescriptionStyleModel",
            "_view_count": null,
            "_view_module": "@jupyter-widgets/base",
            "_view_module_version": "1.2.0",
            "_view_name": "StyleView",
            "description_width": ""
          }
        },
        "dae0364885964221a13217595a9dfe95": {
          "model_module": "@jupyter-widgets/base",
          "model_name": "LayoutModel",
          "model_module_version": "1.2.0",
          "state": {
            "_model_module": "@jupyter-widgets/base",
            "_model_module_version": "1.2.0",
            "_model_name": "LayoutModel",
            "_view_count": null,
            "_view_module": "@jupyter-widgets/base",
            "_view_module_version": "1.2.0",
            "_view_name": "LayoutView",
            "align_content": null,
            "align_items": null,
            "align_self": null,
            "border": null,
            "bottom": null,
            "display": null,
            "flex": null,
            "flex_flow": null,
            "grid_area": null,
            "grid_auto_columns": null,
            "grid_auto_flow": null,
            "grid_auto_rows": null,
            "grid_column": null,
            "grid_gap": null,
            "grid_row": null,
            "grid_template_areas": null,
            "grid_template_columns": null,
            "grid_template_rows": null,
            "height": null,
            "justify_content": null,
            "justify_items": null,
            "left": null,
            "margin": null,
            "max_height": null,
            "max_width": null,
            "min_height": null,
            "min_width": null,
            "object_fit": null,
            "object_position": null,
            "order": null,
            "overflow": null,
            "overflow_x": null,
            "overflow_y": null,
            "padding": null,
            "right": null,
            "top": null,
            "visibility": null,
            "width": null
          }
        },
        "ac2905e49a5e4ab9b63646914c869981": {
          "model_module": "@jupyter-widgets/controls",
          "model_name": "ProgressStyleModel",
          "model_module_version": "1.5.0",
          "state": {
            "_model_module": "@jupyter-widgets/controls",
            "_model_module_version": "1.5.0",
            "_model_name": "ProgressStyleModel",
            "_view_count": null,
            "_view_module": "@jupyter-widgets/base",
            "_view_module_version": "1.2.0",
            "_view_name": "StyleView",
            "bar_color": null,
            "description_width": ""
          }
        },
        "33d57c66b6ae4df38500c58fddb17b01": {
          "model_module": "@jupyter-widgets/base",
          "model_name": "LayoutModel",
          "model_module_version": "1.2.0",
          "state": {
            "_model_module": "@jupyter-widgets/base",
            "_model_module_version": "1.2.0",
            "_model_name": "LayoutModel",
            "_view_count": null,
            "_view_module": "@jupyter-widgets/base",
            "_view_module_version": "1.2.0",
            "_view_name": "LayoutView",
            "align_content": null,
            "align_items": null,
            "align_self": null,
            "border": null,
            "bottom": null,
            "display": null,
            "flex": null,
            "flex_flow": null,
            "grid_area": null,
            "grid_auto_columns": null,
            "grid_auto_flow": null,
            "grid_auto_rows": null,
            "grid_column": null,
            "grid_gap": null,
            "grid_row": null,
            "grid_template_areas": null,
            "grid_template_columns": null,
            "grid_template_rows": null,
            "height": null,
            "justify_content": null,
            "justify_items": null,
            "left": null,
            "margin": null,
            "max_height": null,
            "max_width": null,
            "min_height": null,
            "min_width": null,
            "object_fit": null,
            "object_position": null,
            "order": null,
            "overflow": null,
            "overflow_x": null,
            "overflow_y": null,
            "padding": null,
            "right": null,
            "top": null,
            "visibility": null,
            "width": null
          }
        },
        "856c86c86aa643f294009eaae230244c": {
          "model_module": "@jupyter-widgets/controls",
          "model_name": "DescriptionStyleModel",
          "model_module_version": "1.5.0",
          "state": {
            "_model_module": "@jupyter-widgets/controls",
            "_model_module_version": "1.5.0",
            "_model_name": "DescriptionStyleModel",
            "_view_count": null,
            "_view_module": "@jupyter-widgets/base",
            "_view_module_version": "1.2.0",
            "_view_name": "StyleView",
            "description_width": ""
          }
        },
        "04bc779a640740d5a0dad019fd1b5145": {
          "model_module": "@jupyter-widgets/controls",
          "model_name": "HBoxModel",
          "model_module_version": "1.5.0",
          "state": {
            "_dom_classes": [],
            "_model_module": "@jupyter-widgets/controls",
            "_model_module_version": "1.5.0",
            "_model_name": "HBoxModel",
            "_view_count": null,
            "_view_module": "@jupyter-widgets/controls",
            "_view_module_version": "1.5.0",
            "_view_name": "HBoxView",
            "box_style": "",
            "children": [
              "IPY_MODEL_1978a88e7e794a04b4703f1374af6caf",
              "IPY_MODEL_47d83eb0ce4743ae8e2be93bdb6be4dd",
              "IPY_MODEL_e43be2008b794eeebc95496fcd5e7735"
            ],
            "layout": "IPY_MODEL_95914dc20a0144c4a3a878b7cd1c20e6"
          }
        },
        "1978a88e7e794a04b4703f1374af6caf": {
          "model_module": "@jupyter-widgets/controls",
          "model_name": "HTMLModel",
          "model_module_version": "1.5.0",
          "state": {
            "_dom_classes": [],
            "_model_module": "@jupyter-widgets/controls",
            "_model_module_version": "1.5.0",
            "_model_name": "HTMLModel",
            "_view_count": null,
            "_view_module": "@jupyter-widgets/controls",
            "_view_module_version": "1.5.0",
            "_view_name": "HTMLView",
            "description": "",
            "description_tooltip": null,
            "layout": "IPY_MODEL_a13b90cffc25487d8ff5c985a5984b3a",
            "placeholder": "​",
            "style": "IPY_MODEL_886b7e1746ec4bf08d4a43a9f27b8576",
            "value": "Map: 100%"
          }
        },
        "47d83eb0ce4743ae8e2be93bdb6be4dd": {
          "model_module": "@jupyter-widgets/controls",
          "model_name": "FloatProgressModel",
          "model_module_version": "1.5.0",
          "state": {
            "_dom_classes": [],
            "_model_module": "@jupyter-widgets/controls",
            "_model_module_version": "1.5.0",
            "_model_name": "FloatProgressModel",
            "_view_count": null,
            "_view_module": "@jupyter-widgets/controls",
            "_view_module_version": "1.5.0",
            "_view_name": "ProgressView",
            "bar_style": "",
            "description": "",
            "description_tooltip": null,
            "layout": "IPY_MODEL_f98a25936e6e403eaf729a71570106f1",
            "max": 700,
            "min": 0,
            "orientation": "horizontal",
            "style": "IPY_MODEL_bfa79688665c429d8245e935d3cfa3fd",
            "value": 700
          }
        },
        "e43be2008b794eeebc95496fcd5e7735": {
          "model_module": "@jupyter-widgets/controls",
          "model_name": "HTMLModel",
          "model_module_version": "1.5.0",
          "state": {
            "_dom_classes": [],
            "_model_module": "@jupyter-widgets/controls",
            "_model_module_version": "1.5.0",
            "_model_name": "HTMLModel",
            "_view_count": null,
            "_view_module": "@jupyter-widgets/controls",
            "_view_module_version": "1.5.0",
            "_view_name": "HTMLView",
            "description": "",
            "description_tooltip": null,
            "layout": "IPY_MODEL_3977ae47db57461e8c1a396ef4ff8525",
            "placeholder": "​",
            "style": "IPY_MODEL_4311a106ef05424e857606fcd541564f",
            "value": " 700/700 [00:09&lt;00:00, 76.09 examples/s]"
          }
        },
        "95914dc20a0144c4a3a878b7cd1c20e6": {
          "model_module": "@jupyter-widgets/base",
          "model_name": "LayoutModel",
          "model_module_version": "1.2.0",
          "state": {
            "_model_module": "@jupyter-widgets/base",
            "_model_module_version": "1.2.0",
            "_model_name": "LayoutModel",
            "_view_count": null,
            "_view_module": "@jupyter-widgets/base",
            "_view_module_version": "1.2.0",
            "_view_name": "LayoutView",
            "align_content": null,
            "align_items": null,
            "align_self": null,
            "border": null,
            "bottom": null,
            "display": null,
            "flex": null,
            "flex_flow": null,
            "grid_area": null,
            "grid_auto_columns": null,
            "grid_auto_flow": null,
            "grid_auto_rows": null,
            "grid_column": null,
            "grid_gap": null,
            "grid_row": null,
            "grid_template_areas": null,
            "grid_template_columns": null,
            "grid_template_rows": null,
            "height": null,
            "justify_content": null,
            "justify_items": null,
            "left": null,
            "margin": null,
            "max_height": null,
            "max_width": null,
            "min_height": null,
            "min_width": null,
            "object_fit": null,
            "object_position": null,
            "order": null,
            "overflow": null,
            "overflow_x": null,
            "overflow_y": null,
            "padding": null,
            "right": null,
            "top": null,
            "visibility": "hidden",
            "width": null
          }
        },
        "a13b90cffc25487d8ff5c985a5984b3a": {
          "model_module": "@jupyter-widgets/base",
          "model_name": "LayoutModel",
          "model_module_version": "1.2.0",
          "state": {
            "_model_module": "@jupyter-widgets/base",
            "_model_module_version": "1.2.0",
            "_model_name": "LayoutModel",
            "_view_count": null,
            "_view_module": "@jupyter-widgets/base",
            "_view_module_version": "1.2.0",
            "_view_name": "LayoutView",
            "align_content": null,
            "align_items": null,
            "align_self": null,
            "border": null,
            "bottom": null,
            "display": null,
            "flex": null,
            "flex_flow": null,
            "grid_area": null,
            "grid_auto_columns": null,
            "grid_auto_flow": null,
            "grid_auto_rows": null,
            "grid_column": null,
            "grid_gap": null,
            "grid_row": null,
            "grid_template_areas": null,
            "grid_template_columns": null,
            "grid_template_rows": null,
            "height": null,
            "justify_content": null,
            "justify_items": null,
            "left": null,
            "margin": null,
            "max_height": null,
            "max_width": null,
            "min_height": null,
            "min_width": null,
            "object_fit": null,
            "object_position": null,
            "order": null,
            "overflow": null,
            "overflow_x": null,
            "overflow_y": null,
            "padding": null,
            "right": null,
            "top": null,
            "visibility": null,
            "width": null
          }
        },
        "886b7e1746ec4bf08d4a43a9f27b8576": {
          "model_module": "@jupyter-widgets/controls",
          "model_name": "DescriptionStyleModel",
          "model_module_version": "1.5.0",
          "state": {
            "_model_module": "@jupyter-widgets/controls",
            "_model_module_version": "1.5.0",
            "_model_name": "DescriptionStyleModel",
            "_view_count": null,
            "_view_module": "@jupyter-widgets/base",
            "_view_module_version": "1.2.0",
            "_view_name": "StyleView",
            "description_width": ""
          }
        },
        "f98a25936e6e403eaf729a71570106f1": {
          "model_module": "@jupyter-widgets/base",
          "model_name": "LayoutModel",
          "model_module_version": "1.2.0",
          "state": {
            "_model_module": "@jupyter-widgets/base",
            "_model_module_version": "1.2.0",
            "_model_name": "LayoutModel",
            "_view_count": null,
            "_view_module": "@jupyter-widgets/base",
            "_view_module_version": "1.2.0",
            "_view_name": "LayoutView",
            "align_content": null,
            "align_items": null,
            "align_self": null,
            "border": null,
            "bottom": null,
            "display": null,
            "flex": null,
            "flex_flow": null,
            "grid_area": null,
            "grid_auto_columns": null,
            "grid_auto_flow": null,
            "grid_auto_rows": null,
            "grid_column": null,
            "grid_gap": null,
            "grid_row": null,
            "grid_template_areas": null,
            "grid_template_columns": null,
            "grid_template_rows": null,
            "height": null,
            "justify_content": null,
            "justify_items": null,
            "left": null,
            "margin": null,
            "max_height": null,
            "max_width": null,
            "min_height": null,
            "min_width": null,
            "object_fit": null,
            "object_position": null,
            "order": null,
            "overflow": null,
            "overflow_x": null,
            "overflow_y": null,
            "padding": null,
            "right": null,
            "top": null,
            "visibility": null,
            "width": null
          }
        },
        "bfa79688665c429d8245e935d3cfa3fd": {
          "model_module": "@jupyter-widgets/controls",
          "model_name": "ProgressStyleModel",
          "model_module_version": "1.5.0",
          "state": {
            "_model_module": "@jupyter-widgets/controls",
            "_model_module_version": "1.5.0",
            "_model_name": "ProgressStyleModel",
            "_view_count": null,
            "_view_module": "@jupyter-widgets/base",
            "_view_module_version": "1.2.0",
            "_view_name": "StyleView",
            "bar_color": null,
            "description_width": ""
          }
        },
        "3977ae47db57461e8c1a396ef4ff8525": {
          "model_module": "@jupyter-widgets/base",
          "model_name": "LayoutModel",
          "model_module_version": "1.2.0",
          "state": {
            "_model_module": "@jupyter-widgets/base",
            "_model_module_version": "1.2.0",
            "_model_name": "LayoutModel",
            "_view_count": null,
            "_view_module": "@jupyter-widgets/base",
            "_view_module_version": "1.2.0",
            "_view_name": "LayoutView",
            "align_content": null,
            "align_items": null,
            "align_self": null,
            "border": null,
            "bottom": null,
            "display": null,
            "flex": null,
            "flex_flow": null,
            "grid_area": null,
            "grid_auto_columns": null,
            "grid_auto_flow": null,
            "grid_auto_rows": null,
            "grid_column": null,
            "grid_gap": null,
            "grid_row": null,
            "grid_template_areas": null,
            "grid_template_columns": null,
            "grid_template_rows": null,
            "height": null,
            "justify_content": null,
            "justify_items": null,
            "left": null,
            "margin": null,
            "max_height": null,
            "max_width": null,
            "min_height": null,
            "min_width": null,
            "object_fit": null,
            "object_position": null,
            "order": null,
            "overflow": null,
            "overflow_x": null,
            "overflow_y": null,
            "padding": null,
            "right": null,
            "top": null,
            "visibility": null,
            "width": null
          }
        },
        "4311a106ef05424e857606fcd541564f": {
          "model_module": "@jupyter-widgets/controls",
          "model_name": "DescriptionStyleModel",
          "model_module_version": "1.5.0",
          "state": {
            "_model_module": "@jupyter-widgets/controls",
            "_model_module_version": "1.5.0",
            "_model_name": "DescriptionStyleModel",
            "_view_count": null,
            "_view_module": "@jupyter-widgets/base",
            "_view_module_version": "1.2.0",
            "_view_name": "StyleView",
            "description_width": ""
          }
        },
        "13a695f2f4d54cdcb2142d182d4179c0": {
          "model_module": "@jupyter-widgets/controls",
          "model_name": "HBoxModel",
          "model_module_version": "1.5.0",
          "state": {
            "_dom_classes": [],
            "_model_module": "@jupyter-widgets/controls",
            "_model_module_version": "1.5.0",
            "_model_name": "HBoxModel",
            "_view_count": null,
            "_view_module": "@jupyter-widgets/controls",
            "_view_module_version": "1.5.0",
            "_view_name": "HBoxView",
            "box_style": "",
            "children": [
              "IPY_MODEL_8bbab2f274ea4c8ca4d86cfda3a2fada",
              "IPY_MODEL_57fb145cb4d14d35a1f45338f9d140e2",
              "IPY_MODEL_cfc740281d3140e28304f9f4a572735a"
            ],
            "layout": "IPY_MODEL_793fcc6610ef4721bf6705a171737fb3"
          }
        },
        "8bbab2f274ea4c8ca4d86cfda3a2fada": {
          "model_module": "@jupyter-widgets/controls",
          "model_name": "HTMLModel",
          "model_module_version": "1.5.0",
          "state": {
            "_dom_classes": [],
            "_model_module": "@jupyter-widgets/controls",
            "_model_module_version": "1.5.0",
            "_model_name": "HTMLModel",
            "_view_count": null,
            "_view_module": "@jupyter-widgets/controls",
            "_view_module_version": "1.5.0",
            "_view_name": "HTMLView",
            "description": "",
            "description_tooltip": null,
            "layout": "IPY_MODEL_716f8beb90914f80aa333bc0fc6b4291",
            "placeholder": "​",
            "style": "IPY_MODEL_6afcb9f2b9b5423caca00e483b138a19",
            "value": "Map: 100%"
          }
        },
        "57fb145cb4d14d35a1f45338f9d140e2": {
          "model_module": "@jupyter-widgets/controls",
          "model_name": "FloatProgressModel",
          "model_module_version": "1.5.0",
          "state": {
            "_dom_classes": [],
            "_model_module": "@jupyter-widgets/controls",
            "_model_module_version": "1.5.0",
            "_model_name": "FloatProgressModel",
            "_view_count": null,
            "_view_module": "@jupyter-widgets/controls",
            "_view_module_version": "1.5.0",
            "_view_name": "ProgressView",
            "bar_style": "",
            "description": "",
            "description_tooltip": null,
            "layout": "IPY_MODEL_e39cd7ad4871498cb7d198c6ea97aeb3",
            "max": 175,
            "min": 0,
            "orientation": "horizontal",
            "style": "IPY_MODEL_37771b10251d4ef1bf27a18e054d231f",
            "value": 175
          }
        },
        "cfc740281d3140e28304f9f4a572735a": {
          "model_module": "@jupyter-widgets/controls",
          "model_name": "HTMLModel",
          "model_module_version": "1.5.0",
          "state": {
            "_dom_classes": [],
            "_model_module": "@jupyter-widgets/controls",
            "_model_module_version": "1.5.0",
            "_model_name": "HTMLModel",
            "_view_count": null,
            "_view_module": "@jupyter-widgets/controls",
            "_view_module_version": "1.5.0",
            "_view_name": "HTMLView",
            "description": "",
            "description_tooltip": null,
            "layout": "IPY_MODEL_9077ac3a2a714667a7a91e40e1f42666",
            "placeholder": "​",
            "style": "IPY_MODEL_e56dd05efd9e41ff9a3d7391f3d15a1c",
            "value": " 175/175 [00:00&lt;00:00, 367.36 examples/s]"
          }
        },
        "793fcc6610ef4721bf6705a171737fb3": {
          "model_module": "@jupyter-widgets/base",
          "model_name": "LayoutModel",
          "model_module_version": "1.2.0",
          "state": {
            "_model_module": "@jupyter-widgets/base",
            "_model_module_version": "1.2.0",
            "_model_name": "LayoutModel",
            "_view_count": null,
            "_view_module": "@jupyter-widgets/base",
            "_view_module_version": "1.2.0",
            "_view_name": "LayoutView",
            "align_content": null,
            "align_items": null,
            "align_self": null,
            "border": null,
            "bottom": null,
            "display": null,
            "flex": null,
            "flex_flow": null,
            "grid_area": null,
            "grid_auto_columns": null,
            "grid_auto_flow": null,
            "grid_auto_rows": null,
            "grid_column": null,
            "grid_gap": null,
            "grid_row": null,
            "grid_template_areas": null,
            "grid_template_columns": null,
            "grid_template_rows": null,
            "height": null,
            "justify_content": null,
            "justify_items": null,
            "left": null,
            "margin": null,
            "max_height": null,
            "max_width": null,
            "min_height": null,
            "min_width": null,
            "object_fit": null,
            "object_position": null,
            "order": null,
            "overflow": null,
            "overflow_x": null,
            "overflow_y": null,
            "padding": null,
            "right": null,
            "top": null,
            "visibility": "hidden",
            "width": null
          }
        },
        "716f8beb90914f80aa333bc0fc6b4291": {
          "model_module": "@jupyter-widgets/base",
          "model_name": "LayoutModel",
          "model_module_version": "1.2.0",
          "state": {
            "_model_module": "@jupyter-widgets/base",
            "_model_module_version": "1.2.0",
            "_model_name": "LayoutModel",
            "_view_count": null,
            "_view_module": "@jupyter-widgets/base",
            "_view_module_version": "1.2.0",
            "_view_name": "LayoutView",
            "align_content": null,
            "align_items": null,
            "align_self": null,
            "border": null,
            "bottom": null,
            "display": null,
            "flex": null,
            "flex_flow": null,
            "grid_area": null,
            "grid_auto_columns": null,
            "grid_auto_flow": null,
            "grid_auto_rows": null,
            "grid_column": null,
            "grid_gap": null,
            "grid_row": null,
            "grid_template_areas": null,
            "grid_template_columns": null,
            "grid_template_rows": null,
            "height": null,
            "justify_content": null,
            "justify_items": null,
            "left": null,
            "margin": null,
            "max_height": null,
            "max_width": null,
            "min_height": null,
            "min_width": null,
            "object_fit": null,
            "object_position": null,
            "order": null,
            "overflow": null,
            "overflow_x": null,
            "overflow_y": null,
            "padding": null,
            "right": null,
            "top": null,
            "visibility": null,
            "width": null
          }
        },
        "6afcb9f2b9b5423caca00e483b138a19": {
          "model_module": "@jupyter-widgets/controls",
          "model_name": "DescriptionStyleModel",
          "model_module_version": "1.5.0",
          "state": {
            "_model_module": "@jupyter-widgets/controls",
            "_model_module_version": "1.5.0",
            "_model_name": "DescriptionStyleModel",
            "_view_count": null,
            "_view_module": "@jupyter-widgets/base",
            "_view_module_version": "1.2.0",
            "_view_name": "StyleView",
            "description_width": ""
          }
        },
        "e39cd7ad4871498cb7d198c6ea97aeb3": {
          "model_module": "@jupyter-widgets/base",
          "model_name": "LayoutModel",
          "model_module_version": "1.2.0",
          "state": {
            "_model_module": "@jupyter-widgets/base",
            "_model_module_version": "1.2.0",
            "_model_name": "LayoutModel",
            "_view_count": null,
            "_view_module": "@jupyter-widgets/base",
            "_view_module_version": "1.2.0",
            "_view_name": "LayoutView",
            "align_content": null,
            "align_items": null,
            "align_self": null,
            "border": null,
            "bottom": null,
            "display": null,
            "flex": null,
            "flex_flow": null,
            "grid_area": null,
            "grid_auto_columns": null,
            "grid_auto_flow": null,
            "grid_auto_rows": null,
            "grid_column": null,
            "grid_gap": null,
            "grid_row": null,
            "grid_template_areas": null,
            "grid_template_columns": null,
            "grid_template_rows": null,
            "height": null,
            "justify_content": null,
            "justify_items": null,
            "left": null,
            "margin": null,
            "max_height": null,
            "max_width": null,
            "min_height": null,
            "min_width": null,
            "object_fit": null,
            "object_position": null,
            "order": null,
            "overflow": null,
            "overflow_x": null,
            "overflow_y": null,
            "padding": null,
            "right": null,
            "top": null,
            "visibility": null,
            "width": null
          }
        },
        "37771b10251d4ef1bf27a18e054d231f": {
          "model_module": "@jupyter-widgets/controls",
          "model_name": "ProgressStyleModel",
          "model_module_version": "1.5.0",
          "state": {
            "_model_module": "@jupyter-widgets/controls",
            "_model_module_version": "1.5.0",
            "_model_name": "ProgressStyleModel",
            "_view_count": null,
            "_view_module": "@jupyter-widgets/base",
            "_view_module_version": "1.2.0",
            "_view_name": "StyleView",
            "bar_color": null,
            "description_width": ""
          }
        },
        "9077ac3a2a714667a7a91e40e1f42666": {
          "model_module": "@jupyter-widgets/base",
          "model_name": "LayoutModel",
          "model_module_version": "1.2.0",
          "state": {
            "_model_module": "@jupyter-widgets/base",
            "_model_module_version": "1.2.0",
            "_model_name": "LayoutModel",
            "_view_count": null,
            "_view_module": "@jupyter-widgets/base",
            "_view_module_version": "1.2.0",
            "_view_name": "LayoutView",
            "align_content": null,
            "align_items": null,
            "align_self": null,
            "border": null,
            "bottom": null,
            "display": null,
            "flex": null,
            "flex_flow": null,
            "grid_area": null,
            "grid_auto_columns": null,
            "grid_auto_flow": null,
            "grid_auto_rows": null,
            "grid_column": null,
            "grid_gap": null,
            "grid_row": null,
            "grid_template_areas": null,
            "grid_template_columns": null,
            "grid_template_rows": null,
            "height": null,
            "justify_content": null,
            "justify_items": null,
            "left": null,
            "margin": null,
            "max_height": null,
            "max_width": null,
            "min_height": null,
            "min_width": null,
            "object_fit": null,
            "object_position": null,
            "order": null,
            "overflow": null,
            "overflow_x": null,
            "overflow_y": null,
            "padding": null,
            "right": null,
            "top": null,
            "visibility": null,
            "width": null
          }
        },
        "e56dd05efd9e41ff9a3d7391f3d15a1c": {
          "model_module": "@jupyter-widgets/controls",
          "model_name": "DescriptionStyleModel",
          "model_module_version": "1.5.0",
          "state": {
            "_model_module": "@jupyter-widgets/controls",
            "_model_module_version": "1.5.0",
            "_model_name": "DescriptionStyleModel",
            "_view_count": null,
            "_view_module": "@jupyter-widgets/base",
            "_view_module_version": "1.2.0",
            "_view_name": "StyleView",
            "description_width": ""
          }
        },
        "4a2926d029c64cd5acd5f55b6b790d09": {
          "model_module": "@jupyter-widgets/controls",
          "model_name": "HBoxModel",
          "model_module_version": "1.5.0",
          "state": {
            "_dom_classes": [],
            "_model_module": "@jupyter-widgets/controls",
            "_model_module_version": "1.5.0",
            "_model_name": "HBoxModel",
            "_view_count": null,
            "_view_module": "@jupyter-widgets/controls",
            "_view_module_version": "1.5.0",
            "_view_name": "HBoxView",
            "box_style": "",
            "children": [
              "IPY_MODEL_93689029d37c46c5bbbbadc8ea7fae2c",
              "IPY_MODEL_97e216a058fd497aa9b4ed182638d6ae",
              "IPY_MODEL_89511f66699849f497f3f0a08d318aa6"
            ],
            "layout": "IPY_MODEL_256e86fa018548cc9066cdd75066a649"
          }
        },
        "93689029d37c46c5bbbbadc8ea7fae2c": {
          "model_module": "@jupyter-widgets/controls",
          "model_name": "HTMLModel",
          "model_module_version": "1.5.0",
          "state": {
            "_dom_classes": [],
            "_model_module": "@jupyter-widgets/controls",
            "_model_module_version": "1.5.0",
            "_model_name": "HTMLModel",
            "_view_count": null,
            "_view_module": "@jupyter-widgets/controls",
            "_view_module_version": "1.5.0",
            "_view_name": "HTMLView",
            "description": "",
            "description_tooltip": null,
            "layout": "IPY_MODEL_b3456b8b97154f83af8ce793980abc65",
            "placeholder": "​",
            "style": "IPY_MODEL_179a7547845d4ed0a3b941db5769f52f",
            "value": "Downloading pytorch_model.bin: 100%"
          }
        },
        "97e216a058fd497aa9b4ed182638d6ae": {
          "model_module": "@jupyter-widgets/controls",
          "model_name": "FloatProgressModel",
          "model_module_version": "1.5.0",
          "state": {
            "_dom_classes": [],
            "_model_module": "@jupyter-widgets/controls",
            "_model_module_version": "1.5.0",
            "_model_name": "FloatProgressModel",
            "_view_count": null,
            "_view_module": "@jupyter-widgets/controls",
            "_view_module_version": "1.5.0",
            "_view_name": "ProgressView",
            "bar_style": "success",
            "description": "",
            "description_tooltip": null,
            "layout": "IPY_MODEL_42a059a7f00f4c02983af669d681bb50",
            "max": 380267417,
            "min": 0,
            "orientation": "horizontal",
            "style": "IPY_MODEL_f9925bea86554a2fad0338f57da70426",
            "value": 380267417
          }
        },
        "89511f66699849f497f3f0a08d318aa6": {
          "model_module": "@jupyter-widgets/controls",
          "model_name": "HTMLModel",
          "model_module_version": "1.5.0",
          "state": {
            "_dom_classes": [],
            "_model_module": "@jupyter-widgets/controls",
            "_model_module_version": "1.5.0",
            "_model_name": "HTMLModel",
            "_view_count": null,
            "_view_module": "@jupyter-widgets/controls",
            "_view_module_version": "1.5.0",
            "_view_name": "HTMLView",
            "description": "",
            "description_tooltip": null,
            "layout": "IPY_MODEL_c5f10618555b4b3ebd117a99603c8eb3",
            "placeholder": "​",
            "style": "IPY_MODEL_40fa7e8761fa4332a9c263c2e6c41dbd",
            "value": " 380M/380M [00:01&lt;00:00, 392MB/s]"
          }
        },
        "256e86fa018548cc9066cdd75066a649": {
          "model_module": "@jupyter-widgets/base",
          "model_name": "LayoutModel",
          "model_module_version": "1.2.0",
          "state": {
            "_model_module": "@jupyter-widgets/base",
            "_model_module_version": "1.2.0",
            "_model_name": "LayoutModel",
            "_view_count": null,
            "_view_module": "@jupyter-widgets/base",
            "_view_module_version": "1.2.0",
            "_view_name": "LayoutView",
            "align_content": null,
            "align_items": null,
            "align_self": null,
            "border": null,
            "bottom": null,
            "display": null,
            "flex": null,
            "flex_flow": null,
            "grid_area": null,
            "grid_auto_columns": null,
            "grid_auto_flow": null,
            "grid_auto_rows": null,
            "grid_column": null,
            "grid_gap": null,
            "grid_row": null,
            "grid_template_areas": null,
            "grid_template_columns": null,
            "grid_template_rows": null,
            "height": null,
            "justify_content": null,
            "justify_items": null,
            "left": null,
            "margin": null,
            "max_height": null,
            "max_width": null,
            "min_height": null,
            "min_width": null,
            "object_fit": null,
            "object_position": null,
            "order": null,
            "overflow": null,
            "overflow_x": null,
            "overflow_y": null,
            "padding": null,
            "right": null,
            "top": null,
            "visibility": null,
            "width": null
          }
        },
        "b3456b8b97154f83af8ce793980abc65": {
          "model_module": "@jupyter-widgets/base",
          "model_name": "LayoutModel",
          "model_module_version": "1.2.0",
          "state": {
            "_model_module": "@jupyter-widgets/base",
            "_model_module_version": "1.2.0",
            "_model_name": "LayoutModel",
            "_view_count": null,
            "_view_module": "@jupyter-widgets/base",
            "_view_module_version": "1.2.0",
            "_view_name": "LayoutView",
            "align_content": null,
            "align_items": null,
            "align_self": null,
            "border": null,
            "bottom": null,
            "display": null,
            "flex": null,
            "flex_flow": null,
            "grid_area": null,
            "grid_auto_columns": null,
            "grid_auto_flow": null,
            "grid_auto_rows": null,
            "grid_column": null,
            "grid_gap": null,
            "grid_row": null,
            "grid_template_areas": null,
            "grid_template_columns": null,
            "grid_template_rows": null,
            "height": null,
            "justify_content": null,
            "justify_items": null,
            "left": null,
            "margin": null,
            "max_height": null,
            "max_width": null,
            "min_height": null,
            "min_width": null,
            "object_fit": null,
            "object_position": null,
            "order": null,
            "overflow": null,
            "overflow_x": null,
            "overflow_y": null,
            "padding": null,
            "right": null,
            "top": null,
            "visibility": null,
            "width": null
          }
        },
        "179a7547845d4ed0a3b941db5769f52f": {
          "model_module": "@jupyter-widgets/controls",
          "model_name": "DescriptionStyleModel",
          "model_module_version": "1.5.0",
          "state": {
            "_model_module": "@jupyter-widgets/controls",
            "_model_module_version": "1.5.0",
            "_model_name": "DescriptionStyleModel",
            "_view_count": null,
            "_view_module": "@jupyter-widgets/base",
            "_view_module_version": "1.2.0",
            "_view_name": "StyleView",
            "description_width": ""
          }
        },
        "42a059a7f00f4c02983af669d681bb50": {
          "model_module": "@jupyter-widgets/base",
          "model_name": "LayoutModel",
          "model_module_version": "1.2.0",
          "state": {
            "_model_module": "@jupyter-widgets/base",
            "_model_module_version": "1.2.0",
            "_model_name": "LayoutModel",
            "_view_count": null,
            "_view_module": "@jupyter-widgets/base",
            "_view_module_version": "1.2.0",
            "_view_name": "LayoutView",
            "align_content": null,
            "align_items": null,
            "align_self": null,
            "border": null,
            "bottom": null,
            "display": null,
            "flex": null,
            "flex_flow": null,
            "grid_area": null,
            "grid_auto_columns": null,
            "grid_auto_flow": null,
            "grid_auto_rows": null,
            "grid_column": null,
            "grid_gap": null,
            "grid_row": null,
            "grid_template_areas": null,
            "grid_template_columns": null,
            "grid_template_rows": null,
            "height": null,
            "justify_content": null,
            "justify_items": null,
            "left": null,
            "margin": null,
            "max_height": null,
            "max_width": null,
            "min_height": null,
            "min_width": null,
            "object_fit": null,
            "object_position": null,
            "order": null,
            "overflow": null,
            "overflow_x": null,
            "overflow_y": null,
            "padding": null,
            "right": null,
            "top": null,
            "visibility": null,
            "width": null
          }
        },
        "f9925bea86554a2fad0338f57da70426": {
          "model_module": "@jupyter-widgets/controls",
          "model_name": "ProgressStyleModel",
          "model_module_version": "1.5.0",
          "state": {
            "_model_module": "@jupyter-widgets/controls",
            "_model_module_version": "1.5.0",
            "_model_name": "ProgressStyleModel",
            "_view_count": null,
            "_view_module": "@jupyter-widgets/base",
            "_view_module_version": "1.2.0",
            "_view_name": "StyleView",
            "bar_color": null,
            "description_width": ""
          }
        },
        "c5f10618555b4b3ebd117a99603c8eb3": {
          "model_module": "@jupyter-widgets/base",
          "model_name": "LayoutModel",
          "model_module_version": "1.2.0",
          "state": {
            "_model_module": "@jupyter-widgets/base",
            "_model_module_version": "1.2.0",
            "_model_name": "LayoutModel",
            "_view_count": null,
            "_view_module": "@jupyter-widgets/base",
            "_view_module_version": "1.2.0",
            "_view_name": "LayoutView",
            "align_content": null,
            "align_items": null,
            "align_self": null,
            "border": null,
            "bottom": null,
            "display": null,
            "flex": null,
            "flex_flow": null,
            "grid_area": null,
            "grid_auto_columns": null,
            "grid_auto_flow": null,
            "grid_auto_rows": null,
            "grid_column": null,
            "grid_gap": null,
            "grid_row": null,
            "grid_template_areas": null,
            "grid_template_columns": null,
            "grid_template_rows": null,
            "height": null,
            "justify_content": null,
            "justify_items": null,
            "left": null,
            "margin": null,
            "max_height": null,
            "max_width": null,
            "min_height": null,
            "min_width": null,
            "object_fit": null,
            "object_position": null,
            "order": null,
            "overflow": null,
            "overflow_x": null,
            "overflow_y": null,
            "padding": null,
            "right": null,
            "top": null,
            "visibility": null,
            "width": null
          }
        },
        "40fa7e8761fa4332a9c263c2e6c41dbd": {
          "model_module": "@jupyter-widgets/controls",
          "model_name": "DescriptionStyleModel",
          "model_module_version": "1.5.0",
          "state": {
            "_model_module": "@jupyter-widgets/controls",
            "_model_module_version": "1.5.0",
            "_model_name": "DescriptionStyleModel",
            "_view_count": null,
            "_view_module": "@jupyter-widgets/base",
            "_view_module_version": "1.2.0",
            "_view_name": "StyleView",
            "description_width": ""
          }
        },
        "cf3806606a494b0c807066e9b24d7407": {
          "model_module": "@jupyter-widgets/controls",
          "model_name": "HBoxModel",
          "model_module_version": "1.5.0",
          "state": {
            "_dom_classes": [],
            "_model_module": "@jupyter-widgets/controls",
            "_model_module_version": "1.5.0",
            "_model_name": "HBoxModel",
            "_view_count": null,
            "_view_module": "@jupyter-widgets/controls",
            "_view_module_version": "1.5.0",
            "_view_name": "HBoxView",
            "box_style": "",
            "children": [
              "IPY_MODEL_53fb9f9e7d014369a491a89fb20e6238",
              "IPY_MODEL_e00b3b5f8721456caf573aad7554fc74",
              "IPY_MODEL_5b338417930a44b0b01b2ba370d17b44"
            ],
            "layout": "IPY_MODEL_fb5030ccbf024c06b68d83d3451f86d7"
          }
        },
        "53fb9f9e7d014369a491a89fb20e6238": {
          "model_module": "@jupyter-widgets/controls",
          "model_name": "HTMLModel",
          "model_module_version": "1.5.0",
          "state": {
            "_dom_classes": [],
            "_model_module": "@jupyter-widgets/controls",
            "_model_module_version": "1.5.0",
            "_model_name": "HTMLModel",
            "_view_count": null,
            "_view_module": "@jupyter-widgets/controls",
            "_view_module_version": "1.5.0",
            "_view_name": "HTMLView",
            "description": "",
            "description_tooltip": null,
            "layout": "IPY_MODEL_cdcec3651adb4d79abd7e541c8ed2896",
            "placeholder": "​",
            "style": "IPY_MODEL_6a68398cb8af41c8bedc8dff2479bf44",
            "value": "Downloading builder script: 100%"
          }
        },
        "e00b3b5f8721456caf573aad7554fc74": {
          "model_module": "@jupyter-widgets/controls",
          "model_name": "FloatProgressModel",
          "model_module_version": "1.5.0",
          "state": {
            "_dom_classes": [],
            "_model_module": "@jupyter-widgets/controls",
            "_model_module_version": "1.5.0",
            "_model_name": "FloatProgressModel",
            "_view_count": null,
            "_view_module": "@jupyter-widgets/controls",
            "_view_module_version": "1.5.0",
            "_view_name": "ProgressView",
            "bar_style": "success",
            "description": "",
            "description_tooltip": null,
            "layout": "IPY_MODEL_6822fb1895da40a7a5c32adc7040b6e6",
            "max": 4203,
            "min": 0,
            "orientation": "horizontal",
            "style": "IPY_MODEL_a0a0ab3706f646c0b9aa361cca0f6895",
            "value": 4203
          }
        },
        "5b338417930a44b0b01b2ba370d17b44": {
          "model_module": "@jupyter-widgets/controls",
          "model_name": "HTMLModel",
          "model_module_version": "1.5.0",
          "state": {
            "_dom_classes": [],
            "_model_module": "@jupyter-widgets/controls",
            "_model_module_version": "1.5.0",
            "_model_name": "HTMLModel",
            "_view_count": null,
            "_view_module": "@jupyter-widgets/controls",
            "_view_module_version": "1.5.0",
            "_view_name": "HTMLView",
            "description": "",
            "description_tooltip": null,
            "layout": "IPY_MODEL_842c615f2a054cf28fff0f4735bf5590",
            "placeholder": "​",
            "style": "IPY_MODEL_6bdae352efeb419faacae3847452a973",
            "value": " 4.20k/4.20k [00:00&lt;00:00, 175kB/s]"
          }
        },
        "fb5030ccbf024c06b68d83d3451f86d7": {
          "model_module": "@jupyter-widgets/base",
          "model_name": "LayoutModel",
          "model_module_version": "1.2.0",
          "state": {
            "_model_module": "@jupyter-widgets/base",
            "_model_module_version": "1.2.0",
            "_model_name": "LayoutModel",
            "_view_count": null,
            "_view_module": "@jupyter-widgets/base",
            "_view_module_version": "1.2.0",
            "_view_name": "LayoutView",
            "align_content": null,
            "align_items": null,
            "align_self": null,
            "border": null,
            "bottom": null,
            "display": null,
            "flex": null,
            "flex_flow": null,
            "grid_area": null,
            "grid_auto_columns": null,
            "grid_auto_flow": null,
            "grid_auto_rows": null,
            "grid_column": null,
            "grid_gap": null,
            "grid_row": null,
            "grid_template_areas": null,
            "grid_template_columns": null,
            "grid_template_rows": null,
            "height": null,
            "justify_content": null,
            "justify_items": null,
            "left": null,
            "margin": null,
            "max_height": null,
            "max_width": null,
            "min_height": null,
            "min_width": null,
            "object_fit": null,
            "object_position": null,
            "order": null,
            "overflow": null,
            "overflow_x": null,
            "overflow_y": null,
            "padding": null,
            "right": null,
            "top": null,
            "visibility": null,
            "width": null
          }
        },
        "cdcec3651adb4d79abd7e541c8ed2896": {
          "model_module": "@jupyter-widgets/base",
          "model_name": "LayoutModel",
          "model_module_version": "1.2.0",
          "state": {
            "_model_module": "@jupyter-widgets/base",
            "_model_module_version": "1.2.0",
            "_model_name": "LayoutModel",
            "_view_count": null,
            "_view_module": "@jupyter-widgets/base",
            "_view_module_version": "1.2.0",
            "_view_name": "LayoutView",
            "align_content": null,
            "align_items": null,
            "align_self": null,
            "border": null,
            "bottom": null,
            "display": null,
            "flex": null,
            "flex_flow": null,
            "grid_area": null,
            "grid_auto_columns": null,
            "grid_auto_flow": null,
            "grid_auto_rows": null,
            "grid_column": null,
            "grid_gap": null,
            "grid_row": null,
            "grid_template_areas": null,
            "grid_template_columns": null,
            "grid_template_rows": null,
            "height": null,
            "justify_content": null,
            "justify_items": null,
            "left": null,
            "margin": null,
            "max_height": null,
            "max_width": null,
            "min_height": null,
            "min_width": null,
            "object_fit": null,
            "object_position": null,
            "order": null,
            "overflow": null,
            "overflow_x": null,
            "overflow_y": null,
            "padding": null,
            "right": null,
            "top": null,
            "visibility": null,
            "width": null
          }
        },
        "6a68398cb8af41c8bedc8dff2479bf44": {
          "model_module": "@jupyter-widgets/controls",
          "model_name": "DescriptionStyleModel",
          "model_module_version": "1.5.0",
          "state": {
            "_model_module": "@jupyter-widgets/controls",
            "_model_module_version": "1.5.0",
            "_model_name": "DescriptionStyleModel",
            "_view_count": null,
            "_view_module": "@jupyter-widgets/base",
            "_view_module_version": "1.2.0",
            "_view_name": "StyleView",
            "description_width": ""
          }
        },
        "6822fb1895da40a7a5c32adc7040b6e6": {
          "model_module": "@jupyter-widgets/base",
          "model_name": "LayoutModel",
          "model_module_version": "1.2.0",
          "state": {
            "_model_module": "@jupyter-widgets/base",
            "_model_module_version": "1.2.0",
            "_model_name": "LayoutModel",
            "_view_count": null,
            "_view_module": "@jupyter-widgets/base",
            "_view_module_version": "1.2.0",
            "_view_name": "LayoutView",
            "align_content": null,
            "align_items": null,
            "align_self": null,
            "border": null,
            "bottom": null,
            "display": null,
            "flex": null,
            "flex_flow": null,
            "grid_area": null,
            "grid_auto_columns": null,
            "grid_auto_flow": null,
            "grid_auto_rows": null,
            "grid_column": null,
            "grid_gap": null,
            "grid_row": null,
            "grid_template_areas": null,
            "grid_template_columns": null,
            "grid_template_rows": null,
            "height": null,
            "justify_content": null,
            "justify_items": null,
            "left": null,
            "margin": null,
            "max_height": null,
            "max_width": null,
            "min_height": null,
            "min_width": null,
            "object_fit": null,
            "object_position": null,
            "order": null,
            "overflow": null,
            "overflow_x": null,
            "overflow_y": null,
            "padding": null,
            "right": null,
            "top": null,
            "visibility": null,
            "width": null
          }
        },
        "a0a0ab3706f646c0b9aa361cca0f6895": {
          "model_module": "@jupyter-widgets/controls",
          "model_name": "ProgressStyleModel",
          "model_module_version": "1.5.0",
          "state": {
            "_model_module": "@jupyter-widgets/controls",
            "_model_module_version": "1.5.0",
            "_model_name": "ProgressStyleModel",
            "_view_count": null,
            "_view_module": "@jupyter-widgets/base",
            "_view_module_version": "1.2.0",
            "_view_name": "StyleView",
            "bar_color": null,
            "description_width": ""
          }
        },
        "842c615f2a054cf28fff0f4735bf5590": {
          "model_module": "@jupyter-widgets/base",
          "model_name": "LayoutModel",
          "model_module_version": "1.2.0",
          "state": {
            "_model_module": "@jupyter-widgets/base",
            "_model_module_version": "1.2.0",
            "_model_name": "LayoutModel",
            "_view_count": null,
            "_view_module": "@jupyter-widgets/base",
            "_view_module_version": "1.2.0",
            "_view_name": "LayoutView",
            "align_content": null,
            "align_items": null,
            "align_self": null,
            "border": null,
            "bottom": null,
            "display": null,
            "flex": null,
            "flex_flow": null,
            "grid_area": null,
            "grid_auto_columns": null,
            "grid_auto_flow": null,
            "grid_auto_rows": null,
            "grid_column": null,
            "grid_gap": null,
            "grid_row": null,
            "grid_template_areas": null,
            "grid_template_columns": null,
            "grid_template_rows": null,
            "height": null,
            "justify_content": null,
            "justify_items": null,
            "left": null,
            "margin": null,
            "max_height": null,
            "max_width": null,
            "min_height": null,
            "min_width": null,
            "object_fit": null,
            "object_position": null,
            "order": null,
            "overflow": null,
            "overflow_x": null,
            "overflow_y": null,
            "padding": null,
            "right": null,
            "top": null,
            "visibility": null,
            "width": null
          }
        },
        "6bdae352efeb419faacae3847452a973": {
          "model_module": "@jupyter-widgets/controls",
          "model_name": "DescriptionStyleModel",
          "model_module_version": "1.5.0",
          "state": {
            "_model_module": "@jupyter-widgets/controls",
            "_model_module_version": "1.5.0",
            "_model_name": "DescriptionStyleModel",
            "_view_count": null,
            "_view_module": "@jupyter-widgets/base",
            "_view_module_version": "1.2.0",
            "_view_name": "StyleView",
            "description_width": ""
          }
        }
      }
    }
  },
  "cells": [
    {
      "cell_type": "markdown",
      "source": [
        "Clasificación de audio utilizando embeddings de Wav2vec\n",
        "=======================================================\n",
        "\n",
        "Wav2Vec2 fue propuesto en el paper [wav2vec 2.0: A Framework for Self-Supervised Learning of Speech Representations](https://arxiv.org/abs/2006.11477) por Alexei Baevski, Henry Zhou, Abdelrahman Mohamed, y Michael Auli."
      ],
      "metadata": {
        "id": "zgNwBDVUx3wT"
      }
    },
    {
      "cell_type": "markdown",
      "source": [
        "## Preparacion del ambiente\n",
        "\n",
        "Instalamos las librerias necesarias: `librosa`, `transformers`, `datasets`, `evaluate`."
      ],
      "metadata": {
        "id": "i3nEi92zIvW_"
      }
    },
    {
      "cell_type": "code",
      "source": [
        "%pip install transformers[torch] datasets accelerate evaluate --quiet"
      ],
      "metadata": {
        "colab": {
          "base_uri": "https://localhost:8080/"
        },
        "id": "rbwRPnQl0DkD",
        "outputId": "27f8ca40-15a0-45df-9615-f7b8afd15ec7"
      },
      "execution_count": 1,
      "outputs": [
        {
          "output_type": "stream",
          "name": "stdout",
          "text": [
            "\u001b[2K     \u001b[90m━━━━━━━━━━━━━━━━━━━━━━━━━━━━━━━━━━━━━━━━\u001b[0m \u001b[32m7.2/7.2 MB\u001b[0m \u001b[31m57.8 MB/s\u001b[0m eta \u001b[36m0:00:00\u001b[0m\n",
            "\u001b[2K     \u001b[90m━━━━━━━━━━━━━━━━━━━━━━━━━━━━━━━━━━━━━━\u001b[0m \u001b[32m486.2/486.2 kB\u001b[0m \u001b[31m34.8 MB/s\u001b[0m eta \u001b[36m0:00:00\u001b[0m\n",
            "\u001b[2K     \u001b[90m━━━━━━━━━━━━━━━━━━━━━━━━━━━━━━━━━━━━━━\u001b[0m \u001b[32m244.2/244.2 kB\u001b[0m \u001b[31m21.5 MB/s\u001b[0m eta \u001b[36m0:00:00\u001b[0m\n",
            "\u001b[2K     \u001b[90m━━━━━━━━━━━━━━━━━━━━━━━━━━━━━━━━━━━━━━━━\u001b[0m \u001b[32m81.4/81.4 kB\u001b[0m \u001b[31m9.8 MB/s\u001b[0m eta \u001b[36m0:00:00\u001b[0m\n",
            "\u001b[2K     \u001b[90m━━━━━━━━━━━━━━━━━━━━━━━━━━━━━━━━━━━━━━\u001b[0m \u001b[32m268.8/268.8 kB\u001b[0m \u001b[31m30.2 MB/s\u001b[0m eta \u001b[36m0:00:00\u001b[0m\n",
            "\u001b[2K     \u001b[90m━━━━━━━━━━━━━━━━━━━━━━━━━━━━━━━━━━━━━━━━\u001b[0m \u001b[32m7.8/7.8 MB\u001b[0m \u001b[31m79.9 MB/s\u001b[0m eta \u001b[36m0:00:00\u001b[0m\n",
            "\u001b[2K     \u001b[90m━━━━━━━━━━━━━━━━━━━━━━━━━━━━━━━━━━━━━━━━\u001b[0m \u001b[32m1.3/1.3 MB\u001b[0m \u001b[31m47.3 MB/s\u001b[0m eta \u001b[36m0:00:00\u001b[0m\n",
            "\u001b[2K     \u001b[90m━━━━━━━━━━━━━━━━━━━━━━━━━━━━━━━━━━━━━━\u001b[0m \u001b[32m110.5/110.5 kB\u001b[0m \u001b[31m15.2 MB/s\u001b[0m eta \u001b[36m0:00:00\u001b[0m\n",
            "\u001b[2K     \u001b[90m━━━━━━━━━━━━━━━━━━━━━━━━━━━━━━━━━━━━━━\u001b[0m \u001b[32m212.5/212.5 kB\u001b[0m \u001b[31m26.1 MB/s\u001b[0m eta \u001b[36m0:00:00\u001b[0m\n",
            "\u001b[2K     \u001b[90m━━━━━━━━━━━━━━━━━━━━━━━━━━━━━━━━━━━━━━\u001b[0m \u001b[32m134.3/134.3 kB\u001b[0m \u001b[31m18.2 MB/s\u001b[0m eta \u001b[36m0:00:00\u001b[0m\n",
            "\u001b[?25h"
          ]
        }
      ]
    },
    {
      "cell_type": "markdown",
      "source": [
        "Descargaremos un conjunto de datos de entrenamiento para clasificar sonidos de diferentes animales.\n",
        "\n",
        "> Nota: La siguiente celda realiza varias manipulaciones de directorios para que el nombre del directorio coincida con el nombre para mostrar de la clase."
      ],
      "metadata": {
        "id": "qbUuah52I8dN"
      }
    },
    {
      "cell_type": "code",
      "source": [
        "!git clone https://github.com/YashNita/Animal-Sound-Dataset\n",
        "!mv Animal-Sound-Dataset/Aslan Animal-Sound-Dataset/Leon\n",
        "!mv Animal-Sound-Dataset/Esek Animal-Sound-Dataset/Burro\n",
        "!mv Animal-Sound-Dataset/Inek Animal-Sound-Dataset/Vaca\n",
        "!mv Animal-Sound-Dataset/Kedi-Part1 Animal-Sound-Dataset/Gato\n",
        "!mv Animal-Sound-Dataset/Kedi-Part2/* Animal-Sound-Dataset/Gato\n",
        "!rm -d Animal-Sound-Dataset/Kedi-Part2\n",
        "!mv Animal-Sound-Dataset/Kopek-Part1 Animal-Sound-Dataset/Perro\n",
        "!mv Animal-Sound-Dataset/Kopek-Part2/* Animal-Sound-Dataset/Perro\n",
        "!rm -d Animal-Sound-Dataset/Kopek-Part2\n",
        "!mv Animal-Sound-Dataset/Koyun Animal-Sound-Dataset/Oveja\n",
        "!mv Animal-Sound-Dataset/Kus-Part1 Animal-Sound-Dataset/Pajaro\n",
        "!mv Animal-Sound-Dataset/Kus-Part2/* Animal-Sound-Dataset/Pajaro\n",
        "!rm -d Animal-Sound-Dataset/Kus-Part2\n",
        "!mv Animal-Sound-Dataset/Maymun Animal-Sound-Dataset/Mono\n",
        "!mv Animal-Sound-Dataset/Tavuk Animal-Sound-Dataset/Gallina\n",
        "!mv Animal-Sound-Dataset/Kurbaga Animal-Sound-Dataset/Rana"
      ],
      "metadata": {
        "id": "NEn9_5J1HzbC",
        "colab": {
          "base_uri": "https://localhost:8080/"
        },
        "outputId": "58890e03-79ac-47a7-eafb-dbdacf640f65"
      },
      "execution_count": 12,
      "outputs": [
        {
          "output_type": "stream",
          "name": "stdout",
          "text": [
            "Cloning into 'Animal-Sound-Dataset'...\n",
            "remote: Enumerating objects: 887, done.\u001b[K\n",
            "remote: Total 887 (delta 0), reused 0 (delta 0), pack-reused 887\u001b[K\n",
            "Receiving objects: 100% (887/887), 100.68 MiB | 16.56 MiB/s, done.\n",
            "Resolving deltas: 100% (69/69), done.\n",
            "Updating files: 100% (876/876), done.\n"
          ]
        }
      ]
    },
    {
      "cell_type": "markdown",
      "source": [
        "Este conjunto de datos dispone de sonidos de diferentes animales, donde el nombre del directorio corresponde al animal. Este tipo de conjuntos de datos se pueden cargar facilmente utilizando la libraría `datasets`:"
      ],
      "metadata": {
        "id": "GTKTBFDtLbSz"
      }
    },
    {
      "cell_type": "code",
      "source": [
        "from datasets import load_dataset, Audio\n",
        "\n",
        "dataset = load_dataset(\"audiofolder\", data_dir=\"/content/Animal-Sound-Dataset\", split='train')"
      ],
      "metadata": {
        "colab": {
          "base_uri": "https://localhost:8080/",
          "height": 201,
          "referenced_widgets": [
            "f18a96d0d2034e4688bffe2be7d47218",
            "c588b48f7dc747888fbb2dbc199b25ad",
            "f75691bd314d4ca5844dba093d89ca6c",
            "4fdedd66b41f4c71964f554aff01cfff",
            "b8b367ddd04f4b4798ad72f5fbdfd8aa",
            "bb5e62d09fd44cb7be301ea2fe248ca8",
            "06656befe4ab4f1ab10684964d53cfb3",
            "7998c389739348c7bf386edf26b94f65",
            "6340d2ceb13c42339e6713ab646d6d54",
            "e7f12c56b4264942815b2625deff5386",
            "022a02411941426190845651661d1af5",
            "950fca438ba740a89b6128c9ab1aa795",
            "1f1c83c63f7f40409ce373cf71cc4a0b",
            "6826a29b7f994cbd936650bf18b89a39",
            "e8ea3cce812246499b1944868b6d8037",
            "a23fad315ff2420a8d3f5f4b787116b0",
            "f61c19ee69374d5697a1fb6a503ee509",
            "d9fc169a34cb4bf1b7c42df9bbc86cd7",
            "15df7013247a4bee9f9e80fc97e94e22",
            "816af6705ae144738c42d4cfbdcc9d16",
            "2bbb892f18724162a5a3baf04dc9379c",
            "bc37d7e958624655a6b866206ef0e2cc",
            "0b0db8c0ec1d45688c4c408f561529a8",
            "0b25f3847b29482a96ddd11f6710d0f0",
            "2b2c0fea5c09423dadef3f18d8578bbb",
            "f323711db396455c92489db012fef5b3",
            "1f85afb615964379b09755bf1d07fbc1",
            "eb00629720584f36a46bd18cf544909e",
            "6c8b743ae0fe46feb9643141812dadfd",
            "928e3bb363e642a4b4c1dfb83ae27ad2",
            "5b89ef13f8bc46268d18ece3841edb5b",
            "1a01f4b88aa446de88f3029e0bdad175",
            "e5af2dcb10cc4536908c8bf645201235",
            "1adf7264688a47e4b8d884ed12dcb027",
            "01c592b4e69247bebe826e40fda787e8",
            "7a2f0615a2d64cca8353f2bd52a17768",
            "ae9adb6013c3490ab9d6d092a3e34282",
            "1b1dc0cd9b0046748ae7f1a0d4b146e1",
            "abd98ec8ca324786a667ef325f7500ce",
            "3fd5e3118f674ccf82c67e0ec225c9a3",
            "901b6a9b46ec4c5cb3852cfea1e10de3",
            "6ff903ef9e5b4f5db6d8de72019c821b",
            "7f1ec7fea8be481088e8fc95a74ed273",
            "ca769cd9a05c4a259c7b0958d2e1cbe2",
            "5386016b97e247e38b679290e2408ba3",
            "0003443d859445d9b85d0633416a8d65",
            "1f203afdc0514754b43ce32e48b3cd50",
            "c639257792d24e319ae8b9f6f47892c0",
            "bbcaa6e6f7ac46548bfcf5a175bed2fe",
            "95b0fd882e404e1686aa82b0ca2eefa8",
            "2e7b471162344957ad723bfcacdba436",
            "51d3b5427a944d1d8cffd37314d10790",
            "60d43ea3e0a74f9eabea0cc1935efb4f",
            "495cdcfcdf284c73b4f23bcf2f06e9f8",
            "2fa85f80df3d4b079c25b4ce35b47307"
          ]
        },
        "id": "GI1ZeDER0Oqs",
        "outputId": "ee278d03-44f6-4446-af76-b0f6541e114f"
      },
      "execution_count": 13,
      "outputs": [
        {
          "output_type": "display_data",
          "data": {
            "text/plain": [
              "Resolving data files:   0%|          | 0/875 [00:00<?, ?it/s]"
            ],
            "application/vnd.jupyter.widget-view+json": {
              "version_major": 2,
              "version_minor": 0,
              "model_id": "f18a96d0d2034e4688bffe2be7d47218"
            }
          },
          "metadata": {}
        },
        {
          "output_type": "stream",
          "name": "stdout",
          "text": [
            "Downloading and preparing dataset audiofolder/default to /root/.cache/huggingface/datasets/audiofolder/default-e50b2603353acda2/0.0.0/6cbdd16f8688354c63b4e2a36e1585d05de285023ee6443ffd71c4182055c0fc...\n"
          ]
        },
        {
          "output_type": "display_data",
          "data": {
            "text/plain": [
              "Downloading data files:   0%|          | 0/875 [00:00<?, ?it/s]"
            ],
            "application/vnd.jupyter.widget-view+json": {
              "version_major": 2,
              "version_minor": 0,
              "model_id": "950fca438ba740a89b6128c9ab1aa795"
            }
          },
          "metadata": {}
        },
        {
          "output_type": "display_data",
          "data": {
            "text/plain": [
              "Downloading data files: 0it [00:00, ?it/s]"
            ],
            "application/vnd.jupyter.widget-view+json": {
              "version_major": 2,
              "version_minor": 0,
              "model_id": "0b0db8c0ec1d45688c4c408f561529a8"
            }
          },
          "metadata": {}
        },
        {
          "output_type": "display_data",
          "data": {
            "text/plain": [
              "Extracting data files: 0it [00:00, ?it/s]"
            ],
            "application/vnd.jupyter.widget-view+json": {
              "version_major": 2,
              "version_minor": 0,
              "model_id": "1adf7264688a47e4b8d884ed12dcb027"
            }
          },
          "metadata": {}
        },
        {
          "output_type": "display_data",
          "data": {
            "text/plain": [
              "Generating train split: 0 examples [00:00, ? examples/s]"
            ],
            "application/vnd.jupyter.widget-view+json": {
              "version_major": 2,
              "version_minor": 0,
              "model_id": "5386016b97e247e38b679290e2408ba3"
            }
          },
          "metadata": {}
        },
        {
          "output_type": "stream",
          "name": "stdout",
          "text": [
            "Dataset audiofolder downloaded and prepared to /root/.cache/huggingface/datasets/audiofolder/default-e50b2603353acda2/0.0.0/6cbdd16f8688354c63b4e2a36e1585d05de285023ee6443ffd71c4182055c0fc. Subsequent calls will reuse this data.\n"
          ]
        }
      ]
    },
    {
      "cell_type": "markdown",
      "source": [
        "Veamos como luce el conjunto de datos:"
      ],
      "metadata": {
        "id": "UPcYMuNuLoXo"
      }
    },
    {
      "cell_type": "code",
      "source": [
        "dataset"
      ],
      "metadata": {
        "colab": {
          "base_uri": "https://localhost:8080/"
        },
        "id": "vmjswU5m1nGz",
        "outputId": "72657ab9-b09c-4552-921a-53576f88342b"
      },
      "execution_count": 14,
      "outputs": [
        {
          "output_type": "execute_result",
          "data": {
            "text/plain": [
              "Dataset({\n",
              "    features: ['audio', 'label'],\n",
              "    num_rows: 875\n",
              "})"
            ]
          },
          "metadata": {},
          "execution_count": 14
        }
      ]
    },
    {
      "cell_type": "markdown",
      "source": [
        "La columna `label` tiene la categoría a la que pertene el audio. Construiremos un diccionario para transformar de indices a etiquetas, el cual nos será de utilidad luego:"
      ],
      "metadata": {
        "id": "BOhM_HqYLsZy"
      }
    },
    {
      "cell_type": "code",
      "source": [
        "labels = dataset.features[\"label\"].names\n",
        "label2id, id2label = dict(), dict()\n",
        "for i, label in enumerate(labels):\n",
        "    label2id[label] = i\n",
        "    id2label[i] = label"
      ],
      "metadata": {
        "id": "2Vb1bs-B1XAZ"
      },
      "execution_count": 15,
      "outputs": []
    },
    {
      "cell_type": "markdown",
      "source": [
        "El conjunto de datos dispone de las siguientes etiquetas:"
      ],
      "metadata": {
        "id": "dNa-yakvOLgV"
      }
    },
    {
      "cell_type": "code",
      "source": [
        "label2id"
      ],
      "metadata": {
        "colab": {
          "base_uri": "https://localhost:8080/"
        },
        "id": "hlTWegIk1qAL",
        "outputId": "2b186e66-f3d7-4920-d320-5c1e51e8f68b"
      },
      "execution_count": 16,
      "outputs": [
        {
          "output_type": "execute_result",
          "data": {
            "text/plain": [
              "{'Burro': 0,\n",
              " 'Gallina': 1,\n",
              " 'Gato': 2,\n",
              " 'Leon': 3,\n",
              " 'Mono': 4,\n",
              " 'Oveja': 5,\n",
              " 'Pajaro': 6,\n",
              " 'Perro': 7,\n",
              " 'Rana': 8,\n",
              " 'Vaca': 9}"
            ]
          },
          "metadata": {},
          "execution_count": 16
        }
      ]
    },
    {
      "cell_type": "markdown",
      "source": [
        "Separaremos el conjunto de datos en entrenamiento y testing:"
      ],
      "metadata": {
        "id": "W1hNqPozOQbY"
      }
    },
    {
      "cell_type": "code",
      "source": [
        "dataset = dataset.train_test_split(test_size=0.2)"
      ],
      "metadata": {
        "id": "XswCMLe0008n"
      },
      "execution_count": 17,
      "outputs": []
    },
    {
      "cell_type": "code",
      "source": [
        "dataset"
      ],
      "metadata": {
        "colab": {
          "base_uri": "https://localhost:8080/"
        },
        "id": "tEOq4UyI1ENS",
        "outputId": "3f37e7be-82e9-48a3-9687-f4f9902ae1e2"
      },
      "execution_count": 18,
      "outputs": [
        {
          "output_type": "execute_result",
          "data": {
            "text/plain": [
              "DatasetDict({\n",
              "    train: Dataset({\n",
              "        features: ['audio', 'label'],\n",
              "        num_rows: 700\n",
              "    })\n",
              "    test: Dataset({\n",
              "        features: ['audio', 'label'],\n",
              "        num_rows: 175\n",
              "    })\n",
              "})"
            ]
          },
          "metadata": {},
          "execution_count": 18
        }
      ]
    },
    {
      "cell_type": "markdown",
      "source": [
        "## Utilizando un modelo preentrenado de wave2vec\n",
        "\n",
        "### Trabajando con archivos de audio\n",
        "\n",
        "De igual forma que un modelo de NLP está entrenado para trabajar sobre tokens, el modelo de wav2vec está entrenado para trabajar sobre la una onda de audio (wave). Ya hemos visto el concepto de onda en este curso, sin embargo en esta ocación, la libraría `datasets` nos permite convertir una columna que tiene la ubicación de un archivo de audio en una columna de tipo **Audio** con la información de la onda en la misma.\n",
        "\n",
        "Para esto, utilizaremos el método `cast()`:"
      ],
      "metadata": {
        "id": "n2SgFm3eOTvS"
      }
    },
    {
      "cell_type": "code",
      "source": [
        "dataset = dataset.cast_column(\"audio\", Audio(sampling_rate=16_000))\n",
        "dataset[\"train\"][0]"
      ],
      "metadata": {
        "colab": {
          "base_uri": "https://localhost:8080/"
        },
        "id": "NvS2Kp8Z1xn3",
        "outputId": "94041ae3-8655-40dd-d49a-f881af36a625"
      },
      "execution_count": 20,
      "outputs": [
        {
          "output_type": "execute_result",
          "data": {
            "text/plain": [
              "{'audio': {'path': '/content/Animal-Sound-Dataset/Vaca/inek_12.wav',\n",
              "  'array': array([-0.02970379, -0.0435513 , -0.05235241, ..., -0.01638332,\n",
              "         -0.01580101, -0.00682969]),\n",
              "  'sampling_rate': 16000},\n",
              " 'label': 9}"
            ]
          },
          "metadata": {},
          "execution_count": 20
        }
      ]
    },
    {
      "cell_type": "markdown",
      "source": [
        "### Feature extractors\n",
        "\n",
        "Los `FeatureExtractor` nos permiten transformar un conjunto de datos con X features a otro con X'. De igual forma que un tokenizer, estos componentes se pueden descargar desde HuggingFace y cada modelo puede ser empaquetado con su correspondiente `FeatureExtractor`:"
      ],
      "metadata": {
        "id": "kMPk3Qb5Q-6u"
      }
    },
    {
      "cell_type": "code",
      "source": [
        "from transformers import AutoFeatureExtractor\n",
        "\n",
        "feature_extractor = AutoFeatureExtractor.from_pretrained(\"facebook/wav2vec2-base\")"
      ],
      "metadata": {
        "colab": {
          "base_uri": "https://localhost:8080/",
          "height": 137,
          "referenced_widgets": [
            "8f2f0994fba84058856d4904857574db",
            "c64fbd96354d428595e13368009da666",
            "22661af46eb746ceb7c4249d0401e766",
            "5c63a8b77b504ab29483baf59a230a51",
            "c161dc84cf294b0e913f3ab4184cc9e8",
            "7be49c86c6e64d41a88a7ce67279b558",
            "5725040b3b444f50b8863094f040146d",
            "78f448b8c9994d37b22afd9790c38777",
            "b45bc6283f234995bb985ab77a68f1f1",
            "f841ce634bd344fa9c4cf340e8aab300",
            "598c5d000f16468d906eb2a317a4861f",
            "fab14e46fd764227af285eef9bcbc1c3",
            "2b5432f3277142e1b450bb21449aa331",
            "93bfd0de44c249a88b53edcab622a69f",
            "534fc18d205744e687a8bb2d77f42a8f",
            "4e96c6212b6e4067a461c2ad46a0e1b1",
            "39c4d8b12b204f9fa524619fe98977ec",
            "70ec17bfe8224ba2a099743299f2a90b",
            "dae0364885964221a13217595a9dfe95",
            "ac2905e49a5e4ab9b63646914c869981",
            "33d57c66b6ae4df38500c58fddb17b01",
            "856c86c86aa643f294009eaae230244c"
          ]
        },
        "id": "BNQ2KDGB1wX4",
        "outputId": "c1c5d654-997e-4d48-92fb-f4a5b3e376c5"
      },
      "execution_count": 19,
      "outputs": [
        {
          "output_type": "display_data",
          "data": {
            "text/plain": [
              "Downloading (…)rocessor_config.json:   0%|          | 0.00/159 [00:00<?, ?B/s]"
            ],
            "application/vnd.jupyter.widget-view+json": {
              "version_major": 2,
              "version_minor": 0,
              "model_id": "8f2f0994fba84058856d4904857574db"
            }
          },
          "metadata": {}
        },
        {
          "output_type": "display_data",
          "data": {
            "text/plain": [
              "Downloading (…)lve/main/config.json:   0%|          | 0.00/1.84k [00:00<?, ?B/s]"
            ],
            "application/vnd.jupyter.widget-view+json": {
              "version_major": 2,
              "version_minor": 0,
              "model_id": "fab14e46fd764227af285eef9bcbc1c3"
            }
          },
          "metadata": {}
        },
        {
          "output_type": "stream",
          "name": "stderr",
          "text": [
            "/usr/local/lib/python3.10/dist-packages/transformers/configuration_utils.py:380: UserWarning: Passing `gradient_checkpointing` to a config initialization is deprecated and will be removed in v5 Transformers. Using `model.gradient_checkpointing_enable()` instead, or if you are using the `Trainer` API, pass `gradient_checkpointing=True` in your `TrainingArguments`.\n",
            "  warnings.warn(\n"
          ]
        }
      ]
    },
    {
      "cell_type": "markdown",
      "source": [
        "En particular, este feature extractor realiza los siguientes pasos:\n",
        "\n",
        "- Carga los datos en memoria desde los archivos de audio.\n",
        "- Verifica el *sampling rate* y lo modifica para que conincida con el modelo en caso de que no.\n",
        "- Realiza el padding correspondiente de la secuencia de datos para que todos los lotes tengan la misma longitud.\n",
        "- Realiza la normalización de los datos de entrada, tal como es esperado por el modelo."
      ],
      "metadata": {
        "id": "W9Djo2Ak2E8n"
      }
    },
    {
      "cell_type": "markdown",
      "source": [
        "Para aplicar este `FeatureExtractor` a los datos, definiremos una función que realiza el procesamiento:"
      ],
      "metadata": {
        "id": "A3qKD-cMRmSU"
      }
    },
    {
      "cell_type": "code",
      "source": [
        "def preprocess(examples):\n",
        "    audio_arrays = [x[\"array\"] for x in examples[\"audio\"]]\n",
        "    inputs = feature_extractor(\n",
        "        audio_arrays, sampling_rate=feature_extractor.sampling_rate, max_length=16000, truncation=True\n",
        "    )\n",
        "    return inputs"
      ],
      "metadata": {
        "id": "wPNp0jaV2BBq"
      },
      "execution_count": 21,
      "outputs": []
    },
    {
      "cell_type": "markdown",
      "source": [
        "Luego, utilizando la función `map` sobre el conjunto de datos aplicamos la transformación a todos los *splits*:"
      ],
      "metadata": {
        "id": "L26upHhERs0Z"
      }
    },
    {
      "cell_type": "code",
      "source": [
        "encoded_data = dataset.map(preprocess, remove_columns=\"audio\", batched=True)"
      ],
      "metadata": {
        "colab": {
          "base_uri": "https://localhost:8080/",
          "height": 17,
          "referenced_widgets": [
            "04bc779a640740d5a0dad019fd1b5145",
            "1978a88e7e794a04b4703f1374af6caf",
            "47d83eb0ce4743ae8e2be93bdb6be4dd",
            "e43be2008b794eeebc95496fcd5e7735",
            "95914dc20a0144c4a3a878b7cd1c20e6",
            "a13b90cffc25487d8ff5c985a5984b3a",
            "886b7e1746ec4bf08d4a43a9f27b8576",
            "f98a25936e6e403eaf729a71570106f1",
            "bfa79688665c429d8245e935d3cfa3fd",
            "3977ae47db57461e8c1a396ef4ff8525",
            "4311a106ef05424e857606fcd541564f",
            "13a695f2f4d54cdcb2142d182d4179c0",
            "8bbab2f274ea4c8ca4d86cfda3a2fada",
            "57fb145cb4d14d35a1f45338f9d140e2",
            "cfc740281d3140e28304f9f4a572735a",
            "793fcc6610ef4721bf6705a171737fb3",
            "716f8beb90914f80aa333bc0fc6b4291",
            "6afcb9f2b9b5423caca00e483b138a19",
            "e39cd7ad4871498cb7d198c6ea97aeb3",
            "37771b10251d4ef1bf27a18e054d231f",
            "9077ac3a2a714667a7a91e40e1f42666",
            "e56dd05efd9e41ff9a3d7391f3d15a1c"
          ]
        },
        "id": "PeR-_NR82LAV",
        "outputId": "84b8432f-662a-4640-e189-9f59e7eb3adb"
      },
      "execution_count": 22,
      "outputs": [
        {
          "output_type": "display_data",
          "data": {
            "text/plain": [
              "Map:   0%|          | 0/700 [00:00<?, ? examples/s]"
            ],
            "application/vnd.jupyter.widget-view+json": {
              "version_major": 2,
              "version_minor": 0,
              "model_id": "04bc779a640740d5a0dad019fd1b5145"
            }
          },
          "metadata": {}
        },
        {
          "output_type": "display_data",
          "data": {
            "text/plain": [
              "Map:   0%|          | 0/175 [00:00<?, ? examples/s]"
            ],
            "application/vnd.jupyter.widget-view+json": {
              "version_major": 2,
              "version_minor": 0,
              "model_id": "13a695f2f4d54cdcb2142d182d4179c0"
            }
          },
          "metadata": {}
        }
      ]
    },
    {
      "cell_type": "markdown",
      "source": [
        "Podemos verificar como lucen los datos luego:"
      ],
      "metadata": {
        "id": "ecD6zjNWR0fB"
      }
    },
    {
      "cell_type": "code",
      "source": [
        "encoded_data"
      ],
      "metadata": {
        "id": "qBs3JEz8PWnQ",
        "outputId": "66974ae3-bece-4fb2-e8b5-0737a9b0ca76",
        "colab": {
          "base_uri": "https://localhost:8080/"
        }
      },
      "execution_count": 35,
      "outputs": [
        {
          "output_type": "execute_result",
          "data": {
            "text/plain": [
              "DatasetDict({\n",
              "    train: Dataset({\n",
              "        features: ['label', 'input_values'],\n",
              "        num_rows: 700\n",
              "    })\n",
              "    test: Dataset({\n",
              "        features: ['label', 'input_values'],\n",
              "        num_rows: 175\n",
              "    })\n",
              "})"
            ]
          },
          "metadata": {},
          "execution_count": 35
        }
      ]
    },
    {
      "cell_type": "code",
      "source": [
        "import numpy as np\n",
        "\n",
        "print(\"Shape:\", np.asarray(encoded_data['train']['input_values'][0]).shape)\n",
        "print(\"Mean:\", np.asarray(encoded_data['train']['input_values'][0]).mean())\n",
        "print(\"STD:\", np.asarray(encoded_data['train']['input_values'][0]).std())"
      ],
      "metadata": {
        "id": "c6_Vslg0PmHq",
        "outputId": "a6cf131b-9959-4f63-c0cd-9ea1c855be46",
        "colab": {
          "base_uri": "https://localhost:8080/"
        }
      },
      "execution_count": 41,
      "outputs": [
        {
          "output_type": "stream",
          "name": "stdout",
          "text": [
            "Shape: (16000,)\n",
            "Mean: 2.278744159411872e-08\n",
            "STD: 0.9999912629930756\n"
          ]
        }
      ]
    },
    {
      "cell_type": "markdown",
      "source": [
        "### Clasificador\n",
        "\n",
        "Ahora es momento de crear nuestro clasificador. De igual forma que hicimos con los Transformers para texto, aquí utilizaremos la clase `AutoModelForAudioClassification` la cual nos permite utilizar los embeddings de un modelo preentrenado, en este caso un modelo de `wav2vec` para luego concatenarle un simple clasificador (MLP) para resolver la tarea en cuestión.\n",
        "\n",
        "En nuestro caso, utilizaremos un modelo preentrenado de Facebook. Note como configuramos la cantidad de clases a predecir y las etiquetas correspondientes:"
      ],
      "metadata": {
        "id": "39HhOuhjR4Ya"
      }
    },
    {
      "cell_type": "code",
      "source": [
        "from transformers import AutoModelForAudioClassification, TrainingArguments, Trainer\n",
        "\n",
        "num_labels = len(id2label)\n",
        "model = AutoModelForAudioClassification.from_pretrained(\n",
        "    \"facebook/wav2vec2-base\", num_labels=num_labels, label2id=label2id, id2label=id2label\n",
        ")"
      ],
      "metadata": {
        "colab": {
          "base_uri": "https://localhost:8080/",
          "height": 194,
          "referenced_widgets": [
            "4a2926d029c64cd5acd5f55b6b790d09",
            "93689029d37c46c5bbbbadc8ea7fae2c",
            "97e216a058fd497aa9b4ed182638d6ae",
            "89511f66699849f497f3f0a08d318aa6",
            "256e86fa018548cc9066cdd75066a649",
            "b3456b8b97154f83af8ce793980abc65",
            "179a7547845d4ed0a3b941db5769f52f",
            "42a059a7f00f4c02983af669d681bb50",
            "f9925bea86554a2fad0338f57da70426",
            "c5f10618555b4b3ebd117a99603c8eb3",
            "40fa7e8761fa4332a9c263c2e6c41dbd"
          ]
        },
        "id": "yWbfoXXj2Vbx",
        "outputId": "de47695d-aa3e-43f0-e462-a5883df21a4a"
      },
      "execution_count": 23,
      "outputs": [
        {
          "output_type": "stream",
          "name": "stderr",
          "text": [
            "/usr/local/lib/python3.10/dist-packages/transformers/configuration_utils.py:380: UserWarning: Passing `gradient_checkpointing` to a config initialization is deprecated and will be removed in v5 Transformers. Using `model.gradient_checkpointing_enable()` instead, or if you are using the `Trainer` API, pass `gradient_checkpointing=True` in your `TrainingArguments`.\n",
            "  warnings.warn(\n"
          ]
        },
        {
          "output_type": "display_data",
          "data": {
            "text/plain": [
              "Downloading pytorch_model.bin:   0%|          | 0.00/380M [00:00<?, ?B/s]"
            ],
            "application/vnd.jupyter.widget-view+json": {
              "version_major": 2,
              "version_minor": 0,
              "model_id": "4a2926d029c64cd5acd5f55b6b790d09"
            }
          },
          "metadata": {}
        },
        {
          "output_type": "stream",
          "name": "stderr",
          "text": [
            "Some weights of the model checkpoint at facebook/wav2vec2-base were not used when initializing Wav2Vec2ForSequenceClassification: ['project_q.bias', 'quantizer.weight_proj.weight', 'project_q.weight', 'quantizer.weight_proj.bias', 'project_hid.weight', 'quantizer.codevectors', 'project_hid.bias']\n",
            "- This IS expected if you are initializing Wav2Vec2ForSequenceClassification from the checkpoint of a model trained on another task or with another architecture (e.g. initializing a BertForSequenceClassification model from a BertForPreTraining model).\n",
            "- This IS NOT expected if you are initializing Wav2Vec2ForSequenceClassification from the checkpoint of a model that you expect to be exactly identical (initializing a BertForSequenceClassification model from a BertForSequenceClassification model).\n",
            "Some weights of Wav2Vec2ForSequenceClassification were not initialized from the model checkpoint at facebook/wav2vec2-base and are newly initialized: ['projector.weight', 'classifier.weight', 'classifier.bias', 'projector.bias']\n",
            "You should probably TRAIN this model on a down-stream task to be able to use it for predictions and inference.\n"
          ]
        }
      ]
    },
    {
      "cell_type": "markdown",
      "source": [
        "Nuestro problema es de clasificación, por lo cual mediremos el `accuracy` de nuestro modelo. Utilizando la libraria `evaluate` podemos cargar esta métrica:"
      ],
      "metadata": {
        "id": "Uf33L0eMSY2u"
      }
    },
    {
      "cell_type": "code",
      "source": [
        "import evaluate\n",
        "\n",
        "accuracy = evaluate.load(\"accuracy\")"
      ],
      "metadata": {
        "id": "iJaFAN0T__bF",
        "outputId": "978bb9f3-90f0-4e8a-99fa-f1050830f007",
        "colab": {
          "base_uri": "https://localhost:8080/",
          "height": 49,
          "referenced_widgets": [
            "cf3806606a494b0c807066e9b24d7407",
            "53fb9f9e7d014369a491a89fb20e6238",
            "e00b3b5f8721456caf573aad7554fc74",
            "5b338417930a44b0b01b2ba370d17b44",
            "fb5030ccbf024c06b68d83d3451f86d7",
            "cdcec3651adb4d79abd7e541c8ed2896",
            "6a68398cb8af41c8bedc8dff2479bf44",
            "6822fb1895da40a7a5c32adc7040b6e6",
            "a0a0ab3706f646c0b9aa361cca0f6895",
            "842c615f2a054cf28fff0f4735bf5590",
            "6bdae352efeb419faacae3847452a973"
          ]
        }
      },
      "execution_count": 24,
      "outputs": [
        {
          "output_type": "display_data",
          "data": {
            "text/plain": [
              "Downloading builder script:   0%|          | 0.00/4.20k [00:00<?, ?B/s]"
            ],
            "application/vnd.jupyter.widget-view+json": {
              "version_major": 2,
              "version_minor": 0,
              "model_id": "cf3806606a494b0c807066e9b24d7407"
            }
          },
          "metadata": {}
        }
      ]
    },
    {
      "cell_type": "code",
      "source": [
        "import numpy as np\n",
        "\n",
        "def compute_metrics(eval_pred):\n",
        "    predictions = np.argmax(eval_pred.predictions, axis=1)\n",
        "    return accuracy.compute(predictions=predictions, references=eval_pred.label_ids)"
      ],
      "metadata": {
        "id": "UANSfumJ__xl"
      },
      "execution_count": 25,
      "outputs": []
    },
    {
      "cell_type": "markdown",
      "source": [
        "### Entrenando el modelo\n",
        "\n",
        "En momento de iniciar el procedimiento de entrenamiento:"
      ],
      "metadata": {
        "id": "8pXK5sHQSjto"
      }
    },
    {
      "cell_type": "code",
      "source": [
        "import torch\n",
        "\n",
        "training_args = TrainingArguments(\n",
        "    output_dir=\"model\",\n",
        "    evaluation_strategy=\"epoch\",\n",
        "    save_strategy=\"epoch\",\n",
        "    per_device_train_batch_size=32,\n",
        "    gradient_accumulation_steps=4,\n",
        "    per_device_eval_batch_size=32,\n",
        "    num_train_epochs=10,\n",
        "    warmup_ratio=0.1,\n",
        "    load_best_model_at_end=True,\n",
        "    optim=\"adamw_torch\"\n",
        ")"
      ],
      "metadata": {
        "id": "FRbdL9Ek2fG5"
      },
      "execution_count": 26,
      "outputs": []
    },
    {
      "cell_type": "markdown",
      "source": [
        "Utilizaremos los conjuntos de datos de entrenamiento y testing que separamos en un principio:"
      ],
      "metadata": {
        "id": "6YQhgR-eSoz5"
      }
    },
    {
      "cell_type": "code",
      "source": [
        "trainer = Trainer(\n",
        "    model=model,\n",
        "    args=training_args,\n",
        "    train_dataset=encoded_data[\"train\"],\n",
        "    eval_dataset=encoded_data[\"test\"],\n",
        "    tokenizer=feature_extractor,\n",
        "    compute_metrics=compute_metrics,\n",
        ")\n",
        "\n",
        "trainer.train()"
      ],
      "metadata": {
        "colab": {
          "base_uri": "https://localhost:8080/",
          "height": 424
        },
        "id": "YhuZ-g-L2ul6",
        "outputId": "d984300f-633d-4f60-de84-565a213c52d7"
      },
      "execution_count": 27,
      "outputs": [
        {
          "output_type": "display_data",
          "data": {
            "text/plain": [
              "<IPython.core.display.HTML object>"
            ],
            "text/html": [
              "\n",
              "    <div>\n",
              "      \n",
              "      <progress value='50' max='50' style='width:300px; height:20px; vertical-align: middle;'></progress>\n",
              "      [50/50 04:59, Epoch 9/10]\n",
              "    </div>\n",
              "    <table border=\"1\" class=\"dataframe\">\n",
              "  <thead>\n",
              " <tr style=\"text-align: left;\">\n",
              "      <th>Epoch</th>\n",
              "      <th>Training Loss</th>\n",
              "      <th>Validation Loss</th>\n",
              "      <th>Accuracy</th>\n",
              "    </tr>\n",
              "  </thead>\n",
              "  <tbody>\n",
              "    <tr>\n",
              "      <td>0</td>\n",
              "      <td>No log</td>\n",
              "      <td>2.205360</td>\n",
              "      <td>0.217143</td>\n",
              "    </tr>\n",
              "    <tr>\n",
              "      <td>2</td>\n",
              "      <td>No log</td>\n",
              "      <td>1.969920</td>\n",
              "      <td>0.502857</td>\n",
              "    </tr>\n",
              "    <tr>\n",
              "      <td>2</td>\n",
              "      <td>No log</td>\n",
              "      <td>1.826615</td>\n",
              "      <td>0.560000</td>\n",
              "    </tr>\n",
              "    <tr>\n",
              "      <td>4</td>\n",
              "      <td>No log</td>\n",
              "      <td>1.684681</td>\n",
              "      <td>0.582857</td>\n",
              "    </tr>\n",
              "    <tr>\n",
              "      <td>4</td>\n",
              "      <td>No log</td>\n",
              "      <td>1.584715</td>\n",
              "      <td>0.634286</td>\n",
              "    </tr>\n",
              "    <tr>\n",
              "      <td>6</td>\n",
              "      <td>No log</td>\n",
              "      <td>1.512387</td>\n",
              "      <td>0.657143</td>\n",
              "    </tr>\n",
              "    <tr>\n",
              "      <td>6</td>\n",
              "      <td>No log</td>\n",
              "      <td>1.471338</td>\n",
              "      <td>0.668571</td>\n",
              "    </tr>\n",
              "    <tr>\n",
              "      <td>8</td>\n",
              "      <td>No log</td>\n",
              "      <td>1.401476</td>\n",
              "      <td>0.708571</td>\n",
              "    </tr>\n",
              "    <tr>\n",
              "      <td>8</td>\n",
              "      <td>No log</td>\n",
              "      <td>1.375105</td>\n",
              "      <td>0.714286</td>\n",
              "    </tr>\n",
              "    <tr>\n",
              "      <td>9</td>\n",
              "      <td>No log</td>\n",
              "      <td>1.375185</td>\n",
              "      <td>0.714286</td>\n",
              "    </tr>\n",
              "  </tbody>\n",
              "</table><p>"
            ]
          },
          "metadata": {}
        },
        {
          "output_type": "execute_result",
          "data": {
            "text/plain": [
              "TrainOutput(global_step=50, training_loss=1.7717454528808594, metrics={'train_runtime': 309.5449, 'train_samples_per_second': 22.614, 'train_steps_per_second': 0.162, 'total_flos': 5.7777674221824e+16, 'train_loss': 1.7717454528808594, 'epoch': 9.09})"
            ]
          },
          "metadata": {},
          "execution_count": 27
        }
      ]
    },
    {
      "cell_type": "markdown",
      "source": [
        "### Verificando el modelo\n",
        "\n",
        "Podemos probar el modelo con un ejemplo. Tomemos un archivo aleatorio del directorio de datos:"
      ],
      "metadata": {
        "id": "G5-2mYIaSwB6"
      }
    },
    {
      "cell_type": "code",
      "source": [
        "wav_file_name = '/content/Animal-Sound-Dataset/Pajaro/Kus_161.wav'"
      ],
      "metadata": {
        "id": "gjzCN2VVCg4g"
      },
      "execution_count": 30,
      "outputs": []
    },
    {
      "cell_type": "markdown",
      "source": [
        "Podemos reproducir este archivo de audio para familiarizarnos con él:"
      ],
      "metadata": {
        "id": "bCCivo2mS3I7"
      }
    },
    {
      "cell_type": "code",
      "source": [
        "import librosa\n",
        "\n",
        "sample_rate: float = 16000.0\n",
        "wave = librosa.load(wav_file_name, sr=sample_rate)"
      ],
      "metadata": {
        "id": "Cqgle_oTH-K7"
      },
      "execution_count": 31,
      "outputs": []
    },
    {
      "cell_type": "code",
      "source": [
        "from IPython.display import Audio\n",
        "\n",
        "Audio(wave[0], rate=sample_rate)"
      ],
      "metadata": {
        "id": "uBaU_CX_C3Rz",
        "outputId": "d7a3bf4d-2f87-4086-a16b-9c28a36a1c40",
        "colab": {
          "base_uri": "https://localhost:8080/",
          "height": 75
        }
      },
      "execution_count": 32,
      "outputs": [
        {
          "output_type": "execute_result",
          "data": {
            "text/plain": [
              "<IPython.lib.display.Audio object>"
            ],
            "text/html": [
              "\n",
              "                <audio  controls=\"controls\" >\n",
              "                    <source src=\"data:audio/wav;base64,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\" type=\"audio/wav\" />\n",
              "                    Your browser does not support the audio element.\n",
              "                </audio>\n",
              "              "
            ]
          },
          "metadata": {},
          "execution_count": 32
        }
      ]
    },
    {
      "cell_type": "markdown",
      "source": [
        "Creamos un pipeline con el modelo que entrenamos anteriormente:"
      ],
      "metadata": {
        "id": "-wE4eaQlS7Mx"
      }
    },
    {
      "cell_type": "code",
      "source": [
        "from transformers import pipeline\n",
        "\n",
        "classifier = pipeline(\"audio-classification\", feature_extractor=feature_extractor, model=trainer.model, device=trainer.model.device)"
      ],
      "metadata": {
        "id": "_k0ZtQ_EDLRK"
      },
      "execution_count": 33,
      "outputs": []
    },
    {
      "cell_type": "code",
      "source": [
        "classifier([wav_file_name], top_k=1)"
      ],
      "metadata": {
        "id": "_EY7-LowEXy8",
        "outputId": "2459cbcf-a057-4a9f-d328-36dfd2342a7f",
        "colab": {
          "base_uri": "https://localhost:8080/"
        }
      },
      "execution_count": 34,
      "outputs": [
        {
          "output_type": "execute_result",
          "data": {
            "text/plain": [
              "[[{'score': 0.35037851333618164, 'label': 'Pajaro'}]]"
            ]
          },
          "metadata": {},
          "execution_count": 34
        }
      ]
    }
  ]
}
