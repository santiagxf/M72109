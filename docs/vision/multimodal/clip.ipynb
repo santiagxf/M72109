{
  "cells": [
    {
      "cell_type": "markdown",
      "metadata": {
        "id": "Hp1K7KilDfmH"
      },
      "source": [
        "CLIP (Contrastive Language-Image Pretraining)\n",
        "=================================="
      ]
    },
    {
      "cell_type": "markdown",
      "metadata": {
        "id": "vLjHAKD0DfmK"
      },
      "source": [
        "<div class=\"admonition warning\">PRECAUCIÓN 😱: El tema presentado en esta sección está clasificado como avanzado. El entendimiento de este contenido es totalmente opcional.</div>"
      ]
    },
    {
      "cell_type": "markdown",
      "source": [],
      "metadata": {
        "id": "AoTvr4LNEAsf"
      }
    }
  ],
  "metadata": {
    "kernelspec": {
      "display_name": "Python 3 (ipykernel)",
      "language": "python",
      "name": "python3"
    },
    "language_info": {
      "codemirror_mode": {
        "name": "ipython",
        "version": 3
      },
      "file_extension": ".py",
      "mimetype": "text/x-python",
      "name": "python",
      "nbconvert_exporter": "python",
      "pygments_lexer": "ipython3",
      "version": "3.8.2"
    },
    "colab": {
      "provenance": []
    }
  },
  "nbformat": 4,
  "nbformat_minor": 0
}