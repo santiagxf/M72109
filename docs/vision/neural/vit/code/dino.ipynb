{
  "nbformat": 4,
  "nbformat_minor": 0,
  "metadata": {
    "colab": {
      "provenance": [],
      "authorship_tag": "ABX9TyPq8nFuE/GSzVoIXB6uX5oa",
      "include_colab_link": true
    },
    "kernelspec": {
      "name": "python3",
      "display_name": "Python 3"
    },
    "language_info": {
      "name": "python"
    }
  },
  "cells": [
    {
      "cell_type": "markdown",
      "metadata": {
        "id": "view-in-github",
        "colab_type": "text"
      },
      "source": [
        "<a href=\"https://colab.research.google.com/github/santiagxf/M72109/blob/master/docs/vision/neural/vit/code/dino.ipynb\" target=\"_parent\"><img src=\"https://colab.research.google.com/assets/colab-badge.svg\" alt=\"Open In Colab\"/></a>"
      ]
    },
    {
      "cell_type": "markdown",
      "source": [
        "Knowledge distillation with no labels (DINO)\n",
        "============================================"
      ],
      "metadata": {
        "id": "EvYpX_h1sqPZ"
      }
    },
    {
      "cell_type": "markdown",
      "source": [
        "TODO:\n",
        "https://arxiv.org/pdf/2104.14294.pdf"
      ],
      "metadata": {
        "id": "xPybhk0NswmJ"
      }
    },
    {
      "cell_type": "code",
      "execution_count": null,
      "metadata": {
        "id": "R6s08dShsoVm"
      },
      "outputs": [],
      "source": []
    }
  ]
}