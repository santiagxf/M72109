{
  "cells": [
    {
      "cell_type": "markdown",
      "metadata": {
        "id": "-WXqA_23DfeC"
      },
      "source": [
        "Explorando un modelo de diffusion\n",
        "=================================="
      ]
    }
  ]
}
