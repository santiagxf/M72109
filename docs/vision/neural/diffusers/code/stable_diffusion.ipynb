{
  "cells": [
    {
      "cell_type": "markdown",
      "metadata": {
        "id": "-WXqA_23DfeC"
      },
      "source": [
        "Models de Stable Diffusion\n",
        "=========================="
      ]
    },
    {
      "cell_type": "markdown",
      "source": [
        "## Preparación del ambiente"
      ],
      "metadata": {
        "id": "-czrq41n4lr5"
      }
    },
    {
      "cell_type": "code",
      "source": [
        "%pip install diffusers accelerate"
      ],
      "metadata": {
        "colab": {
          "base_uri": "https://localhost:8080/"
        },
        "id": "KEyh2pBi4nYS",
        "outputId": "2662f9d5-5b84-424d-a774-762a2ca23cae"
      },
      "execution_count": 1,
      "outputs": [
        {
          "output_type": "stream",
          "name": "stdout",
          "text": [
            "Looking in indexes: https://pypi.org/simple, https://us-python.pkg.dev/colab-wheels/public/simple/\n",
            "Collecting diffusers\n",
            "  Downloading diffusers-0.16.1-py3-none-any.whl (934 kB)\n",
            "\u001b[2K     \u001b[90m━━━━━━━━━━━━━━━━━━━━━━━━━━━━━━━━━━━━━━━\u001b[0m \u001b[32m934.9/934.9 kB\u001b[0m \u001b[31m9.9 MB/s\u001b[0m eta \u001b[36m0:00:00\u001b[0m\n",
            "\u001b[?25hRequirement already satisfied: Pillow in /usr/local/lib/python3.10/dist-packages (from diffusers) (8.4.0)\n",
            "Requirement already satisfied: filelock in /usr/local/lib/python3.10/dist-packages (from diffusers) (3.12.0)\n",
            "Collecting huggingface-hub>=0.13.2 (from diffusers)\n",
            "  Downloading huggingface_hub-0.14.1-py3-none-any.whl (224 kB)\n",
            "\u001b[2K     \u001b[90m━━━━━━━━━━━━━━━━━━━━━━━━━━━━━━━━━━━━━━\u001b[0m \u001b[32m224.5/224.5 kB\u001b[0m \u001b[31m16.3 MB/s\u001b[0m eta \u001b[36m0:00:00\u001b[0m\n",
            "\u001b[?25hCollecting importlib-metadata (from diffusers)\n",
            "  Downloading importlib_metadata-6.6.0-py3-none-any.whl (22 kB)\n",
            "Requirement already satisfied: numpy in /usr/local/lib/python3.10/dist-packages (from diffusers) (1.22.4)\n",
            "Requirement already satisfied: regex!=2019.12.17 in /usr/local/lib/python3.10/dist-packages (from diffusers) (2022.10.31)\n",
            "Requirement already satisfied: requests in /usr/local/lib/python3.10/dist-packages (from diffusers) (2.27.1)\n",
            "Requirement already satisfied: fsspec in /usr/local/lib/python3.10/dist-packages (from huggingface-hub>=0.13.2->diffusers) (2023.4.0)\n",
            "Requirement already satisfied: tqdm>=4.42.1 in /usr/local/lib/python3.10/dist-packages (from huggingface-hub>=0.13.2->diffusers) (4.65.0)\n",
            "Requirement already satisfied: pyyaml>=5.1 in /usr/local/lib/python3.10/dist-packages (from huggingface-hub>=0.13.2->diffusers) (6.0)\n",
            "Requirement already satisfied: typing-extensions>=3.7.4.3 in /usr/local/lib/python3.10/dist-packages (from huggingface-hub>=0.13.2->diffusers) (4.5.0)\n",
            "Requirement already satisfied: packaging>=20.9 in /usr/local/lib/python3.10/dist-packages (from huggingface-hub>=0.13.2->diffusers) (23.1)\n",
            "Requirement already satisfied: zipp>=0.5 in /usr/local/lib/python3.10/dist-packages (from importlib-metadata->diffusers) (3.15.0)\n",
            "Requirement already satisfied: urllib3<1.27,>=1.21.1 in /usr/local/lib/python3.10/dist-packages (from requests->diffusers) (1.26.15)\n",
            "Requirement already satisfied: certifi>=2017.4.17 in /usr/local/lib/python3.10/dist-packages (from requests->diffusers) (2022.12.7)\n",
            "Requirement already satisfied: charset-normalizer~=2.0.0 in /usr/local/lib/python3.10/dist-packages (from requests->diffusers) (2.0.12)\n",
            "Requirement already satisfied: idna<4,>=2.5 in /usr/local/lib/python3.10/dist-packages (from requests->diffusers) (3.4)\n",
            "Installing collected packages: importlib-metadata, huggingface-hub, diffusers\n",
            "Successfully installed diffusers-0.16.1 huggingface-hub-0.14.1 importlib-metadata-6.6.0\n"
          ]
        }
      ]
    },
    {
      "cell_type": "markdown",
      "source": [
        "\n",
        "## Entendiendo la libería diffusers\n",
        "\n",
        "Hasta el momento, solo hemos utilizado de HuggingFace🤗 la librería `transformers`. Sin embargo, también proveen otras librerias como ser `diffusers`.\n",
        "\n",
        "Diffusers es una librería que permite utilizar modelos generativos para imágenes, audio, e incluso estructuras más complejas como 3D.\n",
        "\n",
        "\n",
        "### Componentes\n",
        "\n",
        "La librería se construye sobre 2 conceptos importantes:\n",
        "\n",
        "- Modelo: Dada una imagen X con una dada cantidad de ruido, el modelo genera una nueva imagen de iguales dimensiones pero con las predicciones de los residuales del ruido (noise residuals).\n",
        "- Programador (Scheduler): Dada una cantidad de pasos N, el programador planifica realizar N pasadas sobre el modelo, utilizando sobre cada iteración el resultado de la iteración pasada. El planificador aqui intenta predecir una imagen eliminando el ruido que fue generado anteriormente.\n",
        "\n",
        "\n",
        "Construyamos nuestro proceso de generación:\n",
        "\n",
        "\n",
        "\n"
      ],
      "metadata": {
        "id": "r2X5LtG04uP5"
      }
    },
    {
      "cell_type": "code",
      "source": [
        "model_name = \"google/ddpm-cat-256\""
      ],
      "metadata": {
        "id": "ibaU7Nix66PM"
      },
      "execution_count": 2,
      "outputs": []
    },
    {
      "cell_type": "markdown",
      "source": [
        "Cargemos estos 2 componentes utilizando la librería difussers. Los modelos de diffuser son bastante costosos, por lo que tendremos mejor performance si los ejecutamos sobre una GPU:"
      ],
      "metadata": {
        "id": "GywH2Fdr6vzV"
      }
    },
    {
      "cell_type": "code",
      "source": [
        "from diffusers import DDPMScheduler, UNet2DModel\n",
        "\n",
        "scheduler = DDPMScheduler.from_pretrained(model_name)\n",
        "model = UNet2DModel.from_pretrained(model_name, low_cpu_mem_usage=False).to(\"cuda\")"
      ],
      "metadata": {
        "id": "KLnYqQaA6zpv"
      },
      "execution_count": 5,
      "outputs": []
    },
    {
      "cell_type": "markdown",
      "source": [
        "Comenzaremos por generar una imagén con ruido aleatorio:"
      ],
      "metadata": {
        "id": "qZs1yznX6nxS"
      }
    },
    {
      "cell_type": "code",
      "source": [
        "import torch\n",
        "\n",
        "sample_size = model.config.sample_size\n",
        "noise = torch.randn((1, 3, sample_size, sample_size)).to(\"cuda\")"
      ],
      "metadata": {
        "id": "2P0S_YTs4pR3"
      },
      "execution_count": 6,
      "outputs": []
    },
    {
      "cell_type": "code",
      "source": [
        "noise.shape"
      ],
      "metadata": {
        "colab": {
          "base_uri": "https://localhost:8080/"
        },
        "id": "j93WDTOh-L6A",
        "outputId": "db25ed21-0e01-47da-b9a5-ac7698c6af25"
      },
      "execution_count": 15,
      "outputs": [
        {
          "output_type": "execute_result",
          "data": {
            "text/plain": [
              "torch.Size([1, 3, 256, 256])"
            ]
          },
          "metadata": {},
          "execution_count": 15
        }
      ]
    },
    {
      "cell_type": "markdown",
      "source": [
        "Podemos probar el modelo como sigue:"
      ],
      "metadata": {
        "id": "_SCmCLGr-uIL"
      }
    },
    {
      "cell_type": "code",
      "source": [
        "noisy_residual = model(noise, 0).sample\n",
        "noisy_residual.shape"
      ],
      "metadata": {
        "colab": {
          "base_uri": "https://localhost:8080/"
        },
        "id": "4hjHp0eK-vtX",
        "outputId": "4bd6c4ab-6e38-4b5e-ca28-898e3c1a0a72"
      },
      "execution_count": 21,
      "outputs": [
        {
          "output_type": "execute_result",
          "data": {
            "text/plain": [
              "torch.Size([1, 3, 256, 256])"
            ]
          },
          "metadata": {},
          "execution_count": 21
        }
      ]
    },
    {
      "cell_type": "markdown",
      "source": [
        "Configuremos la cantidad de pasos de *denoising*:"
      ],
      "metadata": {
        "id": "u_N1dqgl7mOx"
      }
    },
    {
      "cell_type": "code",
      "source": [
        "scheduler.set_timesteps(50)"
      ],
      "metadata": {
        "id": "4AB3zv_-7wK4"
      },
      "execution_count": 7,
      "outputs": []
    },
    {
      "cell_type": "markdown",
      "source": [
        "Ahora, generemos un bucle para iterar sobre los pasos de generacion. En cada paso, el modelo realiza una pasada UNet2DModel.forward() y devuelve el residuo del ruido. \n",
        "\n",
        "El método `step()` del programador toma el ruido residual, el paso y la entrada y predice la imagen en el paso anterior, pero con menos ruido. Esta salida se convierte en la siguiente entrada en el ciclo de eliminación de ruido y se repetirá hasta el final."
      ],
      "metadata": {
        "id": "1kQ49Q8x793k"
      }
    },
    {
      "cell_type": "code",
      "source": [
        "previous_noisy_sample = noise"
      ],
      "metadata": {
        "id": "Qzv4g-G69Kmz"
      },
      "execution_count": 24,
      "outputs": []
    },
    {
      "cell_type": "code",
      "source": [
        "from tqdm import tqdm\n",
        "\n",
        "for t in tqdm(scheduler.timesteps):\n",
        "  with torch.no_grad():\n",
        "    # Pred\n",
        "    noisy_residual = model(previous_noisy_sample, t).sample\n",
        "\n",
        "  previous_noisy_sample = scheduler.step(noisy_residual, t, previous_noisy_sample).prev_sample"
      ],
      "metadata": {
        "colab": {
          "base_uri": "https://localhost:8080/"
        },
        "id": "jjb0uCsU7yHK",
        "outputId": "ad67bfc1-8b12-472c-97af-96a6935e9ce2"
      },
      "execution_count": 26,
      "outputs": [
        {
          "output_type": "stream",
          "name": "stderr",
          "text": [
            "100%|██████████| 50/50 [00:05<00:00,  8.38it/s]\n"
          ]
        }
      ]
    },
    {
      "cell_type": "markdown",
      "source": [
        "Finalmente debemos convertir la salida del modelo en una imagen:"
      ],
      "metadata": {
        "id": "YuFdIQtr_Yty"
      }
    },
    {
      "cell_type": "code",
      "source": [
        "from PIL import Image\n",
        "import numpy as np"
      ],
      "metadata": {
        "id": "0HhMQjYGBwJo"
      },
      "execution_count": null,
      "outputs": []
    },
    {
      "cell_type": "markdown",
      "source": [
        "Primero denormalizamos la salida, obtenemos valores enteros de 0 a 255:"
      ],
      "metadata": {
        "id": "iIIfjnl_By_N"
      }
    },
    {
      "cell_type": "code",
      "source": [
        "image = ((previous_noisy_sample / 2 + 0.5).clamp(0, 1) * 255).round().type(torch.uint8)"
      ],
      "metadata": {
        "id": "llT0YPxf_sno"
      },
      "execution_count": 69,
      "outputs": []
    },
    {
      "cell_type": "markdown",
      "source": [
        "Nuestros tensores tienen una configuración \"channel first\". En general, las librerias de imágenes usan \"channel last\"."
      ],
      "metadata": {
        "id": "V8IaFXJtB86l"
      }
    },
    {
      "cell_type": "code",
      "source": [
        "image_channel_last = image.cpu().permute(0,2,3,1)"
      ],
      "metadata": {
        "id": "oCrnOvdMABhW"
      },
      "execution_count": 70,
      "outputs": []
    },
    {
      "cell_type": "markdown",
      "source": [
        "Nos quedamos con una de las imagenes del lote:"
      ],
      "metadata": {
        "id": "LNgXJ1HYCZgW"
      }
    },
    {
      "cell_type": "code",
      "source": [
        "image_sample = image_channel_last.numpy()[0]"
      ],
      "metadata": {
        "id": "fN6nPNwnBYRM"
      },
      "execution_count": 71,
      "outputs": []
    },
    {
      "cell_type": "markdown",
      "source": [
        "Construimos la imagen:"
      ],
      "metadata": {
        "id": "852gqnbHCeh0"
      }
    },
    {
      "cell_type": "code",
      "source": [
        "image = Image.fromarray(image_sample)\n",
        "image"
      ],
      "metadata": {
        "colab": {
          "base_uri": "https://localhost:8080/",
          "height": 273
        },
        "id": "GEPRg9c8AOwN",
        "outputId": "40f5cd35-7e6c-4bc6-a72c-402ecdec55cd"
      },
      "execution_count": 73,
      "outputs": [
        {
          "output_type": "execute_result",
          "data": {
            "text/plain": [
              "<PIL.Image.Image image mode=RGB size=256x256 at 0x7EFC65B2D150>"
            ],
            "image/png": "[encoded data removed]"
          },
          "metadata": {},
          "execution_count": 73
        }
      ]
    },
    {
      "cell_type": "markdown",
      "source": [
        "Para simplicidad, pongamos este código en una rutina:"
      ],
      "metadata": {
        "id": "ZGSZ4t3nCpb4"
      }
    },
    {
      "cell_type": "code",
      "source": [
        "def image_from_output(denoised_image):\n",
        "  image = ((denoised_image / 2 + 0.5).clamp(0, 1) * 255).round().type(torch.uint8)\n",
        "  image = image.cpu().permute(0,2,3,1)\n",
        "  image = image_channel_last.numpy()[0]\n",
        "  \n",
        "  return Image.fromarray(image)"
      ],
      "metadata": {
        "id": "lBKi4-xpChih"
      },
      "execution_count": 74,
      "outputs": []
    }
  ],
  "metadata": {
    "kernelspec": {
      "display_name": "Python 3 (ipykernel)",
      "language": "python",
      "name": "python3"
    },
    "language_info": {
      "codemirror_mode": {
        "name": "ipython",
        "version": 3
      },
      "file_extension": ".py",
      "mimetype": "text/x-python",
      "name": "python",
      "nbconvert_exporter": "python",
      "pygments_lexer": "ipython3",
      "version": "3.8.2"
    },
    "colab": {
      "provenance": [],
      "gpuType": "T4"
    },
    "accelerator": "GPU",
    "gpuClass": "standard"
  },
  "nbformat": 4,
  "nbformat_minor": 0
}