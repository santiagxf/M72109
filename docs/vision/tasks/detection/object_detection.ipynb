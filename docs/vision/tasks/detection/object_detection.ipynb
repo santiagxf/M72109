{
  "nbformat": 4,
  "nbformat_minor": 0,
  "metadata": {
    "colab": {
      "name": "Word2Vec - Secuencias.ipynb",
      "provenance": [],
      "toc_visible": true
    },
    "kernelspec": {
      "display_name": "Python 3 (ipykernel)",
      "language": "python",
      "name": "python3"
    },
    "language_info": {
      "codemirror_mode": {
        "name": "ipython",
        "version": 3
      },
      "file_extension": ".py",
      "mimetype": "text/x-python",
      "name": "python",
      "nbconvert_exporter": "python",
      "pygments_lexer": "ipython3",
      "version": "3.8.2"
    },
    "accelerator": "GPU"
  },
  "cells": [
    {
      "cell_type": "markdown",
      "metadata": {
        "id": "nQGxT74Sdis4"
      },
      "source": [
        "Actividad 3: Detección de objetos\n",
        "================================="
      ]
    },
    {
      "cell_type": "markdown",
      "metadata": {
        "id": "WjoQB1vCY3Ea"
      },
      "source": [
        "Introducción\n",
        "------------"
      ]
    },
    {
      "cell_type": "markdown",
      "metadata": {
        "id": "vjuHJnQOdis6"
      },
      "source": [
        "Hemos visto que los modelos de aprendizaje automático son muy utiles a la hora de resolver problemas de visión por computadora. Uno de estos problemas, es la detección de objetos.\n",
        "\n",
        "A diferencia de la clasificación de objetos, el modelo que realiza detección identificará o interará identificar la región de la imagen en la cual se encuentra cada objeto que detectó.\n",
        "\n",
        "En esta actividad, proponemos que construya un modelo que detecte objetos genéricos de imágenes."
      ]
    },
    {
      "cell_type": "markdown",
      "metadata": {
        "id": "Dcyc_TQ6dis7"
      },
      "source": [
        "### Para ejecutar este notebook"
      ]
    },
    {
      "cell_type": "markdown",
      "metadata": {
        "id": "G6gd3pkXY3Ec"
      },
      "source": [
        "Para ejecutar este notebook, instale las siguientes librerias:"
      ]
    },
    {
      "cell_type": "code",
      "metadata": {
        "id": "tvy7KSgIY3Ed"
      },
      "source": [
        "!wget https://raw.githubusercontent.com/santiagxf/M72109/master/docs/vision/tasks/detection/object_detection.txt \\\n",
        "    --quiet --no-clobber\n",
        "!pip install -r object_detection.txt --quiet"
      ],
      "execution_count": 1,
      "outputs": []
    },
    {
      "cell_type": "markdown",
      "metadata": {
        "id": "_vMb2swwY3Ej"
      },
      "source": [
        "Direcciones\n",
        "-----------\n",
        "\n",
        "¿Como puede hacer para construir un modelo de detección de objetos? Estos modelos requiere de una gran cantidad de datos para poder entrenarse. Sin embargo, puede conseguir ese modelo de TensorFlow Hub.\n",
        "\n",
        "Para completar esta actividad deberá:\n",
        "\n",
        "- Identificar un modelo de detección de objetos que pueda utilizar desde la página de TensorFlow Hub.\n",
        "- Identifique que preprocesamiento deberá hacer para que este modelo funcione.\n",
        "- Instancie el modelo elegido y ejecutelo sobre imagenes de prueba.\n",
        "- ¿Que objetos pudo reconocer? ¿Cuales son los 3 más importantes?\n"
      ]
    },
    {
      "cell_type": "markdown",
      "metadata": {
        "id": "VDjCUHxgY3Ek"
      },
      "source": [
        "Solución\n",
        "---------"
      ]
    },
    {
      "cell_type": "code",
      "metadata": {
        "id": "4le-WU_ob-zG"
      },
      "source": [
        "import tensorflow as tf\n",
        "import tensorflow_hub as hub"
      ],
      "execution_count": null,
      "outputs": []
    },
    {
      "cell_type": "markdown",
      "metadata": {
        "id": "uBNY37iIditm"
      },
      "source": [
        "### Construimos un modelo"
      ]
    },
    {
      "cell_type": "markdown",
      "metadata": {
        "id": "a2KLOHZJnUrJ"
      },
      "source": [
        "> Pista: Utilice modelos de TensorFlow Hub:"
      ]
    },
    {
      "cell_type": "code",
      "metadata": {
        "id": "pT8N1WpPcags",
        "colab": {
          "base_uri": "https://localhost:8080/"
        },
        "outputId": "9b0ea0a8-8975-4a2b-f6ad-8fb6c0aa42f8"
      },
      "source": [
        "#module_url = \"\"\n",
        "\n",
        "detector = hub.load(module_url).signatures['default']"
      ],
      "execution_count": null,
      "outputs": [
        {
          "output_type": "stream",
          "name": "stdout",
          "text": [
            "INFO:tensorflow:Saver not created because there are no variables in the graph to restore\n"
          ]
        },
        {
          "output_type": "stream",
          "name": "stderr",
          "text": [
            "INFO:tensorflow:Saver not created because there are no variables in the graph to restore\n"
          ]
        }
      ]
    },
    {
      "cell_type": "markdown",
      "metadata": {
        "id": "kwRwMqoSditT"
      },
      "source": [
        "### Preprocesamiento de la imagen"
      ]
    },
    {
      "cell_type": "markdown",
      "metadata": {
        "id": "zgB9bd9dnCmt"
      },
      "source": [
        "Cree una rutina de preprocesamiento que reciba como entrada una imagen almacenada localmente y devuelva un tensor que pueda utilizar en el modelo que eligió:\n",
        "\n",
        "Tip: Vea la sección de procesamiento de imagenes en el ejemplo de \"Modelo de clasificación multiple con Transferencia de Aprendizaje\""
      ]
    },
    {
      "cell_type": "code",
      "metadata": {
        "id": "Jnuzl8qbditU"
      },
      "source": [
        "def parse_image(filename, CHANNELS:int=3, IMG_SIZE:int=224):\n",
        "    #image_normalized = \n",
        "\n",
        "    return image_normalized"
      ],
      "execution_count": null,
      "outputs": []
    },
    {
      "cell_type": "markdown",
      "metadata": {
        "id": "pnXSDkyim32U"
      },
      "source": [
        "#### Verifique que su rutina funciona"
      ]
    },
    {
      "cell_type": "markdown",
      "metadata": {
        "id": "UKJyUxKemWSt"
      },
      "source": [
        "> Tip: Utilice el comando `wget` en un notebook para descargar un archivo desde internet. El parametro `-O` le permite cambiarle el nombre. Utilice el siguiente ejemplo:"
      ]
    },
    {
      "cell_type": "code",
      "metadata": {
        "colab": {
          "base_uri": "https://localhost:8080/"
        },
        "id": "kFYzMdiCditX",
        "outputId": "348619d5-2f58-411e-95ba-d984a5789b01"
      },
      "source": [
        "!wget https://upload.wikimedia.org/wikipedia/commons/6/60/Naxos_Taverna.jpg -O sample.jpg --no-clobber"
      ],
      "execution_count": null,
      "outputs": [
        {
          "output_type": "stream",
          "name": "stdout",
          "text": [
            "--2021-10-28 01:54:32--  https://upload.wikimedia.org/wikipedia/commons/6/60/Naxos_Taverna.jpg\n",
            "Resolving upload.wikimedia.org (upload.wikimedia.org)... 103.102.166.240, 2001:df2:e500:ed1a::2:b\n",
            "Connecting to upload.wikimedia.org (upload.wikimedia.org)|103.102.166.240|:443... connected.\n",
            "HTTP request sent, awaiting response... 200 OK\n",
            "Length: 779201 (761K) [image/jpeg]\n",
            "Saving to: ‘sample.jpg’\n",
            "\n",
            "sample.jpg          100%[===================>] 760.94K  3.28MB/s    in 0.2s    \n",
            "\n",
            "2021-10-28 01:54:32 (3.28 MB/s) - ‘sample.jpg’ saved [779201/779201]\n",
            "\n"
          ]
        }
      ]
    },
    {
      "cell_type": "code",
      "metadata": {
        "id": "xm3LCA_QpiFM"
      },
      "source": [
        "#sample = parse_image('sample.jpg', CHANNELS=3, IMG_SIZE=)"
      ],
      "execution_count": null,
      "outputs": []
    },
    {
      "cell_type": "code",
      "metadata": {
        "id": "j44XhOXUdf8I",
        "colab": {
          "base_uri": "https://localhost:8080/"
        },
        "outputId": "d94a4b5a-31af-438c-f540-35fdc9d20152"
      },
      "source": [
        "print('Las dimensiones del tensor son:',sample.shape)"
      ],
      "execution_count": null,
      "outputs": [
        {
          "output_type": "stream",
          "name": "stdout",
          "text": [
            "Las dimensiones del tensor son: (224, 224, 3)\n"
          ]
        }
      ]
    },
    {
      "cell_type": "markdown",
      "metadata": {
        "id": "-iA_tJUOnfaB"
      },
      "source": [
        "### Pruebe que su modelo funciona sobre la imagen de prueba"
      ]
    },
    {
      "cell_type": "markdown",
      "metadata": {
        "id": "IF733RHqn3fP"
      },
      "source": [
        "La mayoria de los modelos requieren que se indique tensores de la forma `(1, [ANCHO], [ALTO], [CANALES])`. ¿Como podría hacer esto?\n",
        "\n",
        "> Tip: Vea la introducción a tensores en el material del curso."
      ]
    },
    {
      "cell_type": "code",
      "metadata": {
        "id": "0wwIGT8zkRBi"
      },
      "source": [
        "#image_tensor = "
      ],
      "execution_count": null,
      "outputs": []
    },
    {
      "cell_type": "markdown",
      "metadata": {
        "id": "rkdN0LFfoSEs"
      },
      "source": [
        "Ejecute el modelo:"
      ]
    },
    {
      "cell_type": "code",
      "metadata": {
        "id": "M8E12E-VcpHG"
      },
      "source": [
        "results = detector(image_tensor)"
      ],
      "execution_count": null,
      "outputs": []
    },
    {
      "cell_type": "markdown",
      "metadata": {
        "id": "Od6tpk4BoXwL"
      },
      "source": [
        "¿Que resultados tiene disponible?"
      ]
    },
    {
      "cell_type": "code",
      "metadata": {
        "id": "Eo5001Z3oRVf",
        "colab": {
          "base_uri": "https://localhost:8080/"
        },
        "outputId": "8c702b62-9a4d-4aff-b2ea-8dc5c61e056e"
      },
      "source": [
        "results.keys()"
      ],
      "execution_count": null,
      "outputs": [
        {
          "output_type": "execute_result",
          "data": {
            "text/plain": [
              "dict_keys(['detection_class_names', 'detection_scores', 'detection_class_entities', 'detection_boxes', 'detection_class_labels'])"
            ]
          },
          "metadata": {},
          "execution_count": 31
        }
      ]
    },
    {
      "cell_type": "markdown",
      "metadata": {
        "id": "VpwiD4GGdiuB"
      },
      "source": [
        "### Seleccione los 3 objetos que fueron detectados con mayor probabilidad:"
      ]
    },
    {
      "cell_type": "markdown",
      "metadata": {
        "id": "jXA5Mo4GopWj"
      },
      "source": [
        "> Tip: Utilice la función `argmax`"
      ]
    },
    {
      "cell_type": "code",
      "metadata": {
        "id": "aeON1W1covZm"
      },
      "source": [
        ""
      ],
      "execution_count": null,
      "outputs": []
    }
  ]
}