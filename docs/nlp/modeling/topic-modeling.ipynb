{
 "cells": [
  {
   "cell_type": "markdown",
   "source": [
    "Técnicas de reducción de dimensionalidad\n",
    "==================================="
   ],
   "metadata": {}
  },
  {
   "cell_type": "markdown",
   "source": [
    "## Introducción\n",
    "\n",
    "Topic modeling es una técnica de aprendizaje automático no supervisado donde intentados descubrir tópicos que son abstractos al texto pero que pueden describir una colección de documentos. Es importante marcar que estos \"tópicos\" no son necesariamente equivalentes a la interpretación coloquial de tópicos, sino que responden a un patrón que emerge de las palabras que están en los documentos.\n",
    "\n",
    "La suposición básica para Topic Modeling es que cada documento está representado por una mescla de tópicos, y cada tópico consiste en una colección de palabras."
   ],
   "metadata": {
    "colab_type": "text",
    "id": "u8Irja1O_J9X"
   }
  },
  {
   "cell_type": "markdown",
   "source": [
    "### Para ejecutar este notebook"
   ],
   "metadata": {}
  },
  {
   "cell_type": "markdown",
   "source": [
    "Para ejecutar este notebook, instale las siguientes librerias:"
   ],
   "metadata": {}
  },
  {
   "cell_type": "code",
   "execution_count": null,
   "source": [
    "!wget https://raw.githubusercontent.com/santiagxf/M72109/master/NLP/Datasets/mascorpus/tweets_marketing.csv \\\n",
    "    --quiet --no-clobber --directory-prefix ./Datasets/mascorpus/\n",
    "    \n",
    "!wget https://raw.githubusercontent.com/santiagxf/M72109/master/docs/nlp/modeling/topic-modeling.txt \\\n",
    "    --quiet --no-clobber\n",
    "!pip install -r topic-modeling.txt"
   ],
   "outputs": [],
   "metadata": {}
  },
  {
   "cell_type": "code",
   "execution_count": null,
   "source": [
    "!python -m spacy download es_core_news_sm"
   ],
   "outputs": [],
   "metadata": {}
  },
  {
   "cell_type": "markdown",
   "source": [
    "Primero importaremos algunas librerias necesarias"
   ],
   "metadata": {
    "colab_type": "text",
    "id": "WPpqVNrwSdhL"
   }
  },
  {
   "cell_type": "code",
   "execution_count": 4,
   "source": [
    "import pandas as pd\n",
    "import numpy as np\n",
    "import matplotlib.pyplot as plt\n",
    "from tqdm import tqdm"
   ],
   "outputs": [],
   "metadata": {
    "colab": {},
    "colab_type": "code",
    "id": "zPfF_O0U_J9a"
   }
  },
  {
   "cell_type": "markdown",
   "source": [
    "## Sobre el set de datos con el que vamos a trabajar"
   ],
   "metadata": {
    "colab_type": "text",
    "id": "lE_O7bEjLebd"
   }
  },
  {
   "cell_type": "markdown",
   "source": [
    "Utilizaremos como ejemplo un set de datos en español que contiene tweets que diferentes usuarios han publicado en relación a diferentes marcas de productos u empresas en el rubro de alimentación, construcción, automoviles, etc. Estos tweets, a su vez, están asociados a una de las diferentes fases en el proceso de ventas (también conocido como Marketing Funel) y por eso están tagueados con las fases de:\n",
    " - Awareness – el cliente es conciente de la existencia de un producto o servicio\n",
    " - Interest – activamente expresa el interes de un producto o servicio\n",
    " - Evaluation – aspira una marca o producto en particular\n",
    " - Purchase – toma el siguiente paso necesario para comprar el producto o servicio\n",
    " - Postpurchase - realización del proceso de compra. El cliente compara la diferencia entre lo que deseaba y lo que obtuvo\n",
    "\n",
    "Referencia: [Spanish Corpus of Tweets for Marketing](http://ceur-ws.org/Vol-2111/paper1.pdf\n",
    "\n",
    "> Nota: La version de este conjunto de datos que utilizaremos aqui es una versión preprocesada del original."
   ],
   "metadata": {
    "colab_type": "text",
    "id": "H8lcRTa_Li4e"
   }
  },
  {
   "cell_type": "code",
   "execution_count": 5,
   "source": [
    "tweets = pd.read_csv('Datasets/mascorpus/tweets_marketing.csv')"
   ],
   "outputs": [],
   "metadata": {
    "colab": {},
    "colab_type": "code",
    "id": "Gc44Q7do_J9h"
   }
  },
  {
   "cell_type": "markdown",
   "source": [
    "Inspeccionamos el set de datos"
   ],
   "metadata": {
    "colab_type": "text",
    "id": "INJwReUXSs4K"
   }
  },
  {
   "cell_type": "code",
   "execution_count": 6,
   "source": [
    "tweets.head(5)"
   ],
   "outputs": [
    {
     "output_type": "execute_result",
     "data": {
      "text/plain": [
       "                                               TEXTO  SECTOR      MARCA  \\\n",
       "0  #tablondeanuncios Funda nordica ikea #madrid h...  RETAIL       IKEA   \n",
       "1  #tr Me ofrezco para montar muebles de Ikea - H...  RETAIL       IKEA   \n",
       "2  #VozPópuli Vozpópuli @voz_populi - #LoMásLeido...  RETAIL    ALCAMPO   \n",
       "3  #ZonaTecno Destacado: Todo lo que hay que sabe...  RETAIL  CARREFOUR   \n",
       "4  $Carrefour retira pez #Panga. OCU y grupos x #...  RETAIL  CARREFOUR   \n",
       "\n",
       "       CANAL  AWARENESS  EVALUATION  PURCHASE  POSTPURCHASE  NC2  \n",
       "0  Microblog          0           0       0.0             0  1.0  \n",
       "1  Microblog          0           0       0.0             0  1.0  \n",
       "2  Microblog          0           0       0.0             0  1.0  \n",
       "3  Microblog          0           0       0.0             0  1.0  \n",
       "4  Microblog          0           0       0.0             0  1.0  "
      ],
      "text/html": [
       "<div>\n",
       "<style scoped>\n",
       "    .dataframe tbody tr th:only-of-type {\n",
       "        vertical-align: middle;\n",
       "    }\n",
       "\n",
       "    .dataframe tbody tr th {\n",
       "        vertical-align: top;\n",
       "    }\n",
       "\n",
       "    .dataframe thead th {\n",
       "        text-align: right;\n",
       "    }\n",
       "</style>\n",
       "<table border=\"1\" class=\"dataframe\">\n",
       "  <thead>\n",
       "    <tr style=\"text-align: right;\">\n",
       "      <th></th>\n",
       "      <th>TEXTO</th>\n",
       "      <th>SECTOR</th>\n",
       "      <th>MARCA</th>\n",
       "      <th>CANAL</th>\n",
       "      <th>AWARENESS</th>\n",
       "      <th>EVALUATION</th>\n",
       "      <th>PURCHASE</th>\n",
       "      <th>POSTPURCHASE</th>\n",
       "      <th>NC2</th>\n",
       "    </tr>\n",
       "  </thead>\n",
       "  <tbody>\n",
       "    <tr>\n",
       "      <th>0</th>\n",
       "      <td>#tablondeanuncios Funda nordica ikea #madrid h...</td>\n",
       "      <td>RETAIL</td>\n",
       "      <td>IKEA</td>\n",
       "      <td>Microblog</td>\n",
       "      <td>0</td>\n",
       "      <td>0</td>\n",
       "      <td>0.0</td>\n",
       "      <td>0</td>\n",
       "      <td>1.0</td>\n",
       "    </tr>\n",
       "    <tr>\n",
       "      <th>1</th>\n",
       "      <td>#tr Me ofrezco para montar muebles de Ikea - H...</td>\n",
       "      <td>RETAIL</td>\n",
       "      <td>IKEA</td>\n",
       "      <td>Microblog</td>\n",
       "      <td>0</td>\n",
       "      <td>0</td>\n",
       "      <td>0.0</td>\n",
       "      <td>0</td>\n",
       "      <td>1.0</td>\n",
       "    </tr>\n",
       "    <tr>\n",
       "      <th>2</th>\n",
       "      <td>#VozPópuli Vozpópuli @voz_populi - #LoMásLeido...</td>\n",
       "      <td>RETAIL</td>\n",
       "      <td>ALCAMPO</td>\n",
       "      <td>Microblog</td>\n",
       "      <td>0</td>\n",
       "      <td>0</td>\n",
       "      <td>0.0</td>\n",
       "      <td>0</td>\n",
       "      <td>1.0</td>\n",
       "    </tr>\n",
       "    <tr>\n",
       "      <th>3</th>\n",
       "      <td>#ZonaTecno Destacado: Todo lo que hay que sabe...</td>\n",
       "      <td>RETAIL</td>\n",
       "      <td>CARREFOUR</td>\n",
       "      <td>Microblog</td>\n",
       "      <td>0</td>\n",
       "      <td>0</td>\n",
       "      <td>0.0</td>\n",
       "      <td>0</td>\n",
       "      <td>1.0</td>\n",
       "    </tr>\n",
       "    <tr>\n",
       "      <th>4</th>\n",
       "      <td>$Carrefour retira pez #Panga. OCU y grupos x #...</td>\n",
       "      <td>RETAIL</td>\n",
       "      <td>CARREFOUR</td>\n",
       "      <td>Microblog</td>\n",
       "      <td>0</td>\n",
       "      <td>0</td>\n",
       "      <td>0.0</td>\n",
       "      <td>0</td>\n",
       "      <td>1.0</td>\n",
       "    </tr>\n",
       "  </tbody>\n",
       "</table>\n",
       "</div>"
      ]
     },
     "metadata": {},
     "execution_count": 6
    }
   ],
   "metadata": {
    "colab": {
     "base_uri": "https://localhost:8080/",
     "height": 204
    },
    "colab_type": "code",
    "id": "Gd6EocPdG5A0",
    "outputId": "6d1df056-08d1-4e7d-89b8-342c80082c2d"
   }
  },
  {
   "cell_type": "code",
   "execution_count": 7,
   "source": [
    "tweets.groupby('SECTOR').head(1)[['TEXTO', 'SECTOR']]"
   ],
   "outputs": [
    {
     "output_type": "execute_result",
     "data": {
      "text/plain": [
       "                                                  TEXTO        SECTOR\n",
       "0     #tablondeanuncios Funda nordica ikea #madrid h...        RETAIL\n",
       "725   \"Ilcinsisti lis MB dispiniblis\" te odeeeeeo Mo...         TELCO\n",
       "964   #CarlosSlim y Bimbo lanzarán un vehículo eléct...  ALIMENTACION\n",
       "1298  ‼🏎Toyota #Day, 4ruedas ,1/4 milla, 1 #pasión, ...    AUTOMOCION\n",
       "1748  \"- Tú qué.\\n- Yo na.\"\\nConversaciones banco sa...         BANCA\n",
       "2348  - Cariño, te juro que sólo tenían Cruzcampo en...       BEBIDAS\n",
       "3023  #adidas #hockey Amenabar 2080 CABA https://t.c...      DEPORTES"
      ],
      "text/html": [
       "<div>\n",
       "<style scoped>\n",
       "    .dataframe tbody tr th:only-of-type {\n",
       "        vertical-align: middle;\n",
       "    }\n",
       "\n",
       "    .dataframe tbody tr th {\n",
       "        vertical-align: top;\n",
       "    }\n",
       "\n",
       "    .dataframe thead th {\n",
       "        text-align: right;\n",
       "    }\n",
       "</style>\n",
       "<table border=\"1\" class=\"dataframe\">\n",
       "  <thead>\n",
       "    <tr style=\"text-align: right;\">\n",
       "      <th></th>\n",
       "      <th>TEXTO</th>\n",
       "      <th>SECTOR</th>\n",
       "    </tr>\n",
       "  </thead>\n",
       "  <tbody>\n",
       "    <tr>\n",
       "      <th>0</th>\n",
       "      <td>#tablondeanuncios Funda nordica ikea #madrid h...</td>\n",
       "      <td>RETAIL</td>\n",
       "    </tr>\n",
       "    <tr>\n",
       "      <th>725</th>\n",
       "      <td>\"Ilcinsisti lis MB dispiniblis\" te odeeeeeo Mo...</td>\n",
       "      <td>TELCO</td>\n",
       "    </tr>\n",
       "    <tr>\n",
       "      <th>964</th>\n",
       "      <td>#CarlosSlim y Bimbo lanzarán un vehículo eléct...</td>\n",
       "      <td>ALIMENTACION</td>\n",
       "    </tr>\n",
       "    <tr>\n",
       "      <th>1298</th>\n",
       "      <td>‼🏎Toyota #Day, 4ruedas ,1/4 milla, 1 #pasión, ...</td>\n",
       "      <td>AUTOMOCION</td>\n",
       "    </tr>\n",
       "    <tr>\n",
       "      <th>1748</th>\n",
       "      <td>\"- Tú qué.\\n- Yo na.\"\\nConversaciones banco sa...</td>\n",
       "      <td>BANCA</td>\n",
       "    </tr>\n",
       "    <tr>\n",
       "      <th>2348</th>\n",
       "      <td>- Cariño, te juro que sólo tenían Cruzcampo en...</td>\n",
       "      <td>BEBIDAS</td>\n",
       "    </tr>\n",
       "    <tr>\n",
       "      <th>3023</th>\n",
       "      <td>#adidas #hockey Amenabar 2080 CABA https://t.c...</td>\n",
       "      <td>DEPORTES</td>\n",
       "    </tr>\n",
       "  </tbody>\n",
       "</table>\n",
       "</div>"
      ]
     },
     "metadata": {},
     "execution_count": 7
    }
   ],
   "metadata": {
    "colab": {
     "base_uri": "https://localhost:8080/",
     "height": 266
    },
    "colab_type": "code",
    "id": "uXwJS2Og_J9l",
    "outputId": "7b354598-bf6f-41a6-dd63-afe7897e3d68"
   }
  },
  {
   "cell_type": "markdown",
   "source": [
    "## Preprosesamiento"
   ],
   "metadata": {
    "colab_type": "text",
    "id": "r9FcIehJ_J9q"
   }
  },
  {
   "cell_type": "markdown",
   "source": [
    "Como en toda tarea de NLP, y más generalmente, en Machine Learning, ocuparemos una porción de nuestro tiempo en preprocesar los datos para generar representaciones útiles y deshacernos de problemas especificos que podría exhibir nuestro set de datos. "
   ],
   "metadata": {
    "colab_type": "text",
    "id": "gfUnlH25HEeM"
   }
  },
  {
   "cell_type": "markdown",
   "source": [
    "### Creando una rutina de preprosesamiento de texto\n",
    "\n",
    "Realizaremos las tareas cotidianas de preprocesamiento. Adicionalmente nuestra rutina va a: \n",
    "\n",
    " - Eliminar caracteres especiales: Acentos y caracteres especiales podrían complejizar el la representación de palabras, por lo que los eliminaremos.\n",
    " - Eliminaremos URLs y handles que son típicos en tweeter. Esto es especifico en este set de datos ya que una URL no representa información en este contexto."
   ],
   "metadata": {
    "colab_type": "text",
    "id": "UZISG0Cs_J-g"
   }
  },
  {
   "cell_type": "code",
   "execution_count": 8,
   "source": [
    "import unidecode\n",
    "import spacy\n",
    "import es_core_news_sm as spa\n",
    "import re\n",
    "from nltk import stem\n",
    "from nltk.corpus import stopwords\n",
    "from nltk.tokenize.casual import TweetTokenizer\n",
    "\n",
    "nltk.download('stopwords', quiet=True)\n",
    "\n",
    "parser = spa.load() # Cargamos el parser en español\n",
    "tokenizer = TweetTokenizer(strip_handles=True, reduce_len=True) # Creamos un tokenizer\n",
    "stemmer = stem.SnowballStemmer(language='spanish') # Creamos un steammer\n",
    "lemmatizer = lambda word : \" \".join([token.lemma_ for token in parser(word)]) # Creamos un lemmatizer\n",
    "stopwords = set(stopwords.words('spanish')) # Instanciamos las stopwords en español\n",
    "urls_regex = re.compile('http\\S+') # Usamos una expresion regular para encontrar las URLs\n",
    "\n",
    "def process_text(text):\n",
    "    tokens = tokenizer.tokenize(text)\n",
    "    tokens = [token for token in tokens if not re.match(urls_regex, token)]\n",
    "    tokens = [token for token in tokens if len(token) > 4]\n",
    "    tokens = [token for token in tokens if token not in stopwords]\n",
    "    tokens = [unidecode.unidecode(token) for token in tokens] # Quitamos acentos\n",
    "    tokens = [lemmatizer(token) for token in tokens]\n",
    "    return tokens"
   ],
   "outputs": [],
   "metadata": {
    "colab": {},
    "colab_type": "code",
    "id": "0eJxv1LA_J-g"
   }
  },
  {
   "cell_type": "code",
   "execution_count": 9,
   "source": [
    "doc_list = []\n",
    "\n",
    "for doc in tqdm(tweets['TEXTO']):\n",
    "    tokens = process_text(doc)\n",
    "    doc_list.append(' '.join(tokens))"
   ],
   "outputs": [
    {
     "output_type": "stream",
     "name": "stderr",
     "text": [
      "100%|███████████████████████████████████████████████████████████████████████████████████████████████████████████████████████████████████████████████████████████████████████████████████████| 3763/3763 [01:54<00:00, 32.98it/s]\n"
     ]
    }
   ],
   "metadata": {
    "colab": {
     "base_uri": "https://localhost:8080/",
     "height": 34
    },
    "colab_type": "code",
    "id": "U4uXheye_J-j",
    "outputId": "a79ef5e4-2048-41c6-e95b-bd8143567c28"
   }
  },
  {
   "cell_type": "markdown",
   "source": [
    "Revisemos algunos resultados:"
   ],
   "metadata": {
    "colab_type": "text",
    "id": "LtykSqbA_J-l"
   }
  },
  {
   "cell_type": "code",
   "execution_count": null,
   "source": [
    "tweets['TEXTO'][2]"
   ],
   "outputs": [
    {
     "output_type": "execute_result",
     "data": {
      "text/plain": [
       "'#VozPópuli Vozpópuli @voz_populi - #LoMásLeidoHoy Mercadona, DIA o Alcampo guardan silencio ante la ola europea... https://t.co/aJTuA4J9UV'"
      ],
      "application/vnd.google.colaboratory.intrinsic+json": {
       "type": "string"
      }
     },
     "metadata": {
      "tags": []
     },
     "execution_count": 120
    }
   ],
   "metadata": {
    "colab": {
     "base_uri": "https://localhost:8080/",
     "height": 35
    },
    "colab_type": "code",
    "id": "QQgWOejW_J-l",
    "outputId": "d9bf3e73-d7fd-45df-83f4-06d74e9d4af2"
   }
  },
  {
   "cell_type": "code",
   "execution_count": null,
   "source": [
    "doc_list[2]"
   ],
   "outputs": [
    {
     "output_type": "execute_result",
     "data": {
      "text/plain": [
       "'# VozPopuli Vozpopuli # LoMasLeidoHoy Mercadona Alcampo guardar silenciar europeo'"
      ],
      "application/vnd.google.colaboratory.intrinsic+json": {
       "type": "string"
      }
     },
     "metadata": {
      "tags": []
     },
     "execution_count": 121
    }
   ],
   "metadata": {
    "colab": {
     "base_uri": "https://localhost:8080/",
     "height": 35
    },
    "colab_type": "code",
    "id": "huZ2Cu2Q_J-n",
    "outputId": "2735e7f4-9625-4ab8-d826-360912b5ca19"
   }
  },
  {
   "cell_type": "code",
   "execution_count": null,
   "source": [
    "len(doc_list)"
   ],
   "outputs": [
    {
     "output_type": "execute_result",
     "data": {
      "text/plain": [
       "3763"
      ]
     },
     "metadata": {
      "tags": []
     },
     "execution_count": 122
    }
   ],
   "metadata": {
    "colab": {
     "base_uri": "https://localhost:8080/",
     "height": 34
    },
    "colab_type": "code",
    "id": "6WSbMjTnRYXT",
    "outputId": "cdd43d26-0161-46eb-eafe-3a3ad9c9211e"
   }
  },
  {
   "cell_type": "markdown",
   "source": [
    "## Vectorización"
   ],
   "metadata": {
    "colab_type": "text",
    "id": "-PXVzn24_J-p"
   }
  },
  {
   "cell_type": "markdown",
   "source": [
    "Una vez que nuesto texto fue preprocesado para mantener solo aquellas palabras que nos son relevantes, pasamos al proceso de generar vectores a partir de las palabras que componen nuestro vocabulario. Nuestros modelos no pueden operar sobre palabras, y por lo tanto necesitamos una representación númerica de las mismas."
   ],
   "metadata": {
    "colab_type": "text",
    "id": "TLwWu__sX4Rq"
   }
  },
  {
   "cell_type": "code",
   "execution_count": null,
   "source": [
    "from sklearn.feature_extraction.text import TfidfVectorizer\n",
    "\n",
    "vectorizer = TfidfVectorizer(use_idf=True, sublinear_tf=True, norm='l2')\n",
    "vectors = vectorizer.fit_transform(doc_list).todense()"
   ],
   "outputs": [],
   "metadata": {
    "colab": {},
    "colab_type": "code",
    "id": "JUldeeN6_J-7"
   }
  },
  {
   "cell_type": "code",
   "execution_count": null,
   "source": [
    "vectors.shape"
   ],
   "outputs": [],
   "metadata": {}
  },
  {
   "cell_type": "markdown",
   "source": [
    "## Reducción de dimensionalidad: Featurization\n",
    "Una vez que tenemos nuestros palabras representadas como vectores, nos aparece el problema de que ¡aún son demasiado grandes! En el ejemplo anterior, estamos trabajando con vectores en un espacio de 6K+. Necesitamos reducir esta dimensionalidad. Para esto, utilizaremos métodos de reducción de dimensionalidad con el objetivo de generar features que nos sean más utiles. Estas features las generaremos de forma \"no supervisada\""
   ],
   "metadata": {
    "colab_type": "text",
    "id": "j5YtJxjQXgxH"
   }
  },
  {
   "cell_type": "markdown",
   "source": [
    "### Métodos básados en SVD"
   ],
   "metadata": {
    "colab_type": "text",
    "id": "cI4HLD1tkTBT"
   }
  },
  {
   "cell_type": "markdown",
   "source": [
    "Los modelos basados en factorización de matrices intentan reducir la dimensionalidad de la matriz al aproximarla usando dos matrices que representan embeddings de palabras y embeddings de documentos (más una matriz singular que los vincula los unos con los otros). Este método es bastante popular no solo en NLP sino que también en sistemas de recomendación, método que fué ganador del Netflix Prize (Funk SVD).\n",
    "\n",
    "<img src=\"https://miro.medium.com/max/700/1*Z0EUVs7QElEqRqXtqut_FQ.png\" />\n",
    "\n",
    "\n",
    "U y V(trapuesta) son ortogonales. Esto es de esperar porque si determinadas propiedades determinan un determinado factor latente, entonces esas propiedades serán poco relevantes en los restantes factores (pues sino, no haría sentido que conformen un factor distinto en un primer lugar).\n",
    "\n",
    "SVC es un metodo de decomposición exacto, lo que singnifica que las matrices U y V son lo suficientemente grandes para mapear exactamente la matriz A. "
   ],
   "metadata": {
    "colab_type": "text",
    "id": "-8tC0kyK_J-6"
   }
  },
  {
   "cell_type": "markdown",
   "source": [
    "### LSI - Latent Semantic Indexing"
   ],
   "metadata": {
    "colab_type": "text",
    "id": "Kh1u5cZzkKbO"
   }
  },
  {
   "cell_type": "markdown",
   "source": [
    "LSI es un caso particular de factorización de matrices. Cuando SVD es utilizado para procesar tópicos en texto y en donde los valores de la matriz A corresponden a frecuencias de palabras, este método se lo denomina Latent Semantic Analysis (sin embargo, en NLP no se lo suele nombrar como LSI).\n",
    "\n",
    "Dado que SVC es un método de decomposición exacto, tiende a producir matrices de poca densidad (sparse). Para evitar este problema, se utiliza una versión modificada de SVC conocida como Truncated SVD que solamente computa los k componentes mas grandes en la descomposición. Esto ayuda a que LSI combata efectivamente el problema de matrices sparse que tienden a generarse cuando se tienen cuerpos de texto con sinónimos y palabras que significan varias cosas dependiendo del contexto. Truncated SVD evíta ser un método de decomposición exacto al aproximar la matriz A utilizando los k tópicos más relevantes.\n",
    "\n",
    "<img src='https://github.com/fastai/course-nlp/raw/aabfeddf61fea29b18c72f841d057b56a216b7eb/images/svd_fb.png' />\n",
    "\n",
    "Facebook Research: Fast Randomized SVD [https://research.fb.com/fast-randomized-svd/])\n",
    "\n",
    "En esta configuración entonces:\n",
    " - Un documento es nada mas que la distribución de palabras que ocurren en el (Bag of words)\n",
    " - A es una matriz de m x n donde m es la cantidad de documentos ú observaciones, y n es la cantidad de palabras en el vocabulario.\n",
    " - Los valores de A corresponden a la frecuencia de la cada palabra del vocabulario en cada observación ú documento.\n",
    " - A es una matriz sujeta a ruido con distribución Gausiana.\n",
    "\n",
    "\n",
    "Referencia: Finding structure with randomness: Probabilistic algorithms for constructing approximate matrix decompositions [https://arxiv.org/abs/0909.4061]"
   ],
   "metadata": {
    "colab_type": "text",
    "id": "U1pbwdPv_J-7"
   }
  },
  {
   "cell_type": "markdown",
   "source": [
    "El principal parametro en LSI es el numero de factores que queremos generar (el parametro K). No existe una regla para especificar este parametro ya que depende del escenario. Valores muy pequeños pueden forzar a los documentos a ser colisionar en los tópicos que son asignados, mientras que valores muy grandes pueden hacer que palabras poco frecuentes y raras terminen determinando su propio \"topico\". Este valor lo especificaremos en n_components. El parametro algorithm hace referencia al método que utilizaremos para generar la descomposición:"
   ],
   "metadata": {
    "colab_type": "text",
    "id": "c1iGWgQZca0C"
   }
  },
  {
   "cell_type": "code",
   "execution_count": null,
   "source": [
    "from sklearn.decomposition import TruncatedSVD\n",
    "\n",
    "svd = TruncatedSVD(n_components=7, algorithm='randomized')\n",
    "USigma = svd.fit_transform(vectors)\n",
    "Sigma = svd.singular_values_\n",
    "VT = svd.components_"
   ],
   "outputs": [],
   "metadata": {
    "colab": {},
    "colab_type": "code",
    "id": "QZ2uzF82_J--"
   }
  },
  {
   "cell_type": "markdown",
   "source": [
    "Si bien en el codigo anterior estamos viendo las 3 matrices, solo nos interesa la matriz VT. ¿Porque? Recuerden que nuestro \"input\" es un conjunto de palabras que luego vectorizamos utilizando TF-IDF. Cada documento está representado por este conjunto de palabras. Nuestro objetivo es disponer una forma donde podamos convertir este set de palabras a \"tópicos\" que sean más informativos que las palabras propiamente dichas. **En consecuencia, lo único que nos interesa aqui es la matriz VT**"
   ],
   "metadata": {
    "colab_type": "text",
    "id": "3bFhXZc6eHQL"
   }
  },
  {
   "cell_type": "code",
   "execution_count": null,
   "source": [
    "VT.shape"
   ],
   "outputs": [
    {
     "output_type": "execute_result",
     "data": {
      "text/plain": [
       "(7, 6729)"
      ]
     },
     "metadata": {
      "tags": []
     },
     "execution_count": 134
    }
   ],
   "metadata": {
    "colab": {
     "base_uri": "https://localhost:8080/",
     "height": 34
    },
    "colab_type": "code",
    "id": "Xvvt3kpu_J_A",
    "outputId": "f6005751-c4c8-476f-9df0-1c0697732a3a"
   }
  },
  {
   "cell_type": "markdown",
   "source": [
    "Internamente, TrucatedSVC es un wrapper de la clase randomized_svd donde la matríz Q que vimos anteriormente se genera a través de un método de sampling aleatorio. Las siguientes lineas son equivalentes a lo que vimos anteriormente:"
   ],
   "metadata": {
    "colab_type": "text",
    "id": "uwu_KCg__J_C"
   }
  },
  {
   "cell_type": "code",
   "execution_count": null,
   "source": [
    "from sklearn.utils.extmath import randomized_svd\n",
    "\n",
    "U, Sigma, VT = randomized_svd(vectors, \n",
    "                              n_components=7,\n",
    "                              n_iter=5)"
   ],
   "outputs": [],
   "metadata": {
    "colab": {},
    "colab_type": "code",
    "id": "_kigl-Xl_J_D"
   }
  },
  {
   "cell_type": "markdown",
   "source": [
    "Podemos validar que U es una matriz ortogonal"
   ],
   "metadata": {
    "colab_type": "text",
    "id": "HV9fOGLB_J_F"
   }
  },
  {
   "cell_type": "code",
   "execution_count": null,
   "source": [
    "np.allclose(U.T @ U, np.eye(U.shape[1]))"
   ],
   "outputs": [
    {
     "output_type": "execute_result",
     "data": {
      "text/plain": [
       "True"
      ]
     },
     "metadata": {
      "tags": []
     },
     "execution_count": 136
    }
   ],
   "metadata": {
    "colab": {
     "base_uri": "https://localhost:8080/",
     "height": 34
    },
    "colab_type": "code",
    "id": "uLYEo9Gm_J_F",
    "outputId": "d538b528-1067-4e18-a3f7-4c7b362e67cc"
   }
  },
  {
   "cell_type": "markdown",
   "source": [
    "Lo siguiente es solo a titulo informativo, pero si vemos los valores de la matriz Sigma, veremos la importancia relativa de los documentos con respecto a los tópicos que encontramos. Si los gráficamos vemos que sus valores comienzan a decrecer relativamente rápido, sosteniendo la supoción de que Truncated SVD genera los K más relevantes tópicos."
   ],
   "metadata": {
    "colab_type": "text",
    "id": "xSv1wUgK_J_I"
   }
  },
  {
   "cell_type": "code",
   "execution_count": null,
   "source": [
    "plt.plot(Sigma)"
   ],
   "outputs": [
    {
     "output_type": "execute_result",
     "data": {
      "text/plain": [
       "[<matplotlib.lines.Line2D at 0x7f349d3837b8>]"
      ]
     },
     "metadata": {
      "tags": []
     },
     "execution_count": 137
    },
    {
     "output_type": "display_data",
     "data": {
      "text/plain": [
       "<Figure size 432x288 with 1 Axes>"
      ],
      "image/png": "[encoded data removed]"
     },
     "metadata": {
      "needs_background": "light",
      "tags": []
     }
    }
   ],
   "metadata": {
    "colab": {
     "base_uri": "https://localhost:8080/",
     "height": 282
    },
    "colab_type": "code",
    "id": "HVI80HRw_J_I",
    "outputId": "95681231-913f-4db9-b04c-f5936cae8e15"
   }
  },
  {
   "cell_type": "markdown",
   "source": [
    "#### Interpretando los tópicos\n"
   ],
   "metadata": {
    "colab_type": "text",
    "id": "IR8CpAYe_J_K"
   }
  },
  {
   "cell_type": "markdown",
   "source": [
    "La siguiente función solo toma la matriz de VT y obtiene las 8 palabras más importantes en este topico. Si quieren pueden variar este parametro para ver más palabras e inspeccionar los tópicos. Esto es importante porque LSI es un método no supervisado, por lo tanto no sabemos a priori cuando un tópico es bueno o malo. El sentido debemos darselo nosotros:"
   ],
   "metadata": {
    "colab_type": "text",
    "id": "ra5f0S7FfKjG"
   }
  },
  {
   "cell_type": "code",
   "execution_count": null,
   "source": [
    "def show_topics(a):\n",
    "    top_words = lambda t: [vocab[i] for i in np.argsort(t)[-8:-1]]\n",
    "    topic_words = ([top_words(t) for t in a])\n",
    "    return [' '.join(t) for t in topic_words]"
   ],
   "outputs": [],
   "metadata": {
    "colab": {},
    "colab_type": "code",
    "id": "fBNIN0xE_J_K"
   }
  },
  {
   "cell_type": "code",
   "execution_count": null,
   "source": [
    "show_topics(VT)"
   ],
   "outputs": [
    {
     "output_type": "execute_result",
     "data": {
      "text/plain": [
       "['medalla querer ganar gustar comprar cerveza cruzcampo',\n",
       " 'olimpia nikes siempre nuevo zapatilla camiseta adidas',\n",
       " 'comprar nuevo conocer gustar aldub81stweeksary superstar cruzcampo',\n",
       " 'bueno querer invitar beber arruinaunacitacon4palabras cerveza gustar',\n",
       " '10 terminar carrera milka ritmar correr acabo',\n",
       " 'alfajor querer ganar carrefour comprar mercadona chocolate',\n",
       " 'panga vender movistar mejor comprar bimbo carrefour']"
      ]
     },
     "metadata": {
      "tags": []
     },
     "execution_count": 139
    }
   ],
   "metadata": {
    "colab": {
     "base_uri": "https://localhost:8080/",
     "height": 136
    },
    "colab_type": "code",
    "id": "IDhDFVY9_J_M",
    "outputId": "9069708a-658f-4509-86f4-9116ecf25e4f"
   }
  },
  {
   "cell_type": "markdown",
   "source": [
    "Limitaciones en LSI:\n",
    " - LSI sufre de un problema llamado \"Indeterminación del signo\", que básicamente significa que el signo en la matríz VT y USigma dependen del algorimo que se utilizó para generarlos y de las condiciones iniciales (initial random state). En este contexto, que significa que un tópico esté relacionado con una palabra en un valor negativo?"
   ],
   "metadata": {
    "colab_type": "text",
    "id": "WKCo8UOd_J_Q"
   }
  },
  {
   "cell_type": "markdown",
   "source": [
    "### NMF: Non-negative Matrix Factorization\n",
    "\n",
    "Motivación: En lugar de construir nuestros factores imponiendo la restricción de que sean ortogonales, la idea es de construirlos de tal forma que sean no-negativos."
   ],
   "metadata": {
    "colab_type": "text",
    "id": "no6V6rtO_J_Q"
   }
  },
  {
   "cell_type": "code",
   "execution_count": null,
   "source": [
    "from sklearn.decomposition import NMF\n",
    "\n",
    "nmf = NMF(n_components=7, random_state = 1234)"
   ],
   "outputs": [],
   "metadata": {
    "colab": {},
    "colab_type": "code",
    "id": "NQwyjnN8_J_R"
   }
  },
  {
   "cell_type": "code",
   "execution_count": null,
   "source": [
    "W1 = nmf.fit_transform(vectors)\n",
    "H1 = nmf.components_"
   ],
   "outputs": [],
   "metadata": {
    "colab": {},
    "colab_type": "code",
    "id": "cdTfBg2n_J_U"
   }
  },
  {
   "cell_type": "markdown",
   "source": [
    "En este caso, la matriz que nos interesa es H1"
   ],
   "metadata": {
    "colab_type": "text",
    "id": "lIYwacxIfxqQ"
   }
  },
  {
   "cell_type": "code",
   "execution_count": null,
   "source": [
    "H1.shape"
   ],
   "outputs": [
    {
     "output_type": "execute_result",
     "data": {
      "text/plain": [
       "(7, 6729)"
      ]
     },
     "metadata": {
      "tags": []
     },
     "execution_count": 142
    }
   ],
   "metadata": {
    "colab": {
     "base_uri": "https://localhost:8080/",
     "height": 34
    },
    "colab_type": "code",
    "id": "S39Zrr06_J_a",
    "outputId": "10dddfe5-2fab-4c6b-e0b1-f73beee22622"
   }
  },
  {
   "cell_type": "markdown",
   "source": [
    "#### Interpretando los tópicos"
   ],
   "metadata": {
    "colab_type": "text",
    "id": "qkEBkOc-fqtT"
   }
  },
  {
   "cell_type": "code",
   "execution_count": null,
   "source": [
    "show_topics(H1)"
   ],
   "outputs": [
    {
     "output_type": "execute_result",
     "data": {
      "text/plain": [
       "['novio comprar querer corona medalla cerveza ganar',\n",
       " 'olimpia color nikes siempre nuevo zapatilla camiseta',\n",
       " 'tenis napaacc cliente nuevo conocer aldub81stweeksary superstar',\n",
       " 'mahou invitar querer beber arruinaunacitacon4palabras cerveza gustar',\n",
       " '50 10 terminar carrera ritmar correr acabo',\n",
       " 'mcflurry necesito quiero querer alfajor ganar chocolate',\n",
       " 'panga vender movistar mejor comprar bimbo carrefour']"
      ]
     },
     "metadata": {
      "tags": []
     },
     "execution_count": 143
    }
   ],
   "metadata": {
    "colab": {
     "base_uri": "https://localhost:8080/",
     "height": 136
    },
    "colab_type": "code",
    "id": "X8qfO_Dx_J_d",
    "outputId": "9394872e-1c2a-4f5f-8ab9-7ef8c7cb7a77"
   }
  },
  {
   "cell_type": "markdown",
   "source": [
    "### LDA: Latent Dirichlet Allocation\n",
    "\n",
    "LDA es un método Bayesiano basado en la distribución de Dirichlet, la cual es una distribución sobre probabilidades en K categorias. LDA supone que los documentos que tenemos pertenecen a K categorias distintas cuya distribución es desconocida, sin embargo, asume que todos los fragmentos que componen el texto fueron generados a través de un mismo proceso generativo. "
   ],
   "metadata": {
    "colab_type": "text",
    "id": "cbMNkPv7_J_i"
   }
  },
  {
   "cell_type": "markdown",
   "source": [
    "La distribución Dirichlet es una generalización de la distribución Beta en un espacio multidimensional. Así como la distribución beta es la distribución previa de la binomial, la distribución de Dirichlet es la distribución previa de la multinomial. \n",
    "\n",
    "$$ P(w\\mid d) = P(d)\\sum_c P(k\\mid d)P(w\\mid k) $$\n",
    "\n",
    "*¿Notan alguna similitud con SVD?*\n",
    "\n",
    "David Blei, Andrew Ng, Michael Jordan:  Latent Dirichlet Allocation [https://jmlr.org/papers/volume3/blei03a/blei03a.pdf]"
   ],
   "metadata": {
    "colab_type": "text",
    "id": "0bct-Ck5f6fs"
   }
  },
  {
   "cell_type": "code",
   "execution_count": null,
   "source": [
    "from sklearn.decomposition import LatentDirichletAllocation\n",
    "\n",
    "lda = LatentDirichletAllocation(n_components=7)"
   ],
   "outputs": [],
   "metadata": {
    "colab": {},
    "colab_type": "code",
    "id": "cN1vPUB3_J_j"
   }
  },
  {
   "cell_type": "code",
   "execution_count": null,
   "source": [
    "lda.fit(vectors)"
   ],
   "outputs": [
    {
     "output_type": "execute_result",
     "data": {
      "text/plain": [
       "LatentDirichletAllocation(batch_size=128, doc_topic_prior=None,\n",
       "                          evaluate_every=-1, learning_decay=0.7,\n",
       "                          learning_method='batch', learning_offset=10.0,\n",
       "                          max_doc_update_iter=100, max_iter=10,\n",
       "                          mean_change_tol=0.001, n_components=7, n_jobs=None,\n",
       "                          perp_tol=0.1, random_state=None,\n",
       "                          topic_word_prior=None, total_samples=1000000.0,\n",
       "                          verbose=0)"
      ]
     },
     "metadata": {
      "tags": []
     },
     "execution_count": 145
    }
   ],
   "metadata": {
    "colab": {
     "base_uri": "https://localhost:8080/",
     "height": 153
    },
    "colab_type": "code",
    "id": "d1dC1tN6_J_k",
    "outputId": "77bbfe70-3ae7-4c2e-f829-d93282057b45"
   }
  },
  {
   "cell_type": "code",
   "execution_count": null,
   "source": [
    "for idx, topic in enumerate(lda.components_):\n",
    "    print (\"Topic \", idx, \" \".join(vocab[i] for i in topic.argsort()[:-10 - 1:-1]))"
   ],
   "outputs": [
    {
     "output_type": "stream",
     "name": "stdout",
     "text": [
      "Topic  0 cruzcampo milka heineken toyota gustar bimbo carrefour cerveza llevar arruinaunacitacon4palabras\n",
      "Topic  1 adir adidas mercadona bimbo comprar heineken alcampo milka barato supermercado\n",
      "Topic  2 querer heineken adidas mercadona ir movistar banco poder hacendar vez\n",
      "Topic  3 galicia carrefour estrella movistar banco mercadona heineken soler sabadell bueno\n",
      "Topic  4 movistar toyota heineken mercadona adidas favor suzuki hacer vender adir\n",
      "Topic  5 heineken nikeplus acabo correr ritmar santander mejor bimbo mercadona cerveza\n",
      "Topic  6 heineken mueble bankia adir montar encontrar vestir quien medalla carrefour\n"
     ]
    }
   ],
   "metadata": {
    "colab": {
     "base_uri": "https://localhost:8080/",
     "height": 136
    },
    "colab_type": "code",
    "id": "cF-MpBfDgk2O",
    "outputId": "62f4a800-b397-4893-b7ca-f101ece7334f"
   }
  }
 ],
 "metadata": {
  "colab": {
   "name": "Topic Modeling.ipynb",
   "provenance": [],
   "toc_visible": true
  },
  "kernelspec": {
   "display_name": "Python 3 (ipykernel)",
   "language": "python",
   "name": "python3"
  },
  "language_info": {
   "codemirror_mode": {
    "name": "ipython",
    "version": 3
   },
   "file_extension": ".py",
   "mimetype": "text/x-python",
   "name": "python",
   "nbconvert_exporter": "python",
   "pygments_lexer": "ipython3",
   "version": "3.8.11"
  }
 },
 "nbformat": 4,
 "nbformat_minor": 2
}