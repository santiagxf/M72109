{
 "cells": [
  {
   "cell_type": "markdown",
   "source": [
    "Ejemplo: Modelo basado en encoders\n",
    "==============================="
   ],
   "metadata": {
    "colab_type": "text",
    "id": "nQGxT74Sdis4"
   }
  },
  {
   "cell_type": "markdown",
   "source": [
    "Introducción\n",
    "------------"
   ],
   "metadata": {}
  },
  {
   "cell_type": "markdown",
   "source": [
    "Una de las formás más sencillas de utilizar esta idea es simplemente utilizando el vector resultante de la red RNN. De esta forma al modelo observa el estado final al que ha arrivado la red y toma una decisión dependiendo del caso a resolver. Tipicamente este vector resultante es conectado a una capa densa (fully connected layer) para general la predicción. Los grandientes de los errores son propagados en la red para toda la secuencia y suele ser cualquier función típica como ser `cross entropy`, `hinge`, etc.\n",
    "\n",
    "Veremos como podemos aplicar esta idea para resolver nuestro problema de clasificación de tweets"
   ],
   "metadata": {
    "colab_type": "text",
    "id": "vjuHJnQOdis6"
   }
  },
  {
   "cell_type": "markdown",
   "source": [
    "### Para ejecutar este notebook"
   ],
   "metadata": {
    "colab_type": "text",
    "id": "Dcyc_TQ6dis7"
   }
  },
  {
   "cell_type": "markdown",
   "source": [
    "Para ejecutar este notebook, instale las siguientes librerias:"
   ],
   "metadata": {}
  },
  {
   "cell_type": "code",
   "execution_count": null,
   "source": [
    "!wget https://raw.githubusercontent.com/santiagxf/M72109/master/NLP/Datasets/mascorpus/tweets_marketing.csv \\\n",
    "    --quiet --no-clobber --directory-prefix ./Datasets/mascorpus/\n",
    "!wget https://raw.githubusercontent.com/santiagxf/M72109/master/NLP/Utils/TextNormalizer.py \\\n",
    "    --quiet --no-clobber --directory-prefix ./Utils/\n",
    "!wget https://raw.githubusercontent.com/santiagxf/M72109/master/NLP/Utils/PadSequenceTransformer.py \\\n",
    "    --quiet --no-clobber --directory-prefix ./Utils/\n",
    "    \n",
    "!wget https://raw.githubusercontent.com/santiagxf/M72109/master/docs/nlp/neural/sequences-encoder.txt \\\n",
    "    --quiet --no-clobber\n",
    "!pip install -r sequences-encoder --quiet"
   ],
   "outputs": [],
   "metadata": {}
  },
  {
   "cell_type": "markdown",
   "source": [
    "Descargamos nuestros vectores de word2vec en español"
   ],
   "metadata": {
    "colab_type": "text",
    "id": "Gl18LLmkeqjx"
   }
  },
  {
   "cell_type": "code",
   "execution_count": null,
   "source": [
    "!mkdir -p ./Models/Word2Vec\n",
    "!wget https://santiagxf.blob.core.windows.net/public/Word2Vec/model-es.bin \\\n",
    "    --quiet --no-clobber --directory-prefix ./Models/Word2Vec"
   ],
   "outputs": [],
   "metadata": {
    "colab": {
     "base_uri": "https://localhost:8080/",
     "height": 0
    },
    "colab_type": "code",
    "id": "LJVkiH2lesN1",
    "outputId": "601bd944-7669-47dc-b0ca-7aa67938c492"
   }
  },
  {
   "cell_type": "code",
   "execution_count": 1,
   "source": [
    "import warnings\n",
    "warnings.filterwarnings('ignore')"
   ],
   "outputs": [],
   "metadata": {
    "colab": {},
    "colab_type": "code",
    "id": "Ntcs1AlpfckX"
   }
  },
  {
   "cell_type": "markdown",
   "source": [
    "Instalamos las librerias necesarias"
   ],
   "metadata": {
    "colab_type": "text",
    "id": "0rRpBRahditI"
   }
  },
  {
   "cell_type": "code",
   "execution_count": null,
   "source": [
    "!python -m spacy download es_core_news_sm"
   ],
   "outputs": [],
   "metadata": {
    "colab": {
     "base_uri": "https://localhost:8080/",
     "height": 0
    },
    "colab_type": "code",
    "id": "UgVf9-V7ditI",
    "outputId": "4a451c22-3615-471e-dd17-22b4c56b589f"
   }
  },
  {
   "cell_type": "markdown",
   "source": [
    "Cargamos el set de datos"
   ],
   "metadata": {
    "colab_type": "text",
    "id": "CC7vGpjqditL"
   }
  },
  {
   "cell_type": "code",
   "execution_count": 2,
   "source": [
    "import pandas as pd\n",
    "\n",
    "tweets = pd.read_csv('Datasets/mascorpus/tweets_marketing.csv')"
   ],
   "outputs": [],
   "metadata": {
    "colab": {},
    "colab_type": "code",
    "id": "pmJpenUkditM"
   }
  },
  {
   "cell_type": "code",
   "execution_count": 3,
   "source": [
    "from sklearn.model_selection import train_test_split\n",
    "\n",
    "X_train, X_test, y_train, y_test = train_test_split(tweets['TEXTO'], tweets['SECTOR'], \n",
    "                                                    test_size=0.33, \n",
    "                                                    stratify=tweets['SECTOR'])"
   ],
   "outputs": [],
   "metadata": {
    "colab": {},
    "colab_type": "code",
    "id": "RKrEadrGditO"
   }
  },
  {
   "cell_type": "markdown",
   "source": [
    "## Preprocesamiento de texto"
   ],
   "metadata": {
    "colab_type": "text",
    "id": "kwRwMqoSditT"
   }
  },
  {
   "cell_type": "markdown",
   "source": [
    "Al igual que con Topic Modeling, nuestro primer paso es preprocesar el texto. Para focalizarnos en Word2Vec en este modulo, les preparé un modulo TweetTextNormalizer que hará todo el preprocesamiento por nosotros. Pueden explorar los parametros que recibe el constructor de esta clase para ver que opciones podemos configurar como Stemmer, Lemmatization, etc.\n",
    "\n",
    "En lo particular, estamos creando un TweetTextNormalizer que:\n",
    " - Aplicará un tokenizer especifico para Twitter\n",
    " - Eliminará stop words\n",
    " - Aplicará lemmatization\n",
    " - Eliminará URLs\n",
    " - Eliminará acentos\n",
    " - Eliminará las mayusculas\n",
    " \n",
    "Adicionalmente, el parametro text_to_sequence=True indica que la salida de este proceso no serán oraciones sino que tokens."
   ],
   "metadata": {
    "colab_type": "text",
    "id": "_qrYYZ0FditT"
   }
  },
  {
   "cell_type": "code",
   "execution_count": 4,
   "source": [
    "from Utils.TextNormalizer import TweetTextNormalizer"
   ],
   "outputs": [],
   "metadata": {
    "colab": {},
    "colab_type": "code",
    "id": "Jnuzl8qbditU"
   }
  },
  {
   "cell_type": "code",
   "execution_count": 5,
   "source": [
    "normalizer = TweetTextNormalizer(preserve_case=False, text_to_sequence=True, token_min_len=2)"
   ],
   "outputs": [],
   "metadata": {
    "colab": {},
    "colab_type": "code",
    "id": "kFYzMdiCditX"
   }
  },
  {
   "cell_type": "markdown",
   "source": [
    "Podemos probar como funciona:"
   ],
   "metadata": {
    "colab_type": "text",
    "id": "6sD5jK6ndita"
   }
  },
  {
   "cell_type": "code",
   "execution_count": 6,
   "source": [
    "normalized_tweets = list(normalizer.transform(tweets[\"TEXTO\"]))"
   ],
   "outputs": [],
   "metadata": {
    "colab": {},
    "colab_type": "code",
    "id": "ldKc0udIditb"
   }
  },
  {
   "cell_type": "markdown",
   "source": [
    "## Vectorización de las palabras"
   ],
   "metadata": {
    "colab_type": "text",
    "id": "QdoLyHg9ditd"
   }
  },
  {
   "cell_type": "markdown",
   "source": [
    "En las actividades anteriores utilizamos siempre un TF-IDF vectorizer para generar los vectores. En esta oportunidad utilizaremos vectores densos. Aprenderemos estos vectores densos como parte de la red que estamos entrenando.\n",
    "\n",
    "Por este motivo, realizaremos una vectorización utilizando `index-based encoding`."
   ],
   "metadata": {
    "colab_type": "text",
    "id": "a9iuTrwXditd"
   }
  },
  {
   "cell_type": "code",
   "execution_count": 7,
   "source": [
    "from tensorflow.keras.preprocessing.text import Tokenizer"
   ],
   "outputs": [],
   "metadata": {
    "colab": {},
    "colab_type": "code",
    "id": "jE-SlBWddite"
   }
  },
  {
   "cell_type": "code",
   "execution_count": 8,
   "source": [
    "tokenizer = Tokenizer(num_words=10000)\n",
    "tokenizer.fit_on_texts(normalized_tweets)"
   ],
   "outputs": [],
   "metadata": {
    "colab": {
     "base_uri": "https://localhost:8080/",
     "height": 71
    },
    "colab_type": "code",
    "id": "vkWxVLPYditg",
    "outputId": "50655397-0e29-455d-b6db-3d3454968785"
   }
  },
  {
   "cell_type": "markdown",
   "source": [
    "Verifiquemos el vocabulario resultante:"
   ],
   "metadata": {
    "colab_type": "text",
    "id": "UtL8BkQPditk"
   }
  },
  {
   "cell_type": "code",
   "execution_count": 9,
   "source": [
    "vocab_size = tokenizer.num_words + 1\n",
    "print('El tamaño del vocabulario es: %d' % vocab_size)"
   ],
   "outputs": [
    {
     "output_type": "stream",
     "name": "stdout",
     "text": [
      "El tamaño del vocabulario es: 10001\n"
     ]
    }
   ],
   "metadata": {}
  },
  {
   "cell_type": "markdown",
   "source": [
    "Veamos algunos de los vectores resultantes:"
   ],
   "metadata": {}
  },
  {
   "cell_type": "code",
   "execution_count": 10,
   "source": [
    "list(tokenizer.word_index.items())[:20]"
   ],
   "outputs": [
    {
     "output_type": "execute_result",
     "data": {
      "text/plain": [
       "[('...', 1),\n",
       " ('adir', 2),\n",
       " ('heineken', 3),\n",
       " ('nike', 4),\n",
       " ('ikea', 5),\n",
       " ('mercadona', 6),\n",
       " ('bbva', 7),\n",
       " ('movistar', 8),\n",
       " ('cruzcampo', 9),\n",
       " ('carrefour', 10),\n",
       " ('ir', 11),\n",
       " ('bimbo', 12),\n",
       " ('hacer', 13),\n",
       " ('comprar', 14),\n",
       " ('poder', 15),\n",
       " ('toyota', 16),\n",
       " ('milka', 17),\n",
       " ('bankia', 18),\n",
       " ('bueno', 19),\n",
       " ('nuevo', 20)]"
      ]
     },
     "metadata": {},
     "execution_count": 10
    }
   ],
   "metadata": {}
  },
  {
   "cell_type": "markdown",
   "source": [
    "Aplicamos la transformación para pasar de palabras a indices:"
   ],
   "metadata": {}
  },
  {
   "cell_type": "code",
   "execution_count": 11,
   "source": [
    "input_tweets = tokenizer.texts_to_sequences(normalized_tweets)"
   ],
   "outputs": [],
   "metadata": {}
  },
  {
   "cell_type": "markdown",
   "source": [
    "## Construirmos un modelo basado en secuencias"
   ],
   "metadata": {
    "colab_type": "text",
    "id": "uBNY37iIditm"
   }
  },
  {
   "cell_type": "markdown",
   "source": [
    "### Ajustando la longitud de las secuencias"
   ],
   "metadata": {
    "colab_type": "text",
    "id": "vhfhArdbdit5"
   }
  },
  {
   "cell_type": "markdown",
   "source": [
    "Los modelos basados en secuencias pueden adaptarse a cualquier longitud de secuencia, sin embargo, los parametros de nuestras redes neuronales deberan ser fijos. Para esto definiermos una longitud máxima de la secuencia que vamos analizar. Para esto podemos utilizar un valor especifico o utilizar el valor máximo de tokens que hay en nuestro corpus."
   ],
   "metadata": {
    "colab_type": "text",
    "id": "_WpivJzsdit6"
   }
  },
  {
   "cell_type": "markdown",
   "source": [
    "Para saber que valor es el correcto, podemos graficar la distribución de cantidad de palabras en los tweets:"
   ],
   "metadata": {}
  },
  {
   "cell_type": "code",
   "execution_count": 12,
   "source": [
    "tweets_lens = [len(n) for n in input_tweets]\n",
    "tweets_lens\n",
    "\n",
    "import seaborn as sns\n",
    "sns.displot(tweets_lens)"
   ],
   "outputs": [
    {
     "output_type": "execute_result",
     "data": {
      "text/plain": [
       "<seaborn.axisgrid.FacetGrid at 0x7fb6a84773d0>"
      ]
     },
     "metadata": {},
     "execution_count": 12
    },
    {
     "output_type": "display_data",
     "data": {
      "image/png": "[encoded data removed]",
      "text/plain": [
       "<Figure size 360x360 with 1 Axes>"
      ]
     },
     "metadata": {
      "needs_background": "light"
     }
    }
   ],
   "metadata": {}
  },
  {
   "cell_type": "markdown",
   "source": [
    "Utilicemos entonces:"
   ],
   "metadata": {}
  },
  {
   "cell_type": "code",
   "execution_count": 13,
   "source": [
    "max_seq_len = 50"
   ],
   "outputs": [],
   "metadata": {
    "colab": {},
    "colab_type": "code",
    "id": "u-2T5o8Rdit9"
   }
  },
  {
   "cell_type": "markdown",
   "source": [
    "La siguiente clase PadSequenceTransformer es un modulo que les preparé para simplificar este procesamiento. El mismo se encarga de ajustar cualquier secuencia para que tenga exactamente max_seq_len. Cuando la lingitud es mejor, se completan con ceros."
   ],
   "metadata": {
    "colab_type": "text",
    "id": "5Q2zBOXUdit6"
   }
  },
  {
   "cell_type": "code",
   "execution_count": 14,
   "source": [
    "from Utils.PadSequenceTransformer import PadSequenceTransformer"
   ],
   "outputs": [],
   "metadata": {
    "colab": {},
    "colab_type": "code",
    "id": "NeVilfLMdit7"
   }
  },
  {
   "cell_type": "code",
   "execution_count": 15,
   "source": [
    "padder = PadSequenceTransformer(max_len=max_seq_len)"
   ],
   "outputs": [],
   "metadata": {
    "colab": {},
    "colab_type": "code",
    "id": "BpfZiKM_dit_"
   }
  },
  {
   "cell_type": "code",
   "execution_count": 16,
   "source": [
    "input_tweets_padded = padder.transform(input_tweets)"
   ],
   "outputs": [],
   "metadata": {}
  },
  {
   "cell_type": "markdown",
   "source": [
    "Convertimos nuestra entrada a arreglos de tipo `numpy`"
   ],
   "metadata": {}
  },
  {
   "cell_type": "code",
   "execution_count": 18,
   "source": [
    "import numpy as np\n",
    "\n",
    "input_tweets_np =  np.array(input_tweets_padded).astype('int32')"
   ],
   "outputs": [],
   "metadata": {}
  },
  {
   "cell_type": "markdown",
   "source": [
    "### Creando conjuntos de entrenamiento y validación"
   ],
   "metadata": {
    "colab_type": "text",
    "id": "vhfhArdbdit5"
   }
  },
  {
   "cell_type": "markdown",
   "source": [
    "Crearemos 2 conjuntos de datos para entrenar y validar"
   ],
   "metadata": {}
  },
  {
   "cell_type": "code",
   "execution_count": 19,
   "source": [
    "from sklearn.model_selection import train_test_split\n",
    "\n",
    "idx_train, idx_test = train_test_split(range(len(input_tweets_np)), \n",
    "                                       test_size=0.33, \n",
    "                                       stratify=tweets['SECTOR'])"
   ],
   "outputs": [],
   "metadata": {}
  },
  {
   "cell_type": "markdown",
   "source": [
    "Necesitamos la variable de salida codificada también en forma de indices:"
   ],
   "metadata": {}
  },
  {
   "cell_type": "code",
   "execution_count": 20,
   "source": [
    "from sklearn.preprocessing import LabelEncoder\n",
    "\n",
    "label_encoder = LabelEncoder()\n",
    "label_encoder = label_encoder.fit(tweets[\"SECTOR\"])\n",
    "number_classes = len(label_encoder.classes_)"
   ],
   "outputs": [],
   "metadata": {}
  },
  {
   "cell_type": "markdown",
   "source": [
    "Creamos los conjuntos de datos:"
   ],
   "metadata": {}
  },
  {
   "cell_type": "code",
   "execution_count": 21,
   "source": [
    "X_train = np.array(input_tweets_np[idx_train]).astype('int32')\n",
    "y_train = np.array(label_encoder.transform(tweets[\"SECTOR\"][idx_train]))\n",
    "\n",
    "X_test = np.array(input_tweets_np[idx_test]).astype('int32')\n",
    "y_test = np.array(label_encoder.transform(tweets[\"SECTOR\"][idx_test]))"
   ],
   "outputs": [],
   "metadata": {}
  },
  {
   "cell_type": "code",
   "execution_count": 22,
   "source": [
    "print(\"Training:\", X_train.shape)\n",
    "print(\"Testing:\", X_test.shape)"
   ],
   "outputs": [
    {
     "output_type": "stream",
     "name": "stdout",
     "text": [
      "Training: (2521, 50)\n",
      "Testing: (1242, 50)\n"
     ]
    }
   ],
   "metadata": {}
  },
  {
   "cell_type": "markdown",
   "source": [
    "### Construyendo el modelo"
   ],
   "metadata": {}
  },
  {
   "cell_type": "markdown",
   "source": [
    "Para construir nuestro modelo, utilizaremos TensorFlow. En particular utilizaremos la API de Keras que nos permite componer modelos de redes neuronales como una secuencia de pasos o capas que se conectan en una dirección. \n",
    "\n",
    "Utilizemos los siguientes tipos de capas:\n",
    " *  **Embedding:** Esta capa transforma vectores que representan indices dentro de una matriz en representaciones vectoriales densas. Básicamente en este caso nos resolverá la busqueda de las representaciones vectoriales para nuestras palabras. **Intentaremos aprender embdeddings de tamaño 100**\n",
    " * **SpatialDropout1D:** Este tipo de capas ayudan a promover la independencia entre filtros (feature maps). Funciona en forma analoga a Dropout pero en lugar de desconectar elementos individuales, desconecta el filtro completo.\n",
    " * **LSTM:** Long Short-Term Memory layer - Hochreiter 1997\n",
    " * **Dense:** Una típica capa de una red neuronal completamente conectada (fully connected)\n",
    " \n",
    "Algunos detalles para notar:\n",
    " * *loss='sparse_categorical_crossentropy'*, este problema de clasificación (crossentropy) de más de una clase (categorical). Sin embargo, nuestro output produce probabilidades de cada una de las clases posibles (7) en forma one-hot encoding. \n",
    " * *metrics=['accuracy']*: Si bien nuestra metrica es accuracy, Keras hará un promedio ponderado del accuracy de cada clase. Este es el comportamiento por defecto."
   ],
   "metadata": {
    "colab_type": "text",
    "id": "lnhHx7Pddito"
   }
  },
  {
   "cell_type": "code",
   "execution_count": 23,
   "source": [
    "emdedding_size = 100"
   ],
   "outputs": [],
   "metadata": {}
  },
  {
   "cell_type": "code",
   "execution_count": 24,
   "source": [
    "import tensorflow as tf\n",
    "import tensorflow.keras as keras\n",
    "from tensorflow.keras.models import Sequential, Model\n",
    "from tensorflow.keras.layers import Embedding, Dense, LSTM, SpatialDropout1D"
   ],
   "outputs": [],
   "metadata": {
    "colab": {},
    "colab_type": "code",
    "id": "LQ2C980jditp"
   }
  },
  {
   "cell_type": "code",
   "execution_count": 25,
   "source": [
    "model = Sequential([\n",
    "    Embedding(input_dim=vocab_size, \n",
    "              input_length=max_seq_len,\n",
    "              output_dim=emdedding_size,\n",
    "              mask_zero=True),\n",
    "    SpatialDropout1D(0.2),\n",
    "    LSTM(emdedding_size),\n",
    "    Dense(number_classes, activation=\"softmax\", name=\"output\")\n",
    "])\n",
    "\n",
    "model.compile(loss='sparse_categorical_crossentropy',\n",
    "              optimizer='adam',\n",
    "              metrics=[\"accuracy\"])"
   ],
   "outputs": [
    {
     "output_type": "stream",
     "name": "stderr",
     "text": [
      "2021-09-22 17:01:21.211473: W tensorflow/stream_executor/platform/default/dso_loader.cc:55] Could not load dynamic library 'libcuda.so.1'; dlerror: libcuda.so.1: cannot open shared object file: No such file or directory\n",
      "2021-09-22 17:01:21.211602: E tensorflow/stream_executor/cuda/cuda_driver.cc:313] failed call to cuInit: UNKNOWN ERROR (303)\n",
      "2021-09-22 17:01:21.212528: I tensorflow/stream_executor/cuda/cuda_diagnostics.cc:156] kernel driver does not appear to be running on this host (laptop): /proc/driver/nvidia/version does not exist\n",
      "2021-09-22 17:01:21.213851: I tensorflow/core/platform/cpu_feature_guard.cc:143] Your CPU supports instructions that this TensorFlow binary was not compiled to use: AVX2 AVX512F FMA\n",
      "2021-09-22 17:01:21.224121: I tensorflow/core/platform/profile_utils/cpu_utils.cc:102] CPU Frequency: 1497600000 Hz\n",
      "2021-09-22 17:01:21.226572: I tensorflow/compiler/xla/service/service.cc:168] XLA service 0x7fb614000b60 initialized for platform Host (this does not guarantee that XLA will be used). Devices:\n",
      "2021-09-22 17:01:21.226628: I tensorflow/compiler/xla/service/service.cc:176]   StreamExecutor device (0): Host, Default Version\n"
     ]
    }
   ],
   "metadata": {}
  },
  {
   "cell_type": "markdown",
   "source": [
    "Podemos inspeccionar el modelo:"
   ],
   "metadata": {
    "colab_type": "text",
    "id": "XWc2N0O-ditw"
   }
  },
  {
   "cell_type": "code",
   "execution_count": 26,
   "source": [
    "model.summary()"
   ],
   "outputs": [
    {
     "output_type": "stream",
     "name": "stdout",
     "text": [
      "Model: \"sequential\"\n",
      "_________________________________________________________________\n",
      "Layer (type)                 Output Shape              Param #   \n",
      "=================================================================\n",
      "embedding (Embedding)        (None, 50, 100)           1000100   \n",
      "_________________________________________________________________\n",
      "spatial_dropout1d (SpatialDr (None, 50, 100)           0         \n",
      "_________________________________________________________________\n",
      "lstm (LSTM)                  (None, 100)               80400     \n",
      "_________________________________________________________________\n",
      "output (Dense)               (None, 7)                 707       \n",
      "=================================================================\n",
      "Total params: 1,081,207\n",
      "Trainable params: 1,081,207\n",
      "Non-trainable params: 0\n",
      "_________________________________________________________________\n"
     ]
    }
   ],
   "metadata": {
    "colab": {},
    "colab_type": "code",
    "id": "vmk-mnMzditw"
   }
  },
  {
   "cell_type": "markdown",
   "source": [
    "### Entrenamiento"
   ],
   "metadata": {
    "colab_type": "text",
    "id": "VpwiD4GGdiuB"
   }
  },
  {
   "cell_type": "markdown",
   "source": [
    "Entrenamos nuestro modelo"
   ],
   "metadata": {
    "colab_type": "text",
    "id": "webM_rFCdiuD"
   }
  },
  {
   "cell_type": "code",
   "execution_count": 27,
   "source": [
    "history = model.fit(X_train,\n",
    "                    y_train,\n",
    "                    batch_size=124,\n",
    "                    epochs=20,\n",
    "                    validation_data=(X_test, y_test))"
   ],
   "outputs": [
    {
     "output_type": "stream",
     "name": "stdout",
     "text": [
      "Epoch 1/20\n",
      "21/21 [==============================] - 3s 136ms/step - loss: 1.9097 - accuracy: 0.3610 - val_loss: 1.8371 - val_accuracy: 0.4130\n",
      "Epoch 2/20\n",
      "21/21 [==============================] - 2s 116ms/step - loss: 1.6095 - accuracy: 0.5422 - val_loss: 1.3369 - val_accuracy: 0.6498\n",
      "Epoch 3/20\n",
      "21/21 [==============================] - 3s 120ms/step - loss: 0.8766 - accuracy: 0.8183 - val_loss: 0.8414 - val_accuracy: 0.8229\n",
      "Epoch 4/20\n",
      "21/21 [==============================] - 2s 103ms/step - loss: 0.3740 - accuracy: 0.9576 - val_loss: 0.6677 - val_accuracy: 0.8567\n",
      "Epoch 5/20\n",
      "21/21 [==============================] - 2s 118ms/step - loss: 0.1883 - accuracy: 0.9829 - val_loss: 0.6239 - val_accuracy: 0.8663\n",
      "Epoch 6/20\n",
      "21/21 [==============================] - 3s 121ms/step - loss: 0.1007 - accuracy: 0.9929 - val_loss: 0.6850 - val_accuracy: 0.8680\n",
      "Epoch 7/20\n",
      "21/21 [==============================] - 3s 119ms/step - loss: 0.0683 - accuracy: 0.9933 - val_loss: 0.7685 - val_accuracy: 0.8583\n",
      "Epoch 8/20\n",
      "21/21 [==============================] - 2s 113ms/step - loss: 0.0538 - accuracy: 0.9948 - val_loss: 0.6088 - val_accuracy: 0.8784\n",
      "Epoch 9/20\n",
      "21/21 [==============================] - 2s 117ms/step - loss: 0.0409 - accuracy: 0.9976 - val_loss: 0.6699 - val_accuracy: 0.8760\n",
      "Epoch 10/20\n",
      "21/21 [==============================] - 3s 123ms/step - loss: 0.0331 - accuracy: 0.9984 - val_loss: 0.6897 - val_accuracy: 0.8680\n",
      "Epoch 11/20\n",
      "21/21 [==============================] - 2s 118ms/step - loss: 0.0270 - accuracy: 0.9988 - val_loss: 0.7222 - val_accuracy: 0.8688\n",
      "Epoch 12/20\n",
      "21/21 [==============================] - 3s 120ms/step - loss: 0.0230 - accuracy: 0.9988 - val_loss: 0.7491 - val_accuracy: 0.8663\n",
      "Epoch 13/20\n",
      "21/21 [==============================] - 3s 121ms/step - loss: 0.0206 - accuracy: 0.9988 - val_loss: 0.7233 - val_accuracy: 0.8688\n",
      "Epoch 14/20\n",
      "21/21 [==============================] - 2s 114ms/step - loss: 0.0173 - accuracy: 0.9992 - val_loss: 0.7296 - val_accuracy: 0.8712\n",
      "Epoch 15/20\n",
      "21/21 [==============================] - 3s 124ms/step - loss: 0.0155 - accuracy: 0.9988 - val_loss: 0.7691 - val_accuracy: 0.8680\n",
      "Epoch 16/20\n",
      "21/21 [==============================] - 2s 119ms/step - loss: 0.0158 - accuracy: 0.9988 - val_loss: 0.7888 - val_accuracy: 0.8663\n",
      "Epoch 17/20\n",
      "21/21 [==============================] - 2s 116ms/step - loss: 0.0147 - accuracy: 0.9984 - val_loss: 0.7678 - val_accuracy: 0.8655\n",
      "Epoch 18/20\n",
      "21/21 [==============================] - 2s 119ms/step - loss: 0.0145 - accuracy: 0.9988 - val_loss: 0.7902 - val_accuracy: 0.8623\n",
      "Epoch 19/20\n",
      "21/21 [==============================] - 3s 120ms/step - loss: 0.0158 - accuracy: 0.9980 - val_loss: 0.7454 - val_accuracy: 0.8704\n",
      "Epoch 20/20\n",
      "21/21 [==============================] - 3s 120ms/step - loss: 0.0131 - accuracy: 0.9988 - val_loss: 0.7306 - val_accuracy: 0.8736\n"
     ]
    }
   ],
   "metadata": {
    "colab": {
     "base_uri": "https://localhost:8080/",
     "height": 1000
    },
    "colab_type": "code",
    "id": "sJYPslBwdiuE",
    "outputId": "3c5e3f32-ec0c-4432-d03a-fe9b45fc66dc"
   }
  },
  {
   "cell_type": "markdown",
   "source": [
    "## Evalución de los resultados"
   ],
   "metadata": {
    "colab_type": "text",
    "id": "D3DtoSNTdiuJ"
   }
  },
  {
   "cell_type": "markdown",
   "source": [
    "Probamos su performance utilizando el test set"
   ],
   "metadata": {
    "colab_type": "text",
    "id": "aFmZCv5KdiuK"
   }
  },
  {
   "cell_type": "code",
   "execution_count": 32,
   "source": [
    "predictions = model.predict(X_test).argmax(axis=-1)"
   ],
   "outputs": [],
   "metadata": {
    "colab": {
     "base_uri": "https://localhost:8080/",
     "height": 88
    },
    "colab_type": "code",
    "id": "kqM4G2BVdiuL",
    "outputId": "6882201a-67a9-4f31-b33b-4aa1bf816380"
   }
  },
  {
   "cell_type": "code",
   "execution_count": 39,
   "source": [
    "from sklearn.metrics import classification_report\n",
    "\n",
    "print(classification_report(y_test, predictions, target_names=label_encoder.classes_))"
   ],
   "outputs": [
    {
     "output_type": "stream",
     "name": "stdout",
     "text": [
      "              precision    recall  f1-score   support\n",
      "\n",
      "ALIMENTACION       0.93      0.89      0.91       110\n",
      "  AUTOMOCION       0.84      0.89      0.86       148\n",
      "       BANCA       0.92      0.84      0.88       198\n",
      "     BEBIDAS       0.84      0.85      0.84       223\n",
      "    DEPORTES       0.97      0.90      0.93       216\n",
      "      RETAIL       0.85      0.90      0.88       268\n",
      "       TELCO       0.72      0.82      0.77        79\n",
      "\n",
      "    accuracy                           0.87      1242\n",
      "   macro avg       0.87      0.87      0.87      1242\n",
      "weighted avg       0.88      0.87      0.87      1242\n",
      "\n"
     ]
    }
   ],
   "metadata": {
    "colab": {
     "base_uri": "https://localhost:8080/",
     "height": 255
    },
    "colab_type": "code",
    "id": "XSIlnu1zdiuN",
    "outputId": "1a80c583-9afc-434c-eedf-33f36c0846cf"
   }
  }
 ],
 "metadata": {
  "colab": {
   "name": "Word2Vec - Secuencias.ipynb",
   "provenance": [],
   "toc_visible": true
  },
  "kernelspec": {
   "display_name": "Python 3 (ipykernel)",
   "language": "python",
   "name": "python3"
  },
  "language_info": {
   "codemirror_mode": {
    "name": "ipython",
    "version": 3
   },
   "file_extension": ".py",
   "mimetype": "text/x-python",
   "name": "python",
   "nbconvert_exporter": "python",
   "pygments_lexer": "ipython3",
   "version": "3.8.11"
  }
 },
 "nbformat": 4,
 "nbformat_minor": 4
}