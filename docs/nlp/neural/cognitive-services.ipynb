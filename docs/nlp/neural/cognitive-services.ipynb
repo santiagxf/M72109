{
 "cells": [
  {
   "cell_type": "markdown",
   "metadata": {
    "id": "zB90naET_nXL"
   },
   "source": [
    "```\n",
    "ME72: Maestría en Métodos Cuantitativos para la Gestión y Análisis de Datos\n",
    "M72109: Analisis de datos no estructurados\n",
    "Universidad de Buenos Aires - Facultad de Ciencias Economicas (UBA-FCE)\n",
    "Año: 2020\n",
    "Profesor: Facundo Santiago, Javier Ignacio Garcia Fronti\n",
    "```"
   ]
  },
  {
   "cell_type": "markdown",
   "metadata": {
    "id": "uHRhBRiL_nXM"
   },
   "source": [
    "# Servicios cognitivos de Análisis de Texto"
   ]
  },
  {
   "cell_type": "markdown",
   "metadata": {
    "id": "XGUSNsyp_nXN"
   },
   "source": [
    "## ¿Que son los servicios cognitivos?"
   ]
  },
  {
   "cell_type": "markdown",
   "metadata": {
    "id": "jOCRhnVl_nXO"
   },
   "source": [
    "Crear modelos de Análisis de Texto que tengan gran precisión y funcionen en una variedad de contextos importante no es una tarea sencilla. Requiren grandes cantidades de datos y experencia en la creación de modelos básados en Deep Learning. A medida que el procesamiento de texto se vuelve mas robusto, muchas organizaciones de tecnología han optado por empaquetar estos modelos de alta performance y ofrecerlos como servicios que las organizaciones pueden consumir directamente como un servicio web. \n",
    "\n",
    "Azure Cognitive Services es uno de estos servicios, el cual cuenta con una API y librerias que se pueden utilizar en multiples lenguajes para ayudarnos a construir aplicaciones inteligentes sin necesidad de tener habilidades de ciencia de datos ni grandes volumenes de información."
   ]
  },
  {
   "cell_type": "markdown",
   "metadata": {
    "id": "yj6gkkZL_nXO"
   },
   "source": [
    "En nuestro caso, exploraremos los servicios cognitivos de Análisis de Texto entre los cuales se encuentran:\n",
    "\n",
    "<table class=\"table\">\n",
    "<thead>\n",
    "<tr>\n",
    "<th style=\"text-align: left;\">Nombre del servicio</th>\n",
    "<th style=\"text-align: left;\">Descripción</th>\n",
    "</tr>\n",
    "</thead>\n",
    "<tbody>\n",
    "<tr>\n",
    "<td style=\"text-align: left;\"><a href=\"/en-us/azure/cognitive-services/computer-vision/\" title=\"Análisis de sentimiento\" data-linktype=\"absolute-path\">Análisis de sentimiento</a></td>\n",
    "<td style=\"text-align: left;\">El análisis de sentimiento permite averiguar el sentimiento de un texto analizando su contenido.</td>\n",
    "</tr>\n",
    "<tr>\n",
    "<td style=\"text-align: left;\"><a href=\"/en-us/azure/cognitive-services/Custom-Vision-Service/home\" title=\"Extracción de frases principales\" data-linktype=\"absolute-path\">Extracción de frases principales</a></td>\n",
    "<td style=\"text-align: left;\">Extrae automáticamente frases clave para identificar rápidamente los puntos principales.</td>\n",
    "</tr>\n",
    "<tr>\n",
    "<td style=\"text-align: left;\"><a href=\"/en-us/azure/cognitive-services/face/\" title=\"Face\" data-linktype=\"absolute-path\">Detección del lenguaje</a></td>\n",
    "<td style=\"text-align: left;\">Permite la detección del lenguaje de un texto dado.</td>\n",
    "</tr>\n",
    "<tr>\n",
    "<td style=\"text-align: left;\"><a href=\"/en-us/azure/cognitive-services/form-recognizer/\" title=\"Extración de entidades en particular\" data-linktype=\"absolute-path\">Extración de entidades en particular</a></td>\n",
    "<td style=\"text-align: left;\">Named Entity Recognition (NER) puede identificar y clasificar diferentes entidades.</td>\n",
    "</tr>\n",
    "</tbody>\n",
    "</table>"
   ]
  },
  {
   "cell_type": "markdown",
   "metadata": {
    "id": "h9eiiK7h_nXP"
   },
   "source": [
    "## Creación de una cuenta de servicios cognitivos en Azure"
   ]
  },
  {
   "cell_type": "markdown",
   "metadata": {
    "id": "BQ-o2x6a_nXQ"
   },
   "source": [
    "### Creación de una cuenta en Azure"
   ]
  },
  {
   "cell_type": "markdown",
   "metadata": {
    "id": "09ToTRvq_nXR"
   },
   "source": [
    "Hay varias alternativas para utilizar los servicios cognitivos de Azure, pero en nuestro caso crearemos una cuenta de pruebas que tendrá una duracción de 7 días para probar los servicios cognitivos. Esta metodología no requiere de una tarjeta de crédito. Si necesitaran disponer de una cuenta por mayor cantidad de tiempo, es posible crear una cuenta gratuita de Azure que dispone de acceso a los servicios en un Tier Free por 12 meses, sin embargo, este procedimiento requiere la validación del usuario por medio de una tarjeta de crédito."
   ]
  },
  {
   "cell_type": "markdown",
   "metadata": {
    "id": "K3t6G1Rc_nXS"
   },
   "source": [
    "Para crear una cuenta, utilicen el siguiente link: https://azure.microsoft.com/es-es/try/cognitive-services/"
   ]
  },
  {
   "cell_type": "markdown",
   "metadata": {
    "id": "IxYD_I-s_nXS"
   },
   "source": [
    "Luego, seleccionaremos la opción para obtener una clave del servicio de Language API:\n",
    "\n",
    "<img src=\"../../vision/_images/get-api.png?raw=1\" width=\"800\" align=\"center\" />\n",
    "\n",
    "\n",
    "Luego debemos indicar que tipo de cuenta utilizaremos. en nuestro caso, especificaremos una cuente de tipo Trial que durará por 7 dias desde el momento de creación:\n",
    "\n",
    "\n",
    "<img src=\"../../vision/_images/free-trial.png?raw=1\" width=\"800\" />"
   ]
  },
  {
   "cell_type": "markdown",
   "metadata": {
    "id": "Z4_tzm4s_nXT"
   },
   "source": [
    "Luego deberemos aceptar los terminos y condiciones para utilizar el servicio y finalmente iniciar sesión utilizando alguna de las opciones que están disponibles. Si no disponen de una cuenta Microsoft, pueden crearse una desde https://signup.microsoft.com y eligiendo la opción Crear una Cuenta Microsoft."
   ]
  },
  {
   "cell_type": "markdown",
   "metadata": {
    "id": "5FmSoHp0_nXT"
   },
   "source": [
    "### Obtener las claves de acceso a los servicios"
   ]
  },
  {
   "cell_type": "markdown",
   "metadata": {
    "id": "Z9lFZsn__nXU"
   },
   "source": [
    "Una vez que activamos nuestra cuenta trial, obtendremos 2 puntos de información importante:\n",
    " - Puntos de conexión: Es la URL que deberemos de indicar para acceder al servicio\n",
    " - Claves: Estas claves son el mecanismo de autenticación que utilizaremos.\n",
    " \n",
    "Necesitaremos ambas piezas de información para continuar. Si no pueden encontrar sus claves, pueden acceder a https://azure.microsoft.com/es-es/try/cognitive-services/my-apis y debería llevarlos a una pagina similar a la siguiente donde están especificados ambos valores:\n",
    "\n",
    "<img src=\"../../vision/_images/get-keys.png\" width=\"1000\" align=\"center\" />"
   ]
  },
  {
   "cell_type": "markdown",
   "metadata": {
    "id": "GBkZ406p_nXU"
   },
   "source": [
    "## Creación de un cliente para la utilización de la API de NLP"
   ]
  },
  {
   "cell_type": "markdown",
   "metadata": {
    "id": "xT7hp2v1_nXV"
   },
   "source": [
    "### Instalación del SDK"
   ]
  },
  {
   "cell_type": "markdown",
   "metadata": {
    "id": "zwg-HLyY_nXV"
   },
   "source": [
    "Instalamos las librerias del SDK junto con algunas otras que necesitaremos"
   ]
  },
  {
   "cell_type": "code",
   "execution_count": null,
   "metadata": {
    "id": "GgcC8gK0_nXW"
   },
   "outputs": [],
   "source": [
    "!pip install azure-cognitiveservices-language-textanalytics"
   ]
  },
  {
   "cell_type": "markdown",
   "metadata": {
    "id": "xntRVQn6_nXc"
   },
   "source": [
    "Importamos las clases con las que vamos a trabajar"
   ]
  },
  {
   "cell_type": "code",
   "execution_count": 7,
   "metadata": {
    "id": "isS42pZF_nXd"
   },
   "outputs": [],
   "source": [
    "from azure.cognitiveservices.language.textanalytics import TextAnalyticsClient\n",
    "from msrest.authentication import CognitiveServicesCredentials"
   ]
  },
  {
   "cell_type": "markdown",
   "metadata": {
    "id": "RN1s0LGX_nXf"
   },
   "source": [
    "Especificación de las credenciales para operar el servicio. Aquí deberemos utilizar las credenciales que generaron desde la página del portal de Microsoft Azure"
   ]
  },
  {
   "cell_type": "code",
   "execution_count": 14,
   "metadata": {
    "id": "1Rtc5RfK_nXf"
   },
   "outputs": [],
   "source": [
    "subscription_key = \"\"\n",
    "endpoint = \"https://westus.api.cognitive.microsoft.com\""
   ]
  },
  {
   "cell_type": "markdown",
   "metadata": {
    "id": "bLZMZrUc_nXi"
   },
   "source": [
    "*Noten que endpoint es la URL que obtienen desde el portal, pero sin la parte \"/text\""
   ]
  },
  {
   "cell_type": "code",
   "execution_count": 15,
   "metadata": {
    "id": "38HwDliy_nXj"
   },
   "outputs": [],
   "source": [
    "client = TextAnalyticsClient(endpoint=endpoint, credentials=CognitiveServicesCredentials(subscription_key))"
   ]
  },
  {
   "cell_type": "markdown",
   "metadata": {
    "id": "s29inXs1_nXn"
   },
   "source": [
    "### Analisis de sentimiento"
   ]
  },
  {
   "cell_type": "markdown",
   "metadata": {
    "id": "-bILUjfx_nXo"
   },
   "source": [
    "El análisis de sentimiento permite averiguar el sentimiento de un texto analizando su contenido. Esta API devuelve una puntuación entre 0 y 1 para cada documento. Las puntuaciones cercanas a 1 indican un sentimiento positivo, mientras que las puntuaciones cercanas a 0 indican un sentimiento negativo."
   ]
  },
  {
   "cell_type": "code",
   "execution_count": 16,
   "metadata": {
    "colab": {
     "base_uri": "https://localhost:8080/"
    },
    "id": "ngRlpVM4_nXo",
    "outputId": "1ab50592-78a4-48cd-f827-02bab3cfd504"
   },
   "outputs": [
    {
     "name": "stdout",
     "output_type": "stream",
     "text": [
      "Sentimiento 'I had the best day of my life.' (id: 0)\n",
      "Sentimiento 'This was a waste of my time. The speaker put me to sleep.' (id: 1)\n",
      "Sentimiento 'No tengo dinero ni nada que dar...' (id: 2)\n",
      "Sentimiento 'Comme ce n'est pas cher, je n'ai pas confiance' (id: 3)\n"
     ]
    }
   ],
   "source": [
    "documents = [{\n",
    "    'language': 'en',\n",
    "    'id': 0,\n",
    "    'text': \"I had the best day of my life.\"\n",
    "}, {\n",
    "    'language': 'en',\n",
    "    'id': 1,\n",
    "    'text': \"This was a waste of my time. The speaker put me to sleep.\"\n",
    "}, {\n",
    "    'language': 'es',\n",
    "    'id': 2,\n",
    "    'text': \"No tengo dinero ni nada que dar...\"\n",
    "}, {\n",
    "    'language': 'fr',\n",
    "    'id': 3,\n",
    "    'text': \"Comme ce n'est pas cher, je n'ai pas confiance\"\n",
    "}]\n",
    "\n",
    "for document in documents:\n",
    "    print(\"Sentimiento '{}' (id: {})\".format(document['text'], document['id']))"
   ]
  },
  {
   "cell_type": "code",
   "execution_count": 17,
   "metadata": {
    "id": "X0px-9QE_nXr"
   },
   "outputs": [],
   "source": [
    "response = client.sentiment(\n",
    "    documents=documents\n",
    ")"
   ]
  },
  {
   "cell_type": "code",
   "execution_count": 18,
   "metadata": {
    "colab": {
     "base_uri": "https://localhost:8080/"
    },
    "id": "u5i1Kz4z_nXt",
    "outputId": "abb91b4a-eb22-4574-9b18-5c27bf9ce859"
   },
   "outputs": [
    {
     "name": "stdout",
     "output_type": "stream",
     "text": [
      "Sentimiento en el documento 0, puntuación es: 0.8668136596679688:\n",
      "Sentimiento en el documento 1, puntuación es: 0.06479135155677795:\n",
      "Sentimiento en el documento 2, puntuación es: 0.43635445833206177:\n",
      "Sentimiento en el documento 3, puntuación es: 0.1989094614982605:\n"
     ]
    }
   ],
   "source": [
    "for document in response.documents:\n",
    "    print(\"Sentimiento en el documento {}, puntuación es: {}:\".format(document.id, document.score))"
   ]
  },
  {
   "cell_type": "markdown",
   "metadata": {
    "id": "i4b25y5G_nXw"
   },
   "source": [
    "### Extracción de frases importantes"
   ]
  },
  {
   "cell_type": "markdown",
   "metadata": {
    "id": "jcXJ8YfO_nXw"
   },
   "source": [
    "Extrae automáticamente frases clave para identificar rápidamente los puntos principales. Por ejemplo, para el texto de entrada \"La comida era deliciosa y el personal era maravilloso\", la API devuelve los puntos principales de conversación: \"comida\" y \"personal maravilloso\"."
   ]
  },
  {
   "cell_type": "code",
   "execution_count": 5,
   "metadata": {
    "id": "6ehgiluj_nXx"
   },
   "outputs": [],
   "source": [
    "documents = [\n",
    "    {\n",
    "        \"id\": \"1\", \n",
    "        \"language\": \"en\",\n",
    "        \"text\": \"My cat might need to see a veterinarian.\"\n",
    "    },\n",
    "    {\n",
    "        \"id\": \"2\", \n",
    "        \"language\": \"es\", \n",
    "        \"text\": \"A mi me encanta el fútbol!\"\n",
    "    }\n",
    "]"
   ]
  },
  {
   "cell_type": "code",
   "execution_count": null,
   "metadata": {
    "id": "9nksUblU_nXz"
   },
   "outputs": [],
   "source": [
    "response = client.key_phrases(documents=documents)"
   ]
  },
  {
   "cell_type": "code",
   "execution_count": null,
   "metadata": {
    "id": "LpRV30pLPqet"
   },
   "outputs": [],
   "source": [
    "for document in response.documents:\n",
    "    print(\"ID del documento: \", document.id)\n",
    "    print(\"\\tFrases clave:\")\n",
    "    for phrase in document.key_phrases:\n",
    "        print(\"\\t\\t\",phrase)"
   ]
  }
 ],
 "metadata": {
  "colab": {
   "name": "Cognitive Services.ipynb",
   "provenance": [],
   "toc_visible": true
  },
  "kernelspec": {
   "display_name": "Cognitive Services (cognitive-py37)",
   "language": "python",
   "name": "cognitive-py37"
  },
  "language_info": {
   "codemirror_mode": {
    "name": "ipython",
    "version": 3
   },
   "file_extension": ".py",
   "mimetype": "text/x-python",
   "name": "python",
   "nbconvert_exporter": "python",
   "pygments_lexer": "ipython3",
   "version": "3.7.9"
  }
 },
 "nbformat": 4,
 "nbformat_minor": 4
}
