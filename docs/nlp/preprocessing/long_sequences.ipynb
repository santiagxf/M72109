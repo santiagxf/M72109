{
  "cells": [
    {
      "cell_type": "markdown",
      "metadata": {
        "id": "iKENeWEEwKIb"
      },
      "source": [
        "Dividiendo documentos largos en subsecuencias\n",
        "============================================="
      ]
    },
    {
      "cell_type": "markdown",
      "metadata": {
        "id": "sT_t9OxYwKIc"
      },
      "source": [
        "## Introducción\n",
        "\n",
        "Las secuencias de texto con las que trabajamos podrían ser de una cantidad de palabras infinita, sin embargo, en computación sabemos que no existe poder de computo infinito y por lo tanto es necesario imponer restricciones en las dimensiones de nuestros datos de entrada. Dependiendo de los requisitos computacionales del modelo con el que estamos trabajando y sus supociones, será entonces la longitud máxima de texto sobre la que podemos trabajar. Modelos complejos pondrán mayor presión de recursos de hardware y por lo tanto podrían ser más restrictivos con la cantidad de palabras que podemos procesar.\n",
        "\n",
        "Tenemos varias opciones para resolver esta limitación:\n",
        "\n",
        "- Truncar las secuencias a la máxima longitud disponible, con la esperanza de que toda la información relevante esté en la secuencia resultante. Claramente aquí perderá información y dependerá de la cantidad de información que piede si es una alternativa viable o no.\n",
        "- Utilizar un modelo que opere sobre secuencias más largas\n",
        "- Ejecutar el modelo sobre subsecuencias más pequeñas y luego entrenar un metamodelo que tome las predicciones de cada secuencia y las combine.\n",
        "- Dividir la secuencia en subsecuencias de un tamaño menos pero manteniendo algo del contexto de la subsecuencia anterior a la que estamos procesando. Luego ejecutar nuestro modelo tratando a cada subsecuencia como un documento distinto. Las predicciones de todas las subsecuencias luego son agregadas utilizando alguna función. Para ver un ejemplo de esto ultimo vea Dividiendo documentos largos en subsecuencias.\n",
        "\n",
        "En este ejemplo exploraremos como realizar la última opción:"
      ]
    },
    {
      "cell_type": "markdown",
      "metadata": {
        "id": "7b_oCydHKHEJ"
      },
      "source": [
        "### Preparación del ambiente"
      ]
    },
    {
      "cell_type": "markdown",
      "metadata": {
        "id": "nFNu3tUYAKe0"
      },
      "source": [
        "Instalamos las librerías necesarias"
      ]
    },
    {
      "cell_type": "code",
      "execution_count": 1,
      "metadata": {
        "id": "uFcb2-bO_tVS",
        "outputId": "6e6af0d6-4e6a-4aa3-f616-3f5df4f40b70",
        "colab": {
          "base_uri": "https://localhost:8080/"
        }
      },
      "outputs": [
        {
          "output_type": "stream",
          "name": "stdout",
          "text": [
            "\u001b[2K     \u001b[90m━━━━━━━━━━━━━━━━━━━━━━━━━━━━━━━━━━━━━━━\u001b[0m \u001b[32m210.7/210.7 kB\u001b[0m \u001b[31m4.4 MB/s\u001b[0m eta \u001b[36m0:00:00\u001b[0m\n",
            "\u001b[2K     \u001b[90m━━━━━━━━━━━━━━━━━━━━━━━━━━━━━━━━━━━━━━━━\u001b[0m \u001b[32m1.9/1.9 MB\u001b[0m \u001b[31m14.2 MB/s\u001b[0m eta \u001b[36m0:00:00\u001b[0m\n",
            "\u001b[2K     \u001b[90m━━━━━━━━━━━━━━━━━━━━━━━━━━━━━━━━━━━━━━\u001b[0m \u001b[32m320.3/320.3 kB\u001b[0m \u001b[31m16.8 MB/s\u001b[0m eta \u001b[36m0:00:00\u001b[0m\n",
            "\u001b[2K     \u001b[90m━━━━━━━━━━━━━━━━━━━━━━━━━━━━━━━━━━━━━━━━\u001b[0m \u001b[32m1.2/1.2 MB\u001b[0m \u001b[31m21.4 MB/s\u001b[0m eta \u001b[36m0:00:00\u001b[0m\n",
            "\u001b[2K     \u001b[90m━━━━━━━━━━━━━━━━━━━━━━━━━━━━━━━━━━━━━━━━\u001b[0m \u001b[32m2.0/2.0 MB\u001b[0m \u001b[31m25.7 MB/s\u001b[0m eta \u001b[36m0:00:00\u001b[0m\n",
            "\u001b[?25h"
          ]
        }
      ],
      "source": [
        "!wget https://raw.githubusercontent.com/santiagxf/M72109/master/m72109/nlp/transformation.py \\\n",
        "  --no-clobber --quiet --directory-prefix ./m72109/nlp/\n",
        "!wget https://raw.githubusercontent.com/santiagxf/M72109/master/docs/nlp/preprocessing/long_sequences.txt \\\n",
        "  --no-clobber --quiet\n",
        "!pip install -r long_sequences.txt -q"
      ]
    },
    {
      "cell_type": "markdown",
      "metadata": {
        "id": "QZrG1xI-61j0"
      },
      "source": [
        "### Sobre el conjunto de datos a utilizar"
      ]
    },
    {
      "cell_type": "markdown",
      "metadata": {
        "id": "_gBXNzwYwKIu"
      },
      "source": [
        "En este caso, no podremos trabajar con el conjnto de datos que veniamos trabajando anteriormente ya que los tweets en general son secuencias de texto cortas de hasta 140 caracateres. Es decir que nuestros modelos probablemente nunca se encuentren con el problema de longitudes largas en el texto.\n",
        "\n",
        "Para demostrar este ejemplo, utilizaremos el conjunto de datos \"20 grupos de notificas\". El conjunto de datos comprende alrededor de 18000 publicaciones de grupos de noticias sobre 20 temas distintos, desde deportes hasta noticias relacioandas con la aeronáutica.\n",
        "\n",
        "Para realizar el trabajo más sencillo, solo traeremos noticias de los grupos 'alt.atheism' y 'sci.space'."
      ]
    },
    {
      "cell_type": "code",
      "execution_count": 1,
      "metadata": {
        "id": "tW6_ZXyGAOfs"
      },
      "outputs": [],
      "source": [
        "from sklearn.datasets import fetch_20newsgroups\n",
        "\n",
        "categories = ['alt.atheism', 'sci.space']\n",
        "newsgroups_train = fetch_20newsgroups(subset='train', categories=categories)"
      ]
    },
    {
      "cell_type": "markdown",
      "metadata": {
        "id": "ewFjFRl9KSwQ"
      },
      "source": [
        "Podemos ver que este conjunto de datos dispone de la siguiente cantidad de muestras:"
      ]
    },
    {
      "cell_type": "code",
      "execution_count": 2,
      "metadata": {
        "colab": {
          "base_uri": "https://localhost:8080/"
        },
        "id": "eFEABYV3CNmi",
        "outputId": "9feefbc1-f29a-4832-8828-e336d610a211"
      },
      "outputs": [
        {
          "output_type": "stream",
          "name": "stdout",
          "text": [
            "Cantidad de textos: 1073 \n",
            "Cantidad de anotaciones: 1073\n"
          ]
        }
      ],
      "source": [
        "print(\"Cantidad de textos:\", len(newsgroups_train.data), \"\\nCantidad de anotaciones:\", newsgroups_train.target.shape[0])"
      ]
    },
    {
      "cell_type": "markdown",
      "metadata": {
        "id": "vBdAoarcKvVn"
      },
      "source": [
        "Creemos un `pd.DataFrame` de `pandas` para que sea más fácil manipular los datos:"
      ]
    },
    {
      "cell_type": "code",
      "execution_count": 3,
      "metadata": {
        "id": "qCtqp7xw6LY6"
      },
      "outputs": [],
      "source": [
        "import pandas as pd\n",
        "\n",
        "df = pd.DataFrame({ 'text': newsgroups_train.data, 'category': newsgroups_train.target })"
      ]
    },
    {
      "cell_type": "markdown",
      "metadata": {
        "id": "tlploSNM6LY6"
      },
      "source": [
        "## Resolviendo las limitaciones de longitud de texto"
      ]
    },
    {
      "cell_type": "markdown",
      "metadata": {
        "id": "qRbtuoJLK7Sf"
      },
      "source": [
        "Primero, revisemos las longitudes de los documentos que tenemos para tener una idea de que tan largos pueden llegar a ser. Primero dividiremos el mismo en palabras y luego generaremos un histograma para revisar que tan frecuentemente hay documentos con cada longitud:"
      ]
    },
    {
      "cell_type": "code",
      "execution_count": 4,
      "metadata": {
        "id": "1MjFAxw1EorM"
      },
      "outputs": [],
      "source": [
        "from tensorflow.keras.preprocessing.text import Tokenizer\n",
        "\n",
        "tokenizer = Tokenizer(num_words=10000)\n",
        "tokenizer.fit_on_texts(df['text'])\n",
        "\n",
        "tokenized_text = tokenizer.texts_to_sequences(df['text'])"
      ]
    },
    {
      "cell_type": "code",
      "execution_count": 5,
      "metadata": {
        "colab": {
          "base_uri": "https://localhost:8080/",
          "height": 524
        },
        "id": "-TAJSnfAEQbP",
        "outputId": "cd008122-776f-426e-9f98-b1b21b1a068d"
      },
      "outputs": [
        {
          "output_type": "execute_result",
          "data": {
            "text/plain": [
              "<seaborn.axisgrid.FacetGrid at 0x7cb03b9cde10>"
            ]
          },
          "metadata": {},
          "execution_count": 5
        },
        {
          "output_type": "display_data",
          "data": {
            "text/plain": [
              "<Figure size 500x500 with 1 Axes>"
            ],
            "image/png": "[encoded data removed]"
          },
          "metadata": {}
        }
      ],
      "source": [
        "text_lens = [len(n) for n in tokenized_text]\n",
        "\n",
        "import seaborn as sns\n",
        "sns.displot(text_lens)"
      ]
    },
    {
      "cell_type": "markdown",
      "metadata": {
        "id": "ax4L4_5qLQNx"
      },
      "source": [
        "Vemos que tenemos varios documentos que tienen más de 1000 palabras."
      ]
    },
    {
      "cell_type": "markdown",
      "metadata": {
        "id": "oC97vk_R6LY7"
      },
      "source": [
        "#### Dividir las secuencias en subsecuencias"
      ]
    },
    {
      "cell_type": "markdown",
      "metadata": {
        "id": "i5LmORHVLZ4M"
      },
      "source": [
        "Supongamos que el modelo del que disponemos **no puede procesar secuencias de mas de 200 palabras**. ¿Cómo resolver esta limitación y aplicar el modelo sobre este conjunto de datos?"
      ]
    },
    {
      "cell_type": "markdown",
      "metadata": {
        "id": "v77oYtPm6LY7"
      },
      "source": [
        "Crearemos una funcion `split_text_with_context` que toma un texto de cantidad arbitraria de palabras y lo transforma en un arreglo de M textos o secuencias donde cada secuencia tiene como máximo `unique_words + context_words` palabras. Cada secuencia comienza con `context_words` palabras de la secuencia anterior para poder retener el contexto de la oración, generando así un *rolling window*.\n",
        "\n",
        "Como ejemplo, la siguiente imágen muestra un texto donde se aplicó esta transformación utilizando `context_words=3` y `unique_words=2`\n",
        "\n",
        "<img src='https://github.com/santiagxf/M72109/blob/master/docs/nlp/_images/rolling_text.png?raw=1' />"
      ]
    },
    {
      "cell_type": "markdown",
      "metadata": {
        "id": "xTMMAgXnCsg-"
      },
      "source": [
        "La función la hemos implementado de la siguiente forma:"
      ]
    },
    {
      "cell_type": "code",
      "execution_count": 6,
      "metadata": {
        "id": "3Wp1ry276LY7"
      },
      "outputs": [],
      "source": [
        "from m72109.nlp.transformation import split_text_with_context"
      ]
    },
    {
      "cell_type": "markdown",
      "source": [
        "> Nota: El siguiente codigo simplemente muestra la implementación de la función. Su utilización es simplemente educativa."
      ],
      "metadata": {
        "id": "isEdGyQvEUrC"
      }
    },
    {
      "cell_type": "code",
      "source": [
        "from inspect import getsource\n",
        "print(getsource(split_text_with_context))"
      ],
      "metadata": {
        "id": "XeJqa9UWDcM2",
        "outputId": "1da592af-e343-450d-b891-5ce7bdd91b62",
        "colab": {
          "base_uri": "https://localhost:8080/"
        }
      },
      "execution_count": 25,
      "outputs": [
        {
          "output_type": "stream",
          "name": "stdout",
          "text": [
            "def split_text_with_context(text: str, unique_words: int = 150, context_words: int = 50) -> List[str]:\n",
            "    \"\"\"\n",
            "    Divide una secuencia de palabras de longitud arbitraria en una lista de secuencias de no mas que\n",
            "    `context_words + unique_words` palabras. Cada subsecuencia tendra `unique_words` palabras del texto\n",
            "    original y las restantes palabras seran arrastradas de la subsecuencia anterior para manetener el \n",
            "    contexto de la oración.\n",
            "\n",
            "    Parameters\n",
            "    ----------\n",
            "    text : str\n",
            "        El texto que queremos dividir en subsequencias.\n",
            "    unique_words : int\n",
            "        Cantidad de palabras únicas que deben manetenerse en cada subsecuencia.\n",
            "    context_words : int\n",
            "        Cantidad de palabras que deben traerse de la subsequencia anterior como contexto.\n",
            "\n",
            "    Returns\n",
            "    -------\n",
            "    List[str]\n",
            "        A list of sub-sequences of text of no more than `unique_words` + `context_words`.\n",
            "    \"\"\"\n",
            "\n",
            "    words = text.split()\n",
            "    num_seqs = math.ceil(len(words)/unique_words)\n",
            "\n",
            "    seqs = [' '.join(words[max(seq*unique_words - context_words, 0):(seq + 1)*unique_words]) for seq in range(num_seqs)]\n",
            "    return seqs\n",
            "\n"
          ]
        }
      ]
    },
    {
      "cell_type": "markdown",
      "metadata": {
        "id": "7cFVWe1Z6LY7"
      },
      "source": [
        "Verifiquemos como se aplica en uno de los textos que tenemos disponibles. Buscaremos un texto con 1200 caracteres:"
      ]
    },
    {
      "cell_type": "code",
      "execution_count": 7,
      "metadata": {
        "id": "Vcgx3ZPpFnHJ"
      },
      "outputs": [],
      "source": [
        "long_sequences = df.loc[df.text.str.len() > 1200]"
      ]
    },
    {
      "cell_type": "code",
      "execution_count": 8,
      "metadata": {
        "colab": {
          "base_uri": "https://localhost:8080/"
        },
        "id": "Q3iyvcm1HQN4",
        "outputId": "5b03f213-ae51-4354-e5be-754cea5a87a6"
      },
      "outputs": [
        {
          "output_type": "stream",
          "name": "stdout",
          "text": [
            "From: jhwitten@cs.ruu.nl (Jurriaan Wittenberg)\n",
            "Subject: Re: Magellan Update - 04/16/93\n",
            "Organization: Utrecht University, Dept. of Computer Science\n",
            "Keywords: Magellan, JPL\n",
            "Lines: 29\n",
            "\n",
            "In <19APR199320262420@kelvin.jpl.nasa.gov> baalke@kelvin.jpl.nasa.gov \n",
            "(Ron Baalke) writes:\n",
            "\n",
            ">Forwarded from Doug Griffith, Magellan Project Manager\n",
            ">\n",
            ">                        MAGELLAN STATUS REPORT\n",
            ">                            April 16, 1993\n",
            ">\n",
            ">\n",
            ">2.  Magellan has completed 7225 orbits of Venus and is now 39 days from\n",
            ">the end of Cycle-4 and the start of the Transition Experiment.\n",
            "Sorry I think I missed a bit of info on this Transition Experiment. What is it?\n",
            "\n",
            ">4.  On Monday morning, April 19, the moon will occult Venus and\n",
            ">interrupt the tracking of Magellan for about 68 minutes.\n",
            "Will this mean a loss of data or will the Magellan transmit data later on ??\n",
            "\n",
            "BTW: When will NASA cut off the connection with Magellan?? Not that I am\n",
            "looking forward to that day but I am just curious. I believe it had something\n",
            "to do with the funding from the goverment (or rather _NO_ funding :-)\n",
            "\n",
            "ok that's it for now. See you guys around,\n",
            "Jurriaan.\n",
            " \n",
            "-- \n",
            "-=-=-=-=-=-=-=-=-=-=-=-=-=-=-=-=-=-=-=-=-=-=-=-=-=-=-=-=-=-=-=-=-=-=-=-=-=-\n",
            "|----=|=-<- - - - - - JHWITTEN@CS.RUU.NL- - - - - - - - - - - - ->-=|=----|\n",
            "|----=|=-<-Jurriaan Wittenberg- - -Department of ComputerScience->-=|=----|\n",
            "|____/|\\_________Utrecht_________________The Netherlands___________/|\\____|\n",
            "\n"
          ]
        }
      ],
      "source": [
        "sample_text = long_sequences['text'].iloc[0]\n",
        "print(sample_text)"
      ]
    },
    {
      "cell_type": "code",
      "execution_count": 9,
      "metadata": {
        "colab": {
          "base_uri": "https://localhost:8080/"
        },
        "id": "ZQFVNXxr6LY7",
        "outputId": "64236c02-d3c6-40a2-e768-a65af23b86e1"
      },
      "outputs": [
        {
          "output_type": "stream",
          "name": "stdout",
          "text": [
            "********\n",
            "From: jhwitten@cs.ruu.nl (Jurriaan Wittenberg) Subject: Re: Magellan Update - 04/16/93 Organization: Utrecht University, Dept. of Computer Science Keywords: Magellan, JPL Lines: 29 In <19APR199320262420@kelvin.jpl.nasa.gov> baalke@kelvin.jpl.nasa.gov (Ron Baalke) writes: >Forwarded from Doug Griffith, Magellan Project Manager > > MAGELLAN STATUS REPORT\n",
            "********\n",
            "Lines: 29 In <19APR199320262420@kelvin.jpl.nasa.gov> baalke@kelvin.jpl.nasa.gov (Ron Baalke) writes: >Forwarded from Doug Griffith, Magellan Project Manager > > MAGELLAN STATUS REPORT > April 16, 1993 > > >2. Magellan has completed 7225 orbits of Venus and is now 39 days from >the end of Cycle-4 and the start of the Transition Experiment. Sorry I think I missed a bit of info\n",
            "********\n",
            ">the end of Cycle-4 and the start of the Transition Experiment. Sorry I think I missed a bit of info on this Transition Experiment. What is it? >4. On Monday morning, April 19, the moon will occult Venus and >interrupt the tracking of Magellan for about 68 minutes. Will this mean a loss of data or will the Magellan transmit\n",
            "********\n",
            "the tracking of Magellan for about 68 minutes. Will this mean a loss of data or will the Magellan transmit data later on ?? BTW: When will NASA cut off the connection with Magellan?? Not that I am looking forward to that day but I am just curious. I believe it had something to do with the funding from the\n",
            "********\n",
            "to that day but I am just curious. I believe it had something to do with the funding from the goverment (or rather _NO_ funding :-) ok that's it for now. See you guys around, Jurriaan. -- -=-=-=-=-=-=-=-=-=-=-=-=-=-=-=-=-=-=-=-=-=-=-=-=-=-=-=-=-=-=-=-=-=-=-=-=-=- |----=|=-<- - - - - - JHWITTEN@CS.RUU.NL- - - - - - - - - - - - ->-=|=----| |----=|=-<-Jurriaan Wittenberg- -\n",
            "********\n",
            "- - - - JHWITTEN@CS.RUU.NL- - - - - - - - - - - - ->-=|=----| |----=|=-<-Jurriaan Wittenberg- - -Department of ComputerScience->-=|=----| |____/|\\_________Utrecht_________________The Netherlands___________/|\\____|\n"
          ]
        }
      ],
      "source": [
        "transformed = split_text_with_context(sample_text, 40, 20)\n",
        "\n",
        "for sequence in transformed:\n",
        "  print('********')\n",
        "  print(sequence)"
      ]
    },
    {
      "cell_type": "markdown",
      "metadata": {
        "id": "v2WZ2Gsa6LY7"
      },
      "source": [
        "Apliquemoslo sobre todo el dataset:"
      ]
    },
    {
      "cell_type": "code",
      "execution_count": 10,
      "metadata": {
        "id": "ZE2mANQy6LY7"
      },
      "outputs": [],
      "source": [
        "df.loc[:,'text'] = df['text'].apply(split_text_with_context)"
      ]
    },
    {
      "cell_type": "markdown",
      "metadata": {
        "id": "Hov3C-Rv6LY8"
      },
      "source": [
        "#### Generando un nuevo dataset para entrenar el modelo"
      ]
    },
    {
      "cell_type": "markdown",
      "metadata": {
        "id": "nbrDVfl06LY8"
      },
      "source": [
        "Hasta el momento disponemos de un dataset donde una de sus columnas es un arreglo de secuencias de texto. Esta estructura de datos no puede ser utilizada con un modelo de procesamiento de texto y por lo tanto es necesario \"aplanarla\". Esto quiere decir que debemos convertir los elementos del arreglo en filas de nuestro dataset."
      ]
    },
    {
      "cell_type": "markdown",
      "metadata": {
        "id": "YhT_8IxB6LY8"
      },
      "source": [
        "El método `explode` transforma un data frame donde una de sus columnas es un arreglo, en otro data frame donde los elementos del arreglo se transforman en filas y los restantes valores son duplicados. Este método nos ayudará en este caso a que todas las subsecuencias que se generaron de la misma secuencia reciban los mismos valores para las restantes columnas (como por ejemplo, la variable a predecir). El efecto de explode es el siguiente:\n",
        "\n",
        "<img src='https://github.com/santiagxf/M72109/blob/master/docs/nlp/_images/explode.png?raw=1' />"
      ]
    },
    {
      "cell_type": "code",
      "execution_count": 11,
      "metadata": {
        "id": "0mDjItAw6LY8"
      },
      "outputs": [],
      "source": [
        "df = df.explode('text').reset_index(drop=True)"
      ]
    },
    {
      "cell_type": "code",
      "execution_count": 12,
      "metadata": {
        "colab": {
          "base_uri": "https://localhost:8080/"
        },
        "id": "IwN8DNQc6LY8",
        "outputId": "d0bd48ce-c0df-4ef1-a8f0-0992127dff52"
      },
      "outputs": [
        {
          "output_type": "execute_result",
          "data": {
            "text/plain": [
              "(2814, 2)"
            ]
          },
          "metadata": {},
          "execution_count": 12
        }
      ],
      "source": [
        "df.shape"
      ]
    },
    {
      "cell_type": "markdown",
      "metadata": {
        "id": "s_D6GPOpIGoZ"
      },
      "source": [
        "> Note como pasamos de tener 1073 filas a tener 2119. Las filas extras que se agregaron corresponden a secuencias de texto que eran demasiado largas y que fueron divididas en subsecuencias, aunque manteniendo la misma anotación de la secuencia original."
      ]
    },
    {
      "cell_type": "markdown",
      "metadata": {
        "id": "WQfFzkhq6LY8"
      },
      "source": [
        "Resultado final"
      ]
    },
    {
      "cell_type": "code",
      "execution_count": 13,
      "metadata": {
        "colab": {
          "base_uri": "https://localhost:8080/",
          "height": 363
        },
        "id": "_mPGKjEn6LY8",
        "outputId": "ca470eb3-67bd-4081-c7ea-9ff0a9dab5e2"
      },
      "outputs": [
        {
          "output_type": "execute_result",
          "data": {
            "text/plain": [
              "                                                text  category\n",
              "0  From: bil@okcforum.osrhe.edu (Bill Conner) Sub...         0\n",
              "1  From: jhwitten@cs.ruu.nl (Jurriaan Wittenberg)...         1\n",
              "2  the tracking of Magellan for about 68 minutes....         1\n",
              "3  From: sysmgr@king.eng.umd.edu (Doug Mohney) Su...         1\n",
              "4  > >Nobody who is interested in launching thing...         1\n",
              "5  little itty-bitty payloads in LEO with your la...         1\n",
              "6  From: pgf@srl03.cacs.usl.edu (Phil G. Fraering...         1\n",
              "7  gamma ray spectroscopy on distant asteroids wi...         1\n",
              "8  From: Nanci Ann Miller <nm0w+@andrew.cmu.edu> ...         0\n",
              "9  decided to improve both of their images on wha...         0"
            ],
            "text/html": [
              "\n",
              "  <div id=\"df-4e346758-37e9-4c78-84e2-d7ba6b05214d\" class=\"colab-df-container\">\n",
              "    <div>\n",
              "<style scoped>\n",
              "    .dataframe tbody tr th:only-of-type {\n",
              "        vertical-align: middle;\n",
              "    }\n",
              "\n",
              "    .dataframe tbody tr th {\n",
              "        vertical-align: top;\n",
              "    }\n",
              "\n",
              "    .dataframe thead th {\n",
              "        text-align: right;\n",
              "    }\n",
              "</style>\n",
              "<table border=\"1\" class=\"dataframe\">\n",
              "  <thead>\n",
              "    <tr style=\"text-align: right;\">\n",
              "      <th></th>\n",
              "      <th>text</th>\n",
              "      <th>category</th>\n",
              "    </tr>\n",
              "  </thead>\n",
              "  <tbody>\n",
              "    <tr>\n",
              "      <th>0</th>\n",
              "      <td>From: bil@okcforum.osrhe.edu (Bill Conner) Sub...</td>\n",
              "      <td>0</td>\n",
              "    </tr>\n",
              "    <tr>\n",
              "      <th>1</th>\n",
              "      <td>From: jhwitten@cs.ruu.nl (Jurriaan Wittenberg)...</td>\n",
              "      <td>1</td>\n",
              "    </tr>\n",
              "    <tr>\n",
              "      <th>2</th>\n",
              "      <td>the tracking of Magellan for about 68 minutes....</td>\n",
              "      <td>1</td>\n",
              "    </tr>\n",
              "    <tr>\n",
              "      <th>3</th>\n",
              "      <td>From: sysmgr@king.eng.umd.edu (Doug Mohney) Su...</td>\n",
              "      <td>1</td>\n",
              "    </tr>\n",
              "    <tr>\n",
              "      <th>4</th>\n",
              "      <td>&gt; &gt;Nobody who is interested in launching thing...</td>\n",
              "      <td>1</td>\n",
              "    </tr>\n",
              "    <tr>\n",
              "      <th>5</th>\n",
              "      <td>little itty-bitty payloads in LEO with your la...</td>\n",
              "      <td>1</td>\n",
              "    </tr>\n",
              "    <tr>\n",
              "      <th>6</th>\n",
              "      <td>From: pgf@srl03.cacs.usl.edu (Phil G. Fraering...</td>\n",
              "      <td>1</td>\n",
              "    </tr>\n",
              "    <tr>\n",
              "      <th>7</th>\n",
              "      <td>gamma ray spectroscopy on distant asteroids wi...</td>\n",
              "      <td>1</td>\n",
              "    </tr>\n",
              "    <tr>\n",
              "      <th>8</th>\n",
              "      <td>From: Nanci Ann Miller &lt;nm0w+@andrew.cmu.edu&gt; ...</td>\n",
              "      <td>0</td>\n",
              "    </tr>\n",
              "    <tr>\n",
              "      <th>9</th>\n",
              "      <td>decided to improve both of their images on wha...</td>\n",
              "      <td>0</td>\n",
              "    </tr>\n",
              "  </tbody>\n",
              "</table>\n",
              "</div>\n",
              "    <div class=\"colab-df-buttons\">\n",
              "\n",
              "  <div class=\"colab-df-container\">\n",
              "    <button class=\"colab-df-convert\" onclick=\"convertToInteractive('df-4e346758-37e9-4c78-84e2-d7ba6b05214d')\"\n",
              "            title=\"Convert this dataframe to an interactive table.\"\n",
              "            style=\"display:none;\">\n",
              "\n",
              "  <svg xmlns=\"http://www.w3.org/2000/svg\" height=\"24px\" viewBox=\"0 -960 960 960\">\n",
              "    <path d=\"M120-120v-720h720v720H120Zm60-500h600v-160H180v160Zm220 220h160v-160H400v160Zm0 220h160v-160H400v160ZM180-400h160v-160H180v160Zm440 0h160v-160H620v160ZM180-180h160v-160H180v160Zm440 0h160v-160H620v160Z\"/>\n",
              "  </svg>\n",
              "    </button>\n",
              "\n",
              "  <style>\n",
              "    .colab-df-container {\n",
              "      display:flex;\n",
              "      gap: 12px;\n",
              "    }\n",
              "\n",
              "    .colab-df-convert {\n",
              "      background-color: #E8F0FE;\n",
              "      border: none;\n",
              "      border-radius: 50%;\n",
              "      cursor: pointer;\n",
              "      display: none;\n",
              "      fill: #1967D2;\n",
              "      height: 32px;\n",
              "      padding: 0 0 0 0;\n",
              "      width: 32px;\n",
              "    }\n",
              "\n",
              "    .colab-df-convert:hover {\n",
              "      background-color: #E2EBFA;\n",
              "      box-shadow: 0px 1px 2px rgba(60, 64, 67, 0.3), 0px 1px 3px 1px rgba(60, 64, 67, 0.15);\n",
              "      fill: #174EA6;\n",
              "    }\n",
              "\n",
              "    .colab-df-buttons div {\n",
              "      margin-bottom: 4px;\n",
              "    }\n",
              "\n",
              "    [theme=dark] .colab-df-convert {\n",
              "      background-color: #3B4455;\n",
              "      fill: #D2E3FC;\n",
              "    }\n",
              "\n",
              "    [theme=dark] .colab-df-convert:hover {\n",
              "      background-color: #434B5C;\n",
              "      box-shadow: 0px 1px 3px 1px rgba(0, 0, 0, 0.15);\n",
              "      filter: drop-shadow(0px 1px 2px rgba(0, 0, 0, 0.3));\n",
              "      fill: #FFFFFF;\n",
              "    }\n",
              "  </style>\n",
              "\n",
              "    <script>\n",
              "      const buttonEl =\n",
              "        document.querySelector('#df-4e346758-37e9-4c78-84e2-d7ba6b05214d button.colab-df-convert');\n",
              "      buttonEl.style.display =\n",
              "        google.colab.kernel.accessAllowed ? 'block' : 'none';\n",
              "\n",
              "      async function convertToInteractive(key) {\n",
              "        const element = document.querySelector('#df-4e346758-37e9-4c78-84e2-d7ba6b05214d');\n",
              "        const dataTable =\n",
              "          await google.colab.kernel.invokeFunction('convertToInteractive',\n",
              "                                                    [key], {});\n",
              "        if (!dataTable) return;\n",
              "\n",
              "        const docLinkHtml = 'Like what you see? Visit the ' +\n",
              "          '<a target=\"_blank\" href=https://colab.research.google.com/notebooks/data_table.ipynb>data table notebook</a>'\n",
              "          + ' to learn more about interactive tables.';\n",
              "        element.innerHTML = '';\n",
              "        dataTable['output_type'] = 'display_data';\n",
              "        await google.colab.output.renderOutput(dataTable, element);\n",
              "        const docLink = document.createElement('div');\n",
              "        docLink.innerHTML = docLinkHtml;\n",
              "        element.appendChild(docLink);\n",
              "      }\n",
              "    </script>\n",
              "  </div>\n",
              "\n",
              "\n",
              "<div id=\"df-6dd5f6bd-8781-4113-b140-8880d98c47d9\">\n",
              "  <button class=\"colab-df-quickchart\" onclick=\"quickchart('df-6dd5f6bd-8781-4113-b140-8880d98c47d9')\"\n",
              "            title=\"Suggest charts.\"\n",
              "            style=\"display:none;\">\n",
              "\n",
              "<svg xmlns=\"http://www.w3.org/2000/svg\" height=\"24px\"viewBox=\"0 0 24 24\"\n",
              "     width=\"24px\">\n",
              "    <g>\n",
              "        <path d=\"M19 3H5c-1.1 0-2 .9-2 2v14c0 1.1.9 2 2 2h14c1.1 0 2-.9 2-2V5c0-1.1-.9-2-2-2zM9 17H7v-7h2v7zm4 0h-2V7h2v10zm4 0h-2v-4h2v4z\"/>\n",
              "    </g>\n",
              "</svg>\n",
              "  </button>\n",
              "\n",
              "<style>\n",
              "  .colab-df-quickchart {\n",
              "      --bg-color: #E8F0FE;\n",
              "      --fill-color: #1967D2;\n",
              "      --hover-bg-color: #E2EBFA;\n",
              "      --hover-fill-color: #174EA6;\n",
              "      --disabled-fill-color: #AAA;\n",
              "      --disabled-bg-color: #DDD;\n",
              "  }\n",
              "\n",
              "  [theme=dark] .colab-df-quickchart {\n",
              "      --bg-color: #3B4455;\n",
              "      --fill-color: #D2E3FC;\n",
              "      --hover-bg-color: #434B5C;\n",
              "      --hover-fill-color: #FFFFFF;\n",
              "      --disabled-bg-color: #3B4455;\n",
              "      --disabled-fill-color: #666;\n",
              "  }\n",
              "\n",
              "  .colab-df-quickchart {\n",
              "    background-color: var(--bg-color);\n",
              "    border: none;\n",
              "    border-radius: 50%;\n",
              "    cursor: pointer;\n",
              "    display: none;\n",
              "    fill: var(--fill-color);\n",
              "    height: 32px;\n",
              "    padding: 0;\n",
              "    width: 32px;\n",
              "  }\n",
              "\n",
              "  .colab-df-quickchart:hover {\n",
              "    background-color: var(--hover-bg-color);\n",
              "    box-shadow: 0 1px 2px rgba(60, 64, 67, 0.3), 0 1px 3px 1px rgba(60, 64, 67, 0.15);\n",
              "    fill: var(--button-hover-fill-color);\n",
              "  }\n",
              "\n",
              "  .colab-df-quickchart-complete:disabled,\n",
              "  .colab-df-quickchart-complete:disabled:hover {\n",
              "    background-color: var(--disabled-bg-color);\n",
              "    fill: var(--disabled-fill-color);\n",
              "    box-shadow: none;\n",
              "  }\n",
              "\n",
              "  .colab-df-spinner {\n",
              "    border: 2px solid var(--fill-color);\n",
              "    border-color: transparent;\n",
              "    border-bottom-color: var(--fill-color);\n",
              "    animation:\n",
              "      spin 1s steps(1) infinite;\n",
              "  }\n",
              "\n",
              "  @keyframes spin {\n",
              "    0% {\n",
              "      border-color: transparent;\n",
              "      border-bottom-color: var(--fill-color);\n",
              "      border-left-color: var(--fill-color);\n",
              "    }\n",
              "    20% {\n",
              "      border-color: transparent;\n",
              "      border-left-color: var(--fill-color);\n",
              "      border-top-color: var(--fill-color);\n",
              "    }\n",
              "    30% {\n",
              "      border-color: transparent;\n",
              "      border-left-color: var(--fill-color);\n",
              "      border-top-color: var(--fill-color);\n",
              "      border-right-color: var(--fill-color);\n",
              "    }\n",
              "    40% {\n",
              "      border-color: transparent;\n",
              "      border-right-color: var(--fill-color);\n",
              "      border-top-color: var(--fill-color);\n",
              "    }\n",
              "    60% {\n",
              "      border-color: transparent;\n",
              "      border-right-color: var(--fill-color);\n",
              "    }\n",
              "    80% {\n",
              "      border-color: transparent;\n",
              "      border-right-color: var(--fill-color);\n",
              "      border-bottom-color: var(--fill-color);\n",
              "    }\n",
              "    90% {\n",
              "      border-color: transparent;\n",
              "      border-bottom-color: var(--fill-color);\n",
              "    }\n",
              "  }\n",
              "</style>\n",
              "\n",
              "  <script>\n",
              "    async function quickchart(key) {\n",
              "      const quickchartButtonEl =\n",
              "        document.querySelector('#' + key + ' button');\n",
              "      quickchartButtonEl.disabled = true;  // To prevent multiple clicks.\n",
              "      quickchartButtonEl.classList.add('colab-df-spinner');\n",
              "      try {\n",
              "        const charts = await google.colab.kernel.invokeFunction(\n",
              "            'suggestCharts', [key], {});\n",
              "      } catch (error) {\n",
              "        console.error('Error during call to suggestCharts:', error);\n",
              "      }\n",
              "      quickchartButtonEl.classList.remove('colab-df-spinner');\n",
              "      quickchartButtonEl.classList.add('colab-df-quickchart-complete');\n",
              "    }\n",
              "    (() => {\n",
              "      let quickchartButtonEl =\n",
              "        document.querySelector('#df-6dd5f6bd-8781-4113-b140-8880d98c47d9 button');\n",
              "      quickchartButtonEl.style.display =\n",
              "        google.colab.kernel.accessAllowed ? 'block' : 'none';\n",
              "    })();\n",
              "  </script>\n",
              "</div>\n",
              "    </div>\n",
              "  </div>\n"
            ]
          },
          "metadata": {},
          "execution_count": 13
        }
      ],
      "source": [
        "df.head(10)"
      ]
    },
    {
      "cell_type": "code",
      "execution_count": null,
      "metadata": {
        "id": "bBOeG-bG6LY8"
      },
      "outputs": [],
      "source": []
    }
  ],
  "metadata": {
    "colab": {
      "name": "long_sequences.ipynb",
      "provenance": [],
      "toc_visible": true
    },
    "kernel_info": {
      "name": "nlp-py38"
    },
    "kernelspec": {
      "display_name": "NLP (Python 3.8)",
      "language": "python",
      "name": "nlp-py38"
    },
    "language_info": {
      "codemirror_mode": {
        "name": "ipython",
        "version": 3
      },
      "file_extension": ".py",
      "mimetype": "text/x-python",
      "name": "python",
      "nbconvert_exporter": "python",
      "pygments_lexer": "ipython3",
      "version": "3.8.5"
    },
    "nteract": {
      "version": "nteract-front-end@1.0.0"
    }
  },
  "nbformat": 4,
  "nbformat_minor": 0
}