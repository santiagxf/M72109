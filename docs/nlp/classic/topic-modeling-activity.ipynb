{
  "cells": [
    {
      "cell_type": "markdown",
      "metadata": {
        "id": "it108cAwxRJt"
      },
      "source": [
        "# Modelado Clásico - Actividad 1"
      ]
    },
    {
      "cell_type": "markdown",
      "metadata": {
        "id": "7VYPdzDTxRJw"
      },
      "source": [
        "Topic modeling es una técnica de aprendizaje automático no supervisado donde intentados descubrir tópicos que son abstractos al texto pero que pueden describir una colección de documentos. Es importante marcar que estos \"tópicos\" no son necesariamente equivalentes a la interpretación coloquial de tópicos, sino que responden a un patrón que emerge de las palabras que están en los documentos.\n",
        "\n",
        "La suposición básica para Topic Modeling es que cada documento está representado por una mescla de tópicos, y cada tópico consite en una conlección de palabras."
      ]
    },
    {
      "cell_type": "markdown",
      "metadata": {
        "id": "VomDdG0PxRJx"
      },
      "source": [
        "## Direcciones\n",
        "Intentaremos construir un pipeline de machine learning donde como entrada recibamos texto, ejecutemos todos los pasos que vimos en este notebook incluyendo:\n",
        "\n",
        " - Eliminación de stopwords\n",
        " - Tokenización\n",
        " - Stemming y Lemmatization\n",
        " - Procesamiento especico del tema\n",
        " - Creación de features utilizando algun metodo de reducción de dimensionalidad, SVD, LSI, LDA\n",
        "\n",
        ", para luego utilizar estas features para entrenar un modelo que nos permita predecir alguna propiedad interesante del set de datos. En este caso en particular, donde estermos analizando tweets, predeciremos el sector al que pertenece el tweet: Alimentación, Bebidas, etc.\n",
        " \n",
        "En esta actividad les proponemos realizar cambios en alguna de las etapas del procesamiento para modificar la performance del modelo resultante y evaluar que cambios generan el mejor modelo resultante."
      ]
    },
    {
      "cell_type": "markdown",
      "metadata": {
        "id": "YrD82rvfxRJy"
      },
      "source": [
        "<img src='https://github.com/santiagxf/M72109/blob/master/docs/nlp/_images/classic_pipeline.png?raw=1' />"
      ]
    },
    {
      "cell_type": "markdown",
      "metadata": {
        "id": "5iw-sykcZWAb"
      },
      "source": [
        "### Para ejecutar este notebook"
      ]
    },
    {
      "cell_type": "markdown",
      "metadata": {
        "id": "2ke-vHIJZWAc"
      },
      "source": [
        "Para ejecutar este notebook, instale las siguientes librerias:"
      ]
    },
    {
      "cell_type": "code",
      "execution_count": null,
      "metadata": {
        "id": "21Xgn3NqxRJ7"
      },
      "outputs": [],
      "source": [
        "!wget https://raw.githubusercontent.com/santiagxf/M72109/master/NLP/Datasets/mascorpus/tweets_marketing.csv \\\n",
        "    --quiet --no-clobber --directory-prefix ./Datasets/mascorpus/\n",
        "    \n",
        "!wget https://raw.githubusercontent.com/santiagxf/M72109/master/docs/nlp/classic/topic-modeling.txt \\\n",
        "    --quiet --no-clobber\n",
        "!pip install -r topic-modeling.txt --quiet"
      ]
    },
    {
      "cell_type": "code",
      "execution_count": null,
      "metadata": {
        "id": "OOGkFv6YZWAg"
      },
      "outputs": [],
      "source": [
        "!python -m spacy download es_core_news_sm"
      ]
    },
    {
      "cell_type": "code",
      "execution_count": null,
      "metadata": {},
      "outputs": [],
      "source": [
        "!wget https://raw.githubusercontent.com/santiagxf/M72109/master/m72109/nlp/normalization.py \\\n",
        "    --quiet --no-clobber --directory-prefix ./m72109/nlp/"
      ]
    },
    {
      "cell_type": "markdown",
      "metadata": {
        "id": "WPpqVNrwSdhL"
      },
      "source": [
        "Primero importaremos algunas librerias necesarias"
      ]
    },
    {
      "cell_type": "code",
      "execution_count": null,
      "metadata": {
        "id": "zPfF_O0U_J9a"
      },
      "outputs": [],
      "source": [
        "import pandas as pd\n",
        "import numpy as np\n",
        "import matplotlib.pyplot as plt\n",
        "from tqdm import tqdm"
      ]
    },
    {
      "cell_type": "markdown",
      "metadata": {
        "id": "lE_O7bEjLebd"
      },
      "source": [
        "### Sobre el set de datos con el que vamos a trabajar"
      ]
    },
    {
      "cell_type": "markdown",
      "metadata": {
        "id": "H8lcRTa_Li4e"
      },
      "source": [
        "Utilizaremos como ejemplo un set de datos en español que contiene tweets que diferentes usuarios han publicado en relación a diferentes marcas de productos u empresas en el rubro de alimentación, construcción, automoviles, etc. Estos tweets, a su vez, están asociados a una de las diferentes fases en el proceso de ventas (también conocido como Marketing Funel) y por eso están tagueados con las fases de:\n",
        " - Awareness – el cliente es conciente de la existencia de un producto o servicio\n",
        " - Interest – activamente expresa el interes de un producto o servicio\n",
        " - Evaluation – aspira una marca o producto en particular\n",
        " - Purchase – toma el siguiente paso necesario para comprar el producto o servicio\n",
        " - Postpurchase - realización del proceso de compra. El cliente compara la diferencia entre lo que deseaba y lo que obtuvo\n",
        "\n",
        "Referencia: [Spanish Corpus of Tweets for Marketing](http://ceur-ws.org/Vol-2111/paper1.pdf\n",
        "\n",
        "> Nota: La version de este conjunto de datos que utilizaremos aqui es una versión preprocesada del original."
      ]
    },
    {
      "cell_type": "code",
      "execution_count": null,
      "metadata": {
        "id": "mnFmjMFkxRJ4"
      },
      "outputs": [],
      "source": [
        "tweets = pd.read_csv('Datasets/mascorpus/tweets_marketing.csv')"
      ]
    },
    {
      "cell_type": "markdown",
      "metadata": {
        "id": "eYwp3XEcZWAl"
      },
      "source": [
        "## Desarrollo"
      ]
    },
    {
      "cell_type": "markdown",
      "metadata": {
        "id": "se8eN3hDZWAl"
      },
      "source": [
        "### Creando nuestros sets de datos de entrenamiento y testing"
      ]
    },
    {
      "cell_type": "code",
      "execution_count": null,
      "metadata": {
        "id": "fZ6wpf2wxRKT"
      },
      "outputs": [],
      "source": [
        "from sklearn.model_selection import train_test_split\n",
        "\n",
        "X_train, X_test, y_train, y_test = train_test_split(tweets['TEXTO'], tweets['SECTOR'], \n",
        "                                                    test_size=0.33, \n",
        "                                                    stratify=tweets['SECTOR'])"
      ]
    },
    {
      "cell_type": "markdown",
      "metadata": {
        "id": "1n_LptW1xRJ-"
      },
      "source": [
        "### Construcción del modelo: Pasos"
      ]
    },
    {
      "cell_type": "markdown",
      "metadata": {
        "id": "fm4omFKExRJ_"
      },
      "source": [
        "**Paso 1:** Instanciamos nuestro preprocesamiento de texto"
      ]
    },
    {
      "cell_type": "code",
      "execution_count": null,
      "metadata": {
        "id": "rbt-OdJFxRKC"
      },
      "outputs": [],
      "source": [
        "from m72109.nlp.normalization import TweetTextNormalizer\n",
        "\n",
        "normalizer = TweetTextNormalizer()"
      ]
    },
    {
      "cell_type": "markdown",
      "metadata": {},
      "source": [
        "> Tip: Inspeccione todos los parametros de `TweetTextNormalizer`."
      ]
    },
    {
      "cell_type": "markdown",
      "metadata": {
        "id": "XFY6eUe4xRKF"
      },
      "source": [
        "**Paso 2:** Instanciamos nuestro vectorizador, en este caso usando el método TF-IDF"
      ]
    },
    {
      "cell_type": "code",
      "execution_count": null,
      "metadata": {
        "id": "5oMARrKNxRKG"
      },
      "outputs": [],
      "source": [
        "from sklearn.feature_extraction.text import TfidfVectorizer\n",
        "\n",
        "vectorizer = TfidfVectorizer(use_idf=True, sublinear_tf=True, norm='l2')"
      ]
    },
    {
      "cell_type": "markdown",
      "metadata": {
        "id": "atOW2STAxRKI"
      },
      "source": [
        "**Paso 3:** Instanciamos nuestro generador de features"
      ]
    },
    {
      "cell_type": "code",
      "execution_count": null,
      "metadata": {
        "id": "FUvY-6AjxRKJ"
      },
      "outputs": [],
      "source": [
        "from sklearn.decomposition import LatentDirichletAllocation\n",
        "from sklearn.decomposition import TruncatedSVD\n",
        "from sklearn.decomposition import NMF\n",
        "\n",
        "# featurizer = "
      ]
    },
    {
      "cell_type": "markdown",
      "metadata": {
        "id": "gdi6dwy_xRKL"
      },
      "source": [
        "**Paso 4:** Instanciamos nuestro clasificador que utilizará las features generadas hasta este momento"
      ]
    },
    {
      "cell_type": "code",
      "execution_count": null,
      "metadata": {
        "id": "wspdz2OZxRKL"
      },
      "outputs": [],
      "source": [
        "from sklearn.linear_model import LogisticRegression\n",
        "from sklearn.ensemble import GradientBoostingClassifier\n",
        "\n",
        "# estimator ="
      ]
    },
    {
      "cell_type": "markdown",
      "metadata": {
        "id": "fBLDj74FZWAq"
      },
      "source": [
        "### Pipeline"
      ]
    },
    {
      "cell_type": "markdown",
      "metadata": {
        "id": "uk5oDgUpxRKN"
      },
      "source": [
        "Ensamblamos el pipeline"
      ]
    },
    {
      "cell_type": "code",
      "execution_count": null,
      "metadata": {
        "id": "eVA3dR60xRKO"
      },
      "outputs": [],
      "source": [
        "from sklearn.pipeline import Pipeline\n",
        "\n",
        "# pipeline = Pipeline(steps=[('normalizer', normalizer), \n",
        "#                           ('vectorizer', vectorizer),\n",
        "#                           ('featurizer', featurizer),\n",
        "#                           ('estimator', estimator)])"
      ]
    },
    {
      "cell_type": "markdown",
      "metadata": {
        "id": "NCHelkwGxRKS"
      },
      "source": [
        "### Evaluación"
      ]
    },
    {
      "cell_type": "markdown",
      "metadata": {
        "id": "CXQsgKLaxRKT"
      },
      "source": [
        "**Evaluación:** Entrenamos el modelo y testeamos su performance"
      ]
    },
    {
      "cell_type": "code",
      "execution_count": null,
      "metadata": {
        "id": "OeSBrVY3xRKW"
      },
      "outputs": [],
      "source": [
        "# model = pipeline.fit(X=X_train, y=y_train)"
      ]
    },
    {
      "cell_type": "code",
      "execution_count": null,
      "metadata": {
        "id": "zbZSy77rxRKY"
      },
      "outputs": [],
      "source": [
        "# predictions = model.predict(X_test)"
      ]
    },
    {
      "cell_type": "code",
      "execution_count": null,
      "metadata": {
        "id": "uJ94y_xpxRKa"
      },
      "outputs": [],
      "source": [
        "from sklearn.metrics import classification_report\n",
        "\n",
        "# print(classification_report(y_test, predictions))"
      ]
    },
    {
      "cell_type": "markdown",
      "metadata": {
        "id": "nttneC2gZiHF"
      },
      "source": [
        "## Responda las siguentes preguntas\n",
        "\n",
        "> **Pista:** ¿Como podrían explorar esta multiplicidad de opciones de forma automática?\n",
        "\n",
        "En particular deberan contestar las siguientes preguntas:\n",
        "\n",
        " - ¿Que métodos de reducción de dimensionalidad resultan mejores?"
      ]
    },
    {
      "cell_type": "markdown",
      "metadata": {
        "id": "sUvK--QbZyEw"
      },
      "source": [
        "> *Haga doble click para ingresar su respuesta*"
      ]
    },
    {
      "cell_type": "markdown",
      "metadata": {
        "id": "QOY_rjcyZx3k"
      },
      "source": [
        " - ¿Que numero de componentes hace sentido para estre problema?"
      ]
    },
    {
      "cell_type": "markdown",
      "metadata": {
        "id": "noL3w-Y2ZxnY"
      },
      "source": [
        "> *Haga doble click para ingresar su respuesta*"
      ]
    },
    {
      "cell_type": "markdown",
      "metadata": {
        "id": "7GOJdmagZxRE"
      },
      "source": [
        " - ¿Que tipo de modelos resultan mejores a la hora de ser utilizados como clasificadores? (estimator)"
      ]
    },
    {
      "cell_type": "markdown",
      "metadata": {
        "id": "xjs4fdWdZ3Ae"
      },
      "source": [
        "> *Haga doble click para ingresar su respuesta*"
      ]
    },
    {
      "cell_type": "markdown",
      "metadata": {
        "id": "7LIV51kJfqyc"
      },
      "source": [
        "### Enviar trabajo práctico para evaluación\n",
        "\n",
        "Para enviar sus respuestas:\n",
        "\n",
        "1. Guarde una copia de este notebook en Google Colab.\n",
        "2. Comparta el notebook y copie la dirección URL al miso.\n",
        "\n",
        "  <img src='https://github.com/santiagxf/M72109/blob/master/docs/practice/_images/save_and_share.png?raw=1' width='700'/>\n",
        "\n",
        "3. Genere una entrega en el campus pretando atención a:\n",
        "\n",
        "  1. **Número de entrega** = 1.\n",
        "  2. **Comentario** = pegue el link que acaba de copiar.\n",
        "\n",
        "  <img src='https://github.com/santiagxf/M72109/blob/master/docs/practice/_images/share_and_submit.gif?raw=1' width='700'/>"
      ]
    }
  ],
  "metadata": {
    "colab": {
      "name": "Topic Modeling - Actividad.ipynb",
      "provenance": [],
      "toc_visible": true
    },
    "kernelspec": {
      "display_name": "Python 3.9.5 64-bit ('base': conda)",
      "name": "python3"
    },
    "language_info": {
      "codemirror_mode": {
        "name": "ipython",
        "version": 3
      },
      "file_extension": ".py",
      "mimetype": "text/x-python",
      "name": "python",
      "nbconvert_exporter": "python",
      "pygments_lexer": "ipython3",
      "version": "3.6.10"
    }
  },
  "nbformat": 4,
  "nbformat_minor": 0
}
