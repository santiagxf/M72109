{
  "cells": [
    {
      "cell_type": "markdown",
      "metadata": {
        "id": "3RcCek8lsFze"
      },
      "source": [
        "Técnicas de reducción de dimensionalidad\n",
        "==================================="
      ]
    },
    {
      "cell_type": "markdown",
      "metadata": {
        "id": "u8Irja1O_J9X"
      },
      "source": [
        "## Introducción\n",
        "\n",
        "Topic modeling es una técnica de aprendizaje automático no supervisado donde intentados descubrir tópicos que son abstractos al texto pero que pueden describir una colección de documentos. Es importante marcar que estos \"tópicos\" no son necesariamente equivalentes a la interpretación coloquial de tópicos, sino que responden a un patrón que emerge de las palabras que están en los documentos.\n",
        "\n",
        "La suposición básica para Topic Modeling es que cada documento está representado por una mescla de tópicos, y cada tópico consiste en una colección de palabras."
      ]
    },
    {
      "cell_type": "markdown",
      "metadata": {
        "id": "nJKJtlkCsFzn"
      },
      "source": [
        "### Para ejecutar este notebook"
      ]
    },
    {
      "cell_type": "markdown",
      "metadata": {
        "id": "zjntkNZ5sFzn"
      },
      "source": [
        "Para ejecutar este notebook, instalaremos las siguientes librerias:\n",
        "\n",
        "```\n",
        "nltk\n",
        "pandas\n",
        "numpy\n",
        "matplotlib\n",
        "tqdm\n",
        "spacy==2.3.5\n",
        "unidecode\n",
        "scikit-learn\n",
        "importlib-metadata==4.13.0\n",
        "pyLDAvis\n",
        "```"
      ]
    },
    {
      "cell_type": "code",
      "execution_count": null,
      "metadata": {
        "id": "9zClL8PJsFzo"
      },
      "outputs": [],
      "source": [
        "!wget https://raw.githubusercontent.com/santiagxf/M72109/master/NLP/Datasets/mascorpus/tweets_marketing.csv \\\n",
        "    --quiet --no-clobber --directory-prefix ./Datasets/mascorpus/\n",
        "\n",
        "!wget https://raw.githubusercontent.com/santiagxf/M72109/master/docs/nlp/classic/topic-modeling.txt \\\n",
        "    --quiet --no-clobber\n",
        "!pip install -r topic-modeling.txt --quiet"
      ]
    },
    {
      "cell_type": "code",
      "execution_count": 2,
      "metadata": {
        "id": "KgoST-ebsFzq"
      },
      "outputs": [],
      "source": [
        "!python -m spacy download es_core_news_sm 1> /dev/null"
      ]
    },
    {
      "cell_type": "markdown",
      "source": [
        "Deshabilitamos algunos mensajes de advertencias:"
      ],
      "metadata": {
        "id": "uVCSKx1cu6Z3"
      }
    },
    {
      "cell_type": "code",
      "source": [
        "import warnings\n",
        "warnings.filterwarnings(\"ignore\")"
      ],
      "metadata": {
        "id": "ltgAo3Y2u9md"
      },
      "execution_count": 17,
      "outputs": []
    },
    {
      "cell_type": "markdown",
      "metadata": {
        "id": "WPpqVNrwSdhL"
      },
      "source": [
        "Primero importaremos algunas librerias necesarias"
      ]
    },
    {
      "cell_type": "code",
      "execution_count": 4,
      "metadata": {
        "id": "zPfF_O0U_J9a"
      },
      "outputs": [],
      "source": [
        "import pandas as pd\n",
        "import numpy as np\n",
        "import matplotlib.pyplot as plt\n",
        "from tqdm import tqdm"
      ]
    },
    {
      "cell_type": "markdown",
      "metadata": {
        "id": "lE_O7bEjLebd"
      },
      "source": [
        "## Sobre el set de datos con el que vamos a trabajar"
      ]
    },
    {
      "cell_type": "markdown",
      "metadata": {
        "id": "H8lcRTa_Li4e"
      },
      "source": [
        "Utilizaremos como ejemplo un set de datos en español que contiene tweets que diferentes usuarios han publicado en relación a diferentes marcas de productos u empresas en el rubro de alimentación, construcción, automoviles, etc. Estos tweets, a su vez, están asociados a una de las diferentes fases en el proceso de ventas (también conocido como Marketing Funel) y por eso están tagueados con las fases de:\n",
        "\n",
        " - Awareness – el cliente es conciente de la existencia de un producto o servicio\n",
        " - Interest – activamente expresa el interes de un producto o servicio\n",
        " - Evaluation – aspira una marca o producto en particular\n",
        " - Purchase – toma el siguiente paso necesario para comprar el producto o servicio\n",
        " - Postpurchase - realización del proceso de compra. El cliente compara la diferencia entre lo que deseaba y lo que obtuvo\n",
        "\n",
        "Referencia: [Spanish Corpus of Tweets for Marketing](http://ceur-ws.org/Vol-2111/paper1.pdf\n",
        "\n",
        "> Nota: La version de este conjunto de datos que utilizaremos aqui es una versión preprocesada del original."
      ]
    },
    {
      "cell_type": "code",
      "execution_count": 5,
      "metadata": {
        "id": "Gc44Q7do_J9h"
      },
      "outputs": [],
      "source": [
        "tweets = pd.read_csv('Datasets/mascorpus/tweets_marketing.csv')"
      ]
    },
    {
      "cell_type": "markdown",
      "metadata": {
        "id": "INJwReUXSs4K"
      },
      "source": [
        "Inspeccionamos el set de datos"
      ]
    },
    {
      "cell_type": "code",
      "execution_count": 6,
      "metadata": {
        "colab": {
          "base_uri": "https://localhost:8080/",
          "height": 206
        },
        "id": "Gd6EocPdG5A0",
        "outputId": "df21f703-4542-40a6-97c3-9cb205d3334d"
      },
      "outputs": [
        {
          "output_type": "execute_result",
          "data": {
            "text/plain": [
              "                                               TEXTO  SECTOR      MARCA  \\\n",
              "0  #tablondeanuncios Funda nordica ikea #madrid h...  RETAIL       IKEA   \n",
              "1  #tr Me ofrezco para montar muebles de Ikea - H...  RETAIL       IKEA   \n",
              "2  #VozPópuli Vozpópuli @voz_populi - #LoMásLeido...  RETAIL    ALCAMPO   \n",
              "3  #ZonaTecno Destacado: Todo lo que hay que sabe...  RETAIL  CARREFOUR   \n",
              "4  $Carrefour retira pez #Panga. OCU y grupos x #...  RETAIL  CARREFOUR   \n",
              "\n",
              "       CANAL  AWARENESS  EVALUATION  PURCHASE  POSTPURCHASE  NC2  \n",
              "0  Microblog          0           0       0.0             0  1.0  \n",
              "1  Microblog          0           0       0.0             0  1.0  \n",
              "2  Microblog          0           0       0.0             0  1.0  \n",
              "3  Microblog          0           0       0.0             0  1.0  \n",
              "4  Microblog          0           0       0.0             0  1.0  "
            ],
            "text/html": [
              "\n",
              "  <div id=\"df-95487683-b895-446d-a787-3c90b7b76bda\" class=\"colab-df-container\">\n",
              "    <div>\n",
              "<style scoped>\n",
              "    .dataframe tbody tr th:only-of-type {\n",
              "        vertical-align: middle;\n",
              "    }\n",
              "\n",
              "    .dataframe tbody tr th {\n",
              "        vertical-align: top;\n",
              "    }\n",
              "\n",
              "    .dataframe thead th {\n",
              "        text-align: right;\n",
              "    }\n",
              "</style>\n",
              "<table border=\"1\" class=\"dataframe\">\n",
              "  <thead>\n",
              "    <tr style=\"text-align: right;\">\n",
              "      <th></th>\n",
              "      <th>TEXTO</th>\n",
              "      <th>SECTOR</th>\n",
              "      <th>MARCA</th>\n",
              "      <th>CANAL</th>\n",
              "      <th>AWARENESS</th>\n",
              "      <th>EVALUATION</th>\n",
              "      <th>PURCHASE</th>\n",
              "      <th>POSTPURCHASE</th>\n",
              "      <th>NC2</th>\n",
              "    </tr>\n",
              "  </thead>\n",
              "  <tbody>\n",
              "    <tr>\n",
              "      <th>0</th>\n",
              "      <td>#tablondeanuncios Funda nordica ikea #madrid h...</td>\n",
              "      <td>RETAIL</td>\n",
              "      <td>IKEA</td>\n",
              "      <td>Microblog</td>\n",
              "      <td>0</td>\n",
              "      <td>0</td>\n",
              "      <td>0.0</td>\n",
              "      <td>0</td>\n",
              "      <td>1.0</td>\n",
              "    </tr>\n",
              "    <tr>\n",
              "      <th>1</th>\n",
              "      <td>#tr Me ofrezco para montar muebles de Ikea - H...</td>\n",
              "      <td>RETAIL</td>\n",
              "      <td>IKEA</td>\n",
              "      <td>Microblog</td>\n",
              "      <td>0</td>\n",
              "      <td>0</td>\n",
              "      <td>0.0</td>\n",
              "      <td>0</td>\n",
              "      <td>1.0</td>\n",
              "    </tr>\n",
              "    <tr>\n",
              "      <th>2</th>\n",
              "      <td>#VozPópuli Vozpópuli @voz_populi - #LoMásLeido...</td>\n",
              "      <td>RETAIL</td>\n",
              "      <td>ALCAMPO</td>\n",
              "      <td>Microblog</td>\n",
              "      <td>0</td>\n",
              "      <td>0</td>\n",
              "      <td>0.0</td>\n",
              "      <td>0</td>\n",
              "      <td>1.0</td>\n",
              "    </tr>\n",
              "    <tr>\n",
              "      <th>3</th>\n",
              "      <td>#ZonaTecno Destacado: Todo lo que hay que sabe...</td>\n",
              "      <td>RETAIL</td>\n",
              "      <td>CARREFOUR</td>\n",
              "      <td>Microblog</td>\n",
              "      <td>0</td>\n",
              "      <td>0</td>\n",
              "      <td>0.0</td>\n",
              "      <td>0</td>\n",
              "      <td>1.0</td>\n",
              "    </tr>\n",
              "    <tr>\n",
              "      <th>4</th>\n",
              "      <td>$Carrefour retira pez #Panga. OCU y grupos x #...</td>\n",
              "      <td>RETAIL</td>\n",
              "      <td>CARREFOUR</td>\n",
              "      <td>Microblog</td>\n",
              "      <td>0</td>\n",
              "      <td>0</td>\n",
              "      <td>0.0</td>\n",
              "      <td>0</td>\n",
              "      <td>1.0</td>\n",
              "    </tr>\n",
              "  </tbody>\n",
              "</table>\n",
              "</div>\n",
              "    <div class=\"colab-df-buttons\">\n",
              "\n",
              "  <div class=\"colab-df-container\">\n",
              "    <button class=\"colab-df-convert\" onclick=\"convertToInteractive('df-95487683-b895-446d-a787-3c90b7b76bda')\"\n",
              "            title=\"Convert this dataframe to an interactive table.\"\n",
              "            style=\"display:none;\">\n",
              "\n",
              "  <svg xmlns=\"http://www.w3.org/2000/svg\" height=\"24px\" viewBox=\"0 -960 960 960\">\n",
              "    <path d=\"M120-120v-720h720v720H120Zm60-500h600v-160H180v160Zm220 220h160v-160H400v160Zm0 220h160v-160H400v160ZM180-400h160v-160H180v160Zm440 0h160v-160H620v160ZM180-180h160v-160H180v160Zm440 0h160v-160H620v160Z\"/>\n",
              "  </svg>\n",
              "    </button>\n",
              "\n",
              "  <style>\n",
              "    .colab-df-container {\n",
              "      display:flex;\n",
              "      gap: 12px;\n",
              "    }\n",
              "\n",
              "    .colab-df-convert {\n",
              "      background-color: #E8F0FE;\n",
              "      border: none;\n",
              "      border-radius: 50%;\n",
              "      cursor: pointer;\n",
              "      display: none;\n",
              "      fill: #1967D2;\n",
              "      height: 32px;\n",
              "      padding: 0 0 0 0;\n",
              "      width: 32px;\n",
              "    }\n",
              "\n",
              "    .colab-df-convert:hover {\n",
              "      background-color: #E2EBFA;\n",
              "      box-shadow: 0px 1px 2px rgba(60, 64, 67, 0.3), 0px 1px 3px 1px rgba(60, 64, 67, 0.15);\n",
              "      fill: #174EA6;\n",
              "    }\n",
              "\n",
              "    .colab-df-buttons div {\n",
              "      margin-bottom: 4px;\n",
              "    }\n",
              "\n",
              "    [theme=dark] .colab-df-convert {\n",
              "      background-color: #3B4455;\n",
              "      fill: #D2E3FC;\n",
              "    }\n",
              "\n",
              "    [theme=dark] .colab-df-convert:hover {\n",
              "      background-color: #434B5C;\n",
              "      box-shadow: 0px 1px 3px 1px rgba(0, 0, 0, 0.15);\n",
              "      filter: drop-shadow(0px 1px 2px rgba(0, 0, 0, 0.3));\n",
              "      fill: #FFFFFF;\n",
              "    }\n",
              "  </style>\n",
              "\n",
              "    <script>\n",
              "      const buttonEl =\n",
              "        document.querySelector('#df-95487683-b895-446d-a787-3c90b7b76bda button.colab-df-convert');\n",
              "      buttonEl.style.display =\n",
              "        google.colab.kernel.accessAllowed ? 'block' : 'none';\n",
              "\n",
              "      async function convertToInteractive(key) {\n",
              "        const element = document.querySelector('#df-95487683-b895-446d-a787-3c90b7b76bda');\n",
              "        const dataTable =\n",
              "          await google.colab.kernel.invokeFunction('convertToInteractive',\n",
              "                                                    [key], {});\n",
              "        if (!dataTable) return;\n",
              "\n",
              "        const docLinkHtml = 'Like what you see? Visit the ' +\n",
              "          '<a target=\"_blank\" href=https://colab.research.google.com/notebooks/data_table.ipynb>data table notebook</a>'\n",
              "          + ' to learn more about interactive tables.';\n",
              "        element.innerHTML = '';\n",
              "        dataTable['output_type'] = 'display_data';\n",
              "        await google.colab.output.renderOutput(dataTable, element);\n",
              "        const docLink = document.createElement('div');\n",
              "        docLink.innerHTML = docLinkHtml;\n",
              "        element.appendChild(docLink);\n",
              "      }\n",
              "    </script>\n",
              "  </div>\n",
              "\n",
              "\n",
              "    <div id=\"df-f3094ff1-2605-4c47-b309-8df7b911c63e\">\n",
              "      <button class=\"colab-df-quickchart\" onclick=\"quickchart('df-f3094ff1-2605-4c47-b309-8df7b911c63e')\"\n",
              "                title=\"Suggest charts\"\n",
              "                style=\"display:none;\">\n",
              "\n",
              "<svg xmlns=\"http://www.w3.org/2000/svg\" height=\"24px\"viewBox=\"0 0 24 24\"\n",
              "     width=\"24px\">\n",
              "    <g>\n",
              "        <path d=\"M19 3H5c-1.1 0-2 .9-2 2v14c0 1.1.9 2 2 2h14c1.1 0 2-.9 2-2V5c0-1.1-.9-2-2-2zM9 17H7v-7h2v7zm4 0h-2V7h2v10zm4 0h-2v-4h2v4z\"/>\n",
              "    </g>\n",
              "</svg>\n",
              "      </button>\n",
              "\n",
              "<style>\n",
              "  .colab-df-quickchart {\n",
              "      --bg-color: #E8F0FE;\n",
              "      --fill-color: #1967D2;\n",
              "      --hover-bg-color: #E2EBFA;\n",
              "      --hover-fill-color: #174EA6;\n",
              "      --disabled-fill-color: #AAA;\n",
              "      --disabled-bg-color: #DDD;\n",
              "  }\n",
              "\n",
              "  [theme=dark] .colab-df-quickchart {\n",
              "      --bg-color: #3B4455;\n",
              "      --fill-color: #D2E3FC;\n",
              "      --hover-bg-color: #434B5C;\n",
              "      --hover-fill-color: #FFFFFF;\n",
              "      --disabled-bg-color: #3B4455;\n",
              "      --disabled-fill-color: #666;\n",
              "  }\n",
              "\n",
              "  .colab-df-quickchart {\n",
              "    background-color: var(--bg-color);\n",
              "    border: none;\n",
              "    border-radius: 50%;\n",
              "    cursor: pointer;\n",
              "    display: none;\n",
              "    fill: var(--fill-color);\n",
              "    height: 32px;\n",
              "    padding: 0;\n",
              "    width: 32px;\n",
              "  }\n",
              "\n",
              "  .colab-df-quickchart:hover {\n",
              "    background-color: var(--hover-bg-color);\n",
              "    box-shadow: 0 1px 2px rgba(60, 64, 67, 0.3), 0 1px 3px 1px rgba(60, 64, 67, 0.15);\n",
              "    fill: var(--button-hover-fill-color);\n",
              "  }\n",
              "\n",
              "  .colab-df-quickchart-complete:disabled,\n",
              "  .colab-df-quickchart-complete:disabled:hover {\n",
              "    background-color: var(--disabled-bg-color);\n",
              "    fill: var(--disabled-fill-color);\n",
              "    box-shadow: none;\n",
              "  }\n",
              "\n",
              "  .colab-df-spinner {\n",
              "    border: 2px solid var(--fill-color);\n",
              "    border-color: transparent;\n",
              "    border-bottom-color: var(--fill-color);\n",
              "    animation:\n",
              "      spin 1s steps(1) infinite;\n",
              "  }\n",
              "\n",
              "  @keyframes spin {\n",
              "    0% {\n",
              "      border-color: transparent;\n",
              "      border-bottom-color: var(--fill-color);\n",
              "      border-left-color: var(--fill-color);\n",
              "    }\n",
              "    20% {\n",
              "      border-color: transparent;\n",
              "      border-left-color: var(--fill-color);\n",
              "      border-top-color: var(--fill-color);\n",
              "    }\n",
              "    30% {\n",
              "      border-color: transparent;\n",
              "      border-left-color: var(--fill-color);\n",
              "      border-top-color: var(--fill-color);\n",
              "      border-right-color: var(--fill-color);\n",
              "    }\n",
              "    40% {\n",
              "      border-color: transparent;\n",
              "      border-right-color: var(--fill-color);\n",
              "      border-top-color: var(--fill-color);\n",
              "    }\n",
              "    60% {\n",
              "      border-color: transparent;\n",
              "      border-right-color: var(--fill-color);\n",
              "    }\n",
              "    80% {\n",
              "      border-color: transparent;\n",
              "      border-right-color: var(--fill-color);\n",
              "      border-bottom-color: var(--fill-color);\n",
              "    }\n",
              "    90% {\n",
              "      border-color: transparent;\n",
              "      border-bottom-color: var(--fill-color);\n",
              "    }\n",
              "  }\n",
              "</style>\n",
              "\n",
              "      <script>\n",
              "        async function quickchart(key) {\n",
              "          const quickchartButtonEl =\n",
              "            document.querySelector('#' + key + ' button');\n",
              "          quickchartButtonEl.disabled = true;  // To prevent multiple clicks.\n",
              "          quickchartButtonEl.classList.add('colab-df-spinner');\n",
              "          try {\n",
              "            const charts = await google.colab.kernel.invokeFunction(\n",
              "                'suggestCharts', [key], {});\n",
              "          } catch (error) {\n",
              "            console.error('Error during call to suggestCharts:', error);\n",
              "          }\n",
              "          quickchartButtonEl.classList.remove('colab-df-spinner');\n",
              "          quickchartButtonEl.classList.add('colab-df-quickchart-complete');\n",
              "        }\n",
              "        (() => {\n",
              "          let quickchartButtonEl =\n",
              "            document.querySelector('#df-f3094ff1-2605-4c47-b309-8df7b911c63e button');\n",
              "          quickchartButtonEl.style.display =\n",
              "            google.colab.kernel.accessAllowed ? 'block' : 'none';\n",
              "        })();\n",
              "      </script>\n",
              "    </div>\n",
              "\n",
              "    </div>\n",
              "  </div>\n"
            ],
            "application/vnd.google.colaboratory.intrinsic+json": {
              "type": "dataframe",
              "variable_name": "tweets",
              "summary": "{\n  \"name\": \"tweets\",\n  \"rows\": 3763,\n  \"fields\": [\n    {\n      \"column\": \"TEXTO\",\n      \"properties\": {\n        \"dtype\": \"string\",\n        \"num_unique_values\": 3678,\n        \"samples\": [\n          \"El BBVA deber\\u00eda hacer nuevos comerciales con Claudio Bravo.\\nAprovechando que ahora es el rey de la banca.\\n@alebattocchio\",\n          \"yo quiero el nuevo citroen c3!! https://t.co/5gKTjThrJk\",\n          \"Acabo de correr 5,78 km a un ritmo de 6'36'' con Nike+ https://t.co/Ui6paCTjtC #nikeplus\"\n        ],\n        \"semantic_type\": \"\",\n        \"description\": \"\"\n      }\n    },\n    {\n      \"column\": \"SECTOR\",\n      \"properties\": {\n        \"dtype\": \"category\",\n        \"num_unique_values\": 7,\n        \"samples\": [\n          \"RETAIL\",\n          \"TELCO\",\n          \"BEBIDAS\"\n        ],\n        \"semantic_type\": \"\",\n        \"description\": \"\"\n      }\n    },\n    {\n      \"column\": \"MARCA\",\n      \"properties\": {\n        \"dtype\": \"category\",\n        \"num_unique_values\": 38,\n        \"samples\": [\n          \"ESTRELLA GALICIA\",\n          \"NIKE\",\n          \"LEROY MERLIN\"\n        ],\n        \"semantic_type\": \"\",\n        \"description\": \"\"\n      }\n    },\n    {\n      \"column\": \"CANAL\",\n      \"properties\": {\n        \"dtype\": \"category\",\n        \"num_unique_values\": 1,\n        \"samples\": [\n          \"Microblog\"\n        ],\n        \"semantic_type\": \"\",\n        \"description\": \"\"\n      }\n    },\n    {\n      \"column\": \"AWARENESS\",\n      \"properties\": {\n        \"dtype\": \"number\",\n        \"std\": 0,\n        \"min\": 0,\n        \"max\": 1,\n        \"num_unique_values\": 2,\n        \"samples\": [\n          1\n        ],\n        \"semantic_type\": \"\",\n        \"description\": \"\"\n      }\n    },\n    {\n      \"column\": \"EVALUATION\",\n      \"properties\": {\n        \"dtype\": \"number\",\n        \"std\": 0,\n        \"min\": 0,\n        \"max\": 1,\n        \"num_unique_values\": 2,\n        \"samples\": [\n          1\n        ],\n        \"semantic_type\": \"\",\n        \"description\": \"\"\n      }\n    },\n    {\n      \"column\": \"PURCHASE\",\n      \"properties\": {\n        \"dtype\": \"number\",\n        \"std\": 0.15200028602567445,\n        \"min\": 0.0,\n        \"max\": 1.0,\n        \"num_unique_values\": 2,\n        \"samples\": [\n          1.0\n        ],\n        \"semantic_type\": \"\",\n        \"description\": \"\"\n      }\n    },\n    {\n      \"column\": \"POSTPURCHASE\",\n      \"properties\": {\n        \"dtype\": \"number\",\n        \"std\": 0,\n        \"min\": 0,\n        \"max\": 1,\n        \"num_unique_values\": 2,\n        \"samples\": [\n          1\n        ],\n        \"semantic_type\": \"\",\n        \"description\": \"\"\n      }\n    },\n    {\n      \"column\": \"NC2\",\n      \"properties\": {\n        \"dtype\": \"number\",\n        \"std\": 0.5047254454850233,\n        \"min\": 0.0,\n        \"max\": 11.0,\n        \"num_unique_values\": 3,\n        \"samples\": [\n          1.0\n        ],\n        \"semantic_type\": \"\",\n        \"description\": \"\"\n      }\n    }\n  ]\n}"
            }
          },
          "metadata": {},
          "execution_count": 6
        }
      ],
      "source": [
        "tweets.head(5)"
      ]
    },
    {
      "cell_type": "code",
      "execution_count": 7,
      "metadata": {
        "colab": {
          "base_uri": "https://localhost:8080/",
          "height": 268
        },
        "id": "uXwJS2Og_J9l",
        "outputId": "c8c6ca1f-d5e2-4807-9061-51479e9089f8"
      },
      "outputs": [
        {
          "output_type": "execute_result",
          "data": {
            "text/plain": [
              "                                                  TEXTO        SECTOR\n",
              "0     #tablondeanuncios Funda nordica ikea #madrid h...        RETAIL\n",
              "725   \"Ilcinsisti lis MB dispiniblis\" te odeeeeeo Mo...         TELCO\n",
              "964   #CarlosSlim y Bimbo lanzarán un vehículo eléct...  ALIMENTACION\n",
              "1298  ‼🏎Toyota #Day, 4ruedas ,1/4 milla, 1 #pasión, ...    AUTOMOCION\n",
              "1748  \"- Tú qué.\\n- Yo na.\"\\nConversaciones banco sa...         BANCA\n",
              "2348  - Cariño, te juro que sólo tenían Cruzcampo en...       BEBIDAS\n",
              "3023  #adidas #hockey Amenabar 2080 CABA https://t.c...      DEPORTES"
            ],
            "text/html": [
              "\n",
              "  <div id=\"df-eb3beb14-59e5-4e97-a9e3-2a71b7d160bd\" class=\"colab-df-container\">\n",
              "    <div>\n",
              "<style scoped>\n",
              "    .dataframe tbody tr th:only-of-type {\n",
              "        vertical-align: middle;\n",
              "    }\n",
              "\n",
              "    .dataframe tbody tr th {\n",
              "        vertical-align: top;\n",
              "    }\n",
              "\n",
              "    .dataframe thead th {\n",
              "        text-align: right;\n",
              "    }\n",
              "</style>\n",
              "<table border=\"1\" class=\"dataframe\">\n",
              "  <thead>\n",
              "    <tr style=\"text-align: right;\">\n",
              "      <th></th>\n",
              "      <th>TEXTO</th>\n",
              "      <th>SECTOR</th>\n",
              "    </tr>\n",
              "  </thead>\n",
              "  <tbody>\n",
              "    <tr>\n",
              "      <th>0</th>\n",
              "      <td>#tablondeanuncios Funda nordica ikea #madrid h...</td>\n",
              "      <td>RETAIL</td>\n",
              "    </tr>\n",
              "    <tr>\n",
              "      <th>725</th>\n",
              "      <td>\"Ilcinsisti lis MB dispiniblis\" te odeeeeeo Mo...</td>\n",
              "      <td>TELCO</td>\n",
              "    </tr>\n",
              "    <tr>\n",
              "      <th>964</th>\n",
              "      <td>#CarlosSlim y Bimbo lanzarán un vehículo eléct...</td>\n",
              "      <td>ALIMENTACION</td>\n",
              "    </tr>\n",
              "    <tr>\n",
              "      <th>1298</th>\n",
              "      <td>‼🏎Toyota #Day, 4ruedas ,1/4 milla, 1 #pasión, ...</td>\n",
              "      <td>AUTOMOCION</td>\n",
              "    </tr>\n",
              "    <tr>\n",
              "      <th>1748</th>\n",
              "      <td>\"- Tú qué.\\n- Yo na.\"\\nConversaciones banco sa...</td>\n",
              "      <td>BANCA</td>\n",
              "    </tr>\n",
              "    <tr>\n",
              "      <th>2348</th>\n",
              "      <td>- Cariño, te juro que sólo tenían Cruzcampo en...</td>\n",
              "      <td>BEBIDAS</td>\n",
              "    </tr>\n",
              "    <tr>\n",
              "      <th>3023</th>\n",
              "      <td>#adidas #hockey Amenabar 2080 CABA https://t.c...</td>\n",
              "      <td>DEPORTES</td>\n",
              "    </tr>\n",
              "  </tbody>\n",
              "</table>\n",
              "</div>\n",
              "    <div class=\"colab-df-buttons\">\n",
              "\n",
              "  <div class=\"colab-df-container\">\n",
              "    <button class=\"colab-df-convert\" onclick=\"convertToInteractive('df-eb3beb14-59e5-4e97-a9e3-2a71b7d160bd')\"\n",
              "            title=\"Convert this dataframe to an interactive table.\"\n",
              "            style=\"display:none;\">\n",
              "\n",
              "  <svg xmlns=\"http://www.w3.org/2000/svg\" height=\"24px\" viewBox=\"0 -960 960 960\">\n",
              "    <path d=\"M120-120v-720h720v720H120Zm60-500h600v-160H180v160Zm220 220h160v-160H400v160Zm0 220h160v-160H400v160ZM180-400h160v-160H180v160Zm440 0h160v-160H620v160ZM180-180h160v-160H180v160Zm440 0h160v-160H620v160Z\"/>\n",
              "  </svg>\n",
              "    </button>\n",
              "\n",
              "  <style>\n",
              "    .colab-df-container {\n",
              "      display:flex;\n",
              "      gap: 12px;\n",
              "    }\n",
              "\n",
              "    .colab-df-convert {\n",
              "      background-color: #E8F0FE;\n",
              "      border: none;\n",
              "      border-radius: 50%;\n",
              "      cursor: pointer;\n",
              "      display: none;\n",
              "      fill: #1967D2;\n",
              "      height: 32px;\n",
              "      padding: 0 0 0 0;\n",
              "      width: 32px;\n",
              "    }\n",
              "\n",
              "    .colab-df-convert:hover {\n",
              "      background-color: #E2EBFA;\n",
              "      box-shadow: 0px 1px 2px rgba(60, 64, 67, 0.3), 0px 1px 3px 1px rgba(60, 64, 67, 0.15);\n",
              "      fill: #174EA6;\n",
              "    }\n",
              "\n",
              "    .colab-df-buttons div {\n",
              "      margin-bottom: 4px;\n",
              "    }\n",
              "\n",
              "    [theme=dark] .colab-df-convert {\n",
              "      background-color: #3B4455;\n",
              "      fill: #D2E3FC;\n",
              "    }\n",
              "\n",
              "    [theme=dark] .colab-df-convert:hover {\n",
              "      background-color: #434B5C;\n",
              "      box-shadow: 0px 1px 3px 1px rgba(0, 0, 0, 0.15);\n",
              "      filter: drop-shadow(0px 1px 2px rgba(0, 0, 0, 0.3));\n",
              "      fill: #FFFFFF;\n",
              "    }\n",
              "  </style>\n",
              "\n",
              "    <script>\n",
              "      const buttonEl =\n",
              "        document.querySelector('#df-eb3beb14-59e5-4e97-a9e3-2a71b7d160bd button.colab-df-convert');\n",
              "      buttonEl.style.display =\n",
              "        google.colab.kernel.accessAllowed ? 'block' : 'none';\n",
              "\n",
              "      async function convertToInteractive(key) {\n",
              "        const element = document.querySelector('#df-eb3beb14-59e5-4e97-a9e3-2a71b7d160bd');\n",
              "        const dataTable =\n",
              "          await google.colab.kernel.invokeFunction('convertToInteractive',\n",
              "                                                    [key], {});\n",
              "        if (!dataTable) return;\n",
              "\n",
              "        const docLinkHtml = 'Like what you see? Visit the ' +\n",
              "          '<a target=\"_blank\" href=https://colab.research.google.com/notebooks/data_table.ipynb>data table notebook</a>'\n",
              "          + ' to learn more about interactive tables.';\n",
              "        element.innerHTML = '';\n",
              "        dataTable['output_type'] = 'display_data';\n",
              "        await google.colab.output.renderOutput(dataTable, element);\n",
              "        const docLink = document.createElement('div');\n",
              "        docLink.innerHTML = docLinkHtml;\n",
              "        element.appendChild(docLink);\n",
              "      }\n",
              "    </script>\n",
              "  </div>\n",
              "\n",
              "\n",
              "    <div id=\"df-98391497-90f3-44a6-b0e6-a03a4f5cabf8\">\n",
              "      <button class=\"colab-df-quickchart\" onclick=\"quickchart('df-98391497-90f3-44a6-b0e6-a03a4f5cabf8')\"\n",
              "                title=\"Suggest charts\"\n",
              "                style=\"display:none;\">\n",
              "\n",
              "<svg xmlns=\"http://www.w3.org/2000/svg\" height=\"24px\"viewBox=\"0 0 24 24\"\n",
              "     width=\"24px\">\n",
              "    <g>\n",
              "        <path d=\"M19 3H5c-1.1 0-2 .9-2 2v14c0 1.1.9 2 2 2h14c1.1 0 2-.9 2-2V5c0-1.1-.9-2-2-2zM9 17H7v-7h2v7zm4 0h-2V7h2v10zm4 0h-2v-4h2v4z\"/>\n",
              "    </g>\n",
              "</svg>\n",
              "      </button>\n",
              "\n",
              "<style>\n",
              "  .colab-df-quickchart {\n",
              "      --bg-color: #E8F0FE;\n",
              "      --fill-color: #1967D2;\n",
              "      --hover-bg-color: #E2EBFA;\n",
              "      --hover-fill-color: #174EA6;\n",
              "      --disabled-fill-color: #AAA;\n",
              "      --disabled-bg-color: #DDD;\n",
              "  }\n",
              "\n",
              "  [theme=dark] .colab-df-quickchart {\n",
              "      --bg-color: #3B4455;\n",
              "      --fill-color: #D2E3FC;\n",
              "      --hover-bg-color: #434B5C;\n",
              "      --hover-fill-color: #FFFFFF;\n",
              "      --disabled-bg-color: #3B4455;\n",
              "      --disabled-fill-color: #666;\n",
              "  }\n",
              "\n",
              "  .colab-df-quickchart {\n",
              "    background-color: var(--bg-color);\n",
              "    border: none;\n",
              "    border-radius: 50%;\n",
              "    cursor: pointer;\n",
              "    display: none;\n",
              "    fill: var(--fill-color);\n",
              "    height: 32px;\n",
              "    padding: 0;\n",
              "    width: 32px;\n",
              "  }\n",
              "\n",
              "  .colab-df-quickchart:hover {\n",
              "    background-color: var(--hover-bg-color);\n",
              "    box-shadow: 0 1px 2px rgba(60, 64, 67, 0.3), 0 1px 3px 1px rgba(60, 64, 67, 0.15);\n",
              "    fill: var(--button-hover-fill-color);\n",
              "  }\n",
              "\n",
              "  .colab-df-quickchart-complete:disabled,\n",
              "  .colab-df-quickchart-complete:disabled:hover {\n",
              "    background-color: var(--disabled-bg-color);\n",
              "    fill: var(--disabled-fill-color);\n",
              "    box-shadow: none;\n",
              "  }\n",
              "\n",
              "  .colab-df-spinner {\n",
              "    border: 2px solid var(--fill-color);\n",
              "    border-color: transparent;\n",
              "    border-bottom-color: var(--fill-color);\n",
              "    animation:\n",
              "      spin 1s steps(1) infinite;\n",
              "  }\n",
              "\n",
              "  @keyframes spin {\n",
              "    0% {\n",
              "      border-color: transparent;\n",
              "      border-bottom-color: var(--fill-color);\n",
              "      border-left-color: var(--fill-color);\n",
              "    }\n",
              "    20% {\n",
              "      border-color: transparent;\n",
              "      border-left-color: var(--fill-color);\n",
              "      border-top-color: var(--fill-color);\n",
              "    }\n",
              "    30% {\n",
              "      border-color: transparent;\n",
              "      border-left-color: var(--fill-color);\n",
              "      border-top-color: var(--fill-color);\n",
              "      border-right-color: var(--fill-color);\n",
              "    }\n",
              "    40% {\n",
              "      border-color: transparent;\n",
              "      border-right-color: var(--fill-color);\n",
              "      border-top-color: var(--fill-color);\n",
              "    }\n",
              "    60% {\n",
              "      border-color: transparent;\n",
              "      border-right-color: var(--fill-color);\n",
              "    }\n",
              "    80% {\n",
              "      border-color: transparent;\n",
              "      border-right-color: var(--fill-color);\n",
              "      border-bottom-color: var(--fill-color);\n",
              "    }\n",
              "    90% {\n",
              "      border-color: transparent;\n",
              "      border-bottom-color: var(--fill-color);\n",
              "    }\n",
              "  }\n",
              "</style>\n",
              "\n",
              "      <script>\n",
              "        async function quickchart(key) {\n",
              "          const quickchartButtonEl =\n",
              "            document.querySelector('#' + key + ' button');\n",
              "          quickchartButtonEl.disabled = true;  // To prevent multiple clicks.\n",
              "          quickchartButtonEl.classList.add('colab-df-spinner');\n",
              "          try {\n",
              "            const charts = await google.colab.kernel.invokeFunction(\n",
              "                'suggestCharts', [key], {});\n",
              "          } catch (error) {\n",
              "            console.error('Error during call to suggestCharts:', error);\n",
              "          }\n",
              "          quickchartButtonEl.classList.remove('colab-df-spinner');\n",
              "          quickchartButtonEl.classList.add('colab-df-quickchart-complete');\n",
              "        }\n",
              "        (() => {\n",
              "          let quickchartButtonEl =\n",
              "            document.querySelector('#df-98391497-90f3-44a6-b0e6-a03a4f5cabf8 button');\n",
              "          quickchartButtonEl.style.display =\n",
              "            google.colab.kernel.accessAllowed ? 'block' : 'none';\n",
              "        })();\n",
              "      </script>\n",
              "    </div>\n",
              "\n",
              "    </div>\n",
              "  </div>\n"
            ],
            "application/vnd.google.colaboratory.intrinsic+json": {
              "type": "dataframe",
              "summary": "{\n  \"name\": \"tweets\",\n  \"rows\": 7,\n  \"fields\": [\n    {\n      \"column\": \"TEXTO\",\n      \"properties\": {\n        \"dtype\": \"string\",\n        \"num_unique_values\": 7,\n        \"samples\": [\n          \"#tablondeanuncios Funda nordica ikea #madrid https://t.co/9TvaZSa1De https://t.co/J3bC6t6C9u\",\n          \"\\\"Ilcinsisti lis MB dispiniblis\\\" te odeeeeeo Movistar dir\\u00eda la golda peluda jajaja\",\n          \"- Cari\\u00f1o, te juro que s\\u00f3lo ten\\u00edan Cruzcampo en la tienda... https://t.co/m064KIDlpM\"\n        ],\n        \"semantic_type\": \"\",\n        \"description\": \"\"\n      }\n    },\n    {\n      \"column\": \"SECTOR\",\n      \"properties\": {\n        \"dtype\": \"string\",\n        \"num_unique_values\": 7,\n        \"samples\": [\n          \"RETAIL\",\n          \"TELCO\",\n          \"BEBIDAS\"\n        ],\n        \"semantic_type\": \"\",\n        \"description\": \"\"\n      }\n    }\n  ]\n}"
            }
          },
          "metadata": {},
          "execution_count": 7
        }
      ],
      "source": [
        "tweets.groupby('SECTOR').head(1)[['TEXTO', 'SECTOR']]"
      ]
    },
    {
      "cell_type": "markdown",
      "metadata": {
        "id": "r9FcIehJ_J9q"
      },
      "source": [
        "## Preprosesamiento"
      ]
    },
    {
      "cell_type": "markdown",
      "metadata": {
        "id": "gfUnlH25HEeM"
      },
      "source": [
        "Como en toda tarea de NLP, y más generalmente, en Machine Learning, ocuparemos una porción de nuestro tiempo en preprocesar los datos para generar representaciones útiles y deshacernos de problemas especificos que podría exhibir nuestro set de datos."
      ]
    },
    {
      "cell_type": "markdown",
      "metadata": {
        "id": "UZISG0Cs_J-g"
      },
      "source": [
        "### Creando una rutina de preprosesamiento de texto\n",
        "\n",
        "Realizaremos las tareas cotidianas de preprocesamiento. Adicionalmente nuestra rutina va a:\n",
        "\n",
        " - Eliminar caracteres especiales: Acentos y caracteres especiales podrían complejizar el la representación de palabras, por lo que los eliminaremos.\n",
        " - Eliminaremos URLs y handles que son típicos en tweeter. Esto es especifico en este set de datos ya que una URL no representa información en este contexto."
      ]
    },
    {
      "cell_type": "code",
      "execution_count": 8,
      "metadata": {
        "id": "0eJxv1LA_J-g"
      },
      "outputs": [],
      "source": [
        "import unidecode\n",
        "import spacy\n",
        "import es_core_news_sm as spa\n",
        "import re\n",
        "import nltk\n",
        "from nltk import stem\n",
        "from nltk.corpus import stopwords\n",
        "from nltk.tokenize.casual import TweetTokenizer\n",
        "\n",
        "nltk.download('stopwords', quiet=True)\n",
        "\n",
        "parser = spa.load() # Cargamos el parser en español\n",
        "tokenizer = TweetTokenizer(strip_handles=True, reduce_len=True) # Creamos un tokenizer\n",
        "stemmer = stem.SnowballStemmer(language='spanish') # Creamos un steammer\n",
        "lemmatizer = lambda word : \" \".join([token.lemma_ for token in parser(word)]) # Creamos un lemmatizer\n",
        "stopwords = set(stopwords.words('spanish')) # Instanciamos las stopwords en español\n",
        "urls_regex = re.compile(r'http\\S+') # Usamos una expresion regular para encontrar las URLs\n",
        "\n",
        "def process_text(text):\n",
        "    tokens = tokenizer.tokenize(text)\n",
        "    tokens = [token for token in tokens if not re.match(urls_regex, token)]\n",
        "    tokens = [token for token in tokens if len(token) > 4]\n",
        "    tokens = [token for token in tokens if token not in stopwords]\n",
        "    tokens = [unidecode.unidecode(token) for token in tokens] # Quitamos acentos\n",
        "    tokens = [lemmatizer(token) for token in tokens]\n",
        "    return tokens"
      ]
    },
    {
      "cell_type": "code",
      "execution_count": 9,
      "metadata": {
        "colab": {
          "base_uri": "https://localhost:8080/"
        },
        "id": "U4uXheye_J-j",
        "outputId": "e28c8dfc-abd3-45c4-f9e3-b274cd453872"
      },
      "outputs": [
        {
          "output_type": "stream",
          "name": "stderr",
          "text": [
            "100%|██████████| 3763/3763 [02:18<00:00, 27.21it/s]\n"
          ]
        }
      ],
      "source": [
        "doc_list = []\n",
        "\n",
        "for doc in tqdm(tweets['TEXTO']):\n",
        "    tokens = process_text(doc)\n",
        "    doc_list.append(' '.join(tokens))"
      ]
    },
    {
      "cell_type": "markdown",
      "metadata": {
        "id": "LtykSqbA_J-l"
      },
      "source": [
        "Revisemos algunos resultados:"
      ]
    },
    {
      "cell_type": "code",
      "execution_count": 18,
      "metadata": {
        "colab": {
          "base_uri": "https://localhost:8080/",
          "height": 35
        },
        "id": "QQgWOejW_J-l",
        "outputId": "7cb2e9a3-5cbe-4a23-c7b1-b79bb7fa51b2"
      },
      "outputs": [
        {
          "output_type": "execute_result",
          "data": {
            "text/plain": [
              "'#VozPópuli Vozpópuli @voz_populi - #LoMásLeidoHoy Mercadona, DIA o Alcampo guardan silencio ante la ola europea... https://t.co/aJTuA4J9UV'"
            ],
            "application/vnd.google.colaboratory.intrinsic+json": {
              "type": "string"
            }
          },
          "metadata": {},
          "execution_count": 18
        }
      ],
      "source": [
        "tweets['TEXTO'][2]"
      ]
    },
    {
      "cell_type": "code",
      "execution_count": 11,
      "metadata": {
        "colab": {
          "base_uri": "https://localhost:8080/",
          "height": 35
        },
        "id": "huZ2Cu2Q_J-n",
        "outputId": "6d2db30f-f339-4f93-c4e8-6b6271f12d54"
      },
      "outputs": [
        {
          "output_type": "execute_result",
          "data": {
            "text/plain": [
              "'# vozpopuli Vozpopuli # lomasleidohoy Mercadona Alcampo guardar silencio europeo'"
            ],
            "application/vnd.google.colaboratory.intrinsic+json": {
              "type": "string"
            }
          },
          "metadata": {},
          "execution_count": 11
        }
      ],
      "source": [
        "doc_list[2]"
      ]
    },
    {
      "cell_type": "code",
      "execution_count": 15,
      "metadata": {
        "colab": {
          "base_uri": "https://localhost:8080/"
        },
        "id": "6WSbMjTnRYXT",
        "outputId": "afc28ea6-8bc0-4f06-fa0d-34e5e6f20e48"
      },
      "outputs": [
        {
          "output_type": "execute_result",
          "data": {
            "text/plain": [
              "3763"
            ]
          },
          "metadata": {},
          "execution_count": 15
        }
      ],
      "source": [
        "len(doc_list)"
      ]
    },
    {
      "cell_type": "markdown",
      "metadata": {
        "id": "-PXVzn24_J-p"
      },
      "source": [
        "## Vectorización"
      ]
    },
    {
      "cell_type": "markdown",
      "metadata": {
        "id": "TLwWu__sX4Rq"
      },
      "source": [
        "Una vez que nuesto texto fue preprocesado para mantener solo aquellas palabras que nos son relevantes, pasamos al proceso de generar vectores a partir de las palabras que componen nuestro vocabulario. Nuestros modelos no pueden operar sobre palabras, y por lo tanto necesitamos una representación númerica de las mismas."
      ]
    },
    {
      "cell_type": "code",
      "execution_count": 20,
      "metadata": {
        "id": "JUldeeN6_J-7"
      },
      "outputs": [],
      "source": [
        "from sklearn.feature_extraction.text import TfidfVectorizer\n",
        "\n",
        "vectorizer = TfidfVectorizer(use_idf=True, sublinear_tf=True, norm='l2')\n",
        "vectors = np.asarray(vectorizer.fit_transform(doc_list).todense())"
      ]
    },
    {
      "cell_type": "code",
      "execution_count": 21,
      "metadata": {
        "id": "pTQYz9ABsFz7",
        "outputId": "ae0d5ad9-8649-488a-ba96-5f99cd0e118b",
        "colab": {
          "base_uri": "https://localhost:8080/"
        }
      },
      "outputs": [
        {
          "output_type": "execute_result",
          "data": {
            "text/plain": [
              "(3763, 6924)"
            ]
          },
          "metadata": {},
          "execution_count": 21
        }
      ],
      "source": [
        "vectors.shape"
      ]
    },
    {
      "cell_type": "markdown",
      "metadata": {
        "id": "j5YtJxjQXgxH"
      },
      "source": [
        "## Reducción de dimensionalidad: Featurization\n",
        "Una vez que tenemos nuestros palabras representadas como vectores, nos aparece el problema de que ¡aún son demasiado grandes! En el ejemplo anterior, estamos trabajando con vectores en un espacio de 6K+. Necesitamos reducir esta dimensionalidad. Para esto, utilizaremos métodos de reducción de dimensionalidad con el objetivo de generar features que nos sean más utiles. Estas features las generaremos de forma \"no supervisada\""
      ]
    },
    {
      "cell_type": "markdown",
      "metadata": {
        "id": "cI4HLD1tkTBT"
      },
      "source": [
        "### Métodos básados en descomposición de matrices"
      ]
    },
    {
      "cell_type": "markdown",
      "metadata": {
        "id": "-8tC0kyK_J-6"
      },
      "source": [
        "Los modelos basados en factorización de matrices intentan reducir la dimensionalidad de la matriz al aproximarla usando dos matrices que representan embeddings de palabras y embeddings de documentos (más una matriz singular que los vincula los unos con los otros). Este método es bastante popular no solo en NLP sino que también en sistemas de recomendación, método que fué ganador del Netflix Prize (Funk SVD).\n",
        "\n",
        "<img src=\"https://miro.medium.com/max/700/1*Z0EUVs7QElEqRqXtqut_FQ.png\" />\n",
        "\n",
        "\n",
        "U y V(trapuesta) son ortogonales. Esto es de esperar porque si determinadas propiedades determinan un determinado factor latente, entonces esas propiedades serán poco relevantes en los restantes factores (pues sino, no haría sentido que conformen un factor distinto en un primer lugar).\n",
        "\n",
        "SVC es un metodo de decomposición exacto, lo que singnifica que las matrices U y V son lo suficientemente grandes para mapear exactamente la matriz A."
      ]
    },
    {
      "cell_type": "markdown",
      "metadata": {
        "id": "Kh1u5cZzkKbO"
      },
      "source": [
        "### LSI - Latent Semantic Indexing"
      ]
    },
    {
      "cell_type": "markdown",
      "metadata": {
        "id": "U1pbwdPv_J-7"
      },
      "source": [
        "LSI es un caso particular de factorización de matrices. Cuando SVD es utilizado para procesar tópicos en texto y en donde los valores de la matriz A corresponden a frecuencias de palabras, este método se lo denomina Latent Semantic Analysis (sin embargo, en NLP no se lo suele nombrar como LSI).\n",
        "\n",
        "Dado que SVC es un método de decomposición exacto, tiende a producir matrices de poca densidad (sparse). Para evitar este problema, se utiliza una versión modificada de SVC conocida como Truncated SVD que solamente computa los k componentes mas grandes en la descomposición. Esto ayuda a que LSI combata efectivamente el problema de matrices sparse que tienden a generarse cuando se tienen cuerpos de texto con sinónimos y palabras que significan varias cosas dependiendo del contexto. Truncated SVD evíta ser un método de decomposición exacto al aproximar la matriz A utilizando los k tópicos más relevantes.\n",
        "\n",
        "<img src='https://github.com/fastai/course-nlp/raw/aabfeddf61fea29b18c72f841d057b56a216b7eb/images/svd_fb.png' />\n",
        "\n",
        "Facebook Research: Fast Randomized SVD [https://research.fb.com/fast-randomized-svd/])\n",
        "\n",
        "En esta configuración entonces:\n",
        " - Un documento es nada mas que la distribución de palabras que ocurren en el (Bag of words)\n",
        " - A es una matriz de m x n donde m es la cantidad de documentos ú observaciones, y n es la cantidad de palabras en el vocabulario.\n",
        " - Los valores de A corresponden a la frecuencia de la cada palabra del vocabulario en cada observación ú documento.\n",
        " - A es una matriz sujeta a ruido con distribución Gausiana.\n",
        "\n",
        "\n",
        "Referencia: Finding structure with randomness: Probabilistic algorithms for constructing approximate matrix decompositions [https://arxiv.org/abs/0909.4061]"
      ]
    },
    {
      "cell_type": "markdown",
      "metadata": {
        "id": "c1iGWgQZca0C"
      },
      "source": [
        "El principal parametro en LSI es el numero de factores que queremos generar (el parametro K). No existe una regla para especificar este parametro ya que depende del escenario. Valores muy pequeños pueden forzar a los documentos a ser colisionar en los tópicos que son asignados, mientras que valores muy grandes pueden hacer que palabras poco frecuentes y raras terminen determinando su propio \"topico\".\n",
        "\n",
        "> Valores típicos de este parámetro están en 50 < k < 300\n",
        "\n",
        "En la librería `scikit-learn`, este valor lo especificaremos en `n_components`. El parametro `algorithm` hace referencia al método que utilizaremos para generar la descomposición:"
      ]
    },
    {
      "cell_type": "code",
      "execution_count": 22,
      "metadata": {
        "id": "QZ2uzF82_J--"
      },
      "outputs": [],
      "source": [
        "from sklearn.decomposition import TruncatedSVD\n",
        "\n",
        "svd = TruncatedSVD(n_components=7, algorithm='randomized')\n",
        "\n",
        "USigma = svd.fit_transform(vectors)\n",
        "Sigma = svd.singular_values_\n",
        "VT = svd.components_"
      ]
    },
    {
      "cell_type": "markdown",
      "metadata": {
        "id": "3bFhXZc6eHQL"
      },
      "source": [
        "Si bien en el codigo anterior estamos viendo las 3 matrices, solo nos interesa la matriz VT. ¿Porque? Recuerden que nuestro \"input\" es un conjunto de palabras que luego vectorizamos utilizando TF-IDF. Cada documento está representado por este conjunto de palabras. Nuestro objetivo es disponer una forma donde podamos convertir este set de palabras a \"tópicos\" que sean más informativos que las palabras propiamente dichas. **En consecuencia, lo único que nos interesa aqui es la matriz VT**"
      ]
    },
    {
      "cell_type": "code",
      "execution_count": 23,
      "metadata": {
        "colab": {
          "base_uri": "https://localhost:8080/"
        },
        "id": "Xvvt3kpu_J_A",
        "outputId": "a12c44cd-ae4d-4bfb-cc89-f9a51848b94c"
      },
      "outputs": [
        {
          "output_type": "execute_result",
          "data": {
            "text/plain": [
              "(7, 6924)"
            ]
          },
          "metadata": {},
          "execution_count": 23
        }
      ],
      "source": [
        "VT.shape"
      ]
    },
    {
      "cell_type": "markdown",
      "metadata": {
        "id": "uwu_KCg__J_C"
      },
      "source": [
        "Internamente, TrucatedSVC es un wrapper de la clase randomized_svd donde la matríz Q que vimos anteriormente se genera a través de un método de sampling aleatorio. Las siguientes lineas son equivalentes a lo que vimos anteriormente:"
      ]
    },
    {
      "cell_type": "code",
      "execution_count": null,
      "metadata": {
        "id": "_kigl-Xl_J_D"
      },
      "outputs": [],
      "source": [
        "from sklearn.utils.extmath import randomized_svd\n",
        "\n",
        "U, Sigma, VT = randomized_svd(vectors,\n",
        "                              n_components=7,\n",
        "                              n_iter=5)"
      ]
    },
    {
      "cell_type": "markdown",
      "metadata": {
        "id": "HV9fOGLB_J_F"
      },
      "source": [
        "Podemos validar que U es una matriz ortogonal"
      ]
    },
    {
      "cell_type": "code",
      "execution_count": null,
      "metadata": {
        "colab": {
          "base_uri": "https://localhost:8080/"
        },
        "id": "uLYEo9Gm_J_F",
        "outputId": "6277fcdb-e3cc-4da7-d3e3-97b22f83ef39"
      },
      "outputs": [
        {
          "output_type": "execute_result",
          "data": {
            "text/plain": [
              "True"
            ]
          },
          "metadata": {},
          "execution_count": 16
        }
      ],
      "source": [
        "np.allclose(U.T @ U, np.eye(U.shape[1]))"
      ]
    },
    {
      "cell_type": "markdown",
      "metadata": {
        "id": "xSv1wUgK_J_I"
      },
      "source": [
        "Lo siguiente es solo a titulo informativo, pero si vemos los valores de la matriz Sigma, veremos la importancia relativa de los documentos con respecto a los tópicos que encontramos. Si los gráficamos vemos que sus valores comienzan a decrecer relativamente rápido, sosteniendo la supoción de que Truncated SVD genera los K más relevantes tópicos."
      ]
    },
    {
      "cell_type": "code",
      "execution_count": null,
      "metadata": {
        "colab": {
          "base_uri": "https://localhost:8080/",
          "height": 450
        },
        "id": "HVI80HRw_J_I",
        "outputId": "46a9dc99-7235-4423-beb1-2dd0dcac8671"
      },
      "outputs": [
        {
          "output_type": "execute_result",
          "data": {
            "text/plain": [
              "[<matplotlib.lines.Line2D at 0x7ab5a86aad10>]"
            ]
          },
          "metadata": {},
          "execution_count": 17
        },
        {
          "output_type": "display_data",
          "data": {
            "text/plain": [
              "<Figure size 640x480 with 1 Axes>"
            ],
            "image/png": "[encoded data removed]"
          },
          "metadata": {}
        }
      ],
      "source": [
        "plt.plot(Sigma)"
      ]
    },
    {
      "cell_type": "markdown",
      "metadata": {
        "id": "IR8CpAYe_J_K"
      },
      "source": [
        "#### Interpretando los tópicos\n"
      ]
    },
    {
      "cell_type": "markdown",
      "metadata": {
        "id": "ra5f0S7FfKjG"
      },
      "source": [
        "La siguiente función solo toma la matriz de VT y obtiene las 8 palabras más importantes en este topico. Si quieren pueden variar este parametro para ver más palabras e inspeccionar los tópicos. Esto es importante porque LSI es un método no supervisado, por lo tanto no sabemos a priori cuando un tópico es bueno o malo. El sentido debemos darselo nosotros:"
      ]
    },
    {
      "cell_type": "code",
      "execution_count": null,
      "metadata": {
        "id": "fBNIN0xE_J_K"
      },
      "outputs": [],
      "source": [
        "vocab = {value:key for (key, value) in vectorizer.vocabulary_.items()}\n",
        "\n",
        "def show_topics(a):\n",
        "    top_words = lambda t: [vocab[i] for i in np.argsort(t)[-8:-1]]\n",
        "    topic_words = ([top_words(t) for t in a])\n",
        "    return [' '.join(t) for t in topic_words]"
      ]
    },
    {
      "cell_type": "code",
      "execution_count": null,
      "metadata": {
        "colab": {
          "base_uri": "https://localhost:8080/"
        },
        "id": "IDhDFVY9_J_M",
        "outputId": "798f4133-6362-4947-bd1d-965506e9b09e"
      },
      "outputs": [
        {
          "output_type": "execute_result",
          "data": {
            "text/plain": [
              "['siempre anuncio superstar zapatilla aldub81stweeksary nuevo camiseta',\n",
              " 'necesitar gustar gana querer medalla cerveza corona',\n",
              " '50 10 terminar carrera ritmo correr acabo',\n",
              " 'cruzcampir gracias bimbo movistar mejor carrefour cruzcampo',\n",
              " 'mahou invitar estrella gustar arruinaunacitacon4palabra cruzcampir cerveza',\n",
              " 'cruzcampir comer gustar fundador lorenzo servitje osito',\n",
              " 'querer mejor alianza suzuki milko toyota movistar']"
            ]
          },
          "metadata": {},
          "execution_count": 19
        }
      ],
      "source": [
        "show_topics(VT)"
      ]
    },
    {
      "cell_type": "markdown",
      "metadata": {
        "id": "WKCo8UOd_J_Q"
      },
      "source": [
        "Limitaciones en LSI:\n",
        " - LSI sufre de un problema llamado \"Indeterminación del signo\", que básicamente significa que el signo en la matríz VT y USigma dependen del algorimo que se utilizó para generarlos y de las condiciones iniciales (initial random state). En este contexto, que significa que un tópico esté relacionado con una palabra en un valor negativo?"
      ]
    },
    {
      "cell_type": "markdown",
      "metadata": {
        "id": "no6V6rtO_J_Q"
      },
      "source": [
        "### NMF: Non-negative Matrix Factorization\n",
        "\n",
        "Motivación: En lugar de construir nuestros factores imponiendo la restricción de que sean ortogonales, la idea es de construirlos de tal forma que sean no-negativos."
      ]
    },
    {
      "cell_type": "code",
      "execution_count": null,
      "metadata": {
        "id": "NQwyjnN8_J_R"
      },
      "outputs": [],
      "source": [
        "from sklearn.decomposition import NMF\n",
        "\n",
        "nmf = NMF(n_components=7, random_state = 1234)"
      ]
    },
    {
      "cell_type": "code",
      "execution_count": null,
      "metadata": {
        "id": "cdTfBg2n_J_U"
      },
      "outputs": [],
      "source": [
        "W1 = nmf.fit_transform(vectors)\n",
        "H1 = nmf.components_"
      ]
    },
    {
      "cell_type": "markdown",
      "metadata": {
        "id": "lIYwacxIfxqQ"
      },
      "source": [
        "En este caso, la matriz que nos interesa es H1"
      ]
    },
    {
      "cell_type": "code",
      "execution_count": null,
      "metadata": {
        "colab": {
          "base_uri": "https://localhost:8080/"
        },
        "id": "S39Zrr06_J_a",
        "outputId": "d9b15015-0242-42f2-df98-702d5731152d"
      },
      "outputs": [
        {
          "output_type": "execute_result",
          "data": {
            "text/plain": [
              "(7, 6899)"
            ]
          },
          "metadata": {},
          "execution_count": 23
        }
      ],
      "source": [
        "H1.shape"
      ]
    },
    {
      "cell_type": "markdown",
      "metadata": {
        "id": "qkEBkOc-fqtT"
      },
      "source": [
        "#### Interpretando los tópicos"
      ]
    },
    {
      "cell_type": "code",
      "execution_count": null,
      "metadata": {
        "colab": {
          "base_uri": "https://localhost:8080/"
        },
        "id": "X8qfO_Dx_J_d",
        "outputId": "97bbb9d9-f661-4897-c35a-d761dd72a9de"
      },
      "outputs": [
        {
          "output_type": "execute_result",
          "data": {
            "text/plain": [
              "['siempre anuncio superstar zapatilla nuevo aldub81stweeksary camiseta',\n",
              " 'tomar necesitar querer gana cerveza medalla corona',\n",
              " '50 10 terminar carrera ritmo correr acabo',\n",
              " 'carne alcampo comprar vender mejor manán gracias',\n",
              " 'galicia mejor estrella arruinaunacitacon4palabra gustar cruzcampir cerveza',\n",
              " 'grupo gustar comer fundador lorenzo servitje osito',\n",
              " 'gracias él poder mejor toyota milko movistar']"
            ]
          },
          "metadata": {},
          "execution_count": 24
        }
      ],
      "source": [
        "show_topics(H1)"
      ]
    },
    {
      "cell_type": "markdown",
      "metadata": {
        "id": "cbMNkPv7_J_i"
      },
      "source": [
        "### LDA: Latent Dirichlet Allocation\n",
        "\n",
        "LDA es un método Bayesiano basado en la distribución de Dirichlet, la cual es una distribución sobre probabilidades en K categorias. LDA supone que los documentos que tenemos pertenecen a K categorias distintas cuya distribución es desconocida, sin embargo, asume que todos los fragmentos que componen el texto fueron generados a través de un mismo proceso generativo."
      ]
    },
    {
      "cell_type": "markdown",
      "metadata": {
        "id": "0bct-Ck5f6fs"
      },
      "source": [
        "La distribución Dirichlet es una generalización de la distribución Beta en un espacio multidimensional. Así como la distribución beta es la distribución previa de la binomial, la distribución de Dirichlet es la distribución previa de la multinomial.\n",
        "\n",
        "$$ P(w\\mid d) = P(d)\\sum_c P(k\\mid d)P(w\\mid k) $$\n",
        "\n",
        "*¿Notan alguna similitud con SVD?*\n",
        "\n",
        "[David Blei, Andrew Ng, Michael Jordan: Latent Dirichlet Allocation (https://www.jmlr.org/papers/volume3/blei03a/blei03a.pdf)](https://www.jmlr.org/papers/volume3/blei03a/blei03a.pdf)"
      ]
    },
    {
      "cell_type": "code",
      "execution_count": null,
      "metadata": {
        "id": "cN1vPUB3_J_j"
      },
      "outputs": [],
      "source": [
        "from sklearn.decomposition import LatentDirichletAllocation\n",
        "\n",
        "lda = LatentDirichletAllocation(n_components=7)"
      ]
    },
    {
      "cell_type": "code",
      "execution_count": null,
      "metadata": {
        "colab": {
          "base_uri": "https://localhost:8080/",
          "height": 74
        },
        "id": "d1dC1tN6_J_k",
        "outputId": "9f63ce3f-2762-42fa-f463-2402d597ebe0"
      },
      "outputs": [
        {
          "output_type": "execute_result",
          "data": {
            "text/plain": [
              "LatentDirichletAllocation(n_components=7)"
            ],
            "text/html": [
              "<style>#sk-container-id-1 {color: black;background-color: white;}#sk-container-id-1 pre{padding: 0;}#sk-container-id-1 div.sk-toggleable {background-color: white;}#sk-container-id-1 label.sk-toggleable__label {cursor: pointer;display: block;width: 100%;margin-bottom: 0;padding: 0.3em;box-sizing: border-box;text-align: center;}#sk-container-id-1 label.sk-toggleable__label-arrow:before {content: \"▸\";float: left;margin-right: 0.25em;color: #696969;}#sk-container-id-1 label.sk-toggleable__label-arrow:hover:before {color: black;}#sk-container-id-1 div.sk-estimator:hover label.sk-toggleable__label-arrow:before {color: black;}#sk-container-id-1 div.sk-toggleable__content {max-height: 0;max-width: 0;overflow: hidden;text-align: left;background-color: #f0f8ff;}#sk-container-id-1 div.sk-toggleable__content pre {margin: 0.2em;color: black;border-radius: 0.25em;background-color: #f0f8ff;}#sk-container-id-1 input.sk-toggleable__control:checked~div.sk-toggleable__content {max-height: 200px;max-width: 100%;overflow: auto;}#sk-container-id-1 input.sk-toggleable__control:checked~label.sk-toggleable__label-arrow:before {content: \"▾\";}#sk-container-id-1 div.sk-estimator input.sk-toggleable__control:checked~label.sk-toggleable__label {background-color: #d4ebff;}#sk-container-id-1 div.sk-label input.sk-toggleable__control:checked~label.sk-toggleable__label {background-color: #d4ebff;}#sk-container-id-1 input.sk-hidden--visually {border: 0;clip: rect(1px 1px 1px 1px);clip: rect(1px, 1px, 1px, 1px);height: 1px;margin: -1px;overflow: hidden;padding: 0;position: absolute;width: 1px;}#sk-container-id-1 div.sk-estimator {font-family: monospace;background-color: #f0f8ff;border: 1px dotted black;border-radius: 0.25em;box-sizing: border-box;margin-bottom: 0.5em;}#sk-container-id-1 div.sk-estimator:hover {background-color: #d4ebff;}#sk-container-id-1 div.sk-parallel-item::after {content: \"\";width: 100%;border-bottom: 1px solid gray;flex-grow: 1;}#sk-container-id-1 div.sk-label:hover label.sk-toggleable__label {background-color: #d4ebff;}#sk-container-id-1 div.sk-serial::before {content: \"\";position: absolute;border-left: 1px solid gray;box-sizing: border-box;top: 0;bottom: 0;left: 50%;z-index: 0;}#sk-container-id-1 div.sk-serial {display: flex;flex-direction: column;align-items: center;background-color: white;padding-right: 0.2em;padding-left: 0.2em;position: relative;}#sk-container-id-1 div.sk-item {position: relative;z-index: 1;}#sk-container-id-1 div.sk-parallel {display: flex;align-items: stretch;justify-content: center;background-color: white;position: relative;}#sk-container-id-1 div.sk-item::before, #sk-container-id-1 div.sk-parallel-item::before {content: \"\";position: absolute;border-left: 1px solid gray;box-sizing: border-box;top: 0;bottom: 0;left: 50%;z-index: -1;}#sk-container-id-1 div.sk-parallel-item {display: flex;flex-direction: column;z-index: 1;position: relative;background-color: white;}#sk-container-id-1 div.sk-parallel-item:first-child::after {align-self: flex-end;width: 50%;}#sk-container-id-1 div.sk-parallel-item:last-child::after {align-self: flex-start;width: 50%;}#sk-container-id-1 div.sk-parallel-item:only-child::after {width: 0;}#sk-container-id-1 div.sk-dashed-wrapped {border: 1px dashed gray;margin: 0 0.4em 0.5em 0.4em;box-sizing: border-box;padding-bottom: 0.4em;background-color: white;}#sk-container-id-1 div.sk-label label {font-family: monospace;font-weight: bold;display: inline-block;line-height: 1.2em;}#sk-container-id-1 div.sk-label-container {text-align: center;}#sk-container-id-1 div.sk-container {/* jupyter's `normalize.less` sets `[hidden] { display: none; }` but bootstrap.min.css set `[hidden] { display: none !important; }` so we also need the `!important` here to be able to override the default hidden behavior on the sphinx rendered scikit-learn.org. See: https://github.com/scikit-learn/scikit-learn/issues/21755 */display: inline-block !important;position: relative;}#sk-container-id-1 div.sk-text-repr-fallback {display: none;}</style><div id=\"sk-container-id-1\" class=\"sk-top-container\"><div class=\"sk-text-repr-fallback\"><pre>LatentDirichletAllocation(n_components=7)</pre><b>In a Jupyter environment, please rerun this cell to show the HTML representation or trust the notebook. <br />On GitHub, the HTML representation is unable to render, please try loading this page with nbviewer.org.</b></div><div class=\"sk-container\" hidden><div class=\"sk-item\"><div class=\"sk-estimator sk-toggleable\"><input class=\"sk-toggleable__control sk-hidden--visually\" id=\"sk-estimator-id-1\" type=\"checkbox\" checked><label for=\"sk-estimator-id-1\" class=\"sk-toggleable__label sk-toggleable__label-arrow\">LatentDirichletAllocation</label><div class=\"sk-toggleable__content\"><pre>LatentDirichletAllocation(n_components=7)</pre></div></div></div></div></div>"
            ]
          },
          "metadata": {},
          "execution_count": 26
        }
      ],
      "source": [
        "lda.fit(vectors)"
      ]
    },
    {
      "cell_type": "markdown",
      "source": [
        "#### Interpretando los tópicos\n",
        "\n",
        "Podemos ver las 10 palabras más relevantes de los 7 tópicos que encontró LDA de la siguiente forma:"
      ],
      "metadata": {
        "id": "7aICU5GKtNEp"
      }
    },
    {
      "cell_type": "code",
      "execution_count": null,
      "metadata": {
        "colab": {
          "base_uri": "https://localhost:8080/"
        },
        "id": "cF-MpBfDgk2O",
        "outputId": "76218443-732f-4008-d83d-20ee678b727b"
      },
      "outputs": [
        {
          "output_type": "stream",
          "name": "stdout",
          "text": [
            "Topic  0 toyota heineken movistar suzuki carrefour cruzcampir mejor alianza necesitar tener\n",
            "Topic  1 bimbo mueble adidas bankia adida cliente montar carrefour mercadona amigo\n",
            "Topic  2 heineken milko él mercadona santander gana quiero favor carrefour banco\n",
            "Topic  3 adida mercadona camiseta cruzcampo cerveza hombre color estrella galicia nuevo\n",
            "Topic  4 heineken gracias gustar movistar siempre querer peugeot corona quedar mercadona\n",
            "Topic  5 acabo nikeplus correr adida ritmo heineken mejor milka refugiado mercadona\n",
            "Topic  6 cruzcampo bimbo chocolate adida poder banco bankia querer patrocinado heineken\n"
          ]
        }
      ],
      "source": [
        "for idx, topic in enumerate(lda.components_):\n",
        "    print (\"Topic \", idx, \" \".join(vocab[i] for i in topic.argsort()[:-10 - 1:-1]))"
      ]
    },
    {
      "cell_type": "markdown",
      "source": [
        "Otra alternativa es utilizando una librería especifica para estas visualizaciones. `pyLDAvis` es una librería de Python para la visualización de modelos de modelado de tópicos. Se trata de una portabilidad del fabuloso paquete de R de Carson Sievert y Kenny Shirley.\n",
        "\n",
        "`pyLDAvis` está diseñada para ayudar a los usuarios a interpretar los temas en un modelo de tópicos que se ha ajustado a un corpus de datos de texto. El paquete extrae información de un modelo LDA.\n",
        "\n",
        "La visualización está diseñada para usarse dentro de un notebook de Jupyter, pero también se puede guardar en un archivo HTML independiente para compartirlo fácilmente."
      ],
      "metadata": {
        "id": "Cclo_eRivRwQ"
      }
    },
    {
      "cell_type": "code",
      "source": [
        "import pyLDAvis\n",
        "import pyLDAvis.lda_model\n",
        "\n",
        "pyLDAvis.enable_notebook()"
      ],
      "metadata": {
        "id": "eaPP3P_6tNkL",
        "outputId": "e2012257-d14d-4b91-934a-2571f8734bcd",
        "colab": {
          "base_uri": "https://localhost:8080/"
        }
      },
      "execution_count": null,
      "outputs": [
        {
          "output_type": "stream",
          "name": "stderr",
          "text": [
            "/usr/local/lib/python3.10/dist-packages/ipykernel/ipkernel.py:283: DeprecationWarning: `should_run_async` will not call `transform_cell` automatically in the future. Please pass the result to `transformed_cell` argument and any exception that happen during thetransform in `preprocessing_exc_tuple` in IPython 7.17 and above.\n",
            "  and should_run_async(code)\n"
          ]
        }
      ]
    },
    {
      "cell_type": "markdown",
      "source": [
        "> Nota: la siguiente celda corrije un error en la libraría `pyLDAvis` en las ultimas versiones de `scikit-learn`. Puede omitir los detalles."
      ],
      "metadata": {
        "id": "1MQDa_4hPNqr"
      }
    },
    {
      "cell_type": "code",
      "source": [
        "pyLDAvis.lda_model._get_doc_lengths = lambda dtm: dtm.sum(axis=1).ravel()\n",
        "pyLDAvis.lda_model._get_term_freqs = lambda dtm: dtm.sum(axis=0).ravel()"
      ],
      "metadata": {
        "id": "g2NeFT7zNVOD",
        "outputId": "a245d9c3-9280-4271-83d5-8034c388fa7f",
        "colab": {
          "base_uri": "https://localhost:8080/"
        }
      },
      "execution_count": null,
      "outputs": [
        {
          "output_type": "stream",
          "name": "stderr",
          "text": [
            "/usr/local/lib/python3.10/dist-packages/ipykernel/ipkernel.py:283: DeprecationWarning: `should_run_async` will not call `transform_cell` automatically in the future. Please pass the result to `transformed_cell` argument and any exception that happen during thetransform in `preprocessing_exc_tuple` in IPython 7.17 and above.\n",
            "  and should_run_async(code)\n"
          ]
        },
        {
          "output_type": "execute_result",
          "data": {
            "text/plain": [
              "<module 'pyLDAvis.lda_model' from '/usr/local/lib/python3.10/dist-packages/pyLDAvis/lda_model.py'>"
            ]
          },
          "metadata": {},
          "execution_count": 40
        }
      ]
    },
    {
      "cell_type": "code",
      "source": [
        "pyLDAvis.lda_model.prepare(lda, vectors, vectorizer, mds='tsne')"
      ],
      "metadata": {
        "id": "pgvdGqeluJSu",
        "outputId": "13417724-1835-4825-db74-e323caba8e4d",
        "colab": {
          "base_uri": "https://localhost:8080/",
          "height": 916
        }
      },
      "execution_count": null,
      "outputs": [
        {
          "output_type": "stream",
          "name": "stderr",
          "text": [
            "/usr/local/lib/python3.10/dist-packages/ipykernel/ipkernel.py:283: DeprecationWarning: `should_run_async` will not call `transform_cell` automatically in the future. Please pass the result to `transformed_cell` argument and any exception that happen during thetransform in `preprocessing_exc_tuple` in IPython 7.17 and above.\n",
            "  and should_run_async(code)\n"
          ]
        },
        {
          "output_type": "execute_result",
          "data": {
            "text/plain": [
              "PreparedData(topic_coordinates=                x           y  topics  cluster       Freq\n",
              "topic                                                    \n",
              "0       73.242546   10.512508       1        1  15.729860\n",
              "4     -135.212036  -19.932354       2        1  15.433575\n",
              "2        8.827081   93.134766       3        1  14.480544\n",
              "1       34.502068  -87.146095       4        1  14.194946\n",
              "3      -30.950050   -4.515550       5        1  14.092400\n",
              "5      -95.510620   77.838768       6        1  13.769977\n",
              "6      -69.408546 -102.083939       7        1  12.298696, topic_info=           Term       Freq      Total Category  logprob  loglift\n",
              "336       adida  59.000000  59.000000  Default  30.0000  30.0000\n",
              "4534   nikeplus   9.000000   9.000000  Default  29.0000  29.0000\n",
              "1895     correr   9.000000   9.000000  Default  28.0000  28.0000\n",
              "267       acabo  11.000000  11.000000  Default  27.0000  27.0000\n",
              "6212     suzuki   9.000000   9.000000  Default  26.0000  26.0000\n",
              "...         ...        ...        ...      ...      ...      ...\n",
              "3283   heineken   2.331148  58.332809   Topic7  -6.0977  -1.1241\n",
              "4194      mejor   1.883641  20.082832   Topic7  -6.3108  -0.2710\n",
              "1315  carrefour   1.898977  29.115251   Topic7  -6.3027  -0.6343\n",
              "4743      pagar   1.563327   7.003053   Topic7  -6.4972   0.5961\n",
              "6898         él   1.597090  19.333292   Topic7  -6.4758  -0.3980\n",
              "\n",
              "[455 rows x 6 columns], token_table=      Topic      Freq    Term\n",
              "term                         \n",
              "42        7  0.660624   10800\n",
              "50        2  0.934872   11780\n",
              "76        5  0.704733  160mil\n",
              "107       6  0.639032      23\n",
              "226       5  0.835984      95\n",
              "...     ...       ...     ...\n",
              "6898      3  0.362070      él\n",
              "6898      4  0.051724      él\n",
              "6898      5  0.051724      él\n",
              "6898      6  0.155173      él\n",
              "6898      7  0.103448      él\n",
              "\n",
              "[730 rows x 3 columns], R=30, lambda_step=0.01, plot_opts={'xlab': 'PC1', 'ylab': 'PC2'}, topic_order=[1, 5, 3, 2, 4, 6, 7])"
            ],
            "text/html": [
              "\n",
              "<link rel=\"stylesheet\" type=\"text/css\" href=\"https://cdn.jsdelivr.net/gh/bmabey/pyLDAvis@3.4.0/pyLDAvis/js/ldavis.v1.0.0.css\">\n",
              "\n",
              "\n",
              "<div id=\"ldavis_el22741349205773466725223501391\" style=\"background-color:white;\"></div>\n",
              "<script type=\"text/javascript\">\n",
              "\n",
              "var ldavis_el22741349205773466725223501391_data = {\"mdsDat\": {\"x\": [73.24254608154297, -135.2120361328125, 8.827080726623535, 34.50206756591797, -30.950050354003906, -95.5106201171875, -69.4085464477539], \"y\": [10.512508392333984, -19.932353973388672, 93.134765625, -87.1460952758789, -4.515549659729004, 77.8387680053711, -102.08393859863281], \"topics\": [1, 2, 3, 4, 5, 6, 7], \"cluster\": [1, 1, 1, 1, 1, 1, 1], \"Freq\": [15.72986042615378, 15.433574991944624, 14.480544392102503, 14.194946465058578, 14.092400277881742, 13.769977425187335, 12.29869602167143]}, \"tinfo\": {\"Term\": [\"adida\", \"nikeplus\", \"correr\", \"acabo\", \"suzuki\", \"heineken\", \"ritmo\", \"bimbo\", \"cruzcampo\", \"camiseta\", \"color\", \"mueble\", \"alianza\", \"adidas\", \"montar\", \"gana\", \"quiero\", \"hombre\", \"galicia\", \"gustar\", \"favor\", \"milko\", \"mecanico\", \"reparacion\", \"corona\", \"refugiado\", \"toyota\", \"estrella\", \"amigo\", \"supermercado\", \"suzuki\", \"alianza\", \"negociaci\\u00f3n\", \"dud\", \"asociacion\", \"siglo\", \"forjar\", \"pasate\", \"acordar\", \"iniciar\", \"beneficio\", \"proace\", \"verso\", \"intercambiar\", \"queja\", \"posible\", \"kenia\", \"componente\", \"coches\", \"carrefourarg\", \"rrhh\", \"name\", \"reclamo\", \"lado\", \"prefier\", \"lindo\", \"mediamarkt\", \"tampoco\", \"atletismo\", \"resto\", \"sabes\", \"tecnologia\", \"hecho\", \"necesitar\", \"tomar\", \"toyota\", \"motor\", \"ir\", \"movistar\", \"cruzcampir\", \"carrefour\", \"mejor\", \"heineken\", \"tener\", \"galicia\", \"compra\", \"buen\", \"poder\", \"estrella\", \"mismo\", \"cruzcampo\", \"mercadona\", \"gracias\", \"hacer\", \"milko\", \"cerveza\", \"mecanico\", \"reparacion\", \"jejejar\", \"taller\", \"11780\", \"arruinaunacitacon4palabra\", \"asics\", \"cambia\", \"imelda\", \"online\", \"supermercado\", \"corona\", \"necesidad\", \"independiente\", \"hamburgo\", \"vacante\", \"desvelar\", \"probado\", \"anticapitalismo\", \"valle\", \"tercero\", \"malaga\", \"cabronar\", \"wallapop\", \"marcos\", \"usado\", \"diciembre\", \"t\\u00fa\", \"devolver\", \"bota\", \"maestro\", \"gustar\", \"abril\", \"lleva\", \"barato\", \"siempre\", \"heineken\", \"gracias\", \"zapatilla\", \"alcampo\", \"citroen\", \"menos\", \"quedar\", \"querer\", \"peugeot\", \"cervecero\", \"movistar\", \"comprar\", \"cruzcampir\", \"equipo\", \"yo\", \"mercadona\", \"poder\", \"toyota\", \"bankia\", \"adida\", \"santander\", \"carrefour\", \"bimbo\", \"banco\", \"gana\", \"graduado\", \"bombazo\", \"quiero\", \"cabezas\", \"mosiri\", \"estrategia\", \"acordir\", \"heladera\", \"avisar\", \"favor\", \"turquia\", \"tomarme\", \"elevar\", \"huele\", \"alexander\", \"ecologistas\", \"camioneta\", \"maquina\", \"conver\", \"citymuh\", \"conectividad\", \"fernet\", \"pillar\", \"arranco\", \"piso\", \"romeo\", \"soltar\", \"colaboracion\", \"gastar\", \"reserva\", \"tobalar\", \"chrysler\", \"entrevista\", \"milko\", \"aprender\", \"santander\", \"mes\", \"mientras\", \"\\u00e9l\", \"alguien\", \"mandar\", \"padre\", \"senoro\", \"encima\", \"volver\", \"ahora\", \"mercadona\", \"heineken\", \"porque\", \"viernes\", \"man\\u00e1n\", \"banco\", \"hacer\", \"buscar\", \"carrefour\", \"bankia\", \"vender\", \"poder\", \"toyota\", \"comprar\", \"cruzcampo\", \"precio\", \"cruzcampir\", \"tener\", \"gracias\", \"peugeot\", \"adida\", \"nuevo\", \"movistar\", \"montar\", \"encuentra\", \"organizado\", \"entender\", \"semanal\", \"mueble\", \"saldo\", \"amigo\", \"osito\", \"invertir\", \"despedir\", \"table\", \"aportar\", \"adicolor\", \"ibex\", \"liberbank\", \"mapfre\", \"quincenal\", \"teneis\", \"contratar\", \"bolsa\", \"pongo\", \"donita\", \"crudo\", \"creatividad\", \"recibo\", \"pequeno\", \"conocer\", \"ingreso\", \"transformacion\", \"superstar\", \"adidas\", \"ofrecer\", \"cliente\", \"bimbo\", \"caixabank\", \"historia\", \"bankinter\", \"cobrar\", \"quien\", \"trabajar\", \"vehiculo\", \"caixa\", \"jajajaj\", \"bankia\", \"enamorado\", \"comer\", \"digital\", \"pagar\", \"carrefour\", \"claro\", \"llegar\", \"mercadona\", \"adida\", \"banco\", \"yo\", \"estar\", \"heineken\", \"movistar\", \"marca\", \"querer\", \"color\", \"entrenamiento\", \"zapatillas\", \"napaacc\", \"camiseta\", \"china\", \"95\", \"alfajor\", \"presento\", \"asorbaex\", \"diamundialcontraelcancer\", \"dragon\", \"hombre\", \"training\", \"sudaderillar\", \"sed\\u00e1n\", \"pabelloneuropa\", \"adelante\", \"sintonia\", \"guardar\", \"terelu\", \"espanolar\", \"mallas\", \"ciclo\", \"ultra\", \"apostar\", \"talla\", \"160mil\", \"lunarlon\", \"europeo\", \"negro\", \"mujer\", \"adida\", \"bueno\", \"mcflurry\", \"momento\", \"conversaci\\u00f3n\", \"olimpia\", \"galicia\", \"mundo\", \"estrella\", \"compro\", \"puleva\", \"cerveza\", \"mercadona\", \"decathlon\", \"gala6ghvip5\", \"cruzcampo\", \"parecer\", \"nuevo\", \"hyundai\", \"mejor\", \"milko\", \"alcampo\", \"carrefour\", \"marca\", \"heineken\", \"milka\", \"panguir\", \"nikeplus\", \"correr\", \"ritmo\", \"refugiado\", \"aldub81stweeksary\", \"acabo\", \"vestido\", \"financie\", \"novia\", \"batalla\", \"cordoba\", \"rebook\", \"proyecto\", \"presionar\", \"23\", \"quejandote\", \"encantar\", \"maquillaje\", \"finalizar\", \"caracas\", \"buenisima\", \"mencionar\", \"vivienda\", \"cielo\", \"vivar\", \"promoci\\u00f3n\", \"vestiditar\", \"pinto\", \"wawsberghe\", \"superga\", \"carrera\", \"arquitectura\", \"intentar\", \"haz\", \"conseguir\", \"diseno\", \"sector\", \"futbol\", \"entrar\", \"milka\", \"mismo\", \"hacendado\", \"mercado\", \"dinero\", \"adida\", \"hablar\", \"mejor\", \"anuncio\", \"empleo\", \"heineken\", \"\\u00e9l\", \"banco\", \"mercadona\", \"carrefour\", \"vez\", \"movistar\", \"poder\", \"bimbo\", \"nuevo\", \"patrocinado\", \"bilbao\", \"yeezy\", \"exigir\", \"argentaria\", \"oportunidad\", \"shoes\", \"parra\", \"patta\", \"presto\", \"ordinario\", \"10800\", \"suede\", \"copiar\", \"devolverar\", \"clausular\", \"bancosantander\", \"pbbpadaluckmayward\", \"chaval\", \"exico\", \"banner\", \"fallecer\", \"best\", \"consumidor\", \"combinacion\", \"mccarthy\", \"premiado\", \"innovador\", \"club\", \"libro\", \"hasta\", \"millonario\", \"vizcaya\", \"yogur\", \"excelente\", \"cruzcampo\", \"social\", \"pedir\", \"algun\", \"chocolate\", \"boost\", \"diseno\", \"bimbo\", \"jajaja\", \"suelo\", \"esperar\", \"adidas\", \"poder\", \"querer\", \"banco\", \"bankia\", \"hacer\", \"milka\", \"adida\", \"movistar\", \"heineken\", \"mejor\", \"carrefour\", \"pagar\", \"\\u00e9l\"], \"Freq\": [59.0, 9.0, 9.0, 11.0, 9.0, 58.0, 6.0, 26.0, 24.0, 8.0, 6.0, 8.0, 5.0, 10.0, 5.0, 6.0, 6.0, 7.0, 9.0, 12.0, 6.0, 18.0, 4.0, 4.0, 6.0, 4.0, 23.0, 9.0, 5.0, 5.0, 8.64623244822319, 5.434804057934641, 3.8042186324142513, 3.1490916877640767, 2.804269416708591, 2.584939553325703, 2.3902499497508587, 2.9725325789316033, 1.9696083069056076, 3.443127194905848, 3.4543028667172058, 1.6787601985419836, 1.6787601985419836, 1.6065866766088326, 1.5629027931713777, 2.5732192922045374, 1.4754090934683919, 1.4240752419438496, 1.3628742849733175, 1.3351105738324918, 1.2130015575390598, 1.202263070090208, 1.6942747965055047, 1.170620744389037, 1.1621994033614653, 2.7265128934385237, 2.519245571295538, 2.25055423704105, 1.1029148585633362, 1.0636951626143378, 1.9166035817936802, 3.250503816671358, 2.697615040565455, 5.282597969054958, 3.5448828642171275, 10.659584514975718, 3.2796204647954985, 3.354004193236177, 9.930448893627666, 6.6307641518204985, 7.986484193096397, 5.788553218835928, 10.463194657692318, 4.096053610552684, 3.2019494141552634, 2.604128570161839, 2.888609172534195, 3.884110815477315, 2.9516024256706794, 2.8665292306380046, 3.268901366127851, 3.341942064328407, 2.9766533073023718, 2.830154296162709, 2.8697231625112716, 2.81509226910599, 4.295736782030977, 4.14198266542916, 2.582091496588542, 4.025914657270917, 1.6696012938173346, 3.5189717038359825, 1.4591831121997978, 1.4591831121997978, 1.4591831121997978, 3.870663331669933, 4.458543326783693, 4.741017513848567, 1.3489821062596195, 1.3391285245245323, 1.33146213784349, 1.3145273143888894, 1.186548505147491, 1.9526820509855718, 1.1303958517829422, 1.1106802539426974, 1.0886019106895528, 1.0882288156133355, 1.0363766160929435, 1.029708872832313, 1.4394945927417395, 1.0195862114299281, 2.181713840448711, 1.390928268172948, 1.949845930567436, 1.349723020385077, 2.2117743406722368, 7.855172418023743, 1.9948756232814926, 1.4394220182595547, 3.284432126671002, 5.7906632197252, 24.124860088634062, 7.923841067513959, 2.774264033115054, 4.151132149786616, 3.9922335108098035, 3.5204432503149445, 4.689556420191412, 5.42348454446242, 4.803321681259472, 1.77943386064776, 6.5061512404204995, 3.5448685800700908, 4.114538962068541, 2.132318458360131, 3.066905051760581, 4.679282905759374, 3.522841928919723, 3.5527775034416083, 3.215435022416725, 4.056607795108261, 2.8876544847780727, 3.127851480030907, 3.0306794667132304, 2.9415009056967523, 5.365239803169998, 1.5338600070010366, 1.4936206879663276, 5.183284190040654, 1.4415401830911305, 1.4415401830911305, 1.8363874072863928, 1.2202947029401066, 1.417190006333149, 1.012762435733433, 4.626657513851668, 0.9960525520033758, 0.9606995744277473, 0.9391935719985943, 0.9279077659029469, 0.9140163824712474, 0.9073138576122036, 0.9049165987811055, 0.878023229243048, 0.823351396264097, 0.8214585333113005, 0.818865830970477, 1.1301160119544669, 1.2359432159259367, 0.8021787380538961, 0.7812457829614127, 0.7800651703963982, 0.7669581057711456, 1.0695766602449683, 0.7431822177863137, 1.0240002435588784, 1.9505578268180597, 1.2060118800533224, 1.800642015867003, 8.229247929175493, 1.2396492306750428, 5.972130177238655, 1.3950565507689694, 2.0115800995216886, 7.129647358207701, 2.6283993749946895, 1.5093209898346769, 1.5224645219029627, 1.4295460724199331, 1.7962922913271082, 2.0360310212361026, 3.4854393650950968, 6.605680682203254, 8.909785165167259, 1.6027691101757713, 1.8577283977870447, 2.387056625390811, 4.107746929903099, 3.1998538435338175, 2.2040973718284462, 4.542340028219196, 3.6829723133938477, 2.5294632466146774, 3.318175495728172, 3.7234759928398815, 2.82935932055484, 3.5285323773530464, 2.1222136751622434, 2.495459738592512, 2.214902544573694, 2.236743738566263, 2.115626405582964, 2.422922371239794, 2.123217185897795, 2.056691964545322, 4.81582161574427, 2.880341896076849, 2.7478261987361328, 2.6320388790555125, 1.39885945040265, 6.209015148269678, 1.2427612041707132, 4.153878455304364, 2.7051102463662104, 1.1536002772383476, 1.0566118998353025, 0.9810707744573626, 0.9781320683222116, 0.9762169480430849, 0.9656270086890726, 0.9656270086890726, 0.9656270086890726, 0.9656270086890726, 0.9568998101375669, 0.935645366825095, 2.596906490541976, 0.9066066543939792, 0.8765287273464727, 0.8525888259384473, 0.8486637160734866, 0.8350530904681068, 0.8132977550956165, 2.80199093046493, 1.163434636580672, 1.563165002518655, 2.9715396054653196, 5.84621489236004, 3.2160134877586044, 5.151027186456013, 12.429997109653232, 1.7796660975610892, 2.07563005894139, 2.6356718983322387, 1.959712801849209, 2.841726432784746, 2.3291459834557826, 1.451771190868882, 3.009048486024344, 1.2926373358604606, 5.341690614009033, 1.4042385176444059, 2.372437129378832, 1.8613789736655737, 2.3817001387528904, 4.743964579532045, 2.1108923511069557, 2.512286846333303, 4.227075376345429, 5.210243793904687, 3.281999955885142, 2.513944226303173, 2.1888940680928504, 3.314309656012722, 2.8480793337971173, 2.331280002668123, 2.35524816346278, 5.4732779296091305, 1.9212753898525348, 3.116005418278266, 1.5344341131623487, 6.315304960996293, 1.4691246783609846, 1.750468581656977, 2.342661764418115, 1.8459155187916363, 1.2294538125803585, 1.2294538125803585, 1.1805902078636266, 5.5039534737457565, 1.1613817610842554, 1.081670373380031, 1.074319379697696, 1.039183763140646, 1.0147246026804078, 0.9923010386165422, 0.9902122909503653, 0.9801795454143409, 1.4790178687267455, 0.9717788768405555, 0.9706795578708971, 1.486535399751227, 0.9575248164361158, 2.142017719819725, 0.9474881566832991, 0.9474881566832991, 1.5984266382759316, 2.8597800227653756, 3.063112332624962, 34.70834997262865, 3.7512269957448168, 1.522706353409267, 2.514674358854768, 1.2615091000737153, 1.974432103475504, 4.364795302866191, 4.0045303286301115, 4.479811815606309, 2.9956832428373965, 1.5092487562028678, 5.549983038628313, 9.785228161463843, 2.7411909847354106, 2.041400429146337, 5.792461806285083, 2.763323637331013, 4.233990336317581, 2.6854465357646733, 3.842446120666432, 3.661742352725163, 2.4987256247446434, 3.4806743735338057, 2.5751997859695805, 3.568251958381325, 2.3701595303668843, 2.1511325718097196, 9.26424914551696, 8.83126224969563, 6.163317796436801, 3.7255429799867215, 2.969734738257655, 9.287138757384042, 1.9085995264409816, 1.488998323376961, 2.8949440369147244, 1.196495501013408, 1.186279839140214, 1.1649218646178725, 2.2029245817276775, 1.132796787143385, 1.092372683661774, 1.0519792490085476, 1.0295186398258618, 0.9684654865052362, 0.9438942594203416, 0.9052731991961778, 0.8986434690839872, 0.8980618414864173, 2.08221428033283, 0.8556952442149529, 0.8529306349854877, 0.8441814066649422, 0.8367015833369373, 0.8359359626826677, 0.8255586969309751, 0.8195316681199534, 1.852280991225587, 1.1349024682736482, 1.1749819202113712, 1.7777863714145057, 1.4729665762303559, 2.3671615128803842, 1.1855457687741318, 1.4697789460203576, 2.0588224905395753, 4.002375081188161, 3.1436417838337727, 2.8847896060493947, 1.2939702950521055, 2.157722145631343, 8.390354749761443, 1.9370787004420684, 4.266878963240305, 2.4359311279842433, 2.260812678032132, 5.621259338934338, 3.0664635363071056, 2.9905050109253666, 3.639517349098981, 3.334959632849298, 1.7075235364052095, 2.7183376391682748, 2.2223273040457427, 2.293713041101042, 2.1652526770169205, 2.4030775759372482, 1.9973436681719223, 1.7309353594403982, 1.5927858443152887, 1.5297055830025652, 1.4779865297589903, 1.3899210744087573, 1.210030144162894, 1.210030144162894, 1.145192892206972, 1.0587381505750995, 1.0405794054673938, 0.9857893333109988, 0.9771108315565386, 0.9631118279046865, 1.6800075777452776, 0.9179263802127426, 0.9121051841275075, 0.9066119076416874, 0.8114405105828142, 0.7999590537150335, 1.0948340393899105, 0.7805718263358492, 0.7608142945437999, 1.0440888874113172, 0.7422914575150772, 0.7288255407654465, 0.719809536752577, 0.7166974413062039, 0.7046539174201045, 1.499075767039436, 0.9370055782962492, 1.4706865049208215, 1.2173628174249076, 1.4748932181560352, 8.569203973785894, 1.3902009960392594, 1.805569524700466, 1.3637528170632836, 2.837817879962625, 1.4867772889537971, 1.861501313528146, 4.352117907151179, 1.7593058450213626, 1.7679773065167042, 1.8838691228753601, 2.1823589762494455, 2.72903814818876, 2.4112333130182475, 2.6989829004789008, 2.6709941529080887, 2.1477338466759255, 2.032282047171399, 2.8139619704259595, 2.329617435970463, 2.331147885381313, 1.8836405369449827, 1.898977180722862, 1.5633267647699745, 1.5970903915580568], \"Total\": [59.0, 9.0, 9.0, 11.0, 9.0, 58.0, 6.0, 26.0, 24.0, 8.0, 6.0, 8.0, 5.0, 10.0, 5.0, 6.0, 6.0, 7.0, 9.0, 12.0, 6.0, 18.0, 4.0, 4.0, 6.0, 4.0, 23.0, 9.0, 5.0, 5.0, 9.115766011205926, 5.904198246635313, 4.2737212738904, 3.6184363813689293, 3.273674174922669, 3.054325019767545, 2.8595925198460246, 3.649360777092937, 2.4390287415775416, 4.302819273373088, 4.31924449562592, 2.1481608422914595, 2.1481608422914595, 2.0759288746937354, 2.032250404900846, 3.3557076418504472, 1.944826033224982, 1.8934125233251504, 1.8328102679336804, 1.8044606289142855, 1.6840506847336234, 1.6716021533388898, 2.3653386576797777, 1.639985206975583, 1.6315522770017405, 3.8439858084465293, 3.575626658285257, 3.205221324687476, 1.5723379366927448, 1.5330331672503164, 2.775760397845479, 4.860077805738956, 4.047683018924352, 8.638775959233152, 6.148084429856211, 23.757825890910645, 5.671042843296256, 5.845990117501952, 27.856423645410857, 16.748630004353533, 29.11525146798451, 20.08283203446411, 58.332808750203334, 11.00331279844153, 9.089480089862992, 5.759136146173894, 7.636237302651906, 17.898442122712844, 9.914050917032567, 8.939315227007858, 24.11013048905447, 33.608035830277615, 17.008103473762667, 12.433705102085398, 18.791735970926233, 14.537968331477725, 4.765611410497761, 4.611864260982771, 3.051820135263016, 4.857106568779551, 2.1393299014284866, 4.603588579406313, 1.9289116242863888, 1.9289116242863888, 1.9289116242863888, 5.143814971150544, 5.93514677122527, 6.348268090844998, 1.8187649757654207, 1.8088572602647033, 1.8016723365092178, 1.7842711412302643, 1.6563479800949459, 2.7319597611714275, 1.6001243953237965, 1.5804089811441087, 1.5583307424498376, 1.558049968578364, 1.5061061341230746, 1.4994901189973964, 2.0984791792983306, 1.4893903732509226, 3.225230867180955, 2.0579534888751763, 2.8919186837511686, 2.0051269028633216, 3.316866785792904, 12.817035158855568, 3.019637597839211, 2.1432430945316785, 5.3200426693962335, 10.64128083169091, 58.332808750203334, 17.008103473762667, 4.914081437307111, 8.368235546785746, 8.070299969192604, 7.160466276357692, 10.765758563790063, 13.547034191130477, 13.038048955573517, 2.8923742966258357, 27.856423645410857, 12.248157384338704, 16.748630004353533, 4.336811972621141, 10.51554444454409, 33.608035830277615, 17.898442122712844, 23.757825890910645, 19.03894284024906, 59.98797732850172, 14.38098680888681, 29.11525146798451, 26.497947624342906, 18.825912563736257, 6.999025216025435, 2.0044435386808046, 1.9643156988991974, 6.828002221169766, 1.9121885383614086, 1.9121885383614086, 2.4832643701026806, 1.6908784509149917, 2.0531782684551074, 1.4835980011243528, 6.790758145838044, 1.4666363007481278, 1.431283324976897, 1.4098982497590025, 1.3984915898626606, 1.3846001571699866, 1.3781200843406918, 1.375683079995917, 1.3486067165456872, 1.2939350968718328, 1.2920422438883707, 1.2894987719742301, 1.7804318216731536, 1.9549272670989775, 1.2727623827291472, 1.2518294699960386, 1.2506486897289035, 1.2375423299652044, 1.731705142955425, 1.2137662338952078, 1.678682935074218, 3.2753583868313463, 1.9928080784724285, 3.2019960009946384, 18.791735970926233, 2.120901846602462, 14.38098680888681, 2.4522200039983972, 3.873467400553346, 19.33329225030154, 5.5968911834921595, 2.7233723101942733, 2.792853696518138, 2.5869628263020674, 3.5857140655933017, 4.309381140782537, 10.38744964058931, 33.608035830277615, 58.332808750203334, 3.250901985685379, 4.194302701988459, 6.788005280026558, 18.825912563736257, 12.433705102085398, 6.224747920968413, 29.11525146798451, 19.03894284024906, 9.139847833886389, 17.898442122712844, 23.757825890910645, 12.248157384338704, 24.11013048905447, 7.234144911115246, 16.748630004353533, 11.00331279844153, 17.008103473762667, 13.038048955573517, 59.98797732850172, 17.564279704792604, 27.856423645410857, 5.446664841736326, 3.3513062043433637, 3.2186502986552066, 3.3062144051285816, 1.8696835097224844, 8.359892014166574, 1.7135853196491353, 5.790333225310231, 3.798531702407782, 1.624424582300342, 1.5274529694814363, 1.4518961730236914, 1.4489656601272016, 1.4470700678016932, 1.4364510387847385, 1.4364510387847385, 1.4364510387847385, 1.4364510387847385, 1.427724024642499, 1.406563653751393, 3.913731274255541, 1.3774312027660838, 1.3474366655032919, 1.323413164497196, 1.3197683948133447, 1.3059152235870588, 1.284122115859863, 4.433193009824262, 1.8458318421512654, 2.4858656150249563, 4.76851589001641, 10.006832588888473, 5.562315893246614, 9.37733897644608, 26.497947624342906, 3.0484773862407617, 3.6849628550558178, 4.97495413093349, 3.56803716025685, 5.937035279978963, 4.63799533425886, 2.4709998166820952, 7.601580067919185, 2.199962571838482, 19.03894284024906, 2.513168149542787, 5.96062081529324, 4.030478008046402, 7.003053024187292, 29.11525146798451, 5.716046110886546, 8.93694979440729, 33.608035830277615, 59.98797732850172, 18.825912563736257, 10.51554444454409, 6.7291553422215795, 58.332808750203334, 27.856423645410857, 10.66919074479957, 13.547034191130477, 6.169884907697134, 2.3928362754523205, 3.9178233059309466, 2.0060013212412633, 8.34079042557435, 1.9407345247923256, 2.3923910663101875, 3.2233719752568937, 2.548782344804061, 1.7009768241334255, 1.7009768241334255, 1.6523735428351505, 7.7318600766227075, 1.632870296010428, 1.5531596324455716, 1.5458339295640071, 1.510716195257259, 1.4862138495292685, 1.4637898646914427, 1.4617007127442674, 1.451706415464881, 2.192334047285237, 1.4433105061769644, 1.4421680731558029, 2.220376155907726, 1.4302811807119804, 3.2025568789856944, 1.4189767273642586, 1.4189767273642586, 2.41295558407889, 4.403176647242717, 4.772799180370124, 59.98797732850172, 6.093866345183841, 2.335361660493068, 4.308317954459639, 1.941433010735906, 3.347362228069162, 9.089480089862992, 8.183550222193983, 9.914050917032567, 5.94997575416085, 2.4401091678572273, 14.537968331477725, 33.608035830277615, 5.642790859223332, 3.9832852519192303, 24.11013048905447, 6.854821271394469, 17.564279704792604, 7.626266961281155, 20.08283203446411, 18.791735970926233, 8.368235546785746, 29.11525146798451, 10.66919074479957, 58.332808750203334, 11.552656906127494, 5.931680028722434, 9.736159969480175, 9.303136988013089, 6.635149482287206, 4.197639455163693, 3.4415621406138355, 11.32175321889232, 2.3804662910395935, 1.9615524529197461, 3.9554963587789165, 1.668322430790758, 1.6581067552163513, 1.6367501227921817, 3.1074089950972414, 1.6047776035530175, 1.564867391484288, 1.5238062671527515, 1.5015657549530765, 1.440292301575715, 1.4157304081433397, 1.377100736705889, 1.3704707584214633, 1.3698891841949872, 3.21892135061446, 1.327567700162104, 1.3247579255009243, 1.3160084071623672, 1.3085287945150346, 1.3077634253740351, 1.2973854756525895, 1.2913587862832248, 3.291043134969172, 1.8894450849428166, 1.9825427939222482, 3.3480505532830245, 2.676616140814266, 4.980543658935616, 2.0341295647840045, 2.719659884130152, 4.3676185162316745, 11.552656906127494, 8.939315227007858, 8.046966981996476, 2.3445105332185876, 5.711432273934882, 59.98797732850172, 4.793092500653481, 20.08283203446411, 7.482492857954076, 6.594143190398156, 58.332808750203334, 19.33329225030154, 18.825912563736257, 33.608035830277615, 29.11525146798451, 4.637202940765761, 27.856423645410857, 17.898442122712844, 26.497947624342906, 17.564279704792604, 2.8762799729307575, 2.4705487986724317, 2.204339318104143, 2.065928309564854, 2.0029365100209398, 1.9513002319458403, 1.8631652120509619, 1.683172710160819, 1.683172710160819, 1.6183361994143322, 1.5318809560861704, 1.51372146069337, 1.4590329589872657, 1.4502528020315055, 1.4362763208248333, 2.5249068685882397, 1.3911713826059975, 1.3852477841350783, 1.3798996170876494, 1.2845829222888234, 1.273177156014405, 1.7580172629908635, 1.2538946591010665, 1.233956304405575, 1.7028337241945286, 1.215433449801879, 1.2019860335101762, 1.1929515320707567, 1.1907965480136546, 1.1778827877713063, 2.5355114406105668, 1.5906000826400652, 2.6675967576433743, 2.1624957508586244, 2.7794002422784745, 24.11013048905447, 2.5977314121161346, 3.614315305207997, 2.640104280634884, 7.723891379902803, 3.2363858853237724, 4.980543658935616, 26.497947624342906, 4.920028671893251, 5.492695642288339, 6.5313754265106665, 10.006832588888473, 17.898442122712844, 13.547034191130477, 18.825912563736257, 19.03894284024906, 12.433705102085398, 11.552656906127494, 59.98797732850172, 27.856423645410857, 58.332808750203334, 20.08283203446411, 29.11525146798451, 7.003053024187292, 19.33329225030154], \"Category\": [\"Default\", \"Default\", \"Default\", \"Default\", \"Default\", \"Default\", \"Default\", \"Default\", \"Default\", \"Default\", \"Default\", \"Default\", \"Default\", \"Default\", \"Default\", \"Default\", \"Default\", \"Default\", \"Default\", \"Default\", \"Default\", \"Default\", \"Default\", \"Default\", \"Default\", \"Default\", \"Default\", \"Default\", \"Default\", \"Default\", \"Topic1\", \"Topic1\", \"Topic1\", \"Topic1\", \"Topic1\", \"Topic1\", \"Topic1\", \"Topic1\", \"Topic1\", \"Topic1\", \"Topic1\", \"Topic1\", \"Topic1\", \"Topic1\", \"Topic1\", \"Topic1\", \"Topic1\", \"Topic1\", \"Topic1\", \"Topic1\", \"Topic1\", \"Topic1\", \"Topic1\", \"Topic1\", \"Topic1\", \"Topic1\", \"Topic1\", \"Topic1\", \"Topic1\", \"Topic1\", \"Topic1\", \"Topic1\", \"Topic1\", \"Topic1\", \"Topic1\", \"Topic1\", \"Topic1\", \"Topic1\", \"Topic1\", \"Topic1\", \"Topic1\", \"Topic1\", \"Topic1\", \"Topic1\", \"Topic1\", \"Topic1\", \"Topic1\", \"Topic1\", \"Topic1\", \"Topic1\", \"Topic1\", \"Topic1\", \"Topic1\", \"Topic1\", \"Topic1\", \"Topic1\", \"Topic2\", \"Topic2\", \"Topic2\", \"Topic2\", \"Topic2\", \"Topic2\", \"Topic2\", \"Topic2\", \"Topic2\", \"Topic2\", \"Topic2\", \"Topic2\", \"Topic2\", \"Topic2\", \"Topic2\", \"Topic2\", \"Topic2\", \"Topic2\", \"Topic2\", \"Topic2\", \"Topic2\", \"Topic2\", \"Topic2\", \"Topic2\", \"Topic2\", \"Topic2\", \"Topic2\", \"Topic2\", \"Topic2\", \"Topic2\", \"Topic2\", \"Topic2\", \"Topic2\", \"Topic2\", \"Topic2\", \"Topic2\", \"Topic2\", \"Topic2\", \"Topic2\", \"Topic2\", \"Topic2\", \"Topic2\", \"Topic2\", \"Topic2\", \"Topic2\", \"Topic2\", \"Topic2\", \"Topic2\", \"Topic2\", \"Topic2\", \"Topic2\", \"Topic2\", \"Topic2\", \"Topic2\", \"Topic2\", \"Topic2\", \"Topic2\", \"Topic2\", \"Topic2\", \"Topic2\", \"Topic3\", \"Topic3\", \"Topic3\", \"Topic3\", \"Topic3\", \"Topic3\", \"Topic3\", \"Topic3\", \"Topic3\", \"Topic3\", \"Topic3\", \"Topic3\", \"Topic3\", \"Topic3\", \"Topic3\", \"Topic3\", \"Topic3\", \"Topic3\", \"Topic3\", \"Topic3\", \"Topic3\", \"Topic3\", \"Topic3\", \"Topic3\", \"Topic3\", \"Topic3\", \"Topic3\", \"Topic3\", \"Topic3\", \"Topic3\", \"Topic3\", \"Topic3\", \"Topic3\", \"Topic3\", \"Topic3\", \"Topic3\", \"Topic3\", \"Topic3\", \"Topic3\", \"Topic3\", \"Topic3\", \"Topic3\", \"Topic3\", \"Topic3\", \"Topic3\", \"Topic3\", \"Topic3\", \"Topic3\", \"Topic3\", \"Topic3\", \"Topic3\", \"Topic3\", \"Topic3\", \"Topic3\", \"Topic3\", \"Topic3\", \"Topic3\", \"Topic3\", \"Topic3\", \"Topic3\", \"Topic3\", \"Topic3\", \"Topic3\", \"Topic3\", \"Topic3\", \"Topic3\", \"Topic3\", \"Topic3\", \"Topic3\", \"Topic3\", \"Topic4\", \"Topic4\", \"Topic4\", \"Topic4\", \"Topic4\", \"Topic4\", \"Topic4\", \"Topic4\", \"Topic4\", \"Topic4\", \"Topic4\", \"Topic4\", \"Topic4\", \"Topic4\", \"Topic4\", \"Topic4\", \"Topic4\", \"Topic4\", \"Topic4\", \"Topic4\", \"Topic4\", \"Topic4\", \"Topic4\", \"Topic4\", \"Topic4\", \"Topic4\", \"Topic4\", \"Topic4\", \"Topic4\", \"Topic4\", \"Topic4\", \"Topic4\", \"Topic4\", \"Topic4\", \"Topic4\", \"Topic4\", \"Topic4\", \"Topic4\", \"Topic4\", \"Topic4\", \"Topic4\", \"Topic4\", \"Topic4\", \"Topic4\", \"Topic4\", \"Topic4\", \"Topic4\", \"Topic4\", \"Topic4\", \"Topic4\", \"Topic4\", \"Topic4\", \"Topic4\", \"Topic4\", \"Topic4\", \"Topic4\", \"Topic4\", \"Topic4\", \"Topic4\", \"Topic4\", \"Topic4\", \"Topic5\", \"Topic5\", \"Topic5\", \"Topic5\", \"Topic5\", \"Topic5\", \"Topic5\", \"Topic5\", \"Topic5\", \"Topic5\", \"Topic5\", \"Topic5\", \"Topic5\", \"Topic5\", \"Topic5\", \"Topic5\", \"Topic5\", \"Topic5\", \"Topic5\", \"Topic5\", \"Topic5\", \"Topic5\", \"Topic5\", \"Topic5\", \"Topic5\", \"Topic5\", \"Topic5\", \"Topic5\", \"Topic5\", \"Topic5\", \"Topic5\", \"Topic5\", \"Topic5\", \"Topic5\", \"Topic5\", \"Topic5\", \"Topic5\", \"Topic5\", \"Topic5\", \"Topic5\", \"Topic5\", \"Topic5\", \"Topic5\", \"Topic5\", \"Topic5\", \"Topic5\", \"Topic5\", \"Topic5\", \"Topic5\", \"Topic5\", \"Topic5\", \"Topic5\", \"Topic5\", \"Topic5\", \"Topic5\", \"Topic5\", \"Topic5\", \"Topic5\", \"Topic5\", \"Topic6\", \"Topic6\", \"Topic6\", \"Topic6\", \"Topic6\", \"Topic6\", \"Topic6\", \"Topic6\", \"Topic6\", \"Topic6\", \"Topic6\", \"Topic6\", \"Topic6\", \"Topic6\", \"Topic6\", \"Topic6\", \"Topic6\", \"Topic6\", \"Topic6\", \"Topic6\", \"Topic6\", \"Topic6\", \"Topic6\", \"Topic6\", \"Topic6\", \"Topic6\", \"Topic6\", \"Topic6\", \"Topic6\", \"Topic6\", \"Topic6\", \"Topic6\", \"Topic6\", \"Topic6\", \"Topic6\", \"Topic6\", \"Topic6\", \"Topic6\", \"Topic6\", \"Topic6\", \"Topic6\", \"Topic6\", \"Topic6\", \"Topic6\", \"Topic6\", \"Topic6\", \"Topic6\", \"Topic6\", \"Topic6\", \"Topic6\", \"Topic6\", \"Topic6\", \"Topic6\", \"Topic6\", \"Topic6\", \"Topic6\", \"Topic6\", \"Topic6\", \"Topic6\", \"Topic7\", \"Topic7\", \"Topic7\", \"Topic7\", \"Topic7\", \"Topic7\", \"Topic7\", \"Topic7\", \"Topic7\", \"Topic7\", \"Topic7\", \"Topic7\", \"Topic7\", \"Topic7\", \"Topic7\", \"Topic7\", \"Topic7\", \"Topic7\", \"Topic7\", \"Topic7\", \"Topic7\", \"Topic7\", \"Topic7\", \"Topic7\", \"Topic7\", \"Topic7\", \"Topic7\", \"Topic7\", \"Topic7\", \"Topic7\", \"Topic7\", \"Topic7\", \"Topic7\", \"Topic7\", \"Topic7\", \"Topic7\", \"Topic7\", \"Topic7\", \"Topic7\", \"Topic7\", \"Topic7\", \"Topic7\", \"Topic7\", \"Topic7\", \"Topic7\", \"Topic7\", \"Topic7\", \"Topic7\", \"Topic7\", \"Topic7\", \"Topic7\", \"Topic7\", \"Topic7\", \"Topic7\", \"Topic7\", \"Topic7\", \"Topic7\", \"Topic7\", \"Topic7\", \"Topic7\"], \"logprob\": [30.0, 29.0, 28.0, 27.0, 26.0, 25.0, 24.0, 23.0, 22.0, 21.0, 20.0, 19.0, 18.0, 17.0, 16.0, 15.0, 14.0, 13.0, 12.0, 11.0, 10.0, 9.0, 8.0, 7.0, 6.0, 5.0, 4.0, 3.0, 2.0, 1.0, -5.033, -5.4973, -5.854, -6.043, -6.1589, -6.2404, -6.3187, -6.1007, -6.5122, -5.9537, -5.9505, -6.672, -6.672, -6.716, -6.7435, -6.2449, -6.8011, -6.8366, -6.8805, -6.9011, -6.997, -7.0059, -6.6628, -7.0325, -7.0398, -6.1871, -6.2661, -6.3789, -7.0921, -7.1283, -6.5395, -6.0113, -6.1977, -5.5257, -5.9246, -4.8236, -6.0024, -5.9799, -4.8945, -5.2984, -5.1123, -5.4342, -4.8422, -5.7801, -6.0263, -6.233, -6.1293, -5.8332, -6.1077, -6.137, -6.0056, -5.9835, -6.0993, -6.1497, -6.1359, -6.1551, -5.7134, -5.7499, -6.2225, -5.7783, -6.6585, -5.9129, -6.7932, -6.7932, -6.7932, -5.8176, -5.6762, -5.6148, -6.8717, -6.879, -6.8848, -6.8976, -7.0, -6.5019, -7.0485, -7.0661, -7.0862, -7.0865, -7.1353, -7.1418, -6.8068, -7.1517, -6.391, -6.8411, -6.5033, -6.8712, -6.3773, -5.1099, -6.4805, -6.8068, -5.9819, -5.4148, -3.9878, -5.1012, -6.1507, -5.7477, -5.7867, -5.9125, -5.6257, -5.4803, -5.6018, -6.5948, -5.2983, -5.9056, -5.7565, -6.4139, -6.0504, -5.6279, -5.9118, -5.9033, -6.0031, -5.7707, -6.1106, -6.0307, -6.0623, -6.0921, -5.4274, -6.6795, -6.7061, -5.4619, -6.7416, -6.7416, -6.4995, -6.9082, -6.7586, -7.0946, -5.5755, -7.1113, -7.1474, -7.1701, -7.1821, -7.1972, -7.2046, -7.2072, -7.2374, -7.3017, -7.304, -7.3072, -6.985, -6.8955, -7.3277, -7.3542, -7.3557, -7.3726, -7.0401, -7.4041, -7.0836, -6.4392, -6.92, -6.5192, -4.9996, -6.8925, -5.3202, -6.7744, -6.4084, -5.1431, -6.1409, -6.6957, -6.687, -6.75, -6.5216, -6.3963, -5.8587, -5.2194, -4.9202, -6.6356, -6.488, -6.2373, -5.6944, -5.9442, -6.317, -5.5939, -5.8036, -6.1793, -5.9079, -5.7927, -6.0673, -5.8464, -6.3549, -6.1929, -6.3121, -6.3023, -6.358, -6.2223, -6.3544, -6.3862, -5.5155, -6.0295, -6.0766, -6.1196, -6.7517, -5.2614, -6.8701, -5.6634, -6.0923, -6.9445, -7.0323, -7.1065, -7.1095, -7.1115, -7.1224, -7.1224, -7.1224, -7.1224, -7.1315, -7.1539, -6.1331, -7.1855, -7.2192, -7.2469, -7.2515, -7.2677, -7.2941, -6.0571, -6.936, -6.6407, -5.9983, -5.3216, -5.9193, -5.4482, -4.5673, -6.511, -6.3571, -6.1183, -6.4146, -6.043, -6.2419, -6.7146, -5.9858, -6.8307, -5.4119, -6.7479, -6.2235, -6.4661, -6.2196, -5.5305, -6.3403, -6.1662, -5.6459, -5.4368, -5.899, -6.1656, -6.304, -5.8892, -6.0408, -6.241, -6.2308, -5.3803, -6.4272, -5.9436, -6.652, -5.2372, -6.6955, -6.5203, -6.2289, -6.4672, -6.8736, -6.8736, -6.9141, -5.3747, -6.9305, -7.0016, -7.0085, -7.0417, -7.0655, -7.0879, -7.09, -7.1002, -6.6888, -7.1088, -7.1099, -6.6837, -7.1236, -6.3184, -7.1341, -7.1341, -6.6111, -6.0294, -5.9607, -3.5332, -5.7581, -6.6597, -6.158, -6.8478, -6.3999, -5.6066, -5.6927, -5.5806, -5.983, -6.6685, -5.3664, -4.7993, -6.0718, -6.3665, -5.3236, -6.0637, -5.637, -6.0923, -5.734, -5.7822, -6.1644, -5.8329, -6.1342, -5.8081, -6.2172, -6.3142, -4.8308, -4.8787, -5.2384, -5.7418, -5.9685, -4.8284, -6.4106, -6.6589, -5.994, -6.8776, -6.8862, -6.9044, -6.2672, -6.9323, -6.9687, -7.0063, -7.0279, -7.0891, -7.1147, -7.1565, -7.1639, -7.1645, -6.3236, -7.2128, -7.2161, -7.2264, -7.2353, -7.2362, -7.2487, -7.256, -6.4406, -6.9305, -6.8958, -6.4816, -6.6697, -6.1953, -6.8868, -6.6719, -6.3349, -5.6701, -5.9116, -5.9976, -6.7993, -6.288, -4.9299, -6.3958, -5.6061, -6.1667, -6.2413, -5.3305, -5.9365, -5.9616, -5.7652, -5.8525, -6.522, -6.057, -6.2585, -6.2268, -6.2845, -6.0673, -6.2522, -6.3953, -6.4785, -6.5189, -6.5533, -6.6148, -6.7534, -6.7534, -6.8084, -6.8869, -6.9042, -6.9583, -6.9672, -6.9816, -6.4252, -7.0296, -7.036, -7.0421, -7.153, -7.1672, -6.8534, -7.1917, -7.2174, -6.9009, -7.242, -7.2603, -7.2728, -7.2771, -7.2941, -6.5392, -7.0091, -6.5583, -6.7473, -6.5554, -4.7958, -6.6146, -6.3531, -6.6338, -5.901, -6.5474, -6.3226, -5.4733, -6.3791, -6.3742, -6.3107, -6.1636, -5.9401, -6.0639, -5.9511, -5.9616, -6.1796, -6.2349, -5.9094, -6.0983, -6.0977, -6.3108, -6.3027, -6.4972, -6.4758], \"loglift\": [30.0, 29.0, 28.0, 27.0, 26.0, 25.0, 24.0, 23.0, 22.0, 21.0, 20.0, 19.0, 18.0, 17.0, 16.0, 15.0, 14.0, 13.0, 12.0, 11.0, 10.0, 9.0, 8.0, 7.0, 6.0, 5.0, 4.0, 3.0, 2.0, 1.0, 1.7967, 1.7668, 1.7332, 1.7107, 1.6948, 1.6828, 1.6703, 1.6445, 1.6358, 1.6267, 1.6261, 1.6031, 1.6031, 1.5933, 1.587, 1.5841, 1.5734, 1.5648, 1.5534, 1.5484, 1.5215, 1.52, 1.5159, 1.5125, 1.5104, 1.5061, 1.4994, 1.496, 1.495, 1.4841, 1.4792, 1.4474, 1.4438, 1.3578, 1.299, 1.0482, 1.302, 1.294, 0.8182, 0.923, 0.5561, 0.6056, 0.1313, 0.8614, 0.8063, 1.0559, 0.8775, 0.3218, 0.638, 0.7123, -0.1486, -0.4586, 0.1067, 0.3695, -0.0296, 0.2078, 1.7648, 1.7612, 1.7015, 1.6809, 1.6207, 1.6, 1.5895, 1.5895, 1.5895, 1.5843, 1.5826, 1.5767, 1.5698, 1.5679, 1.5662, 1.5631, 1.5351, 1.5328, 1.5211, 1.5159, 1.5099, 1.5097, 1.4948, 1.4928, 1.4917, 1.4897, 1.4777, 1.4769, 1.4745, 1.4728, 1.4634, 1.379, 1.4541, 1.4705, 1.3863, 1.2601, 0.9857, 1.1048, 1.2969, 1.1676, 1.1648, 1.1586, 1.0376, 0.9532, 0.8701, 1.3828, 0.4143, 0.6288, 0.4648, 1.1587, 0.6364, -0.103, 0.2432, -0.0316, 0.0901, -0.8252, 0.2632, -0.3623, -0.2997, 0.0123, 1.6665, 1.6648, 1.6584, 1.6568, 1.6498, 1.6498, 1.6306, 1.6062, 1.5617, 1.5506, 1.5486, 1.5454, 1.5337, 1.5261, 1.5221, 1.517, 1.5144, 1.5135, 1.5032, 1.4803, 1.4795, 1.4783, 1.4778, 1.4738, 1.4708, 1.4609, 1.4603, 1.4539, 1.4505, 1.4418, 1.4381, 1.4141, 1.4301, 1.3567, 1.1066, 1.3954, 1.0536, 1.3683, 1.2771, 0.9348, 1.1765, 1.3422, 1.3256, 1.3392, 1.2411, 1.1826, 0.8404, 0.3055, 0.0533, 1.2252, 1.118, 0.8873, 0.41, 0.5751, 0.8941, 0.0745, 0.2896, 0.6477, 0.2471, 0.0791, 0.467, 0.0106, 0.706, 0.0285, 0.3294, -0.0963, 0.1138, -1.2768, -0.1806, -0.6736, 1.8292, 1.8008, 1.7941, 1.7242, 1.6622, 1.6548, 1.631, 1.6201, 1.6128, 1.61, 1.5838, 1.5603, 1.5593, 1.5587, 1.5551, 1.5551, 1.5551, 1.5551, 1.5521, 1.5446, 1.5421, 1.534, 1.5223, 1.5126, 1.5107, 1.5051, 1.4956, 1.4935, 1.4907, 1.4884, 1.4793, 1.4148, 1.4044, 1.3532, 1.1953, 1.4141, 1.3783, 1.317, 1.3531, 1.2155, 1.2635, 1.4204, 1.0256, 1.4205, 0.6813, 1.3702, 1.031, 1.1797, 0.8738, 0.1379, 0.9561, 0.6833, -0.121, -0.4912, 0.2055, 0.5213, 0.8292, -0.9156, -0.3281, 0.4313, 0.2028, 1.8397, 1.74, 1.7306, 1.6916, 1.6814, 1.6811, 1.6471, 1.6404, 1.6369, 1.6349, 1.6349, 1.6233, 1.6197, 1.6188, 1.5977, 1.5957, 1.5854, 1.5779, 1.5708, 1.5701, 1.5668, 1.5659, 1.564, 1.5636, 1.5583, 1.5583, 1.5573, 1.5557, 1.5557, 1.5477, 1.528, 1.516, 1.4124, 1.4743, 1.5319, 1.4211, 1.5284, 1.4316, 1.226, 1.2448, 1.1652, 1.2733, 1.4791, 0.9966, 0.7256, 1.2375, 1.2911, 0.5335, 1.051, 0.5368, 0.9158, 0.3058, 0.3241, 0.7509, -0.1645, 0.5381, -0.8346, 0.3756, 0.9452, 1.933, 1.9306, 1.9089, 1.8634, 1.8352, 1.7846, 1.7618, 1.707, 1.6705, 1.6503, 1.6478, 1.6426, 1.6387, 1.6344, 1.6232, 1.6121, 1.6053, 1.5858, 1.5773, 1.5632, 1.5607, 1.5604, 1.5471, 1.5435, 1.5424, 1.5387, 1.5355, 1.5352, 1.5306, 1.528, 1.4079, 1.4729, 1.4596, 1.3497, 1.3854, 1.2388, 1.4428, 1.3673, 1.2306, 0.9227, 0.9376, 0.9568, 1.3883, 1.0093, 0.0156, 1.0767, 0.4337, 0.8604, 0.9122, -0.3569, 0.1414, 0.1429, -0.2402, -0.1841, 0.9836, -0.3444, -0.1035, -0.4642, -0.1107, 1.9159, 1.8831, 1.8539, 1.8356, 1.8261, 1.8179, 1.8026, 1.7656, 1.7656, 1.7499, 1.7263, 1.7209, 1.7036, 1.7008, 1.696, 1.6883, 1.6799, 1.6778, 1.6756, 1.6363, 1.631, 1.6221, 1.6217, 1.6121, 1.6065, 1.6026, 1.5954, 1.5905, 1.588, 1.5819, 1.5701, 1.5665, 1.5002, 1.5211, 1.462, 1.0612, 1.4705, 1.4017, 1.4351, 1.0944, 1.3178, 1.1115, 0.2893, 1.0673, 0.9621, 0.8524, 0.5728, 0.2149, 0.3696, 0.1533, 0.1316, 0.3397, 0.3579, -0.9639, -0.3857, -1.1241, -0.271, -0.6343, 0.5961, -0.398]}, \"token.table\": {\"Topic\": [7, 2, 5, 6, 5, 2, 5, 2, 5, 6, 1, 3, 5, 4, 1, 2, 3, 4, 5, 6, 7, 4, 6, 7, 1, 2, 3, 4, 5, 6, 7, 2, 5, 6, 7, 6, 3, 5, 1, 3, 4, 7, 1, 1, 4, 2, 2, 3, 4, 6, 7, 4, 5, 3, 7, 6, 3, 2, 5, 2, 1, 5, 1, 3, 1, 2, 3, 4, 5, 6, 7, 7, 1, 2, 3, 4, 6, 7, 4, 5, 6, 7, 2, 3, 6, 1, 7, 7, 1, 2, 3, 4, 5, 6, 7, 4, 6, 3, 5, 7, 2, 1, 3, 4, 5, 7, 6, 2, 4, 5, 7, 1, 3, 4, 6, 7, 3, 2, 2, 4, 5, 6, 7, 4, 7, 2, 3, 2, 5, 6, 1, 2, 3, 4, 5, 6, 7, 1, 6, 7, 2, 6, 1, 2, 3, 4, 5, 6, 7, 7, 5, 1, 3, 5, 7, 3, 5, 6, 1, 2, 4, 6, 7, 3, 2, 3, 4, 5, 6, 7, 2, 3, 4, 5, 6, 7, 3, 4, 1, 3, 5, 7, 1, 4, 5, 7, 1, 1, 4, 7, 1, 2, 3, 4, 5, 7, 1, 5, 6, 3, 4, 6, 1, 6, 7, 4, 3, 5, 7, 6, 1, 2, 6, 4, 4, 1, 2, 3, 4, 5, 6, 7, 1, 2, 3, 4, 5, 6, 7, 2, 3, 5, 7, 4, 2, 2, 7, 5, 2, 3, 4, 2, 3, 6, 7, 6, 7, 4, 5, 1, 3, 3, 1, 2, 4, 6, 7, 4, 6, 3, 5, 4, 4, 6, 7, 5, 2, 3, 2, 4, 5, 7, 5, 1, 3, 5, 7, 1, 2, 3, 4, 5, 3, 1, 3, 4, 5, 5, 2, 7, 7, 7, 7, 1, 3, 3, 6, 6, 1, 4, 6, 3, 4, 5, 1, 4, 5, 1, 2, 3, 3, 1, 2, 3, 4, 6, 7, 3, 5, 1, 2, 3, 4, 6, 7, 1, 3, 4, 6, 2, 3, 4, 5, 6, 1, 2, 3, 4, 5, 6, 7, 2, 7, 3, 6, 1, 4, 1, 2, 3, 4, 5, 6, 7, 3, 4, 6, 1, 3, 4, 5, 3, 1, 3, 4, 5, 6, 7, 4, 2, 2, 4, 1, 7, 6, 1, 4, 1, 3, 6, 4, 5, 7, 4, 2, 1, 1, 4, 7, 1, 7, 1, 2, 3, 4, 6, 7, 2, 5, 2, 6, 2, 5, 2, 3, 1, 2, 3, 4, 5, 6, 4, 6, 3, 1, 2, 4, 5, 6, 7, 2, 7, 5, 2, 1, 1, 2, 3, 4, 5, 6, 7, 6, 2, 4, 5, 7, 6, 1, 2, 3, 4, 5, 6, 7, 3, 3, 1, 2, 4, 5, 6, 7, 1, 2, 3, 4, 5, 6, 7, 7, 1, 2, 4, 5, 6, 5, 6, 4, 3, 1, 6, 1, 2, 3, 4, 5, 6, 7, 4, 5, 6, 3, 5, 1, 2, 4, 5, 7, 1, 5, 2, 1, 3, 5, 1, 5, 6, 6, 1, 2, 3, 4, 5, 6, 7, 4, 5, 2, 5, 2, 4, 7, 7, 4, 4, 7, 5, 3, 1, 2, 4, 6, 7, 1, 2, 3, 5, 1, 2, 3, 5, 6, 7, 7, 1, 7, 7, 7, 3, 7, 4, 1, 2, 3, 4, 5, 6, 7, 3, 6, 3, 1, 2, 3, 4, 5, 6, 7, 4, 3, 4, 1, 1, 2, 3, 4, 5, 7, 1, 7, 5, 6, 7, 1, 2, 6, 6, 3, 5, 1, 2, 3, 5, 6, 1, 6, 1, 2, 3, 4, 5, 7, 1, 2, 4, 7, 3, 5, 4, 6, 4, 1, 6, 2, 3, 1, 6, 3, 1, 1, 4, 1, 2, 3, 4, 5, 6, 7, 6, 5, 4, 3, 4, 7, 1, 2, 3, 5, 6, 7, 1, 5, 7, 3, 5, 7, 2, 3, 4, 6, 7, 6, 2, 4, 4, 5, 1, 4, 5, 2, 1, 7, 1, 2, 7, 4, 1, 2, 3, 5, 6, 2, 5, 2, 3, 1, 2, 3, 4, 3, 1, 2, 3, 4, 5, 6, 7, 2, 4, 5, 4, 3, 2, 5, 2, 2, 2, 4, 1, 2, 3, 4, 5, 1, 6, 6, 1, 5, 6, 7, 3, 4, 6, 6, 1, 7, 3, 5, 7, 2, 6, 7, 1, 2, 3, 4, 5, 3, 7, 2, 6, 5, 1, 2, 3, 4, 5, 6, 7], \"Freq\": [0.660623520222765, 0.9348721759390862, 0.7047331930929511, 0.6390317834225511, 0.8359837269768037, 0.6623311358393331, 0.33116556791966656, 0.08832554293193086, 0.08832554293193086, 0.7949298863873777, 0.8199985370842404, 0.5914085660378876, 0.6728506804836545, 0.6910515408000549, 0.03334001393392126, 0.06668002786784252, 0.03334001393392126, 0.08335003483480315, 0.5834502438436221, 0.13336005573568505, 0.05001002090088189, 0.5995903245810631, 0.09993172076351052, 0.19986344152702104, 0.19254004295577354, 0.09627002147788677, 0.2888100644336603, 0.09627002147788677, 0.19254004295577354, 0.09627002147788677, 0.09627002147788677, 0.4779980173402752, 0.2389990086701376, 0.1194995043350688, 0.1194995043350688, 0.8716971762901022, 0.7222301650202908, 0.6204682597454815, 0.178670616814825, 0.536011850444475, 0.178670616814825, 0.37877291716656103, 0.8468550328318332, 0.1727016323739162, 0.6908065294956648, 0.6249514118542283, 0.2672905992651834, 0.1336452996325917, 0.1336452996325917, 0.2672905992651834, 0.1336452996325917, 0.6901474807292618, 0.6991632229281025, 0.47149753846550274, 0.9985338976017223, 0.5292559217354892, 0.7856926112600289, 0.8688873757949601, 0.21722184394874003, 0.5184270691354018, 0.9164015230901427, 0.5878974867923065, 0.6359955939900552, 0.6740370364762858, 0.05311827496353444, 0.15935482489060332, 0.21247309985413776, 0.15935482489060332, 0.10623654992706888, 0.15935482489060332, 0.15935482489060332, 0.7188186966057053, 0.10504784938856598, 0.15757177408284898, 0.21009569877713197, 0.262619623471415, 0.10504784938856598, 0.15757177408284898, 0.6030206351745974, 0.20100687839153245, 0.20100687839153245, 0.7854366497828412, 0.56390525159838, 0.18796841719945998, 0.5994045165034532, 0.6945659137930457, 0.7975151602582893, 0.8095367317070261, 0.07547754370842885, 0.11321631556264326, 0.037738771854214426, 0.45286526225057305, 0.037738771854214426, 0.07547754370842885, 0.1509550874168577, 0.7665319332816615, 0.2555106444272205, 0.5090831379907008, 0.3089866398610741, 0.3089866398610741, 0.4987215515247438, 0.3928636422755174, 0.13095454742517246, 0.2619090948503449, 0.13095454742517246, 0.13095454742517246, 0.7296762764583323, 0.1640994310271227, 0.1640994310271227, 0.6563977241084908, 0.1640994310271227, 0.1606490757049685, 0.321298151409937, 0.1606490757049685, 0.1606490757049685, 0.1606490757049685, 0.5229609842013379, 0.6639638318598621, 0.13155159730807578, 0.39465479192422737, 0.13155159730807578, 0.13155159730807578, 0.13155159730807578, 0.6560652242417666, 0.3280326121208833, 0.5184270691354018, 0.726911608161211, 0.11989271387683137, 0.7193562832609882, 0.7261632888179717, 0.2747700808559699, 0.1030387803209887, 0.17173130053498117, 0.17173130053498117, 0.1030387803209887, 0.1030387803209887, 0.06869252021399247, 0.5541822215326935, 0.6077100536145766, 0.3038550268072883, 0.6914734383904411, 0.34573671919522053, 0.2063562068369881, 0.06878540227899603, 0.06878540227899603, 0.13757080455799206, 0.4127124136739762, 0.13757080455799206, 0.06878540227899603, 0.7246903960380484, 0.5152688259137391, 0.1294684182900283, 0.1294684182900283, 0.2589368365800566, 0.3884052548700849, 0.5018044691822718, 0.6934004563086499, 0.7532572537565458, 0.12391113140990785, 0.4956445256396314, 0.12391113140990785, 0.12391113140990785, 0.12391113140990785, 0.773968501982198, 0.1749461044576672, 0.1749461044576672, 0.3498922089153344, 0.1749461044576672, 0.1749461044576672, 0.7921084238319915, 0.10664006095031774, 0.10664006095031774, 0.5332003047515886, 0.10664006095031774, 0.10664006095031774, 0.8397740165337909, 0.2802661393605031, 0.5605322787210062, 0.5456102126312317, 0.5774655137267445, 0.8103878880726504, 0.5872563984325705, 0.16776775959884707, 0.33553551919769414, 0.16776775959884707, 0.16776775959884707, 0.5281469239697602, 0.5209114568324734, 0.17363715227749116, 0.17363715227749116, 0.16328986779328383, 0.32657973558656767, 0.24493480168992574, 0.08164493389664192, 0.08164493389664192, 0.08164493389664192, 0.16806791175589156, 0.5042037352676747, 0.16806791175589156, 0.7754951161907616, 0.6767131485933036, 0.2255710495311012, 0.37360605607638053, 0.37360605607638053, 0.8104014675638963, 0.7109525383603775, 0.7728362901799024, 0.515083443245331, 0.6895349545949547, 0.6030974765973491, 0.15752327811141528, 0.7876163905570764, 0.9674156160009603, 0.7577087039892558, 0.755621922787756, 0.41794463178065694, 0.23882550387466112, 0.11941275193733056, 0.05970637596866528, 0.05970637596866528, 0.05970637596866528, 0.05970637596866528, 0.12442902378159842, 0.04147634126053281, 0.16590536504213124, 0.04147634126053281, 0.24885804756319685, 0.04147634126053281, 0.3732870713447953, 0.17721727155020572, 0.17721727155020572, 0.5316518146506172, 0.17721727155020572, 0.6546846416747586, 0.603737869105668, 0.6915823778992838, 0.6962448558824071, 0.5878974867923065, 0.6201106470707072, 0.2481095289451055, 0.496219057890211, 0.1750874302692294, 0.1750874302692294, 0.3501748605384588, 0.1750874302692294, 0.4015625877331265, 0.4015625877331265, 0.7421499099747905, 0.6051900336555832, 0.8290873968233312, 0.725626171015722, 0.709271041488939, 0.15164972478245803, 0.30329944956491606, 0.15164972478245803, 0.30329944956491606, 0.15164972478245803, 0.3979041355358284, 0.6659715012155759, 0.5577689585432895, 0.2788844792716447, 0.8951733494575747, 0.9073821695732789, 0.4579154503918475, 0.22895772519592375, 0.8358281845346639, 0.3123051995347181, 0.6246103990694362, 0.4611682527686837, 0.23058412638434184, 0.23058412638434184, 0.23058412638434184, 0.45613486742054576, 0.15310710756895532, 0.30621421513791064, 0.30621421513791064, 0.30621421513791064, 0.14860706123479944, 0.2972141224695989, 0.14860706123479944, 0.2972141224695989, 0.14860706123479944, 0.8053914935836259, 0.302600826353023, 0.10086694211767433, 0.10086694211767433, 0.4034677684706973, 0.8288590197003027, 0.35978985134585295, 0.35978985134585295, 0.7784627855850957, 0.9680878037927945, 0.5688226282253505, 0.14725896262597502, 0.7362948131298751, 0.5616614957264997, 0.7063491708929601, 0.5098002852340311, 0.6994003467695776, 0.3676930361164764, 0.3676930361164764, 0.2510490554293542, 0.2510490554293542, 0.5020981108587084, 0.330051880893137, 0.11001729363104565, 0.4400691745241826, 0.14287703917830347, 0.14287703917830347, 0.7143851958915173, 0.8238818745112136, 0.17638650920885515, 0.4703640245569471, 0.11759100613923677, 0.11759100613923677, 0.058795503069618386, 0.058795503069618386, 0.9977831559756833, 0.6841345778114535, 0.07802116383437384, 0.6241693106749907, 0.07802116383437384, 0.07802116383437384, 0.07802116383437384, 0.07802116383437384, 0.20863357005183228, 0.20863357005183228, 0.20863357005183228, 0.41726714010366456, 0.12427042415326241, 0.12427042415326241, 0.12427042415326241, 0.12427042415326241, 0.37281127245978724, 0.24127964877475147, 0.08042654959158382, 0.24127964877475147, 0.16085309918316765, 0.08042654959158382, 0.08042654959158382, 0.16085309918316765, 0.5550398814123568, 0.3943977471303359, 0.29868127260486615, 0.5973625452097323, 0.7411647567198165, 0.24705491890660553, 0.17143011307449074, 0.41143227137877775, 0.15428710176704166, 0.05142903392234722, 0.06857204522979629, 0.10285806784469444, 0.034286022614898146, 0.4870497683342614, 0.5427463121523664, 0.2713731560761832, 0.1293349840905039, 0.1293349840905039, 0.1293349840905039, 0.7760099045430233, 0.7150561413803035, 0.26225150655675644, 0.13112575327837822, 0.13112575327837822, 0.39337725983513466, 0.13112575327837822, 0.13112575327837822, 0.6961601704475892, 0.5184270691354018, 0.552835219211085, 0.5417611600168994, 0.6972172915940819, 0.8382570231199366, 0.5044027312124786, 0.9634241444303157, 0.6156026022358658, 0.5131722667505858, 0.17105742225019527, 0.17105742225019527, 0.20325084805150032, 0.20325084805150032, 0.40650169610300063, 0.45455318776824105, 0.983019924842802, 0.5141848077494948, 0.6097615976940264, 0.6961601704475892, 0.8489809091209478, 0.7804399260288608, 0.2601466420096203, 0.11189500030824792, 0.11189500030824792, 0.22379000061649584, 0.3356850009247438, 0.22379000061649584, 0.11189500030824792, 0.46658263010454754, 0.7047331930929511, 0.6029786931952095, 0.30148934659760473, 0.6418279388769833, 0.6928516045024825, 0.367191807105017, 0.734383614210034, 0.14731868328718914, 0.14731868328718914, 0.2946373665743783, 0.14731868328718914, 0.14731868328718914, 0.14731868328718914, 0.6961601704475892, 0.6943035097153374, 0.741506020792625, 0.09372782096781099, 0.18745564193562197, 0.18745564193562197, 0.28118346290343293, 0.09372782096781099, 0.09372782096781099, 0.47653558341921237, 0.8227517517828757, 0.8563984045099624, 0.8393466557488803, 0.8390137692503649, 0.29876264411829023, 0.09958754803943008, 0.04979377401971504, 0.09958754803943008, 0.19917509607886016, 0.19917509607886016, 0.09958754803943008, 0.729986054008922, 0.5586228390191758, 0.13965570975479394, 0.2793114195095879, 0.13965570975479394, 0.4265282607313269, 0.08926436567582113, 0.1487739427930352, 0.20828351991024932, 0.11901915423442819, 0.2975478855860704, 0.11901915423442819, 0.029754788558607047, 0.4077937535659438, 0.5163332469802867, 0.17312034939245932, 0.08656017469622966, 0.08656017469622966, 0.17312034939245932, 0.34624069878491864, 0.17312034939245932, 0.15964464404148032, 0.053214881347160105, 0.42571905077728084, 0.053214881347160105, 0.21285952538864042, 0.053214881347160105, 0.053214881347160105, 0.6286935420877182, 0.33559617530169045, 0.11186539176723015, 0.11186539176723015, 0.11186539176723015, 0.33559617530169045, 0.6963274372297966, 0.23210914574326552, 0.9179929636364526, 0.5229609842013379, 0.5290032332494723, 0.17633441108315745, 0.35898362716232696, 0.25128853901362885, 0.07179672543246539, 0.10769508814869809, 0.035898362716232694, 0.10769508814869809, 0.07179672543246539, 0.717712619951606, 0.11961876999193433, 0.11961876999193433, 0.20952065280954296, 0.6285619584286288, 0.1221963540087988, 0.1221963540087988, 0.1221963540087988, 0.4887854160351952, 0.1221963540087988, 0.5982284708132142, 0.9970083164065167, 0.5498236513924255, 0.5787857010756233, 0.11575714021512465, 0.2315142804302493, 0.9359524741207024, 0.6813262878923128, 0.92438908442468, 0.7584383166835013, 0.17080119711265002, 0.17080119711265002, 0.11386746474176669, 0.11386746474176669, 0.22773492948353338, 0.11386746474176669, 0.056933732370883346, 0.5393436938096946, 0.1797812312698982, 0.29874269107016355, 0.5974853821403271, 0.7776329480034347, 0.19440823700085869, 0.5124787993300232, 0.6527922395190012, 0.9320677059118347, 0.7897788501010495, 0.26325961670034986, 0.6619376975896591, 0.7161134156412877, 0.1427948634040295, 0.1427948634040295, 0.285589726808059, 0.1427948634040295, 0.285589726808059, 0.16858630188374812, 0.16858630188374812, 0.16858630188374812, 0.33717260376749625, 0.145882724057745, 0.145882724057745, 0.145882724057745, 0.437648172173235, 0.145882724057745, 0.145882724057745, 0.5941160963240991, 0.8220617755391632, 0.6953426018407101, 0.5941160963240991, 0.7218925101001915, 0.2766775766793406, 0.5533551533586812, 0.7787421364753837, 0.2300957766167581, 0.3834929610279301, 0.15339718441117206, 0.07669859220558603, 0.07669859220558603, 0.07669859220558603, 0.07669859220558603, 0.5115279820532425, 0.7646642967660521, 0.7988308503419116, 0.22348313739127398, 0.22348313739127398, 0.16761235304345548, 0.055870784347818496, 0.055870784347818496, 0.11174156869563699, 0.16761235304345548, 0.7259890715353721, 0.6152138725826104, 0.3076069362913052, 0.8939992157200267, 0.13823333818811157, 0.13823333818811157, 0.27646667637622313, 0.13823333818811157, 0.13823333818811157, 0.13823333818811157, 0.612913244703181, 0.8319564222220506, 0.7846884235043424, 0.623139304652542, 0.6179185761042082, 0.9310289809894239, 0.7320752041905724, 0.7598735650604559, 0.643623032293312, 0.40981772994941296, 0.8196354598988259, 0.18577418285478475, 0.4644354571369618, 0.09288709142739238, 0.09288709142739238, 0.09288709142739238, 0.9841306933323408, 0.6562514025280332, 0.14763378993384701, 0.36908447483461754, 0.07381689496692351, 0.14763378993384701, 0.07381689496692351, 0.14763378993384701, 0.16843423574931884, 0.3368684714986377, 0.5053027072479566, 0.16843423574931884, 0.732278613574236, 0.1464557227148472, 0.6961601704475892, 0.6109668092121904, 0.7657464909959639, 0.845544883607429, 0.9529165243287943, 0.8673282155853422, 0.5957051085146033, 0.6523016079251717, 0.9042750304295687, 0.7995850539105148, 0.5938063557500207, 0.7205232849176689, 0.5835717594760643, 0.06953625737157651, 0.20860877211472953, 0.41721754422945906, 0.13907251474315302, 0.06953625737157651, 0.06953625737157651, 0.06953625737157651, 0.491610769202003, 0.6469000200312874, 0.5348498795651405, 0.38655367979502414, 0.38655367979502414, 0.536721055938569, 0.09397364995968244, 0.5638418997580946, 0.09397364995968244, 0.09397364995968244, 0.09397364995968244, 0.09397364995968244, 0.982213739724504, 0.6831581664290274, 0.384951267608298, 0.8080531677878984, 0.6438488221751048, 0.6853854766201535, 0.18205996929831433, 0.18205996929831433, 0.18205996929831433, 0.18205996929831433, 0.36411993859662867, 0.7743781283884624, 0.6739513198549305, 0.16848782996373263, 0.6291265603792874, 0.20970885345976245, 0.9873004626200786, 0.688754484363313, 0.6245010082798076, 0.8235355645089506, 0.6239818712659443, 0.31199093563297214, 0.6172740684228329, 0.20575802280761096, 0.20575802280761096, 0.7004154743774094, 0.363526882609985, 0.09088172065249625, 0.1817634413049925, 0.1817634413049925, 0.09088172065249625, 0.6417122968567693, 0.6888445138404719, 0.30531010103215667, 0.6106202020643133, 0.6506091524337688, 0.1626522881084422, 0.1626522881084422, 0.1626522881084422, 0.6986736885348269, 0.46300532929692106, 0.16836557428978946, 0.16836557428978946, 0.042091393572447365, 0.08418278714489473, 0.08418278714489473, 0.042091393572447365, 0.2156103937003631, 0.4312207874007262, 0.6124185138545835, 0.8045487205389104, 0.6818322984982046, 0.4859196310343116, 0.4503741392373148, 0.6714156462669217, 0.5604529361554852, 0.6327476064303734, 0.40469448570932626, 0.2188220237742812, 0.2188220237742812, 0.3282330356614218, 0.1094110118871406, 0.2188220237742812, 0.9310289809894239, 0.7642170383958717, 0.8401715275399103, 0.21564723665832616, 0.21564723665832616, 0.4312944733166523, 0.21564723665832616, 0.4768373057699981, 0.23841865288499905, 0.7548548914111043, 0.62132614691509, 0.3748692515593798, 0.3748692515593798, 0.46410376215570054, 0.23205188107785027, 0.23205188107785027, 0.666893357502502, 0.7707809427240554, 0.9073013322287031, 0.19019462192827158, 0.2852919328924074, 0.09509731096413579, 0.2852919328924074, 0.09509731096413579, 0.4624286543004524, 0.4624286543004524, 0.6104904931416812, 0.2034968310472271, 0.7657313170449745, 0.10344849568850883, 0.15517274353276325, 0.3620697349097809, 0.05172424784425442, 0.05172424784425442, 0.15517274353276325, 0.10344849568850883], \"Term\": [\"10800\", \"11780\", \"160mil\", \"23\", \"95\", \"abril\", \"abril\", \"acabo\", \"acabo\", \"acabo\", \"acordar\", \"acordir\", \"adelante\", \"adicolor\", \"adida\", \"adida\", \"adida\", \"adida\", \"adida\", \"adida\", \"adida\", \"adidas\", \"adidas\", \"adidas\", \"ahora\", \"ahora\", \"ahora\", \"ahora\", \"ahora\", \"ahora\", \"ahora\", \"alcampo\", \"alcampo\", \"alcampo\", \"alcampo\", \"aldub81stweeksary\", \"alexander\", \"alfajor\", \"alguien\", \"alguien\", \"alguien\", \"algun\", \"alianza\", \"amigo\", \"amigo\", \"anticapitalismo\", \"anuncio\", \"anuncio\", \"anuncio\", \"anuncio\", \"anuncio\", \"aportar\", \"apostar\", \"aprender\", \"argentaria\", \"arquitectura\", \"arranco\", \"arruinaunacitacon4palabra\", \"arruinaunacitacon4palabra\", \"asics\", \"asociacion\", \"asorbaex\", \"atletismo\", \"avisar\", \"banco\", \"banco\", \"banco\", \"banco\", \"banco\", \"banco\", \"banco\", \"bancosantander\", \"bankia\", \"bankia\", \"bankia\", \"bankia\", \"bankia\", \"bankia\", \"bankinter\", \"bankinter\", \"bankinter\", \"banner\", \"barato\", \"barato\", \"batalla\", \"beneficio\", \"best\", \"bilbao\", \"bimbo\", \"bimbo\", \"bimbo\", \"bimbo\", \"bimbo\", \"bimbo\", \"bimbo\", \"bolsa\", \"bolsa\", \"bombazo\", \"boost\", \"boost\", \"bota\", \"buen\", \"buen\", \"buen\", \"buen\", \"buen\", \"buenisima\", \"bueno\", \"bueno\", \"bueno\", \"bueno\", \"buscar\", \"buscar\", \"buscar\", \"buscar\", \"buscar\", \"cabezas\", \"cabronar\", \"caixa\", \"caixa\", \"caixa\", \"caixa\", \"caixa\", \"caixabank\", \"caixabank\", \"cambia\", \"camioneta\", \"camiseta\", \"camiseta\", \"caracas\", \"carrefour\", \"carrefour\", \"carrefour\", \"carrefour\", \"carrefour\", \"carrefour\", \"carrefour\", \"carrefourarg\", \"carrera\", \"carrera\", \"cervecero\", \"cervecero\", \"cerveza\", \"cerveza\", \"cerveza\", \"cerveza\", \"cerveza\", \"cerveza\", \"cerveza\", \"chaval\", \"china\", \"chocolate\", \"chocolate\", \"chocolate\", \"chocolate\", \"chrysler\", \"ciclo\", \"cielo\", \"citroen\", \"citroen\", \"citroen\", \"citroen\", \"citroen\", \"citymuh\", \"claro\", \"claro\", \"claro\", \"claro\", \"claro\", \"clausular\", \"cliente\", \"cliente\", \"cliente\", \"cliente\", \"cliente\", \"club\", \"cobrar\", \"cobrar\", \"coches\", \"colaboracion\", \"color\", \"combinacion\", \"comer\", \"comer\", \"comer\", \"comer\", \"componente\", \"compra\", \"compra\", \"compra\", \"comprar\", \"comprar\", \"comprar\", \"comprar\", \"comprar\", \"comprar\", \"compro\", \"compro\", \"compro\", \"conectividad\", \"conocer\", \"conocer\", \"conseguir\", \"conseguir\", \"consumidor\", \"contratar\", \"conver\", \"conversaci\\u00f3n\", \"copiar\", \"cordoba\", \"corona\", \"corona\", \"correr\", \"creatividad\", \"crudo\", \"cruzcampir\", \"cruzcampir\", \"cruzcampir\", \"cruzcampir\", \"cruzcampir\", \"cruzcampir\", \"cruzcampir\", \"cruzcampo\", \"cruzcampo\", \"cruzcampo\", \"cruzcampo\", \"cruzcampo\", \"cruzcampo\", \"cruzcampo\", \"decathlon\", \"decathlon\", \"decathlon\", \"decathlon\", \"despedir\", \"desvelar\", \"devolver\", \"devolverar\", \"diamundialcontraelcancer\", \"diciembre\", \"digital\", \"digital\", \"dinero\", \"dinero\", \"dinero\", \"dinero\", \"diseno\", \"diseno\", \"donita\", \"dragon\", \"dud\", \"ecologistas\", \"elevar\", \"empleo\", \"empleo\", \"empleo\", \"empleo\", \"empleo\", \"enamorado\", \"encantar\", \"encima\", \"encima\", \"encuentra\", \"entender\", \"entrar\", \"entrar\", \"entrenamiento\", \"entrevista\", \"entrevista\", \"equipo\", \"equipo\", \"equipo\", \"equipo\", \"espanolar\", \"esperar\", \"esperar\", \"esperar\", \"esperar\", \"estar\", \"estar\", \"estar\", \"estar\", \"estar\", \"estrategia\", \"estrella\", \"estrella\", \"estrella\", \"estrella\", \"europeo\", \"excelente\", \"excelente\", \"exico\", \"exigir\", \"fallecer\", \"favor\", \"favor\", \"fernet\", \"finalizar\", \"financie\", \"forjar\", \"futbol\", \"futbol\", \"gala6ghvip5\", \"gala6ghvip5\", \"gala6ghvip5\", \"galicia\", \"galicia\", \"galicia\", \"gana\", \"gana\", \"gana\", \"gastar\", \"gracias\", \"gracias\", \"gracias\", \"gracias\", \"gracias\", \"gracias\", \"graduado\", \"guardar\", \"gustar\", \"gustar\", \"gustar\", \"gustar\", \"gustar\", \"gustar\", \"hablar\", \"hablar\", \"hablar\", \"hablar\", \"hacendado\", \"hacendado\", \"hacendado\", \"hacendado\", \"hacendado\", \"hacer\", \"hacer\", \"hacer\", \"hacer\", \"hacer\", \"hacer\", \"hacer\", \"hamburgo\", \"hasta\", \"haz\", \"haz\", \"hecho\", \"hecho\", \"heineken\", \"heineken\", \"heineken\", \"heineken\", \"heineken\", \"heineken\", \"heineken\", \"heladera\", \"historia\", \"historia\", \"hombre\", \"hombre\", \"hombre\", \"hombre\", \"huele\", \"hyundai\", \"hyundai\", \"hyundai\", \"hyundai\", \"hyundai\", \"hyundai\", \"ibex\", \"imelda\", \"independiente\", \"ingreso\", \"iniciar\", \"innovador\", \"intentar\", \"intercambiar\", \"invertir\", \"ir\", \"ir\", \"ir\", \"jajaja\", \"jajaja\", \"jajaja\", \"jajajaj\", \"jejejar\", \"kenia\", \"lado\", \"liberbank\", \"libro\", \"lindo\", \"lindo\", \"llegar\", \"llegar\", \"llegar\", \"llegar\", \"llegar\", \"llegar\", \"lleva\", \"lunarlon\", \"maestro\", \"maestro\", \"malaga\", \"mallas\", \"mandar\", \"mandar\", \"man\\u00e1n\", \"man\\u00e1n\", \"man\\u00e1n\", \"man\\u00e1n\", \"man\\u00e1n\", \"man\\u00e1n\", \"mapfre\", \"maquillaje\", \"maquina\", \"marca\", \"marca\", \"marca\", \"marca\", \"marca\", \"marca\", \"marcos\", \"mccarthy\", \"mcflurry\", \"mecanico\", \"mediamarkt\", \"mejor\", \"mejor\", \"mejor\", \"mejor\", \"mejor\", \"mejor\", \"mejor\", \"mencionar\", \"menos\", \"menos\", \"menos\", \"menos\", \"mercado\", \"mercadona\", \"mercadona\", \"mercadona\", \"mercadona\", \"mercadona\", \"mercadona\", \"mercadona\", \"mes\", \"mientras\", \"milka\", \"milka\", \"milka\", \"milka\", \"milka\", \"milka\", \"milko\", \"milko\", \"milko\", \"milko\", \"milko\", \"milko\", \"milko\", \"millonario\", \"mismo\", \"mismo\", \"mismo\", \"mismo\", \"mismo\", \"momento\", \"momento\", \"montar\", \"mosiri\", \"motor\", \"motor\", \"movistar\", \"movistar\", \"movistar\", \"movistar\", \"movistar\", \"movistar\", \"movistar\", \"mueble\", \"mueble\", \"mueble\", \"mujer\", \"mujer\", \"mundo\", \"mundo\", \"mundo\", \"mundo\", \"mundo\", \"name\", \"napaacc\", \"necesidad\", \"necesitar\", \"necesitar\", \"necesitar\", \"negociaci\\u00f3n\", \"negro\", \"nikeplus\", \"novia\", \"nuevo\", \"nuevo\", \"nuevo\", \"nuevo\", \"nuevo\", \"nuevo\", \"nuevo\", \"ofrecer\", \"ofrecer\", \"olimpia\", \"olimpia\", \"online\", \"online\", \"oportunidad\", \"ordinario\", \"organizado\", \"osito\", \"osito\", \"pabelloneuropa\", \"padre\", \"pagar\", \"pagar\", \"pagar\", \"pagar\", \"pagar\", \"panguir\", \"panguir\", \"panguir\", \"panguir\", \"parecer\", \"parecer\", \"parecer\", \"parecer\", \"parecer\", \"parecer\", \"parra\", \"pasate\", \"patrocinado\", \"patta\", \"pbbpadaluckmayward\", \"pedir\", \"pedir\", \"pequeno\", \"peugeot\", \"peugeot\", \"peugeot\", \"peugeot\", \"peugeot\", \"peugeot\", \"peugeot\", \"pillar\", \"pinto\", \"piso\", \"poder\", \"poder\", \"poder\", \"poder\", \"poder\", \"poder\", \"poder\", \"pongo\", \"porque\", \"porque\", \"posible\", \"precio\", \"precio\", \"precio\", \"precio\", \"precio\", \"precio\", \"prefier\", \"premiado\", \"presento\", \"presionar\", \"presto\", \"proace\", \"probado\", \"promoci\\u00f3n\", \"proyecto\", \"puleva\", \"puleva\", \"quedar\", \"quedar\", \"quedar\", \"quedar\", \"quedar\", \"queja\", \"quejandote\", \"querer\", \"querer\", \"querer\", \"querer\", \"querer\", \"querer\", \"quien\", \"quien\", \"quien\", \"quien\", \"quiero\", \"quiero\", \"quincenal\", \"rebook\", \"recibo\", \"reclamo\", \"refugiado\", \"reparacion\", \"reserva\", \"resto\", \"ritmo\", \"romeo\", \"rrhh\", \"sabes\", \"saldo\", \"santander\", \"santander\", \"santander\", \"santander\", \"santander\", \"santander\", \"santander\", \"sector\", \"sed\\u00e1n\", \"semanal\", \"senoro\", \"senoro\", \"shoes\", \"siempre\", \"siempre\", \"siempre\", \"siempre\", \"siempre\", \"siempre\", \"siglo\", \"sintonia\", \"social\", \"soltar\", \"sudaderillar\", \"suede\", \"suelo\", \"suelo\", \"suelo\", \"suelo\", \"suelo\", \"superga\", \"supermercado\", \"supermercado\", \"superstar\", \"superstar\", \"suzuki\", \"table\", \"talla\", \"taller\", \"tampoco\", \"tampoco\", \"tecnologia\", \"tecnologia\", \"tecnologia\", \"teneis\", \"tener\", \"tener\", \"tener\", \"tener\", \"tener\", \"tercero\", \"terelu\", \"tobalar\", \"tobalar\", \"tomar\", \"tomar\", \"tomar\", \"tomar\", \"tomarme\", \"toyota\", \"toyota\", \"toyota\", \"toyota\", \"toyota\", \"toyota\", \"toyota\", \"trabajar\", \"trabajar\", \"training\", \"transformacion\", \"turquia\", \"t\\u00fa\", \"ultra\", \"usado\", \"vacante\", \"valle\", \"vehiculo\", \"vender\", \"vender\", \"vender\", \"vender\", \"vender\", \"verso\", \"vestiditar\", \"vestido\", \"vez\", \"vez\", \"vez\", \"vez\", \"viernes\", \"viernes\", \"vivar\", \"vivienda\", \"vizcaya\", \"vizcaya\", \"volver\", \"volver\", \"volver\", \"wallapop\", \"wawsberghe\", \"yeezy\", \"yo\", \"yo\", \"yo\", \"yo\", \"yo\", \"yogur\", \"yogur\", \"zapatilla\", \"zapatilla\", \"zapatillas\", \"\\u00e9l\", \"\\u00e9l\", \"\\u00e9l\", \"\\u00e9l\", \"\\u00e9l\", \"\\u00e9l\", \"\\u00e9l\"]}, \"R\": 30, \"lambda.step\": 0.01, \"plot.opts\": {\"xlab\": \"PC1\", \"ylab\": \"PC2\"}, \"topic.order\": [1, 5, 3, 2, 4, 6, 7]};\n",
              "\n",
              "function LDAvis_load_lib(url, callback){\n",
              "  var s = document.createElement('script');\n",
              "  s.src = url;\n",
              "  s.async = true;\n",
              "  s.onreadystatechange = s.onload = callback;\n",
              "  s.onerror = function(){console.warn(\"failed to load library \" + url);};\n",
              "  document.getElementsByTagName(\"head\")[0].appendChild(s);\n",
              "}\n",
              "\n",
              "if(typeof(LDAvis) !== \"undefined\"){\n",
              "   // already loaded: just create the visualization\n",
              "   !function(LDAvis){\n",
              "       new LDAvis(\"#\" + \"ldavis_el22741349205773466725223501391\", ldavis_el22741349205773466725223501391_data);\n",
              "   }(LDAvis);\n",
              "}else if(typeof define === \"function\" && define.amd){\n",
              "   // require.js is available: use it to load d3/LDAvis\n",
              "   require.config({paths: {d3: \"https://d3js.org/d3.v5\"}});\n",
              "   require([\"d3\"], function(d3){\n",
              "      window.d3 = d3;\n",
              "      LDAvis_load_lib(\"https://cdn.jsdelivr.net/gh/bmabey/pyLDAvis@3.4.0/pyLDAvis/js/ldavis.v3.0.0.js\", function(){\n",
              "        new LDAvis(\"#\" + \"ldavis_el22741349205773466725223501391\", ldavis_el22741349205773466725223501391_data);\n",
              "      });\n",
              "    });\n",
              "}else{\n",
              "    // require.js not available: dynamically load d3 & LDAvis\n",
              "    LDAvis_load_lib(\"https://d3js.org/d3.v5.js\", function(){\n",
              "         LDAvis_load_lib(\"https://cdn.jsdelivr.net/gh/bmabey/pyLDAvis@3.4.0/pyLDAvis/js/ldavis.v3.0.0.js\", function(){\n",
              "                 new LDAvis(\"#\" + \"ldavis_el22741349205773466725223501391\", ldavis_el22741349205773466725223501391_data);\n",
              "            })\n",
              "         });\n",
              "}\n",
              "</script>"
            ]
          },
          "metadata": {},
          "execution_count": 41
        }
      ]
    },
    {
      "cell_type": "markdown",
      "source": [
        "Para más informacións sobre la librería `pyLDAvis`, se recomienda la lectura [del papaer original](http://nlp.stanford.edu/events/illvi2014/papers/sievert-illvi2014.pdf) el cual fué presentado en la conferencia [*ACL Workshop on Interactive Language Learning, Visualization, and Interfaces*](http://nlp.stanford.edu/events/illvi2014/) en Baltimore el June 27, 2014."
      ],
      "metadata": {
        "id": "XZ8bz63cwLrn"
      }
    }
  ],
  "metadata": {
    "colab": {
      "name": "Topic Modeling.ipynb",
      "provenance": []
    },
    "interpreter": {
      "hash": "bea38c2984299ac640e8421861d34b2e05ee614f6236d2975c05eeb77366835f"
    },
    "kernelspec": {
      "display_name": "Python 3 (ipykernel)",
      "language": "python",
      "name": "python3"
    },
    "language_info": {
      "codemirror_mode": {
        "name": "ipython",
        "version": 3
      },
      "file_extension": ".py",
      "mimetype": "text/x-python",
      "name": "python",
      "nbconvert_exporter": "python",
      "pygments_lexer": "ipython3",
      "version": "3.8.11"
    }
  },
  "nbformat": 4,
  "nbformat_minor": 0
}