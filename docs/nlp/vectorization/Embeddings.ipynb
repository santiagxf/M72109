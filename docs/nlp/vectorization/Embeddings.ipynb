{
 "cells": [
  {
   "cell_type": "markdown",
   "source": [
    "Vectorizado con vectores densos (embeddings)\n",
    "============================================"
   ],
   "metadata": {}
  },
  {
   "cell_type": "markdown",
   "source": [
    "Proximamente."
   ],
   "metadata": {}
  }
 ],
 "metadata": {
  "orig_nbformat": 4,
  "language_info": {
   "name": "python"
  }
 },
 "nbformat": 4,
 "nbformat_minor": 2
}