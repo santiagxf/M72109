{
 "cells": [
  {
   "cell_type": "markdown",
   "metadata": {
    "colab_type": "text",
    "id": "Qkn7viE5wKIa"
   },
   "source": [
    "```\n",
    "ME72: Maestría en Métodos Cuantitativos para la Gestión y Análisis de Datos\n",
    "M72109: Analisis de datos no estructurados\n",
    "Universidad de Buenos Aires - Facultad de Ciencias Economicas (UBA-FCE)\n",
    "Año: 2020\n",
    "Profesor: Facundo Santiago, Javier Ignacio Garcia Fronti\n",
    "```"
   ]
  },
  {
   "cell_type": "markdown",
   "metadata": {
    "colab_type": "text",
    "id": "iKENeWEEwKIb"
   },
   "source": [
    "\n",
    "# Desafio de memorabilidad: Utilizando NLP"
   ]
  },
  {
   "cell_type": "markdown",
   "metadata": {
    "colab_type": "text",
    "id": "sT_t9OxYwKIc"
   },
   "source": [
    "En este notebook, intentaremos resolver el problema de regresión planteado como desafío de la materia utilizando las técnicas aprendidas de NLP."
   ]
  },
  {
   "cell_type": "markdown",
   "metadata": {
    "id": "IXdA6Yg761jz"
   },
   "source": [
    "## Preparación del ambiente"
   ]
  },
  {
   "cell_type": "markdown",
   "metadata": {
    "id": "4mIgYB7261kS"
   },
   "source": [
    "### NLP"
   ]
  },
  {
   "cell_type": "code",
   "execution_count": null,
   "metadata": {
    "id": "kNeu_Nue61kT"
   },
   "outputs": [],
   "source": [
    "!wget -N https://raw.githubusercontent.com/santiagxf/M72109/master/NLP/Utils/TextDataset.py --directory-prefix ./Utils/\n",
    "!wget -N https://raw.githubusercontent.com/santiagxf/M72109/master/NLP/Utils/TextNormalizer.py --directory-prefix ./Utils/\n",
    "!wget -N https://raw.githubusercontent.com/santiagxf/M72109/master/NLP/Utils/PadSequenceTransformer.py --directory-prefix ./Utils/\n",
    "!wget -N https://raw.githubusercontent.com/santiagxf/M72109/master/NLP/Utils/Word2VecVectorizer.py --directory-prefix ./Utils/"
   ]
  },
  {
   "cell_type": "code",
   "execution_count": null,
   "metadata": {
    "id": "mYch8GOa61kY"
   },
   "outputs": [],
   "source": [
    "!pip install transformers\n",
    "!pip install unidecode\n",
    "!python -m spacy download es_core_news_sm"
   ]
  },
  {
   "cell_type": "markdown",
   "metadata": {
    "id": "QZrG1xI-61j0"
   },
   "source": [
    "### Sets de datos"
   ]
  },
  {
   "cell_type": "code",
   "execution_count": null,
   "metadata": {
    "id": "3Xb7yWkB61j1"
   },
   "outputs": [],
   "source": [
    "!wget -N https://raw.githubusercontent.com/santiagxf/M72109/master/Desafio/Data/ground_truth.csv --directory-prefix ./Data/\n",
    "!wget -N https://raw.githubusercontent.com/santiagxf/M72109/master/Desafio/Data/Features/caption_features.csv --directory-prefix ./Data/Features/"
   ]
  },
  {
   "cell_type": "markdown",
   "metadata": {
    "id": "Ucs_gunq61ku"
   },
   "source": [
    "## Solución"
   ]
  },
  {
   "cell_type": "markdown",
   "metadata": {
    "colab_type": "text",
    "id": "_gBXNzwYwKIu"
   },
   "source": [
    "Cargamos el set de datos"
   ]
  },
  {
   "cell_type": "code",
   "execution_count": 1,
   "metadata": {
    "colab": {},
    "colab_type": "code",
    "id": "I8vqJD9JwKIv"
   },
   "outputs": [],
   "source": [
    "import pandas as pd\n",
    "\n",
    "labels = pd.read_csv('Datasets/memorability/ground_truth.csv')\n",
    "cc = pd.read_csv('Datasets/memorability/caption_features.csv', names=['sequence_name','cc'], header=0)"
   ]
  },
  {
   "cell_type": "markdown",
   "metadata": {},
   "source": [
    "Nos quedamos solo con las variables que nos interesan:"
   ]
  },
  {
   "cell_type": "code",
   "execution_count": 2,
   "metadata": {},
   "outputs": [],
   "source": [
    "df = pd.concat([cc['cc'], labels['memorabable']], axis=1)"
   ]
  },
  {
   "cell_type": "markdown",
   "metadata": {},
   "source": [
    "Dividimos nuestros datos en Train y Test"
   ]
  },
  {
   "cell_type": "code",
   "execution_count": 3,
   "metadata": {
    "colab": {},
    "colab_type": "code",
    "id": "q-9nkTp9wKIy"
   },
   "outputs": [],
   "source": [
    "from sklearn.model_selection import train_test_split\n",
    "\n",
    "X_train, X_test, y_train, y_test = train_test_split(df['cc'], df['memorabable'], \n",
    "                                                    test_size=0.33)"
   ]
  },
  {
   "cell_type": "markdown",
   "metadata": {},
   "source": [
    "### Resolviendo las limitaciones de BERT"
   ]
  },
  {
   "cell_type": "markdown",
   "metadata": {},
   "source": [
    "BERT es un modelo con un consumo importante de memoria (escala de forma cuadrática con el número de tokens). La implementación base de BERT está limitada a 512 tokens de entrada y por lo tanto secuencias más largas deberán se ser tratadas"
   ]
  },
  {
   "cell_type": "code",
   "execution_count": 4,
   "metadata": {},
   "outputs": [],
   "source": [
    "from sklearn.model_selection import train_test_split\n",
    "\n",
    "train, test = train_test_split(df, test_size=0.33)"
   ]
  },
  {
   "cell_type": "code",
   "execution_count": 5,
   "metadata": {},
   "outputs": [
    {
     "data": {
      "text/plain": [
       "(442, 2)"
      ]
     },
     "execution_count": 5,
     "metadata": {},
     "output_type": "execute_result"
    }
   ],
   "source": [
    "train.shape"
   ]
  },
  {
   "cell_type": "markdown",
   "metadata": {},
   "source": [
    "Hasta este momento tenemos 2 dataframes, uno para entrenamiento y uno para testing donde en cada uno disponemos de la columna de texto junto con su memorabilidad. Sin embargo, la columna de texto tiene más de 512 palabras y por lo tanto BERT no podrá procesarla por completo. Existen varias formas de resolver este problema, el paper [https://arxiv.org/abs/1905.05583] comenta varias alternativas, entre ellas:\n",
    " - Utilizando un modelo que opere sobre secuencias más largas: <a href='https://huggingface.co/transformers/model_doc/reformer.html' target='_blank'>Reformer</a>, <a href='https://huggingface.co/transformers/model_doc/longformer.html' target='_blank'>Longformer</a>\n",
    " - Ejecutar BERT sobre subsecuencias más pequeñas y luego entrenar un metamodelo que tome las predicciones de cada secuencia y las combine (LSTM).\n",
    " - Dividir la secuencia en subsecuencias y retener el contexto.\n",
    " \n",
    "Mostraremos como lograr 3 en este ejemplo:"
   ]
  },
  {
   "cell_type": "markdown",
   "metadata": {},
   "source": [
    "#### Dividir las secuencias en subsecuencias"
   ]
  },
  {
   "cell_type": "markdown",
   "metadata": {},
   "source": [
    "`split_to_sequences`:\n",
    "\n",
    "Toma un texto de cantidad arbitraria de palabras y lo transforma en un arreglo de M textos o secuencias donde cada secuencia tiene como máximo `sequence_len` palabras. Cada secuencia comienza con `sequence_len - text_len` palabras de la secuencia anterior para poder retener el contexto de la oración, generando así un `rolling window` \n",
    "\n",
    "Como ejemplo, la siguiente imágen muestra un texto donde se aplicó esta transformación utilizando `sequence_len=5` y `text_len=2`\n",
    "\n",
    "<img src='../NLP/Docs/rolling_text.png' />"
   ]
  },
  {
   "cell_type": "code",
   "execution_count": 6,
   "metadata": {},
   "outputs": [],
   "source": [
    "import numpy as np\n",
    "\n",
    "def split_to_sequences(text, text_len=150, sequence_len=200):\n",
    "    assert(text_len<sequence_len)\n",
    "    \n",
    "    sequences = []\n",
    "    l_parcial = []\n",
    "    \n",
    "    if len(text.split())//text_len>0:\n",
    "        nb_sequences = len(text.split())//text_len\n",
    "    else: \n",
    "        nb_sequences = 1\n",
    "    \n",
    "    for seq in range(nb_sequences):\n",
    "        if seq == 0:\n",
    "            l_parcial = text.split()[:sequence_len]\n",
    "            sequences.append(\" \".join(l_parcial))\n",
    "        else:\n",
    "            l_parcial = text.split()[seq*text_len:seq*text_len + sequence_len]\n",
    "            sequences.append(\" \".join(l_parcial))\n",
    "    \n",
    "    return np.array(sequences)"
   ]
  },
  {
   "cell_type": "markdown",
   "metadata": {},
   "source": [
    "Verifiquemos como se aplica en uno de los textos que tenemos disponibles"
   ]
  },
  {
   "cell_type": "code",
   "execution_count": 8,
   "metadata": {},
   "outputs": [
    {
     "data": {
      "text/plain": [
       "(6,)"
      ]
     },
     "execution_count": 8,
     "metadata": {},
     "output_type": "execute_result"
    }
   ],
   "source": [
    "split_to_sequences(train['cc'][6]).shape"
   ]
  },
  {
   "cell_type": "markdown",
   "metadata": {},
   "source": [
    "Apliquemoslo sobre todo el dataset:"
   ]
  },
  {
   "cell_type": "code",
   "execution_count": 9,
   "metadata": {},
   "outputs": [
    {
     "name": "stderr",
     "output_type": "stream",
     "text": [
      "/anaconda/envs/nlp-py38/lib/python3.8/site-packages/pandas/core/indexing.py:1745: SettingWithCopyWarning: \n",
      "A value is trying to be set on a copy of a slice from a DataFrame.\n",
      "Try using .loc[row_indexer,col_indexer] = value instead\n",
      "\n",
      "See the caveats in the documentation: https://pandas.pydata.org/pandas-docs/stable/user_guide/indexing.html#returning-a-view-versus-a-copy\n",
      "  isetter(ilocs[0], value)\n"
     ]
    }
   ],
   "source": [
    "train.loc[:,'cc'] = train.cc.apply(split_to_sequences)\n",
    "test.loc[:,'cc'] = test.cc.apply(split_to_sequences)"
   ]
  },
  {
   "cell_type": "code",
   "execution_count": 10,
   "metadata": {},
   "outputs": [
    {
     "data": {
      "text/plain": [
       "array(['a man in a suit and tie standing in front of a building. a man holding a cat in his hand. a black and white photo of a cat and a cat. a man in a suit and tie standing in front of a building. a close up of a black and white photo of a bird. a man laying on a bed with a cat. a close up of a person holding a cell phone. a man in a suit and tie is holding a cell phone. a man laying on a bed with a dog. a person holding a cell phone in their handa man in a suit and tie standing in front of a building. a man holding a cat in his hand. a black and white photo of a cat and a cat. a man in a suit and tie standing in front of a building. a close up of a black and white photo of a bird. a man laying on a bed with a cat. a close up of a person holding a cell phone. a man in a suit and tie is holding a cell phone. a man laying on a bed with',\n",
       "       'a close up of a black and white photo of a bird. a man laying on a bed with a cat. a close up of a person holding a cell phone. a man in a suit and tie is holding a cell phone. a man laying on a bed with a dog. a person holding a cell phone in their handa man in a suit and tie standing in front of a building. a man holding a cat in his hand. a black and white photo of a cat and a cat. a man in a suit and tie standing in front of a building. a close up of a black and white photo of a bird. a man laying on a bed with a cat. a close up of a person holding a cell phone. a man in a suit and tie is holding a cell phone. a man laying on a bed with a dog. a person holding a cell phone in their handa man in a suit and tie standing in front of a building. a man holding a cat in his hand. a black and white photo of a cat and a cat. a man in',\n",
       "       'laying on a bed with a dog. a person holding a cell phone in their handa man in a suit and tie standing in front of a building. a man holding a cat in his hand. a black and white photo of a cat and a cat. a man in a suit and tie standing in front of a building. a close up of a black and white photo of a bird. a man laying on a bed with a cat. a close up of a person holding a cell phone. a man in a suit and tie is holding a cell phone. a man laying on a bed with a dog. a person holding a cell phone in their handa man in a suit and tie standing in front of a building. a man holding a cat in his hand. a black and white photo of a cat and a cat. a man in a suit and tie standing in front of a building. a close up of a black and white photo of a bird. a man laying on a bed with a cat. a close up of a person holding a cell phone. a man in a',\n",
       "       'a cat. a man in a suit and tie standing in front of a building. a close up of a black and white photo of a bird. a man laying on a bed with a cat. a close up of a person holding a cell phone. a man in a suit and tie is holding a cell phone. a man laying on a bed with a dog. a person holding a cell phone in their handa man in a suit and tie standing in front of a building. a man holding a cat in his hand. a black and white photo of a cat and a cat. a man in a suit and tie standing in front of a building. a close up of a black and white photo of a bird. a man laying on a bed with a cat. a close up of a person holding a cell phone. a man in a suit and tie is holding a cell phone. a man laying on a bed with a dog. a person holding a cell phone in their handa man in a suit and tie standing in front of a building. a man holding a cat in his',\n",
       "       'phone. a man in a suit and tie is holding a cell phone. a man laying on a bed with a dog. a person holding a cell phone in their handa man in a suit and tie standing in front of a building. a man holding a cat in his hand. a black and white photo of a cat and a cat. a man in a suit and tie standing in front of a building. a close up of a black and white photo of a bird. a man laying on a bed with a cat. a close up of a person holding a cell phone. a man in a suit and tie is holding a cell phone. a man laying on a bed with a dog. a person holding a cell phone in their handa man in a suit and tie standing in front of a building. a man holding a cat in his hand. a black and white photo of a cat and a cat. a man in a suit and tie standing in front of a building. a close up of a black and white photo of a bird. a man laying on a bed with a',\n",
       "       'holding a cat in his hand. a black and white photo of a cat and a cat. a man in a suit and tie standing in front of a building. a close up of a black and white photo of a bird. a man laying on a bed with a cat. a close up of a person holding a cell phone. a man in a suit and tie is holding a cell phone. a man laying on a bed with a dog. a person holding a cell phone in their handa man in a suit and tie standing in front of a building. a man holding a cat in his hand. a black and white photo of a cat and a cat. a man in a suit and tie standing in front of a building. a close up of a black and white photo of a bird. a man laying on a bed with a cat. a close up of a person holding a cell phone. a man in a suit and tie is holding a cell phone. a man laying on a bed with a dog. a person holding a cell phone in their handa man in a suit',\n",
       "       'on a bed with a cat. a close up of a person holding a cell phone. a man in a suit and tie is holding a cell phone. a man laying on a bed with a dog. a person holding a cell phone in their handa man in a suit and tie standing in front of a building. a man holding a cat in his hand. a black and white photo of a cat and a cat. a man in a suit and tie standing in front of a building. a close up of a black and white photo of a bird. a man laying on a bed with a cat. a close up of a person holding a cell phone. a man in a suit and tie is holding a cell phone. a man laying on a bed with a dog. a person holding a cell phone in their hand'],\n",
       "      dtype='<U846')"
      ]
     },
     "execution_count": 10,
     "metadata": {},
     "output_type": "execute_result"
    }
   ],
   "source": [
    "train['cc'][0]"
   ]
  },
  {
   "cell_type": "markdown",
   "metadata": {},
   "source": [
    "#### Generando un nuevo dataset para entrenar el modelo"
   ]
  },
  {
   "cell_type": "markdown",
   "metadata": {},
   "source": [
    "Hasta el momento disponemos de un dataset donde una de sus columnas es un arreglo de secuencias de texto. Esta estructura de datos no puede ser utilizada con un modelo de procesamiento de texto y por lo tanto es necesario \"aplanarla\". Esto quiere decir que debemos convertir los elementos del arreglo en filas de nuestro dataset."
   ]
  },
  {
   "cell_type": "markdown",
   "metadata": {},
   "source": [
    "El método `explode` transforma un data frame donde una de sus columnas es un arreglo, en otro data frame donde los elementos del arreglo se transforman en filas y los restantes valores son duplicados. Este método nos ayudará en este caso a que todas las subsecuencias que se generaron de la misma secuencia reciban el mismo `memorability_score`. El efecto de explode es el siguiente:\n",
    "\n",
    "<img src='../NLP/Docs/explode.png' />"
   ]
  },
  {
   "cell_type": "code",
   "execution_count": 11,
   "metadata": {},
   "outputs": [],
   "source": [
    "train = train.explode('cc').reset_index(drop=True)\n",
    "test = test.explode('cc').reset_index()"
   ]
  },
  {
   "cell_type": "code",
   "execution_count": 12,
   "metadata": {},
   "outputs": [
    {
     "data": {
      "text/plain": [
       "(2666, 2)"
      ]
     },
     "execution_count": 12,
     "metadata": {},
     "output_type": "execute_result"
    }
   ],
   "source": [
    "train.shape"
   ]
  },
  {
   "cell_type": "markdown",
   "metadata": {},
   "source": [
    "Resultado final"
   ]
  },
  {
   "cell_type": "code",
   "execution_count": 13,
   "metadata": {},
   "outputs": [
    {
     "data": {
      "text/html": [
       "<div>\n",
       "<style scoped>\n",
       "    .dataframe tbody tr th:only-of-type {\n",
       "        vertical-align: middle;\n",
       "    }\n",
       "\n",
       "    .dataframe tbody tr th {\n",
       "        vertical-align: top;\n",
       "    }\n",
       "\n",
       "    .dataframe thead th {\n",
       "        text-align: right;\n",
       "    }\n",
       "</style>\n",
       "<table border=\"1\" class=\"dataframe\">\n",
       "  <thead>\n",
       "    <tr style=\"text-align: right;\">\n",
       "      <th></th>\n",
       "      <th>cc</th>\n",
       "      <th>memorabable</th>\n",
       "    </tr>\n",
       "  </thead>\n",
       "  <tbody>\n",
       "    <tr>\n",
       "      <th>0</th>\n",
       "      <td>a woman taking a selfie in a mirror. a woman i...</td>\n",
       "      <td>1</td>\n",
       "    </tr>\n",
       "    <tr>\n",
       "      <th>1</th>\n",
       "      <td>a mirror. a person is taking a picture of a mi...</td>\n",
       "      <td>1</td>\n",
       "    </tr>\n",
       "    <tr>\n",
       "      <th>2</th>\n",
       "      <td>herself in the mirror. a woman taking a selfie...</td>\n",
       "      <td>1</td>\n",
       "    </tr>\n",
       "    <tr>\n",
       "      <th>3</th>\n",
       "      <td>a picture of himself in the mirror. a person t...</td>\n",
       "      <td>1</td>\n",
       "    </tr>\n",
       "    <tr>\n",
       "      <th>4</th>\n",
       "      <td>taking a picture of himself in the mirror. a m...</td>\n",
       "      <td>1</td>\n",
       "    </tr>\n",
       "    <tr>\n",
       "      <th>5</th>\n",
       "      <td>a person is taking a picture of themselves in ...</td>\n",
       "      <td>1</td>\n",
       "    </tr>\n",
       "    <tr>\n",
       "      <th>6</th>\n",
       "      <td>a man sitting in front of a laptop computer. a...</td>\n",
       "      <td>0</td>\n",
       "    </tr>\n",
       "    <tr>\n",
       "      <th>7</th>\n",
       "      <td>people standing around a desk with a laptop. a...</td>\n",
       "      <td>0</td>\n",
       "    </tr>\n",
       "    <tr>\n",
       "      <th>8</th>\n",
       "      <td>a room. a man sitting in front of a laptop com...</td>\n",
       "      <td>0</td>\n",
       "    </tr>\n",
       "    <tr>\n",
       "      <th>9</th>\n",
       "      <td>laptop computer. a man sitting in front of a l...</td>\n",
       "      <td>0</td>\n",
       "    </tr>\n",
       "  </tbody>\n",
       "</table>\n",
       "</div>"
      ],
      "text/plain": [
       "                                                  cc  memorabable\n",
       "0  a woman taking a selfie in a mirror. a woman i...            1\n",
       "1  a mirror. a person is taking a picture of a mi...            1\n",
       "2  herself in the mirror. a woman taking a selfie...            1\n",
       "3  a picture of himself in the mirror. a person t...            1\n",
       "4  taking a picture of himself in the mirror. a m...            1\n",
       "5  a person is taking a picture of themselves in ...            1\n",
       "6  a man sitting in front of a laptop computer. a...            0\n",
       "7  people standing around a desk with a laptop. a...            0\n",
       "8  a room. a man sitting in front of a laptop com...            0\n",
       "9  laptop computer. a man sitting in front of a l...            0"
      ]
     },
     "execution_count": 13,
     "metadata": {},
     "output_type": "execute_result"
    }
   ],
   "source": [
    "train.head(10)"
   ]
  },
  {
   "cell_type": "code",
   "execution_count": null,
   "metadata": {},
   "outputs": [],
   "source": []
  }
 ],
 "metadata": {
  "colab": {
   "name": "BERT - Fine-tunning.ipynb",
   "provenance": [],
   "toc_visible": true
  },
  "kernel_info": {
   "name": "nlp-py38"
  },
  "kernelspec": {
   "display_name": "NLP (Python 3.8)",
   "language": "python",
   "name": "nlp-py38"
  },
  "language_info": {
   "codemirror_mode": {
    "name": "ipython",
    "version": 3
   },
   "file_extension": ".py",
   "mimetype": "text/x-python",
   "name": "python",
   "nbconvert_exporter": "python",
   "pygments_lexer": "ipython3",
   "version": "3.8.5"
  },
  "nteract": {
   "version": "nteract-front-end@1.0.0"
  },
  "widgets": {
   "application/vnd.jupyter.widget-state+json": {}
  }
 },
 "nbformat": 4,
 "nbformat_minor": 4
}
